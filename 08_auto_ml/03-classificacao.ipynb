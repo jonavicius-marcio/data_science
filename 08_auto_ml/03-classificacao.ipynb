{
 "cells": [
  {
   "cell_type": "markdown",
   "metadata": {
    "colab_type": "text",
    "id": "Y57RMM1LEQmR"
   },
   "source": [
    "#  <span style=\"color:blue\">AutoML com Pycaret</span>"
   ]
  },
  {
   "cell_type": "markdown",
   "metadata": {
    "colab_type": "text",
    "id": "GM-nQ7LqEQma",
    "tags": []
   },
   "source": [
    "\n",
    "## 1.1 Instalando o PyCaret\n",
    "\n",
    "#### Instalando o PyCaret \n",
    "`!pip install pycaret`\n",
    "\n",
    "\n",
    "## 1.2 Pré-Requisitos\n",
    "- Python 3.6 ou superior\n",
    "- Conexão com a internet para carregar dados a partir do repositório do Pycaret.\n",
    "\n",
    "## 1.3 No Google colab execute:\n",
    "`from pycaret.utils import enable_colab` <br/>\n",
    "`enable_colab()`"
   ]
  },
  {
   "cell_type": "markdown",
   "metadata": {
    "colab_type": "text",
    "id": "XC3kSuueEQmh"
   },
   "source": [
    "#### Carregando o módulo de classificação e a função para buscar dados."
   ]
  },
  {
   "cell_type": "code",
   "execution_count": 2,
   "metadata": {
    "jupyter": {
     "outputs_hidden": true
    }
   },
   "outputs": [],
   "source": [
    "from pycaret.classification import *\n",
    "from pycaret.datasets import get_data\n",
    "import pandas as pd"
   ]
  },
  {
   "cell_type": "markdown",
   "metadata": {
    "colab_type": "text",
    "id": "aAKRo-EbEQml"
   },
   "source": [
    "# Conjunto de dados utilizado."
   ]
  },
  {
   "cell_type": "markdown",
   "metadata": {
    "colab_type": "text",
    "id": "VLKxlFjrEQmq",
    "tags": []
   },
   "source": [
    "vamos utilizar o dataset **Income** disponível no repositório do Pycaret.\n",
    "\n",
    "Este conjunto de dados contém dados de pessoas e o objetivo é estimar se uma determinada pessoa recebe um salário anual maior que 50 mil ou não. Segue abaixo os atributos do conjunto de dados.\n",
    "\n",
    "- **age**: continuous.\n",
    "- **workclass**: Private, Self-emp-not-inc, Self-emp-inc, Federal-gov, Local-gov, State-gov, Without-pay, Never-worked.\n",
    "- **education**: Bachelors, Some-college, 11th, HS-grad, Prof-school, Assoc-acdm, Assoc-voc, 9th, 7th-8th, 12th, Masters, 1st-4th, 10th, Doctorate, 5th-6th, Preschool.\n",
    "- **education-num**: continuous.\n",
    "- **marital-status**: Married-civ-spouse, Divorced, Never-married, Separated, Widowed, Married-spouse-absent, Married-AF-spouse.\n",
    "- **occupation**: Tech-support, Craft-repair, Other-service, Sales, Exec-managerial, Prof-specialty, Handlers-cleaners, Machine-op-inspct, Adm-clerical, Farming-fishing, Transport-moving, Priv-house-serv, Protective-serv, Armed-Forces.\n",
    "- **relationship**: Wife, Own-child, Husband, Not-in-family, Other-relative, Unmarried.\n",
    "- **race**: White, Asian-Pac-Islander, Amer-Indian-Eskimo, Other, Black.\n",
    "- **sex**: Female, Male.\n",
    "- **capital-gain**: continuous.\n",
    "- **capital-loss**: continuous.\n",
    "- **hours-per-week**: continuous.\n",
    "- **native-country**: United-States, Cambodia, England, Puerto-Rico, Canada, Germany, Outlying-US(Guam-USVI-etc), India, Japan, Greece, South, China, Cuba, Iran, Honduras, Philippines, Italy, Poland, Jamaica, Vietnam, Mexico, Portugal, Ireland, France, Dominican-Republic, Laos, Ecuador, Taiwan, Haiti, Columbia, Hungary, Guatemala, Nicaragua, Scotland, Thailand, Yugoslavia, El-Salvador, Trinadad&Tobago, Peru, Hong, Holand-Netherlands.\n",
    "\n",
    "#### Documentação do Pycaret para os conjuntos de dados.\n",
    "A listagem de conjuntos de dados disponíveis no repositório do Pycaret __[aqui](https://pycaret.org/get-data/)__ "
   ]
  },
  {
   "cell_type": "markdown",
   "metadata": {
    "colab_type": "text",
    "id": "Ui_rALqYEQmv"
   },
   "source": [
    "#### Carregando os dados."
   ]
  },
  {
   "cell_type": "code",
   "execution_count": 3,
   "metadata": {
    "colab": {
     "base_uri": "https://localhost:8080/",
     "height": 211
    },
    "colab_type": "code",
    "id": "lUvE187JEQm3",
    "jupyter": {
     "outputs_hidden": true
    },
    "outputId": "8741262c-0e33-4ec0-b54d-3c8fb41e52c0"
   },
   "outputs": [
    {
     "data": {
      "text/html": [
       "<div>\n",
       "<style scoped>\n",
       "    .dataframe tbody tr th:only-of-type {\n",
       "        vertical-align: middle;\n",
       "    }\n",
       "\n",
       "    .dataframe tbody tr th {\n",
       "        vertical-align: top;\n",
       "    }\n",
       "\n",
       "    .dataframe thead th {\n",
       "        text-align: right;\n",
       "    }\n",
       "</style>\n",
       "<table border=\"1\" class=\"dataframe\">\n",
       "  <thead>\n",
       "    <tr style=\"text-align: right;\">\n",
       "      <th></th>\n",
       "      <th>age</th>\n",
       "      <th>workclass</th>\n",
       "      <th>education</th>\n",
       "      <th>education-num</th>\n",
       "      <th>marital-status</th>\n",
       "      <th>occupation</th>\n",
       "      <th>relationship</th>\n",
       "      <th>race</th>\n",
       "      <th>sex</th>\n",
       "      <th>capital-gain</th>\n",
       "      <th>capital-loss</th>\n",
       "      <th>hours-per-week</th>\n",
       "      <th>native-country</th>\n",
       "      <th>income &gt;50K</th>\n",
       "    </tr>\n",
       "  </thead>\n",
       "  <tbody>\n",
       "    <tr>\n",
       "      <th>0</th>\n",
       "      <td>39</td>\n",
       "      <td>State-gov</td>\n",
       "      <td>Bachelors</td>\n",
       "      <td>13</td>\n",
       "      <td>Never-married</td>\n",
       "      <td>Adm-clerical</td>\n",
       "      <td>Not-in-family</td>\n",
       "      <td>White</td>\n",
       "      <td>Male</td>\n",
       "      <td>2174</td>\n",
       "      <td>0</td>\n",
       "      <td>40</td>\n",
       "      <td>United-States</td>\n",
       "      <td>0</td>\n",
       "    </tr>\n",
       "    <tr>\n",
       "      <th>1</th>\n",
       "      <td>50</td>\n",
       "      <td>Self-emp-not-inc</td>\n",
       "      <td>Bachelors</td>\n",
       "      <td>13</td>\n",
       "      <td>Married-civ-spouse</td>\n",
       "      <td>Exec-managerial</td>\n",
       "      <td>Husband</td>\n",
       "      <td>White</td>\n",
       "      <td>Male</td>\n",
       "      <td>0</td>\n",
       "      <td>0</td>\n",
       "      <td>13</td>\n",
       "      <td>United-States</td>\n",
       "      <td>0</td>\n",
       "    </tr>\n",
       "    <tr>\n",
       "      <th>2</th>\n",
       "      <td>38</td>\n",
       "      <td>Private</td>\n",
       "      <td>HS-grad</td>\n",
       "      <td>9</td>\n",
       "      <td>Divorced</td>\n",
       "      <td>Handlers-cleaners</td>\n",
       "      <td>Not-in-family</td>\n",
       "      <td>White</td>\n",
       "      <td>Male</td>\n",
       "      <td>0</td>\n",
       "      <td>0</td>\n",
       "      <td>40</td>\n",
       "      <td>United-States</td>\n",
       "      <td>0</td>\n",
       "    </tr>\n",
       "    <tr>\n",
       "      <th>3</th>\n",
       "      <td>53</td>\n",
       "      <td>Private</td>\n",
       "      <td>11th</td>\n",
       "      <td>7</td>\n",
       "      <td>Married-civ-spouse</td>\n",
       "      <td>Handlers-cleaners</td>\n",
       "      <td>Husband</td>\n",
       "      <td>Black</td>\n",
       "      <td>Male</td>\n",
       "      <td>0</td>\n",
       "      <td>0</td>\n",
       "      <td>40</td>\n",
       "      <td>United-States</td>\n",
       "      <td>0</td>\n",
       "    </tr>\n",
       "    <tr>\n",
       "      <th>4</th>\n",
       "      <td>28</td>\n",
       "      <td>Private</td>\n",
       "      <td>Bachelors</td>\n",
       "      <td>13</td>\n",
       "      <td>Married-civ-spouse</td>\n",
       "      <td>Prof-specialty</td>\n",
       "      <td>Wife</td>\n",
       "      <td>Black</td>\n",
       "      <td>Female</td>\n",
       "      <td>0</td>\n",
       "      <td>0</td>\n",
       "      <td>40</td>\n",
       "      <td>Cuba</td>\n",
       "      <td>0</td>\n",
       "    </tr>\n",
       "  </tbody>\n",
       "</table>\n",
       "</div>"
      ],
      "text/plain": [
       "   age         workclass  education  education-num      marital-status  \\\n",
       "0   39         State-gov  Bachelors             13       Never-married   \n",
       "1   50  Self-emp-not-inc  Bachelors             13  Married-civ-spouse   \n",
       "2   38           Private    HS-grad              9            Divorced   \n",
       "3   53           Private       11th              7  Married-civ-spouse   \n",
       "4   28           Private  Bachelors             13  Married-civ-spouse   \n",
       "\n",
       "          occupation   relationship   race     sex  capital-gain  \\\n",
       "0       Adm-clerical  Not-in-family  White    Male          2174   \n",
       "1    Exec-managerial        Husband  White    Male             0   \n",
       "2  Handlers-cleaners  Not-in-family  White    Male             0   \n",
       "3  Handlers-cleaners        Husband  Black    Male             0   \n",
       "4     Prof-specialty           Wife  Black  Female             0   \n",
       "\n",
       "   capital-loss  hours-per-week native-country  income >50K  \n",
       "0             0              40  United-States            0  \n",
       "1             0              13  United-States            0  \n",
       "2             0              40  United-States            0  \n",
       "3             0              40  United-States            0  \n",
       "4             0              40           Cuba            0  "
      ]
     },
     "metadata": {},
     "output_type": "display_data"
    }
   ],
   "source": [
    "dataset = get_data('income')"
   ]
  },
  {
   "cell_type": "markdown",
   "metadata": {},
   "source": [
    "#### Verificando o objeto."
   ]
  },
  {
   "cell_type": "code",
   "execution_count": 4,
   "metadata": {
    "jupyter": {
     "outputs_hidden": true
    }
   },
   "outputs": [
    {
     "data": {
      "text/plain": [
       "pandas.core.frame.DataFrame"
      ]
     },
     "execution_count": 4,
     "metadata": {},
     "output_type": "execute_result"
    }
   ],
   "source": [
    "type(dataset)"
   ]
  },
  {
   "cell_type": "markdown",
   "metadata": {},
   "source": [
    "#### Verificando a forma dos dados."
   ]
  },
  {
   "cell_type": "code",
   "execution_count": 5,
   "metadata": {
    "colab": {
     "base_uri": "https://localhost:8080/",
     "height": 33
    },
    "colab_type": "code",
    "id": "kMqDGBkJEQnN",
    "jupyter": {
     "outputs_hidden": true
    },
    "outputId": "b2015b7a-4c1a-4377-d9cf-3e9ac5ce3ea2"
   },
   "outputs": [
    {
     "data": {
      "text/plain": [
       "(32561, 14)"
      ]
     },
     "execution_count": 5,
     "metadata": {},
     "output_type": "execute_result"
    }
   ],
   "source": [
    "dataset.shape"
   ]
  },
  {
   "cell_type": "markdown",
   "metadata": {},
   "source": [
    "#### Verificando as informações dos atributos."
   ]
  },
  {
   "cell_type": "code",
   "execution_count": 6,
   "metadata": {
    "jupyter": {
     "outputs_hidden": true
    }
   },
   "outputs": [
    {
     "data": {
      "text/html": [
       "<div>\n",
       "<style scoped>\n",
       "    .dataframe tbody tr th:only-of-type {\n",
       "        vertical-align: middle;\n",
       "    }\n",
       "\n",
       "    .dataframe tbody tr th {\n",
       "        vertical-align: top;\n",
       "    }\n",
       "\n",
       "    .dataframe thead th {\n",
       "        text-align: right;\n",
       "    }\n",
       "</style>\n",
       "<table border=\"1\" class=\"dataframe\">\n",
       "  <thead>\n",
       "    <tr style=\"text-align: right;\">\n",
       "      <th></th>\n",
       "      <th>age</th>\n",
       "      <th>education-num</th>\n",
       "      <th>capital-gain</th>\n",
       "      <th>capital-loss</th>\n",
       "      <th>hours-per-week</th>\n",
       "      <th>income &gt;50K</th>\n",
       "    </tr>\n",
       "  </thead>\n",
       "  <tbody>\n",
       "    <tr>\n",
       "      <th>count</th>\n",
       "      <td>32561.000000</td>\n",
       "      <td>32561.000000</td>\n",
       "      <td>32561.000000</td>\n",
       "      <td>32561.000000</td>\n",
       "      <td>32561.000000</td>\n",
       "      <td>32561.000000</td>\n",
       "    </tr>\n",
       "    <tr>\n",
       "      <th>mean</th>\n",
       "      <td>38.581647</td>\n",
       "      <td>10.080679</td>\n",
       "      <td>1077.648844</td>\n",
       "      <td>87.303830</td>\n",
       "      <td>40.437456</td>\n",
       "      <td>0.240810</td>\n",
       "    </tr>\n",
       "    <tr>\n",
       "      <th>std</th>\n",
       "      <td>13.640433</td>\n",
       "      <td>2.572720</td>\n",
       "      <td>7385.292085</td>\n",
       "      <td>402.960219</td>\n",
       "      <td>12.347429</td>\n",
       "      <td>0.427581</td>\n",
       "    </tr>\n",
       "    <tr>\n",
       "      <th>min</th>\n",
       "      <td>17.000000</td>\n",
       "      <td>1.000000</td>\n",
       "      <td>0.000000</td>\n",
       "      <td>0.000000</td>\n",
       "      <td>1.000000</td>\n",
       "      <td>0.000000</td>\n",
       "    </tr>\n",
       "    <tr>\n",
       "      <th>25%</th>\n",
       "      <td>28.000000</td>\n",
       "      <td>9.000000</td>\n",
       "      <td>0.000000</td>\n",
       "      <td>0.000000</td>\n",
       "      <td>40.000000</td>\n",
       "      <td>0.000000</td>\n",
       "    </tr>\n",
       "    <tr>\n",
       "      <th>50%</th>\n",
       "      <td>37.000000</td>\n",
       "      <td>10.000000</td>\n",
       "      <td>0.000000</td>\n",
       "      <td>0.000000</td>\n",
       "      <td>40.000000</td>\n",
       "      <td>0.000000</td>\n",
       "    </tr>\n",
       "    <tr>\n",
       "      <th>75%</th>\n",
       "      <td>48.000000</td>\n",
       "      <td>12.000000</td>\n",
       "      <td>0.000000</td>\n",
       "      <td>0.000000</td>\n",
       "      <td>45.000000</td>\n",
       "      <td>0.000000</td>\n",
       "    </tr>\n",
       "    <tr>\n",
       "      <th>max</th>\n",
       "      <td>90.000000</td>\n",
       "      <td>16.000000</td>\n",
       "      <td>99999.000000</td>\n",
       "      <td>4356.000000</td>\n",
       "      <td>99.000000</td>\n",
       "      <td>1.000000</td>\n",
       "    </tr>\n",
       "  </tbody>\n",
       "</table>\n",
       "</div>"
      ],
      "text/plain": [
       "                age  education-num  capital-gain  capital-loss  \\\n",
       "count  32561.000000   32561.000000  32561.000000  32561.000000   \n",
       "mean      38.581647      10.080679   1077.648844     87.303830   \n",
       "std       13.640433       2.572720   7385.292085    402.960219   \n",
       "min       17.000000       1.000000      0.000000      0.000000   \n",
       "25%       28.000000       9.000000      0.000000      0.000000   \n",
       "50%       37.000000      10.000000      0.000000      0.000000   \n",
       "75%       48.000000      12.000000      0.000000      0.000000   \n",
       "max       90.000000      16.000000  99999.000000   4356.000000   \n",
       "\n",
       "       hours-per-week   income >50K  \n",
       "count    32561.000000  32561.000000  \n",
       "mean        40.437456      0.240810  \n",
       "std         12.347429      0.427581  \n",
       "min          1.000000      0.000000  \n",
       "25%         40.000000      0.000000  \n",
       "50%         40.000000      0.000000  \n",
       "75%         45.000000      0.000000  \n",
       "max         99.000000      1.000000  "
      ]
     },
     "execution_count": 6,
     "metadata": {},
     "output_type": "execute_result"
    }
   ],
   "source": [
    "dataset.describe()"
   ]
  },
  {
   "cell_type": "code",
   "execution_count": 7,
   "metadata": {
    "jupyter": {
     "outputs_hidden": true
    }
   },
   "outputs": [
    {
     "data": {
      "text/html": [
       "<div>\n",
       "<style scoped>\n",
       "    .dataframe tbody tr th:only-of-type {\n",
       "        vertical-align: middle;\n",
       "    }\n",
       "\n",
       "    .dataframe tbody tr th {\n",
       "        vertical-align: top;\n",
       "    }\n",
       "\n",
       "    .dataframe thead th {\n",
       "        text-align: right;\n",
       "    }\n",
       "</style>\n",
       "<table border=\"1\" class=\"dataframe\">\n",
       "  <thead>\n",
       "    <tr style=\"text-align: right;\">\n",
       "      <th></th>\n",
       "      <th>age</th>\n",
       "      <th>workclass</th>\n",
       "      <th>education</th>\n",
       "      <th>education-num</th>\n",
       "      <th>marital-status</th>\n",
       "      <th>occupation</th>\n",
       "      <th>relationship</th>\n",
       "      <th>race</th>\n",
       "      <th>sex</th>\n",
       "      <th>capital-gain</th>\n",
       "      <th>capital-loss</th>\n",
       "      <th>hours-per-week</th>\n",
       "      <th>native-country</th>\n",
       "      <th>income &gt;50K</th>\n",
       "    </tr>\n",
       "  </thead>\n",
       "  <tbody>\n",
       "    <tr>\n",
       "      <th>count</th>\n",
       "      <td>32561.000000</td>\n",
       "      <td>30725</td>\n",
       "      <td>32561</td>\n",
       "      <td>32561.000000</td>\n",
       "      <td>32561</td>\n",
       "      <td>30718</td>\n",
       "      <td>32561</td>\n",
       "      <td>32561</td>\n",
       "      <td>32561</td>\n",
       "      <td>32561.000000</td>\n",
       "      <td>32561.000000</td>\n",
       "      <td>32561.000000</td>\n",
       "      <td>31978</td>\n",
       "      <td>32561.000000</td>\n",
       "    </tr>\n",
       "    <tr>\n",
       "      <th>unique</th>\n",
       "      <td>NaN</td>\n",
       "      <td>8</td>\n",
       "      <td>16</td>\n",
       "      <td>NaN</td>\n",
       "      <td>7</td>\n",
       "      <td>14</td>\n",
       "      <td>6</td>\n",
       "      <td>5</td>\n",
       "      <td>2</td>\n",
       "      <td>NaN</td>\n",
       "      <td>NaN</td>\n",
       "      <td>NaN</td>\n",
       "      <td>41</td>\n",
       "      <td>NaN</td>\n",
       "    </tr>\n",
       "    <tr>\n",
       "      <th>top</th>\n",
       "      <td>NaN</td>\n",
       "      <td>Private</td>\n",
       "      <td>HS-grad</td>\n",
       "      <td>NaN</td>\n",
       "      <td>Married-civ-spouse</td>\n",
       "      <td>Prof-specialty</td>\n",
       "      <td>Husband</td>\n",
       "      <td>White</td>\n",
       "      <td>Male</td>\n",
       "      <td>NaN</td>\n",
       "      <td>NaN</td>\n",
       "      <td>NaN</td>\n",
       "      <td>United-States</td>\n",
       "      <td>NaN</td>\n",
       "    </tr>\n",
       "    <tr>\n",
       "      <th>freq</th>\n",
       "      <td>NaN</td>\n",
       "      <td>22696</td>\n",
       "      <td>10501</td>\n",
       "      <td>NaN</td>\n",
       "      <td>14976</td>\n",
       "      <td>4140</td>\n",
       "      <td>13193</td>\n",
       "      <td>27816</td>\n",
       "      <td>21790</td>\n",
       "      <td>NaN</td>\n",
       "      <td>NaN</td>\n",
       "      <td>NaN</td>\n",
       "      <td>29170</td>\n",
       "      <td>NaN</td>\n",
       "    </tr>\n",
       "    <tr>\n",
       "      <th>mean</th>\n",
       "      <td>38.581647</td>\n",
       "      <td>NaN</td>\n",
       "      <td>NaN</td>\n",
       "      <td>10.080679</td>\n",
       "      <td>NaN</td>\n",
       "      <td>NaN</td>\n",
       "      <td>NaN</td>\n",
       "      <td>NaN</td>\n",
       "      <td>NaN</td>\n",
       "      <td>1077.648844</td>\n",
       "      <td>87.303830</td>\n",
       "      <td>40.437456</td>\n",
       "      <td>NaN</td>\n",
       "      <td>0.240810</td>\n",
       "    </tr>\n",
       "    <tr>\n",
       "      <th>std</th>\n",
       "      <td>13.640433</td>\n",
       "      <td>NaN</td>\n",
       "      <td>NaN</td>\n",
       "      <td>2.572720</td>\n",
       "      <td>NaN</td>\n",
       "      <td>NaN</td>\n",
       "      <td>NaN</td>\n",
       "      <td>NaN</td>\n",
       "      <td>NaN</td>\n",
       "      <td>7385.292085</td>\n",
       "      <td>402.960219</td>\n",
       "      <td>12.347429</td>\n",
       "      <td>NaN</td>\n",
       "      <td>0.427581</td>\n",
       "    </tr>\n",
       "    <tr>\n",
       "      <th>min</th>\n",
       "      <td>17.000000</td>\n",
       "      <td>NaN</td>\n",
       "      <td>NaN</td>\n",
       "      <td>1.000000</td>\n",
       "      <td>NaN</td>\n",
       "      <td>NaN</td>\n",
       "      <td>NaN</td>\n",
       "      <td>NaN</td>\n",
       "      <td>NaN</td>\n",
       "      <td>0.000000</td>\n",
       "      <td>0.000000</td>\n",
       "      <td>1.000000</td>\n",
       "      <td>NaN</td>\n",
       "      <td>0.000000</td>\n",
       "    </tr>\n",
       "    <tr>\n",
       "      <th>25%</th>\n",
       "      <td>28.000000</td>\n",
       "      <td>NaN</td>\n",
       "      <td>NaN</td>\n",
       "      <td>9.000000</td>\n",
       "      <td>NaN</td>\n",
       "      <td>NaN</td>\n",
       "      <td>NaN</td>\n",
       "      <td>NaN</td>\n",
       "      <td>NaN</td>\n",
       "      <td>0.000000</td>\n",
       "      <td>0.000000</td>\n",
       "      <td>40.000000</td>\n",
       "      <td>NaN</td>\n",
       "      <td>0.000000</td>\n",
       "    </tr>\n",
       "    <tr>\n",
       "      <th>50%</th>\n",
       "      <td>37.000000</td>\n",
       "      <td>NaN</td>\n",
       "      <td>NaN</td>\n",
       "      <td>10.000000</td>\n",
       "      <td>NaN</td>\n",
       "      <td>NaN</td>\n",
       "      <td>NaN</td>\n",
       "      <td>NaN</td>\n",
       "      <td>NaN</td>\n",
       "      <td>0.000000</td>\n",
       "      <td>0.000000</td>\n",
       "      <td>40.000000</td>\n",
       "      <td>NaN</td>\n",
       "      <td>0.000000</td>\n",
       "    </tr>\n",
       "    <tr>\n",
       "      <th>75%</th>\n",
       "      <td>48.000000</td>\n",
       "      <td>NaN</td>\n",
       "      <td>NaN</td>\n",
       "      <td>12.000000</td>\n",
       "      <td>NaN</td>\n",
       "      <td>NaN</td>\n",
       "      <td>NaN</td>\n",
       "      <td>NaN</td>\n",
       "      <td>NaN</td>\n",
       "      <td>0.000000</td>\n",
       "      <td>0.000000</td>\n",
       "      <td>45.000000</td>\n",
       "      <td>NaN</td>\n",
       "      <td>0.000000</td>\n",
       "    </tr>\n",
       "    <tr>\n",
       "      <th>max</th>\n",
       "      <td>90.000000</td>\n",
       "      <td>NaN</td>\n",
       "      <td>NaN</td>\n",
       "      <td>16.000000</td>\n",
       "      <td>NaN</td>\n",
       "      <td>NaN</td>\n",
       "      <td>NaN</td>\n",
       "      <td>NaN</td>\n",
       "      <td>NaN</td>\n",
       "      <td>99999.000000</td>\n",
       "      <td>4356.000000</td>\n",
       "      <td>99.000000</td>\n",
       "      <td>NaN</td>\n",
       "      <td>1.000000</td>\n",
       "    </tr>\n",
       "  </tbody>\n",
       "</table>\n",
       "</div>"
      ],
      "text/plain": [
       "                 age workclass education  education-num      marital-status  \\\n",
       "count   32561.000000     30725     32561   32561.000000               32561   \n",
       "unique           NaN         8        16            NaN                   7   \n",
       "top              NaN   Private   HS-grad            NaN  Married-civ-spouse   \n",
       "freq             NaN     22696     10501            NaN               14976   \n",
       "mean       38.581647       NaN       NaN      10.080679                 NaN   \n",
       "std        13.640433       NaN       NaN       2.572720                 NaN   \n",
       "min        17.000000       NaN       NaN       1.000000                 NaN   \n",
       "25%        28.000000       NaN       NaN       9.000000                 NaN   \n",
       "50%        37.000000       NaN       NaN      10.000000                 NaN   \n",
       "75%        48.000000       NaN       NaN      12.000000                 NaN   \n",
       "max        90.000000       NaN       NaN      16.000000                 NaN   \n",
       "\n",
       "            occupation relationship   race    sex  capital-gain  capital-loss  \\\n",
       "count            30718        32561  32561  32561  32561.000000  32561.000000   \n",
       "unique              14            6      5      2           NaN           NaN   \n",
       "top     Prof-specialty      Husband  White   Male           NaN           NaN   \n",
       "freq              4140        13193  27816  21790           NaN           NaN   \n",
       "mean               NaN          NaN    NaN    NaN   1077.648844     87.303830   \n",
       "std                NaN          NaN    NaN    NaN   7385.292085    402.960219   \n",
       "min                NaN          NaN    NaN    NaN      0.000000      0.000000   \n",
       "25%                NaN          NaN    NaN    NaN      0.000000      0.000000   \n",
       "50%                NaN          NaN    NaN    NaN      0.000000      0.000000   \n",
       "75%                NaN          NaN    NaN    NaN      0.000000      0.000000   \n",
       "max                NaN          NaN    NaN    NaN  99999.000000   4356.000000   \n",
       "\n",
       "        hours-per-week native-country   income >50K  \n",
       "count     32561.000000          31978  32561.000000  \n",
       "unique             NaN             41           NaN  \n",
       "top                NaN  United-States           NaN  \n",
       "freq               NaN          29170           NaN  \n",
       "mean         40.437456            NaN      0.240810  \n",
       "std          12.347429            NaN      0.427581  \n",
       "min           1.000000            NaN      0.000000  \n",
       "25%          40.000000            NaN      0.000000  \n",
       "50%          40.000000            NaN      0.000000  \n",
       "75%          45.000000            NaN      0.000000  \n",
       "max          99.000000            NaN      1.000000  "
      ]
     },
     "execution_count": 7,
     "metadata": {},
     "output_type": "execute_result"
    }
   ],
   "source": [
    "dataset.describe(include='all')"
   ]
  },
  {
   "cell_type": "code",
   "execution_count": 8,
   "metadata": {
    "jupyter": {
     "outputs_hidden": true
    }
   },
   "outputs": [
    {
     "name": "stdout",
     "output_type": "stream",
     "text": [
      "<class 'pandas.core.frame.DataFrame'>\n",
      "RangeIndex: 32561 entries, 0 to 32560\n",
      "Data columns (total 14 columns):\n",
      " #   Column          Non-Null Count  Dtype \n",
      "---  ------          --------------  ----- \n",
      " 0   age             32561 non-null  int64 \n",
      " 1   workclass       30725 non-null  object\n",
      " 2   education       32561 non-null  object\n",
      " 3   education-num   32561 non-null  int64 \n",
      " 4   marital-status  32561 non-null  object\n",
      " 5   occupation      30718 non-null  object\n",
      " 6   relationship    32561 non-null  object\n",
      " 7   race            32561 non-null  object\n",
      " 8   sex             32561 non-null  object\n",
      " 9   capital-gain    32561 non-null  int64 \n",
      " 10  capital-loss    32561 non-null  int64 \n",
      " 11  hours-per-week  32561 non-null  int64 \n",
      " 12  native-country  31978 non-null  object\n",
      " 13  income >50K     32561 non-null  int64 \n",
      "dtypes: int64(6), object(8)\n",
      "memory usage: 3.5+ MB\n"
     ]
    }
   ],
   "source": [
    "dataset.info()"
   ]
  },
  {
   "cell_type": "markdown",
   "metadata": {},
   "source": [
    "#### Listando registros missing por atributo."
   ]
  },
  {
   "cell_type": "code",
   "execution_count": 9,
   "metadata": {
    "jupyter": {
     "outputs_hidden": true
    }
   },
   "outputs": [
    {
     "data": {
      "text/plain": [
       "age                  0\n",
       "workclass         1836\n",
       "education            0\n",
       "education-num        0\n",
       "marital-status       0\n",
       "occupation        1843\n",
       "relationship         0\n",
       "race                 0\n",
       "sex                  0\n",
       "capital-gain         0\n",
       "capital-loss         0\n",
       "hours-per-week       0\n",
       "native-country     583\n",
       "income >50K          0\n",
       "dtype: int64"
      ]
     },
     "execution_count": 9,
     "metadata": {},
     "output_type": "execute_result"
    }
   ],
   "source": [
    "dataset.isnull().sum()"
   ]
  },
  {
   "cell_type": "markdown",
   "metadata": {},
   "source": [
    "# Modelagem"
   ]
  },
  {
   "cell_type": "markdown",
   "metadata": {},
   "source": [
    "#### Separando os dados de validação."
   ]
  },
  {
   "cell_type": "markdown",
   "metadata": {},
   "source": [
    "##### Selecionando 95% dos dados dados de forma aleatória."
   ]
  },
  {
   "cell_type": "code",
   "execution_count": 10,
   "metadata": {
    "jupyter": {
     "outputs_hidden": true
    }
   },
   "outputs": [],
   "source": [
    "data = dataset.sample(frac=0.95, random_state=786)"
   ]
  },
  {
   "cell_type": "markdown",
   "metadata": {},
   "source": [
    "##### Atribuindo os 5% restante para o dataframe de validação."
   ]
  },
  {
   "cell_type": "code",
   "execution_count": 11,
   "metadata": {
    "jupyter": {
     "outputs_hidden": true
    }
   },
   "outputs": [],
   "source": [
    "data_validation = dataset.drop(data.index)"
   ]
  },
  {
   "cell_type": "markdown",
   "metadata": {},
   "source": [
    "##### Excluindo os demais registros."
   ]
  },
  {
   "cell_type": "code",
   "execution_count": 12,
   "metadata": {
    "jupyter": {
     "outputs_hidden": true
    }
   },
   "outputs": [],
   "source": [
    "data.reset_index(inplace=True, drop=True)\n",
    "data_validation.reset_index(inplace=True, drop=True)"
   ]
  },
  {
   "cell_type": "markdown",
   "metadata": {},
   "source": [
    "##### Dados utilizados para modelagem e validação."
   ]
  },
  {
   "cell_type": "code",
   "execution_count": 13,
   "metadata": {
    "jupyter": {
     "outputs_hidden": true
    }
   },
   "outputs": [
    {
     "name": "stdout",
     "output_type": "stream",
     "text": [
      "Dados para modelagem: (30933, 14)\n",
      "Dados reservados para a validação: (1628, 14)\n"
     ]
    }
   ],
   "source": [
    "print('Dados para modelagem: ' + str(data.shape))\n",
    "print('Dados reservados para a validação: ' + str(data_validation.shape))"
   ]
  },
  {
   "cell_type": "markdown",
   "metadata": {
    "colab_type": "text",
    "id": "y9s9wNcjEQn0"
   },
   "source": [
    "# Configurando o ambiente com a função Setup."
   ]
  },
  {
   "cell_type": "markdown",
   "metadata": {
    "colab_type": "text",
    "id": "ZlA01j6NEQn7"
   },
   "source": [
    "Função Setup inicializa o ambiente no Pycaret e cria o pipeline de transformação e prepara os dados para modelagem e deploy."
   ]
  },
  {
   "cell_type": "code",
   "execution_count": 14,
   "metadata": {
    "colab": {
     "base_uri": "https://localhost:8080/",
     "height": 803
    },
    "colab_type": "code",
    "id": "k2IuvfDHEQoO",
    "jupyter": {
     "outputs_hidden": true
    },
    "outputId": "c7754ae9-b060-4218-b6f0-de65a815aa3a",
    "tags": []
   },
   "outputs": [
    {
     "data": {
      "text/html": [
       "<style type=\"text/css\">\n",
       "#T_2e00d_row11_col1 {\n",
       "  background-color: lightgreen;\n",
       "}\n",
       "</style>\n",
       "<table id=\"T_2e00d\">\n",
       "  <thead>\n",
       "    <tr>\n",
       "      <th class=\"blank level0\" >&nbsp;</th>\n",
       "      <th id=\"T_2e00d_level0_col0\" class=\"col_heading level0 col0\" >Description</th>\n",
       "      <th id=\"T_2e00d_level0_col1\" class=\"col_heading level0 col1\" >Value</th>\n",
       "    </tr>\n",
       "  </thead>\n",
       "  <tbody>\n",
       "    <tr>\n",
       "      <th id=\"T_2e00d_level0_row0\" class=\"row_heading level0 row0\" >0</th>\n",
       "      <td id=\"T_2e00d_row0_col0\" class=\"data row0 col0\" >Session id</td>\n",
       "      <td id=\"T_2e00d_row0_col1\" class=\"data row0 col1\" >123</td>\n",
       "    </tr>\n",
       "    <tr>\n",
       "      <th id=\"T_2e00d_level0_row1\" class=\"row_heading level0 row1\" >1</th>\n",
       "      <td id=\"T_2e00d_row1_col0\" class=\"data row1 col0\" >Target</td>\n",
       "      <td id=\"T_2e00d_row1_col1\" class=\"data row1 col1\" >income >50K</td>\n",
       "    </tr>\n",
       "    <tr>\n",
       "      <th id=\"T_2e00d_level0_row2\" class=\"row_heading level0 row2\" >2</th>\n",
       "      <td id=\"T_2e00d_row2_col0\" class=\"data row2 col0\" >Target type</td>\n",
       "      <td id=\"T_2e00d_row2_col1\" class=\"data row2 col1\" >Binary</td>\n",
       "    </tr>\n",
       "    <tr>\n",
       "      <th id=\"T_2e00d_level0_row3\" class=\"row_heading level0 row3\" >3</th>\n",
       "      <td id=\"T_2e00d_row3_col0\" class=\"data row3 col0\" >Original data shape</td>\n",
       "      <td id=\"T_2e00d_row3_col1\" class=\"data row3 col1\" >(30933, 14)</td>\n",
       "    </tr>\n",
       "    <tr>\n",
       "      <th id=\"T_2e00d_level0_row4\" class=\"row_heading level0 row4\" >4</th>\n",
       "      <td id=\"T_2e00d_row4_col0\" class=\"data row4 col0\" >Transformed data shape</td>\n",
       "      <td id=\"T_2e00d_row4_col1\" class=\"data row4 col1\" >(30933, 64)</td>\n",
       "    </tr>\n",
       "    <tr>\n",
       "      <th id=\"T_2e00d_level0_row5\" class=\"row_heading level0 row5\" >5</th>\n",
       "      <td id=\"T_2e00d_row5_col0\" class=\"data row5 col0\" >Transformed train set shape</td>\n",
       "      <td id=\"T_2e00d_row5_col1\" class=\"data row5 col1\" >(21653, 64)</td>\n",
       "    </tr>\n",
       "    <tr>\n",
       "      <th id=\"T_2e00d_level0_row6\" class=\"row_heading level0 row6\" >6</th>\n",
       "      <td id=\"T_2e00d_row6_col0\" class=\"data row6 col0\" >Transformed test set shape</td>\n",
       "      <td id=\"T_2e00d_row6_col1\" class=\"data row6 col1\" >(9280, 64)</td>\n",
       "    </tr>\n",
       "    <tr>\n",
       "      <th id=\"T_2e00d_level0_row7\" class=\"row_heading level0 row7\" >7</th>\n",
       "      <td id=\"T_2e00d_row7_col0\" class=\"data row7 col0\" >Ordinal features</td>\n",
       "      <td id=\"T_2e00d_row7_col1\" class=\"data row7 col1\" >1</td>\n",
       "    </tr>\n",
       "    <tr>\n",
       "      <th id=\"T_2e00d_level0_row8\" class=\"row_heading level0 row8\" >8</th>\n",
       "      <td id=\"T_2e00d_row8_col0\" class=\"data row8 col0\" >Numeric features</td>\n",
       "      <td id=\"T_2e00d_row8_col1\" class=\"data row8 col1\" >5</td>\n",
       "    </tr>\n",
       "    <tr>\n",
       "      <th id=\"T_2e00d_level0_row9\" class=\"row_heading level0 row9\" >9</th>\n",
       "      <td id=\"T_2e00d_row9_col0\" class=\"data row9 col0\" >Categorical features</td>\n",
       "      <td id=\"T_2e00d_row9_col1\" class=\"data row9 col1\" >8</td>\n",
       "    </tr>\n",
       "    <tr>\n",
       "      <th id=\"T_2e00d_level0_row10\" class=\"row_heading level0 row10\" >10</th>\n",
       "      <td id=\"T_2e00d_row10_col0\" class=\"data row10 col0\" >Rows with missing values</td>\n",
       "      <td id=\"T_2e00d_row10_col1\" class=\"data row10 col1\" >7.3%</td>\n",
       "    </tr>\n",
       "    <tr>\n",
       "      <th id=\"T_2e00d_level0_row11\" class=\"row_heading level0 row11\" >11</th>\n",
       "      <td id=\"T_2e00d_row11_col0\" class=\"data row11 col0\" >Preprocess</td>\n",
       "      <td id=\"T_2e00d_row11_col1\" class=\"data row11 col1\" >True</td>\n",
       "    </tr>\n",
       "    <tr>\n",
       "      <th id=\"T_2e00d_level0_row12\" class=\"row_heading level0 row12\" >12</th>\n",
       "      <td id=\"T_2e00d_row12_col0\" class=\"data row12 col0\" >Imputation type</td>\n",
       "      <td id=\"T_2e00d_row12_col1\" class=\"data row12 col1\" >simple</td>\n",
       "    </tr>\n",
       "    <tr>\n",
       "      <th id=\"T_2e00d_level0_row13\" class=\"row_heading level0 row13\" >13</th>\n",
       "      <td id=\"T_2e00d_row13_col0\" class=\"data row13 col0\" >Numeric imputation</td>\n",
       "      <td id=\"T_2e00d_row13_col1\" class=\"data row13 col1\" >mean</td>\n",
       "    </tr>\n",
       "    <tr>\n",
       "      <th id=\"T_2e00d_level0_row14\" class=\"row_heading level0 row14\" >14</th>\n",
       "      <td id=\"T_2e00d_row14_col0\" class=\"data row14 col0\" >Categorical imputation</td>\n",
       "      <td id=\"T_2e00d_row14_col1\" class=\"data row14 col1\" >mode</td>\n",
       "    </tr>\n",
       "    <tr>\n",
       "      <th id=\"T_2e00d_level0_row15\" class=\"row_heading level0 row15\" >15</th>\n",
       "      <td id=\"T_2e00d_row15_col0\" class=\"data row15 col0\" >Maximum one-hot encoding</td>\n",
       "      <td id=\"T_2e00d_row15_col1\" class=\"data row15 col1\" >25</td>\n",
       "    </tr>\n",
       "    <tr>\n",
       "      <th id=\"T_2e00d_level0_row16\" class=\"row_heading level0 row16\" >16</th>\n",
       "      <td id=\"T_2e00d_row16_col0\" class=\"data row16 col0\" >Encoding method</td>\n",
       "      <td id=\"T_2e00d_row16_col1\" class=\"data row16 col1\" >None</td>\n",
       "    </tr>\n",
       "    <tr>\n",
       "      <th id=\"T_2e00d_level0_row17\" class=\"row_heading level0 row17\" >17</th>\n",
       "      <td id=\"T_2e00d_row17_col0\" class=\"data row17 col0\" >Fold Generator</td>\n",
       "      <td id=\"T_2e00d_row17_col1\" class=\"data row17 col1\" >StratifiedKFold</td>\n",
       "    </tr>\n",
       "    <tr>\n",
       "      <th id=\"T_2e00d_level0_row18\" class=\"row_heading level0 row18\" >18</th>\n",
       "      <td id=\"T_2e00d_row18_col0\" class=\"data row18 col0\" >Fold Number</td>\n",
       "      <td id=\"T_2e00d_row18_col1\" class=\"data row18 col1\" >10</td>\n",
       "    </tr>\n",
       "    <tr>\n",
       "      <th id=\"T_2e00d_level0_row19\" class=\"row_heading level0 row19\" >19</th>\n",
       "      <td id=\"T_2e00d_row19_col0\" class=\"data row19 col0\" >CPU Jobs</td>\n",
       "      <td id=\"T_2e00d_row19_col1\" class=\"data row19 col1\" >-1</td>\n",
       "    </tr>\n",
       "    <tr>\n",
       "      <th id=\"T_2e00d_level0_row20\" class=\"row_heading level0 row20\" >20</th>\n",
       "      <td id=\"T_2e00d_row20_col0\" class=\"data row20 col0\" >Use GPU</td>\n",
       "      <td id=\"T_2e00d_row20_col1\" class=\"data row20 col1\" >False</td>\n",
       "    </tr>\n",
       "    <tr>\n",
       "      <th id=\"T_2e00d_level0_row21\" class=\"row_heading level0 row21\" >21</th>\n",
       "      <td id=\"T_2e00d_row21_col0\" class=\"data row21 col0\" >Log Experiment</td>\n",
       "      <td id=\"T_2e00d_row21_col1\" class=\"data row21 col1\" >False</td>\n",
       "    </tr>\n",
       "    <tr>\n",
       "      <th id=\"T_2e00d_level0_row22\" class=\"row_heading level0 row22\" >22</th>\n",
       "      <td id=\"T_2e00d_row22_col0\" class=\"data row22 col0\" >Experiment Name</td>\n",
       "      <td id=\"T_2e00d_row22_col1\" class=\"data row22 col1\" >clf-default-name</td>\n",
       "    </tr>\n",
       "    <tr>\n",
       "      <th id=\"T_2e00d_level0_row23\" class=\"row_heading level0 row23\" >23</th>\n",
       "      <td id=\"T_2e00d_row23_col0\" class=\"data row23 col0\" >USI</td>\n",
       "      <td id=\"T_2e00d_row23_col1\" class=\"data row23 col1\" >68ca</td>\n",
       "    </tr>\n",
       "  </tbody>\n",
       "</table>\n"
      ],
      "text/plain": [
       "<pandas.io.formats.style.Styler at 0x21160cf9df0>"
      ]
     },
     "metadata": {},
     "output_type": "display_data"
    }
   ],
   "source": [
    "exp_clf01 = setup(data = data, target = 'income >50K', session_id=123)"
   ]
  },
  {
   "cell_type": "markdown",
   "metadata": {
    "colab_type": "text",
    "id": "JJSOhIOxEQoY"
   },
   "source": [
    "Analisando os parametros do experimento criado.\n",
    "\n",
    "- **session_id :**  Um número aleatório que é passado a todas as funções para garantir a reproducibilidade. Se não especificar o número é passado um padrão.<br/>\n",
    "<br/>\n",
    "- **Target Type :**  Binary ou Multiclass. O tipo do atributo alvo é automaticamente detectado.<br/>\n",
    "<br/>\n",
    "- **Label Encoded :**  Se o atributo alvo é categorico os valores são codificados utilizando o Label Encoded e é exibido esse mapeamento.<br/>\n",
    "<br/>\n",
    "- **Original Data :**  Exibe o shape do dataset original. <br/>\n",
    "<br/>\n",
    "- **Missing Values :**  Indica se existe Registros Missing. \n",
    "<br/>\n",
    "<br/>\n",
    "- **Numeric Features :**  O númerio de features inferidas como numéric. <br/>\n",
    "<br/>\n",
    "- **Categorical Features :**  O númerio de features inferidas como categoricas. <br/>\n",
    "<br/>\n",
    "- **Transformed Train Set :**  Exibe o shape do conjunto de treino transformado. Detalhe para o número de features.<br/>\n",
    "<br/>\n",
    "- **Transformed Test Set :**  Exibe o shape do conjunto de teste transformado. A divisão de quantidade de dados para treino e teste é 70/30 por padrão.<br/>"
   ]
  },
  {
   "cell_type": "markdown",
   "metadata": {
    "colab_type": "text",
    "id": "it_nJo1IEQob"
   },
   "source": [
    "# Comparando modelos"
   ]
  },
  {
   "cell_type": "markdown",
   "metadata": {
    "colab_type": "text",
    "id": "apb_B9bBEQof"
   },
   "source": [
    "Esta função treina e compara a performance de todos os modelos para a determinada tarefa escolhida (Classificação, Regressão, Clustering etc) utilizando cross validation e retorna as métricas para avaliação e o tempo de treinamento."
   ]
  },
  {
   "cell_type": "code",
   "execution_count": 15,
   "metadata": {
    "colab": {},
    "colab_type": "code",
    "id": "AsG0b1NIEQoj",
    "jupyter": {
     "outputs_hidden": true
    },
    "outputId": "a6e3a510-45a1-4782-8ffe-0ec138a64eed",
    "tags": []
   },
   "outputs": [
    {
     "data": {
      "text/html": [],
      "text/plain": [
       "<IPython.core.display.HTML object>"
      ]
     },
     "metadata": {},
     "output_type": "display_data"
    },
    {
     "data": {
      "text/html": [
       "<style type=\"text/css\">\n",
       "#T_0d833 th {\n",
       "  text-align: left;\n",
       "}\n",
       "#T_0d833_row0_col0, #T_0d833_row0_col3, #T_0d833_row0_col4, #T_0d833_row0_col5, #T_0d833_row1_col0, #T_0d833_row1_col1, #T_0d833_row1_col2, #T_0d833_row1_col3, #T_0d833_row1_col4, #T_0d833_row1_col5, #T_0d833_row1_col6, #T_0d833_row1_col7, #T_0d833_row2_col0, #T_0d833_row2_col1, #T_0d833_row2_col2, #T_0d833_row2_col3, #T_0d833_row2_col4, #T_0d833_row2_col5, #T_0d833_row2_col6, #T_0d833_row2_col7, #T_0d833_row3_col0, #T_0d833_row3_col1, #T_0d833_row3_col2, #T_0d833_row3_col3, #T_0d833_row3_col4, #T_0d833_row3_col5, #T_0d833_row3_col6, #T_0d833_row3_col7, #T_0d833_row4_col0, #T_0d833_row4_col1, #T_0d833_row4_col2, #T_0d833_row4_col3, #T_0d833_row4_col4, #T_0d833_row4_col5, #T_0d833_row4_col6, #T_0d833_row4_col7, #T_0d833_row5_col0, #T_0d833_row5_col1, #T_0d833_row5_col2, #T_0d833_row5_col3, #T_0d833_row5_col4, #T_0d833_row5_col6, #T_0d833_row5_col7, #T_0d833_row6_col0, #T_0d833_row6_col1, #T_0d833_row6_col2, #T_0d833_row6_col3, #T_0d833_row6_col4, #T_0d833_row6_col5, #T_0d833_row6_col6, #T_0d833_row6_col7, #T_0d833_row7_col0, #T_0d833_row7_col1, #T_0d833_row7_col2, #T_0d833_row7_col3, #T_0d833_row7_col5, #T_0d833_row7_col6, #T_0d833_row7_col7, #T_0d833_row8_col0, #T_0d833_row8_col1, #T_0d833_row8_col2, #T_0d833_row8_col3, #T_0d833_row8_col4, #T_0d833_row8_col5, #T_0d833_row8_col6, #T_0d833_row8_col7, #T_0d833_row9_col0, #T_0d833_row9_col1, #T_0d833_row9_col2, #T_0d833_row9_col3, #T_0d833_row9_col4, #T_0d833_row9_col5, #T_0d833_row9_col6, #T_0d833_row9_col7, #T_0d833_row10_col0, #T_0d833_row10_col1, #T_0d833_row10_col2, #T_0d833_row10_col3, #T_0d833_row10_col4, #T_0d833_row10_col5, #T_0d833_row10_col6, #T_0d833_row10_col7, #T_0d833_row11_col0, #T_0d833_row11_col1, #T_0d833_row11_col2, #T_0d833_row11_col3, #T_0d833_row11_col4, #T_0d833_row11_col5, #T_0d833_row11_col6, #T_0d833_row11_col7, #T_0d833_row12_col0, #T_0d833_row12_col1, #T_0d833_row12_col2, #T_0d833_row12_col3, #T_0d833_row12_col4, #T_0d833_row12_col5, #T_0d833_row12_col6, #T_0d833_row12_col7, #T_0d833_row13_col0, #T_0d833_row13_col1, #T_0d833_row13_col2, #T_0d833_row13_col4, #T_0d833_row13_col5, #T_0d833_row13_col6, #T_0d833_row13_col7 {\n",
       "  text-align: left;\n",
       "}\n",
       "#T_0d833_row0_col1, #T_0d833_row0_col2, #T_0d833_row0_col6, #T_0d833_row0_col7, #T_0d833_row5_col5, #T_0d833_row7_col4, #T_0d833_row13_col3 {\n",
       "  text-align: left;\n",
       "  background-color: yellow;\n",
       "}\n",
       "#T_0d833_row0_col8, #T_0d833_row1_col8, #T_0d833_row2_col8, #T_0d833_row3_col8, #T_0d833_row4_col8, #T_0d833_row6_col8, #T_0d833_row7_col8, #T_0d833_row8_col8, #T_0d833_row9_col8, #T_0d833_row10_col8, #T_0d833_row11_col8, #T_0d833_row12_col8, #T_0d833_row13_col8 {\n",
       "  text-align: left;\n",
       "  background-color: lightgrey;\n",
       "}\n",
       "#T_0d833_row5_col8 {\n",
       "  text-align: left;\n",
       "  background-color: yellow;\n",
       "  background-color: lightgrey;\n",
       "}\n",
       "</style>\n",
       "<table id=\"T_0d833\">\n",
       "  <thead>\n",
       "    <tr>\n",
       "      <th class=\"blank level0\" >&nbsp;</th>\n",
       "      <th id=\"T_0d833_level0_col0\" class=\"col_heading level0 col0\" >Model</th>\n",
       "      <th id=\"T_0d833_level0_col1\" class=\"col_heading level0 col1\" >Accuracy</th>\n",
       "      <th id=\"T_0d833_level0_col2\" class=\"col_heading level0 col2\" >AUC</th>\n",
       "      <th id=\"T_0d833_level0_col3\" class=\"col_heading level0 col3\" >Recall</th>\n",
       "      <th id=\"T_0d833_level0_col4\" class=\"col_heading level0 col4\" >Prec.</th>\n",
       "      <th id=\"T_0d833_level0_col5\" class=\"col_heading level0 col5\" >F1</th>\n",
       "      <th id=\"T_0d833_level0_col6\" class=\"col_heading level0 col6\" >Kappa</th>\n",
       "      <th id=\"T_0d833_level0_col7\" class=\"col_heading level0 col7\" >MCC</th>\n",
       "      <th id=\"T_0d833_level0_col8\" class=\"col_heading level0 col8\" >TT (Sec)</th>\n",
       "    </tr>\n",
       "  </thead>\n",
       "  <tbody>\n",
       "    <tr>\n",
       "      <th id=\"T_0d833_level0_row0\" class=\"row_heading level0 row0\" >lr</th>\n",
       "      <td id=\"T_0d833_row0_col0\" class=\"data row0 col0\" >Logistic Regression</td>\n",
       "      <td id=\"T_0d833_row0_col1\" class=\"data row0 col1\" >0.8494</td>\n",
       "      <td id=\"T_0d833_row0_col2\" class=\"data row0 col2\" >0.9033</td>\n",
       "      <td id=\"T_0d833_row0_col3\" class=\"data row0 col3\" >0.5912</td>\n",
       "      <td id=\"T_0d833_row0_col4\" class=\"data row0 col4\" >0.7335</td>\n",
       "      <td id=\"T_0d833_row0_col5\" class=\"data row0 col5\" >0.6546</td>\n",
       "      <td id=\"T_0d833_row0_col6\" class=\"data row0 col6\" >0.5598</td>\n",
       "      <td id=\"T_0d833_row0_col7\" class=\"data row0 col7\" >0.5652</td>\n",
       "      <td id=\"T_0d833_row0_col8\" class=\"data row0 col8\" >2.2510</td>\n",
       "    </tr>\n",
       "    <tr>\n",
       "      <th id=\"T_0d833_level0_row1\" class=\"row_heading level0 row1\" >knn</th>\n",
       "      <td id=\"T_0d833_row1_col0\" class=\"data row1 col0\" >K Neighbors Classifier</td>\n",
       "      <td id=\"T_0d833_row1_col1\" class=\"data row1 col1\" >0.8440</td>\n",
       "      <td id=\"T_0d833_row1_col2\" class=\"data row1 col2\" >0.8587</td>\n",
       "      <td id=\"T_0d833_row1_col3\" class=\"data row1 col3\" >0.5677</td>\n",
       "      <td id=\"T_0d833_row1_col4\" class=\"data row1 col4\" >0.7271</td>\n",
       "      <td id=\"T_0d833_row1_col5\" class=\"data row1 col5\" >0.6374</td>\n",
       "      <td id=\"T_0d833_row1_col6\" class=\"data row1 col6\" >0.5400</td>\n",
       "      <td id=\"T_0d833_row1_col7\" class=\"data row1 col7\" >0.5468</td>\n",
       "      <td id=\"T_0d833_row1_col8\" class=\"data row1 col8\" >2.7460</td>\n",
       "    </tr>\n",
       "    <tr>\n",
       "      <th id=\"T_0d833_level0_row2\" class=\"row_heading level0 row2\" >lda</th>\n",
       "      <td id=\"T_0d833_row2_col0\" class=\"data row2 col0\" >Linear Discriminant Analysis</td>\n",
       "      <td id=\"T_0d833_row2_col1\" class=\"data row2 col1\" >0.8398</td>\n",
       "      <td id=\"T_0d833_row2_col2\" class=\"data row2 col2\" >0.8925</td>\n",
       "      <td id=\"T_0d833_row2_col3\" class=\"data row2 col3\" >0.5587</td>\n",
       "      <td id=\"T_0d833_row2_col4\" class=\"data row2 col4\" >0.7153</td>\n",
       "      <td id=\"T_0d833_row2_col5\" class=\"data row2 col5\" >0.6271</td>\n",
       "      <td id=\"T_0d833_row2_col6\" class=\"data row2 col6\" >0.5271</td>\n",
       "      <td id=\"T_0d833_row2_col7\" class=\"data row2 col7\" >0.5338</td>\n",
       "      <td id=\"T_0d833_row2_col8\" class=\"data row2 col8\" >1.3140</td>\n",
       "    </tr>\n",
       "    <tr>\n",
       "      <th id=\"T_0d833_level0_row3\" class=\"row_heading level0 row3\" >ridge</th>\n",
       "      <td id=\"T_0d833_row3_col0\" class=\"data row3 col0\" >Ridge Classifier</td>\n",
       "      <td id=\"T_0d833_row3_col1\" class=\"data row3 col1\" >0.8384</td>\n",
       "      <td id=\"T_0d833_row3_col2\" class=\"data row3 col2\" >0.0000</td>\n",
       "      <td id=\"T_0d833_row3_col3\" class=\"data row3 col3\" >0.4983</td>\n",
       "      <td id=\"T_0d833_row3_col4\" class=\"data row3 col4\" >0.7484</td>\n",
       "      <td id=\"T_0d833_row3_col5\" class=\"data row3 col5\" >0.5979</td>\n",
       "      <td id=\"T_0d833_row3_col6\" class=\"data row3 col6\" >0.5019</td>\n",
       "      <td id=\"T_0d833_row3_col7\" class=\"data row3 col7\" >0.5184</td>\n",
       "      <td id=\"T_0d833_row3_col8\" class=\"data row3 col8\" >1.2500</td>\n",
       "    </tr>\n",
       "    <tr>\n",
       "      <th id=\"T_0d833_level0_row4\" class=\"row_heading level0 row4\" >et</th>\n",
       "      <td id=\"T_0d833_row4_col0\" class=\"data row4 col0\" >Extra Trees Classifier</td>\n",
       "      <td id=\"T_0d833_row4_col1\" class=\"data row4 col1\" >0.8171</td>\n",
       "      <td id=\"T_0d833_row4_col2\" class=\"data row4 col2\" >0.8731</td>\n",
       "      <td id=\"T_0d833_row4_col3\" class=\"data row4 col3\" >0.3577</td>\n",
       "      <td id=\"T_0d833_row4_col4\" class=\"data row4 col4\" >0.7562</td>\n",
       "      <td id=\"T_0d833_row4_col5\" class=\"data row4 col5\" >0.4855</td>\n",
       "      <td id=\"T_0d833_row4_col6\" class=\"data row4 col6\" >0.3912</td>\n",
       "      <td id=\"T_0d833_row4_col7\" class=\"data row4 col7\" >0.4318</td>\n",
       "      <td id=\"T_0d833_row4_col8\" class=\"data row4 col8\" >1.3770</td>\n",
       "    </tr>\n",
       "    <tr>\n",
       "      <th id=\"T_0d833_level0_row5\" class=\"row_heading level0 row5\" >nb</th>\n",
       "      <td id=\"T_0d833_row5_col0\" class=\"data row5 col0\" >Naive Bayes</td>\n",
       "      <td id=\"T_0d833_row5_col1\" class=\"data row5 col1\" >0.8092</td>\n",
       "      <td id=\"T_0d833_row5_col2\" class=\"data row5 col2\" >0.8967</td>\n",
       "      <td id=\"T_0d833_row5_col3\" class=\"data row5 col3\" >0.8081</td>\n",
       "      <td id=\"T_0d833_row5_col4\" class=\"data row5 col4\" >0.5748</td>\n",
       "      <td id=\"T_0d833_row5_col5\" class=\"data row5 col5\" >0.6717</td>\n",
       "      <td id=\"T_0d833_row5_col6\" class=\"data row5 col6\" >0.5426</td>\n",
       "      <td id=\"T_0d833_row5_col7\" class=\"data row5 col7\" >0.5583</td>\n",
       "      <td id=\"T_0d833_row5_col8\" class=\"data row5 col8\" >1.1930</td>\n",
       "    </tr>\n",
       "    <tr>\n",
       "      <th id=\"T_0d833_level0_row6\" class=\"row_heading level0 row6\" >svm</th>\n",
       "      <td id=\"T_0d833_row6_col0\" class=\"data row6 col0\" >SVM - Linear Kernel</td>\n",
       "      <td id=\"T_0d833_row6_col1\" class=\"data row6 col1\" >0.7948</td>\n",
       "      <td id=\"T_0d833_row6_col2\" class=\"data row6 col2\" >0.0000</td>\n",
       "      <td id=\"T_0d833_row6_col3\" class=\"data row6 col3\" >0.5725</td>\n",
       "      <td id=\"T_0d833_row6_col4\" class=\"data row6 col4\" >0.5971</td>\n",
       "      <td id=\"T_0d833_row6_col5\" class=\"data row6 col5\" >0.5586</td>\n",
       "      <td id=\"T_0d833_row6_col6\" class=\"data row6 col6\" >0.4309</td>\n",
       "      <td id=\"T_0d833_row6_col7\" class=\"data row6 col7\" >0.4473</td>\n",
       "      <td id=\"T_0d833_row6_col8\" class=\"data row6 col8\" >1.1980</td>\n",
       "    </tr>\n",
       "    <tr>\n",
       "      <th id=\"T_0d833_level0_row7\" class=\"row_heading level0 row7\" >rf</th>\n",
       "      <td id=\"T_0d833_row7_col0\" class=\"data row7 col0\" >Random Forest Classifier</td>\n",
       "      <td id=\"T_0d833_row7_col1\" class=\"data row7 col1\" >0.7841</td>\n",
       "      <td id=\"T_0d833_row7_col2\" class=\"data row7 col2\" >0.7944</td>\n",
       "      <td id=\"T_0d833_row7_col3\" class=\"data row7 col3\" >0.1239</td>\n",
       "      <td id=\"T_0d833_row7_col4\" class=\"data row7 col4\" >0.8749</td>\n",
       "      <td id=\"T_0d833_row7_col5\" class=\"data row7 col5\" >0.2166</td>\n",
       "      <td id=\"T_0d833_row7_col6\" class=\"data row7 col6\" >0.1669</td>\n",
       "      <td id=\"T_0d833_row7_col7\" class=\"data row7 col7\" >0.2778</td>\n",
       "      <td id=\"T_0d833_row7_col8\" class=\"data row7 col8\" >1.2680</td>\n",
       "    </tr>\n",
       "    <tr>\n",
       "      <th id=\"T_0d833_level0_row8\" class=\"row_heading level0 row8\" >ada</th>\n",
       "      <td id=\"T_0d833_row8_col0\" class=\"data row8 col0\" >Ada Boost Classifier</td>\n",
       "      <td id=\"T_0d833_row8_col1\" class=\"data row8 col1\" >0.7634</td>\n",
       "      <td id=\"T_0d833_row8_col2\" class=\"data row8 col2\" >0.8348</td>\n",
       "      <td id=\"T_0d833_row8_col3\" class=\"data row8 col3\" >0.0383</td>\n",
       "      <td id=\"T_0d833_row8_col4\" class=\"data row8 col4\" >0.6876</td>\n",
       "      <td id=\"T_0d833_row8_col5\" class=\"data row8 col5\" >0.0723</td>\n",
       "      <td id=\"T_0d833_row8_col6\" class=\"data row8 col6\" >0.0477</td>\n",
       "      <td id=\"T_0d833_row8_col7\" class=\"data row8 col7\" >0.1201</td>\n",
       "      <td id=\"T_0d833_row8_col8\" class=\"data row8 col8\" >1.2860</td>\n",
       "    </tr>\n",
       "    <tr>\n",
       "      <th id=\"T_0d833_level0_row9\" class=\"row_heading level0 row9\" >dummy</th>\n",
       "      <td id=\"T_0d833_row9_col0\" class=\"data row9 col0\" >Dummy Classifier</td>\n",
       "      <td id=\"T_0d833_row9_col1\" class=\"data row9 col1\" >0.7586</td>\n",
       "      <td id=\"T_0d833_row9_col2\" class=\"data row9 col2\" >0.5000</td>\n",
       "      <td id=\"T_0d833_row9_col3\" class=\"data row9 col3\" >0.0000</td>\n",
       "      <td id=\"T_0d833_row9_col4\" class=\"data row9 col4\" >0.0000</td>\n",
       "      <td id=\"T_0d833_row9_col5\" class=\"data row9 col5\" >0.0000</td>\n",
       "      <td id=\"T_0d833_row9_col6\" class=\"data row9 col6\" >0.0000</td>\n",
       "      <td id=\"T_0d833_row9_col7\" class=\"data row9 col7\" >0.0000</td>\n",
       "      <td id=\"T_0d833_row9_col8\" class=\"data row9 col8\" >1.3140</td>\n",
       "    </tr>\n",
       "    <tr>\n",
       "      <th id=\"T_0d833_level0_row10\" class=\"row_heading level0 row10\" >gbc</th>\n",
       "      <td id=\"T_0d833_row10_col0\" class=\"data row10 col0\" >Gradient Boosting Classifier</td>\n",
       "      <td id=\"T_0d833_row10_col1\" class=\"data row10 col1\" >0.7580</td>\n",
       "      <td id=\"T_0d833_row10_col2\" class=\"data row10 col2\" >0.7167</td>\n",
       "      <td id=\"T_0d833_row10_col3\" class=\"data row10 col3\" >0.0243</td>\n",
       "      <td id=\"T_0d833_row10_col4\" class=\"data row10 col4\" >0.4921</td>\n",
       "      <td id=\"T_0d833_row10_col5\" class=\"data row10 col5\" >0.0461</td>\n",
       "      <td id=\"T_0d833_row10_col6\" class=\"data row10 col6\" >0.0234</td>\n",
       "      <td id=\"T_0d833_row10_col7\" class=\"data row10 col7\" >0.0629</td>\n",
       "      <td id=\"T_0d833_row10_col8\" class=\"data row10 col8\" >1.2870</td>\n",
       "    </tr>\n",
       "    <tr>\n",
       "      <th id=\"T_0d833_level0_row11\" class=\"row_heading level0 row11\" >dt</th>\n",
       "      <td id=\"T_0d833_row11_col0\" class=\"data row11 col0\" >Decision Tree Classifier</td>\n",
       "      <td id=\"T_0d833_row11_col1\" class=\"data row11 col1\" >0.7575</td>\n",
       "      <td id=\"T_0d833_row11_col2\" class=\"data row11 col2\" >0.5089</td>\n",
       "      <td id=\"T_0d833_row11_col3\" class=\"data row11 col3\" >0.0283</td>\n",
       "      <td id=\"T_0d833_row11_col4\" class=\"data row11 col4\" >0.4706</td>\n",
       "      <td id=\"T_0d833_row11_col5\" class=\"data row11 col5\" >0.0533</td>\n",
       "      <td id=\"T_0d833_row11_col6\" class=\"data row11 col6\" >0.0263</td>\n",
       "      <td id=\"T_0d833_row11_col7\" class=\"data row11 col7\" >0.0642</td>\n",
       "      <td id=\"T_0d833_row11_col8\" class=\"data row11 col8\" >1.2560</td>\n",
       "    </tr>\n",
       "    <tr>\n",
       "      <th id=\"T_0d833_level0_row12\" class=\"row_heading level0 row12\" >lightgbm</th>\n",
       "      <td id=\"T_0d833_row12_col0\" class=\"data row12 col0\" >Light Gradient Boosting Machine</td>\n",
       "      <td id=\"T_0d833_row12_col1\" class=\"data row12 col1\" >0.7571</td>\n",
       "      <td id=\"T_0d833_row12_col2\" class=\"data row12 col2\" >0.7261</td>\n",
       "      <td id=\"T_0d833_row12_col3\" class=\"data row12 col3\" >0.0260</td>\n",
       "      <td id=\"T_0d833_row12_col4\" class=\"data row12 col4\" >0.4761</td>\n",
       "      <td id=\"T_0d833_row12_col5\" class=\"data row12 col5\" >0.0489</td>\n",
       "      <td id=\"T_0d833_row12_col6\" class=\"data row12 col6\" >0.0233</td>\n",
       "      <td id=\"T_0d833_row12_col7\" class=\"data row12 col7\" >0.0603</td>\n",
       "      <td id=\"T_0d833_row12_col8\" class=\"data row12 col8\" >1.5110</td>\n",
       "    </tr>\n",
       "    <tr>\n",
       "      <th id=\"T_0d833_level0_row13\" class=\"row_heading level0 row13\" >qda</th>\n",
       "      <td id=\"T_0d833_row13_col0\" class=\"data row13 col0\" >Quadratic Discriminant Analysis</td>\n",
       "      <td id=\"T_0d833_row13_col1\" class=\"data row13 col1\" >0.5133</td>\n",
       "      <td id=\"T_0d833_row13_col2\" class=\"data row13 col2\" >0.7213</td>\n",
       "      <td id=\"T_0d833_row13_col3\" class=\"data row13 col3\" >0.9466</td>\n",
       "      <td id=\"T_0d833_row13_col4\" class=\"data row13 col4\" >0.3280</td>\n",
       "      <td id=\"T_0d833_row13_col5\" class=\"data row13 col5\" >0.4854</td>\n",
       "      <td id=\"T_0d833_row13_col6\" class=\"data row13 col6\" >0.1977</td>\n",
       "      <td id=\"T_0d833_row13_col7\" class=\"data row13 col7\" >0.3055</td>\n",
       "      <td id=\"T_0d833_row13_col8\" class=\"data row13 col8\" >1.2230</td>\n",
       "    </tr>\n",
       "  </tbody>\n",
       "</table>\n"
      ],
      "text/plain": [
       "<pandas.io.formats.style.Styler at 0x21160732c70>"
      ]
     },
     "metadata": {},
     "output_type": "display_data"
    },
    {
     "data": {
      "application/vnd.jupyter.widget-view+json": {
       "model_id": "",
       "version_major": 2,
       "version_minor": 0
      },
      "text/plain": [
       "Processing:   0%|          | 0/61 [00:00<?, ?it/s]"
      ]
     },
     "metadata": {},
     "output_type": "display_data"
    }
   ],
   "source": [
    "best_model = compare_models()"
   ]
  },
  {
   "cell_type": "markdown",
   "metadata": {},
   "source": [
    "##### Verificando o retorno da função."
   ]
  },
  {
   "cell_type": "code",
   "execution_count": 16,
   "metadata": {
    "jupyter": {
     "outputs_hidden": true
    }
   },
   "outputs": [
    {
     "name": "stdout",
     "output_type": "stream",
     "text": [
      "LogisticRegression(C=1.0, class_weight=None, dual=False, fit_intercept=True,\n",
      "                   intercept_scaling=1, l1_ratio=None, max_iter=1000,\n",
      "                   multi_class='auto', n_jobs=None, penalty='l2',\n",
      "                   random_state=123, solver='lbfgs', tol=0.0001, verbose=0,\n",
      "                   warm_start=False)\n"
     ]
    }
   ],
   "source": [
    "print(best_model)"
   ]
  },
  {
   "cell_type": "markdown",
   "metadata": {
    "colab_type": "text",
    "id": "P5m2pciOEQo4"
   },
   "source": [
    "# Criando o Modelo"
   ]
  },
  {
   "cell_type": "markdown",
   "metadata": {
    "colab_type": "text",
    "id": "u_6cIilfEQo7"
   },
   "source": [
    "Esta função treina o modelo especificado utilizando cross validation e retorna suas métricas."
   ]
  },
  {
   "cell_type": "markdown",
   "metadata": {
    "colab_type": "text",
    "id": "UWMSeyNhEQo-"
   },
   "source": [
    "### Light Gradient Boosting Machine\t"
   ]
  },
  {
   "cell_type": "code",
   "execution_count": 17,
   "metadata": {
    "colab": {
     "base_uri": "https://localhost:8080/",
     "height": 392
    },
    "colab_type": "code",
    "id": "LP896uSIEQpD",
    "jupyter": {
     "outputs_hidden": true
    },
    "outputId": "d6d31562-feb5-4052-ee23-0a444fecaacf"
   },
   "outputs": [
    {
     "data": {
      "text/html": [],
      "text/plain": [
       "<IPython.core.display.HTML object>"
      ]
     },
     "metadata": {},
     "output_type": "display_data"
    },
    {
     "data": {
      "text/html": [
       "<style type=\"text/css\">\n",
       "#T_ca3b0_row10_col0, #T_ca3b0_row10_col1, #T_ca3b0_row10_col2, #T_ca3b0_row10_col3, #T_ca3b0_row10_col4, #T_ca3b0_row10_col5, #T_ca3b0_row10_col6 {\n",
       "  background: yellow;\n",
       "}\n",
       "</style>\n",
       "<table id=\"T_ca3b0\">\n",
       "  <thead>\n",
       "    <tr>\n",
       "      <th class=\"blank level0\" >&nbsp;</th>\n",
       "      <th id=\"T_ca3b0_level0_col0\" class=\"col_heading level0 col0\" >Accuracy</th>\n",
       "      <th id=\"T_ca3b0_level0_col1\" class=\"col_heading level0 col1\" >AUC</th>\n",
       "      <th id=\"T_ca3b0_level0_col2\" class=\"col_heading level0 col2\" >Recall</th>\n",
       "      <th id=\"T_ca3b0_level0_col3\" class=\"col_heading level0 col3\" >Prec.</th>\n",
       "      <th id=\"T_ca3b0_level0_col4\" class=\"col_heading level0 col4\" >F1</th>\n",
       "      <th id=\"T_ca3b0_level0_col5\" class=\"col_heading level0 col5\" >Kappa</th>\n",
       "      <th id=\"T_ca3b0_level0_col6\" class=\"col_heading level0 col6\" >MCC</th>\n",
       "    </tr>\n",
       "    <tr>\n",
       "      <th class=\"index_name level0\" >Fold</th>\n",
       "      <th class=\"blank col0\" >&nbsp;</th>\n",
       "      <th class=\"blank col1\" >&nbsp;</th>\n",
       "      <th class=\"blank col2\" >&nbsp;</th>\n",
       "      <th class=\"blank col3\" >&nbsp;</th>\n",
       "      <th class=\"blank col4\" >&nbsp;</th>\n",
       "      <th class=\"blank col5\" >&nbsp;</th>\n",
       "      <th class=\"blank col6\" >&nbsp;</th>\n",
       "    </tr>\n",
       "  </thead>\n",
       "  <tbody>\n",
       "    <tr>\n",
       "      <th id=\"T_ca3b0_level0_row0\" class=\"row_heading level0 row0\" >0</th>\n",
       "      <td id=\"T_ca3b0_row0_col0\" class=\"data row0 col0\" >0.7576</td>\n",
       "      <td id=\"T_ca3b0_row0_col1\" class=\"data row0 col1\" >0.7853</td>\n",
       "      <td id=\"T_ca3b0_row0_col2\" class=\"data row0 col2\" >0.0287</td>\n",
       "      <td id=\"T_ca3b0_row0_col3\" class=\"data row0 col3\" >0.4688</td>\n",
       "      <td id=\"T_ca3b0_row0_col4\" class=\"data row0 col4\" >0.0541</td>\n",
       "      <td id=\"T_ca3b0_row0_col5\" class=\"data row0 col5\" >0.0270</td>\n",
       "      <td id=\"T_ca3b0_row0_col6\" class=\"data row0 col6\" >0.0650</td>\n",
       "    </tr>\n",
       "    <tr>\n",
       "      <th id=\"T_ca3b0_level0_row1\" class=\"row_heading level0 row1\" >1</th>\n",
       "      <td id=\"T_ca3b0_row1_col0\" class=\"data row1 col0\" >0.7613</td>\n",
       "      <td id=\"T_ca3b0_row1_col1\" class=\"data row1 col1\" >0.8172</td>\n",
       "      <td id=\"T_ca3b0_row1_col2\" class=\"data row1 col2\" >0.0344</td>\n",
       "      <td id=\"T_ca3b0_row1_col3\" class=\"data row1 col3\" >0.6000</td>\n",
       "      <td id=\"T_ca3b0_row1_col4\" class=\"data row1 col4\" >0.0651</td>\n",
       "      <td id=\"T_ca3b0_row1_col5\" class=\"data row1 col5\" >0.0399</td>\n",
       "      <td id=\"T_ca3b0_row1_col6\" class=\"data row1 col6\" >0.0993</td>\n",
       "    </tr>\n",
       "    <tr>\n",
       "      <th id=\"T_ca3b0_level0_row2\" class=\"row_heading level0 row2\" >2</th>\n",
       "      <td id=\"T_ca3b0_row2_col0\" class=\"data row2 col0\" >0.7470</td>\n",
       "      <td id=\"T_ca3b0_row2_col1\" class=\"data row2 col1\" >0.7146</td>\n",
       "      <td id=\"T_ca3b0_row2_col2\" class=\"data row2 col2\" >0.0402</td>\n",
       "      <td id=\"T_ca3b0_row2_col3\" class=\"data row2 col3\" >0.3134</td>\n",
       "      <td id=\"T_ca3b0_row2_col4\" class=\"data row2 col4\" >0.0712</td>\n",
       "      <td id=\"T_ca3b0_row2_col5\" class=\"data row2 col5\" >0.0173</td>\n",
       "      <td id=\"T_ca3b0_row2_col6\" class=\"data row2 col6\" >0.0300</td>\n",
       "    </tr>\n",
       "    <tr>\n",
       "      <th id=\"T_ca3b0_level0_row3\" class=\"row_heading level0 row3\" >3</th>\n",
       "      <td id=\"T_ca3b0_row3_col0\" class=\"data row3 col0\" >0.7626</td>\n",
       "      <td id=\"T_ca3b0_row3_col1\" class=\"data row3 col1\" >0.7342</td>\n",
       "      <td id=\"T_ca3b0_row3_col2\" class=\"data row3 col2\" >0.0364</td>\n",
       "      <td id=\"T_ca3b0_row3_col3\" class=\"data row3 col3\" >0.6333</td>\n",
       "      <td id=\"T_ca3b0_row3_col4\" class=\"data row3 col4\" >0.0688</td>\n",
       "      <td id=\"T_ca3b0_row3_col5\" class=\"data row3 col5\" >0.0438</td>\n",
       "      <td id=\"T_ca3b0_row3_col6\" class=\"data row3 col6\" >0.1087</td>\n",
       "    </tr>\n",
       "    <tr>\n",
       "      <th id=\"T_ca3b0_level0_row4\" class=\"row_heading level0 row4\" >4</th>\n",
       "      <td id=\"T_ca3b0_row4_col0\" class=\"data row4 col0\" >0.7533</td>\n",
       "      <td id=\"T_ca3b0_row4_col1\" class=\"data row4 col1\" >0.7645</td>\n",
       "      <td id=\"T_ca3b0_row4_col2\" class=\"data row4 col2\" >0.0230</td>\n",
       "      <td id=\"T_ca3b0_row4_col3\" class=\"data row4 col3\" >0.3333</td>\n",
       "      <td id=\"T_ca3b0_row4_col4\" class=\"data row4 col4\" >0.0430</td>\n",
       "      <td id=\"T_ca3b0_row4_col5\" class=\"data row4 col5\" >0.0123</td>\n",
       "      <td id=\"T_ca3b0_row4_col6\" class=\"data row4 col6\" >0.0280</td>\n",
       "    </tr>\n",
       "    <tr>\n",
       "      <th id=\"T_ca3b0_level0_row5\" class=\"row_heading level0 row5\" >5</th>\n",
       "      <td id=\"T_ca3b0_row5_col0\" class=\"data row5 col0\" >0.7561</td>\n",
       "      <td id=\"T_ca3b0_row5_col1\" class=\"data row5 col1\" >0.4563</td>\n",
       "      <td id=\"T_ca3b0_row5_col2\" class=\"data row5 col2\" >0.0268</td>\n",
       "      <td id=\"T_ca3b0_row5_col3\" class=\"data row5 col3\" >0.4242</td>\n",
       "      <td id=\"T_ca3b0_row5_col4\" class=\"data row5 col4\" >0.0504</td>\n",
       "      <td id=\"T_ca3b0_row5_col5\" class=\"data row5 col5\" >0.0223</td>\n",
       "      <td id=\"T_ca3b0_row5_col6\" class=\"data row5 col6\" >0.0531</td>\n",
       "    </tr>\n",
       "    <tr>\n",
       "      <th id=\"T_ca3b0_level0_row6\" class=\"row_heading level0 row6\" >6</th>\n",
       "      <td id=\"T_ca3b0_row6_col0\" class=\"data row6 col0\" >0.7580</td>\n",
       "      <td id=\"T_ca3b0_row6_col1\" class=\"data row6 col1\" >0.7296</td>\n",
       "      <td id=\"T_ca3b0_row6_col2\" class=\"data row6 col2\" >0.0172</td>\n",
       "      <td id=\"T_ca3b0_row6_col3\" class=\"data row6 col3\" >0.4737</td>\n",
       "      <td id=\"T_ca3b0_row6_col4\" class=\"data row6 col4\" >0.0332</td>\n",
       "      <td id=\"T_ca3b0_row6_col5\" class=\"data row6 col5\" >0.0166</td>\n",
       "      <td id=\"T_ca3b0_row6_col6\" class=\"data row6 col6\" >0.0510</td>\n",
       "    </tr>\n",
       "    <tr>\n",
       "      <th id=\"T_ca3b0_level0_row7\" class=\"row_heading level0 row7\" >7</th>\n",
       "      <td id=\"T_ca3b0_row7_col0\" class=\"data row7 col0\" >0.7594</td>\n",
       "      <td id=\"T_ca3b0_row7_col1\" class=\"data row7 col1\" >0.7334</td>\n",
       "      <td id=\"T_ca3b0_row7_col2\" class=\"data row7 col2\" >0.0153</td>\n",
       "      <td id=\"T_ca3b0_row7_col3\" class=\"data row7 col3\" >0.5714</td>\n",
       "      <td id=\"T_ca3b0_row7_col4\" class=\"data row7 col4\" >0.0298</td>\n",
       "      <td id=\"T_ca3b0_row7_col5\" class=\"data row7 col5\" >0.0174</td>\n",
       "      <td id=\"T_ca3b0_row7_col6\" class=\"data row7 col6\" >0.0622</td>\n",
       "    </tr>\n",
       "    <tr>\n",
       "      <th id=\"T_ca3b0_level0_row8\" class=\"row_heading level0 row8\" >8</th>\n",
       "      <td id=\"T_ca3b0_row8_col0\" class=\"data row8 col0\" >0.7566</td>\n",
       "      <td id=\"T_ca3b0_row8_col1\" class=\"data row8 col1\" >0.7581</td>\n",
       "      <td id=\"T_ca3b0_row8_col2\" class=\"data row8 col2\" >0.0191</td>\n",
       "      <td id=\"T_ca3b0_row8_col3\" class=\"data row8 col3\" >0.4167</td>\n",
       "      <td id=\"T_ca3b0_row8_col4\" class=\"data row8 col4\" >0.0366</td>\n",
       "      <td id=\"T_ca3b0_row8_col5\" class=\"data row8 col5\" >0.0157</td>\n",
       "      <td id=\"T_ca3b0_row8_col6\" class=\"data row8 col6\" >0.0433</td>\n",
       "    </tr>\n",
       "    <tr>\n",
       "      <th id=\"T_ca3b0_level0_row9\" class=\"row_heading level0 row9\" >9</th>\n",
       "      <td id=\"T_ca3b0_row9_col0\" class=\"data row9 col0\" >0.7589</td>\n",
       "      <td id=\"T_ca3b0_row9_col1\" class=\"data row9 col1\" >0.7681</td>\n",
       "      <td id=\"T_ca3b0_row9_col2\" class=\"data row9 col2\" >0.0191</td>\n",
       "      <td id=\"T_ca3b0_row9_col3\" class=\"data row9 col3\" >0.5263</td>\n",
       "      <td id=\"T_ca3b0_row9_col4\" class=\"data row9 col4\" >0.0369</td>\n",
       "      <td id=\"T_ca3b0_row9_col5\" class=\"data row9 col5\" >0.0203</td>\n",
       "      <td id=\"T_ca3b0_row9_col6\" class=\"data row9 col6\" >0.0626</td>\n",
       "    </tr>\n",
       "    <tr>\n",
       "      <th id=\"T_ca3b0_level0_row10\" class=\"row_heading level0 row10\" >Mean</th>\n",
       "      <td id=\"T_ca3b0_row10_col0\" class=\"data row10 col0\" >0.7571</td>\n",
       "      <td id=\"T_ca3b0_row10_col1\" class=\"data row10 col1\" >0.7261</td>\n",
       "      <td id=\"T_ca3b0_row10_col2\" class=\"data row10 col2\" >0.0260</td>\n",
       "      <td id=\"T_ca3b0_row10_col3\" class=\"data row10 col3\" >0.4761</td>\n",
       "      <td id=\"T_ca3b0_row10_col4\" class=\"data row10 col4\" >0.0489</td>\n",
       "      <td id=\"T_ca3b0_row10_col5\" class=\"data row10 col5\" >0.0233</td>\n",
       "      <td id=\"T_ca3b0_row10_col6\" class=\"data row10 col6\" >0.0603</td>\n",
       "    </tr>\n",
       "    <tr>\n",
       "      <th id=\"T_ca3b0_level0_row11\" class=\"row_heading level0 row11\" >Std</th>\n",
       "      <td id=\"T_ca3b0_row11_col0\" class=\"data row11 col0\" >0.0042</td>\n",
       "      <td id=\"T_ca3b0_row11_col1\" class=\"data row11 col1\" >0.0944</td>\n",
       "      <td id=\"T_ca3b0_row11_col2\" class=\"data row11 col2\" >0.0083</td>\n",
       "      <td id=\"T_ca3b0_row11_col3\" class=\"data row11 col3\" >0.1024</td>\n",
       "      <td id=\"T_ca3b0_row11_col4\" class=\"data row11 col4\" >0.0146</td>\n",
       "      <td id=\"T_ca3b0_row11_col5\" class=\"data row11 col5\" >0.0101</td>\n",
       "      <td id=\"T_ca3b0_row11_col6\" class=\"data row11 col6\" >0.0251</td>\n",
       "    </tr>\n",
       "  </tbody>\n",
       "</table>\n"
      ],
      "text/plain": [
       "<pandas.io.formats.style.Styler at 0x211603d6f70>"
      ]
     },
     "metadata": {},
     "output_type": "display_data"
    },
    {
     "data": {
      "application/vnd.jupyter.widget-view+json": {
       "model_id": "",
       "version_major": 2,
       "version_minor": 0
      },
      "text/plain": [
       "Processing:   0%|          | 0/4 [00:00<?, ?it/s]"
      ]
     },
     "metadata": {},
     "output_type": "display_data"
    }
   ],
   "source": [
    "lgbm = create_model('lightgbm')"
   ]
  },
  {
   "cell_type": "markdown",
   "metadata": {},
   "source": [
    "Verificando o objeto criado."
   ]
  },
  {
   "cell_type": "code",
   "execution_count": 18,
   "metadata": {
    "colab": {},
    "colab_type": "code",
    "id": "FRat05yGEQpQ",
    "jupyter": {
     "outputs_hidden": true
    },
    "outputId": "c8e6a190-8bec-4646-d2c8-8a92b129c484"
   },
   "outputs": [
    {
     "name": "stdout",
     "output_type": "stream",
     "text": [
      "LGBMClassifier(boosting_type='gbdt', class_weight=None, colsample_bytree=1.0,\n",
      "               importance_type='split', learning_rate=0.1, max_depth=-1,\n",
      "               min_child_samples=20, min_child_weight=0.001, min_split_gain=0.0,\n",
      "               n_estimators=100, n_jobs=-1, num_leaves=31, objective=None,\n",
      "               random_state=123, reg_alpha=0.0, reg_lambda=0.0, silent='warn',\n",
      "               subsample=1.0, subsample_for_bin=200000, subsample_freq=0)\n"
     ]
    }
   ],
   "source": [
    "print(lgbm)"
   ]
  },
  {
   "cell_type": "markdown",
   "metadata": {
    "colab_type": "text",
    "id": "XvpjzbGQEQqB"
   },
   "source": [
    "# Otimização do Modelo"
   ]
  },
  {
   "cell_type": "markdown",
   "metadata": {
    "colab_type": "text",
    "id": "nc_GgksHEQqE"
   },
   "source": [
    "Esta função automaticamente otimiza os hiperparametros do modelo usando Random Grid Search em um espaço de busca predefinido."
   ]
  },
  {
   "cell_type": "markdown",
   "metadata": {},
   "source": [
    " **Ferramentas para otimização de parametros**\n",
    "* http://hyperopt.github.io/hyperopt/\n",
    "* https://optuna.org/"
   ]
  },
  {
   "cell_type": "code",
   "execution_count": 18,
   "metadata": {
    "colab": {
     "base_uri": "https://localhost:8080/",
     "height": 392
    },
    "colab_type": "code",
    "id": "of46aj6vEQqJ",
    "jupyter": {
     "outputs_hidden": true
    },
    "outputId": "26f7f708-739a-489b-bb76-b33e0a800362"
   },
   "outputs": [
    {
     "data": {
      "text/html": [],
      "text/plain": [
       "<IPython.core.display.HTML object>"
      ]
     },
     "metadata": {},
     "output_type": "display_data"
    },
    {
     "data": {
      "text/html": [
       "<style type=\"text/css\">\n",
       "#T_34a62_row10_col0, #T_34a62_row10_col1, #T_34a62_row10_col2, #T_34a62_row10_col3, #T_34a62_row10_col4, #T_34a62_row10_col5, #T_34a62_row10_col6 {\n",
       "  background: yellow;\n",
       "}\n",
       "</style>\n",
       "<table id=\"T_34a62\">\n",
       "  <thead>\n",
       "    <tr>\n",
       "      <th class=\"blank level0\" >&nbsp;</th>\n",
       "      <th id=\"T_34a62_level0_col0\" class=\"col_heading level0 col0\" >Accuracy</th>\n",
       "      <th id=\"T_34a62_level0_col1\" class=\"col_heading level0 col1\" >AUC</th>\n",
       "      <th id=\"T_34a62_level0_col2\" class=\"col_heading level0 col2\" >Recall</th>\n",
       "      <th id=\"T_34a62_level0_col3\" class=\"col_heading level0 col3\" >Prec.</th>\n",
       "      <th id=\"T_34a62_level0_col4\" class=\"col_heading level0 col4\" >F1</th>\n",
       "      <th id=\"T_34a62_level0_col5\" class=\"col_heading level0 col5\" >Kappa</th>\n",
       "      <th id=\"T_34a62_level0_col6\" class=\"col_heading level0 col6\" >MCC</th>\n",
       "    </tr>\n",
       "    <tr>\n",
       "      <th class=\"index_name level0\" >Fold</th>\n",
       "      <th class=\"blank col0\" >&nbsp;</th>\n",
       "      <th class=\"blank col1\" >&nbsp;</th>\n",
       "      <th class=\"blank col2\" >&nbsp;</th>\n",
       "      <th class=\"blank col3\" >&nbsp;</th>\n",
       "      <th class=\"blank col4\" >&nbsp;</th>\n",
       "      <th class=\"blank col5\" >&nbsp;</th>\n",
       "      <th class=\"blank col6\" >&nbsp;</th>\n",
       "    </tr>\n",
       "  </thead>\n",
       "  <tbody>\n",
       "    <tr>\n",
       "      <th id=\"T_34a62_level0_row0\" class=\"row_heading level0 row0\" >0</th>\n",
       "      <td id=\"T_34a62_row0_col0\" class=\"data row0 col0\" >0.7608</td>\n",
       "      <td id=\"T_34a62_row0_col1\" class=\"data row0 col1\" >0.8639</td>\n",
       "      <td id=\"T_34a62_row0_col2\" class=\"data row0 col2\" >0.0363</td>\n",
       "      <td id=\"T_34a62_row0_col3\" class=\"data row0 col3\" >0.5758</td>\n",
       "      <td id=\"T_34a62_row0_col4\" class=\"data row0 col4\" >0.0683</td>\n",
       "      <td id=\"T_34a62_row0_col5\" class=\"data row0 col5\" >0.0409</td>\n",
       "      <td id=\"T_34a62_row0_col6\" class=\"data row0 col6\" >0.0972</td>\n",
       "    </tr>\n",
       "    <tr>\n",
       "      <th id=\"T_34a62_level0_row1\" class=\"row_heading level0 row1\" >1</th>\n",
       "      <td id=\"T_34a62_row1_col0\" class=\"data row1 col0\" >0.7632</td>\n",
       "      <td id=\"T_34a62_row1_col1\" class=\"data row1 col1\" >0.8813</td>\n",
       "      <td id=\"T_34a62_row1_col2\" class=\"data row1 col2\" >0.0363</td>\n",
       "      <td id=\"T_34a62_row1_col3\" class=\"data row1 col3\" >0.6786</td>\n",
       "      <td id=\"T_34a62_row1_col4\" class=\"data row1 col4\" >0.0690</td>\n",
       "      <td id=\"T_34a62_row1_col5\" class=\"data row1 col5\" >0.0455</td>\n",
       "      <td id=\"T_34a62_row1_col6\" class=\"data row1 col6\" >0.1169</td>\n",
       "    </tr>\n",
       "    <tr>\n",
       "      <th id=\"T_34a62_level0_row2\" class=\"row_heading level0 row2\" >2</th>\n",
       "      <td id=\"T_34a62_row2_col0\" class=\"data row2 col0\" >0.7581</td>\n",
       "      <td id=\"T_34a62_row2_col1\" class=\"data row2 col1\" >0.8619</td>\n",
       "      <td id=\"T_34a62_row2_col2\" class=\"data row2 col2\" >0.0382</td>\n",
       "      <td id=\"T_34a62_row2_col3\" class=\"data row2 col3\" >0.4878</td>\n",
       "      <td id=\"T_34a62_row2_col4\" class=\"data row2 col4\" >0.0709</td>\n",
       "      <td id=\"T_34a62_row2_col5\" class=\"data row2 col5\" >0.0371</td>\n",
       "      <td id=\"T_34a62_row2_col6\" class=\"data row2 col6\" >0.0800</td>\n",
       "    </tr>\n",
       "    <tr>\n",
       "      <th id=\"T_34a62_level0_row3\" class=\"row_heading level0 row3\" >3</th>\n",
       "      <td id=\"T_34a62_row3_col0\" class=\"data row3 col0\" >0.7672</td>\n",
       "      <td id=\"T_34a62_row3_col1\" class=\"data row3 col1\" >0.8700</td>\n",
       "      <td id=\"T_34a62_row3_col2\" class=\"data row3 col2\" >0.0402</td>\n",
       "      <td id=\"T_34a62_row3_col3\" class=\"data row3 col3\" >0.8750</td>\n",
       "      <td id=\"T_34a62_row3_col4\" class=\"data row3 col4\" >0.0769</td>\n",
       "      <td id=\"T_34a62_row3_col5\" class=\"data row3 col5\" >0.0569</td>\n",
       "      <td id=\"T_34a62_row3_col6\" class=\"data row3 col6\" >0.1569</td>\n",
       "    </tr>\n",
       "    <tr>\n",
       "      <th id=\"T_34a62_level0_row4\" class=\"row_heading level0 row4\" >4</th>\n",
       "      <td id=\"T_34a62_row4_col0\" class=\"data row4 col0\" >0.7640</td>\n",
       "      <td id=\"T_34a62_row4_col1\" class=\"data row4 col1\" >0.8550</td>\n",
       "      <td id=\"T_34a62_row4_col2\" class=\"data row4 col2\" >0.0460</td>\n",
       "      <td id=\"T_34a62_row4_col3\" class=\"data row4 col3\" >0.6486</td>\n",
       "      <td id=\"T_34a62_row4_col4\" class=\"data row4 col4\" >0.0859</td>\n",
       "      <td id=\"T_34a62_row4_col5\" class=\"data row4 col5\" >0.0557</td>\n",
       "      <td id=\"T_34a62_row4_col6\" class=\"data row4 col6\" >0.1256</td>\n",
       "    </tr>\n",
       "    <tr>\n",
       "      <th id=\"T_34a62_level0_row5\" class=\"row_heading level0 row5\" >5</th>\n",
       "      <td id=\"T_34a62_row5_col0\" class=\"data row5 col0\" >0.7621</td>\n",
       "      <td id=\"T_34a62_row5_col1\" class=\"data row5 col1\" >0.8751</td>\n",
       "      <td id=\"T_34a62_row5_col2\" class=\"data row5 col2\" >0.0229</td>\n",
       "      <td id=\"T_34a62_row5_col3\" class=\"data row5 col3\" >0.7500</td>\n",
       "      <td id=\"T_34a62_row5_col4\" class=\"data row5 col4\" >0.0445</td>\n",
       "      <td id=\"T_34a62_row5_col5\" class=\"data row5 col5\" >0.0306</td>\n",
       "      <td id=\"T_34a62_row5_col6\" class=\"data row5 col6\" >0.1025</td>\n",
       "    </tr>\n",
       "    <tr>\n",
       "      <th id=\"T_34a62_level0_row6\" class=\"row_heading level0 row6\" >6</th>\n",
       "      <td id=\"T_34a62_row6_col0\" class=\"data row6 col0\" >0.7630</td>\n",
       "      <td id=\"T_34a62_row6_col1\" class=\"data row6 col1\" >0.8767</td>\n",
       "      <td id=\"T_34a62_row6_col2\" class=\"data row6 col2\" >0.0306</td>\n",
       "      <td id=\"T_34a62_row6_col3\" class=\"data row6 col3\" >0.7273</td>\n",
       "      <td id=\"T_34a62_row6_col4\" class=\"data row6 col4\" >0.0587</td>\n",
       "      <td id=\"T_34a62_row6_col5\" class=\"data row6 col5\" >0.0400</td>\n",
       "      <td id=\"T_34a62_row6_col6\" class=\"data row6 col6\" >0.1150</td>\n",
       "    </tr>\n",
       "    <tr>\n",
       "      <th id=\"T_34a62_level0_row7\" class=\"row_heading level0 row7\" >7</th>\n",
       "      <td id=\"T_34a62_row7_col0\" class=\"data row7 col0\" >0.7626</td>\n",
       "      <td id=\"T_34a62_row7_col1\" class=\"data row7 col1\" >0.8804</td>\n",
       "      <td id=\"T_34a62_row7_col2\" class=\"data row7 col2\" >0.0268</td>\n",
       "      <td id=\"T_34a62_row7_col3\" class=\"data row7 col3\" >0.7368</td>\n",
       "      <td id=\"T_34a62_row7_col4\" class=\"data row7 col4\" >0.0517</td>\n",
       "      <td id=\"T_34a62_row7_col5\" class=\"data row7 col5\" >0.0353</td>\n",
       "      <td id=\"T_34a62_row7_col6\" class=\"data row7 col6\" >0.1089</td>\n",
       "    </tr>\n",
       "    <tr>\n",
       "      <th id=\"T_34a62_level0_row8\" class=\"row_heading level0 row8\" >8</th>\n",
       "      <td id=\"T_34a62_row8_col0\" class=\"data row8 col0\" >0.7617</td>\n",
       "      <td id=\"T_34a62_row8_col1\" class=\"data row8 col1\" >0.8615</td>\n",
       "      <td id=\"T_34a62_row8_col2\" class=\"data row8 col2\" >0.0344</td>\n",
       "      <td id=\"T_34a62_row8_col3\" class=\"data row8 col3\" >0.6207</td>\n",
       "      <td id=\"T_34a62_row8_col4\" class=\"data row8 col4\" >0.0652</td>\n",
       "      <td id=\"T_34a62_row8_col5\" class=\"data row8 col5\" >0.0409</td>\n",
       "      <td id=\"T_34a62_row8_col6\" class=\"data row8 col6\" >0.1032</td>\n",
       "    </tr>\n",
       "    <tr>\n",
       "      <th id=\"T_34a62_level0_row9\" class=\"row_heading level0 row9\" >9</th>\n",
       "      <td id=\"T_34a62_row9_col0\" class=\"data row9 col0\" >0.7594</td>\n",
       "      <td id=\"T_34a62_row9_col1\" class=\"data row9 col1\" >0.8705</td>\n",
       "      <td id=\"T_34a62_row9_col2\" class=\"data row9 col2\" >0.0268</td>\n",
       "      <td id=\"T_34a62_row9_col3\" class=\"data row9 col3\" >0.5385</td>\n",
       "      <td id=\"T_34a62_row9_col4\" class=\"data row9 col4\" >0.0510</td>\n",
       "      <td id=\"T_34a62_row9_col5\" class=\"data row9 col5\" >0.0288</td>\n",
       "      <td id=\"T_34a62_row9_col6\" class=\"data row9 col6\" >0.0765</td>\n",
       "    </tr>\n",
       "    <tr>\n",
       "      <th id=\"T_34a62_level0_row10\" class=\"row_heading level0 row10\" >Mean</th>\n",
       "      <td id=\"T_34a62_row10_col0\" class=\"data row10 col0\" >0.7622</td>\n",
       "      <td id=\"T_34a62_row10_col1\" class=\"data row10 col1\" >0.8696</td>\n",
       "      <td id=\"T_34a62_row10_col2\" class=\"data row10 col2\" >0.0339</td>\n",
       "      <td id=\"T_34a62_row10_col3\" class=\"data row10 col3\" >0.6639</td>\n",
       "      <td id=\"T_34a62_row10_col4\" class=\"data row10 col4\" >0.0642</td>\n",
       "      <td id=\"T_34a62_row10_col5\" class=\"data row10 col5\" >0.0412</td>\n",
       "      <td id=\"T_34a62_row10_col6\" class=\"data row10 col6\" >0.1083</td>\n",
       "    </tr>\n",
       "    <tr>\n",
       "      <th id=\"T_34a62_level0_row11\" class=\"row_heading level0 row11\" >Std</th>\n",
       "      <td id=\"T_34a62_row11_col0\" class=\"data row11 col0\" >0.0024</td>\n",
       "      <td id=\"T_34a62_row11_col1\" class=\"data row11 col1\" >0.0084</td>\n",
       "      <td id=\"T_34a62_row11_col2\" class=\"data row11 col2\" >0.0067</td>\n",
       "      <td id=\"T_34a62_row11_col3\" class=\"data row11 col3\" >0.1087</td>\n",
       "      <td id=\"T_34a62_row11_col4\" class=\"data row11 col4\" >0.0121</td>\n",
       "      <td id=\"T_34a62_row11_col5\" class=\"data row11 col5\" >0.0089</td>\n",
       "      <td id=\"T_34a62_row11_col6\" class=\"data row11 col6\" >0.0219</td>\n",
       "    </tr>\n",
       "  </tbody>\n",
       "</table>\n"
      ],
      "text/plain": [
       "<pandas.io.formats.style.Styler at 0x2512e752cd0>"
      ]
     },
     "metadata": {},
     "output_type": "display_data"
    },
    {
     "data": {
      "application/vnd.jupyter.widget-view+json": {
       "model_id": "",
       "version_major": 2,
       "version_minor": 0
      },
      "text/plain": [
       "Processing:   0%|          | 0/7 [00:00<?, ?it/s]"
      ]
     },
     "metadata": {},
     "output_type": "display_data"
    },
    {
     "name": "stdout",
     "output_type": "stream",
     "text": [
      "Fitting 10 folds for each of 10 candidates, totalling 100 fits\n"
     ]
    }
   ],
   "source": [
    "tuned_lgbm = tune_model(lgbm)"
   ]
  },
  {
   "cell_type": "markdown",
   "metadata": {},
   "source": [
    "Verificando o objeto criado"
   ]
  },
  {
   "cell_type": "code",
   "execution_count": 19,
   "metadata": {
    "colab": {},
    "colab_type": "code",
    "id": "__anDkttEQqV",
    "jupyter": {
     "outputs_hidden": true
    },
    "outputId": "7cf46ace-012a-4131-b8b8-370f9d4a63cb",
    "tags": []
   },
   "outputs": [
    {
     "name": "stdout",
     "output_type": "stream",
     "text": [
      "LGBMClassifier(bagging_fraction=0.7, bagging_freq=6, boosting_type='gbdt',\n",
      "               class_weight=None, colsample_bytree=1.0, feature_fraction=0.5,\n",
      "               importance_type='split', learning_rate=0.1, max_depth=-1,\n",
      "               min_child_samples=66, min_child_weight=0.001, min_split_gain=0.4,\n",
      "               n_estimators=90, n_jobs=-1, num_leaves=90, objective=None,\n",
      "               random_state=123, reg_alpha=0.0005, reg_lambda=0.1,\n",
      "               silent='warn', subsample=1.0, subsample_for_bin=200000,\n",
      "               subsample_freq=0)\n"
     ]
    }
   ],
   "source": [
    "print(tuned_lgbm)"
   ]
  },
  {
   "cell_type": "markdown",
   "metadata": {},
   "source": [
    "Personalizando a busca por hiperparametros."
   ]
  },
  {
   "cell_type": "code",
   "execution_count": 20,
   "metadata": {
    "jupyter": {
     "outputs_hidden": true
    }
   },
   "outputs": [],
   "source": [
    "import numpy as np\n",
    "params = {\n",
    "    'n_estimators': np.arange(100,500,50),\n",
    "    'max_depth': [-1,3,5,10],\n",
    "    'num_leaves': np.arange(50,120,10)\n",
    "}"
   ]
  },
  {
   "cell_type": "code",
   "execution_count": 21,
   "metadata": {
    "jupyter": {
     "outputs_hidden": true
    }
   },
   "outputs": [
    {
     "data": {
      "text/plain": [
       "{'n_estimators': array([100, 150, 200, 250, 300, 350, 400, 450]),\n",
       " 'max_depth': [-1, 3, 5, 10],\n",
       " 'num_leaves': array([ 50,  60,  70,  80,  90, 100, 110])}"
      ]
     },
     "execution_count": 21,
     "metadata": {},
     "output_type": "execute_result"
    }
   ],
   "source": [
    "params"
   ]
  },
  {
   "cell_type": "markdown",
   "metadata": {
    "colab_type": "text",
    "id": "CD-f0delEQqq"
   },
   "source": [
    "#### Realizando o tunning do algoritmo."
   ]
  },
  {
   "cell_type": "code",
   "execution_count": 22,
   "metadata": {
    "colab": {
     "base_uri": "https://localhost:8080/",
     "height": 392
    },
    "colab_type": "code",
    "id": "xN1nYwFXEQqv",
    "jupyter": {
     "outputs_hidden": true
    },
    "outputId": "e4ab669d-bee0-4a9d-f5c7-2ed07ec613b9"
   },
   "outputs": [
    {
     "data": {
      "text/html": [],
      "text/plain": [
       "<IPython.core.display.HTML object>"
      ]
     },
     "metadata": {},
     "output_type": "display_data"
    },
    {
     "data": {
      "text/html": [
       "<style type=\"text/css\">\n",
       "#T_61f54_row10_col0, #T_61f54_row10_col1, #T_61f54_row10_col2, #T_61f54_row10_col3, #T_61f54_row10_col4, #T_61f54_row10_col5, #T_61f54_row10_col6 {\n",
       "  background: yellow;\n",
       "}\n",
       "</style>\n",
       "<table id=\"T_61f54\">\n",
       "  <thead>\n",
       "    <tr>\n",
       "      <th class=\"blank level0\" >&nbsp;</th>\n",
       "      <th id=\"T_61f54_level0_col0\" class=\"col_heading level0 col0\" >Accuracy</th>\n",
       "      <th id=\"T_61f54_level0_col1\" class=\"col_heading level0 col1\" >AUC</th>\n",
       "      <th id=\"T_61f54_level0_col2\" class=\"col_heading level0 col2\" >Recall</th>\n",
       "      <th id=\"T_61f54_level0_col3\" class=\"col_heading level0 col3\" >Prec.</th>\n",
       "      <th id=\"T_61f54_level0_col4\" class=\"col_heading level0 col4\" >F1</th>\n",
       "      <th id=\"T_61f54_level0_col5\" class=\"col_heading level0 col5\" >Kappa</th>\n",
       "      <th id=\"T_61f54_level0_col6\" class=\"col_heading level0 col6\" >MCC</th>\n",
       "    </tr>\n",
       "    <tr>\n",
       "      <th class=\"index_name level0\" >Fold</th>\n",
       "      <th class=\"blank col0\" >&nbsp;</th>\n",
       "      <th class=\"blank col1\" >&nbsp;</th>\n",
       "      <th class=\"blank col2\" >&nbsp;</th>\n",
       "      <th class=\"blank col3\" >&nbsp;</th>\n",
       "      <th class=\"blank col4\" >&nbsp;</th>\n",
       "      <th class=\"blank col5\" >&nbsp;</th>\n",
       "      <th class=\"blank col6\" >&nbsp;</th>\n",
       "    </tr>\n",
       "  </thead>\n",
       "  <tbody>\n",
       "    <tr>\n",
       "      <th id=\"T_61f54_level0_row0\" class=\"row_heading level0 row0\" >0</th>\n",
       "      <td id=\"T_61f54_row0_col0\" class=\"data row0 col0\" >0.7627</td>\n",
       "      <td id=\"T_61f54_row0_col1\" class=\"data row0 col1\" >0.8155</td>\n",
       "      <td id=\"T_61f54_row0_col2\" class=\"data row0 col2\" >0.0402</td>\n",
       "      <td id=\"T_61f54_row0_col3\" class=\"data row0 col3\" >0.6364</td>\n",
       "      <td id=\"T_61f54_row0_col4\" class=\"data row0 col4\" >0.0755</td>\n",
       "      <td id=\"T_61f54_row0_col5\" class=\"data row0 col5\" >0.0483</td>\n",
       "      <td id=\"T_61f54_row0_col6\" class=\"data row0 col6\" >0.1148</td>\n",
       "    </tr>\n",
       "    <tr>\n",
       "      <th id=\"T_61f54_level0_row1\" class=\"row_heading level0 row1\" >1</th>\n",
       "      <td id=\"T_61f54_row1_col0\" class=\"data row1 col0\" >0.7613</td>\n",
       "      <td id=\"T_61f54_row1_col1\" class=\"data row1 col1\" >0.8385</td>\n",
       "      <td id=\"T_61f54_row1_col2\" class=\"data row1 col2\" >0.0306</td>\n",
       "      <td id=\"T_61f54_row1_col3\" class=\"data row1 col3\" >0.6154</td>\n",
       "      <td id=\"T_61f54_row1_col4\" class=\"data row1 col4\" >0.0583</td>\n",
       "      <td id=\"T_61f54_row1_col5\" class=\"data row1 col5\" >0.0362</td>\n",
       "      <td id=\"T_61f54_row1_col6\" class=\"data row1 col6\" >0.0963</td>\n",
       "    </tr>\n",
       "    <tr>\n",
       "      <th id=\"T_61f54_level0_row2\" class=\"row_heading level0 row2\" >2</th>\n",
       "      <td id=\"T_61f54_row2_col0\" class=\"data row2 col0\" >0.7608</td>\n",
       "      <td id=\"T_61f54_row2_col1\" class=\"data row2 col1\" >0.8107</td>\n",
       "      <td id=\"T_61f54_row2_col2\" class=\"data row2 col2\" >0.0363</td>\n",
       "      <td id=\"T_61f54_row2_col3\" class=\"data row2 col3\" >0.5758</td>\n",
       "      <td id=\"T_61f54_row2_col4\" class=\"data row2 col4\" >0.0683</td>\n",
       "      <td id=\"T_61f54_row2_col5\" class=\"data row2 col5\" >0.0409</td>\n",
       "      <td id=\"T_61f54_row2_col6\" class=\"data row2 col6\" >0.0972</td>\n",
       "    </tr>\n",
       "    <tr>\n",
       "      <th id=\"T_61f54_level0_row3\" class=\"row_heading level0 row3\" >3</th>\n",
       "      <td id=\"T_61f54_row3_col0\" class=\"data row3 col0\" >0.7677</td>\n",
       "      <td id=\"T_61f54_row3_col1\" class=\"data row3 col1\" >0.8293</td>\n",
       "      <td id=\"T_61f54_row3_col2\" class=\"data row3 col2\" >0.0402</td>\n",
       "      <td id=\"T_61f54_row3_col3\" class=\"data row3 col3\" >0.9130</td>\n",
       "      <td id=\"T_61f54_row3_col4\" class=\"data row3 col4\" >0.0771</td>\n",
       "      <td id=\"T_61f54_row3_col5\" class=\"data row3 col5\" >0.0579</td>\n",
       "      <td id=\"T_61f54_row3_col6\" class=\"data row3 col6\" >0.1628</td>\n",
       "    </tr>\n",
       "    <tr>\n",
       "      <th id=\"T_61f54_level0_row4\" class=\"row_heading level0 row4\" >4</th>\n",
       "      <td id=\"T_61f54_row4_col0\" class=\"data row4 col0\" >0.7598</td>\n",
       "      <td id=\"T_61f54_row4_col1\" class=\"data row4 col1\" >0.8177</td>\n",
       "      <td id=\"T_61f54_row4_col2\" class=\"data row4 col2\" >0.0287</td>\n",
       "      <td id=\"T_61f54_row4_col3\" class=\"data row4 col3\" >0.5357</td>\n",
       "      <td id=\"T_61f54_row4_col4\" class=\"data row4 col4\" >0.0545</td>\n",
       "      <td id=\"T_61f54_row4_col5\" class=\"data row4 col5\" >0.0308</td>\n",
       "      <td id=\"T_61f54_row4_col6\" class=\"data row4 col6\" >0.0788</td>\n",
       "    </tr>\n",
       "    <tr>\n",
       "      <th id=\"T_61f54_level0_row5\" class=\"row_heading level0 row5\" >5</th>\n",
       "      <td id=\"T_61f54_row5_col0\" class=\"data row5 col0\" >0.7630</td>\n",
       "      <td id=\"T_61f54_row5_col1\" class=\"data row5 col1\" >0.8318</td>\n",
       "      <td id=\"T_61f54_row5_col2\" class=\"data row5 col2\" >0.0249</td>\n",
       "      <td id=\"T_61f54_row5_col3\" class=\"data row5 col3\" >0.8125</td>\n",
       "      <td id=\"T_61f54_row5_col4\" class=\"data row5 col4\" >0.0482</td>\n",
       "      <td id=\"T_61f54_row5_col5\" class=\"data row5 col5\" >0.0344</td>\n",
       "      <td id=\"T_61f54_row5_col6\" class=\"data row5 col6\" >0.1151</td>\n",
       "    </tr>\n",
       "    <tr>\n",
       "      <th id=\"T_61f54_level0_row6\" class=\"row_heading level0 row6\" >6</th>\n",
       "      <td id=\"T_61f54_row6_col0\" class=\"data row6 col0\" >0.7635</td>\n",
       "      <td id=\"T_61f54_row6_col1\" class=\"data row6 col1\" >0.8393</td>\n",
       "      <td id=\"T_61f54_row6_col2\" class=\"data row6 col2\" >0.0268</td>\n",
       "      <td id=\"T_61f54_row6_col3\" class=\"data row6 col3\" >0.8235</td>\n",
       "      <td id=\"T_61f54_row6_col4\" class=\"data row6 col4\" >0.0519</td>\n",
       "      <td id=\"T_61f54_row6_col5\" class=\"data row6 col5\" >0.0372</td>\n",
       "      <td id=\"T_61f54_row6_col6\" class=\"data row6 col6\" >0.1210</td>\n",
       "    </tr>\n",
       "    <tr>\n",
       "      <th id=\"T_61f54_level0_row7\" class=\"row_heading level0 row7\" >7</th>\n",
       "      <td id=\"T_61f54_row7_col0\" class=\"data row7 col0\" >0.7612</td>\n",
       "      <td id=\"T_61f54_row7_col1\" class=\"data row7 col1\" >0.8379</td>\n",
       "      <td id=\"T_61f54_row7_col2\" class=\"data row7 col2\" >0.0268</td>\n",
       "      <td id=\"T_61f54_row7_col3\" class=\"data row7 col3\" >0.6364</td>\n",
       "      <td id=\"T_61f54_row7_col4\" class=\"data row7 col4\" >0.0514</td>\n",
       "      <td id=\"T_61f54_row7_col5\" class=\"data row7 col5\" >0.0325</td>\n",
       "      <td id=\"T_61f54_row7_col6\" class=\"data row7 col6\" >0.0935</td>\n",
       "    </tr>\n",
       "    <tr>\n",
       "      <th id=\"T_61f54_level0_row8\" class=\"row_heading level0 row8\" >8</th>\n",
       "      <td id=\"T_61f54_row8_col0\" class=\"data row8 col0\" >0.7607</td>\n",
       "      <td id=\"T_61f54_row8_col1\" class=\"data row8 col1\" >0.8182</td>\n",
       "      <td id=\"T_61f54_row8_col2\" class=\"data row8 col2\" >0.0306</td>\n",
       "      <td id=\"T_61f54_row8_col3\" class=\"data row8 col3\" >0.5926</td>\n",
       "      <td id=\"T_61f54_row8_col4\" class=\"data row8 col4\" >0.0582</td>\n",
       "      <td id=\"T_61f54_row8_col5\" class=\"data row8 col5\" >0.0353</td>\n",
       "      <td id=\"T_61f54_row8_col6\" class=\"data row8 col6\" >0.0922</td>\n",
       "    </tr>\n",
       "    <tr>\n",
       "      <th id=\"T_61f54_level0_row9\" class=\"row_heading level0 row9\" >9</th>\n",
       "      <td id=\"T_61f54_row9_col0\" class=\"data row9 col0\" >0.7594</td>\n",
       "      <td id=\"T_61f54_row9_col1\" class=\"data row9 col1\" >0.8400</td>\n",
       "      <td id=\"T_61f54_row9_col2\" class=\"data row9 col2\" >0.0249</td>\n",
       "      <td id=\"T_61f54_row9_col3\" class=\"data row9 col3\" >0.5417</td>\n",
       "      <td id=\"T_61f54_row9_col4\" class=\"data row9 col4\" >0.0475</td>\n",
       "      <td id=\"T_61f54_row9_col5\" class=\"data row9 col5\" >0.0269</td>\n",
       "      <td id=\"T_61f54_row9_col6\" class=\"data row9 col6\" >0.0742</td>\n",
       "    </tr>\n",
       "    <tr>\n",
       "      <th id=\"T_61f54_level0_row10\" class=\"row_heading level0 row10\" >Mean</th>\n",
       "      <td id=\"T_61f54_row10_col0\" class=\"data row10 col0\" >0.7620</td>\n",
       "      <td id=\"T_61f54_row10_col1\" class=\"data row10 col1\" >0.8279</td>\n",
       "      <td id=\"T_61f54_row10_col2\" class=\"data row10 col2\" >0.0310</td>\n",
       "      <td id=\"T_61f54_row10_col3\" class=\"data row10 col3\" >0.6683</td>\n",
       "      <td id=\"T_61f54_row10_col4\" class=\"data row10 col4\" >0.0591</td>\n",
       "      <td id=\"T_61f54_row10_col5\" class=\"data row10 col5\" >0.0380</td>\n",
       "      <td id=\"T_61f54_row10_col6\" class=\"data row10 col6\" >0.1046</td>\n",
       "    </tr>\n",
       "    <tr>\n",
       "      <th id=\"T_61f54_level0_row11\" class=\"row_heading level0 row11\" >Std</th>\n",
       "      <td id=\"T_61f54_row11_col0\" class=\"data row11 col0\" >0.0023</td>\n",
       "      <td id=\"T_61f54_row11_col1\" class=\"data row11 col1\" >0.0107</td>\n",
       "      <td id=\"T_61f54_row11_col2\" class=\"data row11 col2\" >0.0056</td>\n",
       "      <td id=\"T_61f54_row11_col3\" class=\"data row11 col3\" >0.1255</td>\n",
       "      <td id=\"T_61f54_row11_col4\" class=\"data row11 col4\" >0.0103</td>\n",
       "      <td id=\"T_61f54_row11_col5\" class=\"data row11 col5\" >0.0086</td>\n",
       "      <td id=\"T_61f54_row11_col6\" class=\"data row11 col6\" >0.0242</td>\n",
       "    </tr>\n",
       "  </tbody>\n",
       "</table>\n"
      ],
      "text/plain": [
       "<pandas.io.formats.style.Styler at 0x2512e8b4d90>"
      ]
     },
     "metadata": {},
     "output_type": "display_data"
    },
    {
     "data": {
      "application/vnd.jupyter.widget-view+json": {
       "model_id": "",
       "version_major": 2,
       "version_minor": 0
      },
      "text/plain": [
       "Processing:   0%|          | 0/7 [00:00<?, ?it/s]"
      ]
     },
     "metadata": {},
     "output_type": "display_data"
    },
    {
     "name": "stdout",
     "output_type": "stream",
     "text": [
      "Fitting 10 folds for each of 10 candidates, totalling 100 fits\n"
     ]
    }
   ],
   "source": [
    "tuned_lgbm2 = tune_model(lgbm, custom_grid = params)"
   ]
  },
  {
   "cell_type": "code",
   "execution_count": 23,
   "metadata": {
    "jupyter": {
     "outputs_hidden": true
    },
    "tags": []
   },
   "outputs": [
    {
     "name": "stdout",
     "output_type": "stream",
     "text": [
      "LGBMClassifier(boosting_type='gbdt', class_weight=None, colsample_bytree=1.0,\n",
      "               importance_type='split', learning_rate=0.1, max_depth=3,\n",
      "               min_child_samples=20, min_child_weight=0.001, min_split_gain=0.0,\n",
      "               n_estimators=100, n_jobs=-1, num_leaves=60, objective=None,\n",
      "               random_state=123, reg_alpha=0.0, reg_lambda=0.0, silent='warn',\n",
      "               subsample=1.0, subsample_for_bin=200000, subsample_freq=0)\n"
     ]
    }
   ],
   "source": [
    "print(tuned_lgbm2)"
   ]
  },
  {
   "cell_type": "markdown",
   "metadata": {
    "colab_type": "text",
    "id": "w_P46O0jEQrT"
   },
   "source": [
    "# Exibindo graficamente a performance do modelo"
   ]
  },
  {
   "cell_type": "markdown",
   "metadata": {
    "colab_type": "text",
    "id": "FGM9GOtjEQrV"
   },
   "source": [
    "Com esta função podemos analisar a performance do modelo através de gráficos."
   ]
  },
  {
   "cell_type": "markdown",
   "metadata": {
    "colab_type": "text",
    "id": "_r9rwEw7EQrz"
   },
   "source": [
    "### Feature Importance Plot"
   ]
  },
  {
   "cell_type": "code",
   "execution_count": 24,
   "metadata": {
    "colab": {},
    "colab_type": "code",
    "id": "nVScSxJ-EQr2",
    "jupyter": {
     "outputs_hidden": true
    },
    "outputId": "f44f4b08-b749-4d0e-dcc9-d7e3dc6240c8"
   },
   "outputs": [
    {
     "data": {
      "text/html": [],
      "text/plain": [
       "<IPython.core.display.HTML object>"
      ]
     },
     "metadata": {},
     "output_type": "display_data"
    },
    {
     "data": {
      "image/png": "[encoded data removed]",
      "text/plain": [
       "<Figure size 800x500 with 1 Axes>"
      ]
     },
     "metadata": {},
     "output_type": "display_data"
    }
   ],
   "source": [
    "plot_model(tuned_lgbm2, plot='feature')"
   ]
  },
  {
   "cell_type": "markdown",
   "metadata": {
    "colab_type": "text",
    "id": "FfWC3NEhEQr9"
   },
   "source": [
    "### Matriz de confusão"
   ]
  },
  {
   "cell_type": "code",
   "execution_count": 25,
   "metadata": {
    "colab": {},
    "colab_type": "code",
    "id": "OAB5mes-EQsA",
    "jupyter": {
     "outputs_hidden": true
    },
    "outputId": "bd82130d-2cc3-4b63-df5d-03b7aa54bf52"
   },
   "outputs": [
    {
     "data": {
      "text/html": [],
      "text/plain": [
       "<IPython.core.display.HTML object>"
      ]
     },
     "metadata": {},
     "output_type": "display_data"
    },
    {
     "data": {
      "image/png": "[encoded data removed]",
      "text/plain": [
       "<Figure size 800x550 with 1 Axes>"
      ]
     },
     "metadata": {},
     "output_type": "display_data"
    }
   ],
   "source": [
    "plot_model(tuned_lgbm2, plot = 'confusion_matrix')"
   ]
  },
  {
   "cell_type": "markdown",
   "metadata": {
    "colab_type": "text",
    "id": "deClKJrbEQsJ"
   },
   "source": [
    "A função evaluate_model exibe uma interface o usuário selecionar os gráficos disponíveis para um determinado modelo."
   ]
  },
  {
   "cell_type": "code",
   "execution_count": 26,
   "metadata": {
    "colab": {
     "base_uri": "https://localhost:8080/",
     "height": 436,
     "referenced_widgets": [
      "42d5400d235d40b78190016ef0dabe11",
      "41031579127f4a53b58957e601465083",
      "12bf8b3c6ae8444a900474912589fdf1",
      "9bb3600d38c04691b444ff375ad5e3f5",
      "8886001bc7c1463ba58a8453f5c55073",
      "0a06fb091bd94ce6b6ab892e2c6faadf",
      "3cc1e83b91f34b289c7d52003f20a97a",
      "8d709ec9ec484944b1f9773748857f84",
      "8399e21b17634116861a5abaa9c0ccf7",
      "d5b6fce1763b4b54898ff3397b0f5bb0",
      "57b94ac505d142769b79de2f1e5c1166",
      "2a81017413ca4fe789c2272a5831a069",
      "02771b4dc3284414ab05df1906f4556b",
      "9e338844e75b4e17be8483529f5f38fd",
      "22588a12c0db4067982e62ebbe7e6930"
     ]
    },
    "colab_type": "code",
    "id": "OcLV1Ln6EQsN",
    "jupyter": {
     "outputs_hidden": true
    },
    "outputId": "7b5b8b4e-8d4a-4371-9a4f-cabb0a96265a",
    "tags": []
   },
   "outputs": [
    {
     "data": {
      "application/vnd.jupyter.widget-view+json": {
       "model_id": "b88187fb99c048fbb3e06a53b804adee",
       "version_major": 2,
       "version_minor": 0
      },
      "text/plain": [
       "interactive(children=(ToggleButtons(description='Plot Type:', icons=('',), options=(('Pipeline Plot', 'pipelin…"
      ]
     },
     "metadata": {},
     "output_type": "display_data"
    },
    {
     "data": {
      "image/png": "[encoded data removed]",
      "text/plain": [
       "<Figure size 3200x600 with 1 Axes>"
      ]
     },
     "metadata": {},
     "output_type": "display_data"
    }
   ],
   "source": [
    "evaluate_model(tuned_lgbm2)"
   ]
  },
  {
   "cell_type": "markdown",
   "metadata": {
    "colab_type": "text",
    "id": "RX5pYUJJEQsV"
   },
   "source": [
    "# Predict utilizando a amostra de teste."
   ]
  },
  {
   "cell_type": "markdown",
   "metadata": {
    "colab_type": "text",
    "id": "mFSvRYiaEQsd"
   },
   "source": [
    "Esta função realiza a predição utilizando o modelo especificado utilizando a amostra separada de teste."
   ]
  },
  {
   "cell_type": "code",
   "execution_count": 27,
   "metadata": {
    "jupyter": {
     "outputs_hidden": true
    },
    "tags": []
   },
   "outputs": [
    {
     "data": {
      "text/html": [
       "<style type=\"text/css\">\n",
       "</style>\n",
       "<table id=\"T_f133b\">\n",
       "  <thead>\n",
       "    <tr>\n",
       "      <th class=\"blank level0\" >&nbsp;</th>\n",
       "      <th id=\"T_f133b_level0_col0\" class=\"col_heading level0 col0\" >Model</th>\n",
       "      <th id=\"T_f133b_level0_col1\" class=\"col_heading level0 col1\" >Accuracy</th>\n",
       "      <th id=\"T_f133b_level0_col2\" class=\"col_heading level0 col2\" >AUC</th>\n",
       "      <th id=\"T_f133b_level0_col3\" class=\"col_heading level0 col3\" >Recall</th>\n",
       "      <th id=\"T_f133b_level0_col4\" class=\"col_heading level0 col4\" >Prec.</th>\n",
       "      <th id=\"T_f133b_level0_col5\" class=\"col_heading level0 col5\" >F1</th>\n",
       "      <th id=\"T_f133b_level0_col6\" class=\"col_heading level0 col6\" >Kappa</th>\n",
       "      <th id=\"T_f133b_level0_col7\" class=\"col_heading level0 col7\" >MCC</th>\n",
       "    </tr>\n",
       "  </thead>\n",
       "  <tbody>\n",
       "    <tr>\n",
       "      <th id=\"T_f133b_level0_row0\" class=\"row_heading level0 row0\" >0</th>\n",
       "      <td id=\"T_f133b_row0_col0\" class=\"data row0 col0\" >Light Gradient Boosting Machine</td>\n",
       "      <td id=\"T_f133b_row0_col1\" class=\"data row0 col1\" >0.9946</td>\n",
       "      <td id=\"T_f133b_row0_col2\" class=\"data row0 col2\" >0.9998</td>\n",
       "      <td id=\"T_f133b_row0_col3\" class=\"data row0 col3\" >0.9835</td>\n",
       "      <td id=\"T_f133b_row0_col4\" class=\"data row0 col4\" >0.9941</td>\n",
       "      <td id=\"T_f133b_row0_col5\" class=\"data row0 col5\" >0.9888</td>\n",
       "      <td id=\"T_f133b_row0_col6\" class=\"data row0 col6\" >0.9852</td>\n",
       "      <td id=\"T_f133b_row0_col7\" class=\"data row0 col7\" >0.9853</td>\n",
       "    </tr>\n",
       "  </tbody>\n",
       "</table>\n"
      ],
      "text/plain": [
       "<pandas.io.formats.style.Styler at 0x2512fa4ed90>"
      ]
     },
     "metadata": {},
     "output_type": "display_data"
    },
    {
     "data": {
      "text/html": [
       "<div>\n",
       "<style scoped>\n",
       "    .dataframe tbody tr th:only-of-type {\n",
       "        vertical-align: middle;\n",
       "    }\n",
       "\n",
       "    .dataframe tbody tr th {\n",
       "        vertical-align: top;\n",
       "    }\n",
       "\n",
       "    .dataframe thead th {\n",
       "        text-align: right;\n",
       "    }\n",
       "</style>\n",
       "<table border=\"1\" class=\"dataframe\">\n",
       "  <thead>\n",
       "    <tr style=\"text-align: right;\">\n",
       "      <th></th>\n",
       "      <th>age</th>\n",
       "      <th>workclass</th>\n",
       "      <th>education</th>\n",
       "      <th>education-num</th>\n",
       "      <th>marital-status</th>\n",
       "      <th>occupation</th>\n",
       "      <th>relationship</th>\n",
       "      <th>race</th>\n",
       "      <th>sex</th>\n",
       "      <th>capital-gain</th>\n",
       "      <th>capital-loss</th>\n",
       "      <th>hours-per-week</th>\n",
       "      <th>native-country</th>\n",
       "      <th>income &gt;50K</th>\n",
       "      <th>prediction_label</th>\n",
       "      <th>prediction_score</th>\n",
       "    </tr>\n",
       "  </thead>\n",
       "  <tbody>\n",
       "    <tr>\n",
       "      <th>5796</th>\n",
       "      <td>69</td>\n",
       "      <td>NaN</td>\n",
       "      <td>Prof-school</td>\n",
       "      <td>15</td>\n",
       "      <td>Divorced</td>\n",
       "      <td>NaN</td>\n",
       "      <td>Not-in-family</td>\n",
       "      <td>White</td>\n",
       "      <td>Male</td>\n",
       "      <td>0</td>\n",
       "      <td>0</td>\n",
       "      <td>5</td>\n",
       "      <td>United-States</td>\n",
       "      <td>0</td>\n",
       "      <td>0</td>\n",
       "      <td>0.9992</td>\n",
       "    </tr>\n",
       "    <tr>\n",
       "      <th>29710</th>\n",
       "      <td>34</td>\n",
       "      <td>Self-emp-inc</td>\n",
       "      <td>HS-grad</td>\n",
       "      <td>9</td>\n",
       "      <td>Married-civ-spouse</td>\n",
       "      <td>Adm-clerical</td>\n",
       "      <td>Husband</td>\n",
       "      <td>White</td>\n",
       "      <td>Male</td>\n",
       "      <td>0</td>\n",
       "      <td>0</td>\n",
       "      <td>45</td>\n",
       "      <td>United-States</td>\n",
       "      <td>0</td>\n",
       "      <td>0</td>\n",
       "      <td>0.9993</td>\n",
       "    </tr>\n",
       "    <tr>\n",
       "      <th>19776</th>\n",
       "      <td>47</td>\n",
       "      <td>Private</td>\n",
       "      <td>HS-grad</td>\n",
       "      <td>9</td>\n",
       "      <td>Married-civ-spouse</td>\n",
       "      <td>Craft-repair</td>\n",
       "      <td>Husband</td>\n",
       "      <td>White</td>\n",
       "      <td>Male</td>\n",
       "      <td>0</td>\n",
       "      <td>0</td>\n",
       "      <td>40</td>\n",
       "      <td>United-States</td>\n",
       "      <td>0</td>\n",
       "      <td>0</td>\n",
       "      <td>0.9993</td>\n",
       "    </tr>\n",
       "    <tr>\n",
       "      <th>22545</th>\n",
       "      <td>35</td>\n",
       "      <td>Private</td>\n",
       "      <td>Bachelors</td>\n",
       "      <td>13</td>\n",
       "      <td>Married-civ-spouse</td>\n",
       "      <td>Craft-repair</td>\n",
       "      <td>Husband</td>\n",
       "      <td>White</td>\n",
       "      <td>Male</td>\n",
       "      <td>0</td>\n",
       "      <td>0</td>\n",
       "      <td>40</td>\n",
       "      <td>United-States</td>\n",
       "      <td>0</td>\n",
       "      <td>0</td>\n",
       "      <td>0.9988</td>\n",
       "    </tr>\n",
       "    <tr>\n",
       "      <th>14501</th>\n",
       "      <td>30</td>\n",
       "      <td>Self-emp-not-inc</td>\n",
       "      <td>Some-college</td>\n",
       "      <td>10</td>\n",
       "      <td>Never-married</td>\n",
       "      <td>Sales</td>\n",
       "      <td>Other-relative</td>\n",
       "      <td>Asian-Pac-Islander</td>\n",
       "      <td>Male</td>\n",
       "      <td>0</td>\n",
       "      <td>2258</td>\n",
       "      <td>40</td>\n",
       "      <td>South</td>\n",
       "      <td>0</td>\n",
       "      <td>0</td>\n",
       "      <td>0.9701</td>\n",
       "    </tr>\n",
       "    <tr>\n",
       "      <th>...</th>\n",
       "      <td>...</td>\n",
       "      <td>...</td>\n",
       "      <td>...</td>\n",
       "      <td>...</td>\n",
       "      <td>...</td>\n",
       "      <td>...</td>\n",
       "      <td>...</td>\n",
       "      <td>...</td>\n",
       "      <td>...</td>\n",
       "      <td>...</td>\n",
       "      <td>...</td>\n",
       "      <td>...</td>\n",
       "      <td>...</td>\n",
       "      <td>...</td>\n",
       "      <td>...</td>\n",
       "      <td>...</td>\n",
       "    </tr>\n",
       "    <tr>\n",
       "      <th>8611</th>\n",
       "      <td>30</td>\n",
       "      <td>Private</td>\n",
       "      <td>Some-college</td>\n",
       "      <td>10</td>\n",
       "      <td>Married-civ-spouse</td>\n",
       "      <td>Handlers-cleaners</td>\n",
       "      <td>Husband</td>\n",
       "      <td>White</td>\n",
       "      <td>Male</td>\n",
       "      <td>0</td>\n",
       "      <td>0</td>\n",
       "      <td>40</td>\n",
       "      <td>Poland</td>\n",
       "      <td>0</td>\n",
       "      <td>0</td>\n",
       "      <td>0.8388</td>\n",
       "    </tr>\n",
       "    <tr>\n",
       "      <th>29606</th>\n",
       "      <td>52</td>\n",
       "      <td>Private</td>\n",
       "      <td>HS-grad</td>\n",
       "      <td>9</td>\n",
       "      <td>Married-civ-spouse</td>\n",
       "      <td>Handlers-cleaners</td>\n",
       "      <td>Husband</td>\n",
       "      <td>White</td>\n",
       "      <td>Male</td>\n",
       "      <td>0</td>\n",
       "      <td>0</td>\n",
       "      <td>40</td>\n",
       "      <td>United-States</td>\n",
       "      <td>0</td>\n",
       "      <td>0</td>\n",
       "      <td>0.9993</td>\n",
       "    </tr>\n",
       "    <tr>\n",
       "      <th>12633</th>\n",
       "      <td>28</td>\n",
       "      <td>State-gov</td>\n",
       "      <td>Bachelors</td>\n",
       "      <td>13</td>\n",
       "      <td>Never-married</td>\n",
       "      <td>Exec-managerial</td>\n",
       "      <td>Not-in-family</td>\n",
       "      <td>White</td>\n",
       "      <td>Male</td>\n",
       "      <td>0</td>\n",
       "      <td>0</td>\n",
       "      <td>55</td>\n",
       "      <td>United-States</td>\n",
       "      <td>0</td>\n",
       "      <td>0</td>\n",
       "      <td>0.9990</td>\n",
       "    </tr>\n",
       "    <tr>\n",
       "      <th>5835</th>\n",
       "      <td>38</td>\n",
       "      <td>Local-gov</td>\n",
       "      <td>Masters</td>\n",
       "      <td>14</td>\n",
       "      <td>Never-married</td>\n",
       "      <td>Prof-specialty</td>\n",
       "      <td>Not-in-family</td>\n",
       "      <td>White</td>\n",
       "      <td>Female</td>\n",
       "      <td>0</td>\n",
       "      <td>2258</td>\n",
       "      <td>60</td>\n",
       "      <td>United-States</td>\n",
       "      <td>0</td>\n",
       "      <td>0</td>\n",
       "      <td>0.9989</td>\n",
       "    </tr>\n",
       "    <tr>\n",
       "      <th>21755</th>\n",
       "      <td>37</td>\n",
       "      <td>Private</td>\n",
       "      <td>Some-college</td>\n",
       "      <td>10</td>\n",
       "      <td>Widowed</td>\n",
       "      <td>Other-service</td>\n",
       "      <td>Not-in-family</td>\n",
       "      <td>White</td>\n",
       "      <td>Female</td>\n",
       "      <td>2354</td>\n",
       "      <td>0</td>\n",
       "      <td>40</td>\n",
       "      <td>NaN</td>\n",
       "      <td>0</td>\n",
       "      <td>0</td>\n",
       "      <td>0.9996</td>\n",
       "    </tr>\n",
       "  </tbody>\n",
       "</table>\n",
       "<p>9280 rows × 16 columns</p>\n",
       "</div>"
      ],
      "text/plain": [
       "       age         workclass     education  education-num      marital-status  \\\n",
       "5796    69               NaN   Prof-school             15            Divorced   \n",
       "29710   34      Self-emp-inc       HS-grad              9  Married-civ-spouse   \n",
       "19776   47           Private       HS-grad              9  Married-civ-spouse   \n",
       "22545   35           Private     Bachelors             13  Married-civ-spouse   \n",
       "14501   30  Self-emp-not-inc  Some-college             10       Never-married   \n",
       "...    ...               ...           ...            ...                 ...   \n",
       "8611    30           Private  Some-college             10  Married-civ-spouse   \n",
       "29606   52           Private       HS-grad              9  Married-civ-spouse   \n",
       "12633   28         State-gov     Bachelors             13       Never-married   \n",
       "5835    38         Local-gov       Masters             14       Never-married   \n",
       "21755   37           Private  Some-college             10             Widowed   \n",
       "\n",
       "              occupation    relationship                race     sex  \\\n",
       "5796                 NaN   Not-in-family               White    Male   \n",
       "29710       Adm-clerical         Husband               White    Male   \n",
       "19776       Craft-repair         Husband               White    Male   \n",
       "22545       Craft-repair         Husband               White    Male   \n",
       "14501              Sales  Other-relative  Asian-Pac-Islander    Male   \n",
       "...                  ...             ...                 ...     ...   \n",
       "8611   Handlers-cleaners         Husband               White    Male   \n",
       "29606  Handlers-cleaners         Husband               White    Male   \n",
       "12633    Exec-managerial   Not-in-family               White    Male   \n",
       "5835      Prof-specialty   Not-in-family               White  Female   \n",
       "21755      Other-service   Not-in-family               White  Female   \n",
       "\n",
       "       capital-gain  capital-loss  hours-per-week native-country  income >50K  \\\n",
       "5796              0             0               5  United-States            0   \n",
       "29710             0             0              45  United-States            0   \n",
       "19776             0             0              40  United-States            0   \n",
       "22545             0             0              40  United-States            0   \n",
       "14501             0          2258              40          South            0   \n",
       "...             ...           ...             ...            ...          ...   \n",
       "8611              0             0              40         Poland            0   \n",
       "29606             0             0              40  United-States            0   \n",
       "12633             0             0              55  United-States            0   \n",
       "5835              0          2258              60  United-States            0   \n",
       "21755          2354             0              40            NaN            0   \n",
       "\n",
       "       prediction_label  prediction_score  \n",
       "5796                  0            0.9992  \n",
       "29710                 0            0.9993  \n",
       "19776                 0            0.9993  \n",
       "22545                 0            0.9988  \n",
       "14501                 0            0.9701  \n",
       "...                 ...               ...  \n",
       "8611                  0            0.8388  \n",
       "29606                 0            0.9993  \n",
       "12633                 0            0.9990  \n",
       "5835                  0            0.9989  \n",
       "21755                 0            0.9996  \n",
       "\n",
       "[9280 rows x 16 columns]"
      ]
     },
     "execution_count": 27,
     "metadata": {},
     "output_type": "execute_result"
    }
   ],
   "source": [
    "predict_model(tuned_lgbm2)"
   ]
  },
  {
   "cell_type": "markdown",
   "metadata": {
    "colab_type": "text",
    "id": "hUzc6tXNEQtr"
   },
   "source": [
    "# Predict utilizando os dados de validação."
   ]
  },
  {
   "cell_type": "code",
   "execution_count": 28,
   "metadata": {
    "colab": {
     "base_uri": "https://localhost:8080/",
     "height": 211
    },
    "colab_type": "code",
    "id": "0y5KWLC6EQtx",
    "jupyter": {
     "outputs_hidden": true
    },
    "outputId": "30771f87-7847-43ce-e984-9963cff7d043",
    "tags": []
   },
   "outputs": [
    {
     "data": {
      "text/html": [
       "<style type=\"text/css\">\n",
       "</style>\n",
       "<table id=\"T_ba67d\">\n",
       "  <thead>\n",
       "    <tr>\n",
       "      <th class=\"blank level0\" >&nbsp;</th>\n",
       "      <th id=\"T_ba67d_level0_col0\" class=\"col_heading level0 col0\" >Model</th>\n",
       "      <th id=\"T_ba67d_level0_col1\" class=\"col_heading level0 col1\" >Accuracy</th>\n",
       "      <th id=\"T_ba67d_level0_col2\" class=\"col_heading level0 col2\" >AUC</th>\n",
       "      <th id=\"T_ba67d_level0_col3\" class=\"col_heading level0 col3\" >Recall</th>\n",
       "      <th id=\"T_ba67d_level0_col4\" class=\"col_heading level0 col4\" >Prec.</th>\n",
       "      <th id=\"T_ba67d_level0_col5\" class=\"col_heading level0 col5\" >F1</th>\n",
       "      <th id=\"T_ba67d_level0_col6\" class=\"col_heading level0 col6\" >Kappa</th>\n",
       "      <th id=\"T_ba67d_level0_col7\" class=\"col_heading level0 col7\" >MCC</th>\n",
       "    </tr>\n",
       "  </thead>\n",
       "  <tbody>\n",
       "    <tr>\n",
       "      <th id=\"T_ba67d_level0_row0\" class=\"row_heading level0 row0\" >0</th>\n",
       "      <td id=\"T_ba67d_row0_col0\" class=\"data row0 col0\" >Light Gradient Boosting Machine</td>\n",
       "      <td id=\"T_ba67d_row0_col1\" class=\"data row0 col1\" >0.9969</td>\n",
       "      <td id=\"T_ba67d_row0_col2\" class=\"data row0 col2\" >0.9999</td>\n",
       "      <td id=\"T_ba67d_row0_col3\" class=\"data row0 col3\" >0.9946</td>\n",
       "      <td id=\"T_ba67d_row0_col4\" class=\"data row0 col4\" >0.9920</td>\n",
       "      <td id=\"T_ba67d_row0_col5\" class=\"data row0 col5\" >0.9933</td>\n",
       "      <td id=\"T_ba67d_row0_col6\" class=\"data row0 col6\" >0.9913</td>\n",
       "      <td id=\"T_ba67d_row0_col7\" class=\"data row0 col7\" >0.9913</td>\n",
       "    </tr>\n",
       "  </tbody>\n",
       "</table>\n"
      ],
      "text/plain": [
       "<pandas.io.formats.style.Styler at 0x251229cd0a0>"
      ]
     },
     "metadata": {},
     "output_type": "display_data"
    },
    {
     "data": {
      "text/html": [
       "<div>\n",
       "<style scoped>\n",
       "    .dataframe tbody tr th:only-of-type {\n",
       "        vertical-align: middle;\n",
       "    }\n",
       "\n",
       "    .dataframe tbody tr th {\n",
       "        vertical-align: top;\n",
       "    }\n",
       "\n",
       "    .dataframe thead th {\n",
       "        text-align: right;\n",
       "    }\n",
       "</style>\n",
       "<table border=\"1\" class=\"dataframe\">\n",
       "  <thead>\n",
       "    <tr style=\"text-align: right;\">\n",
       "      <th></th>\n",
       "      <th>age</th>\n",
       "      <th>workclass</th>\n",
       "      <th>education</th>\n",
       "      <th>education-num</th>\n",
       "      <th>marital-status</th>\n",
       "      <th>occupation</th>\n",
       "      <th>relationship</th>\n",
       "      <th>race</th>\n",
       "      <th>sex</th>\n",
       "      <th>capital-gain</th>\n",
       "      <th>capital-loss</th>\n",
       "      <th>hours-per-week</th>\n",
       "      <th>native-country</th>\n",
       "      <th>income &gt;50K</th>\n",
       "      <th>prediction_label</th>\n",
       "      <th>prediction_score</th>\n",
       "    </tr>\n",
       "  </thead>\n",
       "  <tbody>\n",
       "    <tr>\n",
       "      <th>0</th>\n",
       "      <td>37</td>\n",
       "      <td>Private</td>\n",
       "      <td>Masters</td>\n",
       "      <td>14</td>\n",
       "      <td>Married-civ-spouse</td>\n",
       "      <td>Exec-managerial</td>\n",
       "      <td>Wife</td>\n",
       "      <td>White</td>\n",
       "      <td>Female</td>\n",
       "      <td>0</td>\n",
       "      <td>0</td>\n",
       "      <td>40</td>\n",
       "      <td>United-States</td>\n",
       "      <td>0</td>\n",
       "      <td>0</td>\n",
       "      <td>0.9984</td>\n",
       "    </tr>\n",
       "    <tr>\n",
       "      <th>1</th>\n",
       "      <td>48</td>\n",
       "      <td>Self-emp-not-inc</td>\n",
       "      <td>Assoc-acdm</td>\n",
       "      <td>12</td>\n",
       "      <td>Married-civ-spouse</td>\n",
       "      <td>Prof-specialty</td>\n",
       "      <td>Husband</td>\n",
       "      <td>White</td>\n",
       "      <td>Male</td>\n",
       "      <td>0</td>\n",
       "      <td>0</td>\n",
       "      <td>40</td>\n",
       "      <td>United-States</td>\n",
       "      <td>0</td>\n",
       "      <td>0</td>\n",
       "      <td>0.9988</td>\n",
       "    </tr>\n",
       "    <tr>\n",
       "      <th>2</th>\n",
       "      <td>35</td>\n",
       "      <td>Private</td>\n",
       "      <td>Assoc-voc</td>\n",
       "      <td>11</td>\n",
       "      <td>Married-civ-spouse</td>\n",
       "      <td>Other-service</td>\n",
       "      <td>Husband</td>\n",
       "      <td>White</td>\n",
       "      <td>Male</td>\n",
       "      <td>0</td>\n",
       "      <td>0</td>\n",
       "      <td>40</td>\n",
       "      <td>Puerto-Rico</td>\n",
       "      <td>0</td>\n",
       "      <td>0</td>\n",
       "      <td>0.8909</td>\n",
       "    </tr>\n",
       "    <tr>\n",
       "      <th>3</th>\n",
       "      <td>29</td>\n",
       "      <td>Self-emp-not-inc</td>\n",
       "      <td>Bachelors</td>\n",
       "      <td>13</td>\n",
       "      <td>Married-civ-spouse</td>\n",
       "      <td>Sales</td>\n",
       "      <td>Husband</td>\n",
       "      <td>White</td>\n",
       "      <td>Male</td>\n",
       "      <td>0</td>\n",
       "      <td>0</td>\n",
       "      <td>70</td>\n",
       "      <td>United-States</td>\n",
       "      <td>1</td>\n",
       "      <td>1</td>\n",
       "      <td>0.9975</td>\n",
       "    </tr>\n",
       "    <tr>\n",
       "      <th>4</th>\n",
       "      <td>20</td>\n",
       "      <td>Private</td>\n",
       "      <td>Some-college</td>\n",
       "      <td>10</td>\n",
       "      <td>Never-married</td>\n",
       "      <td>Tech-support</td>\n",
       "      <td>Own-child</td>\n",
       "      <td>White</td>\n",
       "      <td>Female</td>\n",
       "      <td>0</td>\n",
       "      <td>0</td>\n",
       "      <td>40</td>\n",
       "      <td>United-States</td>\n",
       "      <td>0</td>\n",
       "      <td>0</td>\n",
       "      <td>0.9997</td>\n",
       "    </tr>\n",
       "  </tbody>\n",
       "</table>\n",
       "</div>"
      ],
      "text/plain": [
       "   age         workclass     education  education-num      marital-status  \\\n",
       "0   37           Private       Masters             14  Married-civ-spouse   \n",
       "1   48  Self-emp-not-inc    Assoc-acdm             12  Married-civ-spouse   \n",
       "2   35           Private     Assoc-voc             11  Married-civ-spouse   \n",
       "3   29  Self-emp-not-inc     Bachelors             13  Married-civ-spouse   \n",
       "4   20           Private  Some-college             10       Never-married   \n",
       "\n",
       "        occupation relationship   race     sex  capital-gain  capital-loss  \\\n",
       "0  Exec-managerial         Wife  White  Female             0             0   \n",
       "1   Prof-specialty      Husband  White    Male             0             0   \n",
       "2    Other-service      Husband  White    Male             0             0   \n",
       "3            Sales      Husband  White    Male             0             0   \n",
       "4     Tech-support    Own-child  White  Female             0             0   \n",
       "\n",
       "   hours-per-week native-country  income >50K  prediction_label  \\\n",
       "0              40  United-States            0                 0   \n",
       "1              40  United-States            0                 0   \n",
       "2              40    Puerto-Rico            0                 0   \n",
       "3              70  United-States            1                 1   \n",
       "4              40  United-States            0                 0   \n",
       "\n",
       "   prediction_score  \n",
       "0            0.9984  \n",
       "1            0.9988  \n",
       "2            0.8909  \n",
       "3            0.9975  \n",
       "4            0.9997  "
      ]
     },
     "execution_count": 28,
     "metadata": {},
     "output_type": "execute_result"
    }
   ],
   "source": [
    "validation_predictions = predict_model(tuned_lgbm2, data=data_validation)\n",
    "validation_predictions.head()"
   ]
  },
  {
   "cell_type": "markdown",
   "metadata": {
    "colab_type": "text",
    "id": "oPYmVpugEQt5"
   },
   "source": [
    "##### Verificando a performance do modelo aplicado aos dados de validação."
   ]
  },
  {
   "cell_type": "code",
   "execution_count": 29,
   "metadata": {
    "jupyter": {
     "outputs_hidden": true
    },
    "tags": []
   },
   "outputs": [
    {
     "data": {
      "text/plain": [
       "0.9969"
      ]
     },
     "execution_count": 29,
     "metadata": {},
     "output_type": "execute_result"
    }
   ],
   "source": [
    "from pycaret.utils.generic import check_metric\n",
    "check_metric(validation_predictions['income >50K'], validation_predictions['prediction_label'], metric = 'Accuracy')"
   ]
  },
  {
   "cell_type": "markdown",
   "metadata": {
    "colab_type": "text",
    "id": "r79BGjIfEQs1"
   },
   "source": [
    "# Finalize Model"
   ]
  },
  {
   "cell_type": "markdown",
   "metadata": {
    "colab_type": "text",
    "id": "B-6xJ9kQEQs7"
   },
   "source": [
    "Esta função treina o algoritmo e cria o modelo utilizando todo o conjunto de dados."
   ]
  },
  {
   "cell_type": "code",
   "execution_count": 30,
   "metadata": {
    "colab": {},
    "colab_type": "code",
    "id": "_--tO4KGEQs-",
    "jupyter": {
     "outputs_hidden": true
    }
   },
   "outputs": [],
   "source": [
    "final_lgbm = finalize_model(tuned_lgbm2)"
   ]
  },
  {
   "cell_type": "code",
   "execution_count": 31,
   "metadata": {
    "colab": {
     "base_uri": "https://localhost:8080/",
     "height": 147
    },
    "colab_type": "code",
    "id": "U9W6kXsSEQtQ",
    "jupyter": {
     "outputs_hidden": true
    },
    "outputId": "794b24a4-9c95-4730-eddd-f82e4925b866",
    "tags": []
   },
   "outputs": [
    {
     "name": "stdout",
     "output_type": "stream",
     "text": [
      "Pipeline(memory=FastMemory(location=C:\\Users\\MARCIO~1\\AppData\\Local\\Temp\\joblib),\n",
      "         steps=[('numerical_imputer',\n",
      "                 TransformerWrapper(exclude=None,\n",
      "                                    include=['age', 'education-num',\n",
      "                                             'capital-gain', 'capital-loss',\n",
      "                                             'hours-per-week'],\n",
      "                                    transformer=SimpleImputer(add_indicator=False,\n",
      "                                                              copy=True,\n",
      "                                                              fill_value=None,\n",
      "                                                              missing_values=nan,\n",
      "                                                              strategy='mean',\n",
      "                                                              verbose=0))),\n",
      "                ('categori...\n",
      "                 LGBMClassifier(boosting_type='gbdt', class_weight=None,\n",
      "                                colsample_bytree=1.0, importance_type='split',\n",
      "                                learning_rate=0.1, max_depth=3,\n",
      "                                min_child_samples=20, min_child_weight=0.001,\n",
      "                                min_split_gain=0.0, n_estimators=100, n_jobs=-1,\n",
      "                                num_leaves=60, objective=None, random_state=123,\n",
      "                                reg_alpha=0.0, reg_lambda=0.0, silent='warn',\n",
      "                                subsample=1.0, subsample_for_bin=200000,\n",
      "                                subsample_freq=0))],\n",
      "         verbose=False)\n"
     ]
    }
   ],
   "source": [
    "print(final_lgbm)"
   ]
  },
  {
   "cell_type": "markdown",
   "metadata": {
    "colab_type": "text",
    "id": "L__po3sUEQt7"
   },
   "source": [
    "# Save model"
   ]
  },
  {
   "cell_type": "markdown",
   "metadata": {
    "colab_type": "text",
    "id": "1sQPT7jrEQt-"
   },
   "source": [
    "Esta função realiza a persistencia do modelo em disco."
   ]
  },
  {
   "cell_type": "code",
   "execution_count": 34,
   "metadata": {
    "colab": {},
    "colab_type": "code",
    "id": "ln1YWIXTEQuA",
    "jupyter": {
     "outputs_hidden": true
    },
    "outputId": "d3cb0652-f72e-44e8-9455-824b12740bff",
    "tags": []
   },
   "outputs": [
    {
     "name": "stdout",
     "output_type": "stream",
     "text": [
      "Transformation Pipeline and Model Successfully Saved\n"
     ]
    },
    {
     "data": {
      "text/plain": [
       "(Pipeline(memory=FastMemory(location=C:\\Users\\MARCIO~1\\AppData\\Local\\Temp\\joblib),\n",
       "          steps=[('numerical_imputer',\n",
       "                  TransformerWrapper(exclude=None,\n",
       "                                     include=['age', 'education-num',\n",
       "                                              'capital-gain', 'capital-loss',\n",
       "                                              'hours-per-week'],\n",
       "                                     transformer=SimpleImputer(add_indicator=False,\n",
       "                                                               copy=True,\n",
       "                                                               fill_value=None,\n",
       "                                                               missing_values=nan,\n",
       "                                                               strategy='mean',\n",
       "                                                               verbose=0))),\n",
       "                 ('categori...\n",
       "                  LGBMClassifier(boosting_type='gbdt', class_weight=None,\n",
       "                                 colsample_bytree=1.0, importance_type='split',\n",
       "                                 learning_rate=0.1, max_depth=3,\n",
       "                                 min_child_samples=20, min_child_weight=0.001,\n",
       "                                 min_split_gain=0.0, n_estimators=100, n_jobs=-1,\n",
       "                                 num_leaves=60, objective=None, random_state=123,\n",
       "                                 reg_alpha=0.0, reg_lambda=0.0, silent='warn',\n",
       "                                 subsample=1.0, subsample_for_bin=200000,\n",
       "                                 subsample_freq=0))],\n",
       "          verbose=False),\n",
       " 'Final LGBM Model.pkl')"
      ]
     },
     "execution_count": 34,
     "metadata": {},
     "output_type": "execute_result"
    }
   ],
   "source": [
    "save_model(final_lgbm,'Final LGBM Model')"
   ]
  },
  {
   "cell_type": "markdown",
   "metadata": {},
   "source": [
    "##### Verificando o arquivo em disco."
   ]
  },
  {
   "cell_type": "code",
   "execution_count": 33,
   "metadata": {
    "jupyter": {
     "outputs_hidden": true
    },
    "tags": []
   },
   "outputs": [
    {
     "name": "stderr",
     "output_type": "stream",
     "text": [
      "'ls' is not recognized as an internal or external command,\n",
      "operable program or batch file.\n"
     ]
    }
   ],
   "source": [
    "!ls"
   ]
  },
  {
   "cell_type": "code",
   "execution_count": null,
   "metadata": {
    "jupyter": {
     "outputs_hidden": true
    }
   },
   "outputs": [],
   "source": []
  }
 ],
 "metadata": {
  "colab": {
   "collapsed_sections": [
    "Ui_rALqYEQmv",
    "y9s9wNcjEQn0",
    "it_nJo1IEQob",
    "P5m2pciOEQo4",
    "UWMSeyNhEQo-",
    "rWUojqBCEQpb",
    "nSg3OUjuEQpu",
    "XvpjzbGQEQqB",
    "BQlMCxrUEQqG",
    "CD-f0delEQqq",
    "KO3zIfs-EQrA",
    "w_P46O0jEQrT",
    "euqkQYJaEQrY",
    "bwyoTUDQEQrm",
    "_r9rwEw7EQrz",
    "FfWC3NEhEQr9",
    "RX5pYUJJEQsV",
    "r79BGjIfEQs1",
    "hUzc6tXNEQtr",
    "L__po3sUEQt7",
    "Z8OBesfkEQuU",
    "_HeOs8BhEQvF"
   ],
   "name": "Binary Classification Tutorial (CLF101) - Level Beginner (ACN_EDITS).ipynb",
   "provenance": []
  },
  "kernelspec": {
   "display_name": "Python 3 (ipykernel)",
   "language": "python",
   "name": "python3"
  },
  "language_info": {
   "codemirror_mode": {
    "name": "ipython",
    "version": 3
   },
   "file_extension": ".py",
   "mimetype": "text/x-python",
   "name": "python",
   "nbconvert_exporter": "python",
   "pygments_lexer": "ipython3",
   "version": "3.9.13"
  },
  "widgets": {
   "application/vnd.jupyter.widget-state+json": {
    "02771b4dc3284414ab05df1906f4556b": {
     "model_module": "@jupyter-widgets/controls",
     "model_name": "IntProgressModel",
     "state": {
      "_dom_classes": [],
      "_model_module": "@jupyter-widgets/controls",
      "_model_module_version": "1.5.0",
      "_model_name": "IntProgressModel",
      "_view_count": null,
      "_view_module": "@jupyter-widgets/controls",
      "_view_module_version": "1.5.0",
      "_view_name": "ProgressView",
      "bar_style": "",
      "description": "Processing: ",
      "description_tooltip": null,
      "layout": "IPY_MODEL_22588a12c0db4067982e62ebbe7e6930",
      "max": 5,
      "min": 0,
      "orientation": "horizontal",
      "style": "IPY_MODEL_9e338844e75b4e17be8483529f5f38fd",
      "value": 5
     }
    },
    "0a06fb091bd94ce6b6ab892e2c6faadf": {
     "model_module": "@jupyter-widgets/base",
     "model_name": "LayoutModel",
     "state": {
      "_model_module": "@jupyter-widgets/base",
      "_model_module_version": "1.2.0",
      "_model_name": "LayoutModel",
      "_view_count": null,
      "_view_module": "@jupyter-widgets/base",
      "_view_module_version": "1.2.0",
      "_view_name": "LayoutView",
      "align_content": null,
      "align_items": null,
      "align_self": null,
      "border": null,
      "bottom": null,
      "display": null,
      "flex": null,
      "flex_flow": null,
      "grid_area": null,
      "grid_auto_columns": null,
      "grid_auto_flow": null,
      "grid_auto_rows": null,
      "grid_column": null,
      "grid_gap": null,
      "grid_row": null,
      "grid_template_areas": null,
      "grid_template_columns": null,
      "grid_template_rows": null,
      "height": null,
      "justify_content": null,
      "justify_items": null,
      "left": null,
      "margin": null,
      "max_height": null,
      "max_width": null,
      "min_height": null,
      "min_width": null,
      "object_fit": null,
      "object_position": null,
      "order": null,
      "overflow": null,
      "overflow_x": null,
      "overflow_y": null,
      "padding": null,
      "right": null,
      "top": null,
      "visibility": null,
      "width": null
     }
    },
    "12bf8b3c6ae8444a900474912589fdf1": {
     "model_module": "@jupyter-widgets/controls",
     "model_name": "ToggleButtonsModel",
     "state": {
      "_dom_classes": [],
      "_model_module": "@jupyter-widgets/controls",
      "_model_module_version": "1.5.0",
      "_model_name": "ToggleButtonsModel",
      "_options_labels": [
       "Hyperparameters",
       "AUC",
       "Confusion Matrix",
       "Threshold",
       "Precision Recall",
       "Error",
       "Class Report",
       "Feature Selection",
       "Learning Curve",
       "Manifold Learning",
       "Calibration Curve",
       "Validation Curve",
       "Dimensions",
       "Feature Importance",
       "Decision Boundary"
      ],
      "_view_count": null,
      "_view_module": "@jupyter-widgets/controls",
      "_view_module_version": "1.5.0",
      "_view_name": "ToggleButtonsView",
      "button_style": "",
      "description": "Plot Type:",
      "description_tooltip": null,
      "disabled": false,
      "icons": [
       ""
      ],
      "index": 2,
      "layout": "IPY_MODEL_0a06fb091bd94ce6b6ab892e2c6faadf",
      "style": "IPY_MODEL_8886001bc7c1463ba58a8453f5c55073",
      "tooltips": []
     }
    },
    "22588a12c0db4067982e62ebbe7e6930": {
     "model_module": "@jupyter-widgets/base",
     "model_name": "LayoutModel",
     "state": {
      "_model_module": "@jupyter-widgets/base",
      "_model_module_version": "1.2.0",
      "_model_name": "LayoutModel",
      "_view_count": null,
      "_view_module": "@jupyter-widgets/base",
      "_view_module_version": "1.2.0",
      "_view_name": "LayoutView",
      "align_content": null,
      "align_items": null,
      "align_self": null,
      "border": null,
      "bottom": null,
      "display": null,
      "flex": null,
      "flex_flow": null,
      "grid_area": null,
      "grid_auto_columns": null,
      "grid_auto_flow": null,
      "grid_auto_rows": null,
      "grid_column": null,
      "grid_gap": null,
      "grid_row": null,
      "grid_template_areas": null,
      "grid_template_columns": null,
      "grid_template_rows": null,
      "height": null,
      "justify_content": null,
      "justify_items": null,
      "left": null,
      "margin": null,
      "max_height": null,
      "max_width": null,
      "min_height": null,
      "min_width": null,
      "object_fit": null,
      "object_position": null,
      "order": null,
      "overflow": null,
      "overflow_x": null,
      "overflow_y": null,
      "padding": null,
      "right": null,
      "top": null,
      "visibility": null,
      "width": null
     }
    },
    "2a81017413ca4fe789c2272a5831a069": {
     "model_module": "@jupyter-widgets/base",
     "model_name": "LayoutModel",
     "state": {
      "_model_module": "@jupyter-widgets/base",
      "_model_module_version": "1.2.0",
      "_model_name": "LayoutModel",
      "_view_count": null,
      "_view_module": "@jupyter-widgets/base",
      "_view_module_version": "1.2.0",
      "_view_name": "LayoutView",
      "align_content": null,
      "align_items": null,
      "align_self": null,
      "border": null,
      "bottom": null,
      "display": null,
      "flex": null,
      "flex_flow": null,
      "grid_area": null,
      "grid_auto_columns": null,
      "grid_auto_flow": null,
      "grid_auto_rows": null,
      "grid_column": null,
      "grid_gap": null,
      "grid_row": null,
      "grid_template_areas": null,
      "grid_template_columns": null,
      "grid_template_rows": null,
      "height": null,
      "justify_content": null,
      "justify_items": null,
      "left": null,
      "margin": null,
      "max_height": null,
      "max_width": null,
      "min_height": null,
      "min_width": null,
      "object_fit": null,
      "object_position": null,
      "order": null,
      "overflow": null,
      "overflow_x": null,
      "overflow_y": null,
      "padding": null,
      "right": null,
      "top": null,
      "visibility": null,
      "width": null
     }
    },
    "3cc1e83b91f34b289c7d52003f20a97a": {
     "model_module": "@jupyter-widgets/controls",
     "model_name": "IntProgressModel",
     "state": {
      "_dom_classes": [],
      "_model_module": "@jupyter-widgets/controls",
      "_model_module_version": "1.5.0",
      "_model_name": "IntProgressModel",
      "_view_count": null,
      "_view_module": "@jupyter-widgets/controls",
      "_view_module_version": "1.5.0",
      "_view_name": "ProgressView",
      "bar_style": "",
      "description": "Processing: ",
      "description_tooltip": null,
      "layout": "IPY_MODEL_8399e21b17634116861a5abaa9c0ccf7",
      "max": 5,
      "min": 0,
      "orientation": "horizontal",
      "style": "IPY_MODEL_8d709ec9ec484944b1f9773748857f84",
      "value": 2
     }
    },
    "41031579127f4a53b58957e601465083": {
     "model_module": "@jupyter-widgets/base",
     "model_name": "LayoutModel",
     "state": {
      "_model_module": "@jupyter-widgets/base",
      "_model_module_version": "1.2.0",
      "_model_name": "LayoutModel",
      "_view_count": null,
      "_view_module": "@jupyter-widgets/base",
      "_view_module_version": "1.2.0",
      "_view_name": "LayoutView",
      "align_content": null,
      "align_items": null,
      "align_self": null,
      "border": null,
      "bottom": null,
      "display": null,
      "flex": null,
      "flex_flow": null,
      "grid_area": null,
      "grid_auto_columns": null,
      "grid_auto_flow": null,
      "grid_auto_rows": null,
      "grid_column": null,
      "grid_gap": null,
      "grid_row": null,
      "grid_template_areas": null,
      "grid_template_columns": null,
      "grid_template_rows": null,
      "height": null,
      "justify_content": null,
      "justify_items": null,
      "left": null,
      "margin": null,
      "max_height": null,
      "max_width": null,
      "min_height": null,
      "min_width": null,
      "object_fit": null,
      "object_position": null,
      "order": null,
      "overflow": null,
      "overflow_x": null,
      "overflow_y": null,
      "padding": null,
      "right": null,
      "top": null,
      "visibility": null,
      "width": null
     }
    },
    "42d5400d235d40b78190016ef0dabe11": {
     "model_module": "@jupyter-widgets/controls",
     "model_name": "VBoxModel",
     "state": {
      "_dom_classes": [
       "widget-interact"
      ],
      "_model_module": "@jupyter-widgets/controls",
      "_model_module_version": "1.5.0",
      "_model_name": "VBoxModel",
      "_view_count": null,
      "_view_module": "@jupyter-widgets/controls",
      "_view_module_version": "1.5.0",
      "_view_name": "VBoxView",
      "box_style": "",
      "children": [
       "IPY_MODEL_12bf8b3c6ae8444a900474912589fdf1",
       "IPY_MODEL_9bb3600d38c04691b444ff375ad5e3f5"
      ],
      "layout": "IPY_MODEL_41031579127f4a53b58957e601465083"
     }
    },
    "57b94ac505d142769b79de2f1e5c1166": {
     "model_module": "@jupyter-widgets/controls",
     "model_name": "ProgressStyleModel",
     "state": {
      "_model_module": "@jupyter-widgets/controls",
      "_model_module_version": "1.5.0",
      "_model_name": "ProgressStyleModel",
      "_view_count": null,
      "_view_module": "@jupyter-widgets/base",
      "_view_module_version": "1.2.0",
      "_view_name": "StyleView",
      "bar_color": null,
      "description_width": ""
     }
    },
    "8399e21b17634116861a5abaa9c0ccf7": {
     "model_module": "@jupyter-widgets/base",
     "model_name": "LayoutModel",
     "state": {
      "_model_module": "@jupyter-widgets/base",
      "_model_module_version": "1.2.0",
      "_model_name": "LayoutModel",
      "_view_count": null,
      "_view_module": "@jupyter-widgets/base",
      "_view_module_version": "1.2.0",
      "_view_name": "LayoutView",
      "align_content": null,
      "align_items": null,
      "align_self": null,
      "border": null,
      "bottom": null,
      "display": null,
      "flex": null,
      "flex_flow": null,
      "grid_area": null,
      "grid_auto_columns": null,
      "grid_auto_flow": null,
      "grid_auto_rows": null,
      "grid_column": null,
      "grid_gap": null,
      "grid_row": null,
      "grid_template_areas": null,
      "grid_template_columns": null,
      "grid_template_rows": null,
      "height": null,
      "justify_content": null,
      "justify_items": null,
      "left": null,
      "margin": null,
      "max_height": null,
      "max_width": null,
      "min_height": null,
      "min_width": null,
      "object_fit": null,
      "object_position": null,
      "order": null,
      "overflow": null,
      "overflow_x": null,
      "overflow_y": null,
      "padding": null,
      "right": null,
      "top": null,
      "visibility": null,
      "width": null
     }
    },
    "8886001bc7c1463ba58a8453f5c55073": {
     "model_module": "@jupyter-widgets/controls",
     "model_name": "ToggleButtonsStyleModel",
     "state": {
      "_model_module": "@jupyter-widgets/controls",
      "_model_module_version": "1.5.0",
      "_model_name": "ToggleButtonsStyleModel",
      "_view_count": null,
      "_view_module": "@jupyter-widgets/base",
      "_view_module_version": "1.2.0",
      "_view_name": "StyleView",
      "button_width": "",
      "description_width": "",
      "font_weight": ""
     }
    },
    "8d709ec9ec484944b1f9773748857f84": {
     "model_module": "@jupyter-widgets/controls",
     "model_name": "ProgressStyleModel",
     "state": {
      "_model_module": "@jupyter-widgets/controls",
      "_model_module_version": "1.5.0",
      "_model_name": "ProgressStyleModel",
      "_view_count": null,
      "_view_module": "@jupyter-widgets/base",
      "_view_module_version": "1.2.0",
      "_view_name": "StyleView",
      "bar_color": null,
      "description_width": ""
     }
    },
    "9bb3600d38c04691b444ff375ad5e3f5": {
     "model_module": "@jupyter-widgets/output",
     "model_name": "OutputModel",
     "state": {
      "_dom_classes": [],
      "_model_module": "@jupyter-widgets/output",
      "_model_module_version": "1.0.0",
      "_model_name": "OutputModel",
      "_view_count": null,
      "_view_module": "@jupyter-widgets/output",
      "_view_module_version": "1.0.0",
      "_view_name": "OutputView",
      "layout": "IPY_MODEL_4f8f81ab97b041a58a53c85a1ab97bd4",
      "msg_id": "",
      "outputs": [
       {
        "image/png": "iVBORw0KGgoAAAANSUhEUgAAAeoAAAFlCAYAAAAki6s3AAAABHNCSVQICAgIfAhkiAAAAAlwSFlz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\nAAAm9n9QR+M8QEgGtgAAAABJRU5ErkJggg==\n",
        "metadata": {
         "tags": []
        },
        "output_type": "display_data",
        "text/plain": "<Figure size 576x396 with 1 Axes>"
       }
      ]
     }
    },
    "9e338844e75b4e17be8483529f5f38fd": {
     "model_module": "@jupyter-widgets/controls",
     "model_name": "ProgressStyleModel",
     "state": {
      "_model_module": "@jupyter-widgets/controls",
      "_model_module_version": "1.5.0",
      "_model_name": "ProgressStyleModel",
      "_view_count": null,
      "_view_module": "@jupyter-widgets/base",
      "_view_module_version": "1.2.0",
      "_view_name": "StyleView",
      "bar_color": null,
      "description_width": ""
     }
    },
    "d5b6fce1763b4b54898ff3397b0f5bb0": {
     "model_module": "@jupyter-widgets/controls",
     "model_name": "IntProgressModel",
     "state": {
      "_dom_classes": [],
      "_model_module": "@jupyter-widgets/controls",
      "_model_module_version": "1.5.0",
      "_model_name": "IntProgressModel",
      "_view_count": null,
      "_view_module": "@jupyter-widgets/controls",
      "_view_module_version": "1.5.0",
      "_view_name": "ProgressView",
      "bar_style": "",
      "description": "Processing: ",
      "description_tooltip": null,
      "layout": "IPY_MODEL_2a81017413ca4fe789c2272a5831a069",
      "max": 5,
      "min": 0,
      "orientation": "horizontal",
      "style": "IPY_MODEL_57b94ac505d142769b79de2f1e5c1166",
      "value": 5
     }
    }
   }
  }
 },
 "nbformat": 4,
 "nbformat_minor": 4
}
