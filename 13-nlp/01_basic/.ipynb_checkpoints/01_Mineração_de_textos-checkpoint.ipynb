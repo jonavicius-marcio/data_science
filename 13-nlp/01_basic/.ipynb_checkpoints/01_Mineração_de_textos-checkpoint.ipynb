{
 "cells": [
  {
   "cell_type": "code",
   "execution_count": 13,
   "metadata": {
    "colab": {},
    "colab_type": "code",
    "id": "GiM-pnpDDWJb"
   },
   "outputs": [],
   "source": [
    "import nltk\n",
    "import re\n",
    "from nltk.corpus import wordnet"
   ]
  },
  {
   "cell_type": "markdown",
   "metadata": {
    "colab_type": "text",
    "id": "_R92Ix8nDWJe"
   },
   "source": [
    "** Operações com Python **"
   ]
  },
  {
   "cell_type": "code",
   "execution_count": 14,
   "metadata": {
    "colab": {},
    "colab_type": "code",
    "id": "6BQoYkDQDWJf"
   },
   "outputs": [
    {
     "data": {
      "text/plain": [
       "'Python é uma linguagem de programação'"
      ]
     },
     "execution_count": 14,
     "metadata": {},
     "output_type": "execute_result"
    }
   ],
   "source": [
    "frase = 'Python é uma linguagem de programação'; frase"
   ]
  },
  {
   "cell_type": "code",
   "execution_count": 15,
   "metadata": {
    "colab": {},
    "colab_type": "code",
    "id": "4S-hoYWhDWJj"
   },
   "outputs": [],
   "source": [
    "frase2 = ' para qualquer cientista de dados'"
   ]
  },
  {
   "cell_type": "code",
   "execution_count": 16,
   "metadata": {
    "colab": {},
    "colab_type": "code",
    "id": "Ih2DUdgRDWJl"
   },
   "outputs": [
    {
     "data": {
      "text/plain": [
       "'Python é uma linguagem de programação para qualquer cientista de dados'"
      ]
     },
     "execution_count": 16,
     "metadata": {},
     "output_type": "execute_result"
    }
   ],
   "source": [
    "frase + frase2"
   ]
  },
  {
   "cell_type": "code",
   "execution_count": 17,
   "metadata": {
    "colab": {},
    "colab_type": "code",
    "id": "j4JIzxgrDWJn"
   },
   "outputs": [
    {
     "data": {
      "text/plain": [
       "['Segunda', 'Terça', 'Quarta', 'Quinta', 'Sexta', 'Sábado']"
      ]
     },
     "execution_count": 17,
     "metadata": {},
     "output_type": "execute_result"
    }
   ],
   "source": [
    "['Segunda','Terça','Quarta'] + ['Quinta','Sexta','Sábado']"
   ]
  },
  {
   "cell_type": "code",
   "execution_count": 18,
   "metadata": {
    "colab": {},
    "colab_type": "code",
    "id": "panHE4xRDWJq"
   },
   "outputs": [
    {
     "data": {
      "text/plain": [
       "['Segunda', 'Terça', 'Quarta', 'Quinta-feira']"
      ]
     },
     "execution_count": 18,
     "metadata": {},
     "output_type": "execute_result"
    }
   ],
   "source": [
    "lista = ['Segunda','Terça','Quarta']\n",
    "lista.append('Quinta-feira')\n",
    "lista"
   ]
  },
  {
   "cell_type": "code",
   "execution_count": 19,
   "metadata": {
    "colab": {},
    "colab_type": "code",
    "id": "Axhgs2vJDWJr"
   },
   "outputs": [
    {
     "data": {
      "text/plain": [
       "' para qualquer '"
      ]
     },
     "execution_count": 19,
     "metadata": {},
     "output_type": "execute_result"
    }
   ],
   "source": [
    "frase2[0:15]"
   ]
  },
  {
   "cell_type": "code",
   "execution_count": 20,
   "metadata": {
    "colab": {},
    "colab_type": "code",
    "id": "xiHBOdkCDWJu"
   },
   "outputs": [
    {
     "data": {
      "text/plain": [
       "['Quinta-feira']"
      ]
     },
     "execution_count": 20,
     "metadata": {},
     "output_type": "execute_result"
    }
   ],
   "source": [
    "lista[3:8]"
   ]
  },
  {
   "cell_type": "markdown",
   "metadata": {
    "colab_type": "text",
    "id": "NJ8kuLCbDWJw"
   },
   "source": [
    "**Objeto String**"
   ]
  },
  {
   "cell_type": "code",
   "execution_count": 21,
   "metadata": {
    "colab": {},
    "colab_type": "code",
    "id": "l8CTKKdrDWJy"
   },
   "outputs": [
    {
     "data": {
      "text/plain": [
       "4"
      ]
     },
     "execution_count": 21,
     "metadata": {},
     "output_type": "execute_result"
    }
   ],
   "source": [
    "len(lista)"
   ]
  },
  {
   "cell_type": "code",
   "execution_count": 22,
   "metadata": {
    "colab": {},
    "colab_type": "code",
    "id": "ficVhXTMDWJ1"
   },
   "outputs": [
    {
     "data": {
      "text/plain": [
       "3"
      ]
     },
     "execution_count": 22,
     "metadata": {},
     "output_type": "execute_result"
    }
   ],
   "source": [
    "frase2='Six six six the number of the Beast'\n",
    "frase2 = frase2.lower()\n",
    "frase2.count('six')"
   ]
  },
  {
   "cell_type": "code",
   "execution_count": 23,
   "metadata": {
    "colab": {},
    "colab_type": "code",
    "id": "ss3HyowsDWJ4"
   },
   "outputs": [
    {
     "data": {
      "text/plain": [
       "35"
      ]
     },
     "execution_count": 23,
     "metadata": {},
     "output_type": "execute_result"
    }
   ],
   "source": [
    "len(frase2)"
   ]
  },
  {
   "cell_type": "markdown",
   "metadata": {
    "colab_type": "text",
    "id": "43bQJXGyDWJ6"
   },
   "source": [
    "** Varrer Strings**"
   ]
  },
  {
   "cell_type": "code",
   "execution_count": 29,
   "metadata": {
    "colab": {},
    "colab_type": "code",
    "id": "mSFKjfw2DWJ7"
   },
   "outputs": [
    {
     "data": {
      "text/plain": [
       "-1"
      ]
     },
     "execution_count": 29,
     "metadata": {},
     "output_type": "execute_result"
    }
   ],
   "source": [
    "frase2.find('cientista')"
   ]
  },
  {
   "cell_type": "code",
   "execution_count": 28,
   "metadata": {
    "colab": {},
    "colab_type": "code",
    "id": "TW67_kU-DWJ9"
   },
   "outputs": [
    {
     "data": {
      "text/plain": [
       "'e number of the beast'"
      ]
     },
     "execution_count": 28,
     "metadata": {},
     "output_type": "execute_result"
    }
   ],
   "source": [
    "frase2[14:35]"
   ]
  },
  {
   "cell_type": "markdown",
   "metadata": {
    "colab_type": "text",
    "id": "WFiWIA6VDWJ_"
   },
   "source": [
    "**Join**"
   ]
  },
  {
   "cell_type": "code",
   "execution_count": 30,
   "metadata": {
    "colab": {},
    "colab_type": "code",
    "id": "-otEphK2DWKB"
   },
   "outputs": [
    {
     "data": {
      "text/plain": [
       "'hot dog'"
      ]
     },
     "execution_count": 30,
     "metadata": {},
     "output_type": "execute_result"
    }
   ],
   "source": [
    "lista = ['hot','dog']\n",
    "' '.join(lista)\n"
   ]
  },
  {
   "cell_type": "markdown",
   "metadata": {
    "colab_type": "text",
    "id": "LdNmhROMDWKE"
   },
   "source": [
    "** Expressões regulares**"
   ]
  },
  {
   "cell_type": "code",
   "execution_count": 31,
   "metadata": {
    "colab": {},
    "colab_type": "code",
    "id": "H7XwOOSdDWKE"
   },
   "outputs": [
    {
     "data": {
      "text/plain": [
       "'O numero da nossa casa   , apto    '"
      ]
     },
     "execution_count": 31,
     "metadata": {},
     "output_type": "execute_result"
    }
   ],
   "source": [
    "texto = 'O numero da nossa casa 56, apto 306'\n",
    "re.sub('[-|0-9]',' ', texto)"
   ]
  },
  {
   "cell_type": "code",
   "execution_count": 32,
   "metadata": {
    "colab": {},
    "colab_type": "code",
    "id": "XIZcf-44DWKG"
   },
   "outputs": [
    {
     "data": {
      "text/plain": [
       "'i m back baby     Data Science        '"
      ]
     },
     "execution_count": 32,
     "metadata": {},
     "output_type": "execute_result"
    }
   ],
   "source": [
    "texto = \"i'm back baby!!!, Data Science ??;;;()\"\n",
    "re.sub(r'[-./?!,\":;()\\']',' ',texto)"
   ]
  },
  {
   "cell_type": "markdown",
   "metadata": {
    "colab_type": "text",
    "id": "VAbdsYojDWKI"
   },
   "source": [
    "# Trabalhando com a NLTK"
   ]
  },
  {
   "cell_type": "code",
   "execution_count": 41,
   "metadata": {
    "colab": {},
    "colab_type": "code",
    "id": "iKAvUWmPDWKJ"
   },
   "outputs": [],
   "source": [
    "#!pip install nltk"
   ]
  },
  {
   "cell_type": "markdown",
   "metadata": {
    "colab_type": "text",
    "id": "XDuBJ3JYDWKM"
   },
   "source": [
    "**Faça o download da base de dados do NLTK**"
   ]
  },
  {
   "cell_type": "markdown",
   "metadata": {
    "colab_type": "text",
    "id": "Zv1EFKrQDWKM"
   },
   "source": [
    "* Abra o terminal\n",
    "* Abra o console Python\n",
    "* importe a biblioteca **NLTK**\n",
    "* execute o comando **nltk.download()**"
   ]
  },
  {
   "cell_type": "code",
   "execution_count": 42,
   "metadata": {},
   "outputs": [
    {
     "name": "stdout",
     "output_type": "stream",
     "text": [
      "showing info https://raw.githubusercontent.com/nltk/nltk_data/gh-pages/index.xml\n"
     ]
    },
    {
     "data": {
      "text/plain": [
       "True"
      ]
     },
     "execution_count": 42,
     "metadata": {},
     "output_type": "execute_result"
    }
   ],
   "source": [
    "nltk.download()"
   ]
  },
  {
   "cell_type": "code",
   "execution_count": 34,
   "metadata": {
    "colab": {},
    "colab_type": "code",
    "id": "oBKDk_ruDWKN"
   },
   "outputs": [
    {
     "data": {
      "text/plain": [
       "['Python', 'eh', 'uma', 'linguagem', 'fenomenal']"
      ]
     },
     "execution_count": 34,
     "metadata": {},
     "output_type": "execute_result"
    }
   ],
   "source": [
    "frase = 'Python eh uma linguagem fenomenal'\n",
    "palavras = nltk.word_tokenize(frase)\n",
    "palavras"
   ]
  },
  {
   "cell_type": "code",
   "execution_count": 35,
   "metadata": {
    "colab": {},
    "colab_type": "code",
    "id": "n7D7gV6oDWKO"
   },
   "outputs": [
    {
     "data": {
      "text/plain": [
       "FreqDist({'six': 3, 'Iron Maiden': 2, 'the': 1, 'Best': 1, 'forever': 1})"
      ]
     },
     "execution_count": 35,
     "metadata": {},
     "output_type": "execute_result"
    }
   ],
   "source": [
    "from nltk import FreqDist\n",
    "frequencia = FreqDist(['six','six','six','Iron Maiden','the','Best','Iron Maiden','forever'])\n",
    "frequencia"
   ]
  },
  {
   "cell_type": "code",
   "execution_count": 36,
   "metadata": {
    "colab": {},
    "colab_type": "code",
    "id": "wAeKNxr5DWKQ"
   },
   "outputs": [
    {
     "name": "stdout",
     "output_type": "stream",
     "text": [
      "dict_values([3, 2, 1, 1, 1])\n"
     ]
    }
   ],
   "source": [
    "print (frequencia.values())"
   ]
  },
  {
   "cell_type": "code",
   "execution_count": 37,
   "metadata": {
    "colab": {},
    "colab_type": "code",
    "id": "1JntBtfrDWKS"
   },
   "outputs": [
    {
     "data": {
      "text/plain": [
       "'six'"
      ]
     },
     "execution_count": 37,
     "metadata": {},
     "output_type": "execute_result"
    }
   ],
   "source": [
    "frequencia.max()"
   ]
  },
  {
   "cell_type": "code",
   "execution_count": 38,
   "metadata": {
    "colab": {},
    "colab_type": "code",
    "id": "O8Hd953hDWKV"
   },
   "outputs": [
    {
     "data": {
      "text/plain": [
       "dict_items([('six', 3), ('Iron Maiden', 2), ('the', 1), ('Best', 1), ('forever', 1)])"
      ]
     },
     "execution_count": 38,
     "metadata": {},
     "output_type": "execute_result"
    }
   ],
   "source": [
    "frequencia.items()"
   ]
  },
  {
   "cell_type": "markdown",
   "metadata": {
    "colab_type": "text",
    "id": "PjnojbFvDWKW"
   },
   "source": [
    "**Plota a Frequencia das palavras na Frase**"
   ]
  },
  {
   "cell_type": "code",
   "execution_count": 39,
   "metadata": {
    "colab": {},
    "colab_type": "code",
    "id": "23lBe4oaDWKW",
    "scrolled": true
   },
   "outputs": [
    {
     "data": {
      "application/javascript": [
       "/* Put everything inside the global mpl namespace */\n",
       "/* global mpl */\n",
       "window.mpl = {};\n",
       "\n",
       "mpl.get_websocket_type = function () {\n",
       "    if (typeof WebSocket !== 'undefined') {\n",
       "        return WebSocket;\n",
       "    } else if (typeof MozWebSocket !== 'undefined') {\n",
       "        return MozWebSocket;\n",
       "    } else {\n",
       "        alert(\n",
       "            'Your browser does not have WebSocket support. ' +\n",
       "                'Please try Chrome, Safari or Firefox ≥ 6. ' +\n",
       "                'Firefox 4 and 5 are also supported but you ' +\n",
       "                'have to enable WebSockets in about:config.'\n",
       "        );\n",
       "    }\n",
       "};\n",
       "\n",
       "mpl.figure = function (figure_id, websocket, ondownload, parent_element) {\n",
       "    this.id = figure_id;\n",
       "\n",
       "    this.ws = websocket;\n",
       "\n",
       "    this.supports_binary = this.ws.binaryType !== undefined;\n",
       "\n",
       "    if (!this.supports_binary) {\n",
       "        var warnings = document.getElementById('mpl-warnings');\n",
       "        if (warnings) {\n",
       "            warnings.style.display = 'block';\n",
       "            warnings.textContent =\n",
       "                'This browser does not support binary websocket messages. ' +\n",
       "                'Performance may be slow.';\n",
       "        }\n",
       "    }\n",
       "\n",
       "    this.imageObj = new Image();\n",
       "\n",
       "    this.context = undefined;\n",
       "    this.message = undefined;\n",
       "    this.canvas = undefined;\n",
       "    this.rubberband_canvas = undefined;\n",
       "    this.rubberband_context = undefined;\n",
       "    this.format_dropdown = undefined;\n",
       "\n",
       "    this.image_mode = 'full';\n",
       "\n",
       "    this.root = document.createElement('div');\n",
       "    this.root.setAttribute('style', 'display: inline-block');\n",
       "    this._root_extra_style(this.root);\n",
       "\n",
       "    parent_element.appendChild(this.root);\n",
       "\n",
       "    this._init_header(this);\n",
       "    this._init_canvas(this);\n",
       "    this._init_toolbar(this);\n",
       "\n",
       "    var fig = this;\n",
       "\n",
       "    this.waiting = false;\n",
       "\n",
       "    this.ws.onopen = function () {\n",
       "        fig.send_message('supports_binary', { value: fig.supports_binary });\n",
       "        fig.send_message('send_image_mode', {});\n",
       "        if (fig.ratio !== 1) {\n",
       "            fig.send_message('set_device_pixel_ratio', {\n",
       "                device_pixel_ratio: fig.ratio,\n",
       "            });\n",
       "        }\n",
       "        fig.send_message('refresh', {});\n",
       "    };\n",
       "\n",
       "    this.imageObj.onload = function () {\n",
       "        if (fig.image_mode === 'full') {\n",
       "            // Full images could contain transparency (where diff images\n",
       "            // almost always do), so we need to clear the canvas so that\n",
       "            // there is no ghosting.\n",
       "            fig.context.clearRect(0, 0, fig.canvas.width, fig.canvas.height);\n",
       "        }\n",
       "        fig.context.drawImage(fig.imageObj, 0, 0);\n",
       "    };\n",
       "\n",
       "    this.imageObj.onunload = function () {\n",
       "        fig.ws.close();\n",
       "    };\n",
       "\n",
       "    this.ws.onmessage = this._make_on_message_function(this);\n",
       "\n",
       "    this.ondownload = ondownload;\n",
       "};\n",
       "\n",
       "mpl.figure.prototype._init_header = function () {\n",
       "    var titlebar = document.createElement('div');\n",
       "    titlebar.classList =\n",
       "        'ui-dialog-titlebar ui-widget-header ui-corner-all ui-helper-clearfix';\n",
       "    var titletext = document.createElement('div');\n",
       "    titletext.classList = 'ui-dialog-title';\n",
       "    titletext.setAttribute(\n",
       "        'style',\n",
       "        'width: 100%; text-align: center; padding: 3px;'\n",
       "    );\n",
       "    titlebar.appendChild(titletext);\n",
       "    this.root.appendChild(titlebar);\n",
       "    this.header = titletext;\n",
       "};\n",
       "\n",
       "mpl.figure.prototype._canvas_extra_style = function (_canvas_div) {};\n",
       "\n",
       "mpl.figure.prototype._root_extra_style = function (_canvas_div) {};\n",
       "\n",
       "mpl.figure.prototype._init_canvas = function () {\n",
       "    var fig = this;\n",
       "\n",
       "    var canvas_div = (this.canvas_div = document.createElement('div'));\n",
       "    canvas_div.setAttribute('tabindex', '0');\n",
       "    canvas_div.setAttribute(\n",
       "        'style',\n",
       "        'border: 1px solid #ddd;' +\n",
       "            'box-sizing: content-box;' +\n",
       "            'clear: both;' +\n",
       "            'min-height: 1px;' +\n",
       "            'min-width: 1px;' +\n",
       "            'outline: 0;' +\n",
       "            'overflow: hidden;' +\n",
       "            'position: relative;' +\n",
       "            'resize: both;' +\n",
       "            'z-index: 2;'\n",
       "    );\n",
       "\n",
       "    function on_keyboard_event_closure(name) {\n",
       "        return function (event) {\n",
       "            return fig.key_event(event, name);\n",
       "        };\n",
       "    }\n",
       "\n",
       "    canvas_div.addEventListener(\n",
       "        'keydown',\n",
       "        on_keyboard_event_closure('key_press')\n",
       "    );\n",
       "    canvas_div.addEventListener(\n",
       "        'keyup',\n",
       "        on_keyboard_event_closure('key_release')\n",
       "    );\n",
       "\n",
       "    this._canvas_extra_style(canvas_div);\n",
       "    this.root.appendChild(canvas_div);\n",
       "\n",
       "    var canvas = (this.canvas = document.createElement('canvas'));\n",
       "    canvas.classList.add('mpl-canvas');\n",
       "    canvas.setAttribute(\n",
       "        'style',\n",
       "        'box-sizing: content-box;' +\n",
       "            'pointer-events: none;' +\n",
       "            'position: relative;' +\n",
       "            'z-index: 0;'\n",
       "    );\n",
       "\n",
       "    this.context = canvas.getContext('2d');\n",
       "\n",
       "    var backingStore =\n",
       "        this.context.backingStorePixelRatio ||\n",
       "        this.context.webkitBackingStorePixelRatio ||\n",
       "        this.context.mozBackingStorePixelRatio ||\n",
       "        this.context.msBackingStorePixelRatio ||\n",
       "        this.context.oBackingStorePixelRatio ||\n",
       "        this.context.backingStorePixelRatio ||\n",
       "        1;\n",
       "\n",
       "    this.ratio = (window.devicePixelRatio || 1) / backingStore;\n",
       "\n",
       "    var rubberband_canvas = (this.rubberband_canvas = document.createElement(\n",
       "        'canvas'\n",
       "    ));\n",
       "    rubberband_canvas.setAttribute(\n",
       "        'style',\n",
       "        'box-sizing: content-box;' +\n",
       "            'left: 0;' +\n",
       "            'pointer-events: none;' +\n",
       "            'position: absolute;' +\n",
       "            'top: 0;' +\n",
       "            'z-index: 1;'\n",
       "    );\n",
       "\n",
       "    // Apply a ponyfill if ResizeObserver is not implemented by browser.\n",
       "    if (this.ResizeObserver === undefined) {\n",
       "        if (window.ResizeObserver !== undefined) {\n",
       "            this.ResizeObserver = window.ResizeObserver;\n",
       "        } else {\n",
       "            var obs = _JSXTOOLS_RESIZE_OBSERVER({});\n",
       "            this.ResizeObserver = obs.ResizeObserver;\n",
       "        }\n",
       "    }\n",
       "\n",
       "    this.resizeObserverInstance = new this.ResizeObserver(function (entries) {\n",
       "        var nentries = entries.length;\n",
       "        for (var i = 0; i < nentries; i++) {\n",
       "            var entry = entries[i];\n",
       "            var width, height;\n",
       "            if (entry.contentBoxSize) {\n",
       "                if (entry.contentBoxSize instanceof Array) {\n",
       "                    // Chrome 84 implements new version of spec.\n",
       "                    width = entry.contentBoxSize[0].inlineSize;\n",
       "                    height = entry.contentBoxSize[0].blockSize;\n",
       "                } else {\n",
       "                    // Firefox implements old version of spec.\n",
       "                    width = entry.contentBoxSize.inlineSize;\n",
       "                    height = entry.contentBoxSize.blockSize;\n",
       "                }\n",
       "            } else {\n",
       "                // Chrome <84 implements even older version of spec.\n",
       "                width = entry.contentRect.width;\n",
       "                height = entry.contentRect.height;\n",
       "            }\n",
       "\n",
       "            // Keep the size of the canvas and rubber band canvas in sync with\n",
       "            // the canvas container.\n",
       "            if (entry.devicePixelContentBoxSize) {\n",
       "                // Chrome 84 implements new version of spec.\n",
       "                canvas.setAttribute(\n",
       "                    'width',\n",
       "                    entry.devicePixelContentBoxSize[0].inlineSize\n",
       "                );\n",
       "                canvas.setAttribute(\n",
       "                    'height',\n",
       "                    entry.devicePixelContentBoxSize[0].blockSize\n",
       "                );\n",
       "            } else {\n",
       "                canvas.setAttribute('width', width * fig.ratio);\n",
       "                canvas.setAttribute('height', height * fig.ratio);\n",
       "            }\n",
       "            /* This rescales the canvas back to display pixels, so that it\n",
       "             * appears correct on HiDPI screens. */\n",
       "            canvas.style.width = width + 'px';\n",
       "            canvas.style.height = height + 'px';\n",
       "\n",
       "            rubberband_canvas.setAttribute('width', width);\n",
       "            rubberband_canvas.setAttribute('height', height);\n",
       "\n",
       "            // And update the size in Python. We ignore the initial 0/0 size\n",
       "            // that occurs as the element is placed into the DOM, which should\n",
       "            // otherwise not happen due to the minimum size styling.\n",
       "            if (fig.ws.readyState == 1 && width != 0 && height != 0) {\n",
       "                fig.request_resize(width, height);\n",
       "            }\n",
       "        }\n",
       "    });\n",
       "    this.resizeObserverInstance.observe(canvas_div);\n",
       "\n",
       "    function on_mouse_event_closure(name) {\n",
       "        /* User Agent sniffing is bad, but WebKit is busted:\n",
       "         * https://bugs.webkit.org/show_bug.cgi?id=144526\n",
       "         * https://bugs.webkit.org/show_bug.cgi?id=181818\n",
       "         * The worst that happens here is that they get an extra browser\n",
       "         * selection when dragging, if this check fails to catch them.\n",
       "         */\n",
       "        var UA = navigator.userAgent;\n",
       "        var isWebKit = /AppleWebKit/.test(UA) && !/Chrome/.test(UA);\n",
       "        if(isWebKit) {\n",
       "            return function (event) {\n",
       "                /* This prevents the web browser from automatically changing to\n",
       "                 * the text insertion cursor when the button is pressed. We\n",
       "                 * want to control all of the cursor setting manually through\n",
       "                 * the 'cursor' event from matplotlib */\n",
       "                event.preventDefault()\n",
       "                return fig.mouse_event(event, name);\n",
       "            };\n",
       "        } else {\n",
       "            return function (event) {\n",
       "                return fig.mouse_event(event, name);\n",
       "            };\n",
       "        }\n",
       "    }\n",
       "\n",
       "    canvas_div.addEventListener(\n",
       "        'mousedown',\n",
       "        on_mouse_event_closure('button_press')\n",
       "    );\n",
       "    canvas_div.addEventListener(\n",
       "        'mouseup',\n",
       "        on_mouse_event_closure('button_release')\n",
       "    );\n",
       "    canvas_div.addEventListener(\n",
       "        'dblclick',\n",
       "        on_mouse_event_closure('dblclick')\n",
       "    );\n",
       "    // Throttle sequential mouse events to 1 every 20ms.\n",
       "    canvas_div.addEventListener(\n",
       "        'mousemove',\n",
       "        on_mouse_event_closure('motion_notify')\n",
       "    );\n",
       "\n",
       "    canvas_div.addEventListener(\n",
       "        'mouseenter',\n",
       "        on_mouse_event_closure('figure_enter')\n",
       "    );\n",
       "    canvas_div.addEventListener(\n",
       "        'mouseleave',\n",
       "        on_mouse_event_closure('figure_leave')\n",
       "    );\n",
       "\n",
       "    canvas_div.addEventListener('wheel', function (event) {\n",
       "        if (event.deltaY < 0) {\n",
       "            event.step = 1;\n",
       "        } else {\n",
       "            event.step = -1;\n",
       "        }\n",
       "        on_mouse_event_closure('scroll')(event);\n",
       "    });\n",
       "\n",
       "    canvas_div.appendChild(canvas);\n",
       "    canvas_div.appendChild(rubberband_canvas);\n",
       "\n",
       "    this.rubberband_context = rubberband_canvas.getContext('2d');\n",
       "    this.rubberband_context.strokeStyle = '#000000';\n",
       "\n",
       "    this._resize_canvas = function (width, height, forward) {\n",
       "        if (forward) {\n",
       "            canvas_div.style.width = width + 'px';\n",
       "            canvas_div.style.height = height + 'px';\n",
       "        }\n",
       "    };\n",
       "\n",
       "    // Disable right mouse context menu.\n",
       "    canvas_div.addEventListener('contextmenu', function (_e) {\n",
       "        event.preventDefault();\n",
       "        return false;\n",
       "    });\n",
       "\n",
       "    function set_focus() {\n",
       "        canvas.focus();\n",
       "        canvas_div.focus();\n",
       "    }\n",
       "\n",
       "    window.setTimeout(set_focus, 100);\n",
       "};\n",
       "\n",
       "mpl.figure.prototype._init_toolbar = function () {\n",
       "    var fig = this;\n",
       "\n",
       "    var toolbar = document.createElement('div');\n",
       "    toolbar.classList = 'mpl-toolbar';\n",
       "    this.root.appendChild(toolbar);\n",
       "\n",
       "    function on_click_closure(name) {\n",
       "        return function (_event) {\n",
       "            return fig.toolbar_button_onclick(name);\n",
       "        };\n",
       "    }\n",
       "\n",
       "    function on_mouseover_closure(tooltip) {\n",
       "        return function (event) {\n",
       "            if (!event.currentTarget.disabled) {\n",
       "                return fig.toolbar_button_onmouseover(tooltip);\n",
       "            }\n",
       "        };\n",
       "    }\n",
       "\n",
       "    fig.buttons = {};\n",
       "    var buttonGroup = document.createElement('div');\n",
       "    buttonGroup.classList = 'mpl-button-group';\n",
       "    for (var toolbar_ind in mpl.toolbar_items) {\n",
       "        var name = mpl.toolbar_items[toolbar_ind][0];\n",
       "        var tooltip = mpl.toolbar_items[toolbar_ind][1];\n",
       "        var image = mpl.toolbar_items[toolbar_ind][2];\n",
       "        var method_name = mpl.toolbar_items[toolbar_ind][3];\n",
       "\n",
       "        if (!name) {\n",
       "            /* Instead of a spacer, we start a new button group. */\n",
       "            if (buttonGroup.hasChildNodes()) {\n",
       "                toolbar.appendChild(buttonGroup);\n",
       "            }\n",
       "            buttonGroup = document.createElement('div');\n",
       "            buttonGroup.classList = 'mpl-button-group';\n",
       "            continue;\n",
       "        }\n",
       "\n",
       "        var button = (fig.buttons[name] = document.createElement('button'));\n",
       "        button.classList = 'mpl-widget';\n",
       "        button.setAttribute('role', 'button');\n",
       "        button.setAttribute('aria-disabled', 'false');\n",
       "        button.addEventListener('click', on_click_closure(method_name));\n",
       "        button.addEventListener('mouseover', on_mouseover_closure(tooltip));\n",
       "\n",
       "        var icon_img = document.createElement('img');\n",
       "        icon_img.src = '_images/' + image + '.png';\n",
       "        icon_img.srcset = '_images/' + image + '_large.png 2x';\n",
       "        icon_img.alt = tooltip;\n",
       "        button.appendChild(icon_img);\n",
       "\n",
       "        buttonGroup.appendChild(button);\n",
       "    }\n",
       "\n",
       "    if (buttonGroup.hasChildNodes()) {\n",
       "        toolbar.appendChild(buttonGroup);\n",
       "    }\n",
       "\n",
       "    var fmt_picker = document.createElement('select');\n",
       "    fmt_picker.classList = 'mpl-widget';\n",
       "    toolbar.appendChild(fmt_picker);\n",
       "    this.format_dropdown = fmt_picker;\n",
       "\n",
       "    for (var ind in mpl.extensions) {\n",
       "        var fmt = mpl.extensions[ind];\n",
       "        var option = document.createElement('option');\n",
       "        option.selected = fmt === mpl.default_extension;\n",
       "        option.innerHTML = fmt;\n",
       "        fmt_picker.appendChild(option);\n",
       "    }\n",
       "\n",
       "    var status_bar = document.createElement('span');\n",
       "    status_bar.classList = 'mpl-message';\n",
       "    toolbar.appendChild(status_bar);\n",
       "    this.message = status_bar;\n",
       "};\n",
       "\n",
       "mpl.figure.prototype.request_resize = function (x_pixels, y_pixels) {\n",
       "    // Request matplotlib to resize the figure. Matplotlib will then trigger a resize in the client,\n",
       "    // which will in turn request a refresh of the image.\n",
       "    this.send_message('resize', { width: x_pixels, height: y_pixels });\n",
       "};\n",
       "\n",
       "mpl.figure.prototype.send_message = function (type, properties) {\n",
       "    properties['type'] = type;\n",
       "    properties['figure_id'] = this.id;\n",
       "    this.ws.send(JSON.stringify(properties));\n",
       "};\n",
       "\n",
       "mpl.figure.prototype.send_draw_message = function () {\n",
       "    if (!this.waiting) {\n",
       "        this.waiting = true;\n",
       "        this.ws.send(JSON.stringify({ type: 'draw', figure_id: this.id }));\n",
       "    }\n",
       "};\n",
       "\n",
       "mpl.figure.prototype.handle_save = function (fig, _msg) {\n",
       "    var format_dropdown = fig.format_dropdown;\n",
       "    var format = format_dropdown.options[format_dropdown.selectedIndex].value;\n",
       "    fig.ondownload(fig, format);\n",
       "};\n",
       "\n",
       "mpl.figure.prototype.handle_resize = function (fig, msg) {\n",
       "    var size = msg['size'];\n",
       "    if (size[0] !== fig.canvas.width || size[1] !== fig.canvas.height) {\n",
       "        fig._resize_canvas(size[0], size[1], msg['forward']);\n",
       "        fig.send_message('refresh', {});\n",
       "    }\n",
       "};\n",
       "\n",
       "mpl.figure.prototype.handle_rubberband = function (fig, msg) {\n",
       "    var x0 = msg['x0'] / fig.ratio;\n",
       "    var y0 = (fig.canvas.height - msg['y0']) / fig.ratio;\n",
       "    var x1 = msg['x1'] / fig.ratio;\n",
       "    var y1 = (fig.canvas.height - msg['y1']) / fig.ratio;\n",
       "    x0 = Math.floor(x0) + 0.5;\n",
       "    y0 = Math.floor(y0) + 0.5;\n",
       "    x1 = Math.floor(x1) + 0.5;\n",
       "    y1 = Math.floor(y1) + 0.5;\n",
       "    var min_x = Math.min(x0, x1);\n",
       "    var min_y = Math.min(y0, y1);\n",
       "    var width = Math.abs(x1 - x0);\n",
       "    var height = Math.abs(y1 - y0);\n",
       "\n",
       "    fig.rubberband_context.clearRect(\n",
       "        0,\n",
       "        0,\n",
       "        fig.canvas.width / fig.ratio,\n",
       "        fig.canvas.height / fig.ratio\n",
       "    );\n",
       "\n",
       "    fig.rubberband_context.strokeRect(min_x, min_y, width, height);\n",
       "};\n",
       "\n",
       "mpl.figure.prototype.handle_figure_label = function (fig, msg) {\n",
       "    // Updates the figure title.\n",
       "    fig.header.textContent = msg['label'];\n",
       "};\n",
       "\n",
       "mpl.figure.prototype.handle_cursor = function (fig, msg) {\n",
       "    fig.canvas_div.style.cursor = msg['cursor'];\n",
       "};\n",
       "\n",
       "mpl.figure.prototype.handle_message = function (fig, msg) {\n",
       "    fig.message.textContent = msg['message'];\n",
       "};\n",
       "\n",
       "mpl.figure.prototype.handle_draw = function (fig, _msg) {\n",
       "    // Request the server to send over a new figure.\n",
       "    fig.send_draw_message();\n",
       "};\n",
       "\n",
       "mpl.figure.prototype.handle_image_mode = function (fig, msg) {\n",
       "    fig.image_mode = msg['mode'];\n",
       "};\n",
       "\n",
       "mpl.figure.prototype.handle_history_buttons = function (fig, msg) {\n",
       "    for (var key in msg) {\n",
       "        if (!(key in fig.buttons)) {\n",
       "            continue;\n",
       "        }\n",
       "        fig.buttons[key].disabled = !msg[key];\n",
       "        fig.buttons[key].setAttribute('aria-disabled', !msg[key]);\n",
       "    }\n",
       "};\n",
       "\n",
       "mpl.figure.prototype.handle_navigate_mode = function (fig, msg) {\n",
       "    if (msg['mode'] === 'PAN') {\n",
       "        fig.buttons['Pan'].classList.add('active');\n",
       "        fig.buttons['Zoom'].classList.remove('active');\n",
       "    } else if (msg['mode'] === 'ZOOM') {\n",
       "        fig.buttons['Pan'].classList.remove('active');\n",
       "        fig.buttons['Zoom'].classList.add('active');\n",
       "    } else {\n",
       "        fig.buttons['Pan'].classList.remove('active');\n",
       "        fig.buttons['Zoom'].classList.remove('active');\n",
       "    }\n",
       "};\n",
       "\n",
       "mpl.figure.prototype.updated_canvas_event = function () {\n",
       "    // Called whenever the canvas gets updated.\n",
       "    this.send_message('ack', {});\n",
       "};\n",
       "\n",
       "// A function to construct a web socket function for onmessage handling.\n",
       "// Called in the figure constructor.\n",
       "mpl.figure.prototype._make_on_message_function = function (fig) {\n",
       "    return function socket_on_message(evt) {\n",
       "        if (evt.data instanceof Blob) {\n",
       "            var img = evt.data;\n",
       "            if (img.type !== 'image/png') {\n",
       "                /* FIXME: We get \"Resource interpreted as Image but\n",
       "                 * transferred with MIME type text/plain:\" errors on\n",
       "                 * Chrome.  But how to set the MIME type?  It doesn't seem\n",
       "                 * to be part of the websocket stream */\n",
       "                img.type = 'image/png';\n",
       "            }\n",
       "\n",
       "            /* Free the memory for the previous frames */\n",
       "            if (fig.imageObj.src) {\n",
       "                (window.URL || window.webkitURL).revokeObjectURL(\n",
       "                    fig.imageObj.src\n",
       "                );\n",
       "            }\n",
       "\n",
       "            fig.imageObj.src = (window.URL || window.webkitURL).createObjectURL(\n",
       "                img\n",
       "            );\n",
       "            fig.updated_canvas_event();\n",
       "            fig.waiting = false;\n",
       "            return;\n",
       "        } else if (\n",
       "            typeof evt.data === 'string' &&\n",
       "            evt.data.slice(0, 21) === 'data:image/png;base64'\n",
       "        ) {\n",
       "            fig.imageObj.src = evt.data;\n",
       "            fig.updated_canvas_event();\n",
       "            fig.waiting = false;\n",
       "            return;\n",
       "        }\n",
       "\n",
       "        var msg = JSON.parse(evt.data);\n",
       "        var msg_type = msg['type'];\n",
       "\n",
       "        // Call the  \"handle_{type}\" callback, which takes\n",
       "        // the figure and JSON message as its only arguments.\n",
       "        try {\n",
       "            var callback = fig['handle_' + msg_type];\n",
       "        } catch (e) {\n",
       "            console.log(\n",
       "                \"No handler for the '\" + msg_type + \"' message type: \",\n",
       "                msg\n",
       "            );\n",
       "            return;\n",
       "        }\n",
       "\n",
       "        if (callback) {\n",
       "            try {\n",
       "                // console.log(\"Handling '\" + msg_type + \"' message: \", msg);\n",
       "                callback(fig, msg);\n",
       "            } catch (e) {\n",
       "                console.log(\n",
       "                    \"Exception inside the 'handler_\" + msg_type + \"' callback:\",\n",
       "                    e,\n",
       "                    e.stack,\n",
       "                    msg\n",
       "                );\n",
       "            }\n",
       "        }\n",
       "    };\n",
       "};\n",
       "\n",
       "function getModifiers(event) {\n",
       "    var mods = [];\n",
       "    if (event.ctrlKey) {\n",
       "        mods.push('ctrl');\n",
       "    }\n",
       "    if (event.altKey) {\n",
       "        mods.push('alt');\n",
       "    }\n",
       "    if (event.shiftKey) {\n",
       "        mods.push('shift');\n",
       "    }\n",
       "    if (event.metaKey) {\n",
       "        mods.push('meta');\n",
       "    }\n",
       "    return mods;\n",
       "}\n",
       "\n",
       "/*\n",
       " * return a copy of an object with only non-object keys\n",
       " * we need this to avoid circular references\n",
       " * https://stackoverflow.com/a/24161582/3208463\n",
       " */\n",
       "function simpleKeys(original) {\n",
       "    return Object.keys(original).reduce(function (obj, key) {\n",
       "        if (typeof original[key] !== 'object') {\n",
       "            obj[key] = original[key];\n",
       "        }\n",
       "        return obj;\n",
       "    }, {});\n",
       "}\n",
       "\n",
       "mpl.figure.prototype.mouse_event = function (event, name) {\n",
       "    if (name === 'button_press') {\n",
       "        this.canvas.focus();\n",
       "        this.canvas_div.focus();\n",
       "    }\n",
       "\n",
       "    // from https://stackoverflow.com/q/1114465\n",
       "    var boundingRect = this.canvas.getBoundingClientRect();\n",
       "    var x = (event.clientX - boundingRect.left) * this.ratio;\n",
       "    var y = (event.clientY - boundingRect.top) * this.ratio;\n",
       "\n",
       "    this.send_message(name, {\n",
       "        x: x,\n",
       "        y: y,\n",
       "        button: event.button,\n",
       "        step: event.step,\n",
       "        modifiers: getModifiers(event),\n",
       "        guiEvent: simpleKeys(event),\n",
       "    });\n",
       "\n",
       "    return false;\n",
       "};\n",
       "\n",
       "mpl.figure.prototype._key_event_extra = function (_event, _name) {\n",
       "    // Handle any extra behaviour associated with a key event\n",
       "};\n",
       "\n",
       "mpl.figure.prototype.key_event = function (event, name) {\n",
       "    // Prevent repeat events\n",
       "    if (name === 'key_press') {\n",
       "        if (event.key === this._key) {\n",
       "            return;\n",
       "        } else {\n",
       "            this._key = event.key;\n",
       "        }\n",
       "    }\n",
       "    if (name === 'key_release') {\n",
       "        this._key = null;\n",
       "    }\n",
       "\n",
       "    var value = '';\n",
       "    if (event.ctrlKey && event.key !== 'Control') {\n",
       "        value += 'ctrl+';\n",
       "    }\n",
       "    else if (event.altKey && event.key !== 'Alt') {\n",
       "        value += 'alt+';\n",
       "    }\n",
       "    else if (event.shiftKey && event.key !== 'Shift') {\n",
       "        value += 'shift+';\n",
       "    }\n",
       "\n",
       "    value += 'k' + event.key;\n",
       "\n",
       "    this._key_event_extra(event, name);\n",
       "\n",
       "    this.send_message(name, { key: value, guiEvent: simpleKeys(event) });\n",
       "    return false;\n",
       "};\n",
       "\n",
       "mpl.figure.prototype.toolbar_button_onclick = function (name) {\n",
       "    if (name === 'download') {\n",
       "        this.handle_save(this, null);\n",
       "    } else {\n",
       "        this.send_message('toolbar_button', { name: name });\n",
       "    }\n",
       "};\n",
       "\n",
       "mpl.figure.prototype.toolbar_button_onmouseover = function (tooltip) {\n",
       "    this.message.textContent = tooltip;\n",
       "};\n",
       "\n",
       "///////////////// REMAINING CONTENT GENERATED BY embed_js.py /////////////////\n",
       "// prettier-ignore\n",
       "var _JSXTOOLS_RESIZE_OBSERVER=function(A){var t,i=new WeakMap,n=new WeakMap,a=new WeakMap,r=new WeakMap,o=new Set;function s(e){if(!(this instanceof s))throw new TypeError(\"Constructor requires 'new' operator\");i.set(this,e)}function h(){throw new TypeError(\"Function is not a constructor\")}function c(e,t,i,n){e=0 in arguments?Number(arguments[0]):0,t=1 in arguments?Number(arguments[1]):0,i=2 in arguments?Number(arguments[2]):0,n=3 in arguments?Number(arguments[3]):0,this.right=(this.x=this.left=e)+(this.width=i),this.bottom=(this.y=this.top=t)+(this.height=n),Object.freeze(this)}function d(){t=requestAnimationFrame(d);var s=new WeakMap,p=new Set;o.forEach((function(t){r.get(t).forEach((function(i){var r=t instanceof window.SVGElement,o=a.get(t),d=r?0:parseFloat(o.paddingTop),f=r?0:parseFloat(o.paddingRight),l=r?0:parseFloat(o.paddingBottom),u=r?0:parseFloat(o.paddingLeft),g=r?0:parseFloat(o.borderTopWidth),m=r?0:parseFloat(o.borderRightWidth),w=r?0:parseFloat(o.borderBottomWidth),b=u+f,F=d+l,v=(r?0:parseFloat(o.borderLeftWidth))+m,W=g+w,y=r?0:t.offsetHeight-W-t.clientHeight,E=r?0:t.offsetWidth-v-t.clientWidth,R=b+v,z=F+W,M=r?t.width:parseFloat(o.width)-R-E,O=r?t.height:parseFloat(o.height)-z-y;if(n.has(t)){var k=n.get(t);if(k[0]===M&&k[1]===O)return}n.set(t,[M,O]);var S=Object.create(h.prototype);S.target=t,S.contentRect=new c(u,d,M,O),s.has(i)||(s.set(i,[]),p.add(i)),s.get(i).push(S)}))})),p.forEach((function(e){i.get(e).call(e,s.get(e),e)}))}return s.prototype.observe=function(i){if(i instanceof window.Element){r.has(i)||(r.set(i,new Set),o.add(i),a.set(i,window.getComputedStyle(i)));var n=r.get(i);n.has(this)||n.add(this),cancelAnimationFrame(t),t=requestAnimationFrame(d)}},s.prototype.unobserve=function(i){if(i instanceof window.Element&&r.has(i)){var n=r.get(i);n.has(this)&&(n.delete(this),n.size||(r.delete(i),o.delete(i))),n.size||r.delete(i),o.size||cancelAnimationFrame(t)}},A.DOMRectReadOnly=c,A.ResizeObserver=s,A.ResizeObserverEntry=h,A}; // eslint-disable-line\n",
       "mpl.toolbar_items = [[\"Home\", \"Reset original view\", \"fa fa-home\", \"home\"], [\"Back\", \"Back to previous view\", \"fa fa-arrow-left\", \"back\"], [\"Forward\", \"Forward to next view\", \"fa fa-arrow-right\", \"forward\"], [\"\", \"\", \"\", \"\"], [\"Pan\", \"Left button pans, Right button zooms\\nx/y fixes axis, CTRL fixes aspect\", \"fa fa-arrows\", \"pan\"], [\"Zoom\", \"Zoom to rectangle\\nx/y fixes axis\", \"fa fa-square-o\", \"zoom\"], [\"\", \"\", \"\", \"\"], [\"Download\", \"Download plot\", \"fa fa-floppy-o\", \"download\"]];\n",
       "\n",
       "mpl.extensions = [\"eps\", \"jpeg\", \"pgf\", \"pdf\", \"png\", \"ps\", \"raw\", \"svg\", \"tif\", \"webp\"];\n",
       "\n",
       "mpl.default_extension = \"png\";/* global mpl */\n",
       "\n",
       "var comm_websocket_adapter = function (comm) {\n",
       "    // Create a \"websocket\"-like object which calls the given IPython comm\n",
       "    // object with the appropriate methods. Currently this is a non binary\n",
       "    // socket, so there is still some room for performance tuning.\n",
       "    var ws = {};\n",
       "\n",
       "    ws.binaryType = comm.kernel.ws.binaryType;\n",
       "    ws.readyState = comm.kernel.ws.readyState;\n",
       "    function updateReadyState(_event) {\n",
       "        if (comm.kernel.ws) {\n",
       "            ws.readyState = comm.kernel.ws.readyState;\n",
       "        } else {\n",
       "            ws.readyState = 3; // Closed state.\n",
       "        }\n",
       "    }\n",
       "    comm.kernel.ws.addEventListener('open', updateReadyState);\n",
       "    comm.kernel.ws.addEventListener('close', updateReadyState);\n",
       "    comm.kernel.ws.addEventListener('error', updateReadyState);\n",
       "\n",
       "    ws.close = function () {\n",
       "        comm.close();\n",
       "    };\n",
       "    ws.send = function (m) {\n",
       "        //console.log('sending', m);\n",
       "        comm.send(m);\n",
       "    };\n",
       "    // Register the callback with on_msg.\n",
       "    comm.on_msg(function (msg) {\n",
       "        //console.log('receiving', msg['content']['data'], msg);\n",
       "        var data = msg['content']['data'];\n",
       "        if (data['blob'] !== undefined) {\n",
       "            data = {\n",
       "                data: new Blob(msg['buffers'], { type: data['blob'] }),\n",
       "            };\n",
       "        }\n",
       "        // Pass the mpl event to the overridden (by mpl) onmessage function.\n",
       "        ws.onmessage(data);\n",
       "    });\n",
       "    return ws;\n",
       "};\n",
       "\n",
       "mpl.mpl_figure_comm = function (comm, msg) {\n",
       "    // This is the function which gets called when the mpl process\n",
       "    // starts-up an IPython Comm through the \"matplotlib\" channel.\n",
       "\n",
       "    var id = msg.content.data.id;\n",
       "    // Get hold of the div created by the display call when the Comm\n",
       "    // socket was opened in Python.\n",
       "    var element = document.getElementById(id);\n",
       "    var ws_proxy = comm_websocket_adapter(comm);\n",
       "\n",
       "    function ondownload(figure, _format) {\n",
       "        window.open(figure.canvas.toDataURL());\n",
       "    }\n",
       "\n",
       "    var fig = new mpl.figure(id, ws_proxy, ondownload, element);\n",
       "\n",
       "    // Call onopen now - mpl needs it, as it is assuming we've passed it a real\n",
       "    // web socket which is closed, not our websocket->open comm proxy.\n",
       "    ws_proxy.onopen();\n",
       "\n",
       "    fig.parent_element = element;\n",
       "    fig.cell_info = mpl.find_output_cell(\"<div id='\" + id + \"'></div>\");\n",
       "    if (!fig.cell_info) {\n",
       "        console.error('Failed to find cell for figure', id, fig);\n",
       "        return;\n",
       "    }\n",
       "    fig.cell_info[0].output_area.element.on(\n",
       "        'cleared',\n",
       "        { fig: fig },\n",
       "        fig._remove_fig_handler\n",
       "    );\n",
       "};\n",
       "\n",
       "mpl.figure.prototype.handle_close = function (fig, msg) {\n",
       "    var width = fig.canvas.width / fig.ratio;\n",
       "    fig.cell_info[0].output_area.element.off(\n",
       "        'cleared',\n",
       "        fig._remove_fig_handler\n",
       "    );\n",
       "    fig.resizeObserverInstance.unobserve(fig.canvas_div);\n",
       "\n",
       "    // Update the output cell to use the data from the current canvas.\n",
       "    fig.push_to_output();\n",
       "    var dataURL = fig.canvas.toDataURL();\n",
       "    // Re-enable the keyboard manager in IPython - without this line, in FF,\n",
       "    // the notebook keyboard shortcuts fail.\n",
       "    IPython.keyboard_manager.enable();\n",
       "    fig.parent_element.innerHTML =\n",
       "        '<img src=\"' + dataURL + '\" width=\"' + width + '\">';\n",
       "    fig.close_ws(fig, msg);\n",
       "};\n",
       "\n",
       "mpl.figure.prototype.close_ws = function (fig, msg) {\n",
       "    fig.send_message('closing', msg);\n",
       "    // fig.ws.close()\n",
       "};\n",
       "\n",
       "mpl.figure.prototype.push_to_output = function (_remove_interactive) {\n",
       "    // Turn the data on the canvas into data in the output cell.\n",
       "    var width = this.canvas.width / this.ratio;\n",
       "    var dataURL = this.canvas.toDataURL();\n",
       "    this.cell_info[1]['text/html'] =\n",
       "        '<img src=\"' + dataURL + '\" width=\"' + width + '\">';\n",
       "};\n",
       "\n",
       "mpl.figure.prototype.updated_canvas_event = function () {\n",
       "    // Tell IPython that the notebook contents must change.\n",
       "    IPython.notebook.set_dirty(true);\n",
       "    this.send_message('ack', {});\n",
       "    var fig = this;\n",
       "    // Wait a second, then push the new image to the DOM so\n",
       "    // that it is saved nicely (might be nice to debounce this).\n",
       "    setTimeout(function () {\n",
       "        fig.push_to_output();\n",
       "    }, 1000);\n",
       "};\n",
       "\n",
       "mpl.figure.prototype._init_toolbar = function () {\n",
       "    var fig = this;\n",
       "\n",
       "    var toolbar = document.createElement('div');\n",
       "    toolbar.classList = 'btn-toolbar';\n",
       "    this.root.appendChild(toolbar);\n",
       "\n",
       "    function on_click_closure(name) {\n",
       "        return function (_event) {\n",
       "            return fig.toolbar_button_onclick(name);\n",
       "        };\n",
       "    }\n",
       "\n",
       "    function on_mouseover_closure(tooltip) {\n",
       "        return function (event) {\n",
       "            if (!event.currentTarget.disabled) {\n",
       "                return fig.toolbar_button_onmouseover(tooltip);\n",
       "            }\n",
       "        };\n",
       "    }\n",
       "\n",
       "    fig.buttons = {};\n",
       "    var buttonGroup = document.createElement('div');\n",
       "    buttonGroup.classList = 'btn-group';\n",
       "    var button;\n",
       "    for (var toolbar_ind in mpl.toolbar_items) {\n",
       "        var name = mpl.toolbar_items[toolbar_ind][0];\n",
       "        var tooltip = mpl.toolbar_items[toolbar_ind][1];\n",
       "        var image = mpl.toolbar_items[toolbar_ind][2];\n",
       "        var method_name = mpl.toolbar_items[toolbar_ind][3];\n",
       "\n",
       "        if (!name) {\n",
       "            /* Instead of a spacer, we start a new button group. */\n",
       "            if (buttonGroup.hasChildNodes()) {\n",
       "                toolbar.appendChild(buttonGroup);\n",
       "            }\n",
       "            buttonGroup = document.createElement('div');\n",
       "            buttonGroup.classList = 'btn-group';\n",
       "            continue;\n",
       "        }\n",
       "\n",
       "        button = fig.buttons[name] = document.createElement('button');\n",
       "        button.classList = 'btn btn-default';\n",
       "        button.href = '#';\n",
       "        button.title = name;\n",
       "        button.innerHTML = '<i class=\"fa ' + image + ' fa-lg\"></i>';\n",
       "        button.addEventListener('click', on_click_closure(method_name));\n",
       "        button.addEventListener('mouseover', on_mouseover_closure(tooltip));\n",
       "        buttonGroup.appendChild(button);\n",
       "    }\n",
       "\n",
       "    if (buttonGroup.hasChildNodes()) {\n",
       "        toolbar.appendChild(buttonGroup);\n",
       "    }\n",
       "\n",
       "    // Add the status bar.\n",
       "    var status_bar = document.createElement('span');\n",
       "    status_bar.classList = 'mpl-message pull-right';\n",
       "    toolbar.appendChild(status_bar);\n",
       "    this.message = status_bar;\n",
       "\n",
       "    // Add the close button to the window.\n",
       "    var buttongrp = document.createElement('div');\n",
       "    buttongrp.classList = 'btn-group inline pull-right';\n",
       "    button = document.createElement('button');\n",
       "    button.classList = 'btn btn-mini btn-primary';\n",
       "    button.href = '#';\n",
       "    button.title = 'Stop Interaction';\n",
       "    button.innerHTML = '<i class=\"fa fa-power-off icon-remove icon-large\"></i>';\n",
       "    button.addEventListener('click', function (_evt) {\n",
       "        fig.handle_close(fig, {});\n",
       "    });\n",
       "    button.addEventListener(\n",
       "        'mouseover',\n",
       "        on_mouseover_closure('Stop Interaction')\n",
       "    );\n",
       "    buttongrp.appendChild(button);\n",
       "    var titlebar = this.root.querySelector('.ui-dialog-titlebar');\n",
       "    titlebar.insertBefore(buttongrp, titlebar.firstChild);\n",
       "};\n",
       "\n",
       "mpl.figure.prototype._remove_fig_handler = function (event) {\n",
       "    var fig = event.data.fig;\n",
       "    if (event.target !== this) {\n",
       "        // Ignore bubbled events from children.\n",
       "        return;\n",
       "    }\n",
       "    fig.close_ws(fig, {});\n",
       "};\n",
       "\n",
       "mpl.figure.prototype._root_extra_style = function (el) {\n",
       "    el.style.boxSizing = 'content-box'; // override notebook setting of border-box.\n",
       "};\n",
       "\n",
       "mpl.figure.prototype._canvas_extra_style = function (el) {\n",
       "    // this is important to make the div 'focusable\n",
       "    el.setAttribute('tabindex', 0);\n",
       "    // reach out to IPython and tell the keyboard manager to turn it's self\n",
       "    // off when our div gets focus\n",
       "\n",
       "    // location in version 3\n",
       "    if (IPython.notebook.keyboard_manager) {\n",
       "        IPython.notebook.keyboard_manager.register_events(el);\n",
       "    } else {\n",
       "        // location in version 2\n",
       "        IPython.keyboard_manager.register_events(el);\n",
       "    }\n",
       "};\n",
       "\n",
       "mpl.figure.prototype._key_event_extra = function (event, _name) {\n",
       "    // Check for shift+enter\n",
       "    if (event.shiftKey && event.which === 13) {\n",
       "        this.canvas_div.blur();\n",
       "        // select the cell after this one\n",
       "        var index = IPython.notebook.find_cell_index(this.cell_info[0]);\n",
       "        IPython.notebook.select(index + 1);\n",
       "    }\n",
       "};\n",
       "\n",
       "mpl.figure.prototype.handle_save = function (fig, _msg) {\n",
       "    fig.ondownload(fig, null);\n",
       "};\n",
       "\n",
       "mpl.find_output_cell = function (html_output) {\n",
       "    // Return the cell and output element which can be found *uniquely* in the notebook.\n",
       "    // Note - this is a bit hacky, but it is done because the \"notebook_saving.Notebook\"\n",
       "    // IPython event is triggered only after the cells have been serialised, which for\n",
       "    // our purposes (turning an active figure into a static one), is too late.\n",
       "    var cells = IPython.notebook.get_cells();\n",
       "    var ncells = cells.length;\n",
       "    for (var i = 0; i < ncells; i++) {\n",
       "        var cell = cells[i];\n",
       "        if (cell.cell_type === 'code') {\n",
       "            for (var j = 0; j < cell.output_area.outputs.length; j++) {\n",
       "                var data = cell.output_area.outputs[j];\n",
       "                if (data.data) {\n",
       "                    // IPython >= 3 moved mimebundle to data attribute of output\n",
       "                    data = data.data;\n",
       "                }\n",
       "                if (data['text/html'] === html_output) {\n",
       "                    return [cell, data, j];\n",
       "                }\n",
       "            }\n",
       "        }\n",
       "    }\n",
       "};\n",
       "\n",
       "// Register the function which deals with the matplotlib target/channel.\n",
       "// The kernel may be null if the page has been refreshed.\n",
       "if (IPython.notebook.kernel !== null) {\n",
       "    IPython.notebook.kernel.comm_manager.register_target(\n",
       "        'matplotlib',\n",
       "        mpl.mpl_figure_comm\n",
       "    );\n",
       "}\n"
      ],
      "text/plain": [
       "<IPython.core.display.Javascript object>"
      ]
     },
     "metadata": {},
     "output_type": "display_data"
    },
    {
     "data": {
      "text/html": [
       "<img src=\"data:image/png;base64,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\" width=\"640\">"
      ],
      "text/plain": [
       "<IPython.core.display.HTML object>"
      ]
     },
     "metadata": {},
     "output_type": "display_data"
    }
   ],
   "source": [
    "%matplotlib notebook\n",
    "import numpy as np\n",
    "import matplotlib.pyplot as plt\n",
    "\n",
    "palavras = frequencia.keys()\n",
    "y_pos = np.arange(len(palavras))\n",
    "contagem = frequencia.values()\n",
    "\n",
    "plt.bar(y_pos, contagem, align='center', alpha=0.5)\n",
    "plt.xticks(y_pos, palavras)\n",
    "plt.ylabel('Frequencia')\n",
    "plt.title('Frequencia das palavras na frase')\n",
    "\n",
    "plt.show()\n"
   ]
  },
  {
   "cell_type": "markdown",
   "metadata": {
    "colab_type": "text",
    "id": "g_L_DW41DWKY"
   },
   "source": [
    "**Pre Processing**"
   ]
  },
  {
   "cell_type": "markdown",
   "metadata": {
    "colab_type": "text",
    "id": "Bpfo-pnjDWKZ"
   },
   "source": [
    "# Stemming"
   ]
  },
  {
   "cell_type": "markdown",
   "metadata": {
    "colab_type": "text",
    "id": "3ouNmOAfDWKZ"
   },
   "source": [
    "* Reduz a palavra na sua forma radical\n",
    "* Usado para fazer pré-processamento de dados"
   ]
  },
  {
   "cell_type": "code",
   "execution_count": 43,
   "metadata": {},
   "outputs": [
    {
     "name": "stderr",
     "output_type": "stream",
     "text": [
      "[nltk_data] Downloading package rslp to\n",
      "[nltk_data]     C:\\Users\\marci\\AppData\\Roaming\\nltk_data...\n",
      "[nltk_data]   Unzipping stemmers\\rslp.zip.\n"
     ]
    },
    {
     "data": {
      "text/plain": [
       "True"
      ]
     },
     "execution_count": 43,
     "metadata": {},
     "output_type": "execute_result"
    }
   ],
   "source": [
    "nltk.download('rslp')"
   ]
  },
  {
   "cell_type": "code",
   "execution_count": 44,
   "metadata": {
    "colab": {},
    "colab_type": "code",
    "id": "woXY0hASDWKb"
   },
   "outputs": [],
   "source": [
    "# Stemming em Portugues\n",
    "stemmer = nltk.stem.RSLPStemmer()"
   ]
  },
  {
   "cell_type": "code",
   "execution_count": 45,
   "metadata": {
    "colab": {},
    "colab_type": "code",
    "id": "1_R4FlL1DWKd"
   },
   "outputs": [
    {
     "data": {
      "text/plain": [
       "'trabalh'"
      ]
     },
     "execution_count": 45,
     "metadata": {},
     "output_type": "execute_result"
    }
   ],
   "source": [
    "stemmer.stem('Trabalhou')"
   ]
  },
  {
   "cell_type": "code",
   "execution_count": 46,
   "metadata": {
    "colab": {},
    "colab_type": "code",
    "id": "qCGA00IoDWKe"
   },
   "outputs": [
    {
     "data": {
      "text/plain": [
       "'trabalh'"
      ]
     },
     "execution_count": 46,
     "metadata": {},
     "output_type": "execute_result"
    }
   ],
   "source": [
    "stemmer.stem('Trabalhava')"
   ]
  },
  {
   "cell_type": "code",
   "execution_count": 47,
   "metadata": {
    "colab": {},
    "colab_type": "code",
    "id": "g-eiHjoKDWKi"
   },
   "outputs": [
    {
     "data": {
      "text/plain": [
       "'trabalh'"
      ]
     },
     "execution_count": 47,
     "metadata": {},
     "output_type": "execute_result"
    }
   ],
   "source": [
    "stemmer.stem('Trabalha')"
   ]
  },
  {
   "cell_type": "code",
   "execution_count": 48,
   "metadata": {
    "colab": {},
    "colab_type": "code",
    "id": "B9GhdzUUDWKk"
   },
   "outputs": [
    {
     "data": {
      "text/plain": [
       "'carr'"
      ]
     },
     "execution_count": 48,
     "metadata": {},
     "output_type": "execute_result"
    }
   ],
   "source": [
    "stemmer.stem('Carro')"
   ]
  },
  {
   "cell_type": "code",
   "execution_count": 49,
   "metadata": {
    "colab": {},
    "colab_type": "code",
    "id": "CQiJ3fi0DWKm"
   },
   "outputs": [
    {
     "data": {
      "text/plain": [
       "'corr'"
      ]
     },
     "execution_count": 49,
     "metadata": {},
     "output_type": "execute_result"
    }
   ],
   "source": [
    "stemmer.stem('correu')"
   ]
  },
  {
   "cell_type": "code",
   "execution_count": 50,
   "metadata": {
    "colab": {},
    "colab_type": "code",
    "id": "AZ0bDhpxDWKn"
   },
   "outputs": [
    {
     "data": {
      "text/plain": [
       "'corr'"
      ]
     },
     "execution_count": 50,
     "metadata": {},
     "output_type": "execute_result"
    }
   ],
   "source": [
    "stemmer.stem('corrida')"
   ]
  },
  {
   "cell_type": "code",
   "execution_count": 51,
   "metadata": {
    "colab": {},
    "colab_type": "code",
    "id": "98zy9gEGDWKp"
   },
   "outputs": [],
   "source": [
    "#Stemming em Ingles\n",
    "stemmer = nltk.stem.SnowballStemmer(\"english\")"
   ]
  },
  {
   "cell_type": "code",
   "execution_count": 52,
   "metadata": {
    "colab": {},
    "colab_type": "code",
    "id": "OsqYOhi5DWKr"
   },
   "outputs": [
    {
     "data": {
      "text/plain": [
       "'run'"
      ]
     },
     "execution_count": 52,
     "metadata": {},
     "output_type": "execute_result"
    }
   ],
   "source": [
    "stemmer.stem('running')"
   ]
  },
  {
   "cell_type": "code",
   "execution_count": 53,
   "metadata": {
    "colab": {},
    "colab_type": "code",
    "id": "EdGKjX6dDWKs"
   },
   "outputs": [
    {
     "data": {
      "text/plain": [
       "'run'"
      ]
     },
     "execution_count": 53,
     "metadata": {},
     "output_type": "execute_result"
    }
   ],
   "source": [
    "stemmer.stem('run')"
   ]
  },
  {
   "cell_type": "code",
   "execution_count": 54,
   "metadata": {
    "colab": {},
    "colab_type": "code",
    "id": "fNgcM47MDWKt"
   },
   "outputs": [
    {
     "data": {
      "text/plain": [
       "'have'"
      ]
     },
     "execution_count": 54,
     "metadata": {},
     "output_type": "execute_result"
    }
   ],
   "source": [
    "stemmer.stem('have')"
   ]
  },
  {
   "cell_type": "code",
   "execution_count": 55,
   "metadata": {
    "colab": {},
    "colab_type": "code",
    "id": "vjH3_HlrDWKx"
   },
   "outputs": [
    {
     "data": {
      "text/plain": [
       "'have'"
      ]
     },
     "execution_count": 55,
     "metadata": {},
     "output_type": "execute_result"
    }
   ],
   "source": [
    "stemmer.stem('having')"
   ]
  },
  {
   "cell_type": "markdown",
   "metadata": {
    "colab_type": "text",
    "id": "qIdu1OCwDWKy"
   },
   "source": [
    "## Função para aplicar Stemming"
   ]
  },
  {
   "cell_type": "code",
   "execution_count": 100,
   "metadata": {
    "colab": {},
    "colab_type": "code",
    "id": "0WLZR0P7DWKz"
   },
   "outputs": [],
   "source": [
    "def Stemming(instancia):\n",
    "    stemmer = nltk.stem.RSLPStemmer()\n",
    "    palavras=[]\n",
    "    for w in instancia.split():\n",
    "        palavras.append(stemmer.stem(w))\n",
    "    return (\" \".join(palavras))"
   ]
  },
  {
   "cell_type": "code",
   "execution_count": 101,
   "metadata": {
    "colab": {},
    "colab_type": "code",
    "id": "ZvmbllENDWK4"
   },
   "outputs": [
    {
     "data": {
      "text/plain": [
       "'ele trabalh frequ no projet de criaca de nov produt'"
      ]
     },
     "execution_count": 101,
     "metadata": {},
     "output_type": "execute_result"
    }
   ],
   "source": [
    "Stemming('Ele trabalhava frequentemente no projeto de criacao de novos produtos')"
   ]
  },
  {
   "cell_type": "markdown",
   "metadata": {
    "colab_type": "text",
    "id": "ecJyFL1sDWK7"
   },
   "source": [
    "# Lemmatization"
   ]
  },
  {
   "cell_type": "markdown",
   "metadata": {
    "colab_type": "text",
    "id": "OIZGssBlDWK7"
   },
   "source": [
    "* Desflexiona uma palavra para determinar o seu 'Lemma'\n",
    "* Técnica usada para fazer pré-processamento de dados.\n",
    "* Não tem para português ainda"
   ]
  },
  {
   "cell_type": "code",
   "execution_count": 102,
   "metadata": {
    "colab": {},
    "colab_type": "code",
    "id": "WgJEyi9_DWK-"
   },
   "outputs": [],
   "source": [
    "from nltk.stem import WordNetLemmatizer"
   ]
  },
  {
   "cell_type": "code",
   "execution_count": 103,
   "metadata": {
    "colab": {},
    "colab_type": "code",
    "id": "ATGnSYtVDWLB"
   },
   "outputs": [],
   "source": [
    "lemmatizer = WordNetLemmatizer()"
   ]
  },
  {
   "cell_type": "code",
   "execution_count": 104,
   "metadata": {},
   "outputs": [
    {
     "name": "stderr",
     "output_type": "stream",
     "text": [
      "[nltk_data] Downloading package wordnet to\n",
      "[nltk_data]     C:\\Users\\marci\\AppData\\Roaming\\nltk_data...\n",
      "[nltk_data]   Package wordnet is already up-to-date!\n",
      "[nltk_data] Downloading package omw-1.4 to\n",
      "[nltk_data]     C:\\Users\\marci\\AppData\\Roaming\\nltk_data...\n",
      "[nltk_data]   Package omw-1.4 is already up-to-date!\n"
     ]
    },
    {
     "data": {
      "text/plain": [
       "True"
      ]
     },
     "execution_count": 104,
     "metadata": {},
     "output_type": "execute_result"
    }
   ],
   "source": [
    "nltk.download('wordnet')\n",
    "nltk.download('omw-1.4')"
   ]
  },
  {
   "cell_type": "code",
   "execution_count": 105,
   "metadata": {
    "colab": {},
    "colab_type": "code",
    "id": "5Jqin8K-DWLD"
   },
   "outputs": [
    {
     "name": "stdout",
     "output_type": "stream",
     "text": [
      "cat\n"
     ]
    }
   ],
   "source": [
    "print (lemmatizer.lemmatize(\"cats\"))"
   ]
  },
  {
   "cell_type": "code",
   "execution_count": 106,
   "metadata": {
    "colab": {},
    "colab_type": "code",
    "id": "HkDbThQaDWLG"
   },
   "outputs": [
    {
     "data": {
      "text/plain": [
       "'be'"
      ]
     },
     "execution_count": 106,
     "metadata": {},
     "output_type": "execute_result"
    }
   ],
   "source": [
    "# Busca um lemma para 'is' do tipo verbo\n",
    "lemmatizer.lemmatize('is', pos='v')"
   ]
  },
  {
   "cell_type": "code",
   "execution_count": 107,
   "metadata": {
    "colab": {},
    "colab_type": "code",
    "id": "7N3_LpRADWLI"
   },
   "outputs": [
    {
     "data": {
      "text/plain": [
       "'be'"
      ]
     },
     "execution_count": 107,
     "metadata": {},
     "output_type": "execute_result"
    }
   ],
   "source": [
    "lemmatizer.lemmatize('are', pos='v')"
   ]
  },
  {
   "cell_type": "code",
   "execution_count": 108,
   "metadata": {
    "colab": {},
    "colab_type": "code",
    "id": "XJXGhd-zDWLJ"
   },
   "outputs": [
    {
     "name": "stdout",
     "output_type": "stream",
     "text": [
      "good\n"
     ]
    }
   ],
   "source": [
    "# Busca um adjetivo para 'better'\n",
    "print (lemmatizer.lemmatize(\"better\", pos=\"a\")) #aditivo"
   ]
  },
  {
   "cell_type": "code",
   "execution_count": 109,
   "metadata": {
    "colab": {},
    "colab_type": "code",
    "id": "q2QkbCQMDWLK"
   },
   "outputs": [
    {
     "name": "stdout",
     "output_type": "stream",
     "text": [
      "best\n"
     ]
    }
   ],
   "source": [
    "print (lemmatizer.lemmatize(\"best\", pos=\"a\"))"
   ]
  },
  {
   "cell_type": "code",
   "execution_count": 110,
   "metadata": {
    "colab": {},
    "colab_type": "code",
    "id": "bkinJRl2DWLN"
   },
   "outputs": [
    {
     "name": "stdout",
     "output_type": "stream",
     "text": [
      "running\n"
     ]
    }
   ],
   "source": [
    "print (lemmatizer.lemmatize(\"running\", pos=\"n\"))#noun - substantivo"
   ]
  },
  {
   "cell_type": "code",
   "execution_count": 111,
   "metadata": {
    "colab": {},
    "colab_type": "code",
    "id": "0bmeGvLNDWLO"
   },
   "outputs": [
    {
     "name": "stdout",
     "output_type": "stream",
     "text": [
      "run\n"
     ]
    }
   ],
   "source": [
    "print (lemmatizer.lemmatize(\"running\", pos=\"v\"))#verb - "
   ]
  },
  {
   "cell_type": "code",
   "execution_count": 112,
   "metadata": {
    "colab": {},
    "colab_type": "code",
    "id": "5XWxjdjwDWLP"
   },
   "outputs": [
    {
     "name": "stdout",
     "output_type": "stream",
     "text": [
      "running\n"
     ]
    }
   ],
   "source": [
    "print (lemmatizer.lemmatize(\"running\", pos=\"a\"))"
   ]
  },
  {
   "cell_type": "markdown",
   "metadata": {
    "colab_type": "text",
    "id": "UoAZ4C9wDWLQ"
   },
   "source": [
    "#  Stopwords"
   ]
  },
  {
   "cell_type": "markdown",
   "metadata": {
    "colab_type": "text",
    "id": "VmQqfZzuDWLR"
   },
   "source": [
    "* Palavras ou termos que são muito usadas mas normalmente não tem nenhum significado como artigos: 'é','o','a'\n",
    "* Técnica usada para pré-processamento de dados"
   ]
  },
  {
   "cell_type": "code",
   "execution_count": 113,
   "metadata": {
    "colab": {},
    "colab_type": "code",
    "id": "Vo6tb9OODWLS"
   },
   "outputs": [],
   "source": [
    "stopwords = nltk.corpus.stopwords.words('portuguese')"
   ]
  },
  {
   "cell_type": "code",
   "execution_count": 114,
   "metadata": {
    "colab": {},
    "colab_type": "code",
    "id": "g27WGgAADWLW"
   },
   "outputs": [
    {
     "data": {
      "text/plain": [
       "['a',\n",
       " 'à',\n",
       " 'ao',\n",
       " 'aos',\n",
       " 'aquela',\n",
       " 'aquelas',\n",
       " 'aquele',\n",
       " 'aqueles',\n",
       " 'aquilo',\n",
       " 'as',\n",
       " 'às',\n",
       " 'até',\n",
       " 'com',\n",
       " 'como',\n",
       " 'da',\n",
       " 'das',\n",
       " 'de',\n",
       " 'dela',\n",
       " 'delas',\n",
       " 'dele',\n",
       " 'deles',\n",
       " 'depois',\n",
       " 'do',\n",
       " 'dos',\n",
       " 'e',\n",
       " 'é',\n",
       " 'ela',\n",
       " 'elas',\n",
       " 'ele',\n",
       " 'eles',\n",
       " 'em',\n",
       " 'entre',\n",
       " 'era',\n",
       " 'eram',\n",
       " 'éramos',\n",
       " 'essa',\n",
       " 'essas',\n",
       " 'esse',\n",
       " 'esses',\n",
       " 'esta',\n",
       " 'está',\n",
       " 'estamos',\n",
       " 'estão',\n",
       " 'estar',\n",
       " 'estas',\n",
       " 'estava',\n",
       " 'estavam',\n",
       " 'estávamos',\n",
       " 'este',\n",
       " 'esteja',\n",
       " 'estejam',\n",
       " 'estejamos',\n",
       " 'estes',\n",
       " 'esteve',\n",
       " 'estive',\n",
       " 'estivemos',\n",
       " 'estiver',\n",
       " 'estivera',\n",
       " 'estiveram',\n",
       " 'estivéramos',\n",
       " 'estiverem',\n",
       " 'estivermos',\n",
       " 'estivesse',\n",
       " 'estivessem',\n",
       " 'estivéssemos',\n",
       " 'estou',\n",
       " 'eu',\n",
       " 'foi',\n",
       " 'fomos',\n",
       " 'for',\n",
       " 'fora',\n",
       " 'foram',\n",
       " 'fôramos',\n",
       " 'forem',\n",
       " 'formos',\n",
       " 'fosse',\n",
       " 'fossem',\n",
       " 'fôssemos',\n",
       " 'fui',\n",
       " 'há',\n",
       " 'haja',\n",
       " 'hajam',\n",
       " 'hajamos',\n",
       " 'hão',\n",
       " 'havemos',\n",
       " 'haver',\n",
       " 'hei',\n",
       " 'houve',\n",
       " 'houvemos',\n",
       " 'houver',\n",
       " 'houvera',\n",
       " 'houverá',\n",
       " 'houveram',\n",
       " 'houvéramos',\n",
       " 'houverão',\n",
       " 'houverei',\n",
       " 'houverem',\n",
       " 'houveremos',\n",
       " 'houveria',\n",
       " 'houveriam',\n",
       " 'houveríamos',\n",
       " 'houvermos',\n",
       " 'houvesse',\n",
       " 'houvessem',\n",
       " 'houvéssemos',\n",
       " 'isso',\n",
       " 'isto',\n",
       " 'já',\n",
       " 'lhe',\n",
       " 'lhes',\n",
       " 'mais',\n",
       " 'mas',\n",
       " 'me',\n",
       " 'mesmo',\n",
       " 'meu',\n",
       " 'meus',\n",
       " 'minha',\n",
       " 'minhas',\n",
       " 'muito',\n",
       " 'na',\n",
       " 'não',\n",
       " 'nas',\n",
       " 'nem',\n",
       " 'no',\n",
       " 'nos',\n",
       " 'nós',\n",
       " 'nossa',\n",
       " 'nossas',\n",
       " 'nosso',\n",
       " 'nossos',\n",
       " 'num',\n",
       " 'numa',\n",
       " 'o',\n",
       " 'os',\n",
       " 'ou',\n",
       " 'para',\n",
       " 'pela',\n",
       " 'pelas',\n",
       " 'pelo',\n",
       " 'pelos',\n",
       " 'por',\n",
       " 'qual',\n",
       " 'quando',\n",
       " 'que',\n",
       " 'quem',\n",
       " 'são',\n",
       " 'se',\n",
       " 'seja',\n",
       " 'sejam',\n",
       " 'sejamos',\n",
       " 'sem',\n",
       " 'ser',\n",
       " 'será',\n",
       " 'serão',\n",
       " 'serei',\n",
       " 'seremos',\n",
       " 'seria',\n",
       " 'seriam',\n",
       " 'seríamos',\n",
       " 'seu',\n",
       " 'seus',\n",
       " 'só',\n",
       " 'somos',\n",
       " 'sou',\n",
       " 'sua',\n",
       " 'suas',\n",
       " 'também',\n",
       " 'te',\n",
       " 'tem',\n",
       " 'tém',\n",
       " 'temos',\n",
       " 'tenha',\n",
       " 'tenham',\n",
       " 'tenhamos',\n",
       " 'tenho',\n",
       " 'terá',\n",
       " 'terão',\n",
       " 'terei',\n",
       " 'teremos',\n",
       " 'teria',\n",
       " 'teriam',\n",
       " 'teríamos',\n",
       " 'teu',\n",
       " 'teus',\n",
       " 'teve',\n",
       " 'tinha',\n",
       " 'tinham',\n",
       " 'tínhamos',\n",
       " 'tive',\n",
       " 'tivemos',\n",
       " 'tiver',\n",
       " 'tivera',\n",
       " 'tiveram',\n",
       " 'tivéramos',\n",
       " 'tiverem',\n",
       " 'tivermos',\n",
       " 'tivesse',\n",
       " 'tivessem',\n",
       " 'tivéssemos',\n",
       " 'tu',\n",
       " 'tua',\n",
       " 'tuas',\n",
       " 'um',\n",
       " 'uma',\n",
       " 'você',\n",
       " 'vocês',\n",
       " 'vos']"
      ]
     },
     "execution_count": 114,
     "metadata": {},
     "output_type": "execute_result"
    }
   ],
   "source": [
    "stopwords"
   ]
  },
  {
   "cell_type": "code",
   "execution_count": 115,
   "metadata": {
    "colab": {},
    "colab_type": "code",
    "id": "bdyZhIz5DWLX"
   },
   "outputs": [],
   "source": [
    "def RemoviStopWords(instancia):\n",
    "    instancia = instancia.lower()\n",
    "    stopwords = set(nltk.corpus.stopwords.words('portuguese'))\n",
    "    palavras = [i for i in instancia.split() if not i in stopwords]\n",
    "    return (\" \".join(palavras))"
   ]
  },
  {
   "cell_type": "code",
   "execution_count": 116,
   "metadata": {
    "colab": {},
    "colab_type": "code",
    "id": "0hbhwo5pDWLa"
   },
   "outputs": [],
   "source": [
    "sentenca1 = 'Ola mundo, estou trabalhando com textos com o artigo do minerando dados'"
   ]
  },
  {
   "cell_type": "code",
   "execution_count": 117,
   "metadata": {
    "colab": {},
    "colab_type": "code",
    "id": "I7r9wWAwDWLb"
   },
   "outputs": [
    {
     "data": {
      "text/plain": [
       "'ola mundo, trabalhando textos artigo minerando dados'"
      ]
     },
     "execution_count": 117,
     "metadata": {},
     "output_type": "execute_result"
    }
   ],
   "source": [
    "RemoviStopWords(sentenca1)"
   ]
  },
  {
   "cell_type": "code",
   "execution_count": 118,
   "metadata": {
    "colab": {},
    "colab_type": "code",
    "id": "aiFAIXybDWLc"
   },
   "outputs": [],
   "source": [
    "sentenca2 = 'Seu trabalho de NLP será super interessante com as aulas de Mineração de Textos'"
   ]
  },
  {
   "cell_type": "code",
   "execution_count": 119,
   "metadata": {
    "colab": {},
    "colab_type": "code",
    "id": "awL_0fgGDWLf"
   },
   "outputs": [
    {
     "data": {
      "text/plain": [
       "'trabalho nlp super interessante aulas mineração textos'"
      ]
     },
     "execution_count": 119,
     "metadata": {},
     "output_type": "execute_result"
    }
   ],
   "source": [
    "RemoviStopWords(sentenca2)"
   ]
  },
  {
   "cell_type": "markdown",
   "metadata": {
    "colab_type": "text",
    "id": "7lxRqt9LDWLh"
   },
   "source": [
    "**Importante**: Use com moderação e sempre teste os resultados."
   ]
  },
  {
   "cell_type": "markdown",
   "metadata": {
    "colab_type": "text",
    "id": "GYpNShQYDWLi"
   },
   "source": [
    "# Part of Speech - Tagamento"
   ]
  },
  {
   "cell_type": "markdown",
   "metadata": {
    "colab_type": "text",
    "id": "6AhhpTIjDWLi"
   },
   "source": [
    "* Part of Speech: Na tardução literal seria: *Partes da Fala*.\n",
    "* Consistem em identificar a **função gramatical** das palavras em um texto.\n",
    "* A função gramatical muda conforme é empregada a palavra no texto."
   ]
  },
  {
   "cell_type": "code",
   "execution_count": 120,
   "metadata": {},
   "outputs": [
    {
     "name": "stderr",
     "output_type": "stream",
     "text": [
      "[nltk_data] Downloading package averaged_perceptron_tagger to\n",
      "[nltk_data]     C:\\Users\\marci\\AppData\\Roaming\\nltk_data...\n",
      "[nltk_data]   Package averaged_perceptron_tagger is already up-to-\n",
      "[nltk_data]       date!\n",
      "[nltk_data] Downloading package tagsets to\n",
      "[nltk_data]     C:\\Users\\marci\\AppData\\Roaming\\nltk_data...\n",
      "[nltk_data]   Package tagsets is already up-to-date!\n"
     ]
    },
    {
     "data": {
      "text/plain": [
       "True"
      ]
     },
     "execution_count": 120,
     "metadata": {},
     "output_type": "execute_result"
    }
   ],
   "source": [
    " nltk.download('averaged_perceptron_tagger')\n",
    "nltk.download('tagsets')"
   ]
  },
  {
   "cell_type": "code",
   "execution_count": 121,
   "metadata": {
    "colab": {},
    "colab_type": "code",
    "id": "O_Z7wHV5DWLj"
   },
   "outputs": [
    {
     "data": {
      "text/plain": [
       "[('O', 'NNP'),\n",
       " ('blog', 'NN'),\n",
       " ('Minerando', 'NNP'),\n",
       " ('Dados', 'NNP'),\n",
       " ('é', 'NNP'),\n",
       " ('muito', 'NN'),\n",
       " ('bom', 'NN')]"
      ]
     },
     "execution_count": 121,
     "metadata": {},
     "output_type": "execute_result"
    }
   ],
   "source": [
    "text = nltk.word_tokenize('O blog Minerando Dados é muito bom')\n",
    "nltk.pos_tag(text)"
   ]
  },
  {
   "cell_type": "code",
   "execution_count": 122,
   "metadata": {
    "colab": {},
    "colab_type": "code",
    "id": "Of6r6IVtDWLm"
   },
   "outputs": [
    {
     "data": {
      "text/plain": [
       "[('João', 'NNP'),\n",
       " ('Comprou', 'NNP'),\n",
       " ('um', 'JJ'),\n",
       " ('presente', 'NN'),\n",
       " ('muito', 'FW'),\n",
       " ('legal', 'JJ')]"
      ]
     },
     "execution_count": 122,
     "metadata": {},
     "output_type": "execute_result"
    }
   ],
   "source": [
    "text = nltk.word_tokenize('João Comprou um presente muito legal')\n",
    "nltk.pos_tag(text)"
   ]
  },
  {
   "cell_type": "code",
   "execution_count": 123,
   "metadata": {},
   "outputs": [],
   "source": [
    "# para portugues não funciona muito bem"
   ]
  },
  {
   "cell_type": "code",
   "execution_count": 124,
   "metadata": {
    "colab": {},
    "colab_type": "code",
    "id": "ueVUmympDWLn"
   },
   "outputs": [
    {
     "name": "stdout",
     "output_type": "stream",
     "text": [
      "NNP: noun, proper, singular\n",
      "    Motown Venneboerger Czestochwa Ranzer Conchita Trumplane Christos\n",
      "    Oceanside Escobar Kreisler Sawyer Cougar Yvette Ervin ODI Darryl CTCA\n",
      "    Shannon A.K.C. Meltex Liverpool ...\n"
     ]
    }
   ],
   "source": [
    "# para obter o help\n",
    "nltk.help.upenn_tagset('NNP')"
   ]
  },
  {
   "cell_type": "code",
   "execution_count": 125,
   "metadata": {
    "colab": {},
    "colab_type": "code",
    "id": "ZbnkztUyDWLp"
   },
   "outputs": [
    {
     "name": "stdout",
     "output_type": "stream",
     "text": [
      "JJ: adjective or numeral, ordinal\n",
      "    third ill-mannered pre-war regrettable oiled calamitous first separable\n",
      "    ectoplasmic battery-powered participatory fourth still-to-be-named\n",
      "    multilingual multi-disciplinary ...\n"
     ]
    }
   ],
   "source": [
    "nltk.help.upenn_tagset('JJ')"
   ]
  },
  {
   "cell_type": "code",
   "execution_count": 126,
   "metadata": {
    "colab": {},
    "colab_type": "code",
    "id": "dyi4eTslDWLu"
   },
   "outputs": [
    {
     "name": "stdout",
     "output_type": "stream",
     "text": [
      "NN: noun, common, singular or mass\n",
      "    common-carrier cabbage knuckle-duster Casino afghan shed thermostat\n",
      "    investment slide humour falloff slick wind hyena override subhumanity\n",
      "    machinist ...\n",
      "NNP: noun, proper, singular\n",
      "    Motown Venneboerger Czestochwa Ranzer Conchita Trumplane Christos\n",
      "    Oceanside Escobar Kreisler Sawyer Cougar Yvette Ervin ODI Darryl CTCA\n",
      "    Shannon A.K.C. Meltex Liverpool ...\n",
      "NNPS: noun, proper, plural\n",
      "    Americans Americas Amharas Amityvilles Amusements Anarcho-Syndicalists\n",
      "    Andalusians Andes Andruses Angels Animals Anthony Antilles Antiques\n",
      "    Apache Apaches Apocrypha ...\n",
      "NNS: noun, common, plural\n",
      "    undergraduates scotches bric-a-brac products bodyguards facets coasts\n",
      "    divestitures storehouses designs clubs fragrances averages\n",
      "    subjectivists apprehensions muses factory-jobs ...\n"
     ]
    }
   ],
   "source": [
    "nltk.help.upenn_tagset('N')"
   ]
  },
  {
   "cell_type": "code",
   "execution_count": 127,
   "metadata": {
    "colab": {},
    "colab_type": "code",
    "id": "qJMnqNF4DWLw"
   },
   "outputs": [
    {
     "name": "stdout",
     "output_type": "stream",
     "text": [
      "VB: verb, base form\n",
      "    ask assemble assess assign assume atone attention avoid bake balkanize\n",
      "    bank begin behold believe bend benefit bevel beware bless boil bomb\n",
      "    boost brace break bring broil brush build ...\n"
     ]
    }
   ],
   "source": [
    "nltk.help.upenn_tagset('VB')"
   ]
  },
  {
   "cell_type": "code",
   "execution_count": 128,
   "metadata": {
    "colab": {},
    "colab_type": "code",
    "id": "4x6_ikrADWLx"
   },
   "outputs": [
    {
     "data": {
      "text/plain": [
       "[('My', 'PRP$'),\n",
       " ('print', 'NN'),\n",
       " ('is', 'VBZ'),\n",
       " ('very', 'RB'),\n",
       " ('good', 'JJ')]"
      ]
     },
     "execution_count": 128,
     "metadata": {},
     "output_type": "execute_result"
    }
   ],
   "source": [
    "text = nltk.word_tokenize(\"My print is very good\")\n",
    "nltk.pos_tag(text)"
   ]
  },
  {
   "cell_type": "code",
   "execution_count": 129,
   "metadata": {
    "colab": {},
    "colab_type": "code",
    "id": "DZg1HuaODWLz"
   },
   "outputs": [
    {
     "name": "stdout",
     "output_type": "stream",
     "text": [
      "DT: determiner\n",
      "    all an another any both del each either every half la many much nary\n",
      "    neither no some such that the them these this those\n"
     ]
    }
   ],
   "source": [
    "nltk.help.upenn_tagset('DT')"
   ]
  },
  {
   "cell_type": "code",
   "execution_count": 130,
   "metadata": {
    "colab": {},
    "colab_type": "code",
    "id": "npXnTI3eDWLz"
   },
   "outputs": [
    {
     "data": {
      "text/plain": [
       "[('Hi', 'NNP'),\n",
       " (',', ','),\n",
       " ('my', 'PRP$'),\n",
       " ('name', 'NN'),\n",
       " ('is', 'VBZ'),\n",
       " ('Rodrigo', 'NNP'),\n",
       " (',', ','),\n",
       " ('I', 'PRP'),\n",
       " ('want', 'VBP'),\n",
       " ('to', 'TO'),\n",
       " ('print', 'VB'),\n",
       " ('the', 'DT'),\n",
       " ('outstanding', 'JJ'),\n",
       " ('invoice', 'NN')]"
      ]
     },
     "execution_count": 130,
     "metadata": {},
     "output_type": "execute_result"
    }
   ],
   "source": [
    "text = nltk.word_tokenize(\"Hi, my name is Rodrigo, I want to print the outstanding invoice\")\n",
    "nltk.pos_tag(text)"
   ]
  },
  {
   "cell_type": "markdown",
   "metadata": {
    "colab_type": "text",
    "id": "LJ0aYWzaDWL1"
   },
   "source": [
    "* Part of Speech é uma técnica dificil devido as funções gramaticais de cada idioma.\n",
    "* Existem projetos que utilizam Machine Learning para implementar POS."
   ]
  },
  {
   "cell_type": "markdown",
   "metadata": {
    "colab_type": "text",
    "id": "pZJnmOWcDWL1"
   },
   "source": [
    "# Trabalhando com Wordnet"
   ]
  },
  {
   "cell_type": "markdown",
   "metadata": {
    "colab_type": "text",
    "id": "_mNA1NvnDWL1"
   },
   "source": [
    "* O Wordnet é um grande banco de dados léxico de substantivos, verbos, adjetivos e advérbios.\n",
    "* Essas palavras são agrupadas em conjuntos de sinônimos, cada um expressando um **conceito distinto**.\n",
    "* Os sinônimos são interligados pelo seu significado semântico conceitual e suas relações léxicas.\n",
    "* O Wordnet é uma grande rede de **conceitos interligados** e é amplamente utilizada em pesquisas no mundo todo.\n",
    "* O NLTK contém uma interface de acesso ao Wordnet.\n",
    "\n",
    "**Obs:** \n",
    "* Existem diversas variações do Wordnet para outros idiomas. \n",
    "* Para português ainda existem poucas iniciativas"
   ]
  },
  {
   "cell_type": "markdown",
   "metadata": {
    "colab_type": "text",
    "id": "gEuPqLHgDWL2"
   },
   "source": [
    "**Consulta um sinônimo para a palavra '*bike*' **"
   ]
  },
  {
   "cell_type": "code",
   "execution_count": 131,
   "metadata": {
    "colab": {},
    "colab_type": "code",
    "id": "a_GgAoTrDWL3"
   },
   "outputs": [
    {
     "data": {
      "text/plain": [
       "[Synset('motorcycle.n.01'), Synset('bicycle.n.01'), Synset('bicycle.v.01')]"
      ]
     },
     "execution_count": 131,
     "metadata": {},
     "output_type": "execute_result"
    }
   ],
   "source": [
    "from nltk.corpus import wordnet\n",
    "wordnet.synsets('bike')"
   ]
  },
  {
   "cell_type": "markdown",
   "metadata": {
    "colab_type": "text",
    "id": "OPdE65j1DWL5"
   },
   "source": [
    "**Definicoes da palavra 'bike'**\n"
   ]
  },
  {
   "cell_type": "code",
   "execution_count": 132,
   "metadata": {
    "colab": {},
    "colab_type": "code",
    "id": "IMEKPRjzDWL6"
   },
   "outputs": [
    {
     "data": {
      "text/plain": [
       "'a wheeled vehicle that has two wheels and is moved by foot pedals'"
      ]
     },
     "execution_count": 132,
     "metadata": {},
     "output_type": "execute_result"
    }
   ],
   "source": [
    "wordnet.synset('bicycle.n.01').definition()"
   ]
  },
  {
   "cell_type": "code",
   "execution_count": 133,
   "metadata": {
    "colab": {},
    "colab_type": "code",
    "id": "tyUZIlh6DWL6"
   },
   "outputs": [],
   "source": [
    "# \" veículo de rodas que tem duas rodas e é movido por pedais\""
   ]
  },
  {
   "cell_type": "code",
   "execution_count": 134,
   "metadata": {
    "colab": {},
    "colab_type": "code",
    "id": "NUyjApiODWL-"
   },
   "outputs": [
    {
     "data": {
      "text/plain": [
       "'a motor vehicle with two wheels and a strong frame'"
      ]
     },
     "execution_count": 134,
     "metadata": {},
     "output_type": "execute_result"
    }
   ],
   "source": [
    "wordnet.synset('motorcycle.n.01').definition()"
   ]
  },
  {
   "cell_type": "code",
   "execution_count": 135,
   "metadata": {
    "colab": {},
    "colab_type": "code",
    "id": "KVOo5iEyDWL-"
   },
   "outputs": [],
   "source": [
    "# \" veículo a motor com duas rodas e um quadro forte\""
   ]
  },
  {
   "cell_type": "markdown",
   "metadata": {
    "colab_type": "text",
    "id": "B5m15rFpDWMB"
   },
   "source": [
    "**Consulta hierarquia de termos**"
   ]
  },
  {
   "cell_type": "code",
   "execution_count": 136,
   "metadata": {
    "colab": {},
    "colab_type": "code",
    "id": "t04K1zJmDWMB"
   },
   "outputs": [
    {
     "data": {
      "text/plain": [
       "[Synset('bicycle-built-for-two.n.01'),\n",
       " Synset('mountain_bike.n.01'),\n",
       " Synset('ordinary.n.04'),\n",
       " Synset('push-bike.n.01'),\n",
       " Synset('safety_bicycle.n.01'),\n",
       " Synset('velocipede.n.01')]"
      ]
     },
     "execution_count": 136,
     "metadata": {},
     "output_type": "execute_result"
    }
   ],
   "source": [
    "# Hiponimos da palavra 'bicycle'.\n",
    "# Conceitos mais especificos.\n",
    "wordnet.synset('bicycle.n.01').hyponyms()"
   ]
  },
  {
   "cell_type": "code",
   "execution_count": 137,
   "metadata": {
    "colab": {},
    "colab_type": "code",
    "id": "46fOKzRjDWMD"
   },
   "outputs": [
    {
     "data": {
      "text/plain": [
       "[Synset('wheeled_vehicle.n.01')]"
      ]
     },
     "execution_count": 137,
     "metadata": {},
     "output_type": "execute_result"
    }
   ],
   "source": [
    "# Hiperonimos da palavra 'bicycle'\n",
    "# Conceitos mais genericos\n",
    "wordnet.synset('bicycle.n.01').hypernyms()"
   ]
  },
  {
   "cell_type": "code",
   "execution_count": 138,
   "metadata": {
    "colab": {},
    "colab_type": "code",
    "id": "VW5l6rayDWMF"
   },
   "outputs": [
    {
     "data": {
      "text/plain": [
       "[Synset('bicycle_seat.n.01'),\n",
       " Synset('bicycle_wheel.n.01'),\n",
       " Synset('chain.n.03'),\n",
       " Synset('coaster_brake.n.01'),\n",
       " Synset('handlebar.n.01'),\n",
       " Synset('kickstand.n.01'),\n",
       " Synset('mudguard.n.01'),\n",
       " Synset('pedal.n.02'),\n",
       " Synset('sprocket.n.02')]"
      ]
     },
     "execution_count": 138,
     "metadata": {},
     "output_type": "execute_result"
    }
   ],
   "source": [
    "# Meronyms da palavra 'bicycle'\n",
    "# Conceitos partes de outros conceitos\n",
    "wordnet.synset('bicycle.n.01').part_meronyms()"
   ]
  },
  {
   "cell_type": "code",
   "execution_count": null,
   "metadata": {},
   "outputs": [],
   "source": []
  },
  {
   "cell_type": "code",
   "execution_count": null,
   "metadata": {},
   "outputs": [],
   "source": []
  }
 ],
 "metadata": {
  "colab": {
   "name": "Mineração_de_textos-01.ipynb",
   "provenance": [],
   "version": "0.3.2"
  },
  "kernelspec": {
   "display_name": "Python 3 (ipykernel)",
   "language": "python",
   "name": "python3"
  },
  "language_info": {
   "codemirror_mode": {
    "name": "ipython",
    "version": 3
   },
   "file_extension": ".py",
   "mimetype": "text/x-python",
   "name": "python",
   "nbconvert_exporter": "python",
   "pygments_lexer": "ipython3",
   "version": "3.9.13"
  }
 },
 "nbformat": 4,
 "nbformat_minor": 1
}
