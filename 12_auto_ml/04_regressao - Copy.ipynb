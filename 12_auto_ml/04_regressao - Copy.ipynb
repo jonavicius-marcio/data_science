{
 "cells": [
  {
   "cell_type": "markdown",
   "metadata": {
    "colab_type": "text",
    "id": "Y57RMM1LEQmR"
   },
   "source": [
    "#  <span style=\"color:blue\">AutoML com Pycaret</span>"
   ]
  },
  {
   "cell_type": "markdown",
   "metadata": {
    "colab_type": "text",
    "id": "GM-nQ7LqEQma"
   },
   "source": [
    "Objetivo: utilizar o dataset volkswagen disponível no Kaggle: https://www.kaggle.com/adityadesai13/used-car-dataset-ford-and-mercedes para estimar o preço de um veiculo. \n"
   ]
  },
  {
   "cell_type": "markdown",
   "metadata": {
    "colab_type": "text",
    "id": "XC3kSuueEQmh"
   },
   "source": [
    "#### Carregando o módulo de regressão."
   ]
  },
  {
   "cell_type": "code",
   "execution_count": 1,
   "metadata": {
    "tags": []
   },
   "outputs": [],
   "source": [
    "from pycaret.regression import *\n",
    "import pandas as pd\n",
    "import seaborn as sns"
   ]
  },
  {
   "cell_type": "markdown",
   "metadata": {
    "colab_type": "text",
    "id": "aAKRo-EbEQml"
   },
   "source": [
    "# DATA ANALYSIS"
   ]
  },
  {
   "cell_type": "markdown",
   "metadata": {
    "colab_type": "text",
    "id": "Ui_rALqYEQmv"
   },
   "source": [
    "#### Carregando os dados."
   ]
  },
  {
   "cell_type": "code",
   "execution_count": 4,
   "metadata": {
    "colab": {
     "base_uri": "https://localhost:8080/",
     "height": 211
    },
    "colab_type": "code",
    "id": "lUvE187JEQm3",
    "outputId": "8741262c-0e33-4ec0-b54d-3c8fb41e52c0",
    "tags": []
   },
   "outputs": [],
   "source": [
    "dataset = pd.read_csv(\"datasets/volkswagen.csv\")"
   ]
  },
  {
   "cell_type": "code",
   "execution_count": 5,
   "metadata": {
    "tags": []
   },
   "outputs": [
    {
     "data": {
      "text/html": [
       "<div>\n",
       "<style scoped>\n",
       "    .dataframe tbody tr th:only-of-type {\n",
       "        vertical-align: middle;\n",
       "    }\n",
       "\n",
       "    .dataframe tbody tr th {\n",
       "        vertical-align: top;\n",
       "    }\n",
       "\n",
       "    .dataframe thead th {\n",
       "        text-align: right;\n",
       "    }\n",
       "</style>\n",
       "<table border=\"1\" class=\"dataframe\">\n",
       "  <thead>\n",
       "    <tr style=\"text-align: right;\">\n",
       "      <th></th>\n",
       "      <th>model</th>\n",
       "      <th>year</th>\n",
       "      <th>price</th>\n",
       "      <th>transmission</th>\n",
       "      <th>mileage</th>\n",
       "      <th>fuelType</th>\n",
       "      <th>tax</th>\n",
       "      <th>mpg</th>\n",
       "      <th>engineSize</th>\n",
       "    </tr>\n",
       "  </thead>\n",
       "  <tbody>\n",
       "    <tr>\n",
       "      <th>0</th>\n",
       "      <td>T-Roc</td>\n",
       "      <td>2019</td>\n",
       "      <td>25000</td>\n",
       "      <td>Automatic</td>\n",
       "      <td>13904</td>\n",
       "      <td>Diesel</td>\n",
       "      <td>145</td>\n",
       "      <td>49.6</td>\n",
       "      <td>2.0</td>\n",
       "    </tr>\n",
       "    <tr>\n",
       "      <th>1</th>\n",
       "      <td>T-Roc</td>\n",
       "      <td>2019</td>\n",
       "      <td>26883</td>\n",
       "      <td>Automatic</td>\n",
       "      <td>4562</td>\n",
       "      <td>Diesel</td>\n",
       "      <td>145</td>\n",
       "      <td>49.6</td>\n",
       "      <td>2.0</td>\n",
       "    </tr>\n",
       "    <tr>\n",
       "      <th>2</th>\n",
       "      <td>T-Roc</td>\n",
       "      <td>2019</td>\n",
       "      <td>20000</td>\n",
       "      <td>Manual</td>\n",
       "      <td>7414</td>\n",
       "      <td>Diesel</td>\n",
       "      <td>145</td>\n",
       "      <td>50.4</td>\n",
       "      <td>2.0</td>\n",
       "    </tr>\n",
       "    <tr>\n",
       "      <th>3</th>\n",
       "      <td>T-Roc</td>\n",
       "      <td>2019</td>\n",
       "      <td>33492</td>\n",
       "      <td>Automatic</td>\n",
       "      <td>4825</td>\n",
       "      <td>Petrol</td>\n",
       "      <td>145</td>\n",
       "      <td>32.5</td>\n",
       "      <td>2.0</td>\n",
       "    </tr>\n",
       "    <tr>\n",
       "      <th>4</th>\n",
       "      <td>T-Roc</td>\n",
       "      <td>2019</td>\n",
       "      <td>22900</td>\n",
       "      <td>Semi-Auto</td>\n",
       "      <td>6500</td>\n",
       "      <td>Petrol</td>\n",
       "      <td>150</td>\n",
       "      <td>39.8</td>\n",
       "      <td>1.5</td>\n",
       "    </tr>\n",
       "  </tbody>\n",
       "</table>\n",
       "</div>"
      ],
      "text/plain": [
       "    model  year  price transmission  mileage fuelType  tax   mpg  engineSize\n",
       "0   T-Roc  2019  25000    Automatic    13904   Diesel  145  49.6         2.0\n",
       "1   T-Roc  2019  26883    Automatic     4562   Diesel  145  49.6         2.0\n",
       "2   T-Roc  2019  20000       Manual     7414   Diesel  145  50.4         2.0\n",
       "3   T-Roc  2019  33492    Automatic     4825   Petrol  145  32.5         2.0\n",
       "4   T-Roc  2019  22900    Semi-Auto     6500   Petrol  150  39.8         1.5"
      ]
     },
     "execution_count": 5,
     "metadata": {},
     "output_type": "execute_result"
    }
   ],
   "source": [
    "dataset.head()"
   ]
  },
  {
   "cell_type": "markdown",
   "metadata": {
    "colab_type": "text",
    "id": "VLKxlFjrEQmq",
    "tags": []
   },
   "source": [
    "Descrição dos dados: \n",
    "- **model**: modelo do veículo.\n",
    "- **year**: ano de fabricação.\n",
    "- **price**: preço de venda do veículo.\n",
    "- **transmission**: tipo de transmissão.\n",
    "- **mileage**: total de milhas rodadas.\n",
    "- **fueltype**: tipo de combustível aceito.\n",
    "- **tax**: taxa de transito.\n",
    "- **mpg**: milhas por galão.\n",
    "- **enginesize**: tamanho do motor."
   ]
  },
  {
   "cell_type": "markdown",
   "metadata": {},
   "source": [
    "#### Verificando a forma dos dados."
   ]
  },
  {
   "cell_type": "code",
   "execution_count": 6,
   "metadata": {
    "colab": {
     "base_uri": "https://localhost:8080/",
     "height": 33
    },
    "colab_type": "code",
    "id": "kMqDGBkJEQnN",
    "outputId": "b2015b7a-4c1a-4377-d9cf-3e9ac5ce3ea2",
    "tags": []
   },
   "outputs": [
    {
     "data": {
      "text/plain": [
       "(15157, 9)"
      ]
     },
     "execution_count": 6,
     "metadata": {},
     "output_type": "execute_result"
    }
   ],
   "source": [
    "dataset.shape"
   ]
  },
  {
   "cell_type": "markdown",
   "metadata": {},
   "source": [
    "#### Verificando as informações dos atributos."
   ]
  },
  {
   "cell_type": "code",
   "execution_count": 7,
   "metadata": {
    "tags": []
   },
   "outputs": [
    {
     "data": {
      "text/html": [
       "<div>\n",
       "<style scoped>\n",
       "    .dataframe tbody tr th:only-of-type {\n",
       "        vertical-align: middle;\n",
       "    }\n",
       "\n",
       "    .dataframe tbody tr th {\n",
       "        vertical-align: top;\n",
       "    }\n",
       "\n",
       "    .dataframe thead th {\n",
       "        text-align: right;\n",
       "    }\n",
       "</style>\n",
       "<table border=\"1\" class=\"dataframe\">\n",
       "  <thead>\n",
       "    <tr style=\"text-align: right;\">\n",
       "      <th></th>\n",
       "      <th>year</th>\n",
       "      <th>price</th>\n",
       "      <th>mileage</th>\n",
       "      <th>tax</th>\n",
       "      <th>mpg</th>\n",
       "      <th>engineSize</th>\n",
       "    </tr>\n",
       "  </thead>\n",
       "  <tbody>\n",
       "    <tr>\n",
       "      <th>count</th>\n",
       "      <td>15157.000000</td>\n",
       "      <td>15157.000000</td>\n",
       "      <td>15157.000000</td>\n",
       "      <td>15157.000000</td>\n",
       "      <td>15157.000000</td>\n",
       "      <td>15157.000000</td>\n",
       "    </tr>\n",
       "    <tr>\n",
       "      <th>mean</th>\n",
       "      <td>2017.255789</td>\n",
       "      <td>16838.952365</td>\n",
       "      <td>22092.785644</td>\n",
       "      <td>112.744277</td>\n",
       "      <td>53.753355</td>\n",
       "      <td>1.600693</td>\n",
       "    </tr>\n",
       "    <tr>\n",
       "      <th>std</th>\n",
       "      <td>2.053059</td>\n",
       "      <td>7755.015206</td>\n",
       "      <td>21148.941635</td>\n",
       "      <td>63.482617</td>\n",
       "      <td>13.642182</td>\n",
       "      <td>0.461695</td>\n",
       "    </tr>\n",
       "    <tr>\n",
       "      <th>min</th>\n",
       "      <td>2000.000000</td>\n",
       "      <td>899.000000</td>\n",
       "      <td>1.000000</td>\n",
       "      <td>0.000000</td>\n",
       "      <td>0.300000</td>\n",
       "      <td>0.000000</td>\n",
       "    </tr>\n",
       "    <tr>\n",
       "      <th>25%</th>\n",
       "      <td>2016.000000</td>\n",
       "      <td>10990.000000</td>\n",
       "      <td>5962.000000</td>\n",
       "      <td>30.000000</td>\n",
       "      <td>46.300000</td>\n",
       "      <td>1.200000</td>\n",
       "    </tr>\n",
       "    <tr>\n",
       "      <th>50%</th>\n",
       "      <td>2017.000000</td>\n",
       "      <td>15497.000000</td>\n",
       "      <td>16393.000000</td>\n",
       "      <td>145.000000</td>\n",
       "      <td>53.300000</td>\n",
       "      <td>1.600000</td>\n",
       "    </tr>\n",
       "    <tr>\n",
       "      <th>75%</th>\n",
       "      <td>2019.000000</td>\n",
       "      <td>20998.000000</td>\n",
       "      <td>31824.000000</td>\n",
       "      <td>145.000000</td>\n",
       "      <td>60.100000</td>\n",
       "      <td>2.000000</td>\n",
       "    </tr>\n",
       "    <tr>\n",
       "      <th>max</th>\n",
       "      <td>2020.000000</td>\n",
       "      <td>69994.000000</td>\n",
       "      <td>212000.000000</td>\n",
       "      <td>580.000000</td>\n",
       "      <td>188.300000</td>\n",
       "      <td>3.200000</td>\n",
       "    </tr>\n",
       "  </tbody>\n",
       "</table>\n",
       "</div>"
      ],
      "text/plain": [
       "               year         price        mileage           tax           mpg  \\\n",
       "count  15157.000000  15157.000000   15157.000000  15157.000000  15157.000000   \n",
       "mean    2017.255789  16838.952365   22092.785644    112.744277     53.753355   \n",
       "std        2.053059   7755.015206   21148.941635     63.482617     13.642182   \n",
       "min     2000.000000    899.000000       1.000000      0.000000      0.300000   \n",
       "25%     2016.000000  10990.000000    5962.000000     30.000000     46.300000   \n",
       "50%     2017.000000  15497.000000   16393.000000    145.000000     53.300000   \n",
       "75%     2019.000000  20998.000000   31824.000000    145.000000     60.100000   \n",
       "max     2020.000000  69994.000000  212000.000000    580.000000    188.300000   \n",
       "\n",
       "         engineSize  \n",
       "count  15157.000000  \n",
       "mean       1.600693  \n",
       "std        0.461695  \n",
       "min        0.000000  \n",
       "25%        1.200000  \n",
       "50%        1.600000  \n",
       "75%        2.000000  \n",
       "max        3.200000  "
      ]
     },
     "execution_count": 7,
     "metadata": {},
     "output_type": "execute_result"
    }
   ],
   "source": [
    "dataset.describe()"
   ]
  },
  {
   "cell_type": "code",
   "execution_count": 18,
   "metadata": {
    "tags": []
   },
   "outputs": [
    {
     "name": "stdout",
     "output_type": "stream",
     "text": [
      "<class 'pandas.core.frame.DataFrame'>\n",
      "RangeIndex: 15157 entries, 0 to 15156\n",
      "Data columns (total 9 columns):\n",
      " #   Column        Non-Null Count  Dtype  \n",
      "---  ------        --------------  -----  \n",
      " 0   model         15157 non-null  object \n",
      " 1   year          15157 non-null  int64  \n",
      " 2   price         15157 non-null  int64  \n",
      " 3   transmission  15157 non-null  object \n",
      " 4   mileage       15157 non-null  int64  \n",
      " 5   fuelType      15157 non-null  object \n",
      " 6   tax           15157 non-null  int64  \n",
      " 7   mpg           15157 non-null  float64\n",
      " 8   engineSize    15157 non-null  float64\n",
      "dtypes: float64(2), int64(4), object(3)\n",
      "memory usage: 1.0+ MB\n"
     ]
    }
   ],
   "source": [
    "dataset.info()"
   ]
  },
  {
   "cell_type": "markdown",
   "metadata": {},
   "source": [
    "#### Listando registros missing por atributo."
   ]
  },
  {
   "cell_type": "code",
   "execution_count": 19,
   "metadata": {
    "tags": []
   },
   "outputs": [
    {
     "data": {
      "text/plain": [
       "model           0\n",
       "year            0\n",
       "price           0\n",
       "transmission    0\n",
       "mileage         0\n",
       "fuelType        0\n",
       "tax             0\n",
       "mpg             0\n",
       "engineSize      0\n",
       "dtype: int64"
      ]
     },
     "execution_count": 19,
     "metadata": {},
     "output_type": "execute_result"
    }
   ],
   "source": [
    "dataset.isnull().sum()"
   ]
  },
  {
   "cell_type": "markdown",
   "metadata": {},
   "source": [
    "#### Percentual de registros por modelo."
   ]
  },
  {
   "cell_type": "code",
   "execution_count": 8,
   "metadata": {
    "tags": []
   },
   "outputs": [
    {
     "name": "stdout",
     "output_type": "stream",
     "text": [
      " Golf               0.320842\n",
      " Polo               0.216863\n",
      " Tiguan             0.116448\n",
      " Passat             0.060368\n",
      " Up                 0.058323\n",
      " T-Roc              0.048360\n",
      " Touareg            0.023949\n",
      " Touran             0.023224\n",
      " T-Cross            0.019793\n",
      " Golf SV            0.017682\n",
      " Sharan             0.017154\n",
      " Arteon             0.016362\n",
      " Scirocco           0.015966\n",
      " Amarok             0.007323\n",
      " Caravelle          0.006664\n",
      " CC                 0.006268\n",
      " Tiguan Allspace    0.006004\n",
      " Beetle             0.005476\n",
      " Shuttle            0.004025\n",
      " Caddy Maxi Life    0.003893\n",
      " Jetta              0.002111\n",
      " California         0.000990\n",
      " Caddy Life         0.000528\n",
      " Eos                0.000462\n",
      " Caddy              0.000396\n",
      " Caddy Maxi         0.000264\n",
      " Fox                0.000264\n",
      "Name: model, dtype: float64\n"
     ]
    }
   ],
   "source": [
    "print(dataset[\"model\"].value_counts() / len(dataset))"
   ]
  },
  {
   "cell_type": "markdown",
   "metadata": {},
   "source": [
    "#### Quantitativo de registros por tipo de combustível."
   ]
  },
  {
   "cell_type": "code",
   "execution_count": 9,
   "metadata": {
    "tags": []
   },
   "outputs": [
    {
     "data": {
      "text/plain": [
       "Petrol    8553\n",
       "Diesel    6372\n",
       "Hybrid     145\n",
       "Other       87\n",
       "Name: fuelType, dtype: int64"
      ]
     },
     "execution_count": 9,
     "metadata": {},
     "output_type": "execute_result"
    }
   ],
   "source": [
    "dataset[\"fuelType\"].value_counts()"
   ]
  },
  {
   "cell_type": "markdown",
   "metadata": {},
   "source": [
    "#### Quantitativo de veículos por ano de fabricação."
   ]
  },
  {
   "cell_type": "code",
   "execution_count": 10,
   "metadata": {},
   "outputs": [
    {
     "data": {
      "text/plain": [
       "<AxesSubplot:xlabel='count', ylabel='year'>"
      ]
     },
     "execution_count": 10,
     "metadata": {},
     "output_type": "execute_result"
    },
    {
     "data": {
      "image/png": "[encoded data removed]",
      "text/plain": [
       "<Figure size 800x550 with 1 Axes>"
      ]
     },
     "metadata": {},
     "output_type": "display_data"
    }
   ],
   "source": [
    "sns.countplot(y = dataset[\"year\"])"
   ]
  },
  {
   "cell_type": "markdown",
   "metadata": {},
   "source": [
    "# MODELAGEM"
   ]
  },
  {
   "cell_type": "markdown",
   "metadata": {},
   "source": [
    "#### Separando os dados em treino e teste"
   ]
  },
  {
   "cell_type": "markdown",
   "metadata": {},
   "source": [
    "##### Selecionando 95% dos dados dados de forma aleatória."
   ]
  },
  {
   "cell_type": "code",
   "execution_count": 14,
   "metadata": {
    "tags": []
   },
   "outputs": [],
   "source": [
    "data = dataset.sample(frac=0.95, random_state=786)"
   ]
  },
  {
   "cell_type": "markdown",
   "metadata": {},
   "source": [
    "##### Atribuindo os 5% restante para o dataframe de validação."
   ]
  },
  {
   "cell_type": "code",
   "execution_count": 15,
   "metadata": {
    "tags": []
   },
   "outputs": [],
   "source": [
    "data_validation = dataset.drop(data.index)"
   ]
  },
  {
   "cell_type": "markdown",
   "metadata": {},
   "source": [
    "##### Excluindo os demais registros."
   ]
  },
  {
   "cell_type": "code",
   "execution_count": 16,
   "metadata": {
    "tags": []
   },
   "outputs": [],
   "source": [
    "data.reset_index(inplace=True, drop=True)\n",
    "data_validation.reset_index(inplace=True, drop=True)"
   ]
  },
  {
   "cell_type": "markdown",
   "metadata": {},
   "source": [
    "##### Dados utilizados para modelagem e validação."
   ]
  },
  {
   "cell_type": "code",
   "execution_count": 17,
   "metadata": {
    "tags": []
   },
   "outputs": [
    {
     "name": "stdout",
     "output_type": "stream",
     "text": [
      "Dados para modelagem: (14399, 9)\n",
      "Dados reservados para a validação: (758, 9)\n"
     ]
    }
   ],
   "source": [
    "print('Dados para modelagem: ' + str(data.shape))\n",
    "print('Dados reservados para a validação: ' + str(data_validation.shape))"
   ]
  },
  {
   "cell_type": "code",
   "execution_count": 18,
   "metadata": {
    "tags": []
   },
   "outputs": [
    {
     "data": {
      "text/html": [
       "<div>\n",
       "<style scoped>\n",
       "    .dataframe tbody tr th:only-of-type {\n",
       "        vertical-align: middle;\n",
       "    }\n",
       "\n",
       "    .dataframe tbody tr th {\n",
       "        vertical-align: top;\n",
       "    }\n",
       "\n",
       "    .dataframe thead th {\n",
       "        text-align: right;\n",
       "    }\n",
       "</style>\n",
       "<table border=\"1\" class=\"dataframe\">\n",
       "  <thead>\n",
       "    <tr style=\"text-align: right;\">\n",
       "      <th></th>\n",
       "      <th>model</th>\n",
       "      <th>year</th>\n",
       "      <th>price</th>\n",
       "      <th>transmission</th>\n",
       "      <th>mileage</th>\n",
       "      <th>fuelType</th>\n",
       "      <th>tax</th>\n",
       "      <th>mpg</th>\n",
       "      <th>engineSize</th>\n",
       "    </tr>\n",
       "  </thead>\n",
       "  <tbody>\n",
       "    <tr>\n",
       "      <th>0</th>\n",
       "      <td>T-Roc</td>\n",
       "      <td>2019</td>\n",
       "      <td>25000</td>\n",
       "      <td>Automatic</td>\n",
       "      <td>13904</td>\n",
       "      <td>Diesel</td>\n",
       "      <td>145</td>\n",
       "      <td>49.6</td>\n",
       "      <td>2.0</td>\n",
       "    </tr>\n",
       "    <tr>\n",
       "      <th>1</th>\n",
       "      <td>T-Roc</td>\n",
       "      <td>2019</td>\n",
       "      <td>26883</td>\n",
       "      <td>Automatic</td>\n",
       "      <td>4562</td>\n",
       "      <td>Diesel</td>\n",
       "      <td>145</td>\n",
       "      <td>49.6</td>\n",
       "      <td>2.0</td>\n",
       "    </tr>\n",
       "    <tr>\n",
       "      <th>2</th>\n",
       "      <td>T-Roc</td>\n",
       "      <td>2019</td>\n",
       "      <td>20000</td>\n",
       "      <td>Manual</td>\n",
       "      <td>7414</td>\n",
       "      <td>Diesel</td>\n",
       "      <td>145</td>\n",
       "      <td>50.4</td>\n",
       "      <td>2.0</td>\n",
       "    </tr>\n",
       "    <tr>\n",
       "      <th>3</th>\n",
       "      <td>T-Roc</td>\n",
       "      <td>2019</td>\n",
       "      <td>33492</td>\n",
       "      <td>Automatic</td>\n",
       "      <td>4825</td>\n",
       "      <td>Petrol</td>\n",
       "      <td>145</td>\n",
       "      <td>32.5</td>\n",
       "      <td>2.0</td>\n",
       "    </tr>\n",
       "    <tr>\n",
       "      <th>4</th>\n",
       "      <td>T-Roc</td>\n",
       "      <td>2019</td>\n",
       "      <td>22900</td>\n",
       "      <td>Semi-Auto</td>\n",
       "      <td>6500</td>\n",
       "      <td>Petrol</td>\n",
       "      <td>150</td>\n",
       "      <td>39.8</td>\n",
       "      <td>1.5</td>\n",
       "    </tr>\n",
       "  </tbody>\n",
       "</table>\n",
       "</div>"
      ],
      "text/plain": [
       "    model  year  price transmission  mileage fuelType  tax   mpg  engineSize\n",
       "0   T-Roc  2019  25000    Automatic    13904   Diesel  145  49.6         2.0\n",
       "1   T-Roc  2019  26883    Automatic     4562   Diesel  145  49.6         2.0\n",
       "2   T-Roc  2019  20000       Manual     7414   Diesel  145  50.4         2.0\n",
       "3   T-Roc  2019  33492    Automatic     4825   Petrol  145  32.5         2.0\n",
       "4   T-Roc  2019  22900    Semi-Auto     6500   Petrol  150  39.8         1.5"
      ]
     },
     "execution_count": 18,
     "metadata": {},
     "output_type": "execute_result"
    }
   ],
   "source": [
    "dataset.head()"
   ]
  },
  {
   "cell_type": "markdown",
   "metadata": {
    "colab_type": "text",
    "id": "y9s9wNcjEQn0"
   },
   "source": [
    "# Configurando o ambiente com a função Setup."
   ]
  },
  {
   "cell_type": "markdown",
   "metadata": {
    "colab_type": "text",
    "id": "ZlA01j6NEQn7"
   },
   "source": [
    "Inspecionando os dados para criar o pipeline de transformação."
   ]
  },
  {
   "cell_type": "code",
   "execution_count": 21,
   "metadata": {
    "colab": {
     "base_uri": "https://localhost:8080/",
     "height": 803
    },
    "colab_type": "code",
    "id": "k2IuvfDHEQoO",
    "jupyter": {
     "outputs_hidden": true
    },
    "outputId": "c7754ae9-b060-4218-b6f0-de65a815aa3a",
    "tags": []
   },
   "outputs": [
    {
     "data": {
      "text/html": [
       "<style type=\"text/css\">\n",
       "#T_dfd49_row9_col1 {\n",
       "  background-color: lightgreen;\n",
       "}\n",
       "</style>\n",
       "<table id=\"T_dfd49\">\n",
       "  <thead>\n",
       "    <tr>\n",
       "      <th class=\"blank level0\" >&nbsp;</th>\n",
       "      <th id=\"T_dfd49_level0_col0\" class=\"col_heading level0 col0\" >Description</th>\n",
       "      <th id=\"T_dfd49_level0_col1\" class=\"col_heading level0 col1\" >Value</th>\n",
       "    </tr>\n",
       "  </thead>\n",
       "  <tbody>\n",
       "    <tr>\n",
       "      <th id=\"T_dfd49_level0_row0\" class=\"row_heading level0 row0\" >0</th>\n",
       "      <td id=\"T_dfd49_row0_col0\" class=\"data row0 col0\" >Session id</td>\n",
       "      <td id=\"T_dfd49_row0_col1\" class=\"data row0 col1\" >123</td>\n",
       "    </tr>\n",
       "    <tr>\n",
       "      <th id=\"T_dfd49_level0_row1\" class=\"row_heading level0 row1\" >1</th>\n",
       "      <td id=\"T_dfd49_row1_col0\" class=\"data row1 col0\" >Target</td>\n",
       "      <td id=\"T_dfd49_row1_col1\" class=\"data row1 col1\" >price</td>\n",
       "    </tr>\n",
       "    <tr>\n",
       "      <th id=\"T_dfd49_level0_row2\" class=\"row_heading level0 row2\" >2</th>\n",
       "      <td id=\"T_dfd49_row2_col0\" class=\"data row2 col0\" >Target type</td>\n",
       "      <td id=\"T_dfd49_row2_col1\" class=\"data row2 col1\" >Regression</td>\n",
       "    </tr>\n",
       "    <tr>\n",
       "      <th id=\"T_dfd49_level0_row3\" class=\"row_heading level0 row3\" >3</th>\n",
       "      <td id=\"T_dfd49_row3_col0\" class=\"data row3 col0\" >Original data shape</td>\n",
       "      <td id=\"T_dfd49_row3_col1\" class=\"data row3 col1\" >(14399, 9)</td>\n",
       "    </tr>\n",
       "    <tr>\n",
       "      <th id=\"T_dfd49_level0_row4\" class=\"row_heading level0 row4\" >4</th>\n",
       "      <td id=\"T_dfd49_row4_col0\" class=\"data row4 col0\" >Transformed data shape</td>\n",
       "      <td id=\"T_dfd49_row4_col1\" class=\"data row4 col1\" >(14399, 14)</td>\n",
       "    </tr>\n",
       "    <tr>\n",
       "      <th id=\"T_dfd49_level0_row5\" class=\"row_heading level0 row5\" >5</th>\n",
       "      <td id=\"T_dfd49_row5_col0\" class=\"data row5 col0\" >Transformed train set shape</td>\n",
       "      <td id=\"T_dfd49_row5_col1\" class=\"data row5 col1\" >(10079, 14)</td>\n",
       "    </tr>\n",
       "    <tr>\n",
       "      <th id=\"T_dfd49_level0_row6\" class=\"row_heading level0 row6\" >6</th>\n",
       "      <td id=\"T_dfd49_row6_col0\" class=\"data row6 col0\" >Transformed test set shape</td>\n",
       "      <td id=\"T_dfd49_row6_col1\" class=\"data row6 col1\" >(4320, 14)</td>\n",
       "    </tr>\n",
       "    <tr>\n",
       "      <th id=\"T_dfd49_level0_row7\" class=\"row_heading level0 row7\" >7</th>\n",
       "      <td id=\"T_dfd49_row7_col0\" class=\"data row7 col0\" >Numeric features</td>\n",
       "      <td id=\"T_dfd49_row7_col1\" class=\"data row7 col1\" >5</td>\n",
       "    </tr>\n",
       "    <tr>\n",
       "      <th id=\"T_dfd49_level0_row8\" class=\"row_heading level0 row8\" >8</th>\n",
       "      <td id=\"T_dfd49_row8_col0\" class=\"data row8 col0\" >Categorical features</td>\n",
       "      <td id=\"T_dfd49_row8_col1\" class=\"data row8 col1\" >3</td>\n",
       "    </tr>\n",
       "    <tr>\n",
       "      <th id=\"T_dfd49_level0_row9\" class=\"row_heading level0 row9\" >9</th>\n",
       "      <td id=\"T_dfd49_row9_col0\" class=\"data row9 col0\" >Preprocess</td>\n",
       "      <td id=\"T_dfd49_row9_col1\" class=\"data row9 col1\" >True</td>\n",
       "    </tr>\n",
       "    <tr>\n",
       "      <th id=\"T_dfd49_level0_row10\" class=\"row_heading level0 row10\" >10</th>\n",
       "      <td id=\"T_dfd49_row10_col0\" class=\"data row10 col0\" >Imputation type</td>\n",
       "      <td id=\"T_dfd49_row10_col1\" class=\"data row10 col1\" >simple</td>\n",
       "    </tr>\n",
       "    <tr>\n",
       "      <th id=\"T_dfd49_level0_row11\" class=\"row_heading level0 row11\" >11</th>\n",
       "      <td id=\"T_dfd49_row11_col0\" class=\"data row11 col0\" >Numeric imputation</td>\n",
       "      <td id=\"T_dfd49_row11_col1\" class=\"data row11 col1\" >mean</td>\n",
       "    </tr>\n",
       "    <tr>\n",
       "      <th id=\"T_dfd49_level0_row12\" class=\"row_heading level0 row12\" >12</th>\n",
       "      <td id=\"T_dfd49_row12_col0\" class=\"data row12 col0\" >Categorical imputation</td>\n",
       "      <td id=\"T_dfd49_row12_col1\" class=\"data row12 col1\" >mode</td>\n",
       "    </tr>\n",
       "    <tr>\n",
       "      <th id=\"T_dfd49_level0_row13\" class=\"row_heading level0 row13\" >13</th>\n",
       "      <td id=\"T_dfd49_row13_col0\" class=\"data row13 col0\" >Maximum one-hot encoding</td>\n",
       "      <td id=\"T_dfd49_row13_col1\" class=\"data row13 col1\" >25</td>\n",
       "    </tr>\n",
       "    <tr>\n",
       "      <th id=\"T_dfd49_level0_row14\" class=\"row_heading level0 row14\" >14</th>\n",
       "      <td id=\"T_dfd49_row14_col0\" class=\"data row14 col0\" >Encoding method</td>\n",
       "      <td id=\"T_dfd49_row14_col1\" class=\"data row14 col1\" >None</td>\n",
       "    </tr>\n",
       "    <tr>\n",
       "      <th id=\"T_dfd49_level0_row15\" class=\"row_heading level0 row15\" >15</th>\n",
       "      <td id=\"T_dfd49_row15_col0\" class=\"data row15 col0\" >Fold Generator</td>\n",
       "      <td id=\"T_dfd49_row15_col1\" class=\"data row15 col1\" >KFold</td>\n",
       "    </tr>\n",
       "    <tr>\n",
       "      <th id=\"T_dfd49_level0_row16\" class=\"row_heading level0 row16\" >16</th>\n",
       "      <td id=\"T_dfd49_row16_col0\" class=\"data row16 col0\" >Fold Number</td>\n",
       "      <td id=\"T_dfd49_row16_col1\" class=\"data row16 col1\" >10</td>\n",
       "    </tr>\n",
       "    <tr>\n",
       "      <th id=\"T_dfd49_level0_row17\" class=\"row_heading level0 row17\" >17</th>\n",
       "      <td id=\"T_dfd49_row17_col0\" class=\"data row17 col0\" >CPU Jobs</td>\n",
       "      <td id=\"T_dfd49_row17_col1\" class=\"data row17 col1\" >-1</td>\n",
       "    </tr>\n",
       "    <tr>\n",
       "      <th id=\"T_dfd49_level0_row18\" class=\"row_heading level0 row18\" >18</th>\n",
       "      <td id=\"T_dfd49_row18_col0\" class=\"data row18 col0\" >Use GPU</td>\n",
       "      <td id=\"T_dfd49_row18_col1\" class=\"data row18 col1\" >False</td>\n",
       "    </tr>\n",
       "    <tr>\n",
       "      <th id=\"T_dfd49_level0_row19\" class=\"row_heading level0 row19\" >19</th>\n",
       "      <td id=\"T_dfd49_row19_col0\" class=\"data row19 col0\" >Log Experiment</td>\n",
       "      <td id=\"T_dfd49_row19_col1\" class=\"data row19 col1\" >False</td>\n",
       "    </tr>\n",
       "    <tr>\n",
       "      <th id=\"T_dfd49_level0_row20\" class=\"row_heading level0 row20\" >20</th>\n",
       "      <td id=\"T_dfd49_row20_col0\" class=\"data row20 col0\" >Experiment Name</td>\n",
       "      <td id=\"T_dfd49_row20_col1\" class=\"data row20 col1\" >regressao01</td>\n",
       "    </tr>\n",
       "    <tr>\n",
       "      <th id=\"T_dfd49_level0_row21\" class=\"row_heading level0 row21\" >21</th>\n",
       "      <td id=\"T_dfd49_row21_col0\" class=\"data row21 col0\" >USI</td>\n",
       "      <td id=\"T_dfd49_row21_col1\" class=\"data row21 col1\" >9096</td>\n",
       "    </tr>\n",
       "  </tbody>\n",
       "</table>\n"
      ],
      "text/plain": [
       "<pandas.io.formats.style.Styler at 0x205a9565eb0>"
      ]
     },
     "metadata": {},
     "output_type": "display_data"
    },
    {
     "name": "stdout",
     "output_type": "stream",
     "text": [
      "Loading profile... Please Wait!\n",
      "Profiler Failed. No output to show, continue with modeling.\n"
     ]
    }
   ],
   "source": [
    "exp_clf01 = setup(   data = data\n",
    "                    ,experiment_name = \"regressao01\" \n",
    "                    ,target = 'price'\n",
    "                    ,session_id = 123 # seed, is the 'random_state' in scikit-learn.\n",
    "                    ,profile = True # Equal to pandas profiling,  give a several analysis \n",
    "                 )"
   ]
  },
  {
   "cell_type": "markdown",
   "metadata": {
    "colab_type": "text",
    "id": "ZlA01j6NEQn7"
   },
   "source": [
    "Função Setup inicializa o ambiente no Pycaret e cria o pipeline de transformação e prepara os dados para modelagem e deploy."
   ]
  },
  {
   "cell_type": "code",
   "execution_count": 20,
   "metadata": {
    "tags": []
   },
   "outputs": [
    {
     "data": {
      "text/html": [
       "<style type=\"text/css\">\n",
       "#T_90ed2_row9_col1, #T_90ed2_row15_col1, #T_90ed2_row17_col1 {\n",
       "  background-color: lightgreen;\n",
       "}\n",
       "</style>\n",
       "<table id=\"T_90ed2\">\n",
       "  <thead>\n",
       "    <tr>\n",
       "      <th class=\"blank level0\" >&nbsp;</th>\n",
       "      <th id=\"T_90ed2_level0_col0\" class=\"col_heading level0 col0\" >Description</th>\n",
       "      <th id=\"T_90ed2_level0_col1\" class=\"col_heading level0 col1\" >Value</th>\n",
       "    </tr>\n",
       "  </thead>\n",
       "  <tbody>\n",
       "    <tr>\n",
       "      <th id=\"T_90ed2_level0_row0\" class=\"row_heading level0 row0\" >0</th>\n",
       "      <td id=\"T_90ed2_row0_col0\" class=\"data row0 col0\" >Session id</td>\n",
       "      <td id=\"T_90ed2_row0_col1\" class=\"data row0 col1\" >123</td>\n",
       "    </tr>\n",
       "    <tr>\n",
       "      <th id=\"T_90ed2_level0_row1\" class=\"row_heading level0 row1\" >1</th>\n",
       "      <td id=\"T_90ed2_row1_col0\" class=\"data row1 col0\" >Target</td>\n",
       "      <td id=\"T_90ed2_row1_col1\" class=\"data row1 col1\" >price</td>\n",
       "    </tr>\n",
       "    <tr>\n",
       "      <th id=\"T_90ed2_level0_row2\" class=\"row_heading level0 row2\" >2</th>\n",
       "      <td id=\"T_90ed2_row2_col0\" class=\"data row2 col0\" >Target type</td>\n",
       "      <td id=\"T_90ed2_row2_col1\" class=\"data row2 col1\" >Regression</td>\n",
       "    </tr>\n",
       "    <tr>\n",
       "      <th id=\"T_90ed2_level0_row3\" class=\"row_heading level0 row3\" >3</th>\n",
       "      <td id=\"T_90ed2_row3_col0\" class=\"data row3 col0\" >Original data shape</td>\n",
       "      <td id=\"T_90ed2_row3_col1\" class=\"data row3 col1\" >(14399, 9)</td>\n",
       "    </tr>\n",
       "    <tr>\n",
       "      <th id=\"T_90ed2_level0_row4\" class=\"row_heading level0 row4\" >4</th>\n",
       "      <td id=\"T_90ed2_row4_col0\" class=\"data row4 col0\" >Transformed data shape</td>\n",
       "      <td id=\"T_90ed2_row4_col1\" class=\"data row4 col1\" >(14399, 14)</td>\n",
       "    </tr>\n",
       "    <tr>\n",
       "      <th id=\"T_90ed2_level0_row5\" class=\"row_heading level0 row5\" >5</th>\n",
       "      <td id=\"T_90ed2_row5_col0\" class=\"data row5 col0\" >Transformed train set shape</td>\n",
       "      <td id=\"T_90ed2_row5_col1\" class=\"data row5 col1\" >(10079, 14)</td>\n",
       "    </tr>\n",
       "    <tr>\n",
       "      <th id=\"T_90ed2_level0_row6\" class=\"row_heading level0 row6\" >6</th>\n",
       "      <td id=\"T_90ed2_row6_col0\" class=\"data row6 col0\" >Transformed test set shape</td>\n",
       "      <td id=\"T_90ed2_row6_col1\" class=\"data row6 col1\" >(4320, 14)</td>\n",
       "    </tr>\n",
       "    <tr>\n",
       "      <th id=\"T_90ed2_level0_row7\" class=\"row_heading level0 row7\" >7</th>\n",
       "      <td id=\"T_90ed2_row7_col0\" class=\"data row7 col0\" >Numeric features</td>\n",
       "      <td id=\"T_90ed2_row7_col1\" class=\"data row7 col1\" >5</td>\n",
       "    </tr>\n",
       "    <tr>\n",
       "      <th id=\"T_90ed2_level0_row8\" class=\"row_heading level0 row8\" >8</th>\n",
       "      <td id=\"T_90ed2_row8_col0\" class=\"data row8 col0\" >Categorical features</td>\n",
       "      <td id=\"T_90ed2_row8_col1\" class=\"data row8 col1\" >3</td>\n",
       "    </tr>\n",
       "    <tr>\n",
       "      <th id=\"T_90ed2_level0_row9\" class=\"row_heading level0 row9\" >9</th>\n",
       "      <td id=\"T_90ed2_row9_col0\" class=\"data row9 col0\" >Preprocess</td>\n",
       "      <td id=\"T_90ed2_row9_col1\" class=\"data row9 col1\" >True</td>\n",
       "    </tr>\n",
       "    <tr>\n",
       "      <th id=\"T_90ed2_level0_row10\" class=\"row_heading level0 row10\" >10</th>\n",
       "      <td id=\"T_90ed2_row10_col0\" class=\"data row10 col0\" >Imputation type</td>\n",
       "      <td id=\"T_90ed2_row10_col1\" class=\"data row10 col1\" >simple</td>\n",
       "    </tr>\n",
       "    <tr>\n",
       "      <th id=\"T_90ed2_level0_row11\" class=\"row_heading level0 row11\" >11</th>\n",
       "      <td id=\"T_90ed2_row11_col0\" class=\"data row11 col0\" >Numeric imputation</td>\n",
       "      <td id=\"T_90ed2_row11_col1\" class=\"data row11 col1\" >mean</td>\n",
       "    </tr>\n",
       "    <tr>\n",
       "      <th id=\"T_90ed2_level0_row12\" class=\"row_heading level0 row12\" >12</th>\n",
       "      <td id=\"T_90ed2_row12_col0\" class=\"data row12 col0\" >Categorical imputation</td>\n",
       "      <td id=\"T_90ed2_row12_col1\" class=\"data row12 col1\" >mode</td>\n",
       "    </tr>\n",
       "    <tr>\n",
       "      <th id=\"T_90ed2_level0_row13\" class=\"row_heading level0 row13\" >13</th>\n",
       "      <td id=\"T_90ed2_row13_col0\" class=\"data row13 col0\" >Maximum one-hot encoding</td>\n",
       "      <td id=\"T_90ed2_row13_col1\" class=\"data row13 col1\" >25</td>\n",
       "    </tr>\n",
       "    <tr>\n",
       "      <th id=\"T_90ed2_level0_row14\" class=\"row_heading level0 row14\" >14</th>\n",
       "      <td id=\"T_90ed2_row14_col0\" class=\"data row14 col0\" >Encoding method</td>\n",
       "      <td id=\"T_90ed2_row14_col1\" class=\"data row14 col1\" >None</td>\n",
       "    </tr>\n",
       "    <tr>\n",
       "      <th id=\"T_90ed2_level0_row15\" class=\"row_heading level0 row15\" >15</th>\n",
       "      <td id=\"T_90ed2_row15_col0\" class=\"data row15 col0\" >Normalize</td>\n",
       "      <td id=\"T_90ed2_row15_col1\" class=\"data row15 col1\" >True</td>\n",
       "    </tr>\n",
       "    <tr>\n",
       "      <th id=\"T_90ed2_level0_row16\" class=\"row_heading level0 row16\" >16</th>\n",
       "      <td id=\"T_90ed2_row16_col0\" class=\"data row16 col0\" >Normalize method</td>\n",
       "      <td id=\"T_90ed2_row16_col1\" class=\"data row16 col1\" >zscore</td>\n",
       "    </tr>\n",
       "    <tr>\n",
       "      <th id=\"T_90ed2_level0_row17\" class=\"row_heading level0 row17\" >17</th>\n",
       "      <td id=\"T_90ed2_row17_col0\" class=\"data row17 col0\" >Transform target</td>\n",
       "      <td id=\"T_90ed2_row17_col1\" class=\"data row17 col1\" >True</td>\n",
       "    </tr>\n",
       "    <tr>\n",
       "      <th id=\"T_90ed2_level0_row18\" class=\"row_heading level0 row18\" >18</th>\n",
       "      <td id=\"T_90ed2_row18_col0\" class=\"data row18 col0\" >Transform target method</td>\n",
       "      <td id=\"T_90ed2_row18_col1\" class=\"data row18 col1\" >yeo-johnson</td>\n",
       "    </tr>\n",
       "    <tr>\n",
       "      <th id=\"T_90ed2_level0_row19\" class=\"row_heading level0 row19\" >19</th>\n",
       "      <td id=\"T_90ed2_row19_col0\" class=\"data row19 col0\" >Fold Generator</td>\n",
       "      <td id=\"T_90ed2_row19_col1\" class=\"data row19 col1\" >KFold</td>\n",
       "    </tr>\n",
       "    <tr>\n",
       "      <th id=\"T_90ed2_level0_row20\" class=\"row_heading level0 row20\" >20</th>\n",
       "      <td id=\"T_90ed2_row20_col0\" class=\"data row20 col0\" >Fold Number</td>\n",
       "      <td id=\"T_90ed2_row20_col1\" class=\"data row20 col1\" >10</td>\n",
       "    </tr>\n",
       "    <tr>\n",
       "      <th id=\"T_90ed2_level0_row21\" class=\"row_heading level0 row21\" >21</th>\n",
       "      <td id=\"T_90ed2_row21_col0\" class=\"data row21 col0\" >CPU Jobs</td>\n",
       "      <td id=\"T_90ed2_row21_col1\" class=\"data row21 col1\" >-1</td>\n",
       "    </tr>\n",
       "    <tr>\n",
       "      <th id=\"T_90ed2_level0_row22\" class=\"row_heading level0 row22\" >22</th>\n",
       "      <td id=\"T_90ed2_row22_col0\" class=\"data row22 col0\" >Use GPU</td>\n",
       "      <td id=\"T_90ed2_row22_col1\" class=\"data row22 col1\" >False</td>\n",
       "    </tr>\n",
       "    <tr>\n",
       "      <th id=\"T_90ed2_level0_row23\" class=\"row_heading level0 row23\" >23</th>\n",
       "      <td id=\"T_90ed2_row23_col0\" class=\"data row23 col0\" >Log Experiment</td>\n",
       "      <td id=\"T_90ed2_row23_col1\" class=\"data row23 col1\" >False</td>\n",
       "    </tr>\n",
       "    <tr>\n",
       "      <th id=\"T_90ed2_level0_row24\" class=\"row_heading level0 row24\" >24</th>\n",
       "      <td id=\"T_90ed2_row24_col0\" class=\"data row24 col0\" >Experiment Name</td>\n",
       "      <td id=\"T_90ed2_row24_col1\" class=\"data row24 col1\" >regressao01</td>\n",
       "    </tr>\n",
       "    <tr>\n",
       "      <th id=\"T_90ed2_level0_row25\" class=\"row_heading level0 row25\" >25</th>\n",
       "      <td id=\"T_90ed2_row25_col0\" class=\"data row25 col0\" >USI</td>\n",
       "      <td id=\"T_90ed2_row25_col1\" class=\"data row25 col1\" >530e</td>\n",
       "    </tr>\n",
       "  </tbody>\n",
       "</table>\n"
      ],
      "text/plain": [
       "<pandas.io.formats.style.Styler at 0x205a79d0910>"
      ]
     },
     "metadata": {},
     "output_type": "display_data"
    }
   ],
   "source": [
    "exp_clf01 = setup(   data = data # data set \n",
    "                    ,experiment_name = \"regressao01\" \n",
    "                    ,target = 'price'\n",
    "                    ,session_id = 123 \n",
    "                    ,profile = False \n",
    "                    ,transform_target = True # target transformation to let the var close to normal distribution \n",
    "                    ,normalize = True # Normalize the features variables\n",
    "                    ,bin_numeric_features = ['tax']\n",
    "                 )"
   ]
  },
  {
   "cell_type": "markdown",
   "metadata": {},
   "source": [
    "##### Armazenando o Dataframe transformado."
   ]
  },
  {
   "cell_type": "code",
   "execution_count": 45,
   "metadata": {
    "tags": []
   },
   "outputs": [],
   "source": [
    "df_transformed = get_config(\"X_train\")"
   ]
  },
  {
   "cell_type": "code",
   "execution_count": 46,
   "metadata": {
    "tags": []
   },
   "outputs": [
    {
     "data": {
      "text/html": [
       "<div>\n",
       "<style scoped>\n",
       "    .dataframe tbody tr th:only-of-type {\n",
       "        vertical-align: middle;\n",
       "    }\n",
       "\n",
       "    .dataframe tbody tr th {\n",
       "        vertical-align: top;\n",
       "    }\n",
       "\n",
       "    .dataframe thead th {\n",
       "        text-align: right;\n",
       "    }\n",
       "</style>\n",
       "<table border=\"1\" class=\"dataframe\">\n",
       "  <thead>\n",
       "    <tr style=\"text-align: right;\">\n",
       "      <th></th>\n",
       "      <th>model</th>\n",
       "      <th>year</th>\n",
       "      <th>transmission</th>\n",
       "      <th>mileage</th>\n",
       "      <th>fuelType</th>\n",
       "      <th>tax</th>\n",
       "      <th>mpg</th>\n",
       "      <th>engineSize</th>\n",
       "    </tr>\n",
       "  </thead>\n",
       "  <tbody>\n",
       "    <tr>\n",
       "      <th>3933</th>\n",
       "      <td>Tiguan</td>\n",
       "      <td>2017</td>\n",
       "      <td>Manual</td>\n",
       "      <td>34026</td>\n",
       "      <td>Diesel</td>\n",
       "      <td>145</td>\n",
       "      <td>58.900002</td>\n",
       "      <td>2.0</td>\n",
       "    </tr>\n",
       "    <tr>\n",
       "      <th>2124</th>\n",
       "      <td>Passat</td>\n",
       "      <td>2016</td>\n",
       "      <td>Manual</td>\n",
       "      <td>51204</td>\n",
       "      <td>Diesel</td>\n",
       "      <td>20</td>\n",
       "      <td>68.900002</td>\n",
       "      <td>1.6</td>\n",
       "    </tr>\n",
       "    <tr>\n",
       "      <th>9681</th>\n",
       "      <td>Golf</td>\n",
       "      <td>2015</td>\n",
       "      <td>Manual</td>\n",
       "      <td>20761</td>\n",
       "      <td>Petrol</td>\n",
       "      <td>30</td>\n",
       "      <td>53.299999</td>\n",
       "      <td>1.4</td>\n",
       "    </tr>\n",
       "    <tr>\n",
       "      <th>5927</th>\n",
       "      <td>Passat</td>\n",
       "      <td>2020</td>\n",
       "      <td>Semi-Auto</td>\n",
       "      <td>15</td>\n",
       "      <td>Diesel</td>\n",
       "      <td>145</td>\n",
       "      <td>49.599998</td>\n",
       "      <td>1.6</td>\n",
       "    </tr>\n",
       "    <tr>\n",
       "      <th>3488</th>\n",
       "      <td>Arteon</td>\n",
       "      <td>2019</td>\n",
       "      <td>Semi-Auto</td>\n",
       "      <td>2269</td>\n",
       "      <td>Petrol</td>\n",
       "      <td>145</td>\n",
       "      <td>40.400002</td>\n",
       "      <td>1.5</td>\n",
       "    </tr>\n",
       "  </tbody>\n",
       "</table>\n",
       "</div>"
      ],
      "text/plain": [
       "        model  year transmission  mileage fuelType  tax        mpg  engineSize\n",
       "3933   Tiguan  2017       Manual    34026   Diesel  145  58.900002         2.0\n",
       "2124   Passat  2016       Manual    51204   Diesel   20  68.900002         1.6\n",
       "9681     Golf  2015       Manual    20761   Petrol   30  53.299999         1.4\n",
       "5927   Passat  2020    Semi-Auto       15   Diesel  145  49.599998         1.6\n",
       "3488   Arteon  2019    Semi-Auto     2269   Petrol  145  40.400002         1.5"
      ]
     },
     "execution_count": 46,
     "metadata": {},
     "output_type": "execute_result"
    }
   ],
   "source": [
    "df_transformed.head()"
   ]
  },
  {
   "cell_type": "markdown",
   "metadata": {
    "colab_type": "text",
    "id": "it_nJo1IEQob"
   },
   "source": [
    "# Comparando modelos"
   ]
  },
  {
   "cell_type": "markdown",
   "metadata": {
    "colab_type": "text",
    "id": "apb_B9bBEQof"
   },
   "source": [
    "Esta função treina e compara a performance de todos os modelos para a tarefa de Regressão utilizando cross validation e retorna as métricas para avaliação e o tempo de treinamento."
   ]
  },
  {
   "cell_type": "code",
   "execution_count": 23,
   "metadata": {
    "colab": {},
    "colab_type": "code",
    "id": "AsG0b1NIEQoj",
    "outputId": "a6e3a510-45a1-4782-8ffe-0ec138a64eed",
    "tags": []
   },
   "outputs": [
    {
     "data": {
      "text/html": [],
      "text/plain": [
       "<IPython.core.display.HTML object>"
      ]
     },
     "metadata": {},
     "output_type": "display_data"
    },
    {
     "data": {
      "text/html": [
       "<style type=\"text/css\">\n",
       "#T_91cef th {\n",
       "  text-align: left;\n",
       "}\n",
       "#T_91cef_row0_col0, #T_91cef_row1_col0, #T_91cef_row1_col1, #T_91cef_row1_col2, #T_91cef_row1_col3, #T_91cef_row1_col4, #T_91cef_row1_col5, #T_91cef_row1_col6, #T_91cef_row2_col0, #T_91cef_row2_col1, #T_91cef_row2_col2, #T_91cef_row2_col3, #T_91cef_row2_col4, #T_91cef_row2_col5, #T_91cef_row2_col6, #T_91cef_row3_col0, #T_91cef_row3_col1, #T_91cef_row3_col2, #T_91cef_row3_col3, #T_91cef_row3_col4, #T_91cef_row3_col5, #T_91cef_row3_col6, #T_91cef_row4_col0, #T_91cef_row4_col1, #T_91cef_row4_col2, #T_91cef_row4_col3, #T_91cef_row4_col4, #T_91cef_row4_col5, #T_91cef_row4_col6, #T_91cef_row5_col0, #T_91cef_row5_col1, #T_91cef_row5_col2, #T_91cef_row5_col3, #T_91cef_row5_col4, #T_91cef_row5_col5, #T_91cef_row5_col6, #T_91cef_row6_col0, #T_91cef_row6_col1, #T_91cef_row6_col2, #T_91cef_row6_col3, #T_91cef_row6_col4, #T_91cef_row6_col5, #T_91cef_row6_col6, #T_91cef_row7_col0, #T_91cef_row7_col1, #T_91cef_row7_col2, #T_91cef_row7_col3, #T_91cef_row7_col4, #T_91cef_row7_col5, #T_91cef_row7_col6, #T_91cef_row8_col0, #T_91cef_row8_col1, #T_91cef_row8_col2, #T_91cef_row8_col3, #T_91cef_row8_col4, #T_91cef_row8_col5, #T_91cef_row8_col6, #T_91cef_row9_col0, #T_91cef_row9_col1, #T_91cef_row9_col2, #T_91cef_row9_col3, #T_91cef_row9_col4, #T_91cef_row9_col5, #T_91cef_row9_col6, #T_91cef_row10_col0, #T_91cef_row10_col1, #T_91cef_row10_col2, #T_91cef_row10_col3, #T_91cef_row10_col4, #T_91cef_row10_col5, #T_91cef_row10_col6, #T_91cef_row11_col0, #T_91cef_row11_col1, #T_91cef_row11_col2, #T_91cef_row11_col3, #T_91cef_row11_col4, #T_91cef_row11_col5, #T_91cef_row11_col6, #T_91cef_row12_col0, #T_91cef_row12_col1, #T_91cef_row12_col2, #T_91cef_row12_col3, #T_91cef_row12_col4, #T_91cef_row12_col5, #T_91cef_row12_col6, #T_91cef_row13_col0, #T_91cef_row13_col1, #T_91cef_row13_col2, #T_91cef_row13_col3, #T_91cef_row13_col4, #T_91cef_row13_col5, #T_91cef_row13_col6, #T_91cef_row14_col0, #T_91cef_row14_col1, #T_91cef_row14_col2, #T_91cef_row14_col3, #T_91cef_row14_col4, #T_91cef_row14_col5, #T_91cef_row14_col6, #T_91cef_row15_col0, #T_91cef_row15_col1, #T_91cef_row15_col2, #T_91cef_row15_col3, #T_91cef_row15_col4, #T_91cef_row15_col5, #T_91cef_row15_col6, #T_91cef_row16_col0, #T_91cef_row16_col1, #T_91cef_row16_col2, #T_91cef_row16_col3, #T_91cef_row16_col4, #T_91cef_row16_col5, #T_91cef_row16_col6, #T_91cef_row17_col0, #T_91cef_row17_col1, #T_91cef_row17_col2, #T_91cef_row17_col3, #T_91cef_row17_col4, #T_91cef_row17_col5, #T_91cef_row17_col6 {\n",
       "  text-align: left;\n",
       "}\n",
       "#T_91cef_row0_col1, #T_91cef_row0_col2, #T_91cef_row0_col3, #T_91cef_row0_col4, #T_91cef_row0_col5, #T_91cef_row0_col6 {\n",
       "  text-align: left;\n",
       "  background-color: yellow;\n",
       "}\n",
       "#T_91cef_row0_col7, #T_91cef_row1_col7, #T_91cef_row2_col7, #T_91cef_row3_col7, #T_91cef_row4_col7, #T_91cef_row5_col7, #T_91cef_row6_col7, #T_91cef_row7_col7, #T_91cef_row8_col7, #T_91cef_row9_col7, #T_91cef_row10_col7, #T_91cef_row11_col7, #T_91cef_row12_col7, #T_91cef_row13_col7, #T_91cef_row14_col7, #T_91cef_row16_col7, #T_91cef_row17_col7 {\n",
       "  text-align: left;\n",
       "  background-color: lightgrey;\n",
       "}\n",
       "#T_91cef_row15_col7 {\n",
       "  text-align: left;\n",
       "  background-color: yellow;\n",
       "  background-color: lightgrey;\n",
       "}\n",
       "</style>\n",
       "<table id=\"T_91cef\">\n",
       "  <thead>\n",
       "    <tr>\n",
       "      <th class=\"blank level0\" >&nbsp;</th>\n",
       "      <th id=\"T_91cef_level0_col0\" class=\"col_heading level0 col0\" >Model</th>\n",
       "      <th id=\"T_91cef_level0_col1\" class=\"col_heading level0 col1\" >MAE</th>\n",
       "      <th id=\"T_91cef_level0_col2\" class=\"col_heading level0 col2\" >MSE</th>\n",
       "      <th id=\"T_91cef_level0_col3\" class=\"col_heading level0 col3\" >RMSE</th>\n",
       "      <th id=\"T_91cef_level0_col4\" class=\"col_heading level0 col4\" >R2</th>\n",
       "      <th id=\"T_91cef_level0_col5\" class=\"col_heading level0 col5\" >RMSLE</th>\n",
       "      <th id=\"T_91cef_level0_col6\" class=\"col_heading level0 col6\" >MAPE</th>\n",
       "      <th id=\"T_91cef_level0_col7\" class=\"col_heading level0 col7\" >TT (Sec)</th>\n",
       "    </tr>\n",
       "  </thead>\n",
       "  <tbody>\n",
       "    <tr>\n",
       "      <th id=\"T_91cef_level0_row0\" class=\"row_heading level0 row0\" >gbr</th>\n",
       "      <td id=\"T_91cef_row0_col0\" class=\"data row0 col0\" >Gradient Boosting Regressor</td>\n",
       "      <td id=\"T_91cef_row0_col1\" class=\"data row0 col1\" >1367.0623</td>\n",
       "      <td id=\"T_91cef_row0_col2\" class=\"data row0 col2\" >3597053.2110</td>\n",
       "      <td id=\"T_91cef_row0_col3\" class=\"data row0 col3\" >1896.1070</td>\n",
       "      <td id=\"T_91cef_row0_col4\" class=\"data row0 col4\" >0.9391</td>\n",
       "      <td id=\"T_91cef_row0_col5\" class=\"data row0 col5\" >0.1168</td>\n",
       "      <td id=\"T_91cef_row0_col6\" class=\"data row0 col6\" >0.0885</td>\n",
       "      <td id=\"T_91cef_row0_col7\" class=\"data row0 col7\" >1.0020</td>\n",
       "    </tr>\n",
       "    <tr>\n",
       "      <th id=\"T_91cef_level0_row1\" class=\"row_heading level0 row1\" >lightgbm</th>\n",
       "      <td id=\"T_91cef_row1_col0\" class=\"data row1 col0\" >Light Gradient Boosting Machine</td>\n",
       "      <td id=\"T_91cef_row1_col1\" class=\"data row1 col1\" >1661.7076</td>\n",
       "      <td id=\"T_91cef_row1_col2\" class=\"data row1 col2\" >5165177.0166</td>\n",
       "      <td id=\"T_91cef_row1_col3\" class=\"data row1 col3\" >2272.1964</td>\n",
       "      <td id=\"T_91cef_row1_col4\" class=\"data row1 col4\" >0.9125</td>\n",
       "      <td id=\"T_91cef_row1_col5\" class=\"data row1 col5\" >0.1455</td>\n",
       "      <td id=\"T_91cef_row1_col6\" class=\"data row1 col6\" >0.1125</td>\n",
       "      <td id=\"T_91cef_row1_col7\" class=\"data row1 col7\" >1.2370</td>\n",
       "    </tr>\n",
       "    <tr>\n",
       "      <th id=\"T_91cef_level0_row2\" class=\"row_heading level0 row2\" >et</th>\n",
       "      <td id=\"T_91cef_row2_col0\" class=\"data row2 col0\" >Extra Trees Regressor</td>\n",
       "      <td id=\"T_91cef_row2_col1\" class=\"data row2 col1\" >1736.9214</td>\n",
       "      <td id=\"T_91cef_row2_col2\" class=\"data row2 col2\" >5525225.3719</td>\n",
       "      <td id=\"T_91cef_row2_col3\" class=\"data row2 col3\" >2349.3568</td>\n",
       "      <td id=\"T_91cef_row2_col4\" class=\"data row2 col4\" >0.9065</td>\n",
       "      <td id=\"T_91cef_row2_col5\" class=\"data row2 col5\" >0.1429</td>\n",
       "      <td id=\"T_91cef_row2_col6\" class=\"data row2 col6\" >0.1150</td>\n",
       "      <td id=\"T_91cef_row2_col7\" class=\"data row2 col7\" >1.0620</td>\n",
       "    </tr>\n",
       "    <tr>\n",
       "      <th id=\"T_91cef_level0_row3\" class=\"row_heading level0 row3\" >lr</th>\n",
       "      <td id=\"T_91cef_row3_col0\" class=\"data row3 col0\" >Linear Regression</td>\n",
       "      <td id=\"T_91cef_row3_col1\" class=\"data row3 col1\" >1932.9516</td>\n",
       "      <td id=\"T_91cef_row3_col2\" class=\"data row3 col2\" >7538003.9311</td>\n",
       "      <td id=\"T_91cef_row3_col3\" class=\"data row3 col3\" >2744.9745</td>\n",
       "      <td id=\"T_91cef_row3_col4\" class=\"data row3 col4\" >0.8724</td>\n",
       "      <td id=\"T_91cef_row3_col5\" class=\"data row3 col5\" >0.2323</td>\n",
       "      <td id=\"T_91cef_row3_col6\" class=\"data row3 col6\" >0.1345</td>\n",
       "      <td id=\"T_91cef_row3_col7\" class=\"data row3 col7\" >1.9280</td>\n",
       "    </tr>\n",
       "    <tr>\n",
       "      <th id=\"T_91cef_level0_row4\" class=\"row_heading level0 row4\" >lasso</th>\n",
       "      <td id=\"T_91cef_row4_col0\" class=\"data row4 col0\" >Lasso Regression</td>\n",
       "      <td id=\"T_91cef_row4_col1\" class=\"data row4 col1\" >1933.3515</td>\n",
       "      <td id=\"T_91cef_row4_col2\" class=\"data row4 col2\" >7536881.5663</td>\n",
       "      <td id=\"T_91cef_row4_col3\" class=\"data row4 col3\" >2744.7546</td>\n",
       "      <td id=\"T_91cef_row4_col4\" class=\"data row4 col4\" >0.8724</td>\n",
       "      <td id=\"T_91cef_row4_col5\" class=\"data row4 col5\" >0.2335</td>\n",
       "      <td id=\"T_91cef_row4_col6\" class=\"data row4 col6\" >0.1346</td>\n",
       "      <td id=\"T_91cef_row4_col7\" class=\"data row4 col7\" >1.0080</td>\n",
       "    </tr>\n",
       "    <tr>\n",
       "      <th id=\"T_91cef_level0_row5\" class=\"row_heading level0 row5\" >ridge</th>\n",
       "      <td id=\"T_91cef_row5_col0\" class=\"data row5 col0\" >Ridge Regression</td>\n",
       "      <td id=\"T_91cef_row5_col1\" class=\"data row5 col1\" >1933.4268</td>\n",
       "      <td id=\"T_91cef_row5_col2\" class=\"data row5 col2\" >7537120.0419</td>\n",
       "      <td id=\"T_91cef_row5_col3\" class=\"data row5 col3\" >2744.8118</td>\n",
       "      <td id=\"T_91cef_row5_col4\" class=\"data row5 col4\" >0.8724</td>\n",
       "      <td id=\"T_91cef_row5_col5\" class=\"data row5 col5\" >0.2340</td>\n",
       "      <td id=\"T_91cef_row5_col6\" class=\"data row5 col6\" >0.1346</td>\n",
       "      <td id=\"T_91cef_row5_col7\" class=\"data row5 col7\" >1.5460</td>\n",
       "    </tr>\n",
       "    <tr>\n",
       "      <th id=\"T_91cef_level0_row6\" class=\"row_heading level0 row6\" >lar</th>\n",
       "      <td id=\"T_91cef_row6_col0\" class=\"data row6 col0\" >Least Angle Regression</td>\n",
       "      <td id=\"T_91cef_row6_col1\" class=\"data row6 col1\" >1932.9516</td>\n",
       "      <td id=\"T_91cef_row6_col2\" class=\"data row6 col2\" >7538003.9311</td>\n",
       "      <td id=\"T_91cef_row6_col3\" class=\"data row6 col3\" >2744.9745</td>\n",
       "      <td id=\"T_91cef_row6_col4\" class=\"data row6 col4\" >0.8724</td>\n",
       "      <td id=\"T_91cef_row6_col5\" class=\"data row6 col5\" >0.2323</td>\n",
       "      <td id=\"T_91cef_row6_col6\" class=\"data row6 col6\" >0.1345</td>\n",
       "      <td id=\"T_91cef_row6_col7\" class=\"data row6 col7\" >1.4230</td>\n",
       "    </tr>\n",
       "    <tr>\n",
       "      <th id=\"T_91cef_level0_row7\" class=\"row_heading level0 row7\" >br</th>\n",
       "      <td id=\"T_91cef_row7_col0\" class=\"data row7 col0\" >Bayesian Ridge</td>\n",
       "      <td id=\"T_91cef_row7_col1\" class=\"data row7 col1\" >1933.1981</td>\n",
       "      <td id=\"T_91cef_row7_col2\" class=\"data row7 col2\" >7537696.0345</td>\n",
       "      <td id=\"T_91cef_row7_col3\" class=\"data row7 col3\" >2744.9176</td>\n",
       "      <td id=\"T_91cef_row7_col4\" class=\"data row7 col4\" >0.8724</td>\n",
       "      <td id=\"T_91cef_row7_col5\" class=\"data row7 col5\" >0.2332</td>\n",
       "      <td id=\"T_91cef_row7_col6\" class=\"data row7 col6\" >0.1346</td>\n",
       "      <td id=\"T_91cef_row7_col7\" class=\"data row7 col7\" >1.0180</td>\n",
       "    </tr>\n",
       "    <tr>\n",
       "      <th id=\"T_91cef_level0_row8\" class=\"row_heading level0 row8\" >llar</th>\n",
       "      <td id=\"T_91cef_row8_col0\" class=\"data row8 col0\" >Lasso Least Angle Regression</td>\n",
       "      <td id=\"T_91cef_row8_col1\" class=\"data row8 col1\" >1932.5634</td>\n",
       "      <td id=\"T_91cef_row8_col2\" class=\"data row8 col2\" >7662766.9569</td>\n",
       "      <td id=\"T_91cef_row8_col3\" class=\"data row8 col3\" >2767.4688</td>\n",
       "      <td id=\"T_91cef_row8_col4\" class=\"data row8 col4\" >0.8703</td>\n",
       "      <td id=\"T_91cef_row8_col5\" class=\"data row8 col5\" >0.2164</td>\n",
       "      <td id=\"T_91cef_row8_col6\" class=\"data row8 col6\" >0.1311</td>\n",
       "      <td id=\"T_91cef_row8_col7\" class=\"data row8 col7\" >1.0770</td>\n",
       "    </tr>\n",
       "    <tr>\n",
       "      <th id=\"T_91cef_level0_row9\" class=\"row_heading level0 row9\" >ada</th>\n",
       "      <td id=\"T_91cef_row9_col0\" class=\"data row9 col0\" >AdaBoost Regressor</td>\n",
       "      <td id=\"T_91cef_row9_col1\" class=\"data row9 col1\" >2527.5266</td>\n",
       "      <td id=\"T_91cef_row9_col2\" class=\"data row9 col2\" >9323144.7254</td>\n",
       "      <td id=\"T_91cef_row9_col3\" class=\"data row9 col3\" >3052.5414</td>\n",
       "      <td id=\"T_91cef_row9_col4\" class=\"data row9 col4\" >0.8419</td>\n",
       "      <td id=\"T_91cef_row9_col5\" class=\"data row9 col5\" >0.2352</td>\n",
       "      <td id=\"T_91cef_row9_col6\" class=\"data row9 col6\" >0.2044</td>\n",
       "      <td id=\"T_91cef_row9_col7\" class=\"data row9 col7\" >1.0050</td>\n",
       "    </tr>\n",
       "    <tr>\n",
       "      <th id=\"T_91cef_level0_row10\" class=\"row_heading level0 row10\" >rf</th>\n",
       "      <td id=\"T_91cef_row10_col0\" class=\"data row10 col0\" >Random Forest Regressor</td>\n",
       "      <td id=\"T_91cef_row10_col1\" class=\"data row10 col1\" >2369.6809</td>\n",
       "      <td id=\"T_91cef_row10_col2\" class=\"data row10 col2\" >9404878.2683</td>\n",
       "      <td id=\"T_91cef_row10_col3\" class=\"data row10 col3\" >3065.3069</td>\n",
       "      <td id=\"T_91cef_row10_col4\" class=\"data row10 col4\" >0.8407</td>\n",
       "      <td id=\"T_91cef_row10_col5\" class=\"data row10 col5\" >0.2067</td>\n",
       "      <td id=\"T_91cef_row10_col6\" class=\"data row10 col6\" >0.1701</td>\n",
       "      <td id=\"T_91cef_row10_col7\" class=\"data row10 col7\" >1.0400</td>\n",
       "    </tr>\n",
       "    <tr>\n",
       "      <th id=\"T_91cef_level0_row11\" class=\"row_heading level0 row11\" >en</th>\n",
       "      <td id=\"T_91cef_row11_col0\" class=\"data row11 col0\" >Elastic Net</td>\n",
       "      <td id=\"T_91cef_row11_col1\" class=\"data row11 col1\" >2405.2074</td>\n",
       "      <td id=\"T_91cef_row11_col2\" class=\"data row11 col2\" >10939040.9714</td>\n",
       "      <td id=\"T_91cef_row11_col3\" class=\"data row11 col3\" >3306.0483</td>\n",
       "      <td id=\"T_91cef_row11_col4\" class=\"data row11 col4\" >0.8147</td>\n",
       "      <td id=\"T_91cef_row11_col5\" class=\"data row11 col5\" >0.2453</td>\n",
       "      <td id=\"T_91cef_row11_col6\" class=\"data row11 col6\" >0.1585</td>\n",
       "      <td id=\"T_91cef_row11_col7\" class=\"data row11 col7\" >2.0270</td>\n",
       "    </tr>\n",
       "    <tr>\n",
       "      <th id=\"T_91cef_level0_row12\" class=\"row_heading level0 row12\" >knn</th>\n",
       "      <td id=\"T_91cef_row12_col0\" class=\"data row12 col0\" >K Neighbors Regressor</td>\n",
       "      <td id=\"T_91cef_row12_col1\" class=\"data row12 col1\" >2429.7956</td>\n",
       "      <td id=\"T_91cef_row12_col2\" class=\"data row12 col2\" >11235840.1535</td>\n",
       "      <td id=\"T_91cef_row12_col3\" class=\"data row12 col3\" >3351.3531</td>\n",
       "      <td id=\"T_91cef_row12_col4\" class=\"data row12 col4\" >0.8094</td>\n",
       "      <td id=\"T_91cef_row12_col5\" class=\"data row12 col5\" >0.2064</td>\n",
       "      <td id=\"T_91cef_row12_col6\" class=\"data row12 col6\" >0.1584</td>\n",
       "      <td id=\"T_91cef_row12_col7\" class=\"data row12 col7\" >1.0200</td>\n",
       "    </tr>\n",
       "    <tr>\n",
       "      <th id=\"T_91cef_level0_row13\" class=\"row_heading level0 row13\" >dt</th>\n",
       "      <td id=\"T_91cef_row13_col0\" class=\"data row13 col0\" >Decision Tree Regressor</td>\n",
       "      <td id=\"T_91cef_row13_col1\" class=\"data row13 col1\" >2602.7273</td>\n",
       "      <td id=\"T_91cef_row13_col2\" class=\"data row13 col2\" >11980270.2450</td>\n",
       "      <td id=\"T_91cef_row13_col3\" class=\"data row13 col3\" >3458.8760</td>\n",
       "      <td id=\"T_91cef_row13_col4\" class=\"data row13 col4\" >0.7971</td>\n",
       "      <td id=\"T_91cef_row13_col5\" class=\"data row13 col5\" >0.2311</td>\n",
       "      <td id=\"T_91cef_row13_col6\" class=\"data row13 col6\" >0.1877</td>\n",
       "      <td id=\"T_91cef_row13_col7\" class=\"data row13 col7\" >0.9990</td>\n",
       "    </tr>\n",
       "    <tr>\n",
       "      <th id=\"T_91cef_level0_row14\" class=\"row_heading level0 row14\" >huber</th>\n",
       "      <td id=\"T_91cef_row14_col0\" class=\"data row14 col0\" >Huber Regressor</td>\n",
       "      <td id=\"T_91cef_row14_col1\" class=\"data row14 col1\" >2540.5764</td>\n",
       "      <td id=\"T_91cef_row14_col2\" class=\"data row14 col2\" >14470224.5972</td>\n",
       "      <td id=\"T_91cef_row14_col3\" class=\"data row14 col3\" >3796.4726</td>\n",
       "      <td id=\"T_91cef_row14_col4\" class=\"data row14 col4\" >0.7552</td>\n",
       "      <td id=\"T_91cef_row14_col5\" class=\"data row14 col5\" >0.3237</td>\n",
       "      <td id=\"T_91cef_row14_col6\" class=\"data row14 col6\" >0.1674</td>\n",
       "      <td id=\"T_91cef_row14_col7\" class=\"data row14 col7\" >1.0690</td>\n",
       "    </tr>\n",
       "    <tr>\n",
       "      <th id=\"T_91cef_level0_row15\" class=\"row_heading level0 row15\" >omp</th>\n",
       "      <td id=\"T_91cef_row15_col0\" class=\"data row15 col0\" >Orthogonal Matching Pursuit</td>\n",
       "      <td id=\"T_91cef_row15_col1\" class=\"data row15 col1\" >3977.6364</td>\n",
       "      <td id=\"T_91cef_row15_col2\" class=\"data row15 col2\" >28094641.9813</td>\n",
       "      <td id=\"T_91cef_row15_col3\" class=\"data row15 col3\" >5299.2954</td>\n",
       "      <td id=\"T_91cef_row15_col4\" class=\"data row15 col4\" >0.5243</td>\n",
       "      <td id=\"T_91cef_row15_col5\" class=\"data row15 col5\" >0.3324</td>\n",
       "      <td id=\"T_91cef_row15_col6\" class=\"data row15 col6\" >0.2878</td>\n",
       "      <td id=\"T_91cef_row15_col7\" class=\"data row15 col7\" >0.9860</td>\n",
       "    </tr>\n",
       "    <tr>\n",
       "      <th id=\"T_91cef_level0_row16\" class=\"row_heading level0 row16\" >par</th>\n",
       "      <td id=\"T_91cef_row16_col0\" class=\"data row16 col0\" >Passive Aggressive Regressor</td>\n",
       "      <td id=\"T_91cef_row16_col1\" class=\"data row16 col1\" >4352.4686</td>\n",
       "      <td id=\"T_91cef_row16_col2\" class=\"data row16 col2\" >33993307.8898</td>\n",
       "      <td id=\"T_91cef_row16_col3\" class=\"data row16 col3\" >5664.5014</td>\n",
       "      <td id=\"T_91cef_row16_col4\" class=\"data row16 col4\" >0.4139</td>\n",
       "      <td id=\"T_91cef_row16_col5\" class=\"data row16 col5\" >0.4408</td>\n",
       "      <td id=\"T_91cef_row16_col6\" class=\"data row16 col6\" >0.3502</td>\n",
       "      <td id=\"T_91cef_row16_col7\" class=\"data row16 col7\" >1.0270</td>\n",
       "    </tr>\n",
       "    <tr>\n",
       "      <th id=\"T_91cef_level0_row17\" class=\"row_heading level0 row17\" >dummy</th>\n",
       "      <td id=\"T_91cef_row17_col0\" class=\"data row17 col0\" >Dummy Regressor</td>\n",
       "      <td id=\"T_91cef_row17_col1\" class=\"data row17 col1\" >6023.5288</td>\n",
       "      <td id=\"T_91cef_row17_col2\" class=\"data row17 col2\" >59201519.8652</td>\n",
       "      <td id=\"T_91cef_row17_col3\" class=\"data row17 col3\" >7692.0516</td>\n",
       "      <td id=\"T_91cef_row17_col4\" class=\"data row17 col4\" >-0.0012</td>\n",
       "      <td id=\"T_91cef_row17_col5\" class=\"data row17 col5\" >0.4745</td>\n",
       "      <td id=\"T_91cef_row17_col6\" class=\"data row17 col6\" >0.4641</td>\n",
       "      <td id=\"T_91cef_row17_col7\" class=\"data row17 col7\" >0.9990</td>\n",
       "    </tr>\n",
       "  </tbody>\n",
       "</table>\n"
      ],
      "text/plain": [
       "<pandas.io.formats.style.Styler at 0x205a7197f70>"
      ]
     },
     "metadata": {},
     "output_type": "display_data"
    },
    {
     "data": {
      "application/vnd.jupyter.widget-view+json": {
       "model_id": "",
       "version_major": 2,
       "version_minor": 0
      },
      "text/plain": [
       "Processing:   0%|          | 0/77 [00:00<?, ?it/s]"
      ]
     },
     "metadata": {},
     "output_type": "display_data"
    }
   ],
   "source": [
    "best_model = compare_models()"
   ]
  },
  {
   "cell_type": "markdown",
   "metadata": {},
   "source": [
    "##### Verificando o retorno da função."
   ]
  },
  {
   "cell_type": "code",
   "execution_count": 48,
   "metadata": {
    "tags": []
   },
   "outputs": [
    {
     "name": "stdout",
     "output_type": "stream",
     "text": [
      "KNeighborsRegressor(n_jobs=-1)\n"
     ]
    }
   ],
   "source": [
    "print(best_model)"
   ]
  },
  {
   "cell_type": "markdown",
   "metadata": {
    "colab_type": "text",
    "id": "P5m2pciOEQo4"
   },
   "source": [
    "# Criando o Modelo"
   ]
  },
  {
   "cell_type": "markdown",
   "metadata": {
    "colab_type": "text",
    "id": "u_6cIilfEQo7"
   },
   "source": [
    "Esta função treina o modelo especificado utilizando cross validation e retorna suas métricas."
   ]
  },
  {
   "cell_type": "code",
   "execution_count": 49,
   "metadata": {
    "colab": {
     "base_uri": "https://localhost:8080/",
     "height": 392
    },
    "colab_type": "code",
    "id": "LP896uSIEQpD",
    "outputId": "d6d31562-feb5-4052-ee23-0a444fecaacf",
    "tags": []
   },
   "outputs": [
    {
     "data": {
      "text/html": [],
      "text/plain": [
       "<IPython.core.display.HTML object>"
      ]
     },
     "metadata": {},
     "output_type": "display_data"
    },
    {
     "data": {
      "text/html": [
       "<style type=\"text/css\">\n",
       "#T_b7b91_row10_col0, #T_b7b91_row10_col1, #T_b7b91_row10_col2, #T_b7b91_row10_col3, #T_b7b91_row10_col4, #T_b7b91_row10_col5 {\n",
       "  background: yellow;\n",
       "}\n",
       "</style>\n",
       "<table id=\"T_b7b91\">\n",
       "  <thead>\n",
       "    <tr>\n",
       "      <th class=\"blank level0\" >&nbsp;</th>\n",
       "      <th id=\"T_b7b91_level0_col0\" class=\"col_heading level0 col0\" >MAE</th>\n",
       "      <th id=\"T_b7b91_level0_col1\" class=\"col_heading level0 col1\" >MSE</th>\n",
       "      <th id=\"T_b7b91_level0_col2\" class=\"col_heading level0 col2\" >RMSE</th>\n",
       "      <th id=\"T_b7b91_level0_col3\" class=\"col_heading level0 col3\" >R2</th>\n",
       "      <th id=\"T_b7b91_level0_col4\" class=\"col_heading level0 col4\" >RMSLE</th>\n",
       "      <th id=\"T_b7b91_level0_col5\" class=\"col_heading level0 col5\" >MAPE</th>\n",
       "    </tr>\n",
       "    <tr>\n",
       "      <th class=\"index_name level0\" >Fold</th>\n",
       "      <th class=\"blank col0\" >&nbsp;</th>\n",
       "      <th class=\"blank col1\" >&nbsp;</th>\n",
       "      <th class=\"blank col2\" >&nbsp;</th>\n",
       "      <th class=\"blank col3\" >&nbsp;</th>\n",
       "      <th class=\"blank col4\" >&nbsp;</th>\n",
       "      <th class=\"blank col5\" >&nbsp;</th>\n",
       "    </tr>\n",
       "  </thead>\n",
       "  <tbody>\n",
       "    <tr>\n",
       "      <th id=\"T_b7b91_level0_row0\" class=\"row_heading level0 row0\" >0</th>\n",
       "      <td id=\"T_b7b91_row0_col0\" class=\"data row0 col0\" >1213.7679</td>\n",
       "      <td id=\"T_b7b91_row0_col1\" class=\"data row0 col1\" >3445683.8314</td>\n",
       "      <td id=\"T_b7b91_row0_col2\" class=\"data row0 col2\" >1856.2553</td>\n",
       "      <td id=\"T_b7b91_row0_col3\" class=\"data row0 col3\" >0.9429</td>\n",
       "      <td id=\"T_b7b91_row0_col4\" class=\"data row0 col4\" >0.1048</td>\n",
       "      <td id=\"T_b7b91_row0_col5\" class=\"data row0 col5\" >0.0764</td>\n",
       "    </tr>\n",
       "    <tr>\n",
       "      <th id=\"T_b7b91_level0_row1\" class=\"row_heading level0 row1\" >1</th>\n",
       "      <td id=\"T_b7b91_row1_col0\" class=\"data row1 col0\" >1214.6330</td>\n",
       "      <td id=\"T_b7b91_row1_col1\" class=\"data row1 col1\" >3639902.7155</td>\n",
       "      <td id=\"T_b7b91_row1_col2\" class=\"data row1 col2\" >1907.8529</td>\n",
       "      <td id=\"T_b7b91_row1_col3\" class=\"data row1 col3\" >0.9369</td>\n",
       "      <td id=\"T_b7b91_row1_col4\" class=\"data row1 col4\" >0.1088</td>\n",
       "      <td id=\"T_b7b91_row1_col5\" class=\"data row1 col5\" >0.0726</td>\n",
       "    </tr>\n",
       "    <tr>\n",
       "      <th id=\"T_b7b91_level0_row2\" class=\"row_heading level0 row2\" >2</th>\n",
       "      <td id=\"T_b7b91_row2_col0\" class=\"data row2 col0\" >1235.9990</td>\n",
       "      <td id=\"T_b7b91_row2_col1\" class=\"data row2 col1\" >3702765.3612</td>\n",
       "      <td id=\"T_b7b91_row2_col2\" class=\"data row2 col2\" >1924.2571</td>\n",
       "      <td id=\"T_b7b91_row2_col3\" class=\"data row2 col3\" >0.9395</td>\n",
       "      <td id=\"T_b7b91_row2_col4\" class=\"data row2 col4\" >0.0979</td>\n",
       "      <td id=\"T_b7b91_row2_col5\" class=\"data row2 col5\" >0.0713</td>\n",
       "    </tr>\n",
       "    <tr>\n",
       "      <th id=\"T_b7b91_level0_row3\" class=\"row_heading level0 row3\" >3</th>\n",
       "      <td id=\"T_b7b91_row3_col0\" class=\"data row3 col0\" >1284.7712</td>\n",
       "      <td id=\"T_b7b91_row3_col1\" class=\"data row3 col1\" >3727503.5342</td>\n",
       "      <td id=\"T_b7b91_row3_col2\" class=\"data row3 col2\" >1930.6744</td>\n",
       "      <td id=\"T_b7b91_row3_col3\" class=\"data row3 col3\" >0.9416</td>\n",
       "      <td id=\"T_b7b91_row3_col4\" class=\"data row3 col4\" >0.1138</td>\n",
       "      <td id=\"T_b7b91_row3_col5\" class=\"data row3 col5\" >0.0821</td>\n",
       "    </tr>\n",
       "    <tr>\n",
       "      <th id=\"T_b7b91_level0_row4\" class=\"row_heading level0 row4\" >4</th>\n",
       "      <td id=\"T_b7b91_row4_col0\" class=\"data row4 col0\" >1261.5983</td>\n",
       "      <td id=\"T_b7b91_row4_col1\" class=\"data row4 col1\" >3423574.4050</td>\n",
       "      <td id=\"T_b7b91_row4_col2\" class=\"data row4 col2\" >1850.2904</td>\n",
       "      <td id=\"T_b7b91_row4_col3\" class=\"data row4 col3\" >0.9403</td>\n",
       "      <td id=\"T_b7b91_row4_col4\" class=\"data row4 col4\" >0.1163</td>\n",
       "      <td id=\"T_b7b91_row4_col5\" class=\"data row4 col5\" >0.0796</td>\n",
       "    </tr>\n",
       "    <tr>\n",
       "      <th id=\"T_b7b91_level0_row5\" class=\"row_heading level0 row5\" >5</th>\n",
       "      <td id=\"T_b7b91_row5_col0\" class=\"data row5 col0\" >1142.6231</td>\n",
       "      <td id=\"T_b7b91_row5_col1\" class=\"data row5 col1\" >2822019.3417</td>\n",
       "      <td id=\"T_b7b91_row5_col2\" class=\"data row5 col2\" >1679.8867</td>\n",
       "      <td id=\"T_b7b91_row5_col3\" class=\"data row5 col3\" >0.9475</td>\n",
       "      <td id=\"T_b7b91_row5_col4\" class=\"data row5 col4\" >0.1027</td>\n",
       "      <td id=\"T_b7b91_row5_col5\" class=\"data row5 col5\" >0.0741</td>\n",
       "    </tr>\n",
       "    <tr>\n",
       "      <th id=\"T_b7b91_level0_row6\" class=\"row_heading level0 row6\" >6</th>\n",
       "      <td id=\"T_b7b91_row6_col0\" class=\"data row6 col0\" >1211.7253</td>\n",
       "      <td id=\"T_b7b91_row6_col1\" class=\"data row6 col1\" >3531818.8912</td>\n",
       "      <td id=\"T_b7b91_row6_col2\" class=\"data row6 col2\" >1879.3134</td>\n",
       "      <td id=\"T_b7b91_row6_col3\" class=\"data row6 col3\" >0.9424</td>\n",
       "      <td id=\"T_b7b91_row6_col4\" class=\"data row6 col4\" >0.0994</td>\n",
       "      <td id=\"T_b7b91_row6_col5\" class=\"data row6 col5\" >0.0742</td>\n",
       "    </tr>\n",
       "    <tr>\n",
       "      <th id=\"T_b7b91_level0_row7\" class=\"row_heading level0 row7\" >7</th>\n",
       "      <td id=\"T_b7b91_row7_col0\" class=\"data row7 col0\" >1199.2835</td>\n",
       "      <td id=\"T_b7b91_row7_col1\" class=\"data row7 col1\" >3024627.2129</td>\n",
       "      <td id=\"T_b7b91_row7_col2\" class=\"data row7 col2\" >1739.1455</td>\n",
       "      <td id=\"T_b7b91_row7_col3\" class=\"data row7 col3\" >0.9460</td>\n",
       "      <td id=\"T_b7b91_row7_col4\" class=\"data row7 col4\" >0.1014</td>\n",
       "      <td id=\"T_b7b91_row7_col5\" class=\"data row7 col5\" >0.0741</td>\n",
       "    </tr>\n",
       "    <tr>\n",
       "      <th id=\"T_b7b91_level0_row8\" class=\"row_heading level0 row8\" >8</th>\n",
       "      <td id=\"T_b7b91_row8_col0\" class=\"data row8 col0\" >1216.9905</td>\n",
       "      <td id=\"T_b7b91_row8_col1\" class=\"data row8 col1\" >3298365.3344</td>\n",
       "      <td id=\"T_b7b91_row8_col2\" class=\"data row8 col2\" >1816.1402</td>\n",
       "      <td id=\"T_b7b91_row8_col3\" class=\"data row8 col3\" >0.9458</td>\n",
       "      <td id=\"T_b7b91_row8_col4\" class=\"data row8 col4\" >0.1059</td>\n",
       "      <td id=\"T_b7b91_row8_col5\" class=\"data row8 col5\" >0.0753</td>\n",
       "    </tr>\n",
       "    <tr>\n",
       "      <th id=\"T_b7b91_level0_row9\" class=\"row_heading level0 row9\" >9</th>\n",
       "      <td id=\"T_b7b91_row9_col0\" class=\"data row9 col0\" >1254.5892</td>\n",
       "      <td id=\"T_b7b91_row9_col1\" class=\"data row9 col1\" >3748101.6747</td>\n",
       "      <td id=\"T_b7b91_row9_col2\" class=\"data row9 col2\" >1936.0015</td>\n",
       "      <td id=\"T_b7b91_row9_col3\" class=\"data row9 col3\" >0.9364</td>\n",
       "      <td id=\"T_b7b91_row9_col4\" class=\"data row9 col4\" >0.1126</td>\n",
       "      <td id=\"T_b7b91_row9_col5\" class=\"data row9 col5\" >0.0803</td>\n",
       "    </tr>\n",
       "    <tr>\n",
       "      <th id=\"T_b7b91_level0_row10\" class=\"row_heading level0 row10\" >Mean</th>\n",
       "      <td id=\"T_b7b91_row10_col0\" class=\"data row10 col0\" >1223.5981</td>\n",
       "      <td id=\"T_b7b91_row10_col1\" class=\"data row10 col1\" >3436436.2302</td>\n",
       "      <td id=\"T_b7b91_row10_col2\" class=\"data row10 col2\" >1851.9817</td>\n",
       "      <td id=\"T_b7b91_row10_col3\" class=\"data row10 col3\" >0.9419</td>\n",
       "      <td id=\"T_b7b91_row10_col4\" class=\"data row10 col4\" >0.1064</td>\n",
       "      <td id=\"T_b7b91_row10_col5\" class=\"data row10 col5\" >0.0760</td>\n",
       "    </tr>\n",
       "    <tr>\n",
       "      <th id=\"T_b7b91_level0_row11\" class=\"row_heading level0 row11\" >Std</th>\n",
       "      <td id=\"T_b7b91_row11_col0\" class=\"data row11 col0\" >37.1620</td>\n",
       "      <td id=\"T_b7b91_row11_col1\" class=\"data row11 col1\" >294905.4916</td>\n",
       "      <td id=\"T_b7b91_row11_col2\" class=\"data row11 col2\" >81.2395</td>\n",
       "      <td id=\"T_b7b91_row11_col3\" class=\"data row11 col3\" >0.0036</td>\n",
       "      <td id=\"T_b7b91_row11_col4\" class=\"data row11 col4\" >0.0060</td>\n",
       "      <td id=\"T_b7b91_row11_col5\" class=\"data row11 col5\" >0.0034</td>\n",
       "    </tr>\n",
       "  </tbody>\n",
       "</table>\n"
      ],
      "text/plain": [
       "<pandas.io.formats.style.Styler at 0x1fb4fdfc7c0>"
      ]
     },
     "metadata": {},
     "output_type": "display_data"
    },
    {
     "data": {
      "application/vnd.jupyter.widget-view+json": {
       "model_id": "",
       "version_major": 2,
       "version_minor": 0
      },
      "text/plain": [
       "Processing:   0%|          | 0/4 [00:00<?, ?it/s]"
      ]
     },
     "metadata": {},
     "output_type": "display_data"
    }
   ],
   "source": [
    "model = create_model(best_model)"
   ]
  },
  {
   "cell_type": "markdown",
   "metadata": {},
   "source": [
    "Verificando o objeto criado."
   ]
  },
  {
   "cell_type": "code",
   "execution_count": 50,
   "metadata": {
    "colab": {},
    "colab_type": "code",
    "id": "FRat05yGEQpQ",
    "jupyter": {
     "outputs_hidden": true
    },
    "outputId": "c8e6a190-8bec-4646-d2c8-8a92b129c484",
    "tags": []
   },
   "outputs": [
    {
     "name": "stdout",
     "output_type": "stream",
     "text": [
      "KNeighborsRegressor(n_jobs=-1)\n"
     ]
    }
   ],
   "source": [
    "print(model)"
   ]
  },
  {
   "cell_type": "markdown",
   "metadata": {
    "colab_type": "text",
    "id": "w_P46O0jEQrT"
   },
   "source": [
    "# Exibindo graficamente a performance do modelo"
   ]
  },
  {
   "cell_type": "markdown",
   "metadata": {
    "colab_type": "text",
    "id": "FGM9GOtjEQrV"
   },
   "source": [
    "Com esta função podemos analisar a performance do modelo através de gráficos."
   ]
  },
  {
   "cell_type": "markdown",
   "metadata": {
    "colab_type": "text",
    "id": "_r9rwEw7EQrz"
   },
   "source": [
    "### Residuais Plot"
   ]
  },
  {
   "cell_type": "code",
   "execution_count": 51,
   "metadata": {
    "colab": {},
    "colab_type": "code",
    "id": "nVScSxJ-EQr2",
    "outputId": "f44f4b08-b749-4d0e-dcc9-d7e3dc6240c8",
    "tags": []
   },
   "outputs": [
    {
     "data": {
      "text/html": [],
      "text/plain": [
       "<IPython.core.display.HTML object>"
      ]
     },
     "metadata": {},
     "output_type": "display_data"
    },
    {
     "data": {
      "image/png": "[encoded data removed]",
      "text/plain": [
       "<Figure size 800x550 with 2 Axes>"
      ]
     },
     "metadata": {},
     "output_type": "display_data"
    }
   ],
   "source": [
    "plot_model(model)"
   ]
  },
  {
   "cell_type": "markdown",
   "metadata": {
    "colab_type": "text",
    "id": "_r9rwEw7EQrz"
   },
   "source": [
    "### Error Plot"
   ]
  },
  {
   "cell_type": "code",
   "execution_count": 52,
   "metadata": {},
   "outputs": [
    {
     "data": {
      "text/html": [],
      "text/plain": [
       "<IPython.core.display.HTML object>"
      ]
     },
     "metadata": {},
     "output_type": "display_data"
    },
    {
     "data": {
      "image/png": "[encoded data removed]",
      "text/plain": [
       "<Figure size 800x550 with 1 Axes>"
      ]
     },
     "metadata": {},
     "output_type": "display_data"
    }
   ],
   "source": [
    "plot_model(model, plot = 'error')"
   ]
  },
  {
   "cell_type": "markdown",
   "metadata": {
    "colab_type": "text",
    "id": "deClKJrbEQsJ"
   },
   "source": [
    "A função evaluate_model exibe uma interface o usuário selecionar os gráficos disponíveis para um determinado modelo."
   ]
  },
  {
   "cell_type": "code",
   "execution_count": 53,
   "metadata": {
    "colab": {
     "base_uri": "https://localhost:8080/",
     "height": 436,
     "referenced_widgets": [
      "42d5400d235d40b78190016ef0dabe11",
      "41031579127f4a53b58957e601465083",
      "12bf8b3c6ae8444a900474912589fdf1",
      "9bb3600d38c04691b444ff375ad5e3f5",
      "8886001bc7c1463ba58a8453f5c55073",
      "0a06fb091bd94ce6b6ab892e2c6faadf",
      "3cc1e83b91f34b289c7d52003f20a97a",
      "8d709ec9ec484944b1f9773748857f84",
      "8399e21b17634116861a5abaa9c0ccf7",
      "d5b6fce1763b4b54898ff3397b0f5bb0",
      "57b94ac505d142769b79de2f1e5c1166",
      "2a81017413ca4fe789c2272a5831a069",
      "02771b4dc3284414ab05df1906f4556b",
      "9e338844e75b4e17be8483529f5f38fd",
      "22588a12c0db4067982e62ebbe7e6930"
     ]
    },
    "colab_type": "code",
    "id": "OcLV1Ln6EQsN",
    "jupyter": {
     "outputs_hidden": true
    },
    "outputId": "7b5b8b4e-8d4a-4371-9a4f-cabb0a96265a",
    "tags": []
   },
   "outputs": [
    {
     "data": {
      "application/vnd.jupyter.widget-view+json": {
       "model_id": "4ef8f45ada9d4eb9be9aa83d03bb44ec",
       "version_major": 2,
       "version_minor": 0
      },
      "text/plain": [
       "interactive(children=(ToggleButtons(description='Plot Type:', icons=('',), options=(('Pipeline Plot', 'pipelin…"
      ]
     },
     "metadata": {},
     "output_type": "display_data"
    },
    {
     "data": {
      "image/png": "[encoded data removed]",
      "text/plain": [
       "<Figure size 3700x600 with 1 Axes>"
      ]
     },
     "metadata": {},
     "output_type": "display_data"
    }
   ],
   "source": [
    "evaluate_model(model)"
   ]
  },
  {
   "cell_type": "markdown",
   "metadata": {
    "colab_type": "text",
    "id": "RX5pYUJJEQsV"
   },
   "source": [
    "# Predict utilizando a amostra de teste."
   ]
  },
  {
   "cell_type": "markdown",
   "metadata": {
    "colab_type": "text",
    "id": "mFSvRYiaEQsd"
   },
   "source": [
    "Esta função realiza a predição utilizando o modelo especificado utilizando a amostra separada de teste."
   ]
  },
  {
   "cell_type": "code",
   "execution_count": 54,
   "metadata": {
    "tags": []
   },
   "outputs": [
    {
     "data": {
      "text/html": [
       "<style type=\"text/css\">\n",
       "</style>\n",
       "<table id=\"T_f7dad\">\n",
       "  <thead>\n",
       "    <tr>\n",
       "      <th class=\"blank level0\" >&nbsp;</th>\n",
       "      <th id=\"T_f7dad_level0_col0\" class=\"col_heading level0 col0\" >Model</th>\n",
       "      <th id=\"T_f7dad_level0_col1\" class=\"col_heading level0 col1\" >MAE</th>\n",
       "      <th id=\"T_f7dad_level0_col2\" class=\"col_heading level0 col2\" >MSE</th>\n",
       "      <th id=\"T_f7dad_level0_col3\" class=\"col_heading level0 col3\" >RMSE</th>\n",
       "      <th id=\"T_f7dad_level0_col4\" class=\"col_heading level0 col4\" >R2</th>\n",
       "      <th id=\"T_f7dad_level0_col5\" class=\"col_heading level0 col5\" >RMSLE</th>\n",
       "      <th id=\"T_f7dad_level0_col6\" class=\"col_heading level0 col6\" >MAPE</th>\n",
       "    </tr>\n",
       "  </thead>\n",
       "  <tbody>\n",
       "    <tr>\n",
       "      <th id=\"T_f7dad_level0_row0\" class=\"row_heading level0 row0\" >0</th>\n",
       "      <td id=\"T_f7dad_row0_col0\" class=\"data row0 col0\" >K Neighbors Regressor</td>\n",
       "      <td id=\"T_f7dad_row0_col1\" class=\"data row0 col1\" >16803.7642</td>\n",
       "      <td id=\"T_f7dad_row0_col2\" class=\"data row0 col2\" >340350587.0603</td>\n",
       "      <td id=\"T_f7dad_row0_col3\" class=\"data row0 col3\" >18448.5931</td>\n",
       "      <td id=\"T_f7dad_row0_col4\" class=\"data row0 col4\" >-26374537.8140</td>\n",
       "      <td id=\"T_f7dad_row0_col5\" class=\"data row0 col5\" >6.1540</td>\n",
       "      <td id=\"T_f7dad_row0_col6\" class=\"data row0 col6\" >507.9522</td>\n",
       "    </tr>\n",
       "  </tbody>\n",
       "</table>\n"
      ],
      "text/plain": [
       "<pandas.io.formats.style.Styler at 0x1fb4e72f850>"
      ]
     },
     "metadata": {},
     "output_type": "display_data"
    },
    {
     "data": {
      "text/html": [
       "<div>\n",
       "<style scoped>\n",
       "    .dataframe tbody tr th:only-of-type {\n",
       "        vertical-align: middle;\n",
       "    }\n",
       "\n",
       "    .dataframe tbody tr th {\n",
       "        vertical-align: top;\n",
       "    }\n",
       "\n",
       "    .dataframe thead th {\n",
       "        text-align: right;\n",
       "    }\n",
       "</style>\n",
       "<table border=\"1\" class=\"dataframe\">\n",
       "  <thead>\n",
       "    <tr style=\"text-align: right;\">\n",
       "      <th></th>\n",
       "      <th>model</th>\n",
       "      <th>year</th>\n",
       "      <th>transmission</th>\n",
       "      <th>mileage</th>\n",
       "      <th>fuelType</th>\n",
       "      <th>tax</th>\n",
       "      <th>mpg</th>\n",
       "      <th>engineSize</th>\n",
       "      <th>price</th>\n",
       "      <th>prediction_label</th>\n",
       "    </tr>\n",
       "  </thead>\n",
       "  <tbody>\n",
       "    <tr>\n",
       "      <th>5961</th>\n",
       "      <td>Golf</td>\n",
       "      <td>2016</td>\n",
       "      <td>Semi-Auto</td>\n",
       "      <td>19435</td>\n",
       "      <td>Diesel</td>\n",
       "      <td>30</td>\n",
       "      <td>62.799999</td>\n",
       "      <td>2.0</td>\n",
       "      <td>17142</td>\n",
       "      <td>17794.813952</td>\n",
       "    </tr>\n",
       "    <tr>\n",
       "      <th>12640</th>\n",
       "      <td>Touran</td>\n",
       "      <td>2016</td>\n",
       "      <td>Manual</td>\n",
       "      <td>28304</td>\n",
       "      <td>Diesel</td>\n",
       "      <td>30</td>\n",
       "      <td>64.199997</td>\n",
       "      <td>1.6</td>\n",
       "      <td>15498</td>\n",
       "      <td>14681.566138</td>\n",
       "    </tr>\n",
       "    <tr>\n",
       "      <th>7145</th>\n",
       "      <td>Tiguan</td>\n",
       "      <td>2017</td>\n",
       "      <td>Manual</td>\n",
       "      <td>27897</td>\n",
       "      <td>Diesel</td>\n",
       "      <td>150</td>\n",
       "      <td>58.900002</td>\n",
       "      <td>2.0</td>\n",
       "      <td>17790</td>\n",
       "      <td>18110.385393</td>\n",
       "    </tr>\n",
       "    <tr>\n",
       "      <th>10418</th>\n",
       "      <td>Golf</td>\n",
       "      <td>2015</td>\n",
       "      <td>Automatic</td>\n",
       "      <td>56354</td>\n",
       "      <td>Petrol</td>\n",
       "      <td>200</td>\n",
       "      <td>39.799999</td>\n",
       "      <td>2.0</td>\n",
       "      <td>17199</td>\n",
       "      <td>19245.416668</td>\n",
       "    </tr>\n",
       "    <tr>\n",
       "      <th>5139</th>\n",
       "      <td>Sharan</td>\n",
       "      <td>2016</td>\n",
       "      <td>Manual</td>\n",
       "      <td>45372</td>\n",
       "      <td>Diesel</td>\n",
       "      <td>125</td>\n",
       "      <td>56.500000</td>\n",
       "      <td>2.0</td>\n",
       "      <td>15299</td>\n",
       "      <td>14627.747621</td>\n",
       "    </tr>\n",
       "    <tr>\n",
       "      <th>...</th>\n",
       "      <td>...</td>\n",
       "      <td>...</td>\n",
       "      <td>...</td>\n",
       "      <td>...</td>\n",
       "      <td>...</td>\n",
       "      <td>...</td>\n",
       "      <td>...</td>\n",
       "      <td>...</td>\n",
       "      <td>...</td>\n",
       "      <td>...</td>\n",
       "    </tr>\n",
       "    <tr>\n",
       "      <th>10303</th>\n",
       "      <td>Polo</td>\n",
       "      <td>2018</td>\n",
       "      <td>Manual</td>\n",
       "      <td>13953</td>\n",
       "      <td>Petrol</td>\n",
       "      <td>150</td>\n",
       "      <td>58.900002</td>\n",
       "      <td>1.0</td>\n",
       "      <td>10595</td>\n",
       "      <td>11364.292966</td>\n",
       "    </tr>\n",
       "    <tr>\n",
       "      <th>2398</th>\n",
       "      <td>T-Roc</td>\n",
       "      <td>2019</td>\n",
       "      <td>Manual</td>\n",
       "      <td>5262</td>\n",
       "      <td>Petrol</td>\n",
       "      <td>145</td>\n",
       "      <td>44.099998</td>\n",
       "      <td>1.0</td>\n",
       "      <td>19490</td>\n",
       "      <td>19160.290734</td>\n",
       "    </tr>\n",
       "    <tr>\n",
       "      <th>2479</th>\n",
       "      <td>Polo</td>\n",
       "      <td>2016</td>\n",
       "      <td>Semi-Auto</td>\n",
       "      <td>40200</td>\n",
       "      <td>Petrol</td>\n",
       "      <td>20</td>\n",
       "      <td>60.099998</td>\n",
       "      <td>1.2</td>\n",
       "      <td>9995</td>\n",
       "      <td>9994.099100</td>\n",
       "    </tr>\n",
       "    <tr>\n",
       "      <th>7266</th>\n",
       "      <td>Tiguan</td>\n",
       "      <td>2018</td>\n",
       "      <td>Manual</td>\n",
       "      <td>10942</td>\n",
       "      <td>Petrol</td>\n",
       "      <td>150</td>\n",
       "      <td>46.299999</td>\n",
       "      <td>1.4</td>\n",
       "      <td>18240</td>\n",
       "      <td>19123.124810</td>\n",
       "    </tr>\n",
       "    <tr>\n",
       "      <th>13155</th>\n",
       "      <td>Golf</td>\n",
       "      <td>2020</td>\n",
       "      <td>Manual</td>\n",
       "      <td>99</td>\n",
       "      <td>Diesel</td>\n",
       "      <td>145</td>\n",
       "      <td>57.700001</td>\n",
       "      <td>1.6</td>\n",
       "      <td>18495</td>\n",
       "      <td>20089.999187</td>\n",
       "    </tr>\n",
       "  </tbody>\n",
       "</table>\n",
       "<p>4320 rows × 10 columns</p>\n",
       "</div>"
      ],
      "text/plain": [
       "         model  year transmission  mileage fuelType  tax        mpg  \\\n",
       "5961      Golf  2016    Semi-Auto    19435   Diesel   30  62.799999   \n",
       "12640   Touran  2016       Manual    28304   Diesel   30  64.199997   \n",
       "7145    Tiguan  2017       Manual    27897   Diesel  150  58.900002   \n",
       "10418     Golf  2015    Automatic    56354   Petrol  200  39.799999   \n",
       "5139    Sharan  2016       Manual    45372   Diesel  125  56.500000   \n",
       "...        ...   ...          ...      ...      ...  ...        ...   \n",
       "10303     Polo  2018       Manual    13953   Petrol  150  58.900002   \n",
       "2398     T-Roc  2019       Manual     5262   Petrol  145  44.099998   \n",
       "2479      Polo  2016    Semi-Auto    40200   Petrol   20  60.099998   \n",
       "7266    Tiguan  2018       Manual    10942   Petrol  150  46.299999   \n",
       "13155     Golf  2020       Manual       99   Diesel  145  57.700001   \n",
       "\n",
       "       engineSize  price  prediction_label  \n",
       "5961          2.0  17142      17794.813952  \n",
       "12640         1.6  15498      14681.566138  \n",
       "7145          2.0  17790      18110.385393  \n",
       "10418         2.0  17199      19245.416668  \n",
       "5139          2.0  15299      14627.747621  \n",
       "...           ...    ...               ...  \n",
       "10303         1.0  10595      11364.292966  \n",
       "2398          1.0  19490      19160.290734  \n",
       "2479          1.2   9995       9994.099100  \n",
       "7266          1.4  18240      19123.124810  \n",
       "13155         1.6  18495      20089.999187  \n",
       "\n",
       "[4320 rows x 10 columns]"
      ]
     },
     "execution_count": 54,
     "metadata": {},
     "output_type": "execute_result"
    }
   ],
   "source": [
    "predict_model(model)"
   ]
  },
  {
   "cell_type": "markdown",
   "metadata": {
    "colab_type": "text",
    "id": "hUzc6tXNEQtr"
   },
   "source": [
    "# Predict utilizando os dados de validação."
   ]
  },
  {
   "cell_type": "code",
   "execution_count": 55,
   "metadata": {
    "colab": {
     "base_uri": "https://localhost:8080/",
     "height": 211
    },
    "colab_type": "code",
    "id": "0y5KWLC6EQtx",
    "outputId": "30771f87-7847-43ce-e984-9963cff7d043",
    "tags": []
   },
   "outputs": [
    {
     "data": {
      "text/html": [
       "<style type=\"text/css\">\n",
       "</style>\n",
       "<table id=\"T_99b2e\">\n",
       "  <thead>\n",
       "    <tr>\n",
       "      <th class=\"blank level0\" >&nbsp;</th>\n",
       "      <th id=\"T_99b2e_level0_col0\" class=\"col_heading level0 col0\" >Model</th>\n",
       "      <th id=\"T_99b2e_level0_col1\" class=\"col_heading level0 col1\" >MAE</th>\n",
       "      <th id=\"T_99b2e_level0_col2\" class=\"col_heading level0 col2\" >MSE</th>\n",
       "      <th id=\"T_99b2e_level0_col3\" class=\"col_heading level0 col3\" >RMSE</th>\n",
       "      <th id=\"T_99b2e_level0_col4\" class=\"col_heading level0 col4\" >R2</th>\n",
       "      <th id=\"T_99b2e_level0_col5\" class=\"col_heading level0 col5\" >RMSLE</th>\n",
       "      <th id=\"T_99b2e_level0_col6\" class=\"col_heading level0 col6\" >MAPE</th>\n",
       "    </tr>\n",
       "  </thead>\n",
       "  <tbody>\n",
       "    <tr>\n",
       "      <th id=\"T_99b2e_level0_row0\" class=\"row_heading level0 row0\" >0</th>\n",
       "      <td id=\"T_99b2e_row0_col0\" class=\"data row0 col0\" >K Neighbors Regressor</td>\n",
       "      <td id=\"T_99b2e_row0_col1\" class=\"data row0 col1\" >17278.6977</td>\n",
       "      <td id=\"T_99b2e_row0_col2\" class=\"data row0 col2\" >359852270.8784</td>\n",
       "      <td id=\"T_99b2e_row0_col3\" class=\"data row0 col3\" >18969.7726</td>\n",
       "      <td id=\"T_99b2e_row0_col4\" class=\"data row0 col4\" >-27174584.7094</td>\n",
       "      <td id=\"T_99b2e_row0_col5\" class=\"data row0 col5\" >6.1727</td>\n",
       "      <td id=\"T_99b2e_row0_col6\" class=\"data row0 col6\" >517.9634</td>\n",
       "    </tr>\n",
       "  </tbody>\n",
       "</table>\n"
      ],
      "text/plain": [
       "<pandas.io.formats.style.Styler at 0x1fb4e22b910>"
      ]
     },
     "metadata": {},
     "output_type": "display_data"
    },
    {
     "data": {
      "text/html": [
       "<div>\n",
       "<style scoped>\n",
       "    .dataframe tbody tr th:only-of-type {\n",
       "        vertical-align: middle;\n",
       "    }\n",
       "\n",
       "    .dataframe tbody tr th {\n",
       "        vertical-align: top;\n",
       "    }\n",
       "\n",
       "    .dataframe thead th {\n",
       "        text-align: right;\n",
       "    }\n",
       "</style>\n",
       "<table border=\"1\" class=\"dataframe\">\n",
       "  <thead>\n",
       "    <tr style=\"text-align: right;\">\n",
       "      <th></th>\n",
       "      <th>model</th>\n",
       "      <th>year</th>\n",
       "      <th>transmission</th>\n",
       "      <th>mileage</th>\n",
       "      <th>fuelType</th>\n",
       "      <th>tax</th>\n",
       "      <th>mpg</th>\n",
       "      <th>engineSize</th>\n",
       "      <th>price</th>\n",
       "      <th>prediction_label</th>\n",
       "    </tr>\n",
       "  </thead>\n",
       "  <tbody>\n",
       "    <tr>\n",
       "      <th>0</th>\n",
       "      <td>T-Roc</td>\n",
       "      <td>2020</td>\n",
       "      <td>Manual</td>\n",
       "      <td>10</td>\n",
       "      <td>Petrol</td>\n",
       "      <td>145</td>\n",
       "      <td>42.200001</td>\n",
       "      <td>1.5</td>\n",
       "      <td>31895</td>\n",
       "      <td>25049.547250</td>\n",
       "    </tr>\n",
       "    <tr>\n",
       "      <th>1</th>\n",
       "      <td>T-Roc</td>\n",
       "      <td>2019</td>\n",
       "      <td>Semi-Auto</td>\n",
       "      <td>2500</td>\n",
       "      <td>Petrol</td>\n",
       "      <td>145</td>\n",
       "      <td>32.500000</td>\n",
       "      <td>2.0</td>\n",
       "      <td>33785</td>\n",
       "      <td>32391.592404</td>\n",
       "    </tr>\n",
       "    <tr>\n",
       "      <th>2</th>\n",
       "      <td>T-Roc</td>\n",
       "      <td>2019</td>\n",
       "      <td>Manual</td>\n",
       "      <td>3392</td>\n",
       "      <td>Diesel</td>\n",
       "      <td>145</td>\n",
       "      <td>50.400002</td>\n",
       "      <td>2.0</td>\n",
       "      <td>22230</td>\n",
       "      <td>22307.125855</td>\n",
       "    </tr>\n",
       "    <tr>\n",
       "      <th>3</th>\n",
       "      <td>T-Roc</td>\n",
       "      <td>2019</td>\n",
       "      <td>Semi-Auto</td>\n",
       "      <td>2423</td>\n",
       "      <td>Diesel</td>\n",
       "      <td>145</td>\n",
       "      <td>49.599998</td>\n",
       "      <td>2.0</td>\n",
       "      <td>25990</td>\n",
       "      <td>25111.676745</td>\n",
       "    </tr>\n",
       "    <tr>\n",
       "      <th>4</th>\n",
       "      <td>T-Roc</td>\n",
       "      <td>2020</td>\n",
       "      <td>Manual</td>\n",
       "      <td>322</td>\n",
       "      <td>Diesel</td>\n",
       "      <td>145</td>\n",
       "      <td>50.400002</td>\n",
       "      <td>2.0</td>\n",
       "      <td>27990</td>\n",
       "      <td>23302.381219</td>\n",
       "    </tr>\n",
       "  </tbody>\n",
       "</table>\n",
       "</div>"
      ],
      "text/plain": [
       "    model  year transmission  mileage fuelType  tax        mpg  engineSize  \\\n",
       "0   T-Roc  2020       Manual       10   Petrol  145  42.200001         1.5   \n",
       "1   T-Roc  2019    Semi-Auto     2500   Petrol  145  32.500000         2.0   \n",
       "2   T-Roc  2019       Manual     3392   Diesel  145  50.400002         2.0   \n",
       "3   T-Roc  2019    Semi-Auto     2423   Diesel  145  49.599998         2.0   \n",
       "4   T-Roc  2020       Manual      322   Diesel  145  50.400002         2.0   \n",
       "\n",
       "   price  prediction_label  \n",
       "0  31895      25049.547250  \n",
       "1  33785      32391.592404  \n",
       "2  22230      22307.125855  \n",
       "3  25990      25111.676745  \n",
       "4  27990      23302.381219  "
      ]
     },
     "execution_count": 55,
     "metadata": {},
     "output_type": "execute_result"
    }
   ],
   "source": [
    "validation_predictions = predict_model(model, data=data_validation)\n",
    "validation_predictions.head()"
   ]
  },
  {
   "cell_type": "markdown",
   "metadata": {
    "colab_type": "text",
    "id": "oPYmVpugEQt5"
   },
   "source": [
    "##### Verificando a performance do modelo aplicado aos dados de validação."
   ]
  },
  {
   "cell_type": "code",
   "execution_count": 66,
   "metadata": {},
   "outputs": [],
   "source": [
    "from pycaret.utils.generic import check_metric"
   ]
  },
  {
   "cell_type": "code",
   "execution_count": 67,
   "metadata": {
    "tags": []
   },
   "outputs": [
    {
     "data": {
      "text/plain": [
       "0.9534"
      ]
     },
     "execution_count": 67,
     "metadata": {},
     "output_type": "execute_result"
    }
   ],
   "source": [
    "check_metric(validation_predictions.price, validation_predictions.prediction_label, 'R2')"
   ]
  },
  {
   "cell_type": "markdown",
   "metadata": {
    "colab_type": "text",
    "id": "r79BGjIfEQs1"
   },
   "source": [
    "# Finalize Model"
   ]
  },
  {
   "cell_type": "markdown",
   "metadata": {
    "colab_type": "text",
    "id": "B-6xJ9kQEQs7"
   },
   "source": [
    "Esta função treina o algoritmo e cria o modelo utilizando todo o conjunto de dados."
   ]
  },
  {
   "cell_type": "code",
   "execution_count": 68,
   "metadata": {
    "colab": {},
    "colab_type": "code",
    "id": "_--tO4KGEQs-",
    "tags": []
   },
   "outputs": [],
   "source": [
    "final_model = finalize_model(model)"
   ]
  },
  {
   "cell_type": "code",
   "execution_count": 69,
   "metadata": {
    "colab": {
     "base_uri": "https://localhost:8080/",
     "height": 147
    },
    "colab_type": "code",
    "id": "U9W6kXsSEQtQ",
    "jupyter": {
     "outputs_hidden": true
    },
    "outputId": "794b24a4-9c95-4730-eddd-f82e4925b866",
    "tags": []
   },
   "outputs": [
    {
     "name": "stdout",
     "output_type": "stream",
     "text": [
      "Pipeline(memory=FastMemory(location=C:\\Users\\MARCIO~1\\AppData\\Local\\Temp\\joblib),\n",
      "         steps=[('target_transformation',\n",
      "                 TransformerWrapperWithInverse(transformer=TargetTransformer(estimator=PowerTransformer(standardize=False)))),\n",
      "                ('numerical_imputer',\n",
      "                 TransformerWrapper(include=['year', 'mileage', 'tax', 'mpg',\n",
      "                                             'engineSize'],\n",
      "                                    transformer=SimpleImputer())),\n",
      "                ('cate...\n",
      "                 TransformerWrapper(include=['model'],\n",
      "                                    transformer=LeaveOneOutEncoder(cols=['model'],\n",
      "                                                                   handle_missing='return_nan',\n",
      "                                                                   random_state=123))),\n",
      "                ('bin_numeric_features',\n",
      "                 TransformerWrapper(include=['tax'],\n",
      "                                    transformer=KBinsDiscretizer(encode='ordinal',\n",
      "                                                                 strategy='kmeans'))),\n",
      "                ('normalize', TransformerWrapper(transformer=StandardScaler())),\n",
      "                ('actual_estimator', KNeighborsRegressor(n_jobs=-1))])\n"
     ]
    }
   ],
   "source": [
    "print(final_model)"
   ]
  },
  {
   "cell_type": "markdown",
   "metadata": {
    "colab_type": "text",
    "id": "L__po3sUEQt7"
   },
   "source": [
    "# Save model"
   ]
  },
  {
   "cell_type": "markdown",
   "metadata": {
    "colab_type": "text",
    "id": "1sQPT7jrEQt-"
   },
   "source": [
    "Esta função realiza a persistencia do modelo em disco."
   ]
  },
  {
   "cell_type": "code",
   "execution_count": 70,
   "metadata": {
    "colab": {},
    "colab_type": "code",
    "id": "ln1YWIXTEQuA",
    "outputId": "d3cb0652-f72e-44e8-9455-824b12740bff",
    "tags": []
   },
   "outputs": [
    {
     "name": "stdout",
     "output_type": "stream",
     "text": [
      "Transformation Pipeline and Model Successfully Saved\n"
     ]
    },
    {
     "data": {
      "text/plain": [
       "(Pipeline(memory=FastMemory(location=C:\\Users\\MARCIO~1\\AppData\\Local\\Temp\\joblib),\n",
       "          steps=[('target_transformation',\n",
       "                  TransformerWrapperWithInverse(transformer=TargetTransformer(estimator=PowerTransformer(standardize=False)))),\n",
       "                 ('numerical_imputer',\n",
       "                  TransformerWrapper(include=['year', 'mileage', 'tax', 'mpg',\n",
       "                                              'engineSize'],\n",
       "                                     transformer=SimpleImputer())),\n",
       "                 ('cate...\n",
       "                  TransformerWrapper(include=['model'],\n",
       "                                     transformer=LeaveOneOutEncoder(cols=['model'],\n",
       "                                                                    handle_missing='return_nan',\n",
       "                                                                    random_state=123))),\n",
       "                 ('bin_numeric_features',\n",
       "                  TransformerWrapper(include=['tax'],\n",
       "                                     transformer=KBinsDiscretizer(encode='ordinal',\n",
       "                                                                  strategy='kmeans'))),\n",
       "                 ('normalize', TransformerWrapper(transformer=StandardScaler())),\n",
       "                 ('actual_estimator', KNeighborsRegressor(n_jobs=-1))]),\n",
       " 'model.pkl')"
      ]
     },
     "execution_count": 70,
     "metadata": {},
     "output_type": "execute_result"
    }
   ],
   "source": [
    "save_model(final_model,'model')"
   ]
  },
  {
   "cell_type": "markdown",
   "metadata": {},
   "source": [
    "##### Verificando o arquivo em disco."
   ]
  },
  {
   "cell_type": "code",
   "execution_count": 71,
   "metadata": {
    "tags": []
   },
   "outputs": [
    {
     "name": "stderr",
     "output_type": "stream",
     "text": [
      "'ls' is not recognized as an internal or external command,\n",
      "operable program or batch file.\n"
     ]
    }
   ],
   "source": [
    "!ls"
   ]
  },
  {
   "cell_type": "code",
   "execution_count": null,
   "metadata": {},
   "outputs": [],
   "source": []
  },
  {
   "cell_type": "code",
   "execution_count": null,
   "metadata": {},
   "outputs": [],
   "source": []
  },
  {
   "cell_type": "code",
   "execution_count": 25,
   "metadata": {},
   "outputs": [],
   "source": [
    "teste = pd.read_excel(\"teste.xlsx\")"
   ]
  },
  {
   "cell_type": "code",
   "execution_count": 29,
   "metadata": {},
   "outputs": [],
   "source": [
    "teste = teste[[ 'level_1','level_2', 'level_3', 'monthly_beer_volume' ,\n",
    "                                                  'number_of_reviews_filled', 'qty_poc_5k_cell']]"
   ]
  },
  {
   "cell_type": "code",
   "execution_count": 30,
   "metadata": {},
   "outputs": [
    {
     "data": {
      "text/html": [
       "<style type=\"text/css\">\n",
       "#T_1bcd7_row9_col1 {\n",
       "  background-color: lightgreen;\n",
       "}\n",
       "</style>\n",
       "<table id=\"T_1bcd7\">\n",
       "  <thead>\n",
       "    <tr>\n",
       "      <th class=\"blank level0\" >&nbsp;</th>\n",
       "      <th id=\"T_1bcd7_level0_col0\" class=\"col_heading level0 col0\" >Description</th>\n",
       "      <th id=\"T_1bcd7_level0_col1\" class=\"col_heading level0 col1\" >Value</th>\n",
       "    </tr>\n",
       "  </thead>\n",
       "  <tbody>\n",
       "    <tr>\n",
       "      <th id=\"T_1bcd7_level0_row0\" class=\"row_heading level0 row0\" >0</th>\n",
       "      <td id=\"T_1bcd7_row0_col0\" class=\"data row0 col0\" >Session id</td>\n",
       "      <td id=\"T_1bcd7_row0_col1\" class=\"data row0 col1\" >123</td>\n",
       "    </tr>\n",
       "    <tr>\n",
       "      <th id=\"T_1bcd7_level0_row1\" class=\"row_heading level0 row1\" >1</th>\n",
       "      <td id=\"T_1bcd7_row1_col0\" class=\"data row1 col0\" >Target</td>\n",
       "      <td id=\"T_1bcd7_row1_col1\" class=\"data row1 col1\" >monthly_beer_volume</td>\n",
       "    </tr>\n",
       "    <tr>\n",
       "      <th id=\"T_1bcd7_level0_row2\" class=\"row_heading level0 row2\" >2</th>\n",
       "      <td id=\"T_1bcd7_row2_col0\" class=\"data row2 col0\" >Target type</td>\n",
       "      <td id=\"T_1bcd7_row2_col1\" class=\"data row2 col1\" >Regression</td>\n",
       "    </tr>\n",
       "    <tr>\n",
       "      <th id=\"T_1bcd7_level0_row3\" class=\"row_heading level0 row3\" >3</th>\n",
       "      <td id=\"T_1bcd7_row3_col0\" class=\"data row3 col0\" >Original data shape</td>\n",
       "      <td id=\"T_1bcd7_row3_col1\" class=\"data row3 col1\" >(3000, 6)</td>\n",
       "    </tr>\n",
       "    <tr>\n",
       "      <th id=\"T_1bcd7_level0_row4\" class=\"row_heading level0 row4\" >4</th>\n",
       "      <td id=\"T_1bcd7_row4_col0\" class=\"data row4 col0\" >Transformed data shape</td>\n",
       "      <td id=\"T_1bcd7_row4_col1\" class=\"data row4 col1\" >(3000, 15)</td>\n",
       "    </tr>\n",
       "    <tr>\n",
       "      <th id=\"T_1bcd7_level0_row5\" class=\"row_heading level0 row5\" >5</th>\n",
       "      <td id=\"T_1bcd7_row5_col0\" class=\"data row5 col0\" >Transformed train set shape</td>\n",
       "      <td id=\"T_1bcd7_row5_col1\" class=\"data row5 col1\" >(2100, 15)</td>\n",
       "    </tr>\n",
       "    <tr>\n",
       "      <th id=\"T_1bcd7_level0_row6\" class=\"row_heading level0 row6\" >6</th>\n",
       "      <td id=\"T_1bcd7_row6_col0\" class=\"data row6 col0\" >Transformed test set shape</td>\n",
       "      <td id=\"T_1bcd7_row6_col1\" class=\"data row6 col1\" >(900, 15)</td>\n",
       "    </tr>\n",
       "    <tr>\n",
       "      <th id=\"T_1bcd7_level0_row7\" class=\"row_heading level0 row7\" >7</th>\n",
       "      <td id=\"T_1bcd7_row7_col0\" class=\"data row7 col0\" >Numeric features</td>\n",
       "      <td id=\"T_1bcd7_row7_col1\" class=\"data row7 col1\" >2</td>\n",
       "    </tr>\n",
       "    <tr>\n",
       "      <th id=\"T_1bcd7_level0_row8\" class=\"row_heading level0 row8\" >8</th>\n",
       "      <td id=\"T_1bcd7_row8_col0\" class=\"data row8 col0\" >Categorical features</td>\n",
       "      <td id=\"T_1bcd7_row8_col1\" class=\"data row8 col1\" >3</td>\n",
       "    </tr>\n",
       "    <tr>\n",
       "      <th id=\"T_1bcd7_level0_row9\" class=\"row_heading level0 row9\" >9</th>\n",
       "      <td id=\"T_1bcd7_row9_col0\" class=\"data row9 col0\" >Preprocess</td>\n",
       "      <td id=\"T_1bcd7_row9_col1\" class=\"data row9 col1\" >True</td>\n",
       "    </tr>\n",
       "    <tr>\n",
       "      <th id=\"T_1bcd7_level0_row10\" class=\"row_heading level0 row10\" >10</th>\n",
       "      <td id=\"T_1bcd7_row10_col0\" class=\"data row10 col0\" >Imputation type</td>\n",
       "      <td id=\"T_1bcd7_row10_col1\" class=\"data row10 col1\" >simple</td>\n",
       "    </tr>\n",
       "    <tr>\n",
       "      <th id=\"T_1bcd7_level0_row11\" class=\"row_heading level0 row11\" >11</th>\n",
       "      <td id=\"T_1bcd7_row11_col0\" class=\"data row11 col0\" >Numeric imputation</td>\n",
       "      <td id=\"T_1bcd7_row11_col1\" class=\"data row11 col1\" >mean</td>\n",
       "    </tr>\n",
       "    <tr>\n",
       "      <th id=\"T_1bcd7_level0_row12\" class=\"row_heading level0 row12\" >12</th>\n",
       "      <td id=\"T_1bcd7_row12_col0\" class=\"data row12 col0\" >Categorical imputation</td>\n",
       "      <td id=\"T_1bcd7_row12_col1\" class=\"data row12 col1\" >mode</td>\n",
       "    </tr>\n",
       "    <tr>\n",
       "      <th id=\"T_1bcd7_level0_row13\" class=\"row_heading level0 row13\" >13</th>\n",
       "      <td id=\"T_1bcd7_row13_col0\" class=\"data row13 col0\" >Maximum one-hot encoding</td>\n",
       "      <td id=\"T_1bcd7_row13_col1\" class=\"data row13 col1\" >25</td>\n",
       "    </tr>\n",
       "    <tr>\n",
       "      <th id=\"T_1bcd7_level0_row14\" class=\"row_heading level0 row14\" >14</th>\n",
       "      <td id=\"T_1bcd7_row14_col0\" class=\"data row14 col0\" >Encoding method</td>\n",
       "      <td id=\"T_1bcd7_row14_col1\" class=\"data row14 col1\" >None</td>\n",
       "    </tr>\n",
       "    <tr>\n",
       "      <th id=\"T_1bcd7_level0_row15\" class=\"row_heading level0 row15\" >15</th>\n",
       "      <td id=\"T_1bcd7_row15_col0\" class=\"data row15 col0\" >Fold Generator</td>\n",
       "      <td id=\"T_1bcd7_row15_col1\" class=\"data row15 col1\" >KFold</td>\n",
       "    </tr>\n",
       "    <tr>\n",
       "      <th id=\"T_1bcd7_level0_row16\" class=\"row_heading level0 row16\" >16</th>\n",
       "      <td id=\"T_1bcd7_row16_col0\" class=\"data row16 col0\" >Fold Number</td>\n",
       "      <td id=\"T_1bcd7_row16_col1\" class=\"data row16 col1\" >10</td>\n",
       "    </tr>\n",
       "    <tr>\n",
       "      <th id=\"T_1bcd7_level0_row17\" class=\"row_heading level0 row17\" >17</th>\n",
       "      <td id=\"T_1bcd7_row17_col0\" class=\"data row17 col0\" >CPU Jobs</td>\n",
       "      <td id=\"T_1bcd7_row17_col1\" class=\"data row17 col1\" >-1</td>\n",
       "    </tr>\n",
       "    <tr>\n",
       "      <th id=\"T_1bcd7_level0_row18\" class=\"row_heading level0 row18\" >18</th>\n",
       "      <td id=\"T_1bcd7_row18_col0\" class=\"data row18 col0\" >Use GPU</td>\n",
       "      <td id=\"T_1bcd7_row18_col1\" class=\"data row18 col1\" >False</td>\n",
       "    </tr>\n",
       "    <tr>\n",
       "      <th id=\"T_1bcd7_level0_row19\" class=\"row_heading level0 row19\" >19</th>\n",
       "      <td id=\"T_1bcd7_row19_col0\" class=\"data row19 col0\" >Log Experiment</td>\n",
       "      <td id=\"T_1bcd7_row19_col1\" class=\"data row19 col1\" >False</td>\n",
       "    </tr>\n",
       "    <tr>\n",
       "      <th id=\"T_1bcd7_level0_row20\" class=\"row_heading level0 row20\" >20</th>\n",
       "      <td id=\"T_1bcd7_row20_col0\" class=\"data row20 col0\" >Experiment Name</td>\n",
       "      <td id=\"T_1bcd7_row20_col1\" class=\"data row20 col1\" >regressao01</td>\n",
       "    </tr>\n",
       "    <tr>\n",
       "      <th id=\"T_1bcd7_level0_row21\" class=\"row_heading level0 row21\" >21</th>\n",
       "      <td id=\"T_1bcd7_row21_col0\" class=\"data row21 col0\" >USI</td>\n",
       "      <td id=\"T_1bcd7_row21_col1\" class=\"data row21 col1\" >c508</td>\n",
       "    </tr>\n",
       "  </tbody>\n",
       "</table>\n"
      ],
      "text/plain": [
       "<pandas.io.formats.style.Styler at 0x205a941c0d0>"
      ]
     },
     "metadata": {},
     "output_type": "display_data"
    }
   ],
   "source": [
    "exp_cl = setup(   data = teste # data set \n",
    "                    ,experiment_name = \"regressao01\" \n",
    "                    ,target = 'monthly_beer_volume'\n",
    "                    ,session_id = 123 \n",
    "                    ,profile = False \n",
    "                  #  , numeric_features = ['number_of_reviews_filled', 'qty_poc_5k_cell']\n",
    "                   # , categorical_features = ['level_1',\t'level_2',\t'level_3']\n",
    "                \n",
    "                  #  ,transform_target = True \n",
    "                 #   ,normalize = True\n",
    "\n",
    "                    #,bin_numeric_features = ['tax']\n",
    "                 )"
   ]
  },
  {
   "cell_type": "code",
   "execution_count": 27,
   "metadata": {},
   "outputs": [],
   "source": [
    "df_transformed = get_config(\"X_train\")"
   ]
  },
  {
   "cell_type": "code",
   "execution_count": 43,
   "metadata": {},
   "outputs": [
    {
     "data": {
      "text/html": [],
      "text/plain": [
       "<IPython.core.display.HTML object>"
      ]
     },
     "metadata": {},
     "output_type": "display_data"
    },
    {
     "data": {
      "text/html": [
       "<style type=\"text/css\">\n",
       "#T_8ad85 th {\n",
       "  text-align: left;\n",
       "}\n",
       "#T_8ad85_row0_col0, #T_8ad85_row0_col1, #T_8ad85_row0_col2, #T_8ad85_row0_col3, #T_8ad85_row0_col4, #T_8ad85_row0_col5, #T_8ad85_row1_col0, #T_8ad85_row1_col1, #T_8ad85_row1_col2, #T_8ad85_row1_col3, #T_8ad85_row1_col4, #T_8ad85_row1_col5, #T_8ad85_row1_col6, #T_8ad85_row2_col0, #T_8ad85_row2_col1, #T_8ad85_row2_col2, #T_8ad85_row2_col3, #T_8ad85_row2_col4, #T_8ad85_row2_col5, #T_8ad85_row2_col6, #T_8ad85_row3_col0, #T_8ad85_row3_col1, #T_8ad85_row3_col2, #T_8ad85_row3_col3, #T_8ad85_row3_col4, #T_8ad85_row3_col5, #T_8ad85_row3_col6, #T_8ad85_row4_col0, #T_8ad85_row4_col6, #T_8ad85_row5_col0, #T_8ad85_row5_col1, #T_8ad85_row5_col2, #T_8ad85_row5_col3, #T_8ad85_row5_col4, #T_8ad85_row5_col5, #T_8ad85_row5_col6, #T_8ad85_row6_col0, #T_8ad85_row6_col1, #T_8ad85_row6_col2, #T_8ad85_row6_col3, #T_8ad85_row6_col4, #T_8ad85_row6_col5, #T_8ad85_row6_col6, #T_8ad85_row7_col0, #T_8ad85_row7_col1, #T_8ad85_row7_col2, #T_8ad85_row7_col3, #T_8ad85_row7_col4, #T_8ad85_row7_col5, #T_8ad85_row7_col6, #T_8ad85_row8_col0, #T_8ad85_row8_col1, #T_8ad85_row8_col2, #T_8ad85_row8_col3, #T_8ad85_row8_col4, #T_8ad85_row8_col5, #T_8ad85_row8_col6, #T_8ad85_row9_col0, #T_8ad85_row9_col1, #T_8ad85_row9_col2, #T_8ad85_row9_col3, #T_8ad85_row9_col4, #T_8ad85_row9_col5, #T_8ad85_row9_col6, #T_8ad85_row10_col0, #T_8ad85_row10_col1, #T_8ad85_row10_col2, #T_8ad85_row10_col3, #T_8ad85_row10_col4, #T_8ad85_row10_col5, #T_8ad85_row10_col6, #T_8ad85_row11_col0, #T_8ad85_row11_col1, #T_8ad85_row11_col2, #T_8ad85_row11_col3, #T_8ad85_row11_col4, #T_8ad85_row11_col5, #T_8ad85_row11_col6, #T_8ad85_row12_col0, #T_8ad85_row12_col1, #T_8ad85_row12_col2, #T_8ad85_row12_col3, #T_8ad85_row12_col4, #T_8ad85_row12_col5, #T_8ad85_row12_col6, #T_8ad85_row13_col0, #T_8ad85_row13_col1, #T_8ad85_row13_col2, #T_8ad85_row13_col3, #T_8ad85_row13_col4, #T_8ad85_row13_col5, #T_8ad85_row13_col6, #T_8ad85_row14_col0, #T_8ad85_row14_col1, #T_8ad85_row14_col2, #T_8ad85_row14_col3, #T_8ad85_row14_col4, #T_8ad85_row14_col5, #T_8ad85_row14_col6, #T_8ad85_row15_col0, #T_8ad85_row15_col1, #T_8ad85_row15_col2, #T_8ad85_row15_col3, #T_8ad85_row15_col4, #T_8ad85_row15_col5, #T_8ad85_row15_col6, #T_8ad85_row16_col0, #T_8ad85_row16_col1, #T_8ad85_row16_col2, #T_8ad85_row16_col3, #T_8ad85_row16_col4, #T_8ad85_row16_col5, #T_8ad85_row16_col6, #T_8ad85_row17_col0, #T_8ad85_row17_col1, #T_8ad85_row17_col2, #T_8ad85_row17_col3, #T_8ad85_row17_col4, #T_8ad85_row17_col5, #T_8ad85_row17_col6 {\n",
       "  text-align: left;\n",
       "}\n",
       "#T_8ad85_row0_col6, #T_8ad85_row4_col1, #T_8ad85_row4_col2, #T_8ad85_row4_col3, #T_8ad85_row4_col4, #T_8ad85_row4_col5 {\n",
       "  text-align: left;\n",
       "  background-color: yellow;\n",
       "}\n",
       "#T_8ad85_row0_col7 {\n",
       "  text-align: left;\n",
       "  background-color: yellow;\n",
       "  background-color: lightgrey;\n",
       "}\n",
       "#T_8ad85_row1_col7, #T_8ad85_row2_col7, #T_8ad85_row3_col7, #T_8ad85_row4_col7, #T_8ad85_row5_col7, #T_8ad85_row6_col7, #T_8ad85_row7_col7, #T_8ad85_row8_col7, #T_8ad85_row9_col7, #T_8ad85_row10_col7, #T_8ad85_row11_col7, #T_8ad85_row12_col7, #T_8ad85_row13_col7, #T_8ad85_row14_col7, #T_8ad85_row15_col7, #T_8ad85_row16_col7, #T_8ad85_row17_col7 {\n",
       "  text-align: left;\n",
       "  background-color: lightgrey;\n",
       "}\n",
       "</style>\n",
       "<table id=\"T_8ad85\">\n",
       "  <thead>\n",
       "    <tr>\n",
       "      <th class=\"blank level0\" >&nbsp;</th>\n",
       "      <th id=\"T_8ad85_level0_col0\" class=\"col_heading level0 col0\" >Model</th>\n",
       "      <th id=\"T_8ad85_level0_col1\" class=\"col_heading level0 col1\" >MAE</th>\n",
       "      <th id=\"T_8ad85_level0_col2\" class=\"col_heading level0 col2\" >MSE</th>\n",
       "      <th id=\"T_8ad85_level0_col3\" class=\"col_heading level0 col3\" >RMSE</th>\n",
       "      <th id=\"T_8ad85_level0_col4\" class=\"col_heading level0 col4\" >R2</th>\n",
       "      <th id=\"T_8ad85_level0_col5\" class=\"col_heading level0 col5\" >RMSLE</th>\n",
       "      <th id=\"T_8ad85_level0_col6\" class=\"col_heading level0 col6\" >MAPE</th>\n",
       "      <th id=\"T_8ad85_level0_col7\" class=\"col_heading level0 col7\" >TT (Sec)</th>\n",
       "    </tr>\n",
       "  </thead>\n",
       "  <tbody>\n",
       "    <tr>\n",
       "      <th id=\"T_8ad85_level0_row0\" class=\"row_heading level0 row0\" >ada</th>\n",
       "      <td id=\"T_8ad85_row0_col0\" class=\"data row0 col0\" >AdaBoost Regressor</td>\n",
       "      <td id=\"T_8ad85_row0_col1\" class=\"data row0 col1\" >154.2230</td>\n",
       "      <td id=\"T_8ad85_row0_col2\" class=\"data row0 col2\" >318548.8894</td>\n",
       "      <td id=\"T_8ad85_row0_col3\" class=\"data row0 col3\" >536.9939</td>\n",
       "      <td id=\"T_8ad85_row0_col4\" class=\"data row0 col4\" >-0.0365</td>\n",
       "      <td id=\"T_8ad85_row0_col5\" class=\"data row0 col5\" >1.4178</td>\n",
       "      <td id=\"T_8ad85_row0_col6\" class=\"data row0 col6\" >2.6853</td>\n",
       "      <td id=\"T_8ad85_row0_col7\" class=\"data row0 col7\" >1.1990</td>\n",
       "    </tr>\n",
       "    <tr>\n",
       "      <th id=\"T_8ad85_level0_row1\" class=\"row_heading level0 row1\" >lr</th>\n",
       "      <td id=\"T_8ad85_row1_col0\" class=\"data row1 col0\" >Linear Regression</td>\n",
       "      <td id=\"T_8ad85_row1_col1\" class=\"data row1 col1\" >153.0176</td>\n",
       "      <td id=\"T_8ad85_row1_col2\" class=\"data row1 col2\" >315575.6500</td>\n",
       "      <td id=\"T_8ad85_row1_col3\" class=\"data row1 col3\" >534.1490</td>\n",
       "      <td id=\"T_8ad85_row1_col4\" class=\"data row1 col4\" >-0.0245</td>\n",
       "      <td id=\"T_8ad85_row1_col5\" class=\"data row1 col5\" >1.4070</td>\n",
       "      <td id=\"T_8ad85_row1_col6\" class=\"data row1 col6\" >2.7084</td>\n",
       "      <td id=\"T_8ad85_row1_col7\" class=\"data row1 col7\" >4.3190</td>\n",
       "    </tr>\n",
       "    <tr>\n",
       "      <th id=\"T_8ad85_level0_row2\" class=\"row_heading level0 row2\" >br</th>\n",
       "      <td id=\"T_8ad85_row2_col0\" class=\"data row2 col0\" >Bayesian Ridge</td>\n",
       "      <td id=\"T_8ad85_row2_col1\" class=\"data row2 col1\" >153.1164</td>\n",
       "      <td id=\"T_8ad85_row2_col2\" class=\"data row2 col2\" >316005.7944</td>\n",
       "      <td id=\"T_8ad85_row2_col3\" class=\"data row2 col3\" >534.6417</td>\n",
       "      <td id=\"T_8ad85_row2_col4\" class=\"data row2 col4\" >-0.0269</td>\n",
       "      <td id=\"T_8ad85_row2_col5\" class=\"data row2 col5\" >1.4064</td>\n",
       "      <td id=\"T_8ad85_row2_col6\" class=\"data row2 col6\" >2.7289</td>\n",
       "      <td id=\"T_8ad85_row2_col7\" class=\"data row2 col7\" >1.2490</td>\n",
       "    </tr>\n",
       "    <tr>\n",
       "      <th id=\"T_8ad85_level0_row3\" class=\"row_heading level0 row3\" >ridge</th>\n",
       "      <td id=\"T_8ad85_row3_col0\" class=\"data row3 col0\" >Ridge Regression</td>\n",
       "      <td id=\"T_8ad85_row3_col1\" class=\"data row3 col1\" >153.0617</td>\n",
       "      <td id=\"T_8ad85_row3_col2\" class=\"data row3 col2\" >315667.3752</td>\n",
       "      <td id=\"T_8ad85_row3_col3\" class=\"data row3 col3\" >534.3368</td>\n",
       "      <td id=\"T_8ad85_row3_col4\" class=\"data row3 col4\" >-0.0257</td>\n",
       "      <td id=\"T_8ad85_row3_col5\" class=\"data row3 col5\" >1.4063</td>\n",
       "      <td id=\"T_8ad85_row3_col6\" class=\"data row3 col6\" >2.7306</td>\n",
       "      <td id=\"T_8ad85_row3_col7\" class=\"data row3 col7\" >1.3630</td>\n",
       "    </tr>\n",
       "    <tr>\n",
       "      <th id=\"T_8ad85_level0_row4\" class=\"row_heading level0 row4\" >huber</th>\n",
       "      <td id=\"T_8ad85_row4_col0\" class=\"data row4 col0\" >Huber Regressor</td>\n",
       "      <td id=\"T_8ad85_row4_col1\" class=\"data row4 col1\" >152.8954</td>\n",
       "      <td id=\"T_8ad85_row4_col2\" class=\"data row4 col2\" >313979.7151</td>\n",
       "      <td id=\"T_8ad85_row4_col3\" class=\"data row4 col3\" >532.7627</td>\n",
       "      <td id=\"T_8ad85_row4_col4\" class=\"data row4 col4\" >-0.0189</td>\n",
       "      <td id=\"T_8ad85_row4_col5\" class=\"data row4 col5\" >1.4054</td>\n",
       "      <td id=\"T_8ad85_row4_col6\" class=\"data row4 col6\" >2.8501</td>\n",
       "      <td id=\"T_8ad85_row4_col7\" class=\"data row4 col7\" >1.2190</td>\n",
       "    </tr>\n",
       "    <tr>\n",
       "      <th id=\"T_8ad85_level0_row5\" class=\"row_heading level0 row5\" >gbr</th>\n",
       "      <td id=\"T_8ad85_row5_col0\" class=\"data row5 col0\" >Gradient Boosting Regressor</td>\n",
       "      <td id=\"T_8ad85_row5_col1\" class=\"data row5 col1\" >157.1990</td>\n",
       "      <td id=\"T_8ad85_row5_col2\" class=\"data row5 col2\" >320839.5547</td>\n",
       "      <td id=\"T_8ad85_row5_col3\" class=\"data row5 col3\" >538.9930</td>\n",
       "      <td id=\"T_8ad85_row5_col4\" class=\"data row5 col4\" >-0.0455</td>\n",
       "      <td id=\"T_8ad85_row5_col5\" class=\"data row5 col5\" >1.4394</td>\n",
       "      <td id=\"T_8ad85_row5_col6\" class=\"data row5 col6\" >2.9189</td>\n",
       "      <td id=\"T_8ad85_row5_col7\" class=\"data row5 col7\" >1.2770</td>\n",
       "    </tr>\n",
       "    <tr>\n",
       "      <th id=\"T_8ad85_level0_row6\" class=\"row_heading level0 row6\" >omp</th>\n",
       "      <td id=\"T_8ad85_row6_col0\" class=\"data row6 col0\" >Orthogonal Matching Pursuit</td>\n",
       "      <td id=\"T_8ad85_row6_col1\" class=\"data row6 col1\" >157.7108</td>\n",
       "      <td id=\"T_8ad85_row6_col2\" class=\"data row6 col2\" >321197.6527</td>\n",
       "      <td id=\"T_8ad85_row6_col3\" class=\"data row6 col3\" >539.9560</td>\n",
       "      <td id=\"T_8ad85_row6_col4\" class=\"data row6 col4\" >-0.0514</td>\n",
       "      <td id=\"T_8ad85_row6_col5\" class=\"data row6 col5\" >1.5090</td>\n",
       "      <td id=\"T_8ad85_row6_col6\" class=\"data row6 col6\" >3.0515</td>\n",
       "      <td id=\"T_8ad85_row6_col7\" class=\"data row6 col7\" >1.8310</td>\n",
       "    </tr>\n",
       "    <tr>\n",
       "      <th id=\"T_8ad85_level0_row7\" class=\"row_heading level0 row7\" >lasso</th>\n",
       "      <td id=\"T_8ad85_row7_col0\" class=\"data row7 col0\" >Lasso Regression</td>\n",
       "      <td id=\"T_8ad85_row7_col1\" class=\"data row7 col1\" >160.9789</td>\n",
       "      <td id=\"T_8ad85_row7_col2\" class=\"data row7 col2\" >328107.2998</td>\n",
       "      <td id=\"T_8ad85_row7_col3\" class=\"data row7 col3\" >545.7960</td>\n",
       "      <td id=\"T_8ad85_row7_col4\" class=\"data row7 col4\" >-0.0757</td>\n",
       "      <td id=\"T_8ad85_row7_col5\" class=\"data row7 col5\" >1.5573</td>\n",
       "      <td id=\"T_8ad85_row7_col6\" class=\"data row7 col6\" >3.2190</td>\n",
       "      <td id=\"T_8ad85_row7_col7\" class=\"data row7 col7\" >1.4760</td>\n",
       "    </tr>\n",
       "    <tr>\n",
       "      <th id=\"T_8ad85_level0_row8\" class=\"row_heading level0 row8\" >en</th>\n",
       "      <td id=\"T_8ad85_row8_col0\" class=\"data row8 col0\" >Elastic Net</td>\n",
       "      <td id=\"T_8ad85_row8_col1\" class=\"data row8 col1\" >160.9789</td>\n",
       "      <td id=\"T_8ad85_row8_col2\" class=\"data row8 col2\" >328107.2998</td>\n",
       "      <td id=\"T_8ad85_row8_col3\" class=\"data row8 col3\" >545.7960</td>\n",
       "      <td id=\"T_8ad85_row8_col4\" class=\"data row8 col4\" >-0.0757</td>\n",
       "      <td id=\"T_8ad85_row8_col5\" class=\"data row8 col5\" >1.5573</td>\n",
       "      <td id=\"T_8ad85_row8_col6\" class=\"data row8 col6\" >3.2190</td>\n",
       "      <td id=\"T_8ad85_row8_col7\" class=\"data row8 col7\" >1.3770</td>\n",
       "    </tr>\n",
       "    <tr>\n",
       "      <th id=\"T_8ad85_level0_row9\" class=\"row_heading level0 row9\" >llar</th>\n",
       "      <td id=\"T_8ad85_row9_col0\" class=\"data row9 col0\" >Lasso Least Angle Regression</td>\n",
       "      <td id=\"T_8ad85_row9_col1\" class=\"data row9 col1\" >160.9789</td>\n",
       "      <td id=\"T_8ad85_row9_col2\" class=\"data row9 col2\" >328107.2998</td>\n",
       "      <td id=\"T_8ad85_row9_col3\" class=\"data row9 col3\" >545.7960</td>\n",
       "      <td id=\"T_8ad85_row9_col4\" class=\"data row9 col4\" >-0.0757</td>\n",
       "      <td id=\"T_8ad85_row9_col5\" class=\"data row9 col5\" >1.5573</td>\n",
       "      <td id=\"T_8ad85_row9_col6\" class=\"data row9 col6\" >3.2190</td>\n",
       "      <td id=\"T_8ad85_row9_col7\" class=\"data row9 col7\" >1.5420</td>\n",
       "    </tr>\n",
       "    <tr>\n",
       "      <th id=\"T_8ad85_level0_row10\" class=\"row_heading level0 row10\" >dummy</th>\n",
       "      <td id=\"T_8ad85_row10_col0\" class=\"data row10 col0\" >Dummy Regressor</td>\n",
       "      <td id=\"T_8ad85_row10_col1\" class=\"data row10 col1\" >160.9789</td>\n",
       "      <td id=\"T_8ad85_row10_col2\" class=\"data row10 col2\" >328107.3031</td>\n",
       "      <td id=\"T_8ad85_row10_col3\" class=\"data row10 col3\" >545.7960</td>\n",
       "      <td id=\"T_8ad85_row10_col4\" class=\"data row10 col4\" >-0.0757</td>\n",
       "      <td id=\"T_8ad85_row10_col5\" class=\"data row10 col5\" >1.5573</td>\n",
       "      <td id=\"T_8ad85_row10_col6\" class=\"data row10 col6\" >3.2190</td>\n",
       "      <td id=\"T_8ad85_row10_col7\" class=\"data row10 col7\" >1.2200</td>\n",
       "    </tr>\n",
       "    <tr>\n",
       "      <th id=\"T_8ad85_level0_row11\" class=\"row_heading level0 row11\" >lightgbm</th>\n",
       "      <td id=\"T_8ad85_row11_col0\" class=\"data row11 col0\" >Light Gradient Boosting Machine</td>\n",
       "      <td id=\"T_8ad85_row11_col1\" class=\"data row11 col1\" >159.8759</td>\n",
       "      <td id=\"T_8ad85_row11_col2\" class=\"data row11 col2\" >318984.4711</td>\n",
       "      <td id=\"T_8ad85_row11_col3\" class=\"data row11 col3\" >536.8785</td>\n",
       "      <td id=\"T_8ad85_row11_col4\" class=\"data row11 col4\" >-0.0344</td>\n",
       "      <td id=\"T_8ad85_row11_col5\" class=\"data row11 col5\" >1.5075</td>\n",
       "      <td id=\"T_8ad85_row11_col6\" class=\"data row11 col6\" >3.2314</td>\n",
       "      <td id=\"T_8ad85_row11_col7\" class=\"data row11 col7\" >1.6830</td>\n",
       "    </tr>\n",
       "    <tr>\n",
       "      <th id=\"T_8ad85_level0_row12\" class=\"row_heading level0 row12\" >knn</th>\n",
       "      <td id=\"T_8ad85_row12_col0\" class=\"data row12 col0\" >K Neighbors Regressor</td>\n",
       "      <td id=\"T_8ad85_row12_col1\" class=\"data row12 col1\" >160.3498</td>\n",
       "      <td id=\"T_8ad85_row12_col2\" class=\"data row12 col2\" >316534.9203</td>\n",
       "      <td id=\"T_8ad85_row12_col3\" class=\"data row12 col3\" >534.7284</td>\n",
       "      <td id=\"T_8ad85_row12_col4\" class=\"data row12 col4\" >-0.0246</td>\n",
       "      <td id=\"T_8ad85_row12_col5\" class=\"data row12 col5\" >1.5340</td>\n",
       "      <td id=\"T_8ad85_row12_col6\" class=\"data row12 col6\" >3.5313</td>\n",
       "      <td id=\"T_8ad85_row12_col7\" class=\"data row12 col7\" >1.2200</td>\n",
       "    </tr>\n",
       "    <tr>\n",
       "      <th id=\"T_8ad85_level0_row13\" class=\"row_heading level0 row13\" >rf</th>\n",
       "      <td id=\"T_8ad85_row13_col0\" class=\"data row13 col0\" >Random Forest Regressor</td>\n",
       "      <td id=\"T_8ad85_row13_col1\" class=\"data row13 col1\" >165.8842</td>\n",
       "      <td id=\"T_8ad85_row13_col2\" class=\"data row13 col2\" >320598.4874</td>\n",
       "      <td id=\"T_8ad85_row13_col3\" class=\"data row13 col3\" >538.7128</td>\n",
       "      <td id=\"T_8ad85_row13_col4\" class=\"data row13 col4\" >-0.0431</td>\n",
       "      <td id=\"T_8ad85_row13_col5\" class=\"data row13 col5\" >1.5724</td>\n",
       "      <td id=\"T_8ad85_row13_col6\" class=\"data row13 col6\" >3.6173</td>\n",
       "      <td id=\"T_8ad85_row13_col7\" class=\"data row13 col7\" >1.2300</td>\n",
       "    </tr>\n",
       "    <tr>\n",
       "      <th id=\"T_8ad85_level0_row14\" class=\"row_heading level0 row14\" >et</th>\n",
       "      <td id=\"T_8ad85_row14_col0\" class=\"data row14 col0\" >Extra Trees Regressor</td>\n",
       "      <td id=\"T_8ad85_row14_col1\" class=\"data row14 col1\" >179.5165</td>\n",
       "      <td id=\"T_8ad85_row14_col2\" class=\"data row14 col2\" >369911.4093</td>\n",
       "      <td id=\"T_8ad85_row14_col3\" class=\"data row14 col3\" >577.4589</td>\n",
       "      <td id=\"T_8ad85_row14_col4\" class=\"data row14 col4\" >-0.2446</td>\n",
       "      <td id=\"T_8ad85_row14_col5\" class=\"data row14 col5\" >1.6579</td>\n",
       "      <td id=\"T_8ad85_row14_col6\" class=\"data row14 col6\" >4.3706</td>\n",
       "      <td id=\"T_8ad85_row14_col7\" class=\"data row14 col7\" >1.2350</td>\n",
       "    </tr>\n",
       "    <tr>\n",
       "      <th id=\"T_8ad85_level0_row15\" class=\"row_heading level0 row15\" >dt</th>\n",
       "      <td id=\"T_8ad85_row15_col0\" class=\"data row15 col0\" >Decision Tree Regressor</td>\n",
       "      <td id=\"T_8ad85_row15_col1\" class=\"data row15 col1\" >241.1622</td>\n",
       "      <td id=\"T_8ad85_row15_col2\" class=\"data row15 col2\" >610684.3939</td>\n",
       "      <td id=\"T_8ad85_row15_col3\" class=\"data row15 col3\" >749.5352</td>\n",
       "      <td id=\"T_8ad85_row15_col4\" class=\"data row15 col4\" >-1.9641</td>\n",
       "      <td id=\"T_8ad85_row15_col5\" class=\"data row15 col5\" >1.8827</td>\n",
       "      <td id=\"T_8ad85_row15_col6\" class=\"data row15 col6\" >7.7954</td>\n",
       "      <td id=\"T_8ad85_row15_col7\" class=\"data row15 col7\" >1.2100</td>\n",
       "    </tr>\n",
       "    <tr>\n",
       "      <th id=\"T_8ad85_level0_row16\" class=\"row_heading level0 row16\" >lar</th>\n",
       "      <td id=\"T_8ad85_row16_col0\" class=\"data row16 col0\" >Least Angle Regression</td>\n",
       "      <td id=\"T_8ad85_row16_col1\" class=\"data row16 col1\" >500.7144</td>\n",
       "      <td id=\"T_8ad85_row16_col2\" class=\"data row16 col2\" >23840624.3617</td>\n",
       "      <td id=\"T_8ad85_row16_col3\" class=\"data row16 col3\" >1993.8929</td>\n",
       "      <td id=\"T_8ad85_row16_col4\" class=\"data row16 col4\" >-38.5176</td>\n",
       "      <td id=\"T_8ad85_row16_col5\" class=\"data row16 col5\" >1.5032</td>\n",
       "      <td id=\"T_8ad85_row16_col6\" class=\"data row16 col6\" >37.5182</td>\n",
       "      <td id=\"T_8ad85_row16_col7\" class=\"data row16 col7\" >1.3570</td>\n",
       "    </tr>\n",
       "    <tr>\n",
       "      <th id=\"T_8ad85_level0_row17\" class=\"row_heading level0 row17\" >par</th>\n",
       "      <td id=\"T_8ad85_row17_col0\" class=\"data row17 col0\" >Passive Aggressive Regressor</td>\n",
       "      <td id=\"T_8ad85_row17_col1\" class=\"data row17 col1\" >4984561261062050.0000</td>\n",
       "      <td id=\"T_8ad85_row17_col2\" class=\"data row17 col2\" >52176259729711447720011200381059072.0000</td>\n",
       "      <td id=\"T_8ad85_row17_col3\" class=\"data row17 col3\" >72233155148495488.0000</td>\n",
       "      <td id=\"T_8ad85_row17_col4\" class=\"data row17 col4\" >-79574729337013252890822705152.0000</td>\n",
       "      <td id=\"T_8ad85_row17_col5\" class=\"data row17 col5\" >2.3700</td>\n",
       "      <td id=\"T_8ad85_row17_col6\" class=\"data row17 col6\" >4291933879537.5361</td>\n",
       "      <td id=\"T_8ad85_row17_col7\" class=\"data row17 col7\" >1.2320</td>\n",
       "    </tr>\n",
       "  </tbody>\n",
       "</table>\n"
      ],
      "text/plain": [
       "<pandas.io.formats.style.Styler at 0x205a76a4fa0>"
      ]
     },
     "metadata": {},
     "output_type": "display_data"
    },
    {
     "data": {
      "application/vnd.jupyter.widget-view+json": {
       "model_id": "",
       "version_major": 2,
       "version_minor": 0
      },
      "text/plain": [
       "Processing:   0%|          | 0/77 [00:00<?, ?it/s]"
      ]
     },
     "metadata": {},
     "output_type": "display_data"
    }
   ],
   "source": [
    "best_model = compare_models(sort='MAPE')"
   ]
  },
  {
   "cell_type": "code",
   "execution_count": 44,
   "metadata": {},
   "outputs": [
    {
     "name": "stdout",
     "output_type": "stream",
     "text": [
      "AdaBoostRegressor(random_state=123)\n"
     ]
    }
   ],
   "source": [
    "print(best_model)"
   ]
  },
  {
   "cell_type": "code",
   "execution_count": 45,
   "metadata": {},
   "outputs": [
    {
     "data": {
      "text/plain": [
       "AdaBoostRegressor(random_state=123)"
      ]
     },
     "execution_count": 45,
     "metadata": {},
     "output_type": "execute_result"
    }
   ],
   "source": [
    "best_model"
   ]
  },
  {
   "cell_type": "code",
   "execution_count": 46,
   "metadata": {},
   "outputs": [
    {
     "data": {
      "text/html": [],
      "text/plain": [
       "<IPython.core.display.HTML object>"
      ]
     },
     "metadata": {},
     "output_type": "display_data"
    },
    {
     "data": {
      "text/html": [
       "<style type=\"text/css\">\n",
       "#T_1c611_row10_col0, #T_1c611_row10_col1, #T_1c611_row10_col2, #T_1c611_row10_col3, #T_1c611_row10_col4, #T_1c611_row10_col5 {\n",
       "  background: yellow;\n",
       "}\n",
       "</style>\n",
       "<table id=\"T_1c611\">\n",
       "  <thead>\n",
       "    <tr>\n",
       "      <th class=\"blank level0\" >&nbsp;</th>\n",
       "      <th id=\"T_1c611_level0_col0\" class=\"col_heading level0 col0\" >MAE</th>\n",
       "      <th id=\"T_1c611_level0_col1\" class=\"col_heading level0 col1\" >MSE</th>\n",
       "      <th id=\"T_1c611_level0_col2\" class=\"col_heading level0 col2\" >RMSE</th>\n",
       "      <th id=\"T_1c611_level0_col3\" class=\"col_heading level0 col3\" >R2</th>\n",
       "      <th id=\"T_1c611_level0_col4\" class=\"col_heading level0 col4\" >RMSLE</th>\n",
       "      <th id=\"T_1c611_level0_col5\" class=\"col_heading level0 col5\" >MAPE</th>\n",
       "    </tr>\n",
       "    <tr>\n",
       "      <th class=\"index_name level0\" >Fold</th>\n",
       "      <th class=\"blank col0\" >&nbsp;</th>\n",
       "      <th class=\"blank col1\" >&nbsp;</th>\n",
       "      <th class=\"blank col2\" >&nbsp;</th>\n",
       "      <th class=\"blank col3\" >&nbsp;</th>\n",
       "      <th class=\"blank col4\" >&nbsp;</th>\n",
       "      <th class=\"blank col5\" >&nbsp;</th>\n",
       "    </tr>\n",
       "  </thead>\n",
       "  <tbody>\n",
       "    <tr>\n",
       "      <th id=\"T_1c611_level0_row0\" class=\"row_heading level0 row0\" >0</th>\n",
       "      <td id=\"T_1c611_row0_col0\" class=\"data row0 col0\" >209.9036</td>\n",
       "      <td id=\"T_1c611_row0_col1\" class=\"data row0 col1\" >625908.0768</td>\n",
       "      <td id=\"T_1c611_row0_col2\" class=\"data row0 col2\" >791.1435</td>\n",
       "      <td id=\"T_1c611_row0_col3\" class=\"data row0 col3\" >-0.0239</td>\n",
       "      <td id=\"T_1c611_row0_col4\" class=\"data row0 col4\" >1.5180</td>\n",
       "      <td id=\"T_1c611_row0_col5\" class=\"data row0 col5\" >2.8635</td>\n",
       "    </tr>\n",
       "    <tr>\n",
       "      <th id=\"T_1c611_level0_row1\" class=\"row_heading level0 row1\" >1</th>\n",
       "      <td id=\"T_1c611_row1_col0\" class=\"data row1 col0\" >172.1277</td>\n",
       "      <td id=\"T_1c611_row1_col1\" class=\"data row1 col1\" >662097.9830</td>\n",
       "      <td id=\"T_1c611_row1_col2\" class=\"data row1 col2\" >813.6940</td>\n",
       "      <td id=\"T_1c611_row1_col3\" class=\"data row1 col3\" >-0.0098</td>\n",
       "      <td id=\"T_1c611_row1_col4\" class=\"data row1 col4\" >1.3894</td>\n",
       "      <td id=\"T_1c611_row1_col5\" class=\"data row1 col5\" >3.1613</td>\n",
       "    </tr>\n",
       "    <tr>\n",
       "      <th id=\"T_1c611_level0_row2\" class=\"row_heading level0 row2\" >2</th>\n",
       "      <td id=\"T_1c611_row2_col0\" class=\"data row2 col0\" >159.4955</td>\n",
       "      <td id=\"T_1c611_row2_col1\" class=\"data row2 col1\" >251603.8558</td>\n",
       "      <td id=\"T_1c611_row2_col2\" class=\"data row2 col2\" >501.6013</td>\n",
       "      <td id=\"T_1c611_row2_col3\" class=\"data row2 col3\" >-0.0411</td>\n",
       "      <td id=\"T_1c611_row2_col4\" class=\"data row2 col4\" >1.4076</td>\n",
       "      <td id=\"T_1c611_row2_col5\" class=\"data row2 col5\" >2.3174</td>\n",
       "    </tr>\n",
       "    <tr>\n",
       "      <th id=\"T_1c611_level0_row3\" class=\"row_heading level0 row3\" >3</th>\n",
       "      <td id=\"T_1c611_row3_col0\" class=\"data row3 col0\" >159.4136</td>\n",
       "      <td id=\"T_1c611_row3_col1\" class=\"data row3 col1\" >337156.5619</td>\n",
       "      <td id=\"T_1c611_row3_col2\" class=\"data row3 col2\" >580.6518</td>\n",
       "      <td id=\"T_1c611_row3_col3\" class=\"data row3 col3\" >-0.0415</td>\n",
       "      <td id=\"T_1c611_row3_col4\" class=\"data row3 col4\" >1.3839</td>\n",
       "      <td id=\"T_1c611_row3_col5\" class=\"data row3 col5\" >2.2291</td>\n",
       "    </tr>\n",
       "    <tr>\n",
       "      <th id=\"T_1c611_level0_row4\" class=\"row_heading level0 row4\" >4</th>\n",
       "      <td id=\"T_1c611_row4_col0\" class=\"data row4 col0\" >107.9517</td>\n",
       "      <td id=\"T_1c611_row4_col1\" class=\"data row4 col1\" >72408.4409</td>\n",
       "      <td id=\"T_1c611_row4_col2\" class=\"data row4 col2\" >269.0882</td>\n",
       "      <td id=\"T_1c611_row4_col3\" class=\"data row4 col3\" >-0.0454</td>\n",
       "      <td id=\"T_1c611_row4_col4\" class=\"data row4 col4\" >1.3156</td>\n",
       "      <td id=\"T_1c611_row4_col5\" class=\"data row4 col5\" >1.7629</td>\n",
       "    </tr>\n",
       "    <tr>\n",
       "      <th id=\"T_1c611_level0_row5\" class=\"row_heading level0 row5\" >5</th>\n",
       "      <td id=\"T_1c611_row5_col0\" class=\"data row5 col0\" >148.9290</td>\n",
       "      <td id=\"T_1c611_row5_col1\" class=\"data row5 col1\" >229345.0821</td>\n",
       "      <td id=\"T_1c611_row5_col2\" class=\"data row5 col2\" >478.8999</td>\n",
       "      <td id=\"T_1c611_row5_col3\" class=\"data row5 col3\" >-0.0478</td>\n",
       "      <td id=\"T_1c611_row5_col4\" class=\"data row5 col4\" >1.4678</td>\n",
       "      <td id=\"T_1c611_row5_col5\" class=\"data row5 col5\" >3.0789</td>\n",
       "    </tr>\n",
       "    <tr>\n",
       "      <th id=\"T_1c611_level0_row6\" class=\"row_heading level0 row6\" >6</th>\n",
       "      <td id=\"T_1c611_row6_col0\" class=\"data row6 col0\" >167.3425</td>\n",
       "      <td id=\"T_1c611_row6_col1\" class=\"data row6 col1\" >277611.4059</td>\n",
       "      <td id=\"T_1c611_row6_col2\" class=\"data row6 col2\" >526.8884</td>\n",
       "      <td id=\"T_1c611_row6_col3\" class=\"data row6 col3\" >-0.0463</td>\n",
       "      <td id=\"T_1c611_row6_col4\" class=\"data row6 col4\" >1.4211</td>\n",
       "      <td id=\"T_1c611_row6_col5\" class=\"data row6 col5\" >1.6185</td>\n",
       "    </tr>\n",
       "    <tr>\n",
       "      <th id=\"T_1c611_level0_row7\" class=\"row_heading level0 row7\" >7</th>\n",
       "      <td id=\"T_1c611_row7_col0\" class=\"data row7 col0\" >159.7351</td>\n",
       "      <td id=\"T_1c611_row7_col1\" class=\"data row7 col1\" >458947.6802</td>\n",
       "      <td id=\"T_1c611_row7_col2\" class=\"data row7 col2\" >677.4568</td>\n",
       "      <td id=\"T_1c611_row7_col3\" class=\"data row7 col3\" >-0.0337</td>\n",
       "      <td id=\"T_1c611_row7_col4\" class=\"data row7 col4\" >1.4990</td>\n",
       "      <td id=\"T_1c611_row7_col5\" class=\"data row7 col5\" >4.1986</td>\n",
       "    </tr>\n",
       "    <tr>\n",
       "      <th id=\"T_1c611_level0_row8\" class=\"row_heading level0 row8\" >8</th>\n",
       "      <td id=\"T_1c611_row8_col0\" class=\"data row8 col0\" >129.9547</td>\n",
       "      <td id=\"T_1c611_row8_col1\" class=\"data row8 col1\" >104283.4539</td>\n",
       "      <td id=\"T_1c611_row8_col2\" class=\"data row8 col2\" >322.9295</td>\n",
       "      <td id=\"T_1c611_row8_col3\" class=\"data row8 col3\" >-0.0572</td>\n",
       "      <td id=\"T_1c611_row8_col4\" class=\"data row8 col4\" >1.3888</td>\n",
       "      <td id=\"T_1c611_row8_col5\" class=\"data row8 col5\" >2.8392</td>\n",
       "    </tr>\n",
       "    <tr>\n",
       "      <th id=\"T_1c611_level0_row9\" class=\"row_heading level0 row9\" >9</th>\n",
       "      <td id=\"T_1c611_row9_col0\" class=\"data row9 col0\" >127.3764</td>\n",
       "      <td id=\"T_1c611_row9_col1\" class=\"data row9 col1\" >166126.3538</td>\n",
       "      <td id=\"T_1c611_row9_col2\" class=\"data row9 col2\" >407.5860</td>\n",
       "      <td id=\"T_1c611_row9_col3\" class=\"data row9 col3\" >-0.0183</td>\n",
       "      <td id=\"T_1c611_row9_col4\" class=\"data row9 col4\" >1.3872</td>\n",
       "      <td id=\"T_1c611_row9_col5\" class=\"data row9 col5\" >2.7835</td>\n",
       "    </tr>\n",
       "    <tr>\n",
       "      <th id=\"T_1c611_level0_row10\" class=\"row_heading level0 row10\" >Mean</th>\n",
       "      <td id=\"T_1c611_row10_col0\" class=\"data row10 col0\" >154.2230</td>\n",
       "      <td id=\"T_1c611_row10_col1\" class=\"data row10 col1\" >318548.8894</td>\n",
       "      <td id=\"T_1c611_row10_col2\" class=\"data row10 col2\" >536.9939</td>\n",
       "      <td id=\"T_1c611_row10_col3\" class=\"data row10 col3\" >-0.0365</td>\n",
       "      <td id=\"T_1c611_row10_col4\" class=\"data row10 col4\" >1.4178</td>\n",
       "      <td id=\"T_1c611_row10_col5\" class=\"data row10 col5\" >2.6853</td>\n",
       "    </tr>\n",
       "    <tr>\n",
       "      <th id=\"T_1c611_level0_row11\" class=\"row_heading level0 row11\" >Std</th>\n",
       "      <td id=\"T_1c611_row11_col0\" class=\"data row11 col0\" >26.7524</td>\n",
       "      <td id=\"T_1c611_row11_col1\" class=\"data row11 col1\" >194009.2721</td>\n",
       "      <td id=\"T_1c611_row11_col2\" class=\"data row11 col2\" >173.7423</td>\n",
       "      <td id=\"T_1c611_row11_col3\" class=\"data row11 col3\" >0.0141</td>\n",
       "      <td id=\"T_1c611_row11_col4\" class=\"data row11 col4\" >0.0578</td>\n",
       "      <td id=\"T_1c611_row11_col5\" class=\"data row11 col5\" >0.7120</td>\n",
       "    </tr>\n",
       "  </tbody>\n",
       "</table>\n"
      ],
      "text/plain": [
       "<pandas.io.formats.style.Styler at 0x205a909d1c0>"
      ]
     },
     "metadata": {},
     "output_type": "display_data"
    },
    {
     "data": {
      "application/vnd.jupyter.widget-view+json": {
       "model_id": "",
       "version_major": 2,
       "version_minor": 0
      },
      "text/plain": [
       "Processing:   0%|          | 0/4 [00:00<?, ?it/s]"
      ]
     },
     "metadata": {},
     "output_type": "display_data"
    }
   ],
   "source": [
    "model = create_model(best_model)"
   ]
  },
  {
   "cell_type": "code",
   "execution_count": 50,
   "metadata": {},
   "outputs": [
    {
     "data": {
      "text/html": [],
      "text/plain": [
       "<IPython.core.display.HTML object>"
      ]
     },
     "metadata": {},
     "output_type": "display_data"
    },
    {
     "data": {
      "text/html": [
       "<style type=\"text/css\">\n",
       "#T_2b9fa_row10_col0, #T_2b9fa_row10_col1, #T_2b9fa_row10_col2, #T_2b9fa_row10_col3, #T_2b9fa_row10_col4, #T_2b9fa_row10_col5 {\n",
       "  background: yellow;\n",
       "}\n",
       "</style>\n",
       "<table id=\"T_2b9fa\">\n",
       "  <thead>\n",
       "    <tr>\n",
       "      <th class=\"blank level0\" >&nbsp;</th>\n",
       "      <th id=\"T_2b9fa_level0_col0\" class=\"col_heading level0 col0\" >MAE</th>\n",
       "      <th id=\"T_2b9fa_level0_col1\" class=\"col_heading level0 col1\" >MSE</th>\n",
       "      <th id=\"T_2b9fa_level0_col2\" class=\"col_heading level0 col2\" >RMSE</th>\n",
       "      <th id=\"T_2b9fa_level0_col3\" class=\"col_heading level0 col3\" >R2</th>\n",
       "      <th id=\"T_2b9fa_level0_col4\" class=\"col_heading level0 col4\" >RMSLE</th>\n",
       "      <th id=\"T_2b9fa_level0_col5\" class=\"col_heading level0 col5\" >MAPE</th>\n",
       "    </tr>\n",
       "    <tr>\n",
       "      <th class=\"index_name level0\" >Fold</th>\n",
       "      <th class=\"blank col0\" >&nbsp;</th>\n",
       "      <th class=\"blank col1\" >&nbsp;</th>\n",
       "      <th class=\"blank col2\" >&nbsp;</th>\n",
       "      <th class=\"blank col3\" >&nbsp;</th>\n",
       "      <th class=\"blank col4\" >&nbsp;</th>\n",
       "      <th class=\"blank col5\" >&nbsp;</th>\n",
       "    </tr>\n",
       "  </thead>\n",
       "  <tbody>\n",
       "    <tr>\n",
       "      <th id=\"T_2b9fa_level0_row0\" class=\"row_heading level0 row0\" >0</th>\n",
       "      <td id=\"T_2b9fa_row0_col0\" class=\"data row0 col0\" >208.4238</td>\n",
       "      <td id=\"T_2b9fa_row0_col1\" class=\"data row0 col1\" >617184.0958</td>\n",
       "      <td id=\"T_2b9fa_row0_col2\" class=\"data row0 col2\" >785.6107</td>\n",
       "      <td id=\"T_2b9fa_row0_col3\" class=\"data row0 col3\" >-0.0096</td>\n",
       "      <td id=\"T_2b9fa_row0_col4\" class=\"data row0 col4\" >1.5134</td>\n",
       "      <td id=\"T_2b9fa_row0_col5\" class=\"data row0 col5\" >3.2333</td>\n",
       "    </tr>\n",
       "    <tr>\n",
       "      <th id=\"T_2b9fa_level0_row1\" class=\"row_heading level0 row1\" >1</th>\n",
       "      <td id=\"T_2b9fa_row1_col0\" class=\"data row1 col0\" >170.3915</td>\n",
       "      <td id=\"T_2b9fa_row1_col1\" class=\"data row1 col1\" >657035.5356</td>\n",
       "      <td id=\"T_2b9fa_row1_col2\" class=\"data row1 col2\" >810.5773</td>\n",
       "      <td id=\"T_2b9fa_row1_col3\" class=\"data row1 col3\" >-0.0021</td>\n",
       "      <td id=\"T_2b9fa_row1_col4\" class=\"data row1 col4\" >1.3736</td>\n",
       "      <td id=\"T_2b9fa_row1_col5\" class=\"data row1 col5\" >3.1480</td>\n",
       "    </tr>\n",
       "    <tr>\n",
       "      <th id=\"T_2b9fa_level0_row2\" class=\"row_heading level0 row2\" >2</th>\n",
       "      <td id=\"T_2b9fa_row2_col0\" class=\"data row2 col0\" >153.7094</td>\n",
       "      <td id=\"T_2b9fa_row2_col1\" class=\"data row2 col1\" >243274.8466</td>\n",
       "      <td id=\"T_2b9fa_row2_col2\" class=\"data row2 col2\" >493.2290</td>\n",
       "      <td id=\"T_2b9fa_row2_col3\" class=\"data row2 col3\" >-0.0067</td>\n",
       "      <td id=\"T_2b9fa_row2_col4\" class=\"data row2 col4\" >1.3486</td>\n",
       "      <td id=\"T_2b9fa_row2_col5\" class=\"data row2 col5\" >2.4924</td>\n",
       "    </tr>\n",
       "    <tr>\n",
       "      <th id=\"T_2b9fa_level0_row3\" class=\"row_heading level0 row3\" >3</th>\n",
       "      <td id=\"T_2b9fa_row3_col0\" class=\"data row3 col0\" >156.7350</td>\n",
       "      <td id=\"T_2b9fa_row3_col1\" class=\"data row3 col1\" >332100.8440</td>\n",
       "      <td id=\"T_2b9fa_row3_col2\" class=\"data row3 col2\" >576.2819</td>\n",
       "      <td id=\"T_2b9fa_row3_col3\" class=\"data row3 col3\" >-0.0259</td>\n",
       "      <td id=\"T_2b9fa_row3_col4\" class=\"data row3 col4\" >1.3632</td>\n",
       "      <td id=\"T_2b9fa_row3_col5\" class=\"data row3 col5\" >2.4373</td>\n",
       "    </tr>\n",
       "    <tr>\n",
       "      <th id=\"T_2b9fa_level0_row4\" class=\"row_heading level0 row4\" >4</th>\n",
       "      <td id=\"T_2b9fa_row4_col0\" class=\"data row4 col0\" >107.6672</td>\n",
       "      <td id=\"T_2b9fa_row4_col1\" class=\"data row4 col1\" >71610.6198</td>\n",
       "      <td id=\"T_2b9fa_row4_col2\" class=\"data row4 col2\" >267.6016</td>\n",
       "      <td id=\"T_2b9fa_row4_col3\" class=\"data row4 col3\" >-0.0339</td>\n",
       "      <td id=\"T_2b9fa_row4_col4\" class=\"data row4 col4\" >1.3120</td>\n",
       "      <td id=\"T_2b9fa_row4_col5\" class=\"data row4 col5\" >1.8996</td>\n",
       "    </tr>\n",
       "    <tr>\n",
       "      <th id=\"T_2b9fa_level0_row5\" class=\"row_heading level0 row5\" >5</th>\n",
       "      <td id=\"T_2b9fa_row5_col0\" class=\"data row5 col0\" >148.5509</td>\n",
       "      <td id=\"T_2b9fa_row5_col1\" class=\"data row5 col1\" >225971.1589</td>\n",
       "      <td id=\"T_2b9fa_row5_col2\" class=\"data row5 col2\" >475.3642</td>\n",
       "      <td id=\"T_2b9fa_row5_col3\" class=\"data row5 col3\" >-0.0324</td>\n",
       "      <td id=\"T_2b9fa_row5_col4\" class=\"data row5 col4\" >1.4662</td>\n",
       "      <td id=\"T_2b9fa_row5_col5\" class=\"data row5 col5\" >3.2130</td>\n",
       "    </tr>\n",
       "    <tr>\n",
       "      <th id=\"T_2b9fa_level0_row6\" class=\"row_heading level0 row6\" >6</th>\n",
       "      <td id=\"T_2b9fa_row6_col0\" class=\"data row6 col0\" >168.7493</td>\n",
       "      <td id=\"T_2b9fa_row6_col1\" class=\"data row6 col1\" >272222.8778</td>\n",
       "      <td id=\"T_2b9fa_row6_col2\" class=\"data row6 col2\" >521.7498</td>\n",
       "      <td id=\"T_2b9fa_row6_col3\" class=\"data row6 col3\" >-0.0260</td>\n",
       "      <td id=\"T_2b9fa_row6_col4\" class=\"data row6 col4\" >1.4323</td>\n",
       "      <td id=\"T_2b9fa_row6_col5\" class=\"data row6 col5\" >1.7951</td>\n",
       "    </tr>\n",
       "    <tr>\n",
       "      <th id=\"T_2b9fa_level0_row7\" class=\"row_heading level0 row7\" >7</th>\n",
       "      <td id=\"T_2b9fa_row7_col0\" class=\"data row7 col0\" >159.0050</td>\n",
       "      <td id=\"T_2b9fa_row7_col1\" class=\"data row7 col1\" >456553.5910</td>\n",
       "      <td id=\"T_2b9fa_row7_col2\" class=\"data row7 col2\" >675.6875</td>\n",
       "      <td id=\"T_2b9fa_row7_col3\" class=\"data row7 col3\" >-0.0283</td>\n",
       "      <td id=\"T_2b9fa_row7_col4\" class=\"data row7 col4\" >1.4922</td>\n",
       "      <td id=\"T_2b9fa_row7_col5\" class=\"data row7 col5\" >4.5217</td>\n",
       "    </tr>\n",
       "    <tr>\n",
       "      <th id=\"T_2b9fa_level0_row8\" class=\"row_heading level0 row8\" >8</th>\n",
       "      <td id=\"T_2b9fa_row8_col0\" class=\"data row8 col0\" >128.7199</td>\n",
       "      <td id=\"T_2b9fa_row8_col1\" class=\"data row8 col1\" >101547.6984</td>\n",
       "      <td id=\"T_2b9fa_row8_col2\" class=\"data row8 col2\" >318.6655</td>\n",
       "      <td id=\"T_2b9fa_row8_col3\" class=\"data row8 col3\" >-0.0295</td>\n",
       "      <td id=\"T_2b9fa_row8_col4\" class=\"data row8 col4\" >1.3701</td>\n",
       "      <td id=\"T_2b9fa_row8_col5\" class=\"data row8 col5\" >2.7793</td>\n",
       "    </tr>\n",
       "    <tr>\n",
       "      <th id=\"T_2b9fa_level0_row9\" class=\"row_heading level0 row9\" >9</th>\n",
       "      <td id=\"T_2b9fa_row9_col0\" class=\"data row9 col0\" >127.0022</td>\n",
       "      <td id=\"T_2b9fa_row9_col1\" class=\"data row9 col1\" >162295.8830</td>\n",
       "      <td id=\"T_2b9fa_row9_col2\" class=\"data row9 col2\" >402.8596</td>\n",
       "      <td id=\"T_2b9fa_row9_col3\" class=\"data row9 col3\" >0.0052</td>\n",
       "      <td id=\"T_2b9fa_row9_col4\" class=\"data row9 col4\" >1.3823</td>\n",
       "      <td id=\"T_2b9fa_row9_col5\" class=\"data row9 col5\" >2.9815</td>\n",
       "    </tr>\n",
       "    <tr>\n",
       "      <th id=\"T_2b9fa_level0_row10\" class=\"row_heading level0 row10\" >Mean</th>\n",
       "      <td id=\"T_2b9fa_row10_col0\" class=\"data row10 col0\" >152.8954</td>\n",
       "      <td id=\"T_2b9fa_row10_col1\" class=\"data row10 col1\" >313979.7151</td>\n",
       "      <td id=\"T_2b9fa_row10_col2\" class=\"data row10 col2\" >532.7627</td>\n",
       "      <td id=\"T_2b9fa_row10_col3\" class=\"data row10 col3\" >-0.0189</td>\n",
       "      <td id=\"T_2b9fa_row10_col4\" class=\"data row10 col4\" >1.4054</td>\n",
       "      <td id=\"T_2b9fa_row10_col5\" class=\"data row10 col5\" >2.8501</td>\n",
       "    </tr>\n",
       "    <tr>\n",
       "      <th id=\"T_2b9fa_level0_row11\" class=\"row_heading level0 row11\" >Std</th>\n",
       "      <td id=\"T_2b9fa_row11_col0\" class=\"data row11 col0\" >26.4820</td>\n",
       "      <td id=\"T_2b9fa_row11_col1\" class=\"data row11 col1\" >192780.2689</td>\n",
       "      <td id=\"T_2b9fa_row11_col2\" class=\"data row11 col2\" >173.6191</td>\n",
       "      <td id=\"T_2b9fa_row11_col3\" class=\"data row11 col3\" >0.0134</td>\n",
       "      <td id=\"T_2b9fa_row11_col4\" class=\"data row11 col4\" >0.0634</td>\n",
       "      <td id=\"T_2b9fa_row11_col5\" class=\"data row11 col5\" >0.7415</td>\n",
       "    </tr>\n",
       "  </tbody>\n",
       "</table>\n"
      ],
      "text/plain": [
       "<pandas.io.formats.style.Styler at 0x205a76fd730>"
      ]
     },
     "metadata": {},
     "output_type": "display_data"
    },
    {
     "data": {
      "application/vnd.jupyter.widget-view+json": {
       "model_id": "",
       "version_major": 2,
       "version_minor": 0
      },
      "text/plain": [
       "Processing:   0%|          | 0/4 [00:00<?, ?it/s]"
      ]
     },
     "metadata": {},
     "output_type": "display_data"
    }
   ],
   "source": [
    "model_2 = create_model('huber')"
   ]
  },
  {
   "cell_type": "code",
   "execution_count": null,
   "metadata": {},
   "outputs": [],
   "source": []
  },
  {
   "cell_type": "code",
   "execution_count": 58,
   "metadata": {},
   "outputs": [
    {
     "data": {
      "text/html": [
       "<style type=\"text/css\">\n",
       "#T_3a95f_row9_col1, #T_3a95f_row15_col1, #T_3a95f_row17_col1, #T_3a95f_row19_col1 {\n",
       "  background-color: lightgreen;\n",
       "}\n",
       "</style>\n",
       "<table id=\"T_3a95f\">\n",
       "  <thead>\n",
       "    <tr>\n",
       "      <th class=\"blank level0\" >&nbsp;</th>\n",
       "      <th id=\"T_3a95f_level0_col0\" class=\"col_heading level0 col0\" >Description</th>\n",
       "      <th id=\"T_3a95f_level0_col1\" class=\"col_heading level0 col1\" >Value</th>\n",
       "    </tr>\n",
       "  </thead>\n",
       "  <tbody>\n",
       "    <tr>\n",
       "      <th id=\"T_3a95f_level0_row0\" class=\"row_heading level0 row0\" >0</th>\n",
       "      <td id=\"T_3a95f_row0_col0\" class=\"data row0 col0\" >Session id</td>\n",
       "      <td id=\"T_3a95f_row0_col1\" class=\"data row0 col1\" >123</td>\n",
       "    </tr>\n",
       "    <tr>\n",
       "      <th id=\"T_3a95f_level0_row1\" class=\"row_heading level0 row1\" >1</th>\n",
       "      <td id=\"T_3a95f_row1_col0\" class=\"data row1 col0\" >Target</td>\n",
       "      <td id=\"T_3a95f_row1_col1\" class=\"data row1 col1\" >monthly_beer_volume</td>\n",
       "    </tr>\n",
       "    <tr>\n",
       "      <th id=\"T_3a95f_level0_row2\" class=\"row_heading level0 row2\" >2</th>\n",
       "      <td id=\"T_3a95f_row2_col0\" class=\"data row2 col0\" >Target type</td>\n",
       "      <td id=\"T_3a95f_row2_col1\" class=\"data row2 col1\" >Regression</td>\n",
       "    </tr>\n",
       "    <tr>\n",
       "      <th id=\"T_3a95f_level0_row3\" class=\"row_heading level0 row3\" >3</th>\n",
       "      <td id=\"T_3a95f_row3_col0\" class=\"data row3 col0\" >Original data shape</td>\n",
       "      <td id=\"T_3a95f_row3_col1\" class=\"data row3 col1\" >(3000, 6)</td>\n",
       "    </tr>\n",
       "    <tr>\n",
       "      <th id=\"T_3a95f_level0_row4\" class=\"row_heading level0 row4\" >4</th>\n",
       "      <td id=\"T_3a95f_row4_col0\" class=\"data row4 col0\" >Transformed data shape</td>\n",
       "      <td id=\"T_3a95f_row4_col1\" class=\"data row4 col1\" >(3000, 15)</td>\n",
       "    </tr>\n",
       "    <tr>\n",
       "      <th id=\"T_3a95f_level0_row5\" class=\"row_heading level0 row5\" >5</th>\n",
       "      <td id=\"T_3a95f_row5_col0\" class=\"data row5 col0\" >Transformed train set shape</td>\n",
       "      <td id=\"T_3a95f_row5_col1\" class=\"data row5 col1\" >(2100, 15)</td>\n",
       "    </tr>\n",
       "    <tr>\n",
       "      <th id=\"T_3a95f_level0_row6\" class=\"row_heading level0 row6\" >6</th>\n",
       "      <td id=\"T_3a95f_row6_col0\" class=\"data row6 col0\" >Transformed test set shape</td>\n",
       "      <td id=\"T_3a95f_row6_col1\" class=\"data row6 col1\" >(900, 15)</td>\n",
       "    </tr>\n",
       "    <tr>\n",
       "      <th id=\"T_3a95f_level0_row7\" class=\"row_heading level0 row7\" >7</th>\n",
       "      <td id=\"T_3a95f_row7_col0\" class=\"data row7 col0\" >Numeric features</td>\n",
       "      <td id=\"T_3a95f_row7_col1\" class=\"data row7 col1\" >2</td>\n",
       "    </tr>\n",
       "    <tr>\n",
       "      <th id=\"T_3a95f_level0_row8\" class=\"row_heading level0 row8\" >8</th>\n",
       "      <td id=\"T_3a95f_row8_col0\" class=\"data row8 col0\" >Categorical features</td>\n",
       "      <td id=\"T_3a95f_row8_col1\" class=\"data row8 col1\" >3</td>\n",
       "    </tr>\n",
       "    <tr>\n",
       "      <th id=\"T_3a95f_level0_row9\" class=\"row_heading level0 row9\" >9</th>\n",
       "      <td id=\"T_3a95f_row9_col0\" class=\"data row9 col0\" >Preprocess</td>\n",
       "      <td id=\"T_3a95f_row9_col1\" class=\"data row9 col1\" >True</td>\n",
       "    </tr>\n",
       "    <tr>\n",
       "      <th id=\"T_3a95f_level0_row10\" class=\"row_heading level0 row10\" >10</th>\n",
       "      <td id=\"T_3a95f_row10_col0\" class=\"data row10 col0\" >Imputation type</td>\n",
       "      <td id=\"T_3a95f_row10_col1\" class=\"data row10 col1\" >simple</td>\n",
       "    </tr>\n",
       "    <tr>\n",
       "      <th id=\"T_3a95f_level0_row11\" class=\"row_heading level0 row11\" >11</th>\n",
       "      <td id=\"T_3a95f_row11_col0\" class=\"data row11 col0\" >Numeric imputation</td>\n",
       "      <td id=\"T_3a95f_row11_col1\" class=\"data row11 col1\" >mean</td>\n",
       "    </tr>\n",
       "    <tr>\n",
       "      <th id=\"T_3a95f_level0_row12\" class=\"row_heading level0 row12\" >12</th>\n",
       "      <td id=\"T_3a95f_row12_col0\" class=\"data row12 col0\" >Categorical imputation</td>\n",
       "      <td id=\"T_3a95f_row12_col1\" class=\"data row12 col1\" >mode</td>\n",
       "    </tr>\n",
       "    <tr>\n",
       "      <th id=\"T_3a95f_level0_row13\" class=\"row_heading level0 row13\" >13</th>\n",
       "      <td id=\"T_3a95f_row13_col0\" class=\"data row13 col0\" >Maximum one-hot encoding</td>\n",
       "      <td id=\"T_3a95f_row13_col1\" class=\"data row13 col1\" >25</td>\n",
       "    </tr>\n",
       "    <tr>\n",
       "      <th id=\"T_3a95f_level0_row14\" class=\"row_heading level0 row14\" >14</th>\n",
       "      <td id=\"T_3a95f_row14_col0\" class=\"data row14 col0\" >Encoding method</td>\n",
       "      <td id=\"T_3a95f_row14_col1\" class=\"data row14 col1\" >None</td>\n",
       "    </tr>\n",
       "    <tr>\n",
       "      <th id=\"T_3a95f_level0_row15\" class=\"row_heading level0 row15\" >15</th>\n",
       "      <td id=\"T_3a95f_row15_col0\" class=\"data row15 col0\" >Transformation</td>\n",
       "      <td id=\"T_3a95f_row15_col1\" class=\"data row15 col1\" >True</td>\n",
       "    </tr>\n",
       "    <tr>\n",
       "      <th id=\"T_3a95f_level0_row16\" class=\"row_heading level0 row16\" >16</th>\n",
       "      <td id=\"T_3a95f_row16_col0\" class=\"data row16 col0\" >Transformation method</td>\n",
       "      <td id=\"T_3a95f_row16_col1\" class=\"data row16 col1\" >yeo-johnson</td>\n",
       "    </tr>\n",
       "    <tr>\n",
       "      <th id=\"T_3a95f_level0_row17\" class=\"row_heading level0 row17\" >17</th>\n",
       "      <td id=\"T_3a95f_row17_col0\" class=\"data row17 col0\" >Normalize</td>\n",
       "      <td id=\"T_3a95f_row17_col1\" class=\"data row17 col1\" >True</td>\n",
       "    </tr>\n",
       "    <tr>\n",
       "      <th id=\"T_3a95f_level0_row18\" class=\"row_heading level0 row18\" >18</th>\n",
       "      <td id=\"T_3a95f_row18_col0\" class=\"data row18 col0\" >Normalize method</td>\n",
       "      <td id=\"T_3a95f_row18_col1\" class=\"data row18 col1\" >zscore</td>\n",
       "    </tr>\n",
       "    <tr>\n",
       "      <th id=\"T_3a95f_level0_row19\" class=\"row_heading level0 row19\" >19</th>\n",
       "      <td id=\"T_3a95f_row19_col0\" class=\"data row19 col0\" >Transform target</td>\n",
       "      <td id=\"T_3a95f_row19_col1\" class=\"data row19 col1\" >True</td>\n",
       "    </tr>\n",
       "    <tr>\n",
       "      <th id=\"T_3a95f_level0_row20\" class=\"row_heading level0 row20\" >20</th>\n",
       "      <td id=\"T_3a95f_row20_col0\" class=\"data row20 col0\" >Transform target method</td>\n",
       "      <td id=\"T_3a95f_row20_col1\" class=\"data row20 col1\" >yeo-johnson</td>\n",
       "    </tr>\n",
       "    <tr>\n",
       "      <th id=\"T_3a95f_level0_row21\" class=\"row_heading level0 row21\" >21</th>\n",
       "      <td id=\"T_3a95f_row21_col0\" class=\"data row21 col0\" >Fold Generator</td>\n",
       "      <td id=\"T_3a95f_row21_col1\" class=\"data row21 col1\" >KFold</td>\n",
       "    </tr>\n",
       "    <tr>\n",
       "      <th id=\"T_3a95f_level0_row22\" class=\"row_heading level0 row22\" >22</th>\n",
       "      <td id=\"T_3a95f_row22_col0\" class=\"data row22 col0\" >Fold Number</td>\n",
       "      <td id=\"T_3a95f_row22_col1\" class=\"data row22 col1\" >10</td>\n",
       "    </tr>\n",
       "    <tr>\n",
       "      <th id=\"T_3a95f_level0_row23\" class=\"row_heading level0 row23\" >23</th>\n",
       "      <td id=\"T_3a95f_row23_col0\" class=\"data row23 col0\" >CPU Jobs</td>\n",
       "      <td id=\"T_3a95f_row23_col1\" class=\"data row23 col1\" >-1</td>\n",
       "    </tr>\n",
       "    <tr>\n",
       "      <th id=\"T_3a95f_level0_row24\" class=\"row_heading level0 row24\" >24</th>\n",
       "      <td id=\"T_3a95f_row24_col0\" class=\"data row24 col0\" >Use GPU</td>\n",
       "      <td id=\"T_3a95f_row24_col1\" class=\"data row24 col1\" >False</td>\n",
       "    </tr>\n",
       "    <tr>\n",
       "      <th id=\"T_3a95f_level0_row25\" class=\"row_heading level0 row25\" >25</th>\n",
       "      <td id=\"T_3a95f_row25_col0\" class=\"data row25 col0\" >Log Experiment</td>\n",
       "      <td id=\"T_3a95f_row25_col1\" class=\"data row25 col1\" >False</td>\n",
       "    </tr>\n",
       "    <tr>\n",
       "      <th id=\"T_3a95f_level0_row26\" class=\"row_heading level0 row26\" >26</th>\n",
       "      <td id=\"T_3a95f_row26_col0\" class=\"data row26 col0\" >Experiment Name</td>\n",
       "      <td id=\"T_3a95f_row26_col1\" class=\"data row26 col1\" >regressao02</td>\n",
       "    </tr>\n",
       "    <tr>\n",
       "      <th id=\"T_3a95f_level0_row27\" class=\"row_heading level0 row27\" >27</th>\n",
       "      <td id=\"T_3a95f_row27_col0\" class=\"data row27 col0\" >USI</td>\n",
       "      <td id=\"T_3a95f_row27_col1\" class=\"data row27 col1\" >f43d</td>\n",
       "    </tr>\n",
       "  </tbody>\n",
       "</table>\n"
      ],
      "text/plain": [
       "<pandas.io.formats.style.Styler at 0x205aa186910>"
      ]
     },
     "metadata": {},
     "output_type": "display_data"
    }
   ],
   "source": [
    "exp_clf02 = setup(   data = teste # data set \n",
    "                    ,experiment_name = \"regressao02\" \n",
    "                    ,target = 'monthly_beer_volume'\n",
    "                    ,session_id = 123 \n",
    "                    ,profile = False \n",
    "                    , numeric_features = ['number_of_reviews_filled', 'qty_poc_5k_cell']\n",
    "                    , categorical_features = ['level_1','level_2', 'level_3']\n",
    "                \n",
    "                    ,transform_target = True \n",
    "                    ,normalize = True\n",
    "                    ,transformation = True\n",
    "                    #,bin_numeric_features = ['tax']\n",
    "                 )"
   ]
  },
  {
   "cell_type": "code",
   "execution_count": 63,
   "metadata": {},
   "outputs": [
    {
     "data": {
      "text/plain": [
       "<pycaret.regression.oop.RegressionExperiment at 0x205a944c8b0>"
      ]
     },
     "execution_count": 63,
     "metadata": {},
     "output_type": "execute_result"
    }
   ],
   "source": [
    "exp_clf02"
   ]
  },
  {
   "cell_type": "code",
   "execution_count": 59,
   "metadata": {},
   "outputs": [],
   "source": [
    "prep_pipe  = get_config(\"X_train\")"
   ]
  },
  {
   "cell_type": "code",
   "execution_count": 62,
   "metadata": {},
   "outputs": [
    {
     "name": "stdout",
     "output_type": "stream",
     "text": [
      "           level_1                          level_2       level_3  \\\n",
      "2918  Liquor Store           Warehouse/Liquor Store  Liquor Store   \n",
      "529   Liquor Store           Warehouse/Liquor Store  Liquor Store   \n",
      "970   Liquor Store           Warehouse/Liquor Store  Liquor Store   \n",
      "1450     Groceries  Supermarket (More than 4 boxes)   Supermarket   \n",
      "2997  Liquor Store       Market (Less than 4 boxes)         Store   \n",
      "...            ...                              ...           ...   \n",
      "1147  Liquor Store       Market (Less than 4 boxes)         Store   \n",
      "2154     Groceries       Market (Less than 4 boxes)         Store   \n",
      "1766     Groceries       Market (Less than 4 boxes)         Store   \n",
      "1122     Groceries       Market (Less than 4 boxes)         Store   \n",
      "1346     Groceries  Supermarket (More than 4 boxes)   Supermarket   \n",
      "\n",
      "      number_of_reviews_filled  qty_poc_5k_cell  \n",
      "2918                137.714279               57  \n",
      "529                  14.000000              115  \n",
      "970                  45.857143               27  \n",
      "1450                227.428574              131  \n",
      "2997                  1.000000               23  \n",
      "...                        ...              ...  \n",
      "1147                919.428589              261  \n",
      "2154                605.428589              326  \n",
      "1766                284.428558               31  \n",
      "1122                100.000000               81  \n",
      "1346                 63.857143               22  \n",
      "\n",
      "[2100 rows x 5 columns]\n"
     ]
    }
   ],
   "source": [
    "print(prep_pipe)"
   ]
  },
  {
   "cell_type": "code",
   "execution_count": 57,
   "metadata": {},
   "outputs": [
    {
     "ename": "SpecificationError",
     "evalue": "nested renamer is not supported",
     "output_type": "error",
     "traceback": [
      "\u001b[1;31m---------------------------------------------------------------------------\u001b[0m",
      "\u001b[1;31mSpecificationError\u001b[0m                        Traceback (most recent call last)",
      "\u001b[1;32m~\\AppData\\Local\\Temp\\ipykernel_12352\\456079383.py\u001b[0m in \u001b[0;36m<module>\u001b[1;34m\u001b[0m\n\u001b[1;32m----> 1\u001b[1;33m \u001b[0mprep_pipe\u001b[0m\u001b[1;33m.\u001b[0m\u001b[0mtransform\u001b[0m\u001b[1;33m(\u001b[0m\u001b[0mdata\u001b[0m\u001b[1;33m)\u001b[0m\u001b[1;33m\u001b[0m\u001b[1;33m\u001b[0m\u001b[0m\n\u001b[0m",
      "\u001b[1;32m~\\anaconda3\\lib\\site-packages\\pandas\\core\\frame.py\u001b[0m in \u001b[0;36mtransform\u001b[1;34m(self, func, axis, *args, **kwargs)\u001b[0m\n\u001b[0;32m   8685\u001b[0m \u001b[1;33m\u001b[0m\u001b[0m\n\u001b[0;32m   8686\u001b[0m         \u001b[0mop\u001b[0m \u001b[1;33m=\u001b[0m \u001b[0mframe_apply\u001b[0m\u001b[1;33m(\u001b[0m\u001b[0mself\u001b[0m\u001b[1;33m,\u001b[0m \u001b[0mfunc\u001b[0m\u001b[1;33m=\u001b[0m\u001b[0mfunc\u001b[0m\u001b[1;33m,\u001b[0m \u001b[0maxis\u001b[0m\u001b[1;33m=\u001b[0m\u001b[0maxis\u001b[0m\u001b[1;33m,\u001b[0m \u001b[0margs\u001b[0m\u001b[1;33m=\u001b[0m\u001b[0margs\u001b[0m\u001b[1;33m,\u001b[0m \u001b[0mkwargs\u001b[0m\u001b[1;33m=\u001b[0m\u001b[0mkwargs\u001b[0m\u001b[1;33m)\u001b[0m\u001b[1;33m\u001b[0m\u001b[1;33m\u001b[0m\u001b[0m\n\u001b[1;32m-> 8687\u001b[1;33m         \u001b[0mresult\u001b[0m \u001b[1;33m=\u001b[0m \u001b[0mop\u001b[0m\u001b[1;33m.\u001b[0m\u001b[0mtransform\u001b[0m\u001b[1;33m(\u001b[0m\u001b[1;33m)\u001b[0m\u001b[1;33m\u001b[0m\u001b[1;33m\u001b[0m\u001b[0m\n\u001b[0m\u001b[0;32m   8688\u001b[0m         \u001b[1;32massert\u001b[0m \u001b[0misinstance\u001b[0m\u001b[1;33m(\u001b[0m\u001b[0mresult\u001b[0m\u001b[1;33m,\u001b[0m \u001b[0mDataFrame\u001b[0m\u001b[1;33m)\u001b[0m\u001b[1;33m\u001b[0m\u001b[1;33m\u001b[0m\u001b[0m\n\u001b[0;32m   8689\u001b[0m         \u001b[1;32mreturn\u001b[0m \u001b[0mresult\u001b[0m\u001b[1;33m\u001b[0m\u001b[1;33m\u001b[0m\u001b[0m\n",
      "\u001b[1;32m~\\anaconda3\\lib\\site-packages\\pandas\\core\\apply.py\u001b[0m in \u001b[0;36mtransform\u001b[1;34m(self)\u001b[0m\n\u001b[0;32m    216\u001b[0m         \u001b[1;32mif\u001b[0m \u001b[0mis_dict_like\u001b[0m\u001b[1;33m(\u001b[0m\u001b[0mfunc\u001b[0m\u001b[1;33m)\u001b[0m\u001b[1;33m:\u001b[0m\u001b[1;33m\u001b[0m\u001b[1;33m\u001b[0m\u001b[0m\n\u001b[0;32m    217\u001b[0m             \u001b[0mfunc\u001b[0m \u001b[1;33m=\u001b[0m \u001b[0mcast\u001b[0m\u001b[1;33m(\u001b[0m\u001b[0mAggFuncTypeDict\u001b[0m\u001b[1;33m,\u001b[0m \u001b[0mfunc\u001b[0m\u001b[1;33m)\u001b[0m\u001b[1;33m\u001b[0m\u001b[1;33m\u001b[0m\u001b[0m\n\u001b[1;32m--> 218\u001b[1;33m             \u001b[1;32mreturn\u001b[0m \u001b[0mself\u001b[0m\u001b[1;33m.\u001b[0m\u001b[0mtransform_dict_like\u001b[0m\u001b[1;33m(\u001b[0m\u001b[0mfunc\u001b[0m\u001b[1;33m)\u001b[0m\u001b[1;33m\u001b[0m\u001b[1;33m\u001b[0m\u001b[0m\n\u001b[0m\u001b[0;32m    219\u001b[0m \u001b[1;33m\u001b[0m\u001b[0m\n\u001b[0;32m    220\u001b[0m         \u001b[1;31m# func is either str or callable\u001b[0m\u001b[1;33m\u001b[0m\u001b[1;33m\u001b[0m\u001b[0m\n",
      "\u001b[1;32m~\\anaconda3\\lib\\site-packages\\pandas\\core\\apply.py\u001b[0m in \u001b[0;36mtransform_dict_like\u001b[1;34m(self, func)\u001b[0m\n\u001b[0;32m    258\u001b[0m             \u001b[1;32mraise\u001b[0m \u001b[0mValueError\u001b[0m\u001b[1;33m(\u001b[0m\u001b[1;34m\"No transform functions were provided\"\u001b[0m\u001b[1;33m)\u001b[0m\u001b[1;33m\u001b[0m\u001b[1;33m\u001b[0m\u001b[0m\n\u001b[0;32m    259\u001b[0m \u001b[1;33m\u001b[0m\u001b[0m\n\u001b[1;32m--> 260\u001b[1;33m         \u001b[0mfunc\u001b[0m \u001b[1;33m=\u001b[0m \u001b[0mself\u001b[0m\u001b[1;33m.\u001b[0m\u001b[0mnormalize_dictlike_arg\u001b[0m\u001b[1;33m(\u001b[0m\u001b[1;34m\"transform\"\u001b[0m\u001b[1;33m,\u001b[0m \u001b[0mobj\u001b[0m\u001b[1;33m,\u001b[0m \u001b[0mfunc\u001b[0m\u001b[1;33m)\u001b[0m\u001b[1;33m\u001b[0m\u001b[1;33m\u001b[0m\u001b[0m\n\u001b[0m\u001b[0;32m    261\u001b[0m \u001b[1;33m\u001b[0m\u001b[0m\n\u001b[0;32m    262\u001b[0m         \u001b[0mresults\u001b[0m\u001b[1;33m:\u001b[0m \u001b[0mdict\u001b[0m\u001b[1;33m[\u001b[0m\u001b[0mHashable\u001b[0m\u001b[1;33m,\u001b[0m \u001b[0mDataFrame\u001b[0m \u001b[1;33m|\u001b[0m \u001b[0mSeries\u001b[0m\u001b[1;33m]\u001b[0m \u001b[1;33m=\u001b[0m \u001b[1;33m{\u001b[0m\u001b[1;33m}\u001b[0m\u001b[1;33m\u001b[0m\u001b[1;33m\u001b[0m\u001b[0m\n",
      "\u001b[1;32m~\\anaconda3\\lib\\site-packages\\pandas\\core\\apply.py\u001b[0m in \u001b[0;36mnormalize_dictlike_arg\u001b[1;34m(self, how, obj, func)\u001b[0m\n\u001b[0;32m    582\u001b[0m         ) or (any(is_dict_like(v) for _, v in func.items())):\n\u001b[0;32m    583\u001b[0m             \u001b[1;31m# GH 15931 - deprecation of renaming keys\u001b[0m\u001b[1;33m\u001b[0m\u001b[1;33m\u001b[0m\u001b[0m\n\u001b[1;32m--> 584\u001b[1;33m             \u001b[1;32mraise\u001b[0m \u001b[0mSpecificationError\u001b[0m\u001b[1;33m(\u001b[0m\u001b[1;34m\"nested renamer is not supported\"\u001b[0m\u001b[1;33m)\u001b[0m\u001b[1;33m\u001b[0m\u001b[1;33m\u001b[0m\u001b[0m\n\u001b[0m\u001b[0;32m    585\u001b[0m \u001b[1;33m\u001b[0m\u001b[0m\n\u001b[0;32m    586\u001b[0m         \u001b[1;32mif\u001b[0m \u001b[0mobj\u001b[0m\u001b[1;33m.\u001b[0m\u001b[0mndim\u001b[0m \u001b[1;33m!=\u001b[0m \u001b[1;36m1\u001b[0m\u001b[1;33m:\u001b[0m\u001b[1;33m\u001b[0m\u001b[1;33m\u001b[0m\u001b[0m\n",
      "\u001b[1;31mSpecificationError\u001b[0m: nested renamer is not supported"
     ]
    }
   ],
   "source": [
    "prep_pipe.transform() "
   ]
  },
  {
   "cell_type": "code",
   "execution_count": null,
   "metadata": {},
   "outputs": [],
   "source": []
  },
  {
   "cell_type": "code",
   "execution_count": null,
   "metadata": {},
   "outputs": [],
   "source": []
  },
  {
   "cell_type": "code",
   "execution_count": null,
   "metadata": {},
   "outputs": [],
   "source": []
  }
 ],
 "metadata": {
  "colab": {
   "collapsed_sections": [
    "Ui_rALqYEQmv",
    "y9s9wNcjEQn0",
    "it_nJo1IEQob",
    "P5m2pciOEQo4",
    "UWMSeyNhEQo-",
    "rWUojqBCEQpb",
    "nSg3OUjuEQpu",
    "XvpjzbGQEQqB",
    "BQlMCxrUEQqG",
    "CD-f0delEQqq",
    "KO3zIfs-EQrA",
    "w_P46O0jEQrT",
    "euqkQYJaEQrY",
    "bwyoTUDQEQrm",
    "_r9rwEw7EQrz",
    "FfWC3NEhEQr9",
    "RX5pYUJJEQsV",
    "r79BGjIfEQs1",
    "hUzc6tXNEQtr",
    "L__po3sUEQt7",
    "Z8OBesfkEQuU",
    "_HeOs8BhEQvF"
   ],
   "name": "Binary Classification Tutorial (CLF101) - Level Beginner (ACN_EDITS).ipynb",
   "provenance": []
  },
  "kernelspec": {
   "display_name": "Python 3 (ipykernel)",
   "language": "python",
   "name": "python3"
  },
  "language_info": {
   "codemirror_mode": {
    "name": "ipython",
    "version": 3
   },
   "file_extension": ".py",
   "mimetype": "text/x-python",
   "name": "python",
   "nbconvert_exporter": "python",
   "pygments_lexer": "ipython3",
   "version": "3.9.13"
  },
  "widgets": {
   "application/vnd.jupyter.widget-state+json": {
    "02771b4dc3284414ab05df1906f4556b": {
     "model_module": "@jupyter-widgets/controls",
     "model_name": "IntProgressModel",
     "state": {
      "_dom_classes": [],
      "_model_module": "@jupyter-widgets/controls",
      "_model_module_version": "1.5.0",
      "_model_name": "IntProgressModel",
      "_view_count": null,
      "_view_module": "@jupyter-widgets/controls",
      "_view_module_version": "1.5.0",
      "_view_name": "ProgressView",
      "bar_style": "",
      "description": "Processing: ",
      "description_tooltip": null,
      "layout": "IPY_MODEL_22588a12c0db4067982e62ebbe7e6930",
      "max": 5,
      "min": 0,
      "orientation": "horizontal",
      "style": "IPY_MODEL_9e338844e75b4e17be8483529f5f38fd",
      "value": 5
     }
    },
    "0a06fb091bd94ce6b6ab892e2c6faadf": {
     "model_module": "@jupyter-widgets/base",
     "model_name": "LayoutModel",
     "state": {
      "_model_module": "@jupyter-widgets/base",
      "_model_module_version": "1.2.0",
      "_model_name": "LayoutModel",
      "_view_count": null,
      "_view_module": "@jupyter-widgets/base",
      "_view_module_version": "1.2.0",
      "_view_name": "LayoutView",
      "align_content": null,
      "align_items": null,
      "align_self": null,
      "border": null,
      "bottom": null,
      "display": null,
      "flex": null,
      "flex_flow": null,
      "grid_area": null,
      "grid_auto_columns": null,
      "grid_auto_flow": null,
      "grid_auto_rows": null,
      "grid_column": null,
      "grid_gap": null,
      "grid_row": null,
      "grid_template_areas": null,
      "grid_template_columns": null,
      "grid_template_rows": null,
      "height": null,
      "justify_content": null,
      "justify_items": null,
      "left": null,
      "margin": null,
      "max_height": null,
      "max_width": null,
      "min_height": null,
      "min_width": null,
      "object_fit": null,
      "object_position": null,
      "order": null,
      "overflow": null,
      "overflow_x": null,
      "overflow_y": null,
      "padding": null,
      "right": null,
      "top": null,
      "visibility": null,
      "width": null
     }
    },
    "12bf8b3c6ae8444a900474912589fdf1": {
     "model_module": "@jupyter-widgets/controls",
     "model_name": "ToggleButtonsModel",
     "state": {
      "_dom_classes": [],
      "_model_module": "@jupyter-widgets/controls",
      "_model_module_version": "1.5.0",
      "_model_name": "ToggleButtonsModel",
      "_options_labels": [
       "Hyperparameters",
       "AUC",
       "Confusion Matrix",
       "Threshold",
       "Precision Recall",
       "Error",
       "Class Report",
       "Feature Selection",
       "Learning Curve",
       "Manifold Learning",
       "Calibration Curve",
       "Validation Curve",
       "Dimensions",
       "Feature Importance",
       "Decision Boundary"
      ],
      "_view_count": null,
      "_view_module": "@jupyter-widgets/controls",
      "_view_module_version": "1.5.0",
      "_view_name": "ToggleButtonsView",
      "button_style": "",
      "description": "Plot Type:",
      "description_tooltip": null,
      "disabled": false,
      "icons": [
       ""
      ],
      "index": 2,
      "layout": "IPY_MODEL_0a06fb091bd94ce6b6ab892e2c6faadf",
      "style": "IPY_MODEL_8886001bc7c1463ba58a8453f5c55073",
      "tooltips": []
     }
    },
    "22588a12c0db4067982e62ebbe7e6930": {
     "model_module": "@jupyter-widgets/base",
     "model_name": "LayoutModel",
     "state": {
      "_model_module": "@jupyter-widgets/base",
      "_model_module_version": "1.2.0",
      "_model_name": "LayoutModel",
      "_view_count": null,
      "_view_module": "@jupyter-widgets/base",
      "_view_module_version": "1.2.0",
      "_view_name": "LayoutView",
      "align_content": null,
      "align_items": null,
      "align_self": null,
      "border": null,
      "bottom": null,
      "display": null,
      "flex": null,
      "flex_flow": null,
      "grid_area": null,
      "grid_auto_columns": null,
      "grid_auto_flow": null,
      "grid_auto_rows": null,
      "grid_column": null,
      "grid_gap": null,
      "grid_row": null,
      "grid_template_areas": null,
      "grid_template_columns": null,
      "grid_template_rows": null,
      "height": null,
      "justify_content": null,
      "justify_items": null,
      "left": null,
      "margin": null,
      "max_height": null,
      "max_width": null,
      "min_height": null,
      "min_width": null,
      "object_fit": null,
      "object_position": null,
      "order": null,
      "overflow": null,
      "overflow_x": null,
      "overflow_y": null,
      "padding": null,
      "right": null,
      "top": null,
      "visibility": null,
      "width": null
     }
    },
    "2a81017413ca4fe789c2272a5831a069": {
     "model_module": "@jupyter-widgets/base",
     "model_name": "LayoutModel",
     "state": {
      "_model_module": "@jupyter-widgets/base",
      "_model_module_version": "1.2.0",
      "_model_name": "LayoutModel",
      "_view_count": null,
      "_view_module": "@jupyter-widgets/base",
      "_view_module_version": "1.2.0",
      "_view_name": "LayoutView",
      "align_content": null,
      "align_items": null,
      "align_self": null,
      "border": null,
      "bottom": null,
      "display": null,
      "flex": null,
      "flex_flow": null,
      "grid_area": null,
      "grid_auto_columns": null,
      "grid_auto_flow": null,
      "grid_auto_rows": null,
      "grid_column": null,
      "grid_gap": null,
      "grid_row": null,
      "grid_template_areas": null,
      "grid_template_columns": null,
      "grid_template_rows": null,
      "height": null,
      "justify_content": null,
      "justify_items": null,
      "left": null,
      "margin": null,
      "max_height": null,
      "max_width": null,
      "min_height": null,
      "min_width": null,
      "object_fit": null,
      "object_position": null,
      "order": null,
      "overflow": null,
      "overflow_x": null,
      "overflow_y": null,
      "padding": null,
      "right": null,
      "top": null,
      "visibility": null,
      "width": null
     }
    },
    "3cc1e83b91f34b289c7d52003f20a97a": {
     "model_module": "@jupyter-widgets/controls",
     "model_name": "IntProgressModel",
     "state": {
      "_dom_classes": [],
      "_model_module": "@jupyter-widgets/controls",
      "_model_module_version": "1.5.0",
      "_model_name": "IntProgressModel",
      "_view_count": null,
      "_view_module": "@jupyter-widgets/controls",
      "_view_module_version": "1.5.0",
      "_view_name": "ProgressView",
      "bar_style": "",
      "description": "Processing: ",
      "description_tooltip": null,
      "layout": "IPY_MODEL_8399e21b17634116861a5abaa9c0ccf7",
      "max": 5,
      "min": 0,
      "orientation": "horizontal",
      "style": "IPY_MODEL_8d709ec9ec484944b1f9773748857f84",
      "value": 2
     }
    },
    "41031579127f4a53b58957e601465083": {
     "model_module": "@jupyter-widgets/base",
     "model_name": "LayoutModel",
     "state": {
      "_model_module": "@jupyter-widgets/base",
      "_model_module_version": "1.2.0",
      "_model_name": "LayoutModel",
      "_view_count": null,
      "_view_module": "@jupyter-widgets/base",
      "_view_module_version": "1.2.0",
      "_view_name": "LayoutView",
      "align_content": null,
      "align_items": null,
      "align_self": null,
      "border": null,
      "bottom": null,
      "display": null,
      "flex": null,
      "flex_flow": null,
      "grid_area": null,
      "grid_auto_columns": null,
      "grid_auto_flow": null,
      "grid_auto_rows": null,
      "grid_column": null,
      "grid_gap": null,
      "grid_row": null,
      "grid_template_areas": null,
      "grid_template_columns": null,
      "grid_template_rows": null,
      "height": null,
      "justify_content": null,
      "justify_items": null,
      "left": null,
      "margin": null,
      "max_height": null,
      "max_width": null,
      "min_height": null,
      "min_width": null,
      "object_fit": null,
      "object_position": null,
      "order": null,
      "overflow": null,
      "overflow_x": null,
      "overflow_y": null,
      "padding": null,
      "right": null,
      "top": null,
      "visibility": null,
      "width": null
     }
    },
    "42d5400d235d40b78190016ef0dabe11": {
     "model_module": "@jupyter-widgets/controls",
     "model_name": "VBoxModel",
     "state": {
      "_dom_classes": [
       "widget-interact"
      ],
      "_model_module": "@jupyter-widgets/controls",
      "_model_module_version": "1.5.0",
      "_model_name": "VBoxModel",
      "_view_count": null,
      "_view_module": "@jupyter-widgets/controls",
      "_view_module_version": "1.5.0",
      "_view_name": "VBoxView",
      "box_style": "",
      "children": [
       "IPY_MODEL_12bf8b3c6ae8444a900474912589fdf1",
       "IPY_MODEL_9bb3600d38c04691b444ff375ad5e3f5"
      ],
      "layout": "IPY_MODEL_41031579127f4a53b58957e601465083"
     }
    },
    "57b94ac505d142769b79de2f1e5c1166": {
     "model_module": "@jupyter-widgets/controls",
     "model_name": "ProgressStyleModel",
     "state": {
      "_model_module": "@jupyter-widgets/controls",
      "_model_module_version": "1.5.0",
      "_model_name": "ProgressStyleModel",
      "_view_count": null,
      "_view_module": "@jupyter-widgets/base",
      "_view_module_version": "1.2.0",
      "_view_name": "StyleView",
      "bar_color": null,
      "description_width": ""
     }
    },
    "8399e21b17634116861a5abaa9c0ccf7": {
     "model_module": "@jupyter-widgets/base",
     "model_name": "LayoutModel",
     "state": {
      "_model_module": "@jupyter-widgets/base",
      "_model_module_version": "1.2.0",
      "_model_name": "LayoutModel",
      "_view_count": null,
      "_view_module": "@jupyter-widgets/base",
      "_view_module_version": "1.2.0",
      "_view_name": "LayoutView",
      "align_content": null,
      "align_items": null,
      "align_self": null,
      "border": null,
      "bottom": null,
      "display": null,
      "flex": null,
      "flex_flow": null,
      "grid_area": null,
      "grid_auto_columns": null,
      "grid_auto_flow": null,
      "grid_auto_rows": null,
      "grid_column": null,
      "grid_gap": null,
      "grid_row": null,
      "grid_template_areas": null,
      "grid_template_columns": null,
      "grid_template_rows": null,
      "height": null,
      "justify_content": null,
      "justify_items": null,
      "left": null,
      "margin": null,
      "max_height": null,
      "max_width": null,
      "min_height": null,
      "min_width": null,
      "object_fit": null,
      "object_position": null,
      "order": null,
      "overflow": null,
      "overflow_x": null,
      "overflow_y": null,
      "padding": null,
      "right": null,
      "top": null,
      "visibility": null,
      "width": null
     }
    },
    "8886001bc7c1463ba58a8453f5c55073": {
     "model_module": "@jupyter-widgets/controls",
     "model_name": "ToggleButtonsStyleModel",
     "state": {
      "_model_module": "@jupyter-widgets/controls",
      "_model_module_version": "1.5.0",
      "_model_name": "ToggleButtonsStyleModel",
      "_view_count": null,
      "_view_module": "@jupyter-widgets/base",
      "_view_module_version": "1.2.0",
      "_view_name": "StyleView",
      "button_width": "",
      "description_width": "",
      "font_weight": ""
     }
    },
    "8d709ec9ec484944b1f9773748857f84": {
     "model_module": "@jupyter-widgets/controls",
     "model_name": "ProgressStyleModel",
     "state": {
      "_model_module": "@jupyter-widgets/controls",
      "_model_module_version": "1.5.0",
      "_model_name": "ProgressStyleModel",
      "_view_count": null,
      "_view_module": "@jupyter-widgets/base",
      "_view_module_version": "1.2.0",
      "_view_name": "StyleView",
      "bar_color": null,
      "description_width": ""
     }
    },
    "9bb3600d38c04691b444ff375ad5e3f5": {
     "model_module": "@jupyter-widgets/output",
     "model_name": "OutputModel",
     "state": {
      "_dom_classes": [],
      "_model_module": "@jupyter-widgets/output",
      "_model_module_version": "1.0.0",
      "_model_name": "OutputModel",
      "_view_count": null,
      "_view_module": "@jupyter-widgets/output",
      "_view_module_version": "1.0.0",
      "_view_name": "OutputView",
      "layout": "IPY_MODEL_4f8f81ab97b041a58a53c85a1ab97bd4",
      "msg_id": "",
      "outputs": [
       {
        "image/png": "iVBORw0KGgoAAAANSUhEUgAAAeoAAAFlCAYAAAAki6s3AAAABHNCSVQICAgIfAhkiAAAAAlwSFlz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\nAAAm9n9QR+M8QEgGtgAAAABJRU5ErkJggg==\n",
        "metadata": {
         "tags": []
        },
        "output_type": "display_data",
        "text/plain": "<Figure size 576x396 with 1 Axes>"
       }
      ]
     }
    },
    "9e338844e75b4e17be8483529f5f38fd": {
     "model_module": "@jupyter-widgets/controls",
     "model_name": "ProgressStyleModel",
     "state": {
      "_model_module": "@jupyter-widgets/controls",
      "_model_module_version": "1.5.0",
      "_model_name": "ProgressStyleModel",
      "_view_count": null,
      "_view_module": "@jupyter-widgets/base",
      "_view_module_version": "1.2.0",
      "_view_name": "StyleView",
      "bar_color": null,
      "description_width": ""
     }
    },
    "d5b6fce1763b4b54898ff3397b0f5bb0": {
     "model_module": "@jupyter-widgets/controls",
     "model_name": "IntProgressModel",
     "state": {
      "_dom_classes": [],
      "_model_module": "@jupyter-widgets/controls",
      "_model_module_version": "1.5.0",
      "_model_name": "IntProgressModel",
      "_view_count": null,
      "_view_module": "@jupyter-widgets/controls",
      "_view_module_version": "1.5.0",
      "_view_name": "ProgressView",
      "bar_style": "",
      "description": "Processing: ",
      "description_tooltip": null,
      "layout": "IPY_MODEL_2a81017413ca4fe789c2272a5831a069",
      "max": 5,
      "min": 0,
      "orientation": "horizontal",
      "style": "IPY_MODEL_57b94ac505d142769b79de2f1e5c1166",
      "value": 5
     }
    }
   }
  }
 },
 "nbformat": 4,
 "nbformat_minor": 4
}
