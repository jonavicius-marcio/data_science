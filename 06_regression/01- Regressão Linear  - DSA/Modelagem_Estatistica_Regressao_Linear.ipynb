{
 "cells": [
  {
   "cell_type": "markdown",
   "metadata": {},
   "source": [
    "# Data Science Aplicada à Área de Saúde"
   ]
  },
  {
   "cell_type": "markdown",
   "metadata": {},
   "source": [
    "## Modelagem Estatística"
   ]
  },
  {
   "cell_type": "markdown",
   "metadata": {
    "colab_type": "text",
    "id": "aW2NTuYiiRvD"
   },
   "source": [
    "A Estatística fornece respostas para muitos padrões importantes nos dados. Modelos estatísticos ajudam a resumir de forma concisa e a inferir sobre os relacionamentos entre as variáveis. A modelagem preditiva geralmente é incompleta sem entender esses relacionamentos.\n",
    "\n",
    "Veremos agora como ajustar e analisar modelos estatísticos em variáveis-alvo quantitativas (regressão linear) e qualitativas (regressão logística). Usaremos a biblioteca Statsmodels para modelagem estatística. "
   ]
  },
  {
   "cell_type": "markdown",
   "metadata": {},
   "source": [
    "## Análise de Regressão Linear"
   ]
  },
  {
   "cell_type": "markdown",
   "metadata": {},
   "source": [
    "Modelos de regressão linear são modelos que prevêem um rótulo contínuo. O objetivo é produzir um modelo que represente o \"melhor ajuste\" para alguns dados observados, de acordo com um critério de avaliação que escolhemos. Bons exemplos disso são prever o preço da casa, as vendas de uma loja de varejo ou a expectativa de vida de um indivíduo. Os modelos de regressão linear assumem uma relação linear entre as variáveis independentes (x) e a variável dependente (y)."
   ]
  },
  {
   "cell_type": "markdown",
   "metadata": {},
   "source": [
    "Para construir modelos de regressão linear, usaremos os dados de expectativa de vida de indivíduos em diversos países do mundo (são os dados que usamos para construir os modelos estatísticos e preditivos ao final do capítulo anterior)."
   ]
  },
  {
   "cell_type": "markdown",
   "metadata": {},
   "source": [
    "<img src=\"imagens/linear_regression.png\" alt=\"Drawing\" style=\"width: 400px;\"/>"
   ]
  },
  {
   "cell_type": "code",
   "execution_count": 1,
   "metadata": {},
   "outputs": [],
   "source": [
    "# Para atualizar um pacote, execute o comando abaixo no terminal ou prompt de comando:\n",
    "# pip install -U nome_pacote\n",
    "\n",
    "# Para instalar a versão exata de um pacote, execute o comando abaixo no terminal ou prompt de comando:\n",
    "# pip install nome_pacote==versão_desejada\n",
    "\n",
    "# Depois de instalar ou atualizar o pacote, reinicie o jupyter notebook."
   ]
  },
  {
   "cell_type": "code",
   "execution_count": 2,
   "metadata": {},
   "outputs": [],
   "source": [
    "# Imports\n",
    "import warnings\n",
    "warnings.simplefilter(action='ignore', category=FutureWarning)\n",
    "warnings.filterwarnings(\"ignore\", category=FutureWarning)\n",
    "import pandas as pd\n",
    "import numpy as np\n",
    "import statsmodels.api as sm\n",
    "from statsmodels.formula.api import ols\n",
    "import matplotlib.pyplot as plt\n",
    "import seaborn as sns\n",
    "import warnings\n",
    "warnings.filterwarnings('ignore')\n",
    "%matplotlib inline"
   ]
  },
  {
   "cell_type": "code",
   "execution_count": 3,
   "metadata": {},
   "outputs": [
    {
     "data": {
      "text/plain": [
       "'1.0.1'"
      ]
     },
     "execution_count": 3,
     "metadata": {},
     "output_type": "execute_result"
    }
   ],
   "source": [
    "pd.__version__"
   ]
  },
  {
   "cell_type": "code",
   "execution_count": 4,
   "metadata": {},
   "outputs": [
    {
     "data": {
      "text/plain": [
       "'1.18.1'"
      ]
     },
     "execution_count": 4,
     "metadata": {},
     "output_type": "execute_result"
    }
   ],
   "source": [
    "np.__version__"
   ]
  },
  {
   "cell_type": "code",
   "execution_count": 5,
   "metadata": {},
   "outputs": [
    {
     "data": {
      "text/plain": [
       "'0.10.1'"
      ]
     },
     "execution_count": 5,
     "metadata": {},
     "output_type": "execute_result"
    }
   ],
   "source": [
    "sm.__version__"
   ]
  },
  {
   "cell_type": "code",
   "execution_count": 6,
   "metadata": {},
   "outputs": [
    {
     "data": {
      "text/plain": [
       "'0.9.0'"
      ]
     },
     "execution_count": 6,
     "metadata": {},
     "output_type": "execute_result"
    }
   ],
   "source": [
    "sns.__version__"
   ]
  },
  {
   "cell_type": "code",
   "execution_count": 7,
   "metadata": {},
   "outputs": [
    {
     "data": {
      "text/plain": [
       "'3.2.0'"
      ]
     },
     "execution_count": 7,
     "metadata": {},
     "output_type": "execute_result"
    }
   ],
   "source": [
    "import matplotlib as m\n",
    "m.__version__"
   ]
  },
  {
   "cell_type": "code",
   "execution_count": 8,
   "metadata": {},
   "outputs": [
    {
     "data": {
      "text/plain": [
       "'0.22.2'"
      ]
     },
     "execution_count": 8,
     "metadata": {},
     "output_type": "execute_result"
    }
   ],
   "source": [
    "import sklearn as sk\n",
    "sk.__version__"
   ]
  },
  {
   "cell_type": "code",
   "execution_count": 9,
   "metadata": {},
   "outputs": [
    {
     "name": "stdout",
     "output_type": "stream",
     "text": [
      "(2222, 10)\n"
     ]
    },
    {
     "data": {
      "text/html": [
       "<div>\n",
       "<style scoped>\n",
       "    .dataframe tbody tr th:only-of-type {\n",
       "        vertical-align: middle;\n",
       "    }\n",
       "\n",
       "    .dataframe tbody tr th {\n",
       "        vertical-align: top;\n",
       "    }\n",
       "\n",
       "    .dataframe thead th {\n",
       "        text-align: right;\n",
       "    }\n",
       "</style>\n",
       "<table border=\"1\" class=\"dataframe\">\n",
       "  <thead>\n",
       "    <tr style=\"text-align: right;\">\n",
       "      <th></th>\n",
       "      <th>ID</th>\n",
       "      <th>life_expectancy</th>\n",
       "      <th>bmi</th>\n",
       "      <th>hiv</th>\n",
       "      <th>gdp</th>\n",
       "      <th>thinness_till19</th>\n",
       "      <th>inf_death</th>\n",
       "      <th>school</th>\n",
       "      <th>lifestyle</th>\n",
       "      <th>pop_size</th>\n",
       "    </tr>\n",
       "  </thead>\n",
       "  <tbody>\n",
       "    <tr>\n",
       "      <th>0</th>\n",
       "      <td>0</td>\n",
       "      <td>65.0</td>\n",
       "      <td>19.1</td>\n",
       "      <td>0.1</td>\n",
       "      <td>584.259210</td>\n",
       "      <td>17.2</td>\n",
       "      <td>62</td>\n",
       "      <td>10.1</td>\n",
       "      <td>0.191</td>\n",
       "      <td>3</td>\n",
       "    </tr>\n",
       "    <tr>\n",
       "      <th>1</th>\n",
       "      <td>1</td>\n",
       "      <td>59.9</td>\n",
       "      <td>18.6</td>\n",
       "      <td>0.1</td>\n",
       "      <td>612.696514</td>\n",
       "      <td>17.5</td>\n",
       "      <td>64</td>\n",
       "      <td>10.0</td>\n",
       "      <td>0.186</td>\n",
       "      <td>1</td>\n",
       "    </tr>\n",
       "    <tr>\n",
       "      <th>2</th>\n",
       "      <td>2</td>\n",
       "      <td>59.9</td>\n",
       "      <td>18.1</td>\n",
       "      <td>0.1</td>\n",
       "      <td>631.744976</td>\n",
       "      <td>17.7</td>\n",
       "      <td>66</td>\n",
       "      <td>9.9</td>\n",
       "      <td>0.181</td>\n",
       "      <td>3</td>\n",
       "    </tr>\n",
       "    <tr>\n",
       "      <th>3</th>\n",
       "      <td>3</td>\n",
       "      <td>59.5</td>\n",
       "      <td>17.6</td>\n",
       "      <td>0.1</td>\n",
       "      <td>669.959000</td>\n",
       "      <td>17.9</td>\n",
       "      <td>69</td>\n",
       "      <td>9.8</td>\n",
       "      <td>0.176</td>\n",
       "      <td>2</td>\n",
       "    </tr>\n",
       "    <tr>\n",
       "      <th>4</th>\n",
       "      <td>4</td>\n",
       "      <td>59.2</td>\n",
       "      <td>17.2</td>\n",
       "      <td>0.1</td>\n",
       "      <td>63.537231</td>\n",
       "      <td>18.2</td>\n",
       "      <td>71</td>\n",
       "      <td>9.5</td>\n",
       "      <td>0.172</td>\n",
       "      <td>2</td>\n",
       "    </tr>\n",
       "  </tbody>\n",
       "</table>\n",
       "</div>"
      ],
      "text/plain": [
       "   ID  life_expectancy   bmi  hiv         gdp  thinness_till19  inf_death  \\\n",
       "0   0             65.0  19.1  0.1  584.259210             17.2         62   \n",
       "1   1             59.9  18.6  0.1  612.696514             17.5         64   \n",
       "2   2             59.9  18.1  0.1  631.744976             17.7         66   \n",
       "3   3             59.5  17.6  0.1  669.959000             17.9         69   \n",
       "4   4             59.2  17.2  0.1   63.537231             18.2         71   \n",
       "\n",
       "   school  lifestyle  pop_size  \n",
       "0    10.1      0.191         3  \n",
       "1    10.0      0.186         1  \n",
       "2     9.9      0.181         3  \n",
       "3     9.8      0.176         2  \n",
       "4     9.5      0.172         2  "
      ]
     },
     "execution_count": 9,
     "metadata": {},
     "output_type": "execute_result"
    }
   ],
   "source": [
    "# Carrega os dados\n",
    "dataset = pd.read_csv(\"dados/expectativa_vida.csv\")\n",
    "print(dataset.shape) \n",
    "dataset.head(5)"
   ]
  },
  {
   "cell_type": "markdown",
   "metadata": {},
   "source": [
    "Começaremos com um modelo de regressão linear simples com apenas uma variável, 'school', prevendo 'life_expectancy'. As linhas de código abaixo se ajustam ao modelo de regressão linear univariada e imprimem um resumo do resultado."
   ]
  },
  {
   "cell_type": "code",
   "execution_count": 10,
   "metadata": {},
   "outputs": [
    {
     "data": {
      "text/html": [
       "<table class=\"simpletable\">\n",
       "<caption>OLS Regression Results</caption>\n",
       "<tr>\n",
       "  <th>Dep. Variable:</th>     <td>life_expectancy</td> <th>  R-squared:         </th> <td>   0.621</td> \n",
       "</tr>\n",
       "<tr>\n",
       "  <th>Model:</th>                   <td>OLS</td>       <th>  Adj. R-squared:    </th> <td>   0.621</td> \n",
       "</tr>\n",
       "<tr>\n",
       "  <th>Method:</th>             <td>Least Squares</td>  <th>  F-statistic:       </th> <td>   3634.</td> \n",
       "</tr>\n",
       "<tr>\n",
       "  <th>Date:</th>             <td>Mon, 09 Mar 2020</td> <th>  Prob (F-statistic):</th>  <td>  0.00</td>  \n",
       "</tr>\n",
       "<tr>\n",
       "  <th>Time:</th>                 <td>00:45:10</td>     <th>  Log-Likelihood:    </th> <td> -7155.3</td> \n",
       "</tr>\n",
       "<tr>\n",
       "  <th>No. Observations:</th>      <td>  2222</td>      <th>  AIC:               </th> <td>1.431e+04</td>\n",
       "</tr>\n",
       "<tr>\n",
       "  <th>Df Residuals:</th>          <td>  2220</td>      <th>  BIC:               </th> <td>1.433e+04</td>\n",
       "</tr>\n",
       "<tr>\n",
       "  <th>Df Model:</th>              <td>     1</td>      <th>                     </th>     <td> </td>    \n",
       "</tr>\n",
       "<tr>\n",
       "  <th>Covariance Type:</th>      <td>nonrobust</td>    <th>                     </th>     <td> </td>    \n",
       "</tr>\n",
       "</table>\n",
       "<table class=\"simpletable\">\n",
       "<tr>\n",
       "      <td></td>         <th>coef</th>     <th>std err</th>      <th>t</th>      <th>P>|t|</th>  <th>[0.025</th>    <th>0.975]</th>  \n",
       "</tr>\n",
       "<tr>\n",
       "  <th>Intercept</th> <td>   40.1038</td> <td>    0.494</td> <td>   81.191</td> <td> 0.000</td> <td>   39.135</td> <td>   41.072</td>\n",
       "</tr>\n",
       "<tr>\n",
       "  <th>school</th>    <td>    2.3888</td> <td>    0.040</td> <td>   60.284</td> <td> 0.000</td> <td>    2.311</td> <td>    2.467</td>\n",
       "</tr>\n",
       "</table>\n",
       "<table class=\"simpletable\">\n",
       "<tr>\n",
       "  <th>Omnibus:</th>       <td>249.699</td> <th>  Durbin-Watson:     </th> <td>   0.211</td>\n",
       "</tr>\n",
       "<tr>\n",
       "  <th>Prob(Omnibus):</th> <td> 0.000</td>  <th>  Jarque-Bera (JB):  </th> <td> 360.095</td>\n",
       "</tr>\n",
       "<tr>\n",
       "  <th>Skew:</th>          <td>-0.843</td>  <th>  Prob(JB):          </th> <td>6.40e-79</td>\n",
       "</tr>\n",
       "<tr>\n",
       "  <th>Kurtosis:</th>      <td> 4.022</td>  <th>  Cond. No.          </th> <td>    48.2</td>\n",
       "</tr>\n",
       "</table><br/><br/>Warnings:<br/>[1] Standard Errors assume that the covariance matrix of the errors is correctly specified."
      ],
      "text/plain": [
       "<class 'statsmodels.iolib.summary.Summary'>\n",
       "\"\"\"\n",
       "                            OLS Regression Results                            \n",
       "==============================================================================\n",
       "Dep. Variable:        life_expectancy   R-squared:                       0.621\n",
       "Model:                            OLS   Adj. R-squared:                  0.621\n",
       "Method:                 Least Squares   F-statistic:                     3634.\n",
       "Date:                Mon, 09 Mar 2020   Prob (F-statistic):               0.00\n",
       "Time:                        00:45:10   Log-Likelihood:                -7155.3\n",
       "No. Observations:                2222   AIC:                         1.431e+04\n",
       "Df Residuals:                    2220   BIC:                         1.433e+04\n",
       "Df Model:                           1                                         \n",
       "Covariance Type:            nonrobust                                         \n",
       "==============================================================================\n",
       "                 coef    std err          t      P>|t|      [0.025      0.975]\n",
       "------------------------------------------------------------------------------\n",
       "Intercept     40.1038      0.494     81.191      0.000      39.135      41.072\n",
       "school         2.3888      0.040     60.284      0.000       2.311       2.467\n",
       "==============================================================================\n",
       "Omnibus:                      249.699   Durbin-Watson:                   0.211\n",
       "Prob(Omnibus):                  0.000   Jarque-Bera (JB):              360.095\n",
       "Skew:                          -0.843   Prob(JB):                     6.40e-79\n",
       "Kurtosis:                       4.022   Cond. No.                         48.2\n",
       "==============================================================================\n",
       "\n",
       "Warnings:\n",
       "[1] Standard Errors assume that the covariance matrix of the errors is correctly specified.\n",
       "\"\"\""
      ]
     },
     "execution_count": 10,
     "metadata": {},
     "output_type": "execute_result"
    }
   ],
   "source": [
    "# Primeira versão do modelo de regressão\n",
    "formula = 'life_expectancy ~ school'\n",
    "modelo_v1 = ols(formula, data = dataset).fit()\n",
    "modelo_v1.summary()"
   ]
  },
  {
   "cell_type": "markdown",
   "metadata": {},
   "source": [
    "O resumo acima fornece várias medidas para lhe dar uma ideia da distribuição e do comportamento dos dados. A partir daqui, podemos ver se os dados têm as características corretas para nos dar confiança no modelo resultante. \n",
    "\n",
    "Os coeficientes são estimados usando o critério dos mínimos quadrados. Em outras palavras, encontramos a linha (matematicamente) que minimiza a soma dos resíduos quadrados (ou \"soma dos erros quadrados\")."
   ]
  },
  {
   "cell_type": "markdown",
   "metadata": {},
   "source": [
    "### Interpretação do Coeficiente do Modelo e do Valor-p\n",
    "\n",
    "A seção central da saída, onde o cabeçalho começa com coef, é importante para a interpretação do modelo. \n",
    "\n",
    "O modelo ajustado implica que, ao comparar dois indivíduos onde a escolaridade (school) seja diferente em uma unidade, o indivíduo com escolaridade mais alta terá, em média, uma expectativa de vida mais alta do que 2.3888 unidades. \n",
    "\n",
    "Essa diferença é estatisticamente significativa, porque o valor p, mostrado na coluna rotulada P>|t|, é menor que o valor de significância de 0,05. Isso significa que há uma forte evidência de uma associação linear entre as variáveis 'school' e 'life_expectancy'.\n",
    "\n",
    "Valor-p é a probabilidade de que eventos extremos ocorram sob a hipótese nula. Se o valor-p for menor que um determinado nível de significância α (uma escolha comum é α = 0,05), a hipótese nula será rejeitada, e um coeficiente de regressão é considerado significativo."
   ]
  },
  {
   "cell_type": "markdown",
   "metadata": {},
   "source": [
    "### Interpretação do Valor do Coeficiente de Determinação R2 (R Squared)\n",
    "\n",
    "O outro parâmetro para testar a eficácia do modelo é o valor do R2, que representa a variação percentual na variável dependente (life_expectancy) que é explicada pela variável independente (school). \n",
    "\n",
    "Quanto maior o valor, melhor a explicabilidade do modelo, sendo o valor mais alto igual a um. No nosso caso, o valor do R2 de 0.621 significa que 62% da variação na variável 'life_expectancy' é explicada pela variável 'school'."
   ]
  },
  {
   "cell_type": "markdown",
   "metadata": {},
   "source": [
    "### Interpretação do Coeficiente de Correlação\n",
    "\n",
    "O coeficiente de correlação de Pearson também é um indicador da extensão e da força da relação linear entre as duas variáveis. As linhas de código abaixo calculam e imprimem o coeficiente de correlação, que acaba sendo 0,787. Essa é uma forte correlação positiva entre as duas variáveis, com o valor mais alto sendo igual a um."
   ]
  },
  {
   "cell_type": "code",
   "execution_count": 11,
   "metadata": {},
   "outputs": [
    {
     "name": "stdout",
     "output_type": "stream",
     "text": [
      "                 life_expectancy    school\n",
      "life_expectancy         1.000000  0.787895\n",
      "school                  0.787895  1.000000\n"
     ]
    }
   ],
   "source": [
    "# Calculando a correlação entre as variáveis\n",
    "cc = dataset[[\"life_expectancy\", \"school\"]].corr()\n",
    "print(cc)"
   ]
  },
  {
   "cell_type": "code",
   "execution_count": 12,
   "metadata": {},
   "outputs": [
    {
     "data": {
      "text/plain": [
       "<matplotlib.axes._subplots.AxesSubplot at 0x7f7fc82b4710>"
      ]
     },
     "execution_count": 12,
     "metadata": {},
     "output_type": "execute_result"
    },
    {
     "data": {
      "image/png": "[encoded data removed]",
      "text/plain": [
       "<Figure size 432x288 with 1 Axes>"
      ]
     },
     "metadata": {
      "needs_background": "light"
     },
     "output_type": "display_data"
    }
   ],
   "source": [
    "# Criando a linha de regressão\n",
    "sns.regplot('school', 'life_expectancy', dataset, line_kws = {\"color\":\"r\"})"
   ]
  },
  {
   "cell_type": "markdown",
   "metadata": {},
   "source": [
    "### Intervalo de Confiança"
   ]
  },
  {
   "cell_type": "code",
   "execution_count": 13,
   "metadata": {},
   "outputs": [],
   "source": [
    "# Vamos gerar uma nova massa de dados de indivíduos com 5, 10 e 15 anos de escolaridade\n",
    "novos_dados = pd.DataFrame([[1, 5], [1, 10], [1, 15]], columns = ['Intercept', 'school'])"
   ]
  },
  {
   "cell_type": "code",
   "execution_count": 14,
   "metadata": {},
   "outputs": [
    {
     "data": {
      "text/html": [
       "<div>\n",
       "<style scoped>\n",
       "    .dataframe tbody tr th:only-of-type {\n",
       "        vertical-align: middle;\n",
       "    }\n",
       "\n",
       "    .dataframe tbody tr th {\n",
       "        vertical-align: top;\n",
       "    }\n",
       "\n",
       "    .dataframe thead th {\n",
       "        text-align: right;\n",
       "    }\n",
       "</style>\n",
       "<table border=\"1\" class=\"dataframe\">\n",
       "  <thead>\n",
       "    <tr style=\"text-align: right;\">\n",
       "      <th></th>\n",
       "      <th>Intercept</th>\n",
       "      <th>school</th>\n",
       "    </tr>\n",
       "  </thead>\n",
       "  <tbody>\n",
       "    <tr>\n",
       "      <th>0</th>\n",
       "      <td>1</td>\n",
       "      <td>5</td>\n",
       "    </tr>\n",
       "    <tr>\n",
       "      <th>1</th>\n",
       "      <td>1</td>\n",
       "      <td>10</td>\n",
       "    </tr>\n",
       "    <tr>\n",
       "      <th>2</th>\n",
       "      <td>1</td>\n",
       "      <td>15</td>\n",
       "    </tr>\n",
       "  </tbody>\n",
       "</table>\n",
       "</div>"
      ],
      "text/plain": [
       "   Intercept  school\n",
       "0          1       5\n",
       "1          1      10\n",
       "2          1      15"
      ]
     },
     "execution_count": 14,
     "metadata": {},
     "output_type": "execute_result"
    }
   ],
   "source": [
    "novos_dados"
   ]
  },
  {
   "cell_type": "code",
   "execution_count": 15,
   "metadata": {},
   "outputs": [
    {
     "data": {
      "text/plain": [
       "0    52.047977\n",
       "1    63.992137\n",
       "2    75.936298\n",
       "dtype: float64"
      ]
     },
     "execution_count": 15,
     "metadata": {},
     "output_type": "execute_result"
    }
   ],
   "source": [
    "# Fazendo previsões (estimativas) com o modelo\n",
    "modelo_v1.predict(novos_dados)"
   ]
  },
  {
   "cell_type": "markdown",
   "metadata": {},
   "source": [
    "Intervalos de Confiança são intervalos em torno dos estimadores individuais β̂k que, se construídos para regressões em várias amostras, conteriam o parâmetro verdadeiro da população, βk, por exemplo, 95% do tempo.\n",
    "\n",
    "O Statsmodels calcula intervalos de confiança de 95% para os coeficientes do nosso modelo, que são interpretados da seguinte maneira: Se a população da qual essa amostra foi coletada for amostrada 100 vezes, aproximadamente 95 desses intervalos de confiança conteriam o coeficiente \"verdadeiro\".\n",
    "\n",
    "O Valor-p representa a probabilidade de que o coeficiente seja realmente zero.\n",
    "\n",
    "- Se o intervalo de confiança de 95% não incluir zero, o valor-p será menor que 0,05. Rejeitamos a hipótese nula. Existe um relacionamento da variável preditora com a variável alvo.\n",
    "\n",
    "- Se o intervalo de confiança de 95% incluir zero, o valor-p para esse coeficiente será maior que 0,05. Falha em rejeitar a hipótese nula. Não há relacionamento da variável preditora com a variável alvo."
   ]
  },
  {
   "cell_type": "code",
   "execution_count": 16,
   "metadata": {},
   "outputs": [
    {
     "data": {
      "text/plain": [
       "Intercept    40.103817\n",
       "school        2.388832\n",
       "dtype: float64"
      ]
     },
     "execution_count": 16,
     "metadata": {},
     "output_type": "execute_result"
    }
   ],
   "source": [
    "# Coeficientes\n",
    "modelo_v1.params"
   ]
  },
  {
   "cell_type": "code",
   "execution_count": 17,
   "metadata": {},
   "outputs": [
    {
     "data": {
      "text/html": [
       "<div>\n",
       "<style scoped>\n",
       "    .dataframe tbody tr th:only-of-type {\n",
       "        vertical-align: middle;\n",
       "    }\n",
       "\n",
       "    .dataframe tbody tr th {\n",
       "        vertical-align: top;\n",
       "    }\n",
       "\n",
       "    .dataframe thead th {\n",
       "        text-align: right;\n",
       "    }\n",
       "</style>\n",
       "<table border=\"1\" class=\"dataframe\">\n",
       "  <thead>\n",
       "    <tr style=\"text-align: right;\">\n",
       "      <th></th>\n",
       "      <th>0</th>\n",
       "      <th>1</th>\n",
       "    </tr>\n",
       "  </thead>\n",
       "  <tbody>\n",
       "    <tr>\n",
       "      <th>Intercept</th>\n",
       "      <td>39.135171</td>\n",
       "      <td>41.072463</td>\n",
       "    </tr>\n",
       "    <tr>\n",
       "      <th>school</th>\n",
       "      <td>2.311123</td>\n",
       "      <td>2.466541</td>\n",
       "    </tr>\n",
       "  </tbody>\n",
       "</table>\n",
       "</div>"
      ],
      "text/plain": [
       "                   0          1\n",
       "Intercept  39.135171  41.072463\n",
       "school      2.311123   2.466541"
      ]
     },
     "execution_count": 17,
     "metadata": {},
     "output_type": "execute_result"
    }
   ],
   "source": [
    "# Intervalo de confiança dos coeficientes\n",
    "modelo_v1.conf_int()"
   ]
  },
  {
   "cell_type": "code",
   "execution_count": 18,
   "metadata": {},
   "outputs": [],
   "source": [
    "# Criando nossa própria função predict para coletar o intervalo de confiança das estimativas\n",
    "def my_predict(modelo, novos_dados):\n",
    "    \n",
    "    # Obtendo os valores previstos\n",
    "    fit = pd.DataFrame(modelo_v1.predict(novos_dados), columns = ['Previsão'])\n",
    "    \n",
    "    # Obtendo o intervalo de confiança para o modelo (e renomeando as colunas para algo um pouco mais útil)\n",
    "    ci = modelo_v1.conf_int().rename(columns = {0: 'Limite-Inferior', 1: 'Limite-Superior'})\n",
    "    \n",
    "    # Agora, um pouco de multiplicação de matrizes para obter os intervalos de confiança para as previsões\n",
    "    ci = ci.T.dot(novos_dados.T).T\n",
    "    \n",
    "    # E finalmente s intervalos de confiança com os valores previstos\n",
    "    return pd.concat([fit, ci], axis = 1)"
   ]
  },
  {
   "cell_type": "code",
   "execution_count": 19,
   "metadata": {},
   "outputs": [
    {
     "data": {
      "text/html": [
       "<div>\n",
       "<style scoped>\n",
       "    .dataframe tbody tr th:only-of-type {\n",
       "        vertical-align: middle;\n",
       "    }\n",
       "\n",
       "    .dataframe tbody tr th {\n",
       "        vertical-align: top;\n",
       "    }\n",
       "\n",
       "    .dataframe thead th {\n",
       "        text-align: right;\n",
       "    }\n",
       "</style>\n",
       "<table border=\"1\" class=\"dataframe\">\n",
       "  <thead>\n",
       "    <tr style=\"text-align: right;\">\n",
       "      <th></th>\n",
       "      <th>Previsão</th>\n",
       "      <th>Limite-Inferior</th>\n",
       "      <th>Limite-Superior</th>\n",
       "    </tr>\n",
       "  </thead>\n",
       "  <tbody>\n",
       "    <tr>\n",
       "      <th>0</th>\n",
       "      <td>52.047977</td>\n",
       "      <td>50.690786</td>\n",
       "      <td>53.405168</td>\n",
       "    </tr>\n",
       "    <tr>\n",
       "      <th>1</th>\n",
       "      <td>63.992137</td>\n",
       "      <td>62.246401</td>\n",
       "      <td>65.737874</td>\n",
       "    </tr>\n",
       "    <tr>\n",
       "      <th>2</th>\n",
       "      <td>75.936298</td>\n",
       "      <td>73.802016</td>\n",
       "      <td>78.070579</td>\n",
       "    </tr>\n",
       "  </tbody>\n",
       "</table>\n",
       "</div>"
      ],
      "text/plain": [
       "    Previsão  Limite-Inferior  Limite-Superior\n",
       "0  52.047977        50.690786        53.405168\n",
       "1  63.992137        62.246401        65.737874\n",
       "2  75.936298        73.802016        78.070579"
      ]
     },
     "execution_count": 19,
     "metadata": {},
     "output_type": "execute_result"
    }
   ],
   "source": [
    "# Fazendo previsões (estimativas) com o modelo usando nossa função personalizada\n",
    "my_predict(modelo_v1, novos_dados)"
   ]
  },
  {
   "cell_type": "code",
   "execution_count": 20,
   "metadata": {},
   "outputs": [
    {
     "data": {
      "image/png": "[encoded data removed]",
      "text/plain": [
       "<Figure size 720x576 with 1 Axes>"
      ]
     },
     "metadata": {
      "needs_background": "light"
     },
     "output_type": "display_data"
    }
   ],
   "source": [
    "# Plot do Intervalo de Confiança\n",
    "from statsmodels.sandbox.regression.predstd import wls_prediction_std\n",
    "\n",
    "# Extrai os limites de confiança\n",
    "_, ic_inferior, ic_superior = wls_prediction_std(modelo_v1)\n",
    "\n",
    "# Cria o plot\n",
    "fig, ax = plt.subplots(figsize = (10,8))\n",
    "\n",
    "# Define x e y\n",
    "x = dataset.school\n",
    "y = dataset.life_expectancy\n",
    "\n",
    "# Adiciona as camadas\n",
    "ax.plot(x, y, 'o', label = \"Dados Observados\")\n",
    "ax.plot(x, modelo_v1.fittedvalues, 'r.', label = \"OLS - Estimativas\")\n",
    "ax.plot(x, ic_superior, 'g--', label = \"Limite Superior\")\n",
    "ax.plot(x, ic_inferior, 'y--', label = \"Limite Inferior\")\n",
    "ax.legend(loc = 'best');"
   ]
  },
  {
   "cell_type": "code",
   "execution_count": 21,
   "metadata": {},
   "outputs": [
    {
     "data": {
      "text/html": [
       "<table class=\"simpletable\">\n",
       "<caption>OLS Regression Results</caption>\n",
       "<tr>\n",
       "  <th>Dep. Variable:</th>     <td>life_expectancy</td> <th>  R-squared:         </th> <td>   0.621</td> \n",
       "</tr>\n",
       "<tr>\n",
       "  <th>Model:</th>                   <td>OLS</td>       <th>  Adj. R-squared:    </th> <td>   0.621</td> \n",
       "</tr>\n",
       "<tr>\n",
       "  <th>Method:</th>             <td>Least Squares</td>  <th>  F-statistic:       </th> <td>   3634.</td> \n",
       "</tr>\n",
       "<tr>\n",
       "  <th>Date:</th>             <td>Mon, 09 Mar 2020</td> <th>  Prob (F-statistic):</th>  <td>  0.00</td>  \n",
       "</tr>\n",
       "<tr>\n",
       "  <th>Time:</th>                 <td>00:45:11</td>     <th>  Log-Likelihood:    </th> <td> -7155.3</td> \n",
       "</tr>\n",
       "<tr>\n",
       "  <th>No. Observations:</th>      <td>  2222</td>      <th>  AIC:               </th> <td>1.431e+04</td>\n",
       "</tr>\n",
       "<tr>\n",
       "  <th>Df Residuals:</th>          <td>  2220</td>      <th>  BIC:               </th> <td>1.433e+04</td>\n",
       "</tr>\n",
       "<tr>\n",
       "  <th>Df Model:</th>              <td>     1</td>      <th>                     </th>     <td> </td>    \n",
       "</tr>\n",
       "<tr>\n",
       "  <th>Covariance Type:</th>      <td>nonrobust</td>    <th>                     </th>     <td> </td>    \n",
       "</tr>\n",
       "</table>\n",
       "<table class=\"simpletable\">\n",
       "<tr>\n",
       "      <td></td>         <th>coef</th>     <th>std err</th>      <th>t</th>      <th>P>|t|</th>  <th>[0.025</th>    <th>0.975]</th>  \n",
       "</tr>\n",
       "<tr>\n",
       "  <th>Intercept</th> <td>   40.1038</td> <td>    0.494</td> <td>   81.191</td> <td> 0.000</td> <td>   39.135</td> <td>   41.072</td>\n",
       "</tr>\n",
       "<tr>\n",
       "  <th>school</th>    <td>    2.3888</td> <td>    0.040</td> <td>   60.284</td> <td> 0.000</td> <td>    2.311</td> <td>    2.467</td>\n",
       "</tr>\n",
       "</table>\n",
       "<table class=\"simpletable\">\n",
       "<tr>\n",
       "  <th>Omnibus:</th>       <td>249.699</td> <th>  Durbin-Watson:     </th> <td>   0.211</td>\n",
       "</tr>\n",
       "<tr>\n",
       "  <th>Prob(Omnibus):</th> <td> 0.000</td>  <th>  Jarque-Bera (JB):  </th> <td> 360.095</td>\n",
       "</tr>\n",
       "<tr>\n",
       "  <th>Skew:</th>          <td>-0.843</td>  <th>  Prob(JB):          </th> <td>6.40e-79</td>\n",
       "</tr>\n",
       "<tr>\n",
       "  <th>Kurtosis:</th>      <td> 4.022</td>  <th>  Cond. No.          </th> <td>    48.2</td>\n",
       "</tr>\n",
       "</table><br/><br/>Warnings:<br/>[1] Standard Errors assume that the covariance matrix of the errors is correctly specified."
      ],
      "text/plain": [
       "<class 'statsmodels.iolib.summary.Summary'>\n",
       "\"\"\"\n",
       "                            OLS Regression Results                            \n",
       "==============================================================================\n",
       "Dep. Variable:        life_expectancy   R-squared:                       0.621\n",
       "Model:                            OLS   Adj. R-squared:                  0.621\n",
       "Method:                 Least Squares   F-statistic:                     3634.\n",
       "Date:                Mon, 09 Mar 2020   Prob (F-statistic):               0.00\n",
       "Time:                        00:45:11   Log-Likelihood:                -7155.3\n",
       "No. Observations:                2222   AIC:                         1.431e+04\n",
       "Df Residuals:                    2220   BIC:                         1.433e+04\n",
       "Df Model:                           1                                         \n",
       "Covariance Type:            nonrobust                                         \n",
       "==============================================================================\n",
       "                 coef    std err          t      P>|t|      [0.025      0.975]\n",
       "------------------------------------------------------------------------------\n",
       "Intercept     40.1038      0.494     81.191      0.000      39.135      41.072\n",
       "school         2.3888      0.040     60.284      0.000       2.311       2.467\n",
       "==============================================================================\n",
       "Omnibus:                      249.699   Durbin-Watson:                   0.211\n",
       "Prob(Omnibus):                  0.000   Jarque-Bera (JB):              360.095\n",
       "Skew:                          -0.843   Prob(JB):                     6.40e-79\n",
       "Kurtosis:                       4.022   Cond. No.                         48.2\n",
       "==============================================================================\n",
       "\n",
       "Warnings:\n",
       "[1] Standard Errors assume that the covariance matrix of the errors is correctly specified.\n",
       "\"\"\""
      ]
     },
     "execution_count": 21,
     "metadata": {},
     "output_type": "execute_result"
    }
   ],
   "source": [
    "modelo_v1.summary()"
   ]
  },
  {
   "cell_type": "markdown",
   "metadata": {},
   "source": [
    "### Valor t\n",
    "\n",
    "O teste-t está diretamente relacionado ao cálculo dos intervalos de confiança e está testando se um regressor, β̂k, é estatisticamente significativo. A estatística t para o coeficiente de regressão k-ésimo, sob a hipótese nula de que xk e y são independentes, segue uma distribuição t com graus de liberdade n-K.\n",
    "\n",
    "Quando você realiza um teste t, geralmente tenta encontrar evidências de uma diferença significativa entre as médias populacionais (2 amostras t) ou entre a média populacional e um valor hipotético (1 amostra t). \n",
    "\n",
    "O valor t mede o tamanho da diferença em relação à variação nos dados da amostra. Em outras palavras, o valor t é simplesmente a diferença calculada representada em unidades de erro padrão. Quanto maior a magnitude do valor t, maior a evidência contra a hipótese nula. Isso significa que há uma evidência maior de que há uma diferença significativa. Quanto mais o valor de t estiver próximo de 0, maior a probabilidade de que não haja uma diferença significativa.\n",
    "\n",
    "Ou seja:\n",
    "\n",
    "- Valor t maior que +2 ou menor que -2 (e valor-p menor que 0.05) - rejeitamos a hipótese nula. O regressor é importante.\n",
    "\n",
    "- Valor t menor que +2 ou maior que -2 (e valor-p maior que 0.05) - não rejeitamos a hipótese nula. O regressor não é importante.\n",
    "\n",
    "O valor t é calculado dividindo o valor estimado do parâmetro (coeficiente) pelo seu erro padrão. Essa estatística é uma medida da probabilidade de que o valor real do parâmetro não seja zero. Quanto maior o valor absoluto de t, menos provável que o valor real do parâmetro possa ser zero."
   ]
  },
  {
   "cell_type": "code",
   "execution_count": 22,
   "metadata": {},
   "outputs": [
    {
     "data": {
      "text/plain": [
       "Intercept    81.190571\n",
       "school       60.283566\n",
       "dtype: float64"
      ]
     },
     "execution_count": 22,
     "metadata": {},
     "output_type": "execute_result"
    }
   ],
   "source": [
    "# Extraindo o valor t do modelo\n",
    "modelo_v1.tvalues"
   ]
  },
  {
   "cell_type": "markdown",
   "metadata": {},
   "source": [
    "### Estatística F\n",
    "\n",
    "Enquanto o teste t considera a significância de um único regressor, o teste F avalia a significância de toda a regressão, onde a hipótese nula é que todos os regressores, exceto a constante, são iguais a zero.\n",
    "\n",
    "Estatística F - Uma medida de quão significativo é o ajuste. É o erro quadrático médio do modelo dividido pelo erro quadrático médio dos resíduos.\n",
    "\n",
    "Se o valor-p é menor que 0.05 e temos um grande valor da Estatística F, isso indica que há relação entre os regressores e a variável alvo.\n",
    "\n",
    "Um teste F é um tipo de teste estatístico muito flexível. Você pode usá-los em uma ampla variedade de configurações. Os testes F podem avaliar vários termos do modelo simultaneamente, o que lhes permite comparar os ajustes de diferentes modelos lineares. Por outro lado, os testes t podem avaliar apenas um termo de cada vez.\n",
    "\n",
    "- Prob (F-statistic):\n",
    "\n",
    "As estatísticas \"Valor F\" e \"Prob (F)\" testam a significância geral do modelo de regressão. Especificamente, eles testam a hipótese nula de que todos os coeficientes de regressão são iguais a zero. Isso testa o modelo completo em relação a um modelo sem variáveis e com a estimativa da variável dependente sendo a média dos valores da variável dependente. O valor F é a razão da soma dos quadrados da regressão média dividida pela soma dos quadrados dos erros médios. Seu valor varia de zero a um número arbitrariamente grande. \n",
    "\n",
    "O valor de Prob (F-statistic) é a probabilidade de que a hipótese nula para o modelo completo seja verdadeira (ou seja, que todos os coeficientes de regressão sejam zero). Por exemplo, se o Prob (F) tiver um valor de 0,01000, haverá 1 chance em 100 de que todos os parâmetros de regressão sejam zero. Esse valor baixo implicaria que pelo menos alguns dos parâmetros de regressão são diferentes de zero e que a equação de regressão tem alguma validade no ajuste dos dados (ou seja, as variáveis independentes não são puramente aleatórias em relação à variável dependente)."
   ]
  },
  {
   "cell_type": "code",
   "execution_count": 23,
   "metadata": {},
   "outputs": [
    {
     "data": {
      "text/plain": [
       "3634.108277237379"
      ]
     },
     "execution_count": 23,
     "metadata": {},
     "output_type": "execute_result"
    }
   ],
   "source": [
    "# Extraindo a Estatística F do modelo\n",
    "modelo_v1.fvalue"
   ]
  },
  {
   "cell_type": "markdown",
   "metadata": {},
   "source": [
    "### Resíduos"
   ]
  },
  {
   "cell_type": "markdown",
   "metadata": {},
   "source": [
    "Se os dados forem bons para modelagem, nossos resíduos terão certas características. Essas características são:"
   ]
  },
  {
   "cell_type": "markdown",
   "metadata": {},
   "source": [
    "- Os erros são normalmente distribuídos pelos dados. Em outras palavras, se você plotar os erros em um histograma, eles devem assumir a curva tradicional de sino ou a forma gaussiana.\n",
    "\n",
    "- As variáveis independentes são realmente independentes e não colineares. Queremos garantir a independência entre todas as nossas entradas, caso contrário, nossas entradas afetarão uma à outra, em vez de nossa resposta.\n",
    "\n",
    "- Existe \"homoscedasticidade\". Isso significa que a variação dos erros é consistente em todo o conjunto de dados. Queremos evitar situações em que a taxa de erro cresça em uma direção específica. Isto é homoscedástico:\n",
    "\n",
    "<img src=\"imagens/homoscedastic.png\" alt=\"Drawing\" style=\"width: 400px;\"/>\n",
    "\n",
    "E isso não é homoscedástico:\n",
    "\n",
    "<img src=\"imagens/not-homoscedastic.png\" alt=\"Drawing\" style=\"width: 400px;\"/>\n",
    "\n",
    "Observe que, no primeiro gráfico, a variação entre os pontos alto e baixo em qualquer valor X é aproximadamente o mesmo. No segundo gráfico, à medida que X cresce, o mesmo ocorre com a variação."
   ]
  },
  {
   "cell_type": "code",
   "execution_count": 24,
   "metadata": {
    "scrolled": true
   },
   "outputs": [
    {
     "data": {
      "text/plain": [
       "(array([ 10.,  41.,  48., 112., 276., 477., 705., 433., 111.,   9.]),\n",
       " array([-2.43477725e+01, -2.02894579e+01, -1.62311434e+01, -1.21728288e+01,\n",
       "        -8.11451421e+00, -4.05619963e+00,  2.11494268e-03,  4.06042952e+00,\n",
       "         8.11874410e+00,  1.21770587e+01,  1.62353733e+01]),\n",
       " <a list of 10 Patch objects>)"
      ]
     },
     "execution_count": 24,
     "metadata": {},
     "output_type": "execute_result"
    },
    {
     "data": {
      "image/png": "[encoded data removed]",
      "text/plain": [
       "<Figure size 432x288 with 1 Axes>"
      ]
     },
     "metadata": {
      "needs_background": "light"
     },
     "output_type": "display_data"
    }
   ],
   "source": [
    "# Plot dos Resíduos\n",
    "plt.hist(modelo_v1.resid)"
   ]
  },
  {
   "cell_type": "code",
   "execution_count": 25,
   "metadata": {},
   "outputs": [
    {
     "data": {
      "image/png": "[encoded data removed]",
      "text/plain": [
       "<Figure size 432x288 with 1 Axes>"
      ]
     },
     "execution_count": 25,
     "metadata": {},
     "output_type": "execute_result"
    },
    {
     "data": {
      "image/png": "[encoded data removed]",
      "text/plain": [
       "<Figure size 432x288 with 1 Axes>"
      ]
     },
     "metadata": {
      "needs_background": "light"
     },
     "output_type": "display_data"
    }
   ],
   "source": [
    "# Plot dos desvios dos resíduos - QQ Plot\n",
    "from statsmodels import graphics\n",
    "graphics.gofplots.qqplot(modelo_v1.resid, line = 'r')"
   ]
  },
  {
   "cell_type": "markdown",
   "metadata": {},
   "source": [
    "### Testes Estatísticos Para Normalidade dos Resíduos"
   ]
  },
  {
   "cell_type": "code",
   "execution_count": 26,
   "metadata": {},
   "outputs": [
    {
     "data": {
      "text/html": [
       "<table class=\"simpletable\">\n",
       "<caption>OLS Regression Results</caption>\n",
       "<tr>\n",
       "  <th>Dep. Variable:</th>     <td>life_expectancy</td> <th>  R-squared:         </th> <td>   0.621</td> \n",
       "</tr>\n",
       "<tr>\n",
       "  <th>Model:</th>                   <td>OLS</td>       <th>  Adj. R-squared:    </th> <td>   0.621</td> \n",
       "</tr>\n",
       "<tr>\n",
       "  <th>Method:</th>             <td>Least Squares</td>  <th>  F-statistic:       </th> <td>   3634.</td> \n",
       "</tr>\n",
       "<tr>\n",
       "  <th>Date:</th>             <td>Mon, 09 Mar 2020</td> <th>  Prob (F-statistic):</th>  <td>  0.00</td>  \n",
       "</tr>\n",
       "<tr>\n",
       "  <th>Time:</th>                 <td>00:45:11</td>     <th>  Log-Likelihood:    </th> <td> -7155.3</td> \n",
       "</tr>\n",
       "<tr>\n",
       "  <th>No. Observations:</th>      <td>  2222</td>      <th>  AIC:               </th> <td>1.431e+04</td>\n",
       "</tr>\n",
       "<tr>\n",
       "  <th>Df Residuals:</th>          <td>  2220</td>      <th>  BIC:               </th> <td>1.433e+04</td>\n",
       "</tr>\n",
       "<tr>\n",
       "  <th>Df Model:</th>              <td>     1</td>      <th>                     </th>     <td> </td>    \n",
       "</tr>\n",
       "<tr>\n",
       "  <th>Covariance Type:</th>      <td>nonrobust</td>    <th>                     </th>     <td> </td>    \n",
       "</tr>\n",
       "</table>\n",
       "<table class=\"simpletable\">\n",
       "<tr>\n",
       "      <td></td>         <th>coef</th>     <th>std err</th>      <th>t</th>      <th>P>|t|</th>  <th>[0.025</th>    <th>0.975]</th>  \n",
       "</tr>\n",
       "<tr>\n",
       "  <th>Intercept</th> <td>   40.1038</td> <td>    0.494</td> <td>   81.191</td> <td> 0.000</td> <td>   39.135</td> <td>   41.072</td>\n",
       "</tr>\n",
       "<tr>\n",
       "  <th>school</th>    <td>    2.3888</td> <td>    0.040</td> <td>   60.284</td> <td> 0.000</td> <td>    2.311</td> <td>    2.467</td>\n",
       "</tr>\n",
       "</table>\n",
       "<table class=\"simpletable\">\n",
       "<tr>\n",
       "  <th>Omnibus:</th>       <td>249.699</td> <th>  Durbin-Watson:     </th> <td>   0.211</td>\n",
       "</tr>\n",
       "<tr>\n",
       "  <th>Prob(Omnibus):</th> <td> 0.000</td>  <th>  Jarque-Bera (JB):  </th> <td> 360.095</td>\n",
       "</tr>\n",
       "<tr>\n",
       "  <th>Skew:</th>          <td>-0.843</td>  <th>  Prob(JB):          </th> <td>6.40e-79</td>\n",
       "</tr>\n",
       "<tr>\n",
       "  <th>Kurtosis:</th>      <td> 4.022</td>  <th>  Cond. No.          </th> <td>    48.2</td>\n",
       "</tr>\n",
       "</table><br/><br/>Warnings:<br/>[1] Standard Errors assume that the covariance matrix of the errors is correctly specified."
      ],
      "text/plain": [
       "<class 'statsmodels.iolib.summary.Summary'>\n",
       "\"\"\"\n",
       "                            OLS Regression Results                            \n",
       "==============================================================================\n",
       "Dep. Variable:        life_expectancy   R-squared:                       0.621\n",
       "Model:                            OLS   Adj. R-squared:                  0.621\n",
       "Method:                 Least Squares   F-statistic:                     3634.\n",
       "Date:                Mon, 09 Mar 2020   Prob (F-statistic):               0.00\n",
       "Time:                        00:45:11   Log-Likelihood:                -7155.3\n",
       "No. Observations:                2222   AIC:                         1.431e+04\n",
       "Df Residuals:                    2220   BIC:                         1.433e+04\n",
       "Df Model:                           1                                         \n",
       "Covariance Type:            nonrobust                                         \n",
       "==============================================================================\n",
       "                 coef    std err          t      P>|t|      [0.025      0.975]\n",
       "------------------------------------------------------------------------------\n",
       "Intercept     40.1038      0.494     81.191      0.000      39.135      41.072\n",
       "school         2.3888      0.040     60.284      0.000       2.311       2.467\n",
       "==============================================================================\n",
       "Omnibus:                      249.699   Durbin-Watson:                   0.211\n",
       "Prob(Omnibus):                  0.000   Jarque-Bera (JB):              360.095\n",
       "Skew:                          -0.843   Prob(JB):                     6.40e-79\n",
       "Kurtosis:                       4.022   Cond. No.                         48.2\n",
       "==============================================================================\n",
       "\n",
       "Warnings:\n",
       "[1] Standard Errors assume that the covariance matrix of the errors is correctly specified.\n",
       "\"\"\""
      ]
     },
     "execution_count": 26,
     "metadata": {},
     "output_type": "execute_result"
    }
   ],
   "source": [
    "modelo_v1.summary()"
   ]
  },
  {
   "cell_type": "code",
   "execution_count": 27,
   "metadata": {},
   "outputs": [],
   "source": [
    "# Imports\n",
    "import statsmodels.stats.api as sms\n",
    "from statsmodels.compat import lzip"
   ]
  },
  {
   "cell_type": "code",
   "execution_count": 28,
   "metadata": {},
   "outputs": [
    {
     "data": {
      "text/plain": [
       "[('Omnibus (Chi^2)', 249.6989622419555),\n",
       " ('Prob(Omnibus) (Two-tail probability)', 6.0056397957484185e-55)]"
      ]
     },
     "execution_count": 28,
     "metadata": {},
     "output_type": "execute_result"
    }
   ],
   "source": [
    "# Lista de estatísticas\n",
    "nome1 = ['Omnibus (Chi^2)', 'Prob(Omnibus) (Two-tail probability)']\n",
    "\n",
    "# Teste\n",
    "teste1 = sms.omni_normtest(modelo_v1.resid)\n",
    "\n",
    "# Imprime o resultado\n",
    "lzip(nome1, teste1)"
   ]
  },
  {
   "cell_type": "markdown",
   "metadata": {},
   "source": [
    "- Omnibus / Prob (Omnibus) - Uma das suposições do OLS é que os erros são normalmente distribuídos. O teste Omnibus é realizado para verificar isso. Aqui, a hipótese nula é que os erros são normalmente distribuídos. O Prob (Omnibus) deve estar próximo de 1 para satisfazer o pressuposto do OLS. Em nosso caso, o Prob(Omnibus) é próximo de 0,000, o que implica que a suposição do OLS não é atendida. Por esse motivo, os coeficientes estimados a partir dele não são os melhores estimadores lineares não tendenciosos. O Omnibus é relativamente alto e o Prob(Omnibus) é relativamente baixo, portanto os dados não atendem às suposições do OLS, e não são ideais. Uma abordagem de regressão linear provavelmente seria melhor do que suposições aleatórias, mas provavelmente não tão boa quanto uma abordagem não-linear."
   ]
  },
  {
   "cell_type": "code",
   "execution_count": 29,
   "metadata": {},
   "outputs": [
    {
     "data": {
      "text/plain": [
       "[('Jarque-Bera', 360.0948112027465),\n",
       " ('Prob(JB)', 6.403320891950635e-79),\n",
       " ('Skew', -0.8433146951898539)]"
      ]
     },
     "execution_count": 29,
     "metadata": {},
     "output_type": "execute_result"
    }
   ],
   "source": [
    "# Lista de estatísticas\n",
    "nome2 = ['Jarque-Bera', 'Prob(JB)', 'Skew']\n",
    "\n",
    "# Teste\n",
    "teste2 = sms.jarque_bera(modelo_v1.resid)\n",
    "\n",
    "# Imprime o resultado\n",
    "lzip(nome2, teste2)"
   ]
  },
  {
   "cell_type": "markdown",
   "metadata": {},
   "source": [
    "- Jarque-Bera (JB) / Prob (JB) - Estatística para a análise de distribuição dos erros de regressão. Supõe-se que esteja de acordo com os resultados do teste Omnibus. Um grande valor da estatística JB indica que os erros não são normalmente distribuídos.\n",
    "\n",
    "\n",
    "- Skew - Uma medida da simetria dos dados. Queremos ver algo próximo de zero, indicando que a distribuição residual é normal. \n",
    "\n",
    "\n",
    "- Kurtosis - Uma medida de \"pico\" ou curvatura dos dados. Picos mais altos levam a uma maior curtose. A curtose maior pode ser interpretada como um agrupamento mais restrito de resíduos em torno de zero, implicando um modelo melhor com poucos discrepantes."
   ]
  },
  {
   "cell_type": "markdown",
   "metadata": {},
   "source": [
    "### Analisando o Restante do Relatório do OLS - Outras Estatísticas"
   ]
  },
  {
   "cell_type": "code",
   "execution_count": 30,
   "metadata": {},
   "outputs": [
    {
     "data": {
      "text/html": [
       "<table class=\"simpletable\">\n",
       "<caption>OLS Regression Results</caption>\n",
       "<tr>\n",
       "  <th>Dep. Variable:</th>     <td>life_expectancy</td> <th>  R-squared:         </th> <td>   0.621</td> \n",
       "</tr>\n",
       "<tr>\n",
       "  <th>Model:</th>                   <td>OLS</td>       <th>  Adj. R-squared:    </th> <td>   0.621</td> \n",
       "</tr>\n",
       "<tr>\n",
       "  <th>Method:</th>             <td>Least Squares</td>  <th>  F-statistic:       </th> <td>   3634.</td> \n",
       "</tr>\n",
       "<tr>\n",
       "  <th>Date:</th>             <td>Mon, 09 Mar 2020</td> <th>  Prob (F-statistic):</th>  <td>  0.00</td>  \n",
       "</tr>\n",
       "<tr>\n",
       "  <th>Time:</th>                 <td>00:45:11</td>     <th>  Log-Likelihood:    </th> <td> -7155.3</td> \n",
       "</tr>\n",
       "<tr>\n",
       "  <th>No. Observations:</th>      <td>  2222</td>      <th>  AIC:               </th> <td>1.431e+04</td>\n",
       "</tr>\n",
       "<tr>\n",
       "  <th>Df Residuals:</th>          <td>  2220</td>      <th>  BIC:               </th> <td>1.433e+04</td>\n",
       "</tr>\n",
       "<tr>\n",
       "  <th>Df Model:</th>              <td>     1</td>      <th>                     </th>     <td> </td>    \n",
       "</tr>\n",
       "<tr>\n",
       "  <th>Covariance Type:</th>      <td>nonrobust</td>    <th>                     </th>     <td> </td>    \n",
       "</tr>\n",
       "</table>\n",
       "<table class=\"simpletable\">\n",
       "<tr>\n",
       "      <td></td>         <th>coef</th>     <th>std err</th>      <th>t</th>      <th>P>|t|</th>  <th>[0.025</th>    <th>0.975]</th>  \n",
       "</tr>\n",
       "<tr>\n",
       "  <th>Intercept</th> <td>   40.1038</td> <td>    0.494</td> <td>   81.191</td> <td> 0.000</td> <td>   39.135</td> <td>   41.072</td>\n",
       "</tr>\n",
       "<tr>\n",
       "  <th>school</th>    <td>    2.3888</td> <td>    0.040</td> <td>   60.284</td> <td> 0.000</td> <td>    2.311</td> <td>    2.467</td>\n",
       "</tr>\n",
       "</table>\n",
       "<table class=\"simpletable\">\n",
       "<tr>\n",
       "  <th>Omnibus:</th>       <td>249.699</td> <th>  Durbin-Watson:     </th> <td>   0.211</td>\n",
       "</tr>\n",
       "<tr>\n",
       "  <th>Prob(Omnibus):</th> <td> 0.000</td>  <th>  Jarque-Bera (JB):  </th> <td> 360.095</td>\n",
       "</tr>\n",
       "<tr>\n",
       "  <th>Skew:</th>          <td>-0.843</td>  <th>  Prob(JB):          </th> <td>6.40e-79</td>\n",
       "</tr>\n",
       "<tr>\n",
       "  <th>Kurtosis:</th>      <td> 4.022</td>  <th>  Cond. No.          </th> <td>    48.2</td>\n",
       "</tr>\n",
       "</table><br/><br/>Warnings:<br/>[1] Standard Errors assume that the covariance matrix of the errors is correctly specified."
      ],
      "text/plain": [
       "<class 'statsmodels.iolib.summary.Summary'>\n",
       "\"\"\"\n",
       "                            OLS Regression Results                            \n",
       "==============================================================================\n",
       "Dep. Variable:        life_expectancy   R-squared:                       0.621\n",
       "Model:                            OLS   Adj. R-squared:                  0.621\n",
       "Method:                 Least Squares   F-statistic:                     3634.\n",
       "Date:                Mon, 09 Mar 2020   Prob (F-statistic):               0.00\n",
       "Time:                        00:45:11   Log-Likelihood:                -7155.3\n",
       "No. Observations:                2222   AIC:                         1.431e+04\n",
       "Df Residuals:                    2220   BIC:                         1.433e+04\n",
       "Df Model:                           1                                         \n",
       "Covariance Type:            nonrobust                                         \n",
       "==============================================================================\n",
       "                 coef    std err          t      P>|t|      [0.025      0.975]\n",
       "------------------------------------------------------------------------------\n",
       "Intercept     40.1038      0.494     81.191      0.000      39.135      41.072\n",
       "school         2.3888      0.040     60.284      0.000       2.311       2.467\n",
       "==============================================================================\n",
       "Omnibus:                      249.699   Durbin-Watson:                   0.211\n",
       "Prob(Omnibus):                  0.000   Jarque-Bera (JB):              360.095\n",
       "Skew:                          -0.843   Prob(JB):                     6.40e-79\n",
       "Kurtosis:                       4.022   Cond. No.                         48.2\n",
       "==============================================================================\n",
       "\n",
       "Warnings:\n",
       "[1] Standard Errors assume that the covariance matrix of the errors is correctly specified.\n",
       "\"\"\""
      ]
     },
     "execution_count": 30,
     "metadata": {},
     "output_type": "execute_result"
    }
   ],
   "source": [
    "modelo_v1.summary()"
   ]
  },
  {
   "cell_type": "markdown",
   "metadata": {},
   "source": [
    "- Adj. R-squared - O \"coeficiente ajustado de determinação (R2) é a estatística R2 ajustada para o número de parâmetros na equação e o número de observações de dados. É uma estimativa mais conservadora do percentual de variância explicado, especialmente quando o tamanho da amostra é pequeno comparado ao número de parâmetros.\n",
    "\n",
    "\n",
    "- Log-likelihood - O log da função de probabilidade.\n",
    "\n",
    "\n",
    "- AIC - O Critério de Informação de Akaike. É calculado como número de parâmetros menos a probabilidade do modelo geral. Uma AIC mais baixa implica um modelo melhor.\n",
    "\n",
    "\n",
    "- BIC - O Critério de Informação Bayesiano. Semelhante ao AIC, mas possui uma penalidade mais alta para modelos com mais parâmetros.\n",
    "\n",
    "\n",
    "- DF Residuals - Graus de liberdade dos resíduos. Número de observações - número de parâmetros\n",
    "\n",
    "Primeiro de tudo, o que significa o termo \"graus de liberdade\"? Refere-se ao número de informações (logicamente) independentes em uma amostra de dados. Observe que isso é bem diferente de independência estatística.\n",
    "\n",
    "Como exemplo rápido, suponha que tenhamos uma amostra com quatro valores {4, 2, 6, 8}. Existem quatro informações separadas aqui. Não existe uma conexão específica entre esses valores. Eles são livres para assumir quaisquer valores, em princípio. Poderíamos dizer que existem \"quatro graus de liberdade\" associados a essa amostra de dados.\n",
    "\n",
    "Agora, suponha que eu lhe diga que três dos valores da amostra são 4, 2 e 6; e também digo que a média da amostra é 5. Você pode deduzir imediatamente que o quarto valor tem que ser 8. Não há outra possibilidade lógica.\n",
    "\n",
    "Então, quando digo que a média da amostra é 5, estou introduzindo efetivamente uma restrição. O valor do quarto elemento desconhecido da amostra está sendo implicitamente determinado a partir dos outros três valores e da restrição. Ou seja, uma vez introduzida a restrição, existem apenas três informações logicamente independentes na amostra. Ou seja, existem apenas três \"graus de liberdade\", depois que a média da amostra é revelada.\n",
    "\n",
    "Logo:\n",
    "\n",
    "DF da Regressão é o número de variáveis independentes em nosso modelo de regressão. \n",
    "\n",
    "DF Residual é o número total de observações (linhas) do conjunto de dados subtraído pelo número de variáveis que estão sendo estimadas. \n",
    "\n",
    "\n",
    "- DF Model - Número de parâmetros no modelo (sem incluir o termo constante, se presente).\n",
    "\n",
    "\n",
    "- Durbin-Watson - Testes de homocedasticidade. Esperamos ter um valor entre 1 e 2. O \"teste de Durbin-Watson para autocorrelação\" é uma estatística que indica a probabilidade de que os valores de desvio (erro) da regressão tenham um componente de regressão automática de primeira ordem. Os modelos de regressão assumem que os desvios de erro não estão correlacionados. Pequenos valores da estatística Durbin-Watson indicam a presença de autocorrelação. No entanto, um valor menor que 0,80 geralmente indica que é provável a autocorrelação. Se a estatística Durbin-Watson indicar que os valores residuais são correlacionados automaticamente, é recomendável exibir um gráfico dos valores residuais.\n",
    "\n",
    "\n",
    "Ao examinar os dados, vemos um conjunto de características \"OK\" (embora não ótimo). Isso indicaria que a abordagem OLS tem alguma validade, mas provavelmente podemos fazer melhor com um modelo não linear. Ou ainda precisamos trabalhar um pouco mais no processamento dos dados. Mas provavelmente precisamos de mais variáveis!\n",
    "\n",
    "Em Data Science há uma grande quantidade de \"arte\" envolvida na criação do modelo certo. Compreender como seus dados \"se comportam\" é um primeiro passo sólido nessa direção e geralmente pode fazer a diferença entre um bom modelo e um muito melhor."
   ]
  },
  {
   "cell_type": "markdown",
   "metadata": {},
   "source": [
    "### Padronização"
   ]
  },
  {
   "cell_type": "markdown",
   "metadata": {},
   "source": [
    "Muitos algoritmos de modelagem fazem suposições sobre os dados e geralmente é uma boa ideia preparar os dados para melhor expor a estrutura do problema aos algoritmos que você pretende usar, sendo esta uma parte importante da etapa de pré-processamento de dados, quando trabalhamos com Data Science. Você  quase  sempre  precisa  pré-processar  seus  dados.  \n",
    "\n",
    "É  um  passo praticamente obrigatório. Uma dificuldade é que algoritmos diferentes fazem suposições diferentes sobre os dados e podem exigir transformações diferentes. Além disso, quando você segue todas as regras e prepara seus dados, às vezes os algoritmos podem oferecer melhores resultados sem o pré-processamento. Não há fórmulas mágicas, pois tudo depende dos dados e os dados sempre mudam.\n",
    "\n",
    "Geralmente, recomendamos a criação de muitos modos de exibição e transformações diferentes dos dados e, em seguida, exercitar um punhado de algoritmos em cada bloco do seu conjunto de dados. Isso ajudará você a identificar quais transformações de dados podem ser melhores para expor a estrutura do problema em geral. Vamos listar agora as 4 diferentes técnicas de pré-processamento de dados para aprendizado de máquina, pois esta é uma das maiores dúvidas de quem começa em Data Science.\n",
    "\n",
    "1. Aplicar Escala aos dados\n",
    "\n",
    "Quando  seus  dados  são  compostos  de atributos  com  escalas  variáveis,  muitos algoritmos de aprendizado de máquina podem se beneficiar do reescalonamento dos atributos para que todos tenham a mesma escala. Muitas vezes isso é conhecido como normalização (embora não seja o termo ideal) e os atributos  são  frequentemente  redimensionados  no  intervalo  entre  0  e  1.  Isso  é  útil  para algoritmos de otimização usados no núcleo de algoritmos de aprendizado de máquina como o gradiente descendente. Também é útil para algoritmos que pesam entradas como regressão e redes neurais e algoritmos que usam medidas de distância como K-Nearest Neighbors(KNN).\n",
    "\n",
    "2. Padronização dos Dados\n",
    "\n",
    "A padronização é uma técnica útil para transformar atributos com uma distribuição gaussiana e diferentes médias e desvios padrão para uma distribuição Gaussiana padrão com uma média de 0 e um desvio padrão de 1. É  mais  adequado  para  técnicas  que  pressupõem  uma  distribuição  gaussiana  nas variáveis de entrada e funcionam melhor com dados reescalonados, como regressão linear, regressão logística e análise discriminante linear.\n",
    "\n",
    "3. Normalização dos Dados\n",
    "\n",
    "A normalização refere-se ao reescalonamento para ter um comprimento de 1 (chamado de norma unitária em álgebra linear). Esse pré-processamento pode ser útil para conjuntos de dados esparsos (muitos zeros) com atributos de escalas variadas ao usar algoritmos que ponderam valores de entrada, como redes neurais e algoritmos que usam medidas de distância, como K-Nearest Neighbors (KNN).\n",
    "\n",
    "4. Binarização dos Dados\n",
    "\n",
    "Você pode transformar seus dados usando um limite binário. Todos os valores acima do limite são marcados como 1 e todos iguais ou inferiores são marcados como 0. Isso é chamado de binarizar seus dados ou limitar seus dados. Pode ser útil quando você tem  probabilidades  que  você  deseja tornar valores  nítidos para  leitura  e  interpretação. Também é útil quando na engenharia de recursos adicionamos novos recursos que indicam algo significativo."
   ]
  },
  {
   "cell_type": "code",
   "execution_count": 31,
   "metadata": {},
   "outputs": [
    {
     "data": {
      "text/plain": [
       "(array([ 34.,  88., 151., 262., 452., 529., 327., 292.,  66.,  21.]),\n",
       " array([ 2.8 ,  4.59,  6.38,  8.17,  9.96, 11.75, 13.54, 15.33, 17.12,\n",
       "        18.91, 20.7 ]),\n",
       " <a list of 10 Patch objects>)"
      ]
     },
     "execution_count": 31,
     "metadata": {},
     "output_type": "execute_result"
    },
    {
     "data": {
      "image/png": "[encoded data removed]",
      "text/plain": [
       "<Figure size 432x288 with 1 Axes>"
      ]
     },
     "metadata": {
      "needs_background": "light"
     },
     "output_type": "display_data"
    }
   ],
   "source": [
    "plt.hist(dataset.school)"
   ]
  },
  {
   "cell_type": "code",
   "execution_count": 32,
   "metadata": {},
   "outputs": [
    {
     "data": {
      "text/html": [
       "<div>\n",
       "<style scoped>\n",
       "    .dataframe tbody tr th:only-of-type {\n",
       "        vertical-align: middle;\n",
       "    }\n",
       "\n",
       "    .dataframe tbody tr th {\n",
       "        vertical-align: top;\n",
       "    }\n",
       "\n",
       "    .dataframe thead th {\n",
       "        text-align: right;\n",
       "    }\n",
       "</style>\n",
       "<table border=\"1\" class=\"dataframe\">\n",
       "  <thead>\n",
       "    <tr style=\"text-align: right;\">\n",
       "      <th></th>\n",
       "      <th>school</th>\n",
       "    </tr>\n",
       "  </thead>\n",
       "  <tbody>\n",
       "    <tr>\n",
       "      <th>0</th>\n",
       "      <td>-0.596552</td>\n",
       "    </tr>\n",
       "    <tr>\n",
       "      <th>1</th>\n",
       "      <td>-0.627375</td>\n",
       "    </tr>\n",
       "    <tr>\n",
       "      <th>2</th>\n",
       "      <td>-0.658198</td>\n",
       "    </tr>\n",
       "    <tr>\n",
       "      <th>3</th>\n",
       "      <td>-0.689021</td>\n",
       "    </tr>\n",
       "    <tr>\n",
       "      <th>4</th>\n",
       "      <td>-0.781490</td>\n",
       "    </tr>\n",
       "  </tbody>\n",
       "</table>\n",
       "</div>"
      ],
      "text/plain": [
       "     school\n",
       "0 -0.596552\n",
       "1 -0.627375\n",
       "2 -0.658198\n",
       "3 -0.689021\n",
       "4 -0.781490"
      ]
     },
     "execution_count": 32,
     "metadata": {},
     "output_type": "execute_result"
    }
   ],
   "source": [
    "# Padronizando os dados\n",
    "\n",
    "# https://scikit-learn.org/stable/modules/generated/sklearn.preprocessing.StandardScaler.html\n",
    "from sklearn.preprocessing import StandardScaler\n",
    "\n",
    "atributos = ['school'] \n",
    "\n",
    "# Escala\n",
    "scaler = StandardScaler()\n",
    "scaler.fit(dataset[atributos])\n",
    "scaled_features = scaler.transform(dataset[atributos])\n",
    "\n",
    "# Criando um dataframe com dados em escala\n",
    "scaled_features_df = pd.DataFrame(scaled_features, columns = atributos, index = dataset.index)\n",
    "scaled_features_df.head()"
   ]
  },
  {
   "cell_type": "code",
   "execution_count": 33,
   "metadata": {},
   "outputs": [
    {
     "data": {
      "text/plain": [
       "(array([ 34.,  88., 151., 262., 452., 529., 327., 292.,  66.,  21.]),\n",
       " array([-2.84662452, -2.29489448, -1.74316443, -1.19143438, -0.63970434,\n",
       "        -0.08797429,  0.46375575,  1.0154858 ,  1.56721584,  2.11894589,\n",
       "         2.67067593]),\n",
       " <a list of 10 Patch objects>)"
      ]
     },
     "execution_count": 33,
     "metadata": {},
     "output_type": "execute_result"
    },
    {
     "data": {
      "image/png": "[encoded data removed]",
      "text/plain": [
       "<Figure size 432x288 with 1 Axes>"
      ]
     },
     "metadata": {
      "needs_background": "light"
     },
     "output_type": "display_data"
    }
   ],
   "source": [
    "plt.hist(scaled_features_df.school)"
   ]
  },
  {
   "cell_type": "code",
   "execution_count": 34,
   "metadata": {},
   "outputs": [
    {
     "data": {
      "text/html": [
       "<table class=\"simpletable\">\n",
       "<caption>OLS Regression Results</caption>\n",
       "<tr>\n",
       "  <th>Dep. Variable:</th>     <td>life_expectancy</td> <th>  R-squared:         </th> <td>   0.621</td> \n",
       "</tr>\n",
       "<tr>\n",
       "  <th>Model:</th>                   <td>OLS</td>       <th>  Adj. R-squared:    </th> <td>   0.621</td> \n",
       "</tr>\n",
       "<tr>\n",
       "  <th>Method:</th>             <td>Least Squares</td>  <th>  F-statistic:       </th> <td>   3634.</td> \n",
       "</tr>\n",
       "<tr>\n",
       "  <th>Date:</th>             <td>Mon, 09 Mar 2020</td> <th>  Prob (F-statistic):</th>  <td>  0.00</td>  \n",
       "</tr>\n",
       "<tr>\n",
       "  <th>Time:</th>                 <td>00:45:12</td>     <th>  Log-Likelihood:    </th> <td> -7155.3</td> \n",
       "</tr>\n",
       "<tr>\n",
       "  <th>No. Observations:</th>      <td>  2222</td>      <th>  AIC:               </th> <td>1.431e+04</td>\n",
       "</tr>\n",
       "<tr>\n",
       "  <th>Df Residuals:</th>          <td>  2220</td>      <th>  BIC:               </th> <td>1.433e+04</td>\n",
       "</tr>\n",
       "<tr>\n",
       "  <th>Df Model:</th>              <td>     1</td>      <th>                     </th>     <td> </td>    \n",
       "</tr>\n",
       "<tr>\n",
       "  <th>Covariance Type:</th>      <td>nonrobust</td>    <th>                     </th>     <td> </td>    \n",
       "</tr>\n",
       "</table>\n",
       "<table class=\"simpletable\">\n",
       "<tr>\n",
       "    <td></td>       <th>coef</th>     <th>std err</th>      <th>t</th>      <th>P>|t|</th>  <th>[0.025</th>    <th>0.975]</th>  \n",
       "</tr>\n",
       "<tr>\n",
       "  <th>const</th> <td>   68.8544</td> <td>    0.129</td> <td>  535.573</td> <td> 0.000</td> <td>   68.602</td> <td>   69.107</td>\n",
       "</tr>\n",
       "<tr>\n",
       "  <th>x1</th>    <td>    7.7502</td> <td>    0.129</td> <td>   60.284</td> <td> 0.000</td> <td>    7.498</td> <td>    8.002</td>\n",
       "</tr>\n",
       "</table>\n",
       "<table class=\"simpletable\">\n",
       "<tr>\n",
       "  <th>Omnibus:</th>       <td>249.699</td> <th>  Durbin-Watson:     </th> <td>   0.211</td>\n",
       "</tr>\n",
       "<tr>\n",
       "  <th>Prob(Omnibus):</th> <td> 0.000</td>  <th>  Jarque-Bera (JB):  </th> <td> 360.095</td>\n",
       "</tr>\n",
       "<tr>\n",
       "  <th>Skew:</th>          <td>-0.843</td>  <th>  Prob(JB):          </th> <td>6.40e-79</td>\n",
       "</tr>\n",
       "<tr>\n",
       "  <th>Kurtosis:</th>      <td> 4.022</td>  <th>  Cond. No.          </th> <td>    1.00</td>\n",
       "</tr>\n",
       "</table><br/><br/>Warnings:<br/>[1] Standard Errors assume that the covariance matrix of the errors is correctly specified."
      ],
      "text/plain": [
       "<class 'statsmodels.iolib.summary.Summary'>\n",
       "\"\"\"\n",
       "                            OLS Regression Results                            \n",
       "==============================================================================\n",
       "Dep. Variable:        life_expectancy   R-squared:                       0.621\n",
       "Model:                            OLS   Adj. R-squared:                  0.621\n",
       "Method:                 Least Squares   F-statistic:                     3634.\n",
       "Date:                Mon, 09 Mar 2020   Prob (F-statistic):               0.00\n",
       "Time:                        00:45:12   Log-Likelihood:                -7155.3\n",
       "No. Observations:                2222   AIC:                         1.431e+04\n",
       "Df Residuals:                    2220   BIC:                         1.433e+04\n",
       "Df Model:                           1                                         \n",
       "Covariance Type:            nonrobust                                         \n",
       "==============================================================================\n",
       "                 coef    std err          t      P>|t|      [0.025      0.975]\n",
       "------------------------------------------------------------------------------\n",
       "const         68.8544      0.129    535.573      0.000      68.602      69.107\n",
       "x1             7.7502      0.129     60.284      0.000       7.498       8.002\n",
       "==============================================================================\n",
       "Omnibus:                      249.699   Durbin-Watson:                   0.211\n",
       "Prob(Omnibus):                  0.000   Jarque-Bera (JB):              360.095\n",
       "Skew:                          -0.843   Prob(JB):                     6.40e-79\n",
       "Kurtosis:                       4.022   Cond. No.                         1.00\n",
       "==============================================================================\n",
       "\n",
       "Warnings:\n",
       "[1] Standard Errors assume that the covariance matrix of the errors is correctly specified.\n",
       "\"\"\""
      ]
     },
     "execution_count": 34,
     "metadata": {},
     "output_type": "execute_result"
    }
   ],
   "source": [
    "# Segunda versão do modelo\n",
    "modelo_v2 = sm.OLS(endog = dataset['life_expectancy'], exog = sm.add_constant(scaled_features_df.values)).fit()\n",
    "modelo_v2.summary()"
   ]
  },
  {
   "cell_type": "markdown",
   "metadata": {},
   "source": [
    "### Multicolinearidade"
   ]
  },
  {
   "cell_type": "markdown",
   "metadata": {},
   "source": [
    "Abordamos a regressão linear simples usando uma variável. No entanto, nos casos do mundo real, lidaremos com diversas variáveis. Isso é chamado de regressão multivariada. \n",
    "\n",
    "Colinearidade é o estado em que duas variáveis são altamente correlacionadas e contêm informações semelhantes sobre a variação em um determinado conjunto de dados. Para detectar colinearidade entre variáveis, basta criar uma matriz de correlação e encontrar variáveis com grandes valores absolutos. \n",
    "\n",
    "A multicolinearidade, por outro lado, é mais problemática de detectar porque surge quando três ou mais variáveis, altamente correlacionadas, são incluídas em um modelo. Para tornar as coisas piores, a multicolinearidade pode surgir mesmo quando pares isolados de variáveis não são colineares.\n",
    "\n",
    "- Condition Number - Essa estatística mede a sensibilidade da saída de uma função em comparação à sua entrada. Quando temos multicolinearidade, podemos esperar flutuações muito maiores para pequenas alterações nos dados; portanto, esperamos ver um número relativamente pequeno, algo abaixo de 30. \n",
    "\n",
    "Uma alternativa para resolver o problema é normalizar as variáveis independentes para ter comprimento de unidade. Remover uma das variáveis multicolineares também é uma opção. Também podemos experimentar transformações como escala e padronização."
   ]
  },
  {
   "cell_type": "code",
   "execution_count": 35,
   "metadata": {},
   "outputs": [
    {
     "name": "stdout",
     "output_type": "stream",
     "text": [
      "                 life_expectancy       bmi       hiv       gdp  \\\n",
      "life_expectancy         1.000000  0.591826 -0.570218  0.464855   \n",
      "bmi                     0.591826  1.000000 -0.244071  0.307833   \n",
      "hiv                    -0.570218 -0.244071  1.000000 -0.131684   \n",
      "gdp                     0.464855  0.307833 -0.131684  1.000000   \n",
      "thinness_till19        -0.494762 -0.561643  0.212936 -0.311480   \n",
      "inf_death              -0.188937 -0.232869  0.017758 -0.107413   \n",
      "school                  0.787895  0.604893 -0.239688  0.494044   \n",
      "lifestyle               0.524638  0.670402 -0.155901  0.466371   \n",
      "pop_size               -0.072341 -0.045490 -0.008305  0.038196   \n",
      "\n",
      "                 thinness_till19  inf_death    school  lifestyle  pop_size  \n",
      "life_expectancy        -0.494762  -0.188937  0.787895   0.524638 -0.072341  \n",
      "bmi                    -0.561643  -0.232869  0.604893   0.670402 -0.045490  \n",
      "hiv                     0.212936   0.017758 -0.239688  -0.155901 -0.008305  \n",
      "gdp                    -0.311480  -0.107413  0.494044   0.466371  0.038196  \n",
      "thinness_till19         1.000000   0.445476 -0.516931  -0.473522  0.073912  \n",
      "inf_death               0.445476   1.000000 -0.227441  -0.160287  0.161808  \n",
      "school                 -0.516931  -0.227441  1.000000   0.645893 -0.059482  \n",
      "lifestyle              -0.473522  -0.160287  0.645893   1.000000  0.019567  \n",
      "pop_size                0.073912   0.161808 -0.059482   0.019567  1.000000  \n"
     ]
    }
   ],
   "source": [
    "# Calculando a correlação entre as variáveis\n",
    "cc = dataset[[\"life_expectancy\", \n",
    "              \"bmi\", \n",
    "              \"hiv\", \n",
    "              \"gdp\", \n",
    "              \"thinness_till19\", \n",
    "              \"inf_death\", \n",
    "              \"school\", \n",
    "              \"lifestyle\", \n",
    "              \"pop_size\"]].corr()\n",
    "print(cc)"
   ]
  },
  {
   "cell_type": "code",
   "execution_count": 36,
   "metadata": {},
   "outputs": [
    {
     "data": {
      "text/html": [
       "<style  type=\"text/css\" >\n",
       "    #T_e87cee3e_61d9_11ea_be6b_faffc259b610row0_col0 {\n",
       "            background-color:  #b40426;\n",
       "            color:  #f1f1f1;\n",
       "        }    #T_e87cee3e_61d9_11ea_be6b_faffc259b610row0_col1 {\n",
       "            background-color:  #f59d7e;\n",
       "            color:  #000000;\n",
       "        }    #T_e87cee3e_61d9_11ea_be6b_faffc259b610row0_col2 {\n",
       "            background-color:  #3b4cc0;\n",
       "            color:  #f1f1f1;\n",
       "        }    #T_e87cee3e_61d9_11ea_be6b_faffc259b610row0_col3 {\n",
       "            background-color:  #f1cdba;\n",
       "            color:  #000000;\n",
       "        }    #T_e87cee3e_61d9_11ea_be6b_faffc259b610row0_col4 {\n",
       "            background-color:  #465ecf;\n",
       "            color:  #f1f1f1;\n",
       "        }    #T_e87cee3e_61d9_11ea_be6b_faffc259b610row0_col5 {\n",
       "            background-color:  #455cce;\n",
       "            color:  #f1f1f1;\n",
       "        }    #T_e87cee3e_61d9_11ea_be6b_faffc259b610row0_col6 {\n",
       "            background-color:  #e16751;\n",
       "            color:  #000000;\n",
       "        }    #T_e87cee3e_61d9_11ea_be6b_faffc259b610row0_col7 {\n",
       "            background-color:  #f7b497;\n",
       "            color:  #000000;\n",
       "        }    #T_e87cee3e_61d9_11ea_be6b_faffc259b610row0_col8 {\n",
       "            background-color:  #3b4cc0;\n",
       "            color:  #f1f1f1;\n",
       "        }    #T_e87cee3e_61d9_11ea_be6b_faffc259b610row1_col0 {\n",
       "            background-color:  #f59d7e;\n",
       "            color:  #000000;\n",
       "        }    #T_e87cee3e_61d9_11ea_be6b_faffc259b610row1_col1 {\n",
       "            background-color:  #b40426;\n",
       "            color:  #f1f1f1;\n",
       "        }    #T_e87cee3e_61d9_11ea_be6b_faffc259b610row1_col2 {\n",
       "            background-color:  #7ea1fa;\n",
       "            color:  #000000;\n",
       "        }    #T_e87cee3e_61d9_11ea_be6b_faffc259b610row1_col3 {\n",
       "            background-color:  #d5dbe5;\n",
       "            color:  #000000;\n",
       "        }    #T_e87cee3e_61d9_11ea_be6b_faffc259b610row1_col4 {\n",
       "            background-color:  #3b4cc0;\n",
       "            color:  #f1f1f1;\n",
       "        }    #T_e87cee3e_61d9_11ea_be6b_faffc259b610row1_col5 {\n",
       "            background-color:  #3b4cc0;\n",
       "            color:  #f1f1f1;\n",
       "        }    #T_e87cee3e_61d9_11ea_be6b_faffc259b610row1_col6 {\n",
       "            background-color:  #f59d7e;\n",
       "            color:  #000000;\n",
       "        }    #T_e87cee3e_61d9_11ea_be6b_faffc259b610row1_col7 {\n",
       "            background-color:  #f18f71;\n",
       "            color:  #000000;\n",
       "        }    #T_e87cee3e_61d9_11ea_be6b_faffc259b610row1_col8 {\n",
       "            background-color:  #4257c9;\n",
       "            color:  #f1f1f1;\n",
       "        }    #T_e87cee3e_61d9_11ea_be6b_faffc259b610row2_col0 {\n",
       "            background-color:  #3b4cc0;\n",
       "            color:  #f1f1f1;\n",
       "        }    #T_e87cee3e_61d9_11ea_be6b_faffc259b610row2_col1 {\n",
       "            background-color:  #7da0f9;\n",
       "            color:  #000000;\n",
       "        }    #T_e87cee3e_61d9_11ea_be6b_faffc259b610row2_col2 {\n",
       "            background-color:  #b40426;\n",
       "            color:  #f1f1f1;\n",
       "        }    #T_e87cee3e_61d9_11ea_be6b_faffc259b610row2_col3 {\n",
       "            background-color:  #6687ed;\n",
       "            color:  #000000;\n",
       "        }    #T_e87cee3e_61d9_11ea_be6b_faffc259b610row2_col4 {\n",
       "            background-color:  #dbdcde;\n",
       "            color:  #000000;\n",
       "        }    #T_e87cee3e_61d9_11ea_be6b_faffc259b610row2_col5 {\n",
       "            background-color:  #7da0f9;\n",
       "            color:  #000000;\n",
       "        }    #T_e87cee3e_61d9_11ea_be6b_faffc259b610row2_col6 {\n",
       "            background-color:  #7597f6;\n",
       "            color:  #000000;\n",
       "        }    #T_e87cee3e_61d9_11ea_be6b_faffc259b610row2_col7 {\n",
       "            background-color:  #81a4fb;\n",
       "            color:  #000000;\n",
       "        }    #T_e87cee3e_61d9_11ea_be6b_faffc259b610row2_col8 {\n",
       "            background-color:  #4c66d6;\n",
       "            color:  #000000;\n",
       "        }    #T_e87cee3e_61d9_11ea_be6b_faffc259b610row3_col0 {\n",
       "            background-color:  #f7ba9f;\n",
       "            color:  #000000;\n",
       "        }    #T_e87cee3e_61d9_11ea_be6b_faffc259b610row3_col1 {\n",
       "            background-color:  #ead4c8;\n",
       "            color:  #000000;\n",
       "        }    #T_e87cee3e_61d9_11ea_be6b_faffc259b610row3_col2 {\n",
       "            background-color:  #97b8ff;\n",
       "            color:  #000000;\n",
       "        }    #T_e87cee3e_61d9_11ea_be6b_faffc259b610row3_col3 {\n",
       "            background-color:  #b40426;\n",
       "            color:  #f1f1f1;\n",
       "        }    #T_e87cee3e_61d9_11ea_be6b_faffc259b610row3_col4 {\n",
       "            background-color:  #6e90f2;\n",
       "            color:  #000000;\n",
       "        }    #T_e87cee3e_61d9_11ea_be6b_faffc259b610row3_col5 {\n",
       "            background-color:  #5a78e4;\n",
       "            color:  #000000;\n",
       "        }    #T_e87cee3e_61d9_11ea_be6b_faffc259b610row3_col6 {\n",
       "            background-color:  #f7b89c;\n",
       "            color:  #000000;\n",
       "        }    #T_e87cee3e_61d9_11ea_be6b_faffc259b610row3_col7 {\n",
       "            background-color:  #f5c0a7;\n",
       "            color:  #000000;\n",
       "        }    #T_e87cee3e_61d9_11ea_be6b_faffc259b610row3_col8 {\n",
       "            background-color:  #5a78e4;\n",
       "            color:  #000000;\n",
       "        }    #T_e87cee3e_61d9_11ea_be6b_faffc259b610row4_col0 {\n",
       "            background-color:  #4961d2;\n",
       "            color:  #f1f1f1;\n",
       "        }    #T_e87cee3e_61d9_11ea_be6b_faffc259b610row4_col1 {\n",
       "            background-color:  #3b4cc0;\n",
       "            color:  #f1f1f1;\n",
       "        }    #T_e87cee3e_61d9_11ea_be6b_faffc259b610row4_col2 {\n",
       "            background-color:  #dcdddd;\n",
       "            color:  #000000;\n",
       "        }    #T_e87cee3e_61d9_11ea_be6b_faffc259b610row4_col3 {\n",
       "            background-color:  #3b4cc0;\n",
       "            color:  #f1f1f1;\n",
       "        }    #T_e87cee3e_61d9_11ea_be6b_faffc259b610row4_col4 {\n",
       "            background-color:  #b40426;\n",
       "            color:  #f1f1f1;\n",
       "        }    #T_e87cee3e_61d9_11ea_be6b_faffc259b610row4_col5 {\n",
       "            background-color:  #e9d5cb;\n",
       "            color:  #000000;\n",
       "        }    #T_e87cee3e_61d9_11ea_be6b_faffc259b610row4_col6 {\n",
       "            background-color:  #3b4cc0;\n",
       "            color:  #f1f1f1;\n",
       "        }    #T_e87cee3e_61d9_11ea_be6b_faffc259b610row4_col7 {\n",
       "            background-color:  #3b4cc0;\n",
       "            color:  #f1f1f1;\n",
       "        }    #T_e87cee3e_61d9_11ea_be6b_faffc259b610row4_col8 {\n",
       "            background-color:  #6485ec;\n",
       "            color:  #000000;\n",
       "        }    #T_e87cee3e_61d9_11ea_be6b_faffc259b610row5_col0 {\n",
       "            background-color:  #8badfd;\n",
       "            color:  #000000;\n",
       "        }    #T_e87cee3e_61d9_11ea_be6b_faffc259b610row5_col1 {\n",
       "            background-color:  #7ea1fa;\n",
       "            color:  #000000;\n",
       "        }    #T_e87cee3e_61d9_11ea_be6b_faffc259b610row5_col2 {\n",
       "            background-color:  #b7cff9;\n",
       "            color:  #000000;\n",
       "        }    #T_e87cee3e_61d9_11ea_be6b_faffc259b610row5_col3 {\n",
       "            background-color:  #6b8df0;\n",
       "            color:  #000000;\n",
       "        }    #T_e87cee3e_61d9_11ea_be6b_faffc259b610row5_col4 {\n",
       "            background-color:  #f6bea4;\n",
       "            color:  #000000;\n",
       "        }    #T_e87cee3e_61d9_11ea_be6b_faffc259b610row5_col5 {\n",
       "            background-color:  #b40426;\n",
       "            color:  #f1f1f1;\n",
       "        }    #T_e87cee3e_61d9_11ea_be6b_faffc259b610row5_col6 {\n",
       "            background-color:  #779af7;\n",
       "            color:  #000000;\n",
       "        }    #T_e87cee3e_61d9_11ea_be6b_faffc259b610row5_col7 {\n",
       "            background-color:  #80a3fa;\n",
       "            color:  #000000;\n",
       "        }    #T_e87cee3e_61d9_11ea_be6b_faffc259b610row5_col8 {\n",
       "            background-color:  #81a4fb;\n",
       "            color:  #000000;\n",
       "        }    #T_e87cee3e_61d9_11ea_be6b_faffc259b610row6_col0 {\n",
       "            background-color:  #e0654f;\n",
       "            color:  #000000;\n",
       "        }    #T_e87cee3e_61d9_11ea_be6b_faffc259b610row6_col1 {\n",
       "            background-color:  #f49a7b;\n",
       "            color:  #000000;\n",
       "        }    #T_e87cee3e_61d9_11ea_be6b_faffc259b610row6_col2 {\n",
       "            background-color:  #7ea1fa;\n",
       "            color:  #000000;\n",
       "        }    #T_e87cee3e_61d9_11ea_be6b_faffc259b610row6_col3 {\n",
       "            background-color:  #f3c7b1;\n",
       "            color:  #000000;\n",
       "        }    #T_e87cee3e_61d9_11ea_be6b_faffc259b610row6_col4 {\n",
       "            background-color:  #4358cb;\n",
       "            color:  #f1f1f1;\n",
       "        }    #T_e87cee3e_61d9_11ea_be6b_faffc259b610row6_col5 {\n",
       "            background-color:  #3c4ec2;\n",
       "            color:  #f1f1f1;\n",
       "        }    #T_e87cee3e_61d9_11ea_be6b_faffc259b610row6_col6 {\n",
       "            background-color:  #b40426;\n",
       "            color:  #f1f1f1;\n",
       "        }    #T_e87cee3e_61d9_11ea_be6b_faffc259b610row6_col7 {\n",
       "            background-color:  #f39577;\n",
       "            color:  #000000;\n",
       "        }    #T_e87cee3e_61d9_11ea_be6b_faffc259b610row6_col8 {\n",
       "            background-color:  #3e51c5;\n",
       "            color:  #f1f1f1;\n",
       "        }    #T_e87cee3e_61d9_11ea_be6b_faffc259b610row7_col0 {\n",
       "            background-color:  #f7ad90;\n",
       "            color:  #000000;\n",
       "        }    #T_e87cee3e_61d9_11ea_be6b_faffc259b610row7_col1 {\n",
       "            background-color:  #f08a6c;\n",
       "            color:  #000000;\n",
       "        }    #T_e87cee3e_61d9_11ea_be6b_faffc259b610row7_col2 {\n",
       "            background-color:  #92b4fe;\n",
       "            color:  #000000;\n",
       "        }    #T_e87cee3e_61d9_11ea_be6b_faffc259b610row7_col3 {\n",
       "            background-color:  #f1cdba;\n",
       "            color:  #000000;\n",
       "        }    #T_e87cee3e_61d9_11ea_be6b_faffc259b610row7_col4 {\n",
       "            background-color:  #4b64d5;\n",
       "            color:  #f1f1f1;\n",
       "        }    #T_e87cee3e_61d9_11ea_be6b_faffc259b610row7_col5 {\n",
       "            background-color:  #4c66d6;\n",
       "            color:  #000000;\n",
       "        }    #T_e87cee3e_61d9_11ea_be6b_faffc259b610row7_col6 {\n",
       "            background-color:  #f29274;\n",
       "            color:  #000000;\n",
       "        }    #T_e87cee3e_61d9_11ea_be6b_faffc259b610row7_col7 {\n",
       "            background-color:  #b40426;\n",
       "            color:  #f1f1f1;\n",
       "        }    #T_e87cee3e_61d9_11ea_be6b_faffc259b610row7_col8 {\n",
       "            background-color:  #5470de;\n",
       "            color:  #000000;\n",
       "        }    #T_e87cee3e_61d9_11ea_be6b_faffc259b610row8_col0 {\n",
       "            background-color:  #a5c3fe;\n",
       "            color:  #000000;\n",
       "        }    #T_e87cee3e_61d9_11ea_be6b_faffc259b610row8_col1 {\n",
       "            background-color:  #a9c6fd;\n",
       "            color:  #000000;\n",
       "        }    #T_e87cee3e_61d9_11ea_be6b_faffc259b610row8_col2 {\n",
       "            background-color:  #b2ccfb;\n",
       "            color:  #000000;\n",
       "        }    #T_e87cee3e_61d9_11ea_be6b_faffc259b610row8_col3 {\n",
       "            background-color:  #93b5fe;\n",
       "            color:  #000000;\n",
       "        }    #T_e87cee3e_61d9_11ea_be6b_faffc259b610row8_col4 {\n",
       "            background-color:  #c3d5f4;\n",
       "            color:  #000000;\n",
       "        }    #T_e87cee3e_61d9_11ea_be6b_faffc259b610row8_col5 {\n",
       "            background-color:  #a5c3fe;\n",
       "            color:  #000000;\n",
       "        }    #T_e87cee3e_61d9_11ea_be6b_faffc259b610row8_col6 {\n",
       "            background-color:  #9fbfff;\n",
       "            color:  #000000;\n",
       "        }    #T_e87cee3e_61d9_11ea_be6b_faffc259b610row8_col7 {\n",
       "            background-color:  #aac7fd;\n",
       "            color:  #000000;\n",
       "        }    #T_e87cee3e_61d9_11ea_be6b_faffc259b610row8_col8 {\n",
       "            background-color:  #b40426;\n",
       "            color:  #f1f1f1;\n",
       "        }</style><table id=\"T_e87cee3e_61d9_11ea_be6b_faffc259b610\" ><thead>    <tr>        <th class=\"blank level0\" ></th>        <th class=\"col_heading level0 col0\" >life_expectancy</th>        <th class=\"col_heading level0 col1\" >bmi</th>        <th class=\"col_heading level0 col2\" >hiv</th>        <th class=\"col_heading level0 col3\" >gdp</th>        <th class=\"col_heading level0 col4\" >thinness_till19</th>        <th class=\"col_heading level0 col5\" >inf_death</th>        <th class=\"col_heading level0 col6\" >school</th>        <th class=\"col_heading level0 col7\" >lifestyle</th>        <th class=\"col_heading level0 col8\" >pop_size</th>    </tr></thead><tbody>\n",
       "                <tr>\n",
       "                        <th id=\"T_e87cee3e_61d9_11ea_be6b_faffc259b610level0_row0\" class=\"row_heading level0 row0\" >life_expectancy</th>\n",
       "                        <td id=\"T_e87cee3e_61d9_11ea_be6b_faffc259b610row0_col0\" class=\"data row0 col0\" >1.00</td>\n",
       "                        <td id=\"T_e87cee3e_61d9_11ea_be6b_faffc259b610row0_col1\" class=\"data row0 col1\" >0.59</td>\n",
       "                        <td id=\"T_e87cee3e_61d9_11ea_be6b_faffc259b610row0_col2\" class=\"data row0 col2\" >-0.57</td>\n",
       "                        <td id=\"T_e87cee3e_61d9_11ea_be6b_faffc259b610row0_col3\" class=\"data row0 col3\" >0.46</td>\n",
       "                        <td id=\"T_e87cee3e_61d9_11ea_be6b_faffc259b610row0_col4\" class=\"data row0 col4\" >-0.49</td>\n",
       "                        <td id=\"T_e87cee3e_61d9_11ea_be6b_faffc259b610row0_col5\" class=\"data row0 col5\" >-0.19</td>\n",
       "                        <td id=\"T_e87cee3e_61d9_11ea_be6b_faffc259b610row0_col6\" class=\"data row0 col6\" >0.79</td>\n",
       "                        <td id=\"T_e87cee3e_61d9_11ea_be6b_faffc259b610row0_col7\" class=\"data row0 col7\" >0.52</td>\n",
       "                        <td id=\"T_e87cee3e_61d9_11ea_be6b_faffc259b610row0_col8\" class=\"data row0 col8\" >-0.07</td>\n",
       "            </tr>\n",
       "            <tr>\n",
       "                        <th id=\"T_e87cee3e_61d9_11ea_be6b_faffc259b610level0_row1\" class=\"row_heading level0 row1\" >bmi</th>\n",
       "                        <td id=\"T_e87cee3e_61d9_11ea_be6b_faffc259b610row1_col0\" class=\"data row1 col0\" >0.59</td>\n",
       "                        <td id=\"T_e87cee3e_61d9_11ea_be6b_faffc259b610row1_col1\" class=\"data row1 col1\" >1.00</td>\n",
       "                        <td id=\"T_e87cee3e_61d9_11ea_be6b_faffc259b610row1_col2\" class=\"data row1 col2\" >-0.24</td>\n",
       "                        <td id=\"T_e87cee3e_61d9_11ea_be6b_faffc259b610row1_col3\" class=\"data row1 col3\" >0.31</td>\n",
       "                        <td id=\"T_e87cee3e_61d9_11ea_be6b_faffc259b610row1_col4\" class=\"data row1 col4\" >-0.56</td>\n",
       "                        <td id=\"T_e87cee3e_61d9_11ea_be6b_faffc259b610row1_col5\" class=\"data row1 col5\" >-0.23</td>\n",
       "                        <td id=\"T_e87cee3e_61d9_11ea_be6b_faffc259b610row1_col6\" class=\"data row1 col6\" >0.60</td>\n",
       "                        <td id=\"T_e87cee3e_61d9_11ea_be6b_faffc259b610row1_col7\" class=\"data row1 col7\" >0.67</td>\n",
       "                        <td id=\"T_e87cee3e_61d9_11ea_be6b_faffc259b610row1_col8\" class=\"data row1 col8\" >-0.05</td>\n",
       "            </tr>\n",
       "            <tr>\n",
       "                        <th id=\"T_e87cee3e_61d9_11ea_be6b_faffc259b610level0_row2\" class=\"row_heading level0 row2\" >hiv</th>\n",
       "                        <td id=\"T_e87cee3e_61d9_11ea_be6b_faffc259b610row2_col0\" class=\"data row2 col0\" >-0.57</td>\n",
       "                        <td id=\"T_e87cee3e_61d9_11ea_be6b_faffc259b610row2_col1\" class=\"data row2 col1\" >-0.24</td>\n",
       "                        <td id=\"T_e87cee3e_61d9_11ea_be6b_faffc259b610row2_col2\" class=\"data row2 col2\" >1.00</td>\n",
       "                        <td id=\"T_e87cee3e_61d9_11ea_be6b_faffc259b610row2_col3\" class=\"data row2 col3\" >-0.13</td>\n",
       "                        <td id=\"T_e87cee3e_61d9_11ea_be6b_faffc259b610row2_col4\" class=\"data row2 col4\" >0.21</td>\n",
       "                        <td id=\"T_e87cee3e_61d9_11ea_be6b_faffc259b610row2_col5\" class=\"data row2 col5\" >0.02</td>\n",
       "                        <td id=\"T_e87cee3e_61d9_11ea_be6b_faffc259b610row2_col6\" class=\"data row2 col6\" >-0.24</td>\n",
       "                        <td id=\"T_e87cee3e_61d9_11ea_be6b_faffc259b610row2_col7\" class=\"data row2 col7\" >-0.16</td>\n",
       "                        <td id=\"T_e87cee3e_61d9_11ea_be6b_faffc259b610row2_col8\" class=\"data row2 col8\" >-0.01</td>\n",
       "            </tr>\n",
       "            <tr>\n",
       "                        <th id=\"T_e87cee3e_61d9_11ea_be6b_faffc259b610level0_row3\" class=\"row_heading level0 row3\" >gdp</th>\n",
       "                        <td id=\"T_e87cee3e_61d9_11ea_be6b_faffc259b610row3_col0\" class=\"data row3 col0\" >0.46</td>\n",
       "                        <td id=\"T_e87cee3e_61d9_11ea_be6b_faffc259b610row3_col1\" class=\"data row3 col1\" >0.31</td>\n",
       "                        <td id=\"T_e87cee3e_61d9_11ea_be6b_faffc259b610row3_col2\" class=\"data row3 col2\" >-0.13</td>\n",
       "                        <td id=\"T_e87cee3e_61d9_11ea_be6b_faffc259b610row3_col3\" class=\"data row3 col3\" >1.00</td>\n",
       "                        <td id=\"T_e87cee3e_61d9_11ea_be6b_faffc259b610row3_col4\" class=\"data row3 col4\" >-0.31</td>\n",
       "                        <td id=\"T_e87cee3e_61d9_11ea_be6b_faffc259b610row3_col5\" class=\"data row3 col5\" >-0.11</td>\n",
       "                        <td id=\"T_e87cee3e_61d9_11ea_be6b_faffc259b610row3_col6\" class=\"data row3 col6\" >0.49</td>\n",
       "                        <td id=\"T_e87cee3e_61d9_11ea_be6b_faffc259b610row3_col7\" class=\"data row3 col7\" >0.47</td>\n",
       "                        <td id=\"T_e87cee3e_61d9_11ea_be6b_faffc259b610row3_col8\" class=\"data row3 col8\" >0.04</td>\n",
       "            </tr>\n",
       "            <tr>\n",
       "                        <th id=\"T_e87cee3e_61d9_11ea_be6b_faffc259b610level0_row4\" class=\"row_heading level0 row4\" >thinness_till19</th>\n",
       "                        <td id=\"T_e87cee3e_61d9_11ea_be6b_faffc259b610row4_col0\" class=\"data row4 col0\" >-0.49</td>\n",
       "                        <td id=\"T_e87cee3e_61d9_11ea_be6b_faffc259b610row4_col1\" class=\"data row4 col1\" >-0.56</td>\n",
       "                        <td id=\"T_e87cee3e_61d9_11ea_be6b_faffc259b610row4_col2\" class=\"data row4 col2\" >0.21</td>\n",
       "                        <td id=\"T_e87cee3e_61d9_11ea_be6b_faffc259b610row4_col3\" class=\"data row4 col3\" >-0.31</td>\n",
       "                        <td id=\"T_e87cee3e_61d9_11ea_be6b_faffc259b610row4_col4\" class=\"data row4 col4\" >1.00</td>\n",
       "                        <td id=\"T_e87cee3e_61d9_11ea_be6b_faffc259b610row4_col5\" class=\"data row4 col5\" >0.45</td>\n",
       "                        <td id=\"T_e87cee3e_61d9_11ea_be6b_faffc259b610row4_col6\" class=\"data row4 col6\" >-0.52</td>\n",
       "                        <td id=\"T_e87cee3e_61d9_11ea_be6b_faffc259b610row4_col7\" class=\"data row4 col7\" >-0.47</td>\n",
       "                        <td id=\"T_e87cee3e_61d9_11ea_be6b_faffc259b610row4_col8\" class=\"data row4 col8\" >0.07</td>\n",
       "            </tr>\n",
       "            <tr>\n",
       "                        <th id=\"T_e87cee3e_61d9_11ea_be6b_faffc259b610level0_row5\" class=\"row_heading level0 row5\" >inf_death</th>\n",
       "                        <td id=\"T_e87cee3e_61d9_11ea_be6b_faffc259b610row5_col0\" class=\"data row5 col0\" >-0.19</td>\n",
       "                        <td id=\"T_e87cee3e_61d9_11ea_be6b_faffc259b610row5_col1\" class=\"data row5 col1\" >-0.23</td>\n",
       "                        <td id=\"T_e87cee3e_61d9_11ea_be6b_faffc259b610row5_col2\" class=\"data row5 col2\" >0.02</td>\n",
       "                        <td id=\"T_e87cee3e_61d9_11ea_be6b_faffc259b610row5_col3\" class=\"data row5 col3\" >-0.11</td>\n",
       "                        <td id=\"T_e87cee3e_61d9_11ea_be6b_faffc259b610row5_col4\" class=\"data row5 col4\" >0.45</td>\n",
       "                        <td id=\"T_e87cee3e_61d9_11ea_be6b_faffc259b610row5_col5\" class=\"data row5 col5\" >1.00</td>\n",
       "                        <td id=\"T_e87cee3e_61d9_11ea_be6b_faffc259b610row5_col6\" class=\"data row5 col6\" >-0.23</td>\n",
       "                        <td id=\"T_e87cee3e_61d9_11ea_be6b_faffc259b610row5_col7\" class=\"data row5 col7\" >-0.16</td>\n",
       "                        <td id=\"T_e87cee3e_61d9_11ea_be6b_faffc259b610row5_col8\" class=\"data row5 col8\" >0.16</td>\n",
       "            </tr>\n",
       "            <tr>\n",
       "                        <th id=\"T_e87cee3e_61d9_11ea_be6b_faffc259b610level0_row6\" class=\"row_heading level0 row6\" >school</th>\n",
       "                        <td id=\"T_e87cee3e_61d9_11ea_be6b_faffc259b610row6_col0\" class=\"data row6 col0\" >0.79</td>\n",
       "                        <td id=\"T_e87cee3e_61d9_11ea_be6b_faffc259b610row6_col1\" class=\"data row6 col1\" >0.60</td>\n",
       "                        <td id=\"T_e87cee3e_61d9_11ea_be6b_faffc259b610row6_col2\" class=\"data row6 col2\" >-0.24</td>\n",
       "                        <td id=\"T_e87cee3e_61d9_11ea_be6b_faffc259b610row6_col3\" class=\"data row6 col3\" >0.49</td>\n",
       "                        <td id=\"T_e87cee3e_61d9_11ea_be6b_faffc259b610row6_col4\" class=\"data row6 col4\" >-0.52</td>\n",
       "                        <td id=\"T_e87cee3e_61d9_11ea_be6b_faffc259b610row6_col5\" class=\"data row6 col5\" >-0.23</td>\n",
       "                        <td id=\"T_e87cee3e_61d9_11ea_be6b_faffc259b610row6_col6\" class=\"data row6 col6\" >1.00</td>\n",
       "                        <td id=\"T_e87cee3e_61d9_11ea_be6b_faffc259b610row6_col7\" class=\"data row6 col7\" >0.65</td>\n",
       "                        <td id=\"T_e87cee3e_61d9_11ea_be6b_faffc259b610row6_col8\" class=\"data row6 col8\" >-0.06</td>\n",
       "            </tr>\n",
       "            <tr>\n",
       "                        <th id=\"T_e87cee3e_61d9_11ea_be6b_faffc259b610level0_row7\" class=\"row_heading level0 row7\" >lifestyle</th>\n",
       "                        <td id=\"T_e87cee3e_61d9_11ea_be6b_faffc259b610row7_col0\" class=\"data row7 col0\" >0.52</td>\n",
       "                        <td id=\"T_e87cee3e_61d9_11ea_be6b_faffc259b610row7_col1\" class=\"data row7 col1\" >0.67</td>\n",
       "                        <td id=\"T_e87cee3e_61d9_11ea_be6b_faffc259b610row7_col2\" class=\"data row7 col2\" >-0.16</td>\n",
       "                        <td id=\"T_e87cee3e_61d9_11ea_be6b_faffc259b610row7_col3\" class=\"data row7 col3\" >0.47</td>\n",
       "                        <td id=\"T_e87cee3e_61d9_11ea_be6b_faffc259b610row7_col4\" class=\"data row7 col4\" >-0.47</td>\n",
       "                        <td id=\"T_e87cee3e_61d9_11ea_be6b_faffc259b610row7_col5\" class=\"data row7 col5\" >-0.16</td>\n",
       "                        <td id=\"T_e87cee3e_61d9_11ea_be6b_faffc259b610row7_col6\" class=\"data row7 col6\" >0.65</td>\n",
       "                        <td id=\"T_e87cee3e_61d9_11ea_be6b_faffc259b610row7_col7\" class=\"data row7 col7\" >1.00</td>\n",
       "                        <td id=\"T_e87cee3e_61d9_11ea_be6b_faffc259b610row7_col8\" class=\"data row7 col8\" >0.02</td>\n",
       "            </tr>\n",
       "            <tr>\n",
       "                        <th id=\"T_e87cee3e_61d9_11ea_be6b_faffc259b610level0_row8\" class=\"row_heading level0 row8\" >pop_size</th>\n",
       "                        <td id=\"T_e87cee3e_61d9_11ea_be6b_faffc259b610row8_col0\" class=\"data row8 col0\" >-0.07</td>\n",
       "                        <td id=\"T_e87cee3e_61d9_11ea_be6b_faffc259b610row8_col1\" class=\"data row8 col1\" >-0.05</td>\n",
       "                        <td id=\"T_e87cee3e_61d9_11ea_be6b_faffc259b610row8_col2\" class=\"data row8 col2\" >-0.01</td>\n",
       "                        <td id=\"T_e87cee3e_61d9_11ea_be6b_faffc259b610row8_col3\" class=\"data row8 col3\" >0.04</td>\n",
       "                        <td id=\"T_e87cee3e_61d9_11ea_be6b_faffc259b610row8_col4\" class=\"data row8 col4\" >0.07</td>\n",
       "                        <td id=\"T_e87cee3e_61d9_11ea_be6b_faffc259b610row8_col5\" class=\"data row8 col5\" >0.16</td>\n",
       "                        <td id=\"T_e87cee3e_61d9_11ea_be6b_faffc259b610row8_col6\" class=\"data row8 col6\" >-0.06</td>\n",
       "                        <td id=\"T_e87cee3e_61d9_11ea_be6b_faffc259b610row8_col7\" class=\"data row8 col7\" >0.02</td>\n",
       "                        <td id=\"T_e87cee3e_61d9_11ea_be6b_faffc259b610row8_col8\" class=\"data row8 col8\" >1.00</td>\n",
       "            </tr>\n",
       "    </tbody></table>"
      ],
      "text/plain": [
       "<pandas.io.formats.style.Styler at 0x7f7ff8515550>"
      ]
     },
     "execution_count": 36,
     "metadata": {},
     "output_type": "execute_result"
    }
   ],
   "source": [
    "cc.style.background_gradient(cmap = 'coolwarm').set_precision(2)"
   ]
  },
  {
   "cell_type": "code",
   "execution_count": 37,
   "metadata": {},
   "outputs": [
    {
     "data": {
      "text/html": [
       "<table class=\"simpletable\">\n",
       "<caption>OLS Regression Results</caption>\n",
       "<tr>\n",
       "  <th>Dep. Variable:</th>     <td>life_expectancy</td> <th>  R-squared:         </th> <td>   0.793</td> \n",
       "</tr>\n",
       "<tr>\n",
       "  <th>Model:</th>                   <td>OLS</td>       <th>  Adj. R-squared:    </th> <td>   0.793</td> \n",
       "</tr>\n",
       "<tr>\n",
       "  <th>Method:</th>             <td>Least Squares</td>  <th>  F-statistic:       </th> <td>   1418.</td> \n",
       "</tr>\n",
       "<tr>\n",
       "  <th>Date:</th>             <td>Mon, 09 Mar 2020</td> <th>  Prob (F-statistic):</th>  <td>  0.00</td>  \n",
       "</tr>\n",
       "<tr>\n",
       "  <th>Time:</th>                 <td>00:45:12</td>     <th>  Log-Likelihood:    </th> <td> -6480.5</td> \n",
       "</tr>\n",
       "<tr>\n",
       "  <th>No. Observations:</th>      <td>  2222</td>      <th>  AIC:               </th> <td>1.297e+04</td>\n",
       "</tr>\n",
       "<tr>\n",
       "  <th>Df Residuals:</th>          <td>  2215</td>      <th>  BIC:               </th> <td>1.301e+04</td>\n",
       "</tr>\n",
       "<tr>\n",
       "  <th>Df Model:</th>              <td>     6</td>      <th>                     </th>     <td> </td>    \n",
       "</tr>\n",
       "<tr>\n",
       "  <th>Covariance Type:</th>      <td>nonrobust</td>    <th>                     </th>     <td> </td>    \n",
       "</tr>\n",
       "</table>\n",
       "<table class=\"simpletable\">\n",
       "<tr>\n",
       "         <td></td>            <th>coef</th>     <th>std err</th>      <th>t</th>      <th>P>|t|</th>  <th>[0.025</th>    <th>0.975]</th>  \n",
       "</tr>\n",
       "<tr>\n",
       "  <th>Intercept</th>       <td>   46.5274</td> <td>    0.544</td> <td>   85.581</td> <td> 0.000</td> <td>   45.461</td> <td>   47.593</td>\n",
       "</tr>\n",
       "<tr>\n",
       "  <th>bmi</th>             <td>    0.0698</td> <td>    0.007</td> <td>    9.681</td> <td> 0.000</td> <td>    0.056</td> <td>    0.084</td>\n",
       "</tr>\n",
       "<tr>\n",
       "  <th>hiv</th>             <td>   -0.6632</td> <td>    0.017</td> <td>  -38.246</td> <td> 0.000</td> <td>   -0.697</td> <td>   -0.629</td>\n",
       "</tr>\n",
       "<tr>\n",
       "  <th>gdp</th>             <td> 7.492e-05</td> <td> 8.28e-06</td> <td>    9.049</td> <td> 0.000</td> <td> 5.87e-05</td> <td> 9.12e-05</td>\n",
       "</tr>\n",
       "<tr>\n",
       "  <th>thinness_till19</th> <td>   -0.0668</td> <td>    0.026</td> <td>   -2.543</td> <td> 0.011</td> <td>   -0.118</td> <td>   -0.015</td>\n",
       "</tr>\n",
       "<tr>\n",
       "  <th>school</th>          <td>    1.7929</td> <td>    0.043</td> <td>   41.386</td> <td> 0.000</td> <td>    1.708</td> <td>    1.878</td>\n",
       "</tr>\n",
       "<tr>\n",
       "  <th>lifestyle</th>       <td>   -0.0032</td> <td>    0.001</td> <td>   -5.090</td> <td> 0.000</td> <td>   -0.004</td> <td>   -0.002</td>\n",
       "</tr>\n",
       "</table>\n",
       "<table class=\"simpletable\">\n",
       "<tr>\n",
       "  <th>Omnibus:</th>       <td>90.115</td> <th>  Durbin-Watson:     </th> <td>   0.375</td>\n",
       "</tr>\n",
       "<tr>\n",
       "  <th>Prob(Omnibus):</th> <td> 0.000</td> <th>  Jarque-Bera (JB):  </th> <td> 166.232</td>\n",
       "</tr>\n",
       "<tr>\n",
       "  <th>Skew:</th>          <td>-0.307</td> <th>  Prob(JB):          </th> <td>8.00e-37</td>\n",
       "</tr>\n",
       "<tr>\n",
       "  <th>Kurtosis:</th>      <td> 4.191</td> <th>  Cond. No.          </th> <td>8.73e+04</td>\n",
       "</tr>\n",
       "</table><br/><br/>Warnings:<br/>[1] Standard Errors assume that the covariance matrix of the errors is correctly specified.<br/>[2] The condition number is large, 8.73e+04. This might indicate that there are<br/>strong multicollinearity or other numerical problems."
      ],
      "text/plain": [
       "<class 'statsmodels.iolib.summary.Summary'>\n",
       "\"\"\"\n",
       "                            OLS Regression Results                            \n",
       "==============================================================================\n",
       "Dep. Variable:        life_expectancy   R-squared:                       0.793\n",
       "Model:                            OLS   Adj. R-squared:                  0.793\n",
       "Method:                 Least Squares   F-statistic:                     1418.\n",
       "Date:                Mon, 09 Mar 2020   Prob (F-statistic):               0.00\n",
       "Time:                        00:45:12   Log-Likelihood:                -6480.5\n",
       "No. Observations:                2222   AIC:                         1.297e+04\n",
       "Df Residuals:                    2215   BIC:                         1.301e+04\n",
       "Df Model:                           6                                         \n",
       "Covariance Type:            nonrobust                                         \n",
       "===================================================================================\n",
       "                      coef    std err          t      P>|t|      [0.025      0.975]\n",
       "-----------------------------------------------------------------------------------\n",
       "Intercept          46.5274      0.544     85.581      0.000      45.461      47.593\n",
       "bmi                 0.0698      0.007      9.681      0.000       0.056       0.084\n",
       "hiv                -0.6632      0.017    -38.246      0.000      -0.697      -0.629\n",
       "gdp              7.492e-05   8.28e-06      9.049      0.000    5.87e-05    9.12e-05\n",
       "thinness_till19    -0.0668      0.026     -2.543      0.011      -0.118      -0.015\n",
       "school              1.7929      0.043     41.386      0.000       1.708       1.878\n",
       "lifestyle          -0.0032      0.001     -5.090      0.000      -0.004      -0.002\n",
       "==============================================================================\n",
       "Omnibus:                       90.115   Durbin-Watson:                   0.375\n",
       "Prob(Omnibus):                  0.000   Jarque-Bera (JB):              166.232\n",
       "Skew:                          -0.307   Prob(JB):                     8.00e-37\n",
       "Kurtosis:                       4.191   Cond. No.                     8.73e+04\n",
       "==============================================================================\n",
       "\n",
       "Warnings:\n",
       "[1] Standard Errors assume that the covariance matrix of the errors is correctly specified.\n",
       "[2] The condition number is large, 8.73e+04. This might indicate that there are\n",
       "strong multicollinearity or other numerical problems.\n",
       "\"\"\""
      ]
     },
     "execution_count": 37,
     "metadata": {},
     "output_type": "execute_result"
    }
   ],
   "source": [
    "# Terceira versão do modelo de regressão (agora regressão linear múltipla)\n",
    "formula = 'life_expectancy ~ bmi + hiv + gdp + thinness_till19 + school + lifestyle'\n",
    "modelo_v3 = ols(formula, data = dataset).fit()\n",
    "modelo_v3.summary()"
   ]
  },
  {
   "cell_type": "code",
   "execution_count": 38,
   "metadata": {},
   "outputs": [
    {
     "data": {
      "text/html": [
       "<div>\n",
       "<style scoped>\n",
       "    .dataframe tbody tr th:only-of-type {\n",
       "        vertical-align: middle;\n",
       "    }\n",
       "\n",
       "    .dataframe tbody tr th {\n",
       "        vertical-align: top;\n",
       "    }\n",
       "\n",
       "    .dataframe thead th {\n",
       "        text-align: right;\n",
       "    }\n",
       "</style>\n",
       "<table border=\"1\" class=\"dataframe\">\n",
       "  <thead>\n",
       "    <tr style=\"text-align: right;\">\n",
       "      <th></th>\n",
       "      <th>bmi</th>\n",
       "      <th>hiv</th>\n",
       "      <th>gdp</th>\n",
       "      <th>thinness_till19</th>\n",
       "      <th>school</th>\n",
       "      <th>lifestyle</th>\n",
       "    </tr>\n",
       "  </thead>\n",
       "  <tbody>\n",
       "    <tr>\n",
       "      <th>0</th>\n",
       "      <td>-0.925718</td>\n",
       "      <td>-0.346871</td>\n",
       "      <td>-0.450787</td>\n",
       "      <td>2.708739</td>\n",
       "      <td>-0.596552</td>\n",
       "      <td>-0.906158</td>\n",
       "    </tr>\n",
       "    <tr>\n",
       "      <th>1</th>\n",
       "      <td>-0.950903</td>\n",
       "      <td>-0.346871</td>\n",
       "      <td>-0.448702</td>\n",
       "      <td>2.774420</td>\n",
       "      <td>-0.627375</td>\n",
       "      <td>-0.906180</td>\n",
       "    </tr>\n",
       "    <tr>\n",
       "      <th>2</th>\n",
       "      <td>-0.976088</td>\n",
       "      <td>-0.346871</td>\n",
       "      <td>-0.447305</td>\n",
       "      <td>2.818208</td>\n",
       "      <td>-0.658198</td>\n",
       "      <td>-0.906202</td>\n",
       "    </tr>\n",
       "    <tr>\n",
       "      <th>3</th>\n",
       "      <td>-1.001273</td>\n",
       "      <td>-0.346871</td>\n",
       "      <td>-0.444503</td>\n",
       "      <td>2.861995</td>\n",
       "      <td>-0.689021</td>\n",
       "      <td>-0.906224</td>\n",
       "    </tr>\n",
       "    <tr>\n",
       "      <th>4</th>\n",
       "      <td>-1.021421</td>\n",
       "      <td>-0.346871</td>\n",
       "      <td>-0.488966</td>\n",
       "      <td>2.927676</td>\n",
       "      <td>-0.781490</td>\n",
       "      <td>-0.906241</td>\n",
       "    </tr>\n",
       "  </tbody>\n",
       "</table>\n",
       "</div>"
      ],
      "text/plain": [
       "        bmi       hiv       gdp  thinness_till19    school  lifestyle\n",
       "0 -0.925718 -0.346871 -0.450787         2.708739 -0.596552  -0.906158\n",
       "1 -0.950903 -0.346871 -0.448702         2.774420 -0.627375  -0.906180\n",
       "2 -0.976088 -0.346871 -0.447305         2.818208 -0.658198  -0.906202\n",
       "3 -1.001273 -0.346871 -0.444503         2.861995 -0.689021  -0.906224\n",
       "4 -1.021421 -0.346871 -0.488966         2.927676 -0.781490  -0.906241"
      ]
     },
     "execution_count": 38,
     "metadata": {},
     "output_type": "execute_result"
    }
   ],
   "source": [
    "# Padronizando os dados\n",
    "\n",
    "from sklearn.preprocessing import StandardScaler\n",
    "\n",
    "atributos = ['bmi', 'hiv', 'gdp', 'thinness_till19', 'school', 'lifestyle'] \n",
    "\n",
    "# Escala\n",
    "scaler = StandardScaler()\n",
    "scaler.fit(dataset[atributos])\n",
    "scaled_features = scaler.transform(dataset[atributos])\n",
    "\n",
    "# Criando um dataframe com dados em escala\n",
    "scaled_features_df = pd.DataFrame(scaled_features, columns = atributos, index = dataset.index)\n",
    "scaled_features_df.head()"
   ]
  },
  {
   "cell_type": "code",
   "execution_count": 39,
   "metadata": {},
   "outputs": [
    {
     "data": {
      "text/html": [
       "<table class=\"simpletable\">\n",
       "<caption>OLS Regression Results</caption>\n",
       "<tr>\n",
       "  <th>Dep. Variable:</th>     <td>life_expectancy</td> <th>  R-squared:         </th> <td>   0.793</td> \n",
       "</tr>\n",
       "<tr>\n",
       "  <th>Model:</th>                   <td>OLS</td>       <th>  Adj. R-squared:    </th> <td>   0.793</td> \n",
       "</tr>\n",
       "<tr>\n",
       "  <th>Method:</th>             <td>Least Squares</td>  <th>  F-statistic:       </th> <td>   1418.</td> \n",
       "</tr>\n",
       "<tr>\n",
       "  <th>Date:</th>             <td>Mon, 09 Mar 2020</td> <th>  Prob (F-statistic):</th>  <td>  0.00</td>  \n",
       "</tr>\n",
       "<tr>\n",
       "  <th>Time:</th>                 <td>00:45:12</td>     <th>  Log-Likelihood:    </th> <td> -6480.5</td> \n",
       "</tr>\n",
       "<tr>\n",
       "  <th>No. Observations:</th>      <td>  2222</td>      <th>  AIC:               </th> <td>1.297e+04</td>\n",
       "</tr>\n",
       "<tr>\n",
       "  <th>Df Residuals:</th>          <td>  2215</td>      <th>  BIC:               </th> <td>1.301e+04</td>\n",
       "</tr>\n",
       "<tr>\n",
       "  <th>Df Model:</th>              <td>     6</td>      <th>                     </th>     <td> </td>    \n",
       "</tr>\n",
       "<tr>\n",
       "  <th>Covariance Type:</th>      <td>nonrobust</td>    <th>                     </th>     <td> </td>    \n",
       "</tr>\n",
       "</table>\n",
       "<table class=\"simpletable\">\n",
       "<tr>\n",
       "    <td></td>       <th>coef</th>     <th>std err</th>      <th>t</th>      <th>P>|t|</th>  <th>[0.025</th>    <th>0.975]</th>  \n",
       "</tr>\n",
       "<tr>\n",
       "  <th>const</th> <td>   68.8544</td> <td>    0.095</td> <td>  724.822</td> <td> 0.000</td> <td>   68.668</td> <td>   69.041</td>\n",
       "</tr>\n",
       "<tr>\n",
       "  <th>x1</th>    <td>    1.3864</td> <td>    0.143</td> <td>    9.681</td> <td> 0.000</td> <td>    1.106</td> <td>    1.667</td>\n",
       "</tr>\n",
       "<tr>\n",
       "  <th>x2</th>    <td>   -3.7919</td> <td>    0.099</td> <td>  -38.246</td> <td> 0.000</td> <td>   -3.986</td> <td>   -3.598</td>\n",
       "</tr>\n",
       "<tr>\n",
       "  <th>x3</th>    <td>    1.0219</td> <td>    0.113</td> <td>    9.049</td> <td> 0.000</td> <td>    0.800</td> <td>    1.243</td>\n",
       "</tr>\n",
       "<tr>\n",
       "  <th>x4</th>    <td>   -0.3049</td> <td>    0.120</td> <td>   -2.543</td> <td> 0.011</td> <td>   -0.540</td> <td>   -0.070</td>\n",
       "</tr>\n",
       "<tr>\n",
       "  <th>x5</th>    <td>    5.8169</td> <td>    0.141</td> <td>   41.386</td> <td> 0.000</td> <td>    5.541</td> <td>    6.093</td>\n",
       "</tr>\n",
       "<tr>\n",
       "  <th>x6</th>    <td>   -0.7380</td> <td>    0.145</td> <td>   -5.090</td> <td> 0.000</td> <td>   -1.022</td> <td>   -0.454</td>\n",
       "</tr>\n",
       "</table>\n",
       "<table class=\"simpletable\">\n",
       "<tr>\n",
       "  <th>Omnibus:</th>       <td>90.115</td> <th>  Durbin-Watson:     </th> <td>   0.375</td>\n",
       "</tr>\n",
       "<tr>\n",
       "  <th>Prob(Omnibus):</th> <td> 0.000</td> <th>  Jarque-Bera (JB):  </th> <td> 166.232</td>\n",
       "</tr>\n",
       "<tr>\n",
       "  <th>Skew:</th>          <td>-0.307</td> <th>  Prob(JB):          </th> <td>8.00e-37</td>\n",
       "</tr>\n",
       "<tr>\n",
       "  <th>Kurtosis:</th>      <td> 4.191</td> <th>  Cond. No.          </th> <td>    3.32</td>\n",
       "</tr>\n",
       "</table><br/><br/>Warnings:<br/>[1] Standard Errors assume that the covariance matrix of the errors is correctly specified."
      ],
      "text/plain": [
       "<class 'statsmodels.iolib.summary.Summary'>\n",
       "\"\"\"\n",
       "                            OLS Regression Results                            \n",
       "==============================================================================\n",
       "Dep. Variable:        life_expectancy   R-squared:                       0.793\n",
       "Model:                            OLS   Adj. R-squared:                  0.793\n",
       "Method:                 Least Squares   F-statistic:                     1418.\n",
       "Date:                Mon, 09 Mar 2020   Prob (F-statistic):               0.00\n",
       "Time:                        00:45:12   Log-Likelihood:                -6480.5\n",
       "No. Observations:                2222   AIC:                         1.297e+04\n",
       "Df Residuals:                    2215   BIC:                         1.301e+04\n",
       "Df Model:                           6                                         \n",
       "Covariance Type:            nonrobust                                         \n",
       "==============================================================================\n",
       "                 coef    std err          t      P>|t|      [0.025      0.975]\n",
       "------------------------------------------------------------------------------\n",
       "const         68.8544      0.095    724.822      0.000      68.668      69.041\n",
       "x1             1.3864      0.143      9.681      0.000       1.106       1.667\n",
       "x2            -3.7919      0.099    -38.246      0.000      -3.986      -3.598\n",
       "x3             1.0219      0.113      9.049      0.000       0.800       1.243\n",
       "x4            -0.3049      0.120     -2.543      0.011      -0.540      -0.070\n",
       "x5             5.8169      0.141     41.386      0.000       5.541       6.093\n",
       "x6            -0.7380      0.145     -5.090      0.000      -1.022      -0.454\n",
       "==============================================================================\n",
       "Omnibus:                       90.115   Durbin-Watson:                   0.375\n",
       "Prob(Omnibus):                  0.000   Jarque-Bera (JB):              166.232\n",
       "Skew:                          -0.307   Prob(JB):                     8.00e-37\n",
       "Kurtosis:                       4.191   Cond. No.                         3.32\n",
       "==============================================================================\n",
       "\n",
       "Warnings:\n",
       "[1] Standard Errors assume that the covariance matrix of the errors is correctly specified.\n",
       "\"\"\""
      ]
     },
     "execution_count": 39,
     "metadata": {},
     "output_type": "execute_result"
    }
   ],
   "source": [
    "# Quarta versão do modelo\n",
    "modelo_v4 = sm.OLS(endog = dataset['life_expectancy'], exog = sm.add_constant(scaled_features_df.values)).fit()\n",
    "modelo_v4.summary()"
   ]
  },
  {
   "cell_type": "markdown",
   "metadata": {},
   "source": [
    "### Variance Inflation Factor - VIF\n",
    "\n",
    "O fator de inflação de variância (Variance Inflation Factor - VIF) é uma medida de colinearidade entre variáveis preditoras em uma regressão múltipla. É calculado considerando a razão da variância de todos os betas de um determinado modelo, dividida pela variância de um único beta, se este fosse adequado.\n",
    "\n",
    "Etapas para implementar o VIF\n",
    "\n",
    "- Execute uma regressão múltipla.\n",
    "- Calcule os fatores VIF.\n",
    "- Inspecione os fatores para cada variável preditora, se o VIF estiver entre 5 e 10, provavelmente haverá multicolinearidade e você deve considerar a possibilidade de descartar a variável."
   ]
  },
  {
   "cell_type": "code",
   "execution_count": 40,
   "metadata": {},
   "outputs": [],
   "source": [
    "from statsmodels.stats.outliers_influence import variance_inflation_factor\n",
    "from patsy import dmatrices"
   ]
  },
  {
   "cell_type": "code",
   "execution_count": 41,
   "metadata": {},
   "outputs": [],
   "source": [
    "# Atributos\n",
    "atrib = ['bmi', 'hiv', 'gdp', 'thinness_till19', 'school', 'lifestyle'] \n",
    "atributos = \"+\".join(atrib)"
   ]
  },
  {
   "cell_type": "code",
   "execution_count": 42,
   "metadata": {},
   "outputs": [
    {
     "data": {
      "text/plain": [
       "'bmi+hiv+gdp+thinness_till19+school+lifestyle'"
      ]
     },
     "execution_count": 42,
     "metadata": {},
     "output_type": "execute_result"
    }
   ],
   "source": [
    "atributos"
   ]
  },
  {
   "cell_type": "code",
   "execution_count": 43,
   "metadata": {},
   "outputs": [],
   "source": [
    "# Obtém X e y no formato de matrizes a partir da regressão\n",
    "y, X = dmatrices('life_expectancy ~' + atributos, dataset, return_type = 'dataframe')"
   ]
  },
  {
   "cell_type": "code",
   "execution_count": 44,
   "metadata": {},
   "outputs": [
    {
     "data": {
      "text/html": [
       "<div>\n",
       "<style scoped>\n",
       "    .dataframe tbody tr th:only-of-type {\n",
       "        vertical-align: middle;\n",
       "    }\n",
       "\n",
       "    .dataframe tbody tr th {\n",
       "        vertical-align: top;\n",
       "    }\n",
       "\n",
       "    .dataframe thead th {\n",
       "        text-align: right;\n",
       "    }\n",
       "</style>\n",
       "<table border=\"1\" class=\"dataframe\">\n",
       "  <thead>\n",
       "    <tr style=\"text-align: right;\">\n",
       "      <th></th>\n",
       "      <th>Intercept</th>\n",
       "      <th>bmi</th>\n",
       "      <th>hiv</th>\n",
       "      <th>gdp</th>\n",
       "      <th>thinness_till19</th>\n",
       "      <th>school</th>\n",
       "      <th>lifestyle</th>\n",
       "    </tr>\n",
       "  </thead>\n",
       "  <tbody>\n",
       "    <tr>\n",
       "      <th>0</th>\n",
       "      <td>1.0</td>\n",
       "      <td>19.1</td>\n",
       "      <td>0.1</td>\n",
       "      <td>584.259210</td>\n",
       "      <td>17.2</td>\n",
       "      <td>10.1</td>\n",
       "      <td>0.191</td>\n",
       "    </tr>\n",
       "    <tr>\n",
       "      <th>1</th>\n",
       "      <td>1.0</td>\n",
       "      <td>18.6</td>\n",
       "      <td>0.1</td>\n",
       "      <td>612.696514</td>\n",
       "      <td>17.5</td>\n",
       "      <td>10.0</td>\n",
       "      <td>0.186</td>\n",
       "    </tr>\n",
       "    <tr>\n",
       "      <th>2</th>\n",
       "      <td>1.0</td>\n",
       "      <td>18.1</td>\n",
       "      <td>0.1</td>\n",
       "      <td>631.744976</td>\n",
       "      <td>17.7</td>\n",
       "      <td>9.9</td>\n",
       "      <td>0.181</td>\n",
       "    </tr>\n",
       "    <tr>\n",
       "      <th>3</th>\n",
       "      <td>1.0</td>\n",
       "      <td>17.6</td>\n",
       "      <td>0.1</td>\n",
       "      <td>669.959000</td>\n",
       "      <td>17.9</td>\n",
       "      <td>9.8</td>\n",
       "      <td>0.176</td>\n",
       "    </tr>\n",
       "    <tr>\n",
       "      <th>4</th>\n",
       "      <td>1.0</td>\n",
       "      <td>17.2</td>\n",
       "      <td>0.1</td>\n",
       "      <td>63.537231</td>\n",
       "      <td>18.2</td>\n",
       "      <td>9.5</td>\n",
       "      <td>0.172</td>\n",
       "    </tr>\n",
       "    <tr>\n",
       "      <th>...</th>\n",
       "      <td>...</td>\n",
       "      <td>...</td>\n",
       "      <td>...</td>\n",
       "      <td>...</td>\n",
       "      <td>...</td>\n",
       "      <td>...</td>\n",
       "      <td>...</td>\n",
       "    </tr>\n",
       "    <tr>\n",
       "      <th>2217</th>\n",
       "      <td>1.0</td>\n",
       "      <td>27.1</td>\n",
       "      <td>33.6</td>\n",
       "      <td>454.366654</td>\n",
       "      <td>9.4</td>\n",
       "      <td>9.2</td>\n",
       "      <td>118.156</td>\n",
       "    </tr>\n",
       "    <tr>\n",
       "      <th>2218</th>\n",
       "      <td>1.0</td>\n",
       "      <td>26.7</td>\n",
       "      <td>36.7</td>\n",
       "      <td>453.351155</td>\n",
       "      <td>9.8</td>\n",
       "      <td>9.5</td>\n",
       "      <td>108.402</td>\n",
       "    </tr>\n",
       "    <tr>\n",
       "      <th>2219</th>\n",
       "      <td>1.0</td>\n",
       "      <td>26.3</td>\n",
       "      <td>39.8</td>\n",
       "      <td>57.348340</td>\n",
       "      <td>1.2</td>\n",
       "      <td>10.0</td>\n",
       "      <td>116.509</td>\n",
       "    </tr>\n",
       "    <tr>\n",
       "      <th>2220</th>\n",
       "      <td>1.0</td>\n",
       "      <td>25.9</td>\n",
       "      <td>42.1</td>\n",
       "      <td>548.587312</td>\n",
       "      <td>1.6</td>\n",
       "      <td>9.8</td>\n",
       "      <td>44.548</td>\n",
       "    </tr>\n",
       "    <tr>\n",
       "      <th>2221</th>\n",
       "      <td>1.0</td>\n",
       "      <td>25.5</td>\n",
       "      <td>43.5</td>\n",
       "      <td>547.358879</td>\n",
       "      <td>11.0</td>\n",
       "      <td>9.8</td>\n",
       "      <td>42.840</td>\n",
       "    </tr>\n",
       "  </tbody>\n",
       "</table>\n",
       "<p>2222 rows × 7 columns</p>\n",
       "</div>"
      ],
      "text/plain": [
       "      Intercept   bmi   hiv         gdp  thinness_till19  school  lifestyle\n",
       "0           1.0  19.1   0.1  584.259210             17.2    10.1      0.191\n",
       "1           1.0  18.6   0.1  612.696514             17.5    10.0      0.186\n",
       "2           1.0  18.1   0.1  631.744976             17.7     9.9      0.181\n",
       "3           1.0  17.6   0.1  669.959000             17.9     9.8      0.176\n",
       "4           1.0  17.2   0.1   63.537231             18.2     9.5      0.172\n",
       "...         ...   ...   ...         ...              ...     ...        ...\n",
       "2217        1.0  27.1  33.6  454.366654              9.4     9.2    118.156\n",
       "2218        1.0  26.7  36.7  453.351155              9.8     9.5    108.402\n",
       "2219        1.0  26.3  39.8   57.348340              1.2    10.0    116.509\n",
       "2220        1.0  25.9  42.1  548.587312              1.6     9.8     44.548\n",
       "2221        1.0  25.5  43.5  547.358879             11.0     9.8     42.840\n",
       "\n",
       "[2222 rows x 7 columns]"
      ]
     },
     "execution_count": 44,
     "metadata": {},
     "output_type": "execute_result"
    }
   ],
   "source": [
    "X"
   ]
  },
  {
   "cell_type": "code",
   "execution_count": 45,
   "metadata": {},
   "outputs": [],
   "source": [
    "# Para cada valor de X calcula o VIF\n",
    "vif = pd.DataFrame()\n",
    "vif[\"VIF Factor\"] = [variance_inflation_factor(X.values, i) for i in range(X.shape[1])]\n",
    "vif[\"Atributos\"] = X.columns"
   ]
  },
  {
   "cell_type": "code",
   "execution_count": 46,
   "metadata": {},
   "outputs": [
    {
     "data": {
      "text/html": [
       "<div>\n",
       "<style scoped>\n",
       "    .dataframe tbody tr th:only-of-type {\n",
       "        vertical-align: middle;\n",
       "    }\n",
       "\n",
       "    .dataframe tbody tr th {\n",
       "        vertical-align: top;\n",
       "    }\n",
       "\n",
       "    .dataframe thead th {\n",
       "        text-align: right;\n",
       "    }\n",
       "</style>\n",
       "<table border=\"1\" class=\"dataframe\">\n",
       "  <thead>\n",
       "    <tr style=\"text-align: right;\">\n",
       "      <th></th>\n",
       "      <th>VIF Factor</th>\n",
       "      <th>Atributos</th>\n",
       "    </tr>\n",
       "  </thead>\n",
       "  <tbody>\n",
       "    <tr>\n",
       "      <th>0</th>\n",
       "      <td>32.753952</td>\n",
       "      <td>Intercept</td>\n",
       "    </tr>\n",
       "    <tr>\n",
       "      <th>1</th>\n",
       "      <td>2.272781</td>\n",
       "      <td>bmi</td>\n",
       "    </tr>\n",
       "    <tr>\n",
       "      <th>2</th>\n",
       "      <td>1.089279</td>\n",
       "      <td>hiv</td>\n",
       "    </tr>\n",
       "    <tr>\n",
       "      <th>3</th>\n",
       "      <td>1.413162</td>\n",
       "      <td>gdp</td>\n",
       "    </tr>\n",
       "    <tr>\n",
       "      <th>4</th>\n",
       "      <td>1.593343</td>\n",
       "      <td>thinness_till19</td>\n",
       "    </tr>\n",
       "    <tr>\n",
       "      <th>5</th>\n",
       "      <td>2.189162</td>\n",
       "      <td>school</td>\n",
       "    </tr>\n",
       "    <tr>\n",
       "      <th>6</th>\n",
       "      <td>2.329312</td>\n",
       "      <td>lifestyle</td>\n",
       "    </tr>\n",
       "  </tbody>\n",
       "</table>\n",
       "</div>"
      ],
      "text/plain": [
       "   VIF Factor        Atributos\n",
       "0   32.753952        Intercept\n",
       "1    2.272781              bmi\n",
       "2    1.089279              hiv\n",
       "3    1.413162              gdp\n",
       "4    1.593343  thinness_till19\n",
       "5    2.189162           school\n",
       "6    2.329312        lifestyle"
      ]
     },
     "execution_count": 46,
     "metadata": {},
     "output_type": "execute_result"
    }
   ],
   "source": [
    "vif"
   ]
  },
  {
   "cell_type": "code",
   "execution_count": 47,
   "metadata": {},
   "outputs": [
    {
     "data": {
      "text/html": [
       "<div>\n",
       "<style scoped>\n",
       "    .dataframe tbody tr th:only-of-type {\n",
       "        vertical-align: middle;\n",
       "    }\n",
       "\n",
       "    .dataframe tbody tr th {\n",
       "        vertical-align: top;\n",
       "    }\n",
       "\n",
       "    .dataframe thead th {\n",
       "        text-align: right;\n",
       "    }\n",
       "</style>\n",
       "<table border=\"1\" class=\"dataframe\">\n",
       "  <thead>\n",
       "    <tr style=\"text-align: right;\">\n",
       "      <th></th>\n",
       "      <th>bmi</th>\n",
       "      <th>hiv</th>\n",
       "      <th>gdp</th>\n",
       "      <th>thinness_till19</th>\n",
       "      <th>school</th>\n",
       "    </tr>\n",
       "  </thead>\n",
       "  <tbody>\n",
       "    <tr>\n",
       "      <th>0</th>\n",
       "      <td>-0.925718</td>\n",
       "      <td>-0.346871</td>\n",
       "      <td>-0.450787</td>\n",
       "      <td>2.708739</td>\n",
       "      <td>-0.596552</td>\n",
       "    </tr>\n",
       "    <tr>\n",
       "      <th>1</th>\n",
       "      <td>-0.950903</td>\n",
       "      <td>-0.346871</td>\n",
       "      <td>-0.448702</td>\n",
       "      <td>2.774420</td>\n",
       "      <td>-0.627375</td>\n",
       "    </tr>\n",
       "    <tr>\n",
       "      <th>2</th>\n",
       "      <td>-0.976088</td>\n",
       "      <td>-0.346871</td>\n",
       "      <td>-0.447305</td>\n",
       "      <td>2.818208</td>\n",
       "      <td>-0.658198</td>\n",
       "    </tr>\n",
       "    <tr>\n",
       "      <th>3</th>\n",
       "      <td>-1.001273</td>\n",
       "      <td>-0.346871</td>\n",
       "      <td>-0.444503</td>\n",
       "      <td>2.861995</td>\n",
       "      <td>-0.689021</td>\n",
       "    </tr>\n",
       "    <tr>\n",
       "      <th>4</th>\n",
       "      <td>-1.021421</td>\n",
       "      <td>-0.346871</td>\n",
       "      <td>-0.488966</td>\n",
       "      <td>2.927676</td>\n",
       "      <td>-0.781490</td>\n",
       "    </tr>\n",
       "  </tbody>\n",
       "</table>\n",
       "</div>"
      ],
      "text/plain": [
       "        bmi       hiv       gdp  thinness_till19    school\n",
       "0 -0.925718 -0.346871 -0.450787         2.708739 -0.596552\n",
       "1 -0.950903 -0.346871 -0.448702         2.774420 -0.627375\n",
       "2 -0.976088 -0.346871 -0.447305         2.818208 -0.658198\n",
       "3 -1.001273 -0.346871 -0.444503         2.861995 -0.689021\n",
       "4 -1.021421 -0.346871 -0.488966         2.927676 -0.781490"
      ]
     },
     "execution_count": 47,
     "metadata": {},
     "output_type": "execute_result"
    }
   ],
   "source": [
    "# Padronizando os dados\n",
    "\n",
    "from sklearn.preprocessing import StandardScaler\n",
    "\n",
    "atributos = ['bmi', 'hiv', 'gdp', 'thinness_till19', 'school'] \n",
    "\n",
    "# Escala\n",
    "scaler = StandardScaler()\n",
    "scaler.fit(dataset[atributos])\n",
    "scaled_features = scaler.transform(dataset[atributos])\n",
    "\n",
    "# Criando um dataframe com dados em escala\n",
    "scaled_features_df = pd.DataFrame(scaled_features, columns = atributos, index = dataset.index)\n",
    "scaled_features_df.head()"
   ]
  },
  {
   "cell_type": "code",
   "execution_count": 48,
   "metadata": {},
   "outputs": [
    {
     "data": {
      "text/html": [
       "<table class=\"simpletable\">\n",
       "<caption>OLS Regression Results</caption>\n",
       "<tr>\n",
       "  <th>Dep. Variable:</th>     <td>life_expectancy</td> <th>  R-squared:         </th> <td>   0.791</td> \n",
       "</tr>\n",
       "<tr>\n",
       "  <th>Model:</th>                   <td>OLS</td>       <th>  Adj. R-squared:    </th> <td>   0.791</td> \n",
       "</tr>\n",
       "<tr>\n",
       "  <th>Method:</th>             <td>Least Squares</td>  <th>  F-statistic:       </th> <td>   1677.</td> \n",
       "</tr>\n",
       "<tr>\n",
       "  <th>Date:</th>             <td>Mon, 09 Mar 2020</td> <th>  Prob (F-statistic):</th>  <td>  0.00</td>  \n",
       "</tr>\n",
       "<tr>\n",
       "  <th>Time:</th>                 <td>00:45:12</td>     <th>  Log-Likelihood:    </th> <td> -6493.4</td> \n",
       "</tr>\n",
       "<tr>\n",
       "  <th>No. Observations:</th>      <td>  2222</td>      <th>  AIC:               </th> <td>1.300e+04</td>\n",
       "</tr>\n",
       "<tr>\n",
       "  <th>Df Residuals:</th>          <td>  2216</td>      <th>  BIC:               </th> <td>1.303e+04</td>\n",
       "</tr>\n",
       "<tr>\n",
       "  <th>Df Model:</th>              <td>     5</td>      <th>                     </th>     <td> </td>    \n",
       "</tr>\n",
       "<tr>\n",
       "  <th>Covariance Type:</th>      <td>nonrobust</td>    <th>                     </th>     <td> </td>    \n",
       "</tr>\n",
       "</table>\n",
       "<table class=\"simpletable\">\n",
       "<tr>\n",
       "    <td></td>       <th>coef</th>     <th>std err</th>      <th>t</th>      <th>P>|t|</th>  <th>[0.025</th>    <th>0.975]</th>  \n",
       "</tr>\n",
       "<tr>\n",
       "  <th>const</th> <td>   68.8544</td> <td>    0.096</td> <td>  720.782</td> <td> 0.000</td> <td>   68.667</td> <td>   69.042</td>\n",
       "</tr>\n",
       "<tr>\n",
       "  <th>x1</th>    <td>    1.0673</td> <td>    0.129</td> <td>    8.242</td> <td> 0.000</td> <td>    0.813</td> <td>    1.321</td>\n",
       "</tr>\n",
       "<tr>\n",
       "  <th>x2</th>    <td>   -3.8291</td> <td>    0.099</td> <td>  -38.510</td> <td> 0.000</td> <td>   -4.024</td> <td>   -3.634</td>\n",
       "</tr>\n",
       "<tr>\n",
       "  <th>x3</th>    <td>    0.8832</td> <td>    0.110</td> <td>    8.014</td> <td> 0.000</td> <td>    0.667</td> <td>    1.099</td>\n",
       "</tr>\n",
       "<tr>\n",
       "  <th>x4</th>    <td>   -0.2788</td> <td>    0.120</td> <td>   -2.314</td> <td> 0.021</td> <td>   -0.515</td> <td>   -0.043</td>\n",
       "</tr>\n",
       "<tr>\n",
       "  <th>x5</th>    <td>    5.6064</td> <td>    0.135</td> <td>   41.503</td> <td> 0.000</td> <td>    5.341</td> <td>    5.871</td>\n",
       "</tr>\n",
       "</table>\n",
       "<table class=\"simpletable\">\n",
       "<tr>\n",
       "  <th>Omnibus:</th>       <td>97.385</td> <th>  Durbin-Watson:     </th> <td>   0.361</td>\n",
       "</tr>\n",
       "<tr>\n",
       "  <th>Prob(Omnibus):</th> <td> 0.000</td> <th>  Jarque-Bera (JB):  </th> <td> 176.575</td>\n",
       "</tr>\n",
       "<tr>\n",
       "  <th>Skew:</th>          <td>-0.336</td> <th>  Prob(JB):          </th> <td>4.54e-39</td>\n",
       "</tr>\n",
       "<tr>\n",
       "  <th>Kurtosis:</th>      <td> 4.206</td> <th>  Cond. No.          </th> <td>    2.69</td>\n",
       "</tr>\n",
       "</table><br/><br/>Warnings:<br/>[1] Standard Errors assume that the covariance matrix of the errors is correctly specified."
      ],
      "text/plain": [
       "<class 'statsmodels.iolib.summary.Summary'>\n",
       "\"\"\"\n",
       "                            OLS Regression Results                            \n",
       "==============================================================================\n",
       "Dep. Variable:        life_expectancy   R-squared:                       0.791\n",
       "Model:                            OLS   Adj. R-squared:                  0.791\n",
       "Method:                 Least Squares   F-statistic:                     1677.\n",
       "Date:                Mon, 09 Mar 2020   Prob (F-statistic):               0.00\n",
       "Time:                        00:45:12   Log-Likelihood:                -6493.4\n",
       "No. Observations:                2222   AIC:                         1.300e+04\n",
       "Df Residuals:                    2216   BIC:                         1.303e+04\n",
       "Df Model:                           5                                         \n",
       "Covariance Type:            nonrobust                                         \n",
       "==============================================================================\n",
       "                 coef    std err          t      P>|t|      [0.025      0.975]\n",
       "------------------------------------------------------------------------------\n",
       "const         68.8544      0.096    720.782      0.000      68.667      69.042\n",
       "x1             1.0673      0.129      8.242      0.000       0.813       1.321\n",
       "x2            -3.8291      0.099    -38.510      0.000      -4.024      -3.634\n",
       "x3             0.8832      0.110      8.014      0.000       0.667       1.099\n",
       "x4            -0.2788      0.120     -2.314      0.021      -0.515      -0.043\n",
       "x5             5.6064      0.135     41.503      0.000       5.341       5.871\n",
       "==============================================================================\n",
       "Omnibus:                       97.385   Durbin-Watson:                   0.361\n",
       "Prob(Omnibus):                  0.000   Jarque-Bera (JB):              176.575\n",
       "Skew:                          -0.336   Prob(JB):                     4.54e-39\n",
       "Kurtosis:                       4.206   Cond. No.                         2.69\n",
       "==============================================================================\n",
       "\n",
       "Warnings:\n",
       "[1] Standard Errors assume that the covariance matrix of the errors is correctly specified.\n",
       "\"\"\""
      ]
     },
     "execution_count": 48,
     "metadata": {},
     "output_type": "execute_result"
    }
   ],
   "source": [
    "# Quinta versão do modelo\n",
    "modelo_v5 = sm.OLS(endog = dataset['life_expectancy'], exog = sm.add_constant(scaled_features_df.values)).fit()\n",
    "modelo_v5.summary()"
   ]
  },
  {
   "cell_type": "code",
   "execution_count": 49,
   "metadata": {},
   "outputs": [
    {
     "data": {
      "text/plain": [
       "(array([  1.,   2.,  10.,  33., 199., 580., 846., 458.,  82.,  11.]),\n",
       " array([-26.75929837, -22.50241158, -18.2455248 , -13.98863801,\n",
       "         -9.73175122,  -5.47486443,  -1.21797764,   3.03890915,\n",
       "          7.29579594,  11.55268272,  15.80956951]),\n",
       " <a list of 10 Patch objects>)"
      ]
     },
     "execution_count": 49,
     "metadata": {},
     "output_type": "execute_result"
    },
    {
     "data": {
      "image/png": "[encoded data removed]",
      "text/plain": [
       "<Figure size 432x288 with 1 Axes>"
      ]
     },
     "metadata": {
      "needs_background": "light"
     },
     "output_type": "display_data"
    }
   ],
   "source": [
    "# Plot dos Resíduos\n",
    "plt.hist(modelo_v5.resid)"
   ]
  },
  {
   "cell_type": "markdown",
   "metadata": {},
   "source": [
    "# Fim"
   ]
  }
 ],
 "metadata": {
  "colab": {
   "collapsed_sections": [],
   "include_colab_link": true,
   "name": "HealthCare.ipynb",
   "provenance": [],
   "version": "0.3.2"
  },
  "kernelspec": {
   "display_name": "Python 3",
   "language": "python",
   "name": "python3"
  },
  "language_info": {
   "codemirror_mode": {
    "name": "ipython",
    "version": 3
   },
   "file_extension": ".py",
   "mimetype": "text/x-python",
   "name": "python",
   "nbconvert_exporter": "python",
   "pygments_lexer": "ipython3",
   "version": "3.8.3"
  }
 },
 "nbformat": 4,
 "nbformat_minor": 1
}
