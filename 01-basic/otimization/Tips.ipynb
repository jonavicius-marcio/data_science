{
 "cells": [
  {
   "cell_type": "code",
   "execution_count": null,
   "id": "34e17edd",
   "metadata": {},
   "outputs": [],
   "source": []
  },
  {
   "cell_type": "code",
   "execution_count": 1,
   "id": "358c7b7f",
   "metadata": {},
   "outputs": [],
   "source": [
    "import pandas as pd\n",
    "import numpy as np"
   ]
  },
  {
   "cell_type": "markdown",
   "id": "6842c2f8",
   "metadata": {},
   "source": [
    "# 1 Memory Otimization"
   ]
  },
  {
   "cell_type": "markdown",
   "id": "1b22d81c",
   "metadata": {},
   "source": [
    "# Reduce Memory Usage"
   ]
  },
  {
   "cell_type": "code",
   "execution_count": 6,
   "id": "a8d78091",
   "metadata": {},
   "outputs": [],
   "source": [
    "df = pd.DataFrame(np.random.randint(1, 100, (10**7, 2)), columns = [\"A\", \"B\"])"
   ]
  },
  {
   "cell_type": "code",
   "execution_count": 7,
   "id": "eed43e26",
   "metadata": {},
   "outputs": [
    {
     "name": "stdout",
     "output_type": "stream",
     "text": [
      "<class 'pandas.core.series.Series'>\n",
      "RangeIndex: 10000000 entries, 0 to 9999999\n",
      "Series name: A\n",
      "Non-Null Count     Dtype\n",
      "--------------     -----\n",
      "10000000 non-null  int32\n",
      "dtypes: int32(1)\n",
      "memory usage: 38.1 MB\n"
     ]
    }
   ],
   "source": [
    "df.A.info()"
   ]
  },
  {
   "cell_type": "code",
   "execution_count": 8,
   "id": "17c92891",
   "metadata": {},
   "outputs": [],
   "source": [
    "df[\"A\"] = df.A.astype(np.int8)"
   ]
  },
  {
   "cell_type": "code",
   "execution_count": 9,
   "id": "2684bba4",
   "metadata": {},
   "outputs": [
    {
     "name": "stdout",
     "output_type": "stream",
     "text": [
      "<class 'pandas.core.series.Series'>\n",
      "RangeIndex: 10000000 entries, 0 to 9999999\n",
      "Series name: A\n",
      "Non-Null Count     Dtype\n",
      "--------------     -----\n",
      "10000000 non-null  int8 \n",
      "dtypes: int8(1)\n",
      "memory usage: 9.5 MB\n"
     ]
    }
   ],
   "source": [
    "df.A.info()"
   ]
  },
  {
   "cell_type": "code",
   "execution_count": 10,
   "id": "64e20067",
   "metadata": {},
   "outputs": [
    {
     "data": {
      "text/plain": [
       "(1, 99)"
      ]
     },
     "execution_count": 10,
     "metadata": {},
     "output_type": "execute_result"
    }
   ],
   "source": [
    "df.A.min(), df.A.max()"
   ]
  },
  {
   "cell_type": "markdown",
   "id": "cec9f608",
   "metadata": {},
   "source": [
    "#  Handling Missing Valued"
   ]
  },
  {
   "cell_type": "code",
   "execution_count": 11,
   "id": "0ada4f89",
   "metadata": {},
   "outputs": [],
   "source": [
    "df = pd.DataFrame(np.random.randint(1, 1000000, size = (10**6, 3)), \n",
    "                  columns = [\"col1\", \"col2\", \"col3\"])\n",
    "\n",
    "df[\"col1\"] = df.col1.astype(np.float64)"
   ]
  },
  {
   "cell_type": "code",
   "execution_count": 12,
   "id": "b2436706",
   "metadata": {},
   "outputs": [],
   "source": [
    "df.loc[::2, \"col1\"] = np.nan\n",
    "df.loc[::3, \"col1\"] = np.nan\n",
    "df.loc[::5, \"col1\"] = np.nan"
   ]
  },
  {
   "cell_type": "code",
   "execution_count": 13,
   "id": "8287ed76",
   "metadata": {},
   "outputs": [
    {
     "name": "stdout",
     "output_type": "stream",
     "text": [
      "<class 'pandas.core.series.Series'>\n",
      "RangeIndex: 1000000 entries, 0 to 999999\n",
      "Series name: col1\n",
      "Non-Null Count   Dtype  \n",
      "--------------   -----  \n",
      "266666 non-null  float64\n",
      "dtypes: float64(1)\n",
      "memory usage: 7.6 MB\n"
     ]
    }
   ],
   "source": [
    "df.col1.info()"
   ]
  },
  {
   "cell_type": "code",
   "execution_count": 14,
   "id": "745a34aa",
   "metadata": {},
   "outputs": [],
   "source": [
    "df[\"col1\"] = df.col1.astype(\"Sparse[float32]\")"
   ]
  },
  {
   "cell_type": "code",
   "execution_count": 15,
   "id": "28688ce2",
   "metadata": {},
   "outputs": [
    {
     "name": "stdout",
     "output_type": "stream",
     "text": [
      "<class 'pandas.core.series.Series'>\n",
      "RangeIndex: 1000000 entries, 0 to 999999\n",
      "Series name: col1\n",
      "Non-Null Count   Dtype               \n",
      "--------------   -----               \n",
      "266666 non-null  Sparse[float32, nan]\n",
      "dtypes: Sparse[float32, nan](1)\n",
      "memory usage: 2.0 MB\n"
     ]
    }
   ],
   "source": [
    "df.col1.info()"
   ]
  },
  {
   "cell_type": "markdown",
   "id": "e786a50a",
   "metadata": {},
   "source": [
    "# Save Memory with Python Generators"
   ]
  },
  {
   "cell_type": "code",
   "execution_count": 16,
   "id": "761e76be",
   "metadata": {},
   "outputs": [],
   "source": [
    "from sys import getsizeof"
   ]
  },
  {
   "cell_type": "code",
   "execution_count": 17,
   "id": "73fbcb10",
   "metadata": {},
   "outputs": [],
   "source": [
    "my_list = [i for i in range(10**7)]"
   ]
  },
  {
   "cell_type": "code",
   "execution_count": 18,
   "id": "9f73f502",
   "metadata": {},
   "outputs": [
    {
     "data": {
      "text/plain": [
       "89095160"
      ]
     },
     "execution_count": 18,
     "metadata": {},
     "output_type": "execute_result"
    }
   ],
   "source": [
    "getsizeof(my_list)"
   ]
  },
  {
   "cell_type": "code",
   "execution_count": 21,
   "id": "2e62e46a",
   "metadata": {},
   "outputs": [
    {
     "data": {
      "text/plain": [
       "49999995000000"
      ]
     },
     "execution_count": 21,
     "metadata": {},
     "output_type": "execute_result"
    }
   ],
   "source": [
    "sum(my_list)"
   ]
  },
  {
   "cell_type": "code",
   "execution_count": 20,
   "id": "2dfbd524",
   "metadata": {},
   "outputs": [
    {
     "data": {
      "text/plain": [
       "112"
      ]
     },
     "execution_count": 20,
     "metadata": {},
     "output_type": "execute_result"
    }
   ],
   "source": [
    "# generator \n",
    "\n",
    "my_gen = (i for i in range(10**7)) ## use () to create a generator\n",
    "getsizeof(my_gen)"
   ]
  },
  {
   "cell_type": "code",
   "execution_count": 22,
   "id": "08119eeb",
   "metadata": {},
   "outputs": [
    {
     "data": {
      "text/plain": [
       "49999995000000"
      ]
     },
     "execution_count": 22,
     "metadata": {},
     "output_type": "execute_result"
    }
   ],
   "source": [
    "sum(my_gen)"
   ]
  },
  {
   "cell_type": "markdown",
   "id": "9d531949",
   "metadata": {},
   "source": [
    "# Define the Correct DataType for Categorical Columns"
   ]
  },
  {
   "cell_type": "code",
   "execution_count": 23,
   "id": "6b01df1c",
   "metadata": {},
   "outputs": [
    {
     "data": {
      "text/html": [
       "<div>\n",
       "<style scoped>\n",
       "    .dataframe tbody tr th:only-of-type {\n",
       "        vertical-align: middle;\n",
       "    }\n",
       "\n",
       "    .dataframe tbody tr th {\n",
       "        vertical-align: top;\n",
       "    }\n",
       "\n",
       "    .dataframe thead th {\n",
       "        text-align: right;\n",
       "    }\n",
       "</style>\n",
       "<table border=\"1\" class=\"dataframe\">\n",
       "  <thead>\n",
       "    <tr style=\"text-align: right;\">\n",
       "      <th></th>\n",
       "      <th>PassengerId</th>\n",
       "      <th>Survived</th>\n",
       "      <th>Pclass</th>\n",
       "      <th>Name</th>\n",
       "      <th>Gender</th>\n",
       "      <th>Age</th>\n",
       "      <th>SibSp</th>\n",
       "      <th>Parch</th>\n",
       "      <th>Ticket</th>\n",
       "      <th>Fare</th>\n",
       "      <th>Cabin</th>\n",
       "      <th>Embarked</th>\n",
       "    </tr>\n",
       "  </thead>\n",
       "  <tbody>\n",
       "    <tr>\n",
       "      <th>0</th>\n",
       "      <td>1</td>\n",
       "      <td>0</td>\n",
       "      <td>3</td>\n",
       "      <td>Braund, Mr. Owen Harris</td>\n",
       "      <td>male</td>\n",
       "      <td>22.0</td>\n",
       "      <td>1</td>\n",
       "      <td>0</td>\n",
       "      <td>A/5 21171</td>\n",
       "      <td>7.2500</td>\n",
       "      <td>NaN</td>\n",
       "      <td>S</td>\n",
       "    </tr>\n",
       "    <tr>\n",
       "      <th>1</th>\n",
       "      <td>2</td>\n",
       "      <td>1</td>\n",
       "      <td>1</td>\n",
       "      <td>Cumings, Mrs. John Bradley (Florence Briggs Th...</td>\n",
       "      <td>female</td>\n",
       "      <td>38.0</td>\n",
       "      <td>1</td>\n",
       "      <td>0</td>\n",
       "      <td>PC 17599</td>\n",
       "      <td>71.2833</td>\n",
       "      <td>C85</td>\n",
       "      <td>C</td>\n",
       "    </tr>\n",
       "    <tr>\n",
       "      <th>2</th>\n",
       "      <td>3</td>\n",
       "      <td>1</td>\n",
       "      <td>3</td>\n",
       "      <td>Heikkinen, Miss. Laina</td>\n",
       "      <td>female</td>\n",
       "      <td>26.0</td>\n",
       "      <td>0</td>\n",
       "      <td>0</td>\n",
       "      <td>STON/O2. 3101282</td>\n",
       "      <td>7.9250</td>\n",
       "      <td>NaN</td>\n",
       "      <td>S</td>\n",
       "    </tr>\n",
       "    <tr>\n",
       "      <th>3</th>\n",
       "      <td>4</td>\n",
       "      <td>1</td>\n",
       "      <td>1</td>\n",
       "      <td>Futrelle, Mrs. Jacques Heath (Lily May Peel)</td>\n",
       "      <td>female</td>\n",
       "      <td>35.0</td>\n",
       "      <td>1</td>\n",
       "      <td>0</td>\n",
       "      <td>113803</td>\n",
       "      <td>53.1000</td>\n",
       "      <td>C123</td>\n",
       "      <td>S</td>\n",
       "    </tr>\n",
       "    <tr>\n",
       "      <th>4</th>\n",
       "      <td>5</td>\n",
       "      <td>0</td>\n",
       "      <td>3</td>\n",
       "      <td>Allen, Mr. William Henry</td>\n",
       "      <td>male</td>\n",
       "      <td>35.0</td>\n",
       "      <td>0</td>\n",
       "      <td>0</td>\n",
       "      <td>373450</td>\n",
       "      <td>8.0500</td>\n",
       "      <td>NaN</td>\n",
       "      <td>S</td>\n",
       "    </tr>\n",
       "  </tbody>\n",
       "</table>\n",
       "</div>"
      ],
      "text/plain": [
       "   PassengerId  Survived  Pclass  \\\n",
       "0            1         0       3   \n",
       "1            2         1       1   \n",
       "2            3         1       3   \n",
       "3            4         1       1   \n",
       "4            5         0       3   \n",
       "\n",
       "                                                Name  Gender   Age  SibSp  \\\n",
       "0                            Braund, Mr. Owen Harris    male  22.0      1   \n",
       "1  Cumings, Mrs. John Bradley (Florence Briggs Th...  female  38.0      1   \n",
       "2                             Heikkinen, Miss. Laina  female  26.0      0   \n",
       "3       Futrelle, Mrs. Jacques Heath (Lily May Peel)  female  35.0      1   \n",
       "4                           Allen, Mr. William Henry    male  35.0      0   \n",
       "\n",
       "   Parch            Ticket     Fare Cabin Embarked  \n",
       "0      0         A/5 21171   7.2500   NaN        S  \n",
       "1      0          PC 17599  71.2833   C85        C  \n",
       "2      0  STON/O2. 3101282   7.9250   NaN        S  \n",
       "3      0            113803  53.1000  C123        S  \n",
       "4      0            373450   8.0500   NaN        S  "
      ]
     },
     "execution_count": 23,
     "metadata": {},
     "output_type": "execute_result"
    }
   ],
   "source": [
    "df = pd.read_csv(\"titanic_train.csv\")\n",
    "df.head()"
   ]
  },
  {
   "cell_type": "code",
   "execution_count": 24,
   "id": "9cc2b1d7",
   "metadata": {},
   "outputs": [
    {
     "data": {
      "text/plain": [
       "dtype('O')"
      ]
     },
     "execution_count": 24,
     "metadata": {},
     "output_type": "execute_result"
    }
   ],
   "source": [
    "df.Gender.dtype"
   ]
  },
  {
   "cell_type": "code",
   "execution_count": 25,
   "id": "5d8f0825",
   "metadata": {},
   "outputs": [
    {
     "name": "stdout",
     "output_type": "stream",
     "text": [
      "<class 'pandas.core.series.Series'>\n",
      "RangeIndex: 1500 entries, 0 to 1499\n",
      "Series name: Gender\n",
      "Non-Null Count  Dtype \n",
      "--------------  ----- \n",
      "1500 non-null   object\n",
      "dtypes: object(1)\n",
      "memory usage: 90.5 KB\n"
     ]
    }
   ],
   "source": [
    "df.Gender.info(memory_usage=\"deep\")"
   ]
  },
  {
   "cell_type": "code",
   "execution_count": 26,
   "id": "4a8395cd",
   "metadata": {},
   "outputs": [],
   "source": [
    "df[\"Gender\"] = df.Gender.astype(\"category\")"
   ]
  },
  {
   "cell_type": "code",
   "execution_count": 27,
   "id": "da950cb9",
   "metadata": {},
   "outputs": [
    {
     "name": "stdout",
     "output_type": "stream",
     "text": [
      "<class 'pandas.core.series.Series'>\n",
      "RangeIndex: 1500 entries, 0 to 1499\n",
      "Series name: Gender\n",
      "Non-Null Count  Dtype   \n",
      "--------------  -----   \n",
      "1500 non-null   category\n",
      "dtypes: category(1)\n",
      "memory usage: 1.8 KB\n"
     ]
    }
   ],
   "source": [
    "df.Gender.info(memory_usage=\"deep\")"
   ]
  },
  {
   "cell_type": "markdown",
   "id": "699783b8",
   "metadata": {},
   "source": [
    "# Read only required columns from a CSV"
   ]
  },
  {
   "cell_type": "code",
   "execution_count": 29,
   "id": "8ce21e18",
   "metadata": {},
   "outputs": [
    {
     "name": "stdout",
     "output_type": "stream",
     "text": [
      "5.98 ms ± 881 µs per loop (mean ± std. dev. of 7 runs, 100 loops each)\n"
     ]
    }
   ],
   "source": [
    "%timeit data = pd.read_csv(\"titanic_train.csv\")"
   ]
  },
  {
   "cell_type": "code",
   "execution_count": 30,
   "id": "11262c19",
   "metadata": {},
   "outputs": [
    {
     "name": "stdout",
     "output_type": "stream",
     "text": [
      "<class 'pandas.core.frame.DataFrame'>\n",
      "RangeIndex: 1500 entries, 0 to 1499\n",
      "Data columns (total 12 columns):\n",
      " #   Column       Non-Null Count  Dtype  \n",
      "---  ------       --------------  -----  \n",
      " 0   PassengerId  1500 non-null   int64  \n",
      " 1   Survived     1500 non-null   int64  \n",
      " 2   Pclass       1500 non-null   int64  \n",
      " 3   Name         1500 non-null   object \n",
      " 4   Gender       1500 non-null   object \n",
      " 5   Age          1195 non-null   float64\n",
      " 6   SibSp        1500 non-null   int64  \n",
      " 7   Parch        1500 non-null   int64  \n",
      " 8   Ticket       1500 non-null   object \n",
      " 9   Fare         1500 non-null   float64\n",
      " 10  Cabin        341 non-null    object \n",
      " 11  Embarked     1497 non-null   object \n",
      "dtypes: float64(2), int64(5), object(5)\n",
      "memory usage: 530.3 KB\n"
     ]
    }
   ],
   "source": [
    "data.info(memory_usage = \"deep\")"
   ]
  },
  {
   "cell_type": "code",
   "execution_count": 32,
   "id": "eec6f456",
   "metadata": {},
   "outputs": [
    {
     "name": "stdout",
     "output_type": "stream",
     "text": [
      "<class 'pandas.core.frame.DataFrame'>\n",
      "RangeIndex: 1500 entries, 0 to 1499\n",
      "Data columns (total 4 columns):\n",
      " #   Column       Non-Null Count  Dtype \n",
      "---  ------       --------------  ----- \n",
      " 0   PassengerId  1500 non-null   int64 \n",
      " 1   Survived     1500 non-null   int64 \n",
      " 2   Pclass       1500 non-null   int64 \n",
      " 3   Embarked     1497 non-null   object\n",
      "dtypes: int64(3), object(1)\n",
      "memory usage: 120.2 KB\n"
     ]
    }
   ],
   "source": [
    "col_list = [\"PassengerId\", \"Survived\", \"Pclass\", \"Embarked\"]\n",
    "\n",
    "data = pd.read_csv(\"titanic_train.csv\", usecols=col_list)\n",
    "data.info(memory_usage = \"deep\")"
   ]
  },
  {
   "cell_type": "markdown",
   "id": "4a132d7f",
   "metadata": {},
   "source": [
    "#  Alter the data-type of columns \n",
    "By default, Pandas always assigns the highest memory datatype to columns.\n",
    "\n",
    "\n",
    "int8: 8-bit-integer that covers integers from [-2⁷, 2⁷].\n",
    "\n",
    "int16: 16-bit-integer that covers integers from [-2¹⁵, 2¹⁵].\n",
    "\n",
    "int32: 32-bit-integer that covers integers from [-2³¹, 2³¹].\n",
    "\n",
    "int64: 64-bit-integer that covers integers from [-2⁶³, 2⁶³]."
   ]
  },
  {
   "cell_type": "code",
   "execution_count": 33,
   "id": "e6e3d484",
   "metadata": {},
   "outputs": [
    {
     "name": "stdout",
     "output_type": "stream",
     "text": [
      "<class 'pandas.core.frame.DataFrame'>\n",
      "RangeIndex: 1500 entries, 0 to 1499\n",
      "Data columns (total 12 columns):\n",
      " #   Column       Non-Null Count  Dtype  \n",
      "---  ------       --------------  -----  \n",
      " 0   PassengerId  1500 non-null   int64  \n",
      " 1   Survived     1500 non-null   int64  \n",
      " 2   Pclass       1500 non-null   int64  \n",
      " 3   Name         1500 non-null   object \n",
      " 4   Gender       1500 non-null   object \n",
      " 5   Age          1195 non-null   float64\n",
      " 6   SibSp        1500 non-null   int64  \n",
      " 7   Parch        1500 non-null   int64  \n",
      " 8   Ticket       1500 non-null   object \n",
      " 9   Fare         1500 non-null   float64\n",
      " 10  Cabin        341 non-null    object \n",
      " 11  Embarked     1497 non-null   object \n",
      "dtypes: float64(2), int64(5), object(5)\n",
      "memory usage: 530.3 KB\n"
     ]
    }
   ],
   "source": [
    "data = pd.read_csv(\"titanic_train.csv\")\n",
    "data.info(memory_usage = \"deep\")"
   ]
  },
  {
   "cell_type": "code",
   "execution_count": 35,
   "id": "d181c9e3",
   "metadata": {},
   "outputs": [
    {
     "name": "stdout",
     "output_type": "stream",
     "text": [
      "Memory usage before changing the datatype: 12128\n",
      "Memory usage after changing the datatype: 1628\n"
     ]
    }
   ],
   "source": [
    "print(\"Memory usage before changing the datatype:\", data.Survived.memory_usage())\n",
    "\n",
    "data[\"Survived\"] = data.Survived.astype(np.int8)\n",
    "\n",
    "print(\"Memory usage after changing the datatype:\", data.Survived.memory_usage())"
   ]
  },
  {
   "cell_type": "markdown",
   "id": "1849292d",
   "metadata": {},
   "source": [
    "<img src=\"img/img1.png\">"
   ]
  },
  {
   "cell_type": "code",
   "execution_count": 38,
   "id": "982aada3",
   "metadata": {},
   "outputs": [
    {
     "name": "stdout",
     "output_type": "stream",
     "text": [
      "Memory usage before changing the datatype: 12128\n",
      "Memory usage after changing the datatype: 9688\n"
     ]
    }
   ],
   "source": [
    "print(\"Memory usage before changing the datatype:\", data.Age.memory_usage())\n",
    "\n",
    "data[\"Age\"] = data.Age.astype(\"Sparse[float32]\")\n",
    "\n",
    "print(\"Memory usage after changing the datatype:\", data.Age.memory_usage())"
   ]
  },
  {
   "cell_type": "markdown",
   "id": "8f03e400",
   "metadata": {},
   "source": [
    "# Altering datatype of columns with NaN values"
   ]
  },
  {
   "cell_type": "markdown",
   "id": "ba8f96fa",
   "metadata": {},
   "source": [
    "<img src=\"img/img3.png\">"
   ]
  },
  {
   "cell_type": "code",
   "execution_count": 41,
   "id": "7532d2c1",
   "metadata": {},
   "outputs": [
    {
     "name": "stdout",
     "output_type": "stream",
     "text": [
      "Number of records    : 1500\n",
      "Number of NaN values : 0\n",
      "Data type of Rating  : float64\n"
     ]
    }
   ],
   "source": [
    "print(\"Number of records    :\", data.shape[0])\n",
    "print(\"Number of NaN values :\", data.Fare.isna().sum())\n",
    "print(\"Data type of Rating  :\", data.Fare.dtype)"
   ]
  },
  {
   "cell_type": "markdown",
   "id": "872fc57a",
   "metadata": {},
   "source": [
    "# 2 Run-time Optimization"
   ]
  },
  {
   "cell_type": "markdown",
   "id": "b9115d77",
   "metadata": {},
   "source": [
    "# The Best Way to Use Apply() in Pandas"
   ]
  },
  {
   "cell_type": "markdown",
   "id": "55a50921",
   "metadata": {},
   "source": [
    "Swifter: [https://github.com/jmcarpenter2/swifter](https://github.com/jmcarpenter2/swifter)\n",
    "\n",
    "Pandarallel: [https://github.com/nalepae/pandarallel](https://github.com/nalepae/pandarallel)\n",
    "\n",
    "Parallel Pandas: [https://pypi.org/project/parallel-pandas/](https://pypi.org/project/parallel-pandas/)\n",
    "\n",
    "Mapply: [https://pypi.org/project/mapply/](https://pypi.org/project/mapply/)"
   ]
  },
  {
   "cell_type": "code",
   "execution_count": 42,
   "id": "cad9d886",
   "metadata": {},
   "outputs": [
    {
     "name": "stdout",
     "output_type": "stream",
     "text": [
      "Collecting pandarallel\n",
      "  Downloading pandarallel-1.6.5.tar.gz (14 kB)\n",
      "  Preparing metadata (setup.py): started\n",
      "  Preparing metadata (setup.py): finished with status 'done'\n",
      "Requirement already satisfied: dill>=0.3.1 in c:\\users\\marcio rodrigues\\anaconda3\\lib\\site-packages (from pandarallel) (0.3.4)\n",
      "Requirement already satisfied: pandas>=1 in c:\\users\\marcio rodrigues\\anaconda3\\lib\\site-packages (from pandarallel) (2.1.3)\n",
      "Requirement already satisfied: psutil in c:\\users\\marcio rodrigues\\anaconda3\\lib\\site-packages (from pandarallel) (5.9.0)\n",
      "Requirement already satisfied: numpy<2,>=1.22.4 in c:\\users\\marcio rodrigues\\anaconda3\\lib\\site-packages (from pandas>=1->pandarallel) (1.24.4)\n",
      "Requirement already satisfied: python-dateutil>=2.8.2 in c:\\users\\marcio rodrigues\\anaconda3\\lib\\site-packages (from pandas>=1->pandarallel) (2.8.2)\n",
      "Requirement already satisfied: pytz>=2020.1 in c:\\users\\marcio rodrigues\\anaconda3\\lib\\site-packages (from pandas>=1->pandarallel) (2022.1)\n",
      "Requirement already satisfied: tzdata>=2022.1 in c:\\users\\marcio rodrigues\\anaconda3\\lib\\site-packages (from pandas>=1->pandarallel) (2023.3)\n",
      "Requirement already satisfied: six>=1.5 in c:\\users\\marcio rodrigues\\anaconda3\\lib\\site-packages (from python-dateutil>=2.8.2->pandas>=1->pandarallel) (1.16.0)\n",
      "Building wheels for collected packages: pandarallel\n",
      "  Building wheel for pandarallel (setup.py): started\n",
      "  Building wheel for pandarallel (setup.py): finished with status 'done'\n",
      "  Created wheel for pandarallel: filename=pandarallel-1.6.5-py3-none-any.whl size=16678 sha256=d2b426977a95e0b5a204898b250b391938098b71c18a535c96f34fc506ec7252\n",
      "  Stored in directory: c:\\users\\marcio rodrigues\\appdata\\local\\pip\\cache\\wheels\\39\\fe\\8d\\f7912d85b21ea72c9a8a3fefa6141fab92e575a67ab17c4474\n",
      "Successfully built pandarallel\n",
      "Installing collected packages: pandarallel\n",
      "Successfully installed pandarallel-1.6.5\n",
      "Collecting mapply\n",
      "  Downloading mapply-0.1.22-py3-none-any.whl.metadata (4.0 kB)\n",
      "Collecting pathos>=0.2.0 (from mapply)\n",
      "  Downloading pathos-0.3.1-py3-none-any.whl.metadata (11 kB)\n",
      "Requirement already satisfied: psutil in c:\\users\\marcio rodrigues\\anaconda3\\lib\\site-packages (from mapply) (5.9.0)\n",
      "Requirement already satisfied: tqdm>=4.27 in c:\\users\\marcio rodrigues\\anaconda3\\lib\\site-packages (from mapply) (4.64.1)\n",
      "Collecting ppft>=1.7.6.7 (from pathos>=0.2.0->mapply)\n",
      "  Downloading ppft-1.7.6.7-py3-none-any.whl.metadata (12 kB)\n",
      "Collecting dill>=0.3.7 (from pathos>=0.2.0->mapply)\n",
      "  Downloading dill-0.3.7-py3-none-any.whl.metadata (9.9 kB)\n",
      "Collecting pox>=0.3.3 (from pathos>=0.2.0->mapply)\n",
      "  Downloading pox-0.3.3-py3-none-any.whl.metadata (8.0 kB)\n",
      "Collecting multiprocess>=0.70.15 (from pathos>=0.2.0->mapply)\n",
      "  Downloading multiprocess-0.70.15-py39-none-any.whl.metadata (7.2 kB)\n",
      "Requirement already satisfied: colorama in c:\\users\\marcio rodrigues\\anaconda3\\lib\\site-packages (from tqdm>=4.27->mapply) (0.4.6)\n",
      "Downloading mapply-0.1.22-py3-none-any.whl (9.4 kB)\n",
      "Downloading pathos-0.3.1-py3-none-any.whl (82 kB)\n",
      "   ---------------------------------------- 82.1/82.1 kB 659.3 kB/s eta 0:00:00\n",
      "Downloading dill-0.3.7-py3-none-any.whl (115 kB)\n",
      "   -------------------------------------- 115.3/115.3 kB 176.8 kB/s eta 0:00:00\n",
      "Downloading multiprocess-0.70.15-py39-none-any.whl (133 kB)\n",
      "   ---------------------------------------- 133.3/133.3 kB 1.3 MB/s eta 0:00:00\n",
      "Downloading pox-0.3.3-py3-none-any.whl (29 kB)\n",
      "Downloading ppft-1.7.6.7-py3-none-any.whl (56 kB)\n",
      "   ---------------------------------------- 56.8/56.8 kB 69.3 kB/s eta 0:00:00\n",
      "Installing collected packages: ppft, pox, dill, multiprocess, pathos, mapply\n",
      "  Attempting uninstall: dill\n",
      "    Found existing installation: dill 0.3.4\n",
      "    Uninstalling dill-0.3.4:\n",
      "      Successfully uninstalled dill-0.3.4\n",
      "Successfully installed dill-0.3.7 mapply-0.1.22 multiprocess-0.70.15 pathos-0.3.1 pox-0.3.3 ppft-1.7.6.7\n"
     ]
    },
    {
     "name": "stderr",
     "output_type": "stream",
     "text": [
      "ERROR: pip's dependency resolver does not currently take into account all the packages that are installed. This behaviour is the source of the following dependency conflicts.\n",
      "spyder 5.2.2 requires pyqt5<5.13, which is not installed.\n",
      "spyder 5.2.2 requires pyqtwebengine<5.13, which is not installed.\n"
     ]
    },
    {
     "name": "stdout",
     "output_type": "stream",
     "text": [
      "Collecting pandas-parallel\n",
      "  Downloading pandas-parallel-0.1.7.tar.gz (3.6 kB)\n",
      "  Preparing metadata (setup.py): started\n",
      "  Preparing metadata (setup.py): finished with status 'done'\n",
      "Requirement already satisfied: pandas in c:\\users\\marcio rodrigues\\anaconda3\\lib\\site-packages (from pandas-parallel) (2.1.3)\n",
      "Requirement already satisfied: numpy in c:\\users\\marcio rodrigues\\anaconda3\\lib\\site-packages (from pandas-parallel) (1.24.4)\n",
      "Requirement already satisfied: tqdm in c:\\users\\marcio rodrigues\\anaconda3\\lib\\site-packages (from pandas-parallel) (4.64.1)\n",
      "Requirement already satisfied: python-dateutil>=2.8.2 in c:\\users\\marcio rodrigues\\anaconda3\\lib\\site-packages (from pandas->pandas-parallel) (2.8.2)\n",
      "Requirement already satisfied: pytz>=2020.1 in c:\\users\\marcio rodrigues\\anaconda3\\lib\\site-packages (from pandas->pandas-parallel) (2022.1)\n",
      "Requirement already satisfied: tzdata>=2022.1 in c:\\users\\marcio rodrigues\\anaconda3\\lib\\site-packages (from pandas->pandas-parallel) (2023.3)\n",
      "Requirement already satisfied: colorama in c:\\users\\marcio rodrigues\\anaconda3\\lib\\site-packages (from tqdm->pandas-parallel) (0.4.6)\n",
      "Requirement already satisfied: six>=1.5 in c:\\users\\marcio rodrigues\\anaconda3\\lib\\site-packages (from python-dateutil>=2.8.2->pandas->pandas-parallel) (1.16.0)\n",
      "Building wheels for collected packages: pandas-parallel\n",
      "  Building wheel for pandas-parallel (setup.py): started\n",
      "  Building wheel for pandas-parallel (setup.py): finished with status 'done'\n",
      "  Created wheel for pandas-parallel: filename=pandas_parallel-0.1.7-py3-none-any.whl size=5189 sha256=7505267a1c52feac8a50a5e2ea649aeb3d2e7d2436dd1d0ef89972918496d7f2\n",
      "  Stored in directory: c:\\users\\marcio rodrigues\\appdata\\local\\pip\\cache\\wheels\\52\\5a\\6f\\1e9df17fb398cb15349aadc61ae90e587fd93ff8c7214938b6\n",
      "Successfully built pandas-parallel\n",
      "Installing collected packages: pandas-parallel\n",
      "Successfully installed pandas-parallel-0.1.7\n",
      "Collecting swifter\n",
      "  Downloading swifter-1.4.0.tar.gz (1.2 MB)\n",
      "     ---------------------------------------- 1.2/1.2 MB 4.5 MB/s eta 0:00:00\n",
      "  Preparing metadata (setup.py): started\n",
      "  Preparing metadata (setup.py): finished with status 'done'\n",
      "Requirement already satisfied: pandas>=1.0.0 in c:\\users\\marcio rodrigues\\anaconda3\\lib\\site-packages (from swifter) (2.1.3)\n",
      "Requirement already satisfied: psutil>=5.6.6 in c:\\users\\marcio rodrigues\\anaconda3\\lib\\site-packages (from swifter) (5.9.0)\n",
      "Requirement already satisfied: dask>=2.10.0 in c:\\users\\marcio rodrigues\\anaconda3\\lib\\site-packages (from dask[dataframe]>=2.10.0->swifter) (2023.12.0)\n",
      "Requirement already satisfied: tqdm>=4.33.0 in c:\\users\\marcio rodrigues\\anaconda3\\lib\\site-packages (from swifter) (4.64.1)\n",
      "Requirement already satisfied: click>=8.1 in c:\\users\\marcio rodrigues\\anaconda3\\lib\\site-packages (from dask>=2.10.0->dask[dataframe]>=2.10.0->swifter) (8.1.7)\n",
      "Requirement already satisfied: cloudpickle>=1.5.0 in c:\\users\\marcio rodrigues\\anaconda3\\lib\\site-packages (from dask>=2.10.0->dask[dataframe]>=2.10.0->swifter) (2.0.0)\n",
      "Requirement already satisfied: fsspec>=2021.09.0 in c:\\users\\marcio rodrigues\\anaconda3\\lib\\site-packages (from dask>=2.10.0->dask[dataframe]>=2.10.0->swifter) (2023.10.0)\n",
      "Requirement already satisfied: packaging>=20.0 in c:\\users\\marcio rodrigues\\anaconda3\\lib\\site-packages (from dask>=2.10.0->dask[dataframe]>=2.10.0->swifter) (21.3)\n",
      "Requirement already satisfied: partd>=1.2.0 in c:\\users\\marcio rodrigues\\anaconda3\\lib\\site-packages (from dask>=2.10.0->dask[dataframe]>=2.10.0->swifter) (1.2.0)\n",
      "Requirement already satisfied: pyyaml>=5.3.1 in c:\\users\\marcio rodrigues\\anaconda3\\lib\\site-packages (from dask>=2.10.0->dask[dataframe]>=2.10.0->swifter) (6.0)\n",
      "Requirement already satisfied: toolz>=0.10.0 in c:\\users\\marcio rodrigues\\anaconda3\\lib\\site-packages (from dask>=2.10.0->dask[dataframe]>=2.10.0->swifter) (0.11.2)\n",
      "Requirement already satisfied: importlib-metadata>=4.13.0 in c:\\users\\marcio rodrigues\\anaconda3\\lib\\site-packages (from dask>=2.10.0->dask[dataframe]>=2.10.0->swifter) (6.6.0)\n",
      "Requirement already satisfied: numpy<2,>=1.22.4 in c:\\users\\marcio rodrigues\\anaconda3\\lib\\site-packages (from pandas>=1.0.0->swifter) (1.24.4)\n",
      "Requirement already satisfied: python-dateutil>=2.8.2 in c:\\users\\marcio rodrigues\\anaconda3\\lib\\site-packages (from pandas>=1.0.0->swifter) (2.8.2)\n",
      "Requirement already satisfied: pytz>=2020.1 in c:\\users\\marcio rodrigues\\anaconda3\\lib\\site-packages (from pandas>=1.0.0->swifter) (2022.1)\n",
      "Requirement already satisfied: tzdata>=2022.1 in c:\\users\\marcio rodrigues\\anaconda3\\lib\\site-packages (from pandas>=1.0.0->swifter) (2023.3)\n",
      "Requirement already satisfied: colorama in c:\\users\\marcio rodrigues\\anaconda3\\lib\\site-packages (from tqdm>=4.33.0->swifter) (0.4.6)\n",
      "Requirement already satisfied: zipp>=0.5 in c:\\users\\marcio rodrigues\\anaconda3\\lib\\site-packages (from importlib-metadata>=4.13.0->dask>=2.10.0->dask[dataframe]>=2.10.0->swifter) (3.8.0)\n",
      "Requirement already satisfied: pyparsing!=3.0.5,>=2.0.2 in c:\\users\\marcio rodrigues\\anaconda3\\lib\\site-packages (from packaging>=20.0->dask>=2.10.0->dask[dataframe]>=2.10.0->swifter) (3.0.9)\n",
      "Requirement already satisfied: locket in c:\\users\\marcio rodrigues\\anaconda3\\lib\\site-packages (from partd>=1.2.0->dask>=2.10.0->dask[dataframe]>=2.10.0->swifter) (1.0.0)\n",
      "Requirement already satisfied: six>=1.5 in c:\\users\\marcio rodrigues\\anaconda3\\lib\\site-packages (from python-dateutil>=2.8.2->pandas>=1.0.0->swifter) (1.16.0)\n",
      "Building wheels for collected packages: swifter\n",
      "  Building wheel for swifter (setup.py): started\n",
      "  Building wheel for swifter (setup.py): finished with status 'done'\n",
      "  Created wheel for swifter: filename=swifter-1.4.0-py3-none-any.whl size=16510 sha256=e8127ab5a09793fb71a5f3590bbe87d42fb61386b828f7caed5310c0790db63c\n",
      "  Stored in directory: c:\\users\\marcio rodrigues\\appdata\\local\\pip\\cache\\wheels\\7b\\4a\\7e\\bcc48cf10e10fcf5b4dae464a66b523756db6b950e02129680\n",
      "Successfully built swifter\n",
      "Installing collected packages: swifter\n",
      "Successfully installed swifter-1.4.0\n"
     ]
    }
   ],
   "source": [
    "!pip install pandarallel\n",
    "!pip install mapply\n",
    "!pip install pandas-parallel\n",
    "!pip install swifter"
   ]
  },
  {
   "cell_type": "code",
   "execution_count": 45,
   "id": "7993d9fc",
   "metadata": {},
   "outputs": [],
   "source": [
    "import mapply\n",
    "import pandas as pd\n",
    "import swifter\n",
    "import numpy as np\n",
    "from time import perf_counter\n",
    "from pandarallel import pandarallel\n",
    "# from parallel_pandas import ParallelPandas"
   ]
  },
  {
   "cell_type": "code",
   "execution_count": 46,
   "id": "0e71e9e0",
   "metadata": {},
   "outputs": [
    {
     "data": {
      "text/html": [
       "<div>\n",
       "<style scoped>\n",
       "    .dataframe tbody tr th:only-of-type {\n",
       "        vertical-align: middle;\n",
       "    }\n",
       "\n",
       "    .dataframe tbody tr th {\n",
       "        vertical-align: top;\n",
       "    }\n",
       "\n",
       "    .dataframe thead th {\n",
       "        text-align: right;\n",
       "    }\n",
       "</style>\n",
       "<table border=\"1\" class=\"dataframe\">\n",
       "  <thead>\n",
       "    <tr style=\"text-align: right;\">\n",
       "      <th></th>\n",
       "      <th>A</th>\n",
       "      <th>B</th>\n",
       "      <th>C</th>\n",
       "      <th>D</th>\n",
       "    </tr>\n",
       "  </thead>\n",
       "  <tbody>\n",
       "    <tr>\n",
       "      <th>0</th>\n",
       "      <td>249987</td>\n",
       "      <td>607866</td>\n",
       "      <td>172763</td>\n",
       "      <td>470351</td>\n",
       "    </tr>\n",
       "    <tr>\n",
       "      <th>1</th>\n",
       "      <td>162991</td>\n",
       "      <td>380975</td>\n",
       "      <td>758718</td>\n",
       "      <td>979068</td>\n",
       "    </tr>\n",
       "    <tr>\n",
       "      <th>2</th>\n",
       "      <td>870688</td>\n",
       "      <td>908779</td>\n",
       "      <td>709176</td>\n",
       "      <td>718373</td>\n",
       "    </tr>\n",
       "    <tr>\n",
       "      <th>3</th>\n",
       "      <td>599044</td>\n",
       "      <td>44969</td>\n",
       "      <td>786505</td>\n",
       "      <td>460742</td>\n",
       "    </tr>\n",
       "    <tr>\n",
       "      <th>4</th>\n",
       "      <td>660002</td>\n",
       "      <td>374291</td>\n",
       "      <td>216405</td>\n",
       "      <td>319224</td>\n",
       "    </tr>\n",
       "  </tbody>\n",
       "</table>\n",
       "</div>"
      ],
      "text/plain": [
       "        A       B       C       D\n",
       "0  249987  607866  172763  470351\n",
       "1  162991  380975  758718  979068\n",
       "2  870688  908779  709176  718373\n",
       "3  599044   44969  786505  460742\n",
       "4  660002  374291  216405  319224"
      ]
     },
     "execution_count": 46,
     "metadata": {},
     "output_type": "execute_result"
    }
   ],
   "source": [
    "df = pd.DataFrame(np.random.randint(1, 10**6, size = (10**7, 4)), columns = list(\"ABCD\"))\n",
    "df.head()"
   ]
  },
  {
   "cell_type": "code",
   "execution_count": 47,
   "id": "6d6ee700",
   "metadata": {},
   "outputs": [],
   "source": [
    "def sum_row(row):\n",
    "    return sum(row)"
   ]
  },
  {
   "cell_type": "markdown",
   "id": "004cb809",
   "metadata": {},
   "source": [
    "**Pandas Apply**"
   ]
  },
  {
   "cell_type": "code",
   "execution_count": 48,
   "id": "e380a443",
   "metadata": {},
   "outputs": [
    {
     "name": "stdout",
     "output_type": "stream",
     "text": [
      "57.45892660000027\n"
     ]
    }
   ],
   "source": [
    "start = perf_counter()\n",
    "a = df.apply(sum_row, axis = 1)\n",
    "print(perf_counter()-start)"
   ]
  },
  {
   "cell_type": "markdown",
   "id": "8f7e7759",
   "metadata": {},
   "source": [
    "**Pandarallel**"
   ]
  },
  {
   "cell_type": "code",
   "execution_count": 49,
   "id": "8611a2a5",
   "metadata": {},
   "outputs": [
    {
     "name": "stdout",
     "output_type": "stream",
     "text": [
      "INFO: Pandarallel will run on 6 workers.\n",
      "INFO: Pandarallel will use standard multiprocessing data transfer (pipe) to transfer data between the main process and workers.\n",
      "\n",
      "WARNING: You are on Windows. If you detect any issue with pandarallel, be sure you checked out the Troubleshooting page:\n",
      "https://nalepae.github.io/pandarallel/troubleshooting/\n"
     ]
    }
   ],
   "source": [
    "pandarallel.initialize(progress_bar=True)"
   ]
  },
  {
   "cell_type": "code",
   "execution_count": 50,
   "id": "6a8bf2d2",
   "metadata": {},
   "outputs": [
    {
     "data": {
      "application/vnd.jupyter.widget-view+json": {
       "model_id": "7069aa9dbf594dd88ed2f3b24f09ec6c",
       "version_major": 2,
       "version_minor": 0
      },
      "text/plain": [
       "VBox(children=(HBox(children=(IntProgress(value=0, description='0.00%', max=1666667), Label(value='0 / 1666667…"
      ]
     },
     "metadata": {},
     "output_type": "display_data"
    },
    {
     "name": "stdout",
     "output_type": "stream",
     "text": [
      "21.73913040000025\n"
     ]
    }
   ],
   "source": [
    "start = perf_counter()\n",
    "a = df.parallel_apply(sum_row, axis = 1)\n",
    "print(perf_counter()-start)"
   ]
  },
  {
   "cell_type": "markdown",
   "id": "9405fd14",
   "metadata": {},
   "source": [
    "**Mapply Apply**"
   ]
  },
  {
   "cell_type": "code",
   "execution_count": 51,
   "id": "df9b85b5",
   "metadata": {},
   "outputs": [],
   "source": [
    "mapply.init(\n",
    "    n_workers=-1,\n",
    "    chunk_size=100,\n",
    "    max_chunks_per_worker=8,\n",
    "    progressbar=True\n",
    ")"
   ]
  },
  {
   "cell_type": "code",
   "execution_count": 52,
   "id": "cd929b58",
   "metadata": {},
   "outputs": [
    {
     "data": {
      "application/vnd.jupyter.widget-view+json": {
       "model_id": "b18dc4d6e7c6462fa7ca5e2eedd5e97e",
       "version_major": 2,
       "version_minor": 0
      },
      "text/plain": [
       "  0%|                                                                                           | 0/56 [00:00<…"
      ]
     },
     "metadata": {},
     "output_type": "display_data"
    },
    {
     "name": "stdout",
     "output_type": "stream",
     "text": [
      "21.645263699999305\n"
     ]
    }
   ],
   "source": [
    "start = perf_counter()\n",
    "a = df.mapply(sum_row, axis = 1)\n",
    "print(perf_counter()-start)"
   ]
  },
  {
   "cell_type": "markdown",
   "id": "4271a734",
   "metadata": {},
   "source": [
    "**Swifter Apply**"
   ]
  },
  {
   "cell_type": "code",
   "execution_count": 53,
   "id": "601483e1",
   "metadata": {},
   "outputs": [
    {
     "data": {
      "application/vnd.jupyter.widget-view+json": {
       "model_id": "ea39890230a0450a90f39d2a7aefa4b0",
       "version_major": 2,
       "version_minor": 0
      },
      "text/plain": [
       "Dask Apply:   0%|          | 0/24 [00:00<?, ?it/s]"
      ]
     },
     "metadata": {},
     "output_type": "display_data"
    },
    {
     "name": "stdout",
     "output_type": "stream",
     "text": [
      "32.132466099999874\n"
     ]
    }
   ],
   "source": [
    "start = perf_counter()\n",
    "a = df.swifter.apply(sum_row, axis = 1)\n",
    "print(perf_counter()-start)"
   ]
  },
  {
   "cell_type": "markdown",
   "id": "4f0f7587",
   "metadata": {},
   "source": [
    "# Don't Create Conditional Columns in Pandas with Apply"
   ]
  },
  {
   "cell_type": "code",
   "execution_count": 55,
   "id": "ad55a397",
   "metadata": {},
   "outputs": [],
   "source": [
    "def assign_class(num):\n",
    "    if num>0.5:\n",
    "        return \"Class A\"\n",
    "    return \"Class B\""
   ]
  },
  {
   "cell_type": "code",
   "execution_count": 56,
   "id": "ef7db24c",
   "metadata": {},
   "outputs": [],
   "source": [
    "df = pd.DataFrame(np.random.random((10**7,1)).round(2), columns = [\"col1\"])"
   ]
  },
  {
   "cell_type": "code",
   "execution_count": 57,
   "id": "3976052b",
   "metadata": {},
   "outputs": [
    {
     "name": "stdout",
     "output_type": "stream",
     "text": [
      "1.82 s ± 86 ms per loop (mean ± std. dev. of 7 runs, 1 loop each)\n"
     ]
    }
   ],
   "source": [
    "%timeit a = df.col1.apply(assign_class)"
   ]
  },
  {
   "cell_type": "code",
   "execution_count": 58,
   "id": "5ba80ab4",
   "metadata": {},
   "outputs": [
    {
     "name": "stdout",
     "output_type": "stream",
     "text": [
      "185 ms ± 3.66 ms per loop (mean ± std. dev. of 7 runs, 10 loops each)\n"
     ]
    }
   ],
   "source": [
    "%timeit a = np.where(df[\"col1\"]>0.5, \"Class A\", \"Class B\")"
   ]
  },
  {
   "cell_type": "markdown",
   "id": "38fda2bc",
   "metadata": {},
   "source": [
    "# Speed-up Parquet I/O of Pandas by 5x"
   ]
  },
  {
   "cell_type": "code",
   "execution_count": 59,
   "id": "4c1fa785",
   "metadata": {},
   "outputs": [
    {
     "name": "stdout",
     "output_type": "stream",
     "text": [
      "Wall time: 16.8 s\n"
     ]
    }
   ],
   "source": [
    "%%time \n",
    "\n",
    "df = pd.read_parquet(\"employee_dataset.parquet\")"
   ]
  },
  {
   "cell_type": "code",
   "execution_count": 60,
   "id": "71c118ce",
   "metadata": {},
   "outputs": [
    {
     "name": "stdout",
     "output_type": "stream",
     "text": [
      "Collecting fastparquet\n",
      "  Downloading fastparquet-2023.10.1-cp39-cp39-win_amd64.whl.metadata (4.2 kB)\n",
      "Requirement already satisfied: pandas>=1.5.0 in c:\\users\\marcio rodrigues\\anaconda3\\lib\\site-packages (from fastparquet) (2.1.3)\n",
      "Requirement already satisfied: numpy>=1.20.3 in c:\\users\\marcio rodrigues\\anaconda3\\lib\\site-packages (from fastparquet) (1.24.4)\n",
      "Collecting cramjam>=2.3 (from fastparquet)\n",
      "  Downloading cramjam-2.7.0-cp39-none-win_amd64.whl.metadata (4.1 kB)\n",
      "Requirement already satisfied: fsspec in c:\\users\\marcio rodrigues\\anaconda3\\lib\\site-packages (from fastparquet) (2023.10.0)\n",
      "Requirement already satisfied: packaging in c:\\users\\marcio rodrigues\\anaconda3\\lib\\site-packages (from fastparquet) (21.3)\n",
      "Requirement already satisfied: python-dateutil>=2.8.2 in c:\\users\\marcio rodrigues\\anaconda3\\lib\\site-packages (from pandas>=1.5.0->fastparquet) (2.8.2)\n",
      "Requirement already satisfied: pytz>=2020.1 in c:\\users\\marcio rodrigues\\anaconda3\\lib\\site-packages (from pandas>=1.5.0->fastparquet) (2022.1)\n",
      "Requirement already satisfied: tzdata>=2022.1 in c:\\users\\marcio rodrigues\\anaconda3\\lib\\site-packages (from pandas>=1.5.0->fastparquet) (2023.3)\n",
      "Requirement already satisfied: pyparsing!=3.0.5,>=2.0.2 in c:\\users\\marcio rodrigues\\anaconda3\\lib\\site-packages (from packaging->fastparquet) (3.0.9)\n",
      "Requirement already satisfied: six>=1.5 in c:\\users\\marcio rodrigues\\anaconda3\\lib\\site-packages (from python-dateutil>=2.8.2->pandas>=1.5.0->fastparquet) (1.16.0)\n",
      "Downloading fastparquet-2023.10.1-cp39-cp39-win_amd64.whl (667 kB)\n",
      "   ---------------------------------------- 667.6/667.6 kB 1.9 MB/s eta 0:00:00\n",
      "Downloading cramjam-2.7.0-cp39-none-win_amd64.whl (1.3 MB)\n",
      "   ---------------------------------------- 1.3/1.3 MB 5.3 MB/s eta 0:00:00\n",
      "Installing collected packages: cramjam, fastparquet\n",
      "Successfully installed cramjam-2.7.0 fastparquet-2023.10.1\n"
     ]
    }
   ],
   "source": [
    "!pip install fastparquet"
   ]
  },
  {
   "cell_type": "code",
   "execution_count": 61,
   "id": "1e82fe69",
   "metadata": {},
   "outputs": [],
   "source": [
    "from fastparquet import ParquetFile"
   ]
  },
  {
   "cell_type": "code",
   "execution_count": 63,
   "id": "0ec8e8d9",
   "metadata": {},
   "outputs": [
    {
     "name": "stdout",
     "output_type": "stream",
     "text": [
      "Wall time: 9.36 s\n"
     ]
    }
   ],
   "source": [
    "%%time\n",
    "\n",
    "pf = ParquetFile(\"employee_dataset.parquet\")\n",
    "df = pf.to_pandas()"
   ]
  },
  {
   "cell_type": "markdown",
   "id": "64df5b5a",
   "metadata": {},
   "source": [
    "# Never Iterate Over A DataFrame"
   ]
  },
  {
   "cell_type": "code",
   "execution_count": 73,
   "id": "30260c6f",
   "metadata": {},
   "outputs": [
    {
     "name": "stdout",
     "output_type": "stream",
     "text": [
      "2.71 µs ± 116 ns per loop (mean ± std. dev. of 7 runs, 10000 loops each)\n"
     ]
    }
   ],
   "source": [
    "#Access column\n",
    "%timeit -n10000 -r7 df[\"Name\"]"
   ]
  },
  {
   "cell_type": "code",
   "execution_count": 74,
   "id": "6640a745",
   "metadata": {},
   "outputs": [
    {
     "name": "stdout",
     "output_type": "stream",
     "text": [
      "51.4 µs ± 1.27 µs per loop (mean ± std. dev. of 7 runs, 10000 loops each)\n"
     ]
    }
   ],
   "source": [
    "#Access row\n",
    "%timeit -n10000 -r7 df.iloc[0]"
   ]
  },
  {
   "cell_type": "code",
   "execution_count": 75,
   "id": "8878719d",
   "metadata": {},
   "outputs": [
    {
     "data": {
      "text/plain": [
       "Name                           Johnny Maynard\n",
       "Company_Name          White, Mcclain and Cobb\n",
       "Employee_Job_Title            Equities trader\n",
       "Employee_City                New Cindychester\n",
       "Employee_Country                     Mongolia\n",
       "Employee_Salary                        764340\n",
       "Employment_Status                   Full Time\n",
       "Employee_Rating                           3.3\n",
       "Credits                                     1\n",
       "Name: 0, dtype: object"
      ]
     },
     "execution_count": 75,
     "metadata": {},
     "output_type": "execute_result"
    }
   ],
   "source": [
    "df.iloc[0]"
   ]
  },
  {
   "cell_type": "code",
   "execution_count": null,
   "id": "106ef085",
   "metadata": {},
   "outputs": [],
   "source": []
  }
 ],
 "metadata": {
  "kernelspec": {
   "display_name": "Python 3 (ipykernel)",
   "language": "python",
   "name": "python3"
  },
  "language_info": {
   "codemirror_mode": {
    "name": "ipython",
    "version": 3
   },
   "file_extension": ".py",
   "mimetype": "text/x-python",
   "name": "python",
   "nbconvert_exporter": "python",
   "pygments_lexer": "ipython3",
   "version": "3.9.13"
  }
 },
 "nbformat": 4,
 "nbformat_minor": 5
}
