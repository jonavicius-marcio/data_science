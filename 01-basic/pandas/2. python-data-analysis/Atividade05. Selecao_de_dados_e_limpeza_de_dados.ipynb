{
 "cells": [
  {
   "cell_type": "markdown",
   "id": "6c6d5eb9",
   "metadata": {},
   "source": [
    "# Atividade de Pandas -\n",
    "#### Conteúdo: \n",
    "- Seleção de Dados\n",
    "- Limpeza de Dados\n",
    "\n",
    "**Use o dataset world_alcohol**"
   ]
  },
  {
   "cell_type": "code",
   "execution_count": 1,
   "id": "00635fc8",
   "metadata": {
    "ExecuteTime": {
     "end_time": "2022-08-08T12:31:08.115586Z",
     "start_time": "2022-08-08T12:31:08.111580Z"
    }
   },
   "outputs": [],
   "source": [
    "filename = '../data/world_alcohol.csv'"
   ]
  },
  {
   "cell_type": "markdown",
   "id": "7ed554e1",
   "metadata": {
    "ExecuteTime": {
     "end_time": "2022-06-29T11:45:06.019259Z",
     "start_time": "2022-06-29T11:45:06.005254Z"
    }
   },
   "source": [
    "**1) Escreva um programa usando Pandas para imprimir a dimensão, o shape do dataset e o nome de todas as colunas**"
   ]
  },
  {
   "cell_type": "code",
   "execution_count": 2,
   "id": "6abb00eb",
   "metadata": {
    "ExecuteTime": {
     "end_time": "2022-08-08T12:31:08.674581Z",
     "start_time": "2022-08-08T12:31:08.661579Z"
    }
   },
   "outputs": [
    {
     "name": "stdout",
     "output_type": "stream",
     "text": [
      "World alcohol consumption sample data:\n",
      "   Year       WHO region                Country Beverage Types  Display Value\n",
      "0  1986  Western Pacific               Viet Nam           Wine           0.00\n",
      "1  1986         Americas                Uruguay          Other           0.50\n",
      "2  1985           Africa           Cte d'Ivoire           Wine           1.62\n",
      "3  1986         Americas               Colombia           Beer           4.27\n",
      "4  1987         Americas  Saint Kitts and Nevis           Beer           1.98\n",
      "\n",
      "Shape of the dataframe:  (100, 5)\n",
      "\n",
      "Number of rows:  100\n",
      "\n",
      "Number of column:  5\n",
      "\n",
      "Extract Column Names:\n",
      "Index(['Year', 'WHO region', 'Country', 'Beverage Types', 'Display Value'], dtype='object')\n"
     ]
    }
   ],
   "source": [
    "import pandas as pd\n",
    "# World alcohol consumption data\n",
    "w_a_con = pd.read_csv(filename)\n",
    "\n",
    "print(\"World alcohol consumption sample data:\")\n",
    "print(w_a_con.head())\n",
    "\n",
    "print('\\nShape of the dataframe: ',w_a_con.shape)\n",
    "print('\\nNumber of rows: ',w_a_con.shape[0])\n",
    "print('\\nNumber of column: ',w_a_con.shape[1])\n",
    "print(\"\\nExtract Column Names:\")\n",
    "print(w_a_con.columns)"
   ]
  },
  {
   "cell_type": "markdown",
   "id": "6976d9a1",
   "metadata": {
    "ExecuteTime": {
     "end_time": "2022-06-29T11:48:18.755153Z",
     "start_time": "2022-06-29T11:48:18.746159Z"
    }
   },
   "source": [
    "**2) Escreva um programa usando pandas para selecionar as primeiras duas linhas e duas colunas do dataset**"
   ]
  },
  {
   "cell_type": "code",
   "execution_count": 3,
   "id": "aa2550f2",
   "metadata": {
    "ExecuteTime": {
     "end_time": "2022-08-08T12:31:11.309243Z",
     "start_time": "2022-08-08T12:31:11.286246Z"
    }
   },
   "outputs": [
    {
     "name": "stdout",
     "output_type": "stream",
     "text": [
      "World alcohol consumption sample data:\n",
      "   Year       WHO region                Country Beverage Types  Display Value\n",
      "0  1986  Western Pacific               Viet Nam           Wine           0.00\n",
      "1  1986         Americas                Uruguay          Other           0.50\n",
      "2  1985           Africa           Cte d'Ivoire           Wine           1.62\n",
      "3  1986         Americas               Colombia           Beer           4.27\n",
      "4  1987         Americas  Saint Kitts and Nevis           Beer           1.98\n",
      "\n",
      "Select first 2 rows:\n",
      "   Year       WHO region   Country Beverage Types  Display Value\n",
      "0  1986  Western Pacific  Viet Nam           Wine            0.0\n",
      "1  1986         Americas   Uruguay          Other            0.5\n",
      "\n",
      "Select first 2 columns:\n",
      "   Year       WHO region\n",
      "0  1986  Western Pacific\n",
      "1  1986         Americas\n",
      "2  1985           Africa\n",
      "3  1986         Americas\n",
      "4  1987         Americas\n",
      "\n",
      "Select 2 specific columns:\n",
      "    Display Value  Year\n",
      "0            0.00  1986\n",
      "1            0.50  1986\n",
      "2            1.62  1985\n",
      "3            4.27  1986\n",
      "4            1.98  1987\n",
      "..            ...   ...\n",
      "95           0.00  1984\n",
      "96           7.38  1985\n",
      "97           0.00  1984\n",
      "98           0.00  1984\n",
      "99           0.00  1985\n",
      "\n",
      "[100 rows x 2 columns]\n"
     ]
    }
   ],
   "source": [
    "import pandas as pd\n",
    "# World alcohol consumption data\n",
    "w_a_con = pd.read_csv(filename)\n",
    "print(\"World alcohol consumption sample data:\")\n",
    "print(w_a_con.head())\n",
    "\n",
    "print(\"\\nSelect first 2 rows:\")\n",
    "print(w_a_con.iloc[:2])\n",
    "\n",
    "print(\"\\nSelect first 2 columns:\")\n",
    "print(w_a_con.iloc[:,:2].head())\n",
    "print(\"\\nSelect 2 specific columns:\")\n",
    "print(w_a_con[['Display Value', 'Year']])"
   ]
  },
  {
   "cell_type": "markdown",
   "id": "0f9b18e1",
   "metadata": {},
   "source": [
    "**3) Escreva um programa usando Pandas para selecionar randomicamente um número n de linhas do dataset**"
   ]
  },
  {
   "cell_type": "code",
   "execution_count": 4,
   "id": "92cc81d2",
   "metadata": {
    "ExecuteTime": {
     "end_time": "2022-08-08T12:31:12.139734Z",
     "start_time": "2022-08-08T12:31:12.124734Z"
    }
   },
   "outputs": [
    {
     "name": "stdout",
     "output_type": "stream",
     "text": [
      "World alcohol consumption sample data:\n",
      "   Year       WHO region                Country Beverage Types  Display Value\n",
      "0  1986  Western Pacific               Viet Nam           Wine           0.00\n",
      "1  1986         Americas                Uruguay          Other           0.50\n",
      "2  1985           Africa           Cte d'Ivoire           Wine           1.62\n",
      "3  1986         Americas               Colombia           Beer           4.27\n",
      "4  1987         Americas  Saint Kitts and Nevis           Beer           1.98\n",
      "\n",
      "Select random number of rows:\n",
      "    Year WHO region                                            Country  \\\n",
      "17  1989     Africa                                         Seychelles   \n",
      "96  1985     Europe                                         Luxembourg   \n",
      "26  1985     Europe  United Kingdom of Great Britain and Northern I...   \n",
      "83  1986     Europe                                            Ukraine   \n",
      "85  1985     Africa                   Democratic Republic of the Congo   \n",
      "\n",
      "   Beverage Types  Display Value  \n",
      "17           Beer           2.23  \n",
      "96           Wine           7.38  \n",
      "26           Wine           1.36  \n",
      "83          Other            NaN  \n",
      "85           Wine           0.01  \n",
      "\n",
      "Select fraction of randome rows:\n",
      "    Year WHO region      Country Beverage Types  Display Value\n",
      "50  1985     Europe  Switzerland          Other           0.30\n",
      "91  1989     Europe     Bulgaria           Beer           4.43\n"
     ]
    }
   ],
   "source": [
    "import pandas as pd\n",
    "# World alcohol consumption data\n",
    "w_a_con = pd.read_csv(filename)\n",
    "print(\"World alcohol consumption sample data:\")\n",
    "print(w_a_con.head())\n",
    "print(\"\\nSelect random number of rows:\")\n",
    "print(w_a_con.sample(5))\n",
    "print(\"\\nSelect fraction of randome rows:\")\n",
    "print(w_a_con.sample(frac=0.02))"
   ]
  },
  {
   "cell_type": "markdown",
   "id": "8848f80a",
   "metadata": {
    "ExecuteTime": {
     "end_time": "2022-06-29T11:52:52.576924Z",
     "start_time": "2022-06-29T11:52:52.570925Z"
    }
   },
   "source": [
    "**4. Escreva um programa que irá encontrar e deletar os valores perdidos do dataset**"
   ]
  },
  {
   "cell_type": "code",
   "execution_count": 5,
   "id": "f72db58e",
   "metadata": {
    "ExecuteTime": {
     "end_time": "2022-08-08T12:31:15.028869Z",
     "start_time": "2022-08-08T12:31:14.994871Z"
    }
   },
   "outputs": [
    {
     "name": "stdout",
     "output_type": "stream",
     "text": [
      "World alcohol consumption sample data:\n",
      "   Year       WHO region                Country Beverage Types  Display Value\n",
      "0  1986  Western Pacific               Viet Nam           Wine           0.00\n",
      "1  1986         Americas                Uruguay          Other           0.50\n",
      "2  1985           Africa           Cte d'Ivoire           Wine           1.62\n",
      "3  1986         Americas               Colombia           Beer           4.27\n",
      "4  1987         Americas  Saint Kitts and Nevis           Beer           1.98\n",
      "\n",
      "Missing values:\n",
      "     Year  WHO region  Country  Beverage Types  Display Value\n",
      "0   False       False    False           False          False\n",
      "1   False       False    False           False          False\n",
      "2   False       False    False           False          False\n",
      "3   False       False    False           False          False\n",
      "4   False       False    False           False          False\n",
      "..    ...         ...      ...             ...            ...\n",
      "95  False       False    False           False          False\n",
      "96  False       False    False           False          False\n",
      "97  False       False    False           False          False\n",
      "98  False       False    False           False          False\n",
      "99  False       False    False           False          False\n",
      "\n",
      "[100 rows x 5 columns]\n",
      "\n",
      "Dropping the missing values:\n",
      "    Year       WHO region                                Country  \\\n",
      "0   1986  Western Pacific                               Viet Nam   \n",
      "1   1986         Americas                                Uruguay   \n",
      "2   1985           Africa                           Cte d'Ivoire   \n",
      "3   1986         Americas                               Colombia   \n",
      "4   1987         Americas                  Saint Kitts and Nevis   \n",
      "..   ...              ...                                    ...   \n",
      "95  1984           Africa                                  Niger   \n",
      "96  1985           Europe                             Luxembourg   \n",
      "97  1984  South-East Asia                              Indonesia   \n",
      "98  1984           Africa                      Equatorial Guinea   \n",
      "99  1985  South-East Asia  Democratic People's Republic of Korea   \n",
      "\n",
      "   Beverage Types  Display Value  \n",
      "0            Wine           0.00  \n",
      "1           Other           0.50  \n",
      "2            Wine           1.62  \n",
      "3            Beer           4.27  \n",
      "4            Beer           1.98  \n",
      "..            ...            ...  \n",
      "95          Other           0.00  \n",
      "96           Wine           7.38  \n",
      "97           Wine           0.00  \n",
      "98           Wine           0.00  \n",
      "99           Wine           0.00  \n",
      "\n",
      "[95 rows x 5 columns]\n"
     ]
    }
   ],
   "source": [
    "import pandas as pd\n",
    "# World alcohol consumption data\n",
    "w_a_con = pd.read_csv(filename)\n",
    "\n",
    "print(\"World alcohol consumption sample data:\")\n",
    "print(w_a_con.head())\n",
    "\n",
    "print(\"\\nMissing values:\")\n",
    "print(w_a_con.isnull())\n",
    "\n",
    "print(\"\\nDropping the missing values:\")\n",
    "print(w_a_con.dropna())"
   ]
  },
  {
   "cell_type": "markdown",
   "id": "bf63851d",
   "metadata": {
    "ExecuteTime": {
     "end_time": "2022-06-29T11:56:49.706047Z",
     "start_time": "2022-06-29T11:56:49.699054Z"
    }
   },
   "source": [
    "**5. Escreva um programa usando Pandas que irá remover os valores duplicados do dataset considerando somente o atributo ``WHO region``**"
   ]
  },
  {
   "cell_type": "code",
   "execution_count": 6,
   "id": "b1f0a7dc",
   "metadata": {
    "ExecuteTime": {
     "end_time": "2022-08-08T12:31:16.233874Z",
     "start_time": "2022-08-08T12:31:16.216871Z"
    }
   },
   "outputs": [
    {
     "name": "stdout",
     "output_type": "stream",
     "text": [
      "World alcohol consumption sample data:\n",
      "   Year       WHO region                Country Beverage Types  Display Value\n",
      "0  1986  Western Pacific               Viet Nam           Wine           0.00\n",
      "1  1986         Americas                Uruguay          Other           0.50\n",
      "2  1985           Africa           Cte d'Ivoire           Wine           1.62\n",
      "3  1986         Americas               Colombia           Beer           4.27\n",
      "4  1987         Americas  Saint Kitts and Nevis           Beer           1.98\n",
      "\n",
      "After removing the duplicates of WHO region column:\n",
      "    Year             WHO region       Country Beverage Types  Display Value\n",
      "0   1986        Western Pacific      Viet Nam           Wine           0.00\n",
      "1   1986               Americas       Uruguay          Other           0.50\n",
      "2   1985                 Africa  Cte d'Ivoire           Wine           1.62\n",
      "13  1984  Eastern Mediterranean   Afghanistan          Other           0.00\n",
      "18  1984                 Europe        Norway        Spirits           1.62\n",
      "20  1986        South-East Asia       Myanmar           Wine           0.00\n"
     ]
    }
   ],
   "source": [
    "import pandas as pd\n",
    "# World alcohol consumption data\n",
    "w_a_con = pd.read_csv(filename)\n",
    "print(\"World alcohol consumption sample data:\")\n",
    "print(w_a_con.head())\n",
    "\n",
    "print(\"\\nAfter removing the duplicates of WHO region column:\")\n",
    "print(w_a_con.drop_duplicates('WHO region'))"
   ]
  },
  {
   "cell_type": "markdown",
   "id": "0cb46291",
   "metadata": {},
   "source": [
    "**6) Escreva um programa de pandas para descobrir o consumo de álcool entre 1985 e 1989**"
   ]
  },
  {
   "cell_type": "code",
   "execution_count": 7,
   "id": "1c4a770a",
   "metadata": {
    "ExecuteTime": {
     "end_time": "2022-08-08T12:31:18.829302Z",
     "start_time": "2022-08-08T12:31:18.814299Z"
    }
   },
   "outputs": [
    {
     "name": "stdout",
     "output_type": "stream",
     "text": [
      "World alcohol consumption sample data:\n",
      "   Year       WHO region                Country Beverage Types  Display Value\n",
      "0  1986  Western Pacific               Viet Nam           Wine           0.00\n",
      "1  1986         Americas                Uruguay          Other           0.50\n",
      "2  1985           Africa           Cte d'Ivoire           Wine           1.62\n",
      "3  1986         Americas               Colombia           Beer           4.27\n",
      "4  1987         Americas  Saint Kitts and Nevis           Beer           1.98\n",
      "    Year       WHO region                Country Beverage Types  Display Value\n",
      "0   1986  Western Pacific               Viet Nam           Wine           0.00\n",
      "1   1986         Americas                Uruguay          Other           0.50\n",
      "2   1985           Africa           Cte d'Ivoire           Wine           1.62\n",
      "3   1986         Americas               Colombia           Beer           4.27\n",
      "4   1987         Americas  Saint Kitts and Nevis           Beer           1.98\n",
      "5   1987         Americas              Guatemala          Other           0.00\n",
      "6   1987           Africa              Mauritius           Wine           0.13\n",
      "7   1985           Africa                 Angola        Spirits           0.39\n",
      "8   1986         Americas    Antigua and Barbuda        Spirits           1.55\n",
      "10  1987           Africa               Botswana           Wine           0.20\n"
     ]
    }
   ],
   "source": [
    "import pandas as pd\n",
    "# World alcohol consumption data\n",
    "w_a_con = pd.read_csv(filename)\n",
    "print(\"World alcohol consumption sample data:\")\n",
    "print(w_a_con.head())\n",
    "print(w_a_con[((w_a_con['Year']>=1985) & (w_a_con['Year']<=1989))].head(10))"
   ]
  },
  {
   "cell_type": "markdown",
   "id": "93cc1dcc",
   "metadata": {},
   "source": [
    "**7) Escreva um programa usando Pandas para descobrir os detalhes do consumo de álcool em 1986, onde a região é ``Western Pacific`` e o país é ``Viet Nam``**"
   ]
  },
  {
   "cell_type": "code",
   "execution_count": 8,
   "id": "6c8a12e8",
   "metadata": {
    "ExecuteTime": {
     "end_time": "2022-08-08T12:31:21.148997Z",
     "start_time": "2022-08-08T12:31:21.132966Z"
    }
   },
   "outputs": [
    {
     "name": "stdout",
     "output_type": "stream",
     "text": [
      "World alcohol consumption sample data:\n",
      "   Year       WHO region                Country Beverage Types  Display Value\n",
      "0  1986  Western Pacific               Viet Nam           Wine           0.00\n",
      "1  1986         Americas                Uruguay          Other           0.50\n",
      "2  1985           Africa           Cte d'Ivoire           Wine           1.62\n",
      "3  1986         Americas               Colombia           Beer           4.27\n",
      "4  1987         Americas  Saint Kitts and Nevis           Beer           1.98\n",
      "\n",
      "The world alcohol consumption details in the year 1986 where WHO region is Western Pacific and country is VietNam :\n",
      "   Year       WHO region   Country Beverage Types  Display Value\n",
      "0  1986  Western Pacific  Viet Nam           Wine            0.0\n"
     ]
    }
   ],
   "source": [
    "import pandas as pd\n",
    "# World alcohol consumption data\n",
    "w_a_con = pd.read_csv(filename)\n",
    "print(\"World alcohol consumption sample data:\")\n",
    "print(w_a_con.head())\n",
    "print(\"\\nThe world alcohol consumption details in the year 1986 where WHO region is Western Pacific and country is VietNam :\")\n",
    "print(w_a_con[(w_a_con['Year']==1986) & (w_a_con['WHO region']=='Western Pacific') & (w_a_con['Country']=='Viet Nam')])"
   ]
  },
  {
   "cell_type": "markdown",
   "id": "a11ce7e7",
   "metadata": {},
   "source": [
    "**8) Escreva um programa usando pandas que encontra o total de registros onde o ``Display Value`` é maior do que ou igual a quatro e o ``Beverage Types`` é Beer, Wine, ou Spirits**"
   ]
  },
  {
   "cell_type": "code",
   "execution_count": 9,
   "id": "5c3ad679",
   "metadata": {
    "ExecuteTime": {
     "end_time": "2022-08-08T12:31:27.822061Z",
     "start_time": "2022-08-08T12:31:27.809542Z"
    }
   },
   "outputs": [
    {
     "name": "stdout",
     "output_type": "stream",
     "text": [
      "World alcohol consumption sample data:\n",
      "   Year       WHO region                Country Beverage Types  Display Value\n",
      "0  1986  Western Pacific               Viet Nam           Wine           0.00\n",
      "1  1986         Americas                Uruguay          Other           0.50\n",
      "2  1985           Africa           Cte d'Ivoire           Wine           1.62\n",
      "3  1986         Americas               Colombia           Beer           4.27\n",
      "4  1987         Americas  Saint Kitts and Nevis           Beer           1.98\n",
      "\n",
      "The world alcohol consumption details: average consumption of \n",
      "beverages per person >=4 and Beverage Types is Beer:\n",
      "    Year WHO region         Country Beverage Types  Display Value\n",
      "3   1986   Americas        Colombia           Beer           4.27\n",
      "21  1989   Americas      Costa Rica        Spirits           4.51\n",
      "41  1986     Europe  Czech Republic           Beer           6.82\n",
      "57  1989     Europe         Croatia           Wine           5.10\n",
      "91  1989     Europe        Bulgaria           Beer           4.43\n",
      "96  1985     Europe      Luxembourg           Wine           7.38\n"
     ]
    }
   ],
   "source": [
    "import pandas as pd\n",
    "# World alcohol consumption data\n",
    "w_a_con = pd.read_csv(filename)\n",
    "print(\"World alcohol consumption sample data:\")\n",
    "print(w_a_con.head())\n",
    "print(\"\\nThe world alcohol consumption details: average consumption of \\nbeverages per person >=4 and Beverage Types is Beer:\")\n",
    "print(w_a_con[(w_a_con['Display Value'] >= 4) & ((w_a_con['Beverage Types'] == 'Beer') | (w_a_con['Beverage Types'] == 'Wine')| (w_a_con['Beverage Types'] == 'Spirits'))].head(10))"
   ]
  },
  {
   "cell_type": "markdown",
   "id": "be23f592",
   "metadata": {},
   "source": [
    "**9) Escreva um programa usando Pandas que filtra registros na as WHO region que contém a substring \"Ea\"**"
   ]
  },
  {
   "cell_type": "code",
   "execution_count": 10,
   "id": "76d3a3e4",
   "metadata": {
    "ExecuteTime": {
     "end_time": "2022-08-08T12:31:34.129069Z",
     "start_time": "2022-08-08T12:31:34.110434Z"
    },
    "scrolled": true
   },
   "outputs": [
    {
     "name": "stdout",
     "output_type": "stream",
     "text": [
      "World alcohol consumption sample data:\n",
      "   Year       WHO region                Country Beverage Types  Display Value\n",
      "0  1986  Western Pacific               Viet Nam           Wine           0.00\n",
      "1  1986         Americas                Uruguay          Other           0.50\n",
      "2  1985           Africa           Cte d'Ivoire           Wine           1.62\n",
      "3  1986         Americas               Colombia           Beer           4.27\n",
      "4  1987         Americas  Saint Kitts and Nevis           Beer           1.98\n",
      "\n",
      "Match if  a given column has a particular sub string:\n",
      "    Year             WHO region                                Country  \\\n",
      "13  1984  Eastern Mediterranean                            Afghanistan   \n",
      "20  1986        South-East Asia                                Myanmar   \n",
      "25  1984  Eastern Mediterranean                                Tunisia   \n",
      "27  1984  Eastern Mediterranean                                Bahrain   \n",
      "36  1987  Eastern Mediterranean                                  Egypt   \n",
      "38  1987  Eastern Mediterranean                                  Qatar   \n",
      "52  1986  Eastern Mediterranean                           Saudi Arabia   \n",
      "53  1984  Eastern Mediterranean                                 Kuwait   \n",
      "58  1984  Eastern Mediterranean                                Somalia   \n",
      "59  1989  Eastern Mediterranean                   Syrian Arab Republic   \n",
      "60  1987  Eastern Mediterranean             Iran (Islamic Republic of)   \n",
      "63  1985  Eastern Mediterranean                                  Libya   \n",
      "65  1989  Eastern Mediterranean                                Somalia   \n",
      "66  1987  Eastern Mediterranean                                   Iraq   \n",
      "73  1986  Eastern Mediterranean                               Pakistan   \n",
      "75  1989  Eastern Mediterranean                            Afghanistan   \n",
      "84  1986        South-East Asia                              Sri Lanka   \n",
      "87  1989  Eastern Mediterranean                                   Iraq   \n",
      "88  1987  Eastern Mediterranean                                Lebanon   \n",
      "89  1986  Eastern Mediterranean                                Lebanon   \n",
      "97  1984        South-East Asia                              Indonesia   \n",
      "99  1985        South-East Asia  Democratic People's Republic of Korea   \n",
      "\n",
      "   Beverage Types  Display Value  \n",
      "13          Other           0.00  \n",
      "20           Wine           0.00  \n",
      "25          Other           0.00  \n",
      "27           Beer           2.22  \n",
      "36           Beer           0.07  \n",
      "38          Other           0.00  \n",
      "52           Wine           0.00  \n",
      "53           Beer           0.00  \n",
      "58        Spirits           0.00  \n",
      "59          Other           0.00  \n",
      "60          Other           0.00  \n",
      "63          Other           0.00  \n",
      "65           Beer           0.00  \n",
      "66           Wine           0.01  \n",
      "73          Other           0.01  \n",
      "75          Other           0.00  \n",
      "84          Other           0.00  \n",
      "87           Wine           0.01  \n",
      "88           Beer           0.42  \n",
      "89           Wine           0.70  \n",
      "97           Wine           0.00  \n",
      "99           Wine           0.00  \n"
     ]
    }
   ],
   "source": [
    "import pandas as pd\n",
    "# World alcohol consumption data\n",
    "w_a_con = pd.read_csv(filename)\n",
    "print(\"World alcohol consumption sample data:\")\n",
    "print(w_a_con.head())\n",
    "\n",
    "# Remove NA / NaN values\n",
    "new_w_a_con = w_a_con.dropna()\n",
    "\n",
    "\n",
    "print(\"\\nMatch if  a given column has a particular sub string:\")\n",
    "print(new_w_a_con[new_w_a_con[\"WHO region\"].str.contains(\"Ea\")])"
   ]
  },
  {
   "cell_type": "markdown",
   "id": "c9bd4df6",
   "metadata": {},
   "source": [
    "**10) Escreva um programa usando Pandas que irá filtrar registros na coluna ``WHO region`` a partir da lista [\"Africa\", \"Eastern Mediterranean\", \"Europe\"]**"
   ]
  },
  {
   "cell_type": "code",
   "execution_count": 11,
   "id": "035a099a",
   "metadata": {
    "ExecuteTime": {
     "end_time": "2022-08-08T12:31:40.580121Z",
     "start_time": "2022-08-08T12:31:40.566120Z"
    }
   },
   "outputs": [
    {
     "name": "stdout",
     "output_type": "stream",
     "text": [
      "World alcohol consumption sample data:\n",
      "   Year       WHO region                Country Beverage Types  Display Value\n",
      "0  1986  Western Pacific               Viet Nam           Wine           0.00\n",
      "1  1986         Americas                Uruguay          Other           0.50\n",
      "2  1985           Africa           Cte d'Ivoire           Wine           1.62\n",
      "3  1986         Americas               Colombia           Beer           4.27\n",
      "4  1987         Americas  Saint Kitts and Nevis           Beer           1.98\n",
      "\n",
      "Select all rows which not appears in a given list:\n",
      "    Year       WHO region                                Country  \\\n",
      "0   1986  Western Pacific                               Viet Nam   \n",
      "1   1986         Americas                                Uruguay   \n",
      "3   1986         Americas                               Colombia   \n",
      "4   1987         Americas                  Saint Kitts and Nevis   \n",
      "5   1987         Americas                              Guatemala   \n",
      "8   1986         Americas                    Antigua and Barbuda   \n",
      "11  1989         Americas                              Guatemala   \n",
      "12  1985  Western Pacific       Lao People's Democratic Republic   \n",
      "14  1985  Western Pacific                               Viet Nam   \n",
      "16  1984         Americas                             Costa Rica   \n",
      "20  1986  South-East Asia                                Myanmar   \n",
      "21  1989         Americas                             Costa Rica   \n",
      "28  1987  Western Pacific                               Viet Nam   \n",
      "31  1986  Western Pacific       Micronesia (Federated States of)   \n",
      "35  1985         Americas                  Saint Kitts and Nevis   \n",
      "43  1984  Western Pacific                                  China   \n",
      "46  1987         Americas                    Trinidad and Tobago   \n",
      "47  1986         Americas                                 Mexico   \n",
      "48  1987         Americas                              Nicaragua   \n",
      "54  1984         Americas                            El Salvador   \n",
      "55  1989         Americas                               Suriname   \n",
      "56  1987  Western Pacific                               Viet Nam   \n",
      "61  1984  Western Pacific                       Papua New Guinea   \n",
      "62  1987         Americas                               Suriname   \n",
      "64  1989         Americas       Bolivia (Plurinational State of)   \n",
      "74  1986         Americas       Bolivia (Plurinational State of)   \n",
      "78  1989         Americas                                Jamaica   \n",
      "84  1986  South-East Asia                              Sri Lanka   \n",
      "86  1986         Americas                                Bahamas   \n",
      "97  1984  South-East Asia                              Indonesia   \n",
      "99  1985  South-East Asia  Democratic People's Republic of Korea   \n",
      "\n",
      "   Beverage Types  Display Value  \n",
      "0            Wine           0.00  \n",
      "1           Other           0.50  \n",
      "3            Beer           4.27  \n",
      "4            Beer           1.98  \n",
      "5           Other           0.00  \n",
      "8         Spirits           1.55  \n",
      "11           Beer           0.62  \n",
      "12           Beer           0.00  \n",
      "14        Spirits           0.05  \n",
      "16           Wine           0.06  \n",
      "20           Wine           0.00  \n",
      "21        Spirits           4.51  \n",
      "28           Beer           0.11  \n",
      "31           Wine           0.00  \n",
      "35        Spirits           2.24  \n",
      "43           Wine           0.03  \n",
      "46        Spirits           2.26  \n",
      "47          Other           0.04  \n",
      "48           Beer           0.70  \n",
      "54        Spirits           1.81  \n",
      "55           Wine           0.04  \n",
      "56           Wine           0.00  \n",
      "61        Spirits           0.08  \n",
      "62          Other           0.00  \n",
      "64           Beer           1.26  \n",
      "74        Spirits           2.06  \n",
      "78          Other           0.00  \n",
      "84          Other           0.00  \n",
      "86           Wine           1.83  \n",
      "97           Wine           0.00  \n",
      "99           Wine           0.00  \n"
     ]
    }
   ],
   "source": [
    "import pandas as pd\n",
    "# World alcohol consumption data\n",
    "new_w_a_con = pd.read_csv(filename)\n",
    "print(\"World alcohol consumption sample data:\")\n",
    "print(new_w_a_con.head())\n",
    "\n",
    "print(\"\\nSelect all rows which not appears in a given list:\")\n",
    "who_region = [\"Africa\", \"Eastern Mediterranean\", \"Europe\"]\n",
    "\n",
    "flt_wine = ~new_w_a_con[\"WHO region\"].isin(who_region)\n",
    "print(new_w_a_con[flt_wine])"
   ]
  },
  {
   "cell_type": "code",
   "execution_count": null,
   "id": "925a4f1f",
   "metadata": {},
   "outputs": [],
   "source": []
  },
  {
   "cell_type": "code",
   "execution_count": null,
   "id": "db7e4722",
   "metadata": {},
   "outputs": [],
   "source": []
  }
 ],
 "metadata": {
  "kernelspec": {
   "display_name": "Python 3",
   "language": "python",
   "name": "python3"
  },
  "language_info": {
   "codemirror_mode": {
    "name": "ipython",
    "version": 3
   },
   "file_extension": ".py",
   "mimetype": "text/x-python",
   "name": "python",
   "nbconvert_exporter": "python",
   "pygments_lexer": "ipython3",
   "version": "3.9.15"
  }
 },
 "nbformat": 4,
 "nbformat_minor": 5
}
