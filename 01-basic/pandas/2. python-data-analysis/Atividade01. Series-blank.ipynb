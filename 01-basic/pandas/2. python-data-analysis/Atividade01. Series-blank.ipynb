{
 "cells": [
  {
   "cell_type": "markdown",
   "id": "ca29b781",
   "metadata": {},
   "source": [
    "# Atividade de Pandas -\n",
    "#### Conteúdo: \n",
    "- Series"
   ]
  },
  {
   "cell_type": "markdown",
   "id": "35fb200c",
   "metadata": {},
   "source": [
    "**1) Crie uma Series com o nome de cinco pessoas que você conhece, onde o index é a idade dessas pessoas**"
   ]
  },
  {
   "cell_type": "code",
   "execution_count": null,
   "id": "f66407e2",
   "metadata": {},
   "outputs": [],
   "source": []
  },
  {
   "cell_type": "markdown",
   "id": "f05c40c7",
   "metadata": {},
   "source": [
    "**2) Escreva um programa que irá converter um Numpy Array para uma Series**"
   ]
  },
  {
   "cell_type": "code",
   "execution_count": null,
   "id": "ce44130e",
   "metadata": {
    "ExecuteTime": {
     "end_time": "2022-06-29T12:29:57.488627Z",
     "start_time": "2022-06-29T12:29:57.482630Z"
    }
   },
   "outputs": [],
   "source": []
  },
  {
   "cell_type": "markdown",
   "id": "51b50b68",
   "metadata": {},
   "source": [
    "**3) Escreva um programa que irá converter uma Series para um array**"
   ]
  },
  {
   "cell_type": "code",
   "execution_count": null,
   "id": "b7556847",
   "metadata": {},
   "outputs": [],
   "source": []
  },
  {
   "cell_type": "markdown",
   "id": "71003097",
   "metadata": {},
   "source": [
    "**4) Implemente uma programa usando Python que cálcula a idade média, o desvio padrão, o somatório, os valores máximo e mínimos de uma series**"
   ]
  },
  {
   "cell_type": "code",
   "execution_count": null,
   "id": "fde8b5c0",
   "metadata": {
    "ExecuteTime": {
     "end_time": "2022-06-29T12:29:01.120113Z",
     "start_time": "2022-06-29T12:29:01.115115Z"
    }
   },
   "outputs": [],
   "source": []
  },
  {
   "cell_type": "markdown",
   "id": "063d44e1",
   "metadata": {},
   "source": [
    "**5) Escreva um programa que irá ordenar uma Series**"
   ]
  },
  {
   "cell_type": "code",
   "execution_count": null,
   "id": "b73b8452",
   "metadata": {
    "ExecuteTime": {
     "end_time": "2022-06-29T12:31:10.397180Z",
     "start_time": "2022-06-29T12:31:10.387418Z"
    }
   },
   "outputs": [],
   "source": []
  },
  {
   "cell_type": "code",
   "execution_count": null,
   "id": "1d63c3ec",
   "metadata": {},
   "outputs": [],
   "source": []
  }
 ],
 "metadata": {
  "kernelspec": {
   "display_name": "Python 3",
   "language": "python",
   "name": "python3"
  },
  "language_info": {
   "codemirror_mode": {
    "name": "ipython",
    "version": 3
   },
   "file_extension": ".py",
   "mimetype": "text/x-python",
   "name": "python",
   "nbconvert_exporter": "python",
   "pygments_lexer": "ipython3",
   "version": "3.9.15"
  }
 },
 "nbformat": 4,
 "nbformat_minor": 5
}
