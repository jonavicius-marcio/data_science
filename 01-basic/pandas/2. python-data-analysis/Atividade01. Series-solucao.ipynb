{
 "cells": [
  {
   "cell_type": "markdown",
   "id": "ca29b781",
   "metadata": {},
   "source": [
    "# Atividade de Pandas -\n",
    "#### Conteúdo: \n",
    "- Series"
   ]
  },
  {
   "cell_type": "markdown",
   "id": "35fb200c",
   "metadata": {},
   "source": [
    "**1) Crie uma Series com o nome de cinco pessoas que você conhece, onde o index é a idade dessas pessoas**"
   ]
  },
  {
   "cell_type": "code",
   "execution_count": 1,
   "id": "f66407e2",
   "metadata": {},
   "outputs": [
    {
     "data": {
      "text/plain": [
       "15    pessoa1\n",
       "26    pessoa2\n",
       "36    pessoa3\n",
       "42    pessoa4\n",
       "85    pessoa5\n",
       "dtype: object"
      ]
     },
     "execution_count": 1,
     "metadata": {},
     "output_type": "execute_result"
    }
   ],
   "source": [
    "import pandas as pd\n",
    "\n",
    "nomes = ['pessoa1','pessoa2','pessoa3', 'pessoa4', 'pessoa5']\n",
    "idade = [15, 26, 36, 42, 85]\n",
    "\n",
    "serie = pd.Series(data=nomes, index=idade)\n",
    "serie"
   ]
  },
  {
   "cell_type": "markdown",
   "id": "f05c40c7",
   "metadata": {},
   "source": [
    "**2) Escreva um programa que irá converter um Numpy Array para uma Series**"
   ]
  },
  {
   "cell_type": "code",
   "execution_count": 2,
   "id": "ce44130e",
   "metadata": {
    "ExecuteTime": {
     "end_time": "2022-06-29T12:29:57.488627Z",
     "start_time": "2022-06-29T12:29:57.482630Z"
    }
   },
   "outputs": [
    {
     "name": "stdout",
     "output_type": "stream",
     "text": [
      "NumPy array:\n",
      "[10 20 30 40 50]\n",
      "Converted Pandas series:\n",
      "0    10\n",
      "1    20\n",
      "2    30\n",
      "3    40\n",
      "4    50\n",
      "dtype: int64\n"
     ]
    }
   ],
   "source": [
    "import numpy as np\n",
    "import pandas as pd\n",
    "np_array = np.array([10, 20, 30, 40, 50])\n",
    "print(\"NumPy array:\")\n",
    "print(np_array)\n",
    "new_series = pd.Series(np_array)\n",
    "print(\"Converted Pandas series:\")\n",
    "print(new_series)"
   ]
  },
  {
   "cell_type": "markdown",
   "id": "51b50b68",
   "metadata": {},
   "source": [
    "**3) Escreva um programa que irá converter uma Series para um array**"
   ]
  },
  {
   "cell_type": "code",
   "execution_count": 3,
   "id": "b7556847",
   "metadata": {},
   "outputs": [
    {
     "name": "stdout",
     "output_type": "stream",
     "text": [
      "Original Data Series:\n",
      "0       100\n",
      "1       200\n",
      "2    python\n",
      "3    300.12\n",
      "4       400\n",
      "dtype: object\n",
      "Series to an array\n",
      "['100' '200' 'python' '300.12' '400']\n"
     ]
    }
   ],
   "source": [
    "import pandas as pd\n",
    "import numpy as np\n",
    "s1 = pd.Series(['100', '200', 'python', '300.12', '400'])\n",
    "print(\"Original Data Series:\")\n",
    "print(s1)\n",
    "print(\"Series to an array\")\n",
    "a = np.array(s1.values.tolist())\n",
    "print (a)"
   ]
  },
  {
   "cell_type": "markdown",
   "id": "71003097",
   "metadata": {},
   "source": [
    "**4) Implemente uma programa usando Python que cálcula a idade média, o desvio padrão, o somatório, os valores máximo e mínimos de uma series**"
   ]
  },
  {
   "cell_type": "code",
   "execution_count": 4,
   "id": "fde8b5c0",
   "metadata": {
    "ExecuteTime": {
     "end_time": "2022-06-29T12:29:01.120113Z",
     "start_time": "2022-06-29T12:29:01.115115Z"
    }
   },
   "outputs": [
    {
     "data": {
      "text/plain": [
       "count     5.00000\n",
       "mean     40.80000\n",
       "std      26.75257\n",
       "min      15.00000\n",
       "25%      26.00000\n",
       "50%      36.00000\n",
       "75%      42.00000\n",
       "max      85.00000\n",
       "dtype: float64"
      ]
     },
     "execution_count": 4,
     "metadata": {},
     "output_type": "execute_result"
    }
   ],
   "source": [
    "import pandas as pd\n",
    "\n",
    "nomes = ['pessoa1','pessoa2','pessoa3', 'pessoa4', 'pessoa5']\n",
    "idade = [15, 26, 36, 42, 85]\n",
    "\n",
    "serie = pd.Series(data=idade, index=nomes)\n",
    "\n",
    "serie.describe()"
   ]
  },
  {
   "cell_type": "code",
   "execution_count": null,
   "id": "f492e23f",
   "metadata": {},
   "outputs": [],
   "source": []
  },
  {
   "cell_type": "markdown",
   "id": "063d44e1",
   "metadata": {},
   "source": [
    "**5) Escreva um programa que irá ordenar uma Series**"
   ]
  },
  {
   "cell_type": "code",
   "execution_count": null,
   "id": "b73b8452",
   "metadata": {
    "ExecuteTime": {
     "end_time": "2022-06-29T12:31:10.397180Z",
     "start_time": "2022-06-29T12:31:10.387418Z"
    }
   },
   "outputs": [],
   "source": [
    "import pandas as pd\n",
    "s = pd.Series(['100', '200', 'python', '300.12', '400'])\n",
    "print(\"Original Data Series:\")\n",
    "print(s)\n",
    "new_s = pd.Series(s).sort_values()\n",
    "print(new_s)"
   ]
  },
  {
   "cell_type": "code",
   "execution_count": null,
   "id": "1d63c3ec",
   "metadata": {},
   "outputs": [],
   "source": []
  }
 ],
 "metadata": {
  "kernelspec": {
   "display_name": "Python 3",
   "language": "python",
   "name": "python3"
  },
  "language_info": {
   "codemirror_mode": {
    "name": "ipython",
    "version": 3
   },
   "file_extension": ".py",
   "mimetype": "text/x-python",
   "name": "python",
   "nbconvert_exporter": "python",
   "pygments_lexer": "ipython3",
   "version": "3.9.15"
  }
 },
 "nbformat": 4,
 "nbformat_minor": 5
}
