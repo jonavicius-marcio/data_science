{
 "cells": [
  {
   "cell_type": "markdown",
   "id": "757ff781",
   "metadata": {},
   "source": [
    "# Aula 01: Introdução aos Pandas\n",
    "\n",
    "### Q1) O que é Pandas?\n",
    "Pandas é uma biblioteca de código fonte aberto escrita sobre o Numpy. Permite rápida visualização e limpeza de diferentes tipos de dados. Além de possuir diferentes métodos de visualização de dados, semelhante ao Excel.\n",
    "\n",
    "\n",
    "### Q2) Que tipo de dados Pandas trabalha?\n",
    "O pandas trabalha com uma estrutura bidiomencional chamada DataFrame que pode armazenar diferentes tipos de dados como strings, inteiros, pontos flutuantes dados categoricos entre outros. Cada coluna de um DataFrame é uma Series.\n",
    "\n",
    "\n",
    "<img src='https://pandas.pydata.org/docs/_images/01_table_dataframe.svg'>"
   ]
  },
  {
   "cell_type": "code",
   "execution_count": null,
   "id": "d26bee58",
   "metadata": {},
   "outputs": [],
   "source": [
    "# Como importar bibliotecas no Python??\n",
    "import numpy as np\n",
    "import pandas as pd"
   ]
  },
  {
   "cell_type": "code",
   "execution_count": null,
   "id": "933ddf88",
   "metadata": {},
   "outputs": [],
   "source": [
    "print(f'Versão do Pandas: {pd.__version__}')\n",
    "print(f'Versão do Numpy: {np.__version__}')"
   ]
  },
  {
   "cell_type": "markdown",
   "id": "901ffbc4",
   "metadata": {},
   "source": [
    "# 1. Series\n",
    "\n",
    "O primeiro tipo de dado que aprenderemos é a Serie. Vamos importar Pandas e explorar tal objeto.\n",
    "\n",
    "A Serie é muito semelhante a uma matriz NumPy (na verdade, ela é construída em cima do objeto de matriz NumPy). O que diferencia a matriz NumPy de uma Série, é que uma Serie pode ter rótulos de eixos, o que significa que pode ser indexado por um rótulo, em vez de apenas uma localização numérica. Também não precisa manter dados numéricos, ele pode conter qualquer objeto Python arbitrário.\n",
    "\n",
    "Vamos explorar este conceito através de alguns exemplos:\n",
    "\n",
    "\n",
    "- Sumário\n",
    "    - 1. Criando series\n",
    "    - 2. Operações em Series\n",
    "    - 3. Ordenando e Reindexando Series"
   ]
  },
  {
   "cell_type": "markdown",
   "id": "ce5c1189",
   "metadata": {},
   "source": [
    "### 1.1 Criando uma Serie\n",
    "\n",
    "Você pode converter uma lista, numpy array ou dicionário para uma serie:"
   ]
  },
  {
   "cell_type": "code",
   "execution_count": null,
   "id": "53d6d1fc",
   "metadata": {},
   "outputs": [],
   "source": [
    "minha_lista = [10,20,30]"
   ]
  },
  {
   "cell_type": "code",
   "execution_count": null,
   "id": "f26da9ce",
   "metadata": {},
   "outputs": [],
   "source": [
    "pd.Series(data=minha_lista)"
   ]
  },
  {
   "cell_type": "markdown",
   "id": "a2d890c4",
   "metadata": {},
   "source": [
    "#### Definindo uma Series a partir de uma lista"
   ]
  },
  {
   "cell_type": "code",
   "execution_count": null,
   "id": "b8b32d61",
   "metadata": {},
   "outputs": [],
   "source": [
    "# definindo array\n",
    "labels = ['a','b','c']\n",
    "pd.Series(data=minha_lista,index=labels)"
   ]
  },
  {
   "cell_type": "code",
   "execution_count": null,
   "id": "4625b8e2",
   "metadata": {},
   "outputs": [],
   "source": []
  },
  {
   "cell_type": "markdown",
   "id": "76dc2444",
   "metadata": {},
   "source": [
    "#### Definindo uma Series através de um NumPy Arrays **"
   ]
  },
  {
   "cell_type": "code",
   "execution_count": null,
   "id": "ea7c8780",
   "metadata": {},
   "outputs": [],
   "source": [
    "arr = np.array([1,2,3])"
   ]
  },
  {
   "cell_type": "code",
   "execution_count": null,
   "id": "11bfe566",
   "metadata": {},
   "outputs": [],
   "source": [
    "pd.Series(arr)"
   ]
  },
  {
   "cell_type": "code",
   "execution_count": null,
   "id": "7bf1eccd",
   "metadata": {},
   "outputs": [],
   "source": [
    "pd.Series(arr,labels)"
   ]
  },
  {
   "cell_type": "markdown",
   "id": "ae43f199",
   "metadata": {},
   "source": [
    "#### Definindo uma Series a partir de Dicionários **"
   ]
  },
  {
   "cell_type": "code",
   "execution_count": null,
   "id": "86dc4475",
   "metadata": {},
   "outputs": [],
   "source": [
    "# definindo um dicionário\n",
    "d = {'a':10,'b':20,'c':30}\n",
    "pd.Series(d)"
   ]
  },
  {
   "cell_type": "markdown",
   "id": "4c8aaa22",
   "metadata": {},
   "source": [
    "### 1.2 Criando uma série usando labels e objetos\n",
    "\n",
    "Uma série de pandas pode conter uma variedade de tipos de objeto:"
   ]
  },
  {
   "cell_type": "code",
   "execution_count": null,
   "id": "cbf5d870",
   "metadata": {},
   "outputs": [],
   "source": [
    "pd.Series(data=labels)"
   ]
  },
  {
   "cell_type": "code",
   "execution_count": null,
   "id": "e8edf1b0",
   "metadata": {},
   "outputs": [],
   "source": [
    "# Series também recebe funções (embora seja improvável que você usar isso)\n",
    "pd.Series([sum,print,len])"
   ]
  },
  {
   "cell_type": "markdown",
   "id": "b5db89a3",
   "metadata": {},
   "source": [
    "### 1.3 Usando um Índice\n",
    "\n",
    "A chave para usar uma Serie é entender seu índice. O Pandas faz uso desses nomes ou números de índice, permitindo pesquisas rápidas de informações (funciona como uma tabela de hash ou dicionário).\n",
    "\n",
    "Vamos ver alguns exemplos de como pegar informações de uma Serie. Vamos criar duas Series, ser1 e ser2:"
   ]
  },
  {
   "cell_type": "code",
   "execution_count": null,
   "id": "7fa49067",
   "metadata": {},
   "outputs": [],
   "source": [
    "ser1 = pd.Series([1,2,3,4], index = ['EUA', 'Alemanha','USSR', 'Japão'])                                   "
   ]
  },
  {
   "cell_type": "code",
   "execution_count": null,
   "id": "89f49cb7",
   "metadata": {},
   "outputs": [],
   "source": [
    "ser1"
   ]
  },
  {
   "cell_type": "code",
   "execution_count": null,
   "id": "381340d7",
   "metadata": {},
   "outputs": [],
   "source": [
    "ser2 = pd.Series([1,2,5,4],index = ['EUA', 'Alemanha','Italia', 'Japão'])                                   "
   ]
  },
  {
   "cell_type": "code",
   "execution_count": null,
   "id": "dd1c101e",
   "metadata": {},
   "outputs": [],
   "source": [
    "ser2"
   ]
  },
  {
   "cell_type": "code",
   "execution_count": null,
   "id": "d89903a1",
   "metadata": {},
   "outputs": [],
   "source": [
    "ser1['EUA']"
   ]
  },
  {
   "cell_type": "markdown",
   "id": "30ac7330",
   "metadata": {},
   "source": [
    "### 1.4 Operações em Series"
   ]
  },
  {
   "cell_type": "code",
   "execution_count": null,
   "id": "d942f2dd",
   "metadata": {},
   "outputs": [],
   "source": [
    "ser1 + ser2"
   ]
  },
  {
   "cell_type": "code",
   "execution_count": null,
   "id": "c005d7c7",
   "metadata": {},
   "outputs": [],
   "source": [
    "ser1.min()"
   ]
  },
  {
   "cell_type": "code",
   "execution_count": null,
   "id": "0410cd91",
   "metadata": {},
   "outputs": [],
   "source": [
    "ser1.max()"
   ]
  },
  {
   "cell_type": "code",
   "execution_count": null,
   "id": "e21bbeae",
   "metadata": {},
   "outputs": [],
   "source": [
    "ser1.describe()"
   ]
  },
  {
   "cell_type": "markdown",
   "id": "8bf4d188",
   "metadata": {},
   "source": [
    "### 1.5 Ordenando Series"
   ]
  },
  {
   "cell_type": "code",
   "execution_count": null,
   "id": "53560e8e",
   "metadata": {},
   "outputs": [],
   "source": [
    "ser1"
   ]
  },
  {
   "cell_type": "code",
   "execution_count": null,
   "id": "dc90ba16",
   "metadata": {},
   "outputs": [],
   "source": [
    "ser1.sort_values(ascending=True)"
   ]
  },
  {
   "cell_type": "markdown",
   "id": "d4bc6af1",
   "metadata": {},
   "source": [
    "### 2. Criando um DataFrame \n",
    "\n",
    "#### 2.1 Usando uma matriz randômica"
   ]
  },
  {
   "cell_type": "code",
   "execution_count": null,
   "id": "478e80c9",
   "metadata": {},
   "outputs": [],
   "source": [
    "from numpy.random import randn\n",
    "np.random.seed(101)"
   ]
  },
  {
   "cell_type": "code",
   "execution_count": null,
   "id": "3179a162",
   "metadata": {},
   "outputs": [],
   "source": [
    "'W X Y Z'.split()"
   ]
  },
  {
   "cell_type": "code",
   "execution_count": null,
   "id": "c175804f",
   "metadata": {},
   "outputs": [],
   "source": [
    "matriz = randn(20,4)\n",
    "matriz"
   ]
  },
  {
   "cell_type": "code",
   "execution_count": null,
   "id": "c70acc9e",
   "metadata": {},
   "outputs": [],
   "source": [
    "df = pd.DataFrame(matriz,columns='W X Y Z'.split())"
   ]
  },
  {
   "cell_type": "markdown",
   "id": "ef4cf914",
   "metadata": {},
   "source": [
    "#### 2.2 Métodos principais para entendimento de dados"
   ]
  },
  {
   "cell_type": "code",
   "execution_count": null,
   "id": "9e9d48f3",
   "metadata": {},
   "outputs": [],
   "source": [
    "df.head()"
   ]
  },
  {
   "cell_type": "code",
   "execution_count": null,
   "id": "ea6d0154",
   "metadata": {},
   "outputs": [],
   "source": [
    "df.tail()"
   ]
  },
  {
   "cell_type": "code",
   "execution_count": null,
   "id": "c3db8567",
   "metadata": {},
   "outputs": [],
   "source": [
    "df.sample(10)"
   ]
  },
  {
   "cell_type": "code",
   "execution_count": null,
   "id": "d765d214",
   "metadata": {},
   "outputs": [],
   "source": [
    "df.sample(frac=0.1)"
   ]
  },
  {
   "cell_type": "code",
   "execution_count": null,
   "id": "92512478",
   "metadata": {},
   "outputs": [],
   "source": [
    "df.info()"
   ]
  },
  {
   "cell_type": "code",
   "execution_count": null,
   "id": "b83034b2",
   "metadata": {},
   "outputs": [],
   "source": [
    "df.shape"
   ]
  },
  {
   "cell_type": "markdown",
   "id": "ed0eab9d",
   "metadata": {},
   "source": [
    "#### 2.2 Leitura e saída de Dados CSV do disco\n",
    "\n",
    "<img src='https://pandas.pydata.org/docs/_images/02_io_readwrite.svg'>"
   ]
  },
  {
   "cell_type": "markdown",
   "id": "f8449753",
   "metadata": {},
   "source": [
    "##### Saída de Dados"
   ]
  },
  {
   "cell_type": "code",
   "execution_count": null,
   "id": "d115edbe",
   "metadata": {},
   "outputs": [],
   "source": [
    "#CSV\n",
    "df.to_csv('data/exemplo.csv', index=False)"
   ]
  },
  {
   "cell_type": "code",
   "execution_count": null,
   "id": "76bcdb6c",
   "metadata": {},
   "outputs": [],
   "source": [
    "#Excel\n",
    "df.to_excel('data/exemplo.xlsx', index=False)"
   ]
  },
  {
   "cell_type": "code",
   "execution_count": null,
   "id": "519a1372",
   "metadata": {},
   "outputs": [],
   "source": [
    "#JSON\n",
    "df.to_json('data/exemplo.json', orient='table')"
   ]
  },
  {
   "cell_type": "markdown",
   "id": "36ac9592",
   "metadata": {},
   "source": [
    "##### Leitura de Dados "
   ]
  },
  {
   "cell_type": "code",
   "execution_count": null,
   "id": "6f3613a2",
   "metadata": {},
   "outputs": [],
   "source": [
    "#CSV\n",
    "df_csv = pd.read_csv('data/exemplo.csv')\n",
    "df_csv.head()"
   ]
  },
  {
   "cell_type": "code",
   "execution_count": null,
   "id": "eec7aaab",
   "metadata": {},
   "outputs": [],
   "source": [
    "#Excel\n",
    "df_excel = pd.read_excel('data/exemplo.xlsx')\n",
    "df_excel.head()"
   ]
  },
  {
   "cell_type": "code",
   "execution_count": null,
   "id": "37e8beba",
   "metadata": {},
   "outputs": [],
   "source": [
    "#JSON\n",
    "df_json = pd.read_json('data/exemplo.json', orient='table')\n",
    "df_json.head()"
   ]
  },
  {
   "cell_type": "markdown",
   "id": "05c64aab",
   "metadata": {},
   "source": [
    "#### 2.3 Leitura de dados da internet\n",
    "\n",
    "##### HTML\n",
    "- Para usar o pd.read_html pode ser necessário instalar as seguintes dependências\n",
    "    - conda install lxml -y\n",
    "    - conda install html5lib\n",
    "    - conda install BeautifulSoup4"
   ]
  },
  {
   "cell_type": "code",
   "execution_count": null,
   "id": "6be0f77e",
   "metadata": {},
   "outputs": [],
   "source": [
    "url = 'https://en.wikipedia.org/wiki/Minnesota'\n",
    "tables = pd.read_html(url)\n",
    "df_html = tables[0]"
   ]
  },
  {
   "cell_type": "code",
   "execution_count": null,
   "id": "32e67d29",
   "metadata": {},
   "outputs": [],
   "source": [
    "df_html"
   ]
  },
  {
   "cell_type": "markdown",
   "id": "7afdd7a2",
   "metadata": {},
   "source": [
    "### 3. Operações em Dataframes\n",
    "\n",
    "### 3.1 Manipulando index"
   ]
  },
  {
   "cell_type": "code",
   "execution_count": null,
   "id": "55a3669c",
   "metadata": {},
   "outputs": [],
   "source": [
    "df.head()"
   ]
  },
  {
   "cell_type": "code",
   "execution_count": null,
   "id": "7da97cc3",
   "metadata": {},
   "outputs": [],
   "source": [
    "df.index"
   ]
  },
  {
   "cell_type": "code",
   "execution_count": null,
   "id": "f22558f9",
   "metadata": {},
   "outputs": [],
   "source": [
    "list(df.index)"
   ]
  },
  {
   "cell_type": "markdown",
   "id": "1ade639d",
   "metadata": {},
   "source": [
    "##### Selecionando um novo index"
   ]
  },
  {
   "cell_type": "code",
   "execution_count": null,
   "id": "584b9b91",
   "metadata": {},
   "outputs": [],
   "source": [
    "df.set_index('W')"
   ]
  },
  {
   "cell_type": "code",
   "execution_count": null,
   "id": "948f6ecf",
   "metadata": {},
   "outputs": [],
   "source": [
    "##### Resetando o índice atual\n",
    "df.reset_index(inplace=True)"
   ]
  },
  {
   "cell_type": "code",
   "execution_count": null,
   "id": "f56e3964",
   "metadata": {},
   "outputs": [],
   "source": [
    "df.set_index('W', inplace=True)\n",
    "df"
   ]
  },
  {
   "cell_type": "code",
   "execution_count": null,
   "id": "89bc471f",
   "metadata": {},
   "outputs": [],
   "source": [
    "df.reset_index(inplace=True)"
   ]
  },
  {
   "cell_type": "code",
   "execution_count": null,
   "id": "b2401e72",
   "metadata": {},
   "outputs": [],
   "source": [
    "df.set_index('Z', inplace=True)\n",
    "df"
   ]
  },
  {
   "cell_type": "code",
   "execution_count": null,
   "id": "6d519d33",
   "metadata": {},
   "outputs": [],
   "source": [
    "df.reset_index(inplace=True)"
   ]
  },
  {
   "cell_type": "markdown",
   "id": "122d58ac",
   "metadata": {},
   "source": [
    "### 4. Seleção de Dados usando Pandas\n",
    "\n",
    "<img src='https://pandas.pydata.org/docs/_images/03_subset_rows.svg'>\n",
    "\n",
    "Existem quatro abordagens principais de seleção de dados usando um dataframe\n",
    "- 1. Selecionando colunas\n",
    "- 2. Seleção de dados usando `loc` e `iloc`\n",
    "- 3. Seleção condicional\n",
    "- 4. Seleção de dados por tipo de dados\n"
   ]
  },
  {
   "cell_type": "markdown",
   "id": "50a02ad5",
   "metadata": {},
   "source": [
    "#### 4.1 Selecionar por coluna"
   ]
  },
  {
   "cell_type": "code",
   "execution_count": null,
   "id": "eda28393",
   "metadata": {},
   "outputs": [],
   "source": [
    "df['W']"
   ]
  },
  {
   "cell_type": "code",
   "execution_count": null,
   "id": "374c6593",
   "metadata": {},
   "outputs": [],
   "source": [
    "# Sintaxe SQL (Não recomendado!)\n",
    "df.W"
   ]
  },
  {
   "cell_type": "code",
   "execution_count": null,
   "id": "33663bd1",
   "metadata": {},
   "outputs": [],
   "source": [
    "#Selecionar mais de uma coluna\n",
    "df[['W','Z']]"
   ]
  },
  {
   "cell_type": "code",
   "execution_count": null,
   "id": "3ebb9354",
   "metadata": {},
   "outputs": [],
   "source": [
    "#Selecionar mais de uma coluna\n",
    "df[['X','Z']]"
   ]
  },
  {
   "cell_type": "markdown",
   "id": "3f7e4764",
   "metadata": {},
   "source": [
    "#### 4.2 Selecão por index (loc) ou posição(iloc)\n",
    "\n",
    "O método ``loc`` faz seleção usando o index do data frame, tanto para linha como para coluna. \n",
    "\n",
    "``df.loc[rows, cols]``"
   ]
  },
  {
   "cell_type": "code",
   "execution_count": null,
   "id": "7212e6de",
   "metadata": {},
   "outputs": [],
   "source": [
    "df.head()"
   ]
  },
  {
   "cell_type": "code",
   "execution_count": null,
   "id": "9d861e00",
   "metadata": {},
   "outputs": [],
   "source": [
    "df.loc[5:10]"
   ]
  },
  {
   "cell_type": "code",
   "execution_count": null,
   "id": "92adfecd",
   "metadata": {},
   "outputs": [],
   "source": [
    "df.loc[10:12, ['X','Z']]"
   ]
  },
  {
   "cell_type": "markdown",
   "id": "c4e19619",
   "metadata": {},
   "source": [
    "O método ``iloc`` faz seleção usando a posição dos dados no data frame, tanto para linha como para coluna. "
   ]
  },
  {
   "cell_type": "code",
   "execution_count": null,
   "id": "7dfc2ae8",
   "metadata": {},
   "outputs": [],
   "source": [
    "df.iloc[2]"
   ]
  },
  {
   "cell_type": "code",
   "execution_count": null,
   "id": "08fbb52e",
   "metadata": {},
   "outputs": [],
   "source": [
    "df.iloc[5:10]"
   ]
  },
  {
   "cell_type": "code",
   "execution_count": null,
   "id": "15b0f86e",
   "metadata": {},
   "outputs": [],
   "source": [
    "df.iloc[5:10, 2]"
   ]
  },
  {
   "cell_type": "markdown",
   "id": "b8ed878e",
   "metadata": {},
   "source": [
    "#### Diferenciando LOC x ILOC"
   ]
  },
  {
   "cell_type": "code",
   "execution_count": null,
   "id": "02c5eabd",
   "metadata": {},
   "outputs": [],
   "source": [
    "import random"
   ]
  },
  {
   "cell_type": "code",
   "execution_count": null,
   "id": "1e0d4c66",
   "metadata": {},
   "outputs": [],
   "source": [
    "n_rows = df.shape[0]\n",
    "meses = ['jan', 'fev', 'mar', 'abr', 'mai', 'jun', 'jul', 'ago', 'out', 'nov', 'dez'] * 2\n",
    "df['mes'] = random.sample(meses, n_rows)"
   ]
  },
  {
   "cell_type": "code",
   "execution_count": null,
   "id": "1c46367b",
   "metadata": {},
   "outputs": [],
   "source": [
    "%%time\n",
    "df.set_index('mes', inplace=True)\n",
    "df.head()"
   ]
  },
  {
   "cell_type": "code",
   "execution_count": null,
   "id": "bc8a85b0",
   "metadata": {},
   "outputs": [],
   "source": [
    "df.loc['fev', ['X','W']]"
   ]
  },
  {
   "cell_type": "code",
   "execution_count": null,
   "id": "6e78aa2d",
   "metadata": {},
   "outputs": [],
   "source": [
    "df.reset_index(inplace=True)"
   ]
  },
  {
   "cell_type": "markdown",
   "id": "9ddee56e",
   "metadata": {},
   "source": [
    "#### 4.3 Seleção condicional"
   ]
  },
  {
   "cell_type": "code",
   "execution_count": null,
   "id": "660d063c",
   "metadata": {},
   "outputs": [],
   "source": [
    "df.head()"
   ]
  },
  {
   "cell_type": "code",
   "execution_count": null,
   "id": "165e8fb8",
   "metadata": {},
   "outputs": [],
   "source": [
    "filter_W_positivo = df['W'] > 0\n",
    "filter_W_negativo = df['W'] < 0"
   ]
  },
  {
   "cell_type": "code",
   "execution_count": null,
   "id": "611b032d",
   "metadata": {},
   "outputs": [],
   "source": [
    "df[filter_W_positivo]"
   ]
  },
  {
   "cell_type": "code",
   "execution_count": null,
   "id": "12ad869d",
   "metadata": {},
   "outputs": [],
   "source": [
    "#o filtro pode ser passado diretamente\n",
    "df[df['W'] > 0]"
   ]
  },
  {
   "cell_type": "markdown",
   "id": "1092d0b0",
   "metadata": {},
   "source": [
    "Para duas condições, você pode usar ``|`` e ``&`` com parênteses:"
   ]
  },
  {
   "cell_type": "code",
   "execution_count": null,
   "id": "95e5c1ea",
   "metadata": {},
   "outputs": [],
   "source": [
    "filter_W_Y_positivo = (df['W']>0) & (df['Y'] > 0)\n",
    "df[filter_W_Y_positivo]"
   ]
  },
  {
   "cell_type": "markdown",
   "id": "aa9af2ea",
   "metadata": {},
   "source": [
    "Você pode selecionar dados fazendo verificações de dados de texto baseado em regex"
   ]
  },
  {
   "cell_type": "code",
   "execution_count": null,
   "id": "0d25343b",
   "metadata": {},
   "outputs": [],
   "source": [
    "df[df['mes'].str.contains('a')]"
   ]
  },
  {
   "cell_type": "code",
   "execution_count": null,
   "id": "78eeb0a7",
   "metadata": {},
   "outputs": [],
   "source": [
    "#Mêses que começa com a ``letra a``\n",
    "df[df['mes'].str.contains('^a')]"
   ]
  },
  {
   "cell_type": "code",
   "execution_count": null,
   "id": "425cb609",
   "metadata": {},
   "outputs": [],
   "source": [
    "df[df['mes'].str.contains('^[a-z]')]"
   ]
  },
  {
   "cell_type": "code",
   "execution_count": null,
   "id": "0fe79e9f",
   "metadata": {},
   "outputs": [],
   "source": [
    "#seleção por conjunto de dados\n",
    "lista_mes = ['jun', 'fev', 'jul']\n",
    "df[df['mes'].isin(lista_mes)]"
   ]
  },
  {
   "cell_type": "markdown",
   "id": "5752852e",
   "metadata": {},
   "source": [
    "#### 4.4 Seleção por tipo de dados"
   ]
  },
  {
   "cell_type": "code",
   "execution_count": null,
   "id": "b49bcd79",
   "metadata": {},
   "outputs": [],
   "source": [
    "df['J'] = df['W'].astype(int)"
   ]
  },
  {
   "cell_type": "code",
   "execution_count": null,
   "id": "6f7d83c1",
   "metadata": {},
   "outputs": [],
   "source": [
    "df.head()"
   ]
  },
  {
   "cell_type": "code",
   "execution_count": null,
   "id": "2479f71e",
   "metadata": {},
   "outputs": [],
   "source": [
    "df.info()"
   ]
  },
  {
   "cell_type": "code",
   "execution_count": null,
   "id": "605b12ed",
   "metadata": {},
   "outputs": [],
   "source": [
    "df.select_dtypes(exclude=['object','int'])"
   ]
  },
  {
   "cell_type": "code",
   "execution_count": null,
   "id": "3bbf53a1",
   "metadata": {},
   "outputs": [],
   "source": [
    "df.select_dtypes(include='int')"
   ]
  },
  {
   "cell_type": "code",
   "execution_count": null,
   "id": "944e80ca",
   "metadata": {},
   "outputs": [],
   "source": [
    "df.select_dtypes(include='float')"
   ]
  },
  {
   "cell_type": "markdown",
   "id": "a6e2928c",
   "metadata": {},
   "source": [
    "# 5. Operações Básicas\n",
    "- 5. Criando um Dataframe\n",
    "    - 5.1 Operações Básicas\n",
    "    - 5.2 Criando Colunas\n",
    "    - 5.3 Removendo Colunas\n",
    "    - 5.4 Removendo Linhas\n",
    "    - 5.5 Alterando valores\n",
    "    - 5.6 Renomeando colunas de um dataframe \n",
    "    - 5.7 Modificando index\n",
    "    - 5.8 Ordenando Dados\n",
    "    - 5.9 Multiindex\n",
    "<img src='https://pandas.pydata.org/docs/_images/05_newcolumn_1.svg'>"
   ]
  },
  {
   "cell_type": "code",
   "execution_count": null,
   "id": "bc199592",
   "metadata": {},
   "outputs": [],
   "source": [
    "df_sales = pd.read_csv('data/sales_clear.csv')"
   ]
  },
  {
   "cell_type": "code",
   "execution_count": null,
   "id": "fe895a92",
   "metadata": {},
   "outputs": [],
   "source": [
    "df_sales.head()"
   ]
  },
  {
   "cell_type": "markdown",
   "id": "6c499961",
   "metadata": {},
   "source": [
    "### 5.1 Operações Matemática"
   ]
  },
  {
   "cell_type": "code",
   "execution_count": null,
   "id": "2cefcfb1",
   "metadata": {},
   "outputs": [],
   "source": [
    "df_sales['2016'] + df_sales['2017']"
   ]
  },
  {
   "cell_type": "code",
   "execution_count": null,
   "id": "5077f59e",
   "metadata": {},
   "outputs": [],
   "source": [
    "df_sales['2016'] - df_sales['2017']"
   ]
  },
  {
   "cell_type": "code",
   "execution_count": null,
   "id": "a5a9d0c5",
   "metadata": {},
   "outputs": [],
   "source": [
    "df_sales['2016'] / df_sales['2017']"
   ]
  },
  {
   "cell_type": "code",
   "execution_count": null,
   "id": "eb879120",
   "metadata": {},
   "outputs": [],
   "source": [
    "df_sales['2016'] * df_sales['2017']"
   ]
  },
  {
   "cell_type": "markdown",
   "id": "90b09fec",
   "metadata": {},
   "source": [
    "### 5.2 Criando uma coluna"
   ]
  },
  {
   "cell_type": "code",
   "execution_count": null,
   "id": "bf2d8065",
   "metadata": {},
   "outputs": [],
   "source": [
    "df_sales.head()"
   ]
  },
  {
   "cell_type": "code",
   "execution_count": null,
   "id": "419c879c",
   "metadata": {},
   "outputs": [],
   "source": [
    "df_sales['soma_2016_2017'] = df_sales['2016'] + df_sales['2017']"
   ]
  },
  {
   "cell_type": "code",
   "execution_count": null,
   "id": "50727af7",
   "metadata": {},
   "outputs": [],
   "source": [
    "df_sales.head()"
   ]
  },
  {
   "cell_type": "markdown",
   "id": "75fb2a76",
   "metadata": {},
   "source": [
    "### 5.3 Removendo colunas"
   ]
  },
  {
   "cell_type": "code",
   "execution_count": null,
   "id": "87e7b715",
   "metadata": {},
   "outputs": [],
   "source": [
    "df_sales.drop('soma_2016_2017', axis=1)"
   ]
  },
  {
   "cell_type": "code",
   "execution_count": null,
   "id": "fe677029",
   "metadata": {},
   "outputs": [],
   "source": [
    "df_sales.drop('soma_2016_2017', axis=1, inplace=True)"
   ]
  },
  {
   "cell_type": "markdown",
   "id": "17f118b0",
   "metadata": {},
   "source": [
    "### 5.4 Removendo linhas"
   ]
  },
  {
   "cell_type": "code",
   "execution_count": null,
   "id": "b297fb1f",
   "metadata": {},
   "outputs": [],
   "source": [
    "df_sales.head()"
   ]
  },
  {
   "cell_type": "code",
   "execution_count": null,
   "id": "e461c538",
   "metadata": {},
   "outputs": [],
   "source": [
    "#drop rows\n",
    "df_sales.drop([1,2], axis=0)"
   ]
  },
  {
   "cell_type": "markdown",
   "id": "525e7860",
   "metadata": {},
   "source": [
    "### 5.5 Alterando valores"
   ]
  },
  {
   "cell_type": "code",
   "execution_count": null,
   "id": "798e6311",
   "metadata": {},
   "outputs": [],
   "source": [
    "df_sales.loc[1:5, 'Jan Units']"
   ]
  },
  {
   "cell_type": "code",
   "execution_count": null,
   "id": "6037172a",
   "metadata": {},
   "outputs": [],
   "source": [
    "df_sales.loc[1:10, 'Jan Units'] = 0"
   ]
  },
  {
   "cell_type": "markdown",
   "id": "a8a36cbb",
   "metadata": {},
   "source": [
    "### 5.6 Rename columns"
   ]
  },
  {
   "cell_type": "code",
   "execution_count": null,
   "id": "b855ed04",
   "metadata": {},
   "outputs": [],
   "source": [
    "df_sales"
   ]
  },
  {
   "cell_type": "code",
   "execution_count": null,
   "id": "9475c5eb",
   "metadata": {},
   "outputs": [],
   "source": [
    "df_sales.rename(columns={'Start_Date':'date', 'Customer Name':'nome'})"
   ]
  },
  {
   "cell_type": "markdown",
   "id": "8d04a1ed",
   "metadata": {},
   "source": [
    "### 5.7 Ordenação de Dados"
   ]
  },
  {
   "cell_type": "markdown",
   "id": "874f1f7d",
   "metadata": {},
   "source": [
    "#### Ordenação composta"
   ]
  },
  {
   "cell_type": "code",
   "execution_count": null,
   "id": "a790d8d6",
   "metadata": {},
   "outputs": [],
   "source": [
    "df_sales.sort_values('Start_Date')"
   ]
  },
  {
   "cell_type": "code",
   "execution_count": null,
   "id": "58042d76",
   "metadata": {},
   "outputs": [],
   "source": [
    "df_sales.sort_values(by='Start_Date', ascending=False)"
   ]
  },
  {
   "cell_type": "markdown",
   "id": "fa8a9c63",
   "metadata": {},
   "source": [
    "#### Ordenação composta"
   ]
  },
  {
   "cell_type": "code",
   "execution_count": null,
   "id": "a61f386c",
   "metadata": {},
   "outputs": [],
   "source": [
    "df_sales.sort_values(by=['Customer Name','2017'], ascending=False)"
   ]
  },
  {
   "cell_type": "code",
   "execution_count": null,
   "id": "0aea4933",
   "metadata": {},
   "outputs": [],
   "source": []
  }
 ],
 "metadata": {
  "kernelspec": {
   "display_name": "Python 3 (ipykernel)",
   "language": "python",
   "name": "python3"
  },
  "language_info": {
   "codemirror_mode": {
    "name": "ipython",
    "version": 3
   },
   "file_extension": ".py",
   "mimetype": "text/x-python",
   "name": "python",
   "nbconvert_exporter": "python",
   "pygments_lexer": "ipython3",
   "version": "3.9.16"
  }
 },
 "nbformat": 4,
 "nbformat_minor": 5
}
