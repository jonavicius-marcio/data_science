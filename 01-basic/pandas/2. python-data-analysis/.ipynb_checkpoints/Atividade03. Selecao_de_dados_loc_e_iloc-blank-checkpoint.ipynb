{
 "cells": [
  {
   "cell_type": "markdown",
   "id": "cd5d9ea8",
   "metadata": {},
   "source": [
    "# Atividade de Pandas -\n",
    "#### Conteúdos: \n",
    "- Seleção de Dados\n",
    "\n",
    "\n",
    "Baixe o dataset **COVID19 cases Toronto.csv** usando o link https://www.kaggle.com/datasets/divyansh22/toronto-covid19-cases/download?datasetVersionNumber=3"
   ]
  },
  {
   "cell_type": "code",
   "execution_count": null,
   "id": "ee2b7ecf",
   "metadata": {
    "ExecuteTime": {
     "end_time": "2022-08-08T14:45:10.662112Z",
     "start_time": "2022-08-08T14:45:10.658145Z"
    }
   },
   "outputs": [],
   "source": []
  },
  {
   "cell_type": "code",
   "execution_count": null,
   "id": "8b177aa9",
   "metadata": {
    "ExecuteTime": {
     "end_time": "2022-08-08T14:45:10.950145Z",
     "start_time": "2022-08-08T14:45:10.891108Z"
    }
   },
   "outputs": [],
   "source": []
  },
  {
   "cell_type": "markdown",
   "id": "959b03b3",
   "metadata": {
    "ExecuteTime": {
     "end_time": "2022-08-08T14:47:20.102183Z",
     "start_time": "2022-08-08T14:47:20.096182Z"
    }
   },
   "source": [
    "**1. Apresente uma função que irá retornar 10% de registros aleatórios do dataset COVID19 cases Toronto.csv**"
   ]
  },
  {
   "cell_type": "code",
   "execution_count": null,
   "id": "46838de3",
   "metadata": {
    "ExecuteTime": {
     "end_time": "2022-08-08T14:48:02.108286Z",
     "start_time": "2022-08-08T14:48:02.078289Z"
    }
   },
   "outputs": [],
   "source": []
  },
  {
   "cell_type": "markdown",
   "id": "e0a10410",
   "metadata": {},
   "source": [
    "**2. Apresente uma função que irá retornar os dados entre o índice 100 e 120 das colunas Classification e Age Group**"
   ]
  },
  {
   "cell_type": "code",
   "execution_count": null,
   "id": "dac4f066",
   "metadata": {
    "ExecuteTime": {
     "end_time": "2022-08-08T14:50:29.960411Z",
     "start_time": "2022-08-08T14:50:29.951416Z"
    }
   },
   "outputs": [],
   "source": []
  },
  {
   "cell_type": "markdown",
   "id": "c4042ab0",
   "metadata": {},
   "source": [
    "**3. Apresente uma função que irá retornar os dados que estão entre a posições 50 e 70 das colunas últimas seis colunas do dataset**"
   ]
  },
  {
   "cell_type": "code",
   "execution_count": null,
   "id": "9e921120",
   "metadata": {
    "ExecuteTime": {
     "end_time": "2022-08-08T14:51:24.630162Z",
     "start_time": "2022-08-08T14:51:24.617628Z"
    }
   },
   "outputs": [],
   "source": []
  },
  {
   "cell_type": "markdown",
   "id": "4a71fea7",
   "metadata": {},
   "source": [
    "**4. Apresente um código pandas que retornará os registros que tem idade entre 50 e 59 anos que tiveram casos confirmados**"
   ]
  },
  {
   "cell_type": "code",
   "execution_count": null,
   "id": "321d354d",
   "metadata": {
    "ExecuteTime": {
     "end_time": "2022-08-08T14:53:52.618060Z",
     "start_time": "2022-08-08T14:53:52.597063Z"
    }
   },
   "outputs": [],
   "source": []
  },
  {
   "cell_type": "markdown",
   "id": "23bb9aac",
   "metadata": {
    "ExecuteTime": {
     "end_time": "2022-08-08T14:54:15.840623Z",
     "start_time": "2022-08-08T14:54:15.820063Z"
    }
   },
   "source": [
    "**5. Apresente um código pandas que retornará os registros dos seguintes bairros ['Malvern', 'Rouge', 'Thorncliffe Park', 'Bendale']**"
   ]
  },
  {
   "cell_type": "code",
   "execution_count": null,
   "id": "63446e36",
   "metadata": {
    "ExecuteTime": {
     "end_time": "2022-08-08T14:55:57.922876Z",
     "start_time": "2022-08-08T14:55:57.898832Z"
    }
   },
   "outputs": [],
   "source": []
  },
  {
   "cell_type": "code",
   "execution_count": null,
   "id": "0bb44ba9",
   "metadata": {},
   "outputs": [],
   "source": []
  }
 ],
 "metadata": {
  "kernelspec": {
   "display_name": "Python 3",
   "language": "python",
   "name": "python3"
  },
  "language_info": {
   "codemirror_mode": {
    "name": "ipython",
    "version": 3
   },
   "file_extension": ".py",
   "mimetype": "text/x-python",
   "name": "python",
   "nbconvert_exporter": "python",
   "pygments_lexer": "ipython3",
   "version": "3.9.15"
  }
 },
 "nbformat": 4,
 "nbformat_minor": 5
}
