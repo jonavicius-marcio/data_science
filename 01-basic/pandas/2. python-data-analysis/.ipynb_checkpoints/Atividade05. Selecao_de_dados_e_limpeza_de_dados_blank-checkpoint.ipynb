{
 "cells": [
  {
   "cell_type": "markdown",
   "id": "6c6d5eb9",
   "metadata": {},
   "source": [
    "# Atividade de Pandas\n",
    "#### Conteúdos: \n",
    "- Seleção de Dados\n",
    "- Limpeza de Dados\n",
    "\n",
    "**Use o dataset world_alcohol.csv**"
   ]
  },
  {
   "cell_type": "code",
   "execution_count": 5,
   "id": "00635fc8",
   "metadata": {
    "ExecuteTime": {
     "end_time": "2022-06-29T11:48:55.056565Z",
     "start_time": "2022-06-29T11:48:55.054528Z"
    }
   },
   "outputs": [],
   "source": [
    "filename = '../../datasets/pandas/world_alcohol.csv'"
   ]
  },
  {
   "cell_type": "markdown",
   "id": "7ed554e1",
   "metadata": {
    "ExecuteTime": {
     "end_time": "2022-06-29T11:45:06.019259Z",
     "start_time": "2022-06-29T11:45:06.005254Z"
    }
   },
   "source": [
    "**1) Escreva um programa usando Pandas para imprimir a dimensão, o shape do dataset e o nome de todas as colunas**"
   ]
  },
  {
   "cell_type": "code",
   "execution_count": null,
   "id": "6abb00eb",
   "metadata": {
    "ExecuteTime": {
     "end_time": "2022-06-29T11:47:24.712705Z",
     "start_time": "2022-06-29T11:47:24.691704Z"
    }
   },
   "outputs": [],
   "source": []
  },
  {
   "cell_type": "markdown",
   "id": "6976d9a1",
   "metadata": {
    "ExecuteTime": {
     "end_time": "2022-06-29T11:48:18.755153Z",
     "start_time": "2022-06-29T11:48:18.746159Z"
    }
   },
   "source": [
    "**2) Escreva um programa usando pandas para selecionar as primeiras duas linhas e duas colunas do dataset**"
   ]
  },
  {
   "cell_type": "code",
   "execution_count": null,
   "id": "aa2550f2",
   "metadata": {
    "ExecuteTime": {
     "end_time": "2022-06-29T11:49:00.792070Z",
     "start_time": "2022-06-29T11:49:00.771939Z"
    }
   },
   "outputs": [],
   "source": []
  },
  {
   "cell_type": "markdown",
   "id": "0f9b18e1",
   "metadata": {},
   "source": [
    "**3) Escreva um programa usando Pandas para selecionar randomicamente um número n de linhas do dataset**"
   ]
  },
  {
   "cell_type": "code",
   "execution_count": null,
   "id": "92cc81d2",
   "metadata": {
    "ExecuteTime": {
     "end_time": "2022-06-29T11:50:35.196765Z",
     "start_time": "2022-06-29T11:50:35.175764Z"
    }
   },
   "outputs": [],
   "source": []
  },
  {
   "cell_type": "markdown",
   "id": "8848f80a",
   "metadata": {
    "ExecuteTime": {
     "end_time": "2022-06-29T11:52:52.576924Z",
     "start_time": "2022-06-29T11:52:52.570925Z"
    }
   },
   "source": [
    "**4. Escreva um programa que irá encontrar e deletar os valores perdidos do dataset**"
   ]
  },
  {
   "cell_type": "code",
   "execution_count": null,
   "id": "f72db58e",
   "metadata": {
    "ExecuteTime": {
     "end_time": "2022-06-29T11:56:16.462250Z",
     "start_time": "2022-06-29T11:56:16.436213Z"
    }
   },
   "outputs": [],
   "source": []
  },
  {
   "cell_type": "markdown",
   "id": "bf63851d",
   "metadata": {
    "ExecuteTime": {
     "end_time": "2022-06-29T11:56:49.706047Z",
     "start_time": "2022-06-29T11:56:49.699054Z"
    }
   },
   "source": [
    "**5. Escreva um programa usando Pandas que irá remover os valores duplicados do dataset considerando somente o atributo ``WHO region``**"
   ]
  },
  {
   "cell_type": "code",
   "execution_count": null,
   "id": "b1f0a7dc",
   "metadata": {},
   "outputs": [],
   "source": []
  },
  {
   "cell_type": "markdown",
   "id": "0cb46291",
   "metadata": {},
   "source": [
    "**6) Escreva um programa de pandas para descobrir o consumo de álcool entre 1985 e 1989**"
   ]
  },
  {
   "cell_type": "code",
   "execution_count": null,
   "id": "1c4a770a",
   "metadata": {
    "ExecuteTime": {
     "end_time": "2022-06-29T12:05:58.208108Z",
     "start_time": "2022-06-29T12:05:58.192136Z"
    }
   },
   "outputs": [],
   "source": []
  },
  {
   "cell_type": "markdown",
   "id": "93cc1dcc",
   "metadata": {},
   "source": [
    "**7) Escreva um programa usando Pandas para descobrir os detalhes do consumo de álcool em 1986, onde a região é ``Western Pacific`` e o país é ``Viet Nam``**"
   ]
  },
  {
   "cell_type": "code",
   "execution_count": null,
   "id": "6c8a12e8",
   "metadata": {
    "ExecuteTime": {
     "end_time": "2022-06-29T12:07:51.079560Z",
     "start_time": "2022-06-29T12:07:51.064037Z"
    }
   },
   "outputs": [],
   "source": []
  },
  {
   "cell_type": "markdown",
   "id": "a11ce7e7",
   "metadata": {},
   "source": [
    "**8) Escreva um programa usando pandas que encontra o total de registros onde o ``Display Value`` é maior do que ou igual a quatro e o ``Beverage Types`` é Beer, Wine, ou Spirits**"
   ]
  },
  {
   "cell_type": "code",
   "execution_count": null,
   "id": "5c3ad679",
   "metadata": {},
   "outputs": [],
   "source": []
  },
  {
   "cell_type": "markdown",
   "id": "be23f592",
   "metadata": {},
   "source": [
    "**9) Escreva um programa usando Pandas que filtra registros na as WHO region que contém a substring \"Ea\"**"
   ]
  },
  {
   "cell_type": "code",
   "execution_count": null,
   "id": "76d3a3e4",
   "metadata": {},
   "outputs": [],
   "source": []
  },
  {
   "cell_type": "markdown",
   "id": "c9bd4df6",
   "metadata": {},
   "source": [
    "**10) Escreva um programa usando Pandas que irá filtrar registros na coluna ``WHO region`` a partir da lista [\"Africa\", \"Eastern Mediterranean\", \"Europe\"]**"
   ]
  },
  {
   "cell_type": "code",
   "execution_count": null,
   "id": "035a099a",
   "metadata": {},
   "outputs": [],
   "source": []
  }
 ],
 "metadata": {
  "kernelspec": {
   "display_name": "Python 3",
   "language": "python",
   "name": "python3"
  },
  "language_info": {
   "codemirror_mode": {
    "name": "ipython",
    "version": 3
   },
   "file_extension": ".py",
   "mimetype": "text/x-python",
   "name": "python",
   "nbconvert_exporter": "python",
   "pygments_lexer": "ipython3",
   "version": "3.9.15"
  }
 },
 "nbformat": 4,
 "nbformat_minor": 5
}
