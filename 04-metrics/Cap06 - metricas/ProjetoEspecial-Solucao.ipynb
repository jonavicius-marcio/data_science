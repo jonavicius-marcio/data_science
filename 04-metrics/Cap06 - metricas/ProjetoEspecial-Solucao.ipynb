{
 "cells": [
  {
   "cell_type": "markdown",
   "metadata": {},
   "source": [
    "# Data Science Aplicada à Área de Saúde"
   ]
  },
  {
   "cell_type": "markdown",
   "metadata": {},
   "source": [
    "## Projeto Especial - Prevendo Despesas Médicas"
   ]
  },
  {
   "cell_type": "markdown",
   "metadata": {
    "colab_type": "text",
    "id": "aW2NTuYiiRvD"
   },
   "source": [
    "Neste projeto seu trabalho é preparar o dataset para modelagem preditiva, quando iremos prever o custo de despesas médicas para uma amostra da população de pacientes de um hospital, considerando o hábito de fumar, idade, sexo, IMC e região. \n",
    "\n",
    "O dataset fornecido a você apresenta problemas que devem ser resolvidos. Você encontrará algumas perguntas que devem ser respondidas através de análise exploratória e visualização de dados."
   ]
  },
  {
   "cell_type": "markdown",
   "metadata": {},
   "source": [
    "Dicionário de Dados:\n",
    "    \n",
    "- idade: idade do paciente\n",
    "\n",
    "- sexo: sexo do paciente (feminino, masculino)\n",
    "\n",
    "- IMC: índice de massa corporal, usando a razão entre altura e peso (idealmente 18,5 a 24,9)\n",
    "\n",
    "- filhos: número de filhos do paciente\n",
    "\n",
    "- fumante: se fuma ou não\n",
    "\n",
    "- região: a área residencial do paciente.\n",
    "\n",
    "- custo_medico_anual: custo médico anual do paciente em uma clínica medica (variável alvo)"
   ]
  },
  {
   "cell_type": "markdown",
   "metadata": {},
   "source": [
    "Para guiá-lo pelo projeto, deixamos comentários nas células abaixo com sugestões de atividades que deve ser realizadas. "
   ]
  },
  {
   "cell_type": "code",
   "execution_count": 1,
   "metadata": {},
   "outputs": [],
   "source": [
    "# Para atualizar um pacote, execute o comando abaixo no terminal ou prompt de comando:\n",
    "# pip install -U nome_pacote\n",
    "\n",
    "# Para instalar a versão exata de um pacote, execute o comando abaixo no terminal ou prompt de comando:\n",
    "# pip install nome_pacote==versão_desejada\n",
    "\n",
    "# Depois de instalar ou atualizar o pacote, reinicie o jupyter notebook."
   ]
  },
  {
   "cell_type": "code",
   "execution_count": 2,
   "metadata": {
    "colab": {
     "base_uri": "https://localhost:8080/",
     "height": 204
    },
    "colab_type": "code",
    "id": "cxldK1uNr5aN",
    "outputId": "9a538b34-44e2-4dab-d355-bf032cdfd243"
   },
   "outputs": [],
   "source": [
    "# Imports\n",
    "import warnings\n",
    "warnings.simplefilter(action='ignore', category=FutureWarning)\n",
    "warnings.filterwarnings(\"ignore\", category=FutureWarning)\n",
    "import numpy as np\n",
    "import pandas as pd\n",
    "import seaborn as sns\n",
    "import matplotlib.pyplot as plt\n",
    "%matplotlib inline"
   ]
  },
  {
   "cell_type": "code",
   "execution_count": 3,
   "metadata": {},
   "outputs": [
    {
     "data": {
      "text/plain": [
       "'1.0.1'"
      ]
     },
     "execution_count": 3,
     "metadata": {},
     "output_type": "execute_result"
    }
   ],
   "source": [
    "pd.__version__"
   ]
  },
  {
   "cell_type": "code",
   "execution_count": 4,
   "metadata": {},
   "outputs": [
    {
     "data": {
      "text/plain": [
       "'1.18.1'"
      ]
     },
     "execution_count": 4,
     "metadata": {},
     "output_type": "execute_result"
    }
   ],
   "source": [
    "np.__version__"
   ]
  },
  {
   "cell_type": "code",
   "execution_count": 5,
   "metadata": {},
   "outputs": [
    {
     "data": {
      "text/plain": [
       "'0.9.0'"
      ]
     },
     "execution_count": 5,
     "metadata": {},
     "output_type": "execute_result"
    }
   ],
   "source": [
    "sns.__version__"
   ]
  },
  {
   "cell_type": "code",
   "execution_count": 6,
   "metadata": {},
   "outputs": [
    {
     "data": {
      "text/plain": [
       "'3.2.0'"
      ]
     },
     "execution_count": 6,
     "metadata": {},
     "output_type": "execute_result"
    }
   ],
   "source": [
    "import matplotlib as m\n",
    "m.__version__"
   ]
  },
  {
   "cell_type": "code",
   "execution_count": 7,
   "metadata": {},
   "outputs": [],
   "source": [
    "# Carregando o dataset\n",
    "dataset = pd.read_csv('dados/custos_seguro.csv')"
   ]
  },
  {
   "cell_type": "code",
   "execution_count": 8,
   "metadata": {},
   "outputs": [
    {
     "data": {
      "text/html": [
       "<div>\n",
       "<style scoped>\n",
       "    .dataframe tbody tr th:only-of-type {\n",
       "        vertical-align: middle;\n",
       "    }\n",
       "\n",
       "    .dataframe tbody tr th {\n",
       "        vertical-align: top;\n",
       "    }\n",
       "\n",
       "    .dataframe thead th {\n",
       "        text-align: right;\n",
       "    }\n",
       "</style>\n",
       "<table border=\"1\" class=\"dataframe\">\n",
       "  <thead>\n",
       "    <tr style=\"text-align: right;\">\n",
       "      <th></th>\n",
       "      <th>idade</th>\n",
       "      <th>sexo</th>\n",
       "      <th>imc</th>\n",
       "      <th>filhos</th>\n",
       "      <th>fumante</th>\n",
       "      <th>regiao</th>\n",
       "      <th>custo_medico_anual</th>\n",
       "    </tr>\n",
       "  </thead>\n",
       "  <tbody>\n",
       "    <tr>\n",
       "      <th>0</th>\n",
       "      <td>19</td>\n",
       "      <td>feminino</td>\n",
       "      <td>27.90</td>\n",
       "      <td>0</td>\n",
       "      <td>yes</td>\n",
       "      <td>sudeste</td>\n",
       "      <td>16884.92400</td>\n",
       "    </tr>\n",
       "    <tr>\n",
       "      <th>1</th>\n",
       "      <td>18</td>\n",
       "      <td>masculino</td>\n",
       "      <td>33.77</td>\n",
       "      <td>1</td>\n",
       "      <td>no</td>\n",
       "      <td>sul</td>\n",
       "      <td>1725.55230</td>\n",
       "    </tr>\n",
       "    <tr>\n",
       "      <th>2</th>\n",
       "      <td>28</td>\n",
       "      <td>masculino</td>\n",
       "      <td>33.00</td>\n",
       "      <td>3</td>\n",
       "      <td>no</td>\n",
       "      <td>sul</td>\n",
       "      <td>4449.46200</td>\n",
       "    </tr>\n",
       "    <tr>\n",
       "      <th>3</th>\n",
       "      <td>33</td>\n",
       "      <td>masculino</td>\n",
       "      <td>NaN</td>\n",
       "      <td>0</td>\n",
       "      <td>no</td>\n",
       "      <td>nordeste</td>\n",
       "      <td>21984.47061</td>\n",
       "    </tr>\n",
       "    <tr>\n",
       "      <th>4</th>\n",
       "      <td>32</td>\n",
       "      <td>masculino</td>\n",
       "      <td>28.88</td>\n",
       "      <td>0</td>\n",
       "      <td>no</td>\n",
       "      <td>nordeste</td>\n",
       "      <td>3866.85520</td>\n",
       "    </tr>\n",
       "  </tbody>\n",
       "</table>\n",
       "</div>"
      ],
      "text/plain": [
       "   idade       sexo    imc  filhos fumante    regiao  custo_medico_anual\n",
       "0     19   feminino  27.90       0     yes   sudeste         16884.92400\n",
       "1     18  masculino  33.77       1      no       sul          1725.55230\n",
       "2     28  masculino  33.00       3      no       sul          4449.46200\n",
       "3     33  masculino    NaN       0      no  nordeste         21984.47061\n",
       "4     32  masculino  28.88       0      no  nordeste          3866.85520"
      ]
     },
     "execution_count": 8,
     "metadata": {},
     "output_type": "execute_result"
    }
   ],
   "source": [
    "# Visualizando alguns registros\n",
    "dataset.head() "
   ]
  },
  {
   "cell_type": "code",
   "execution_count": 9,
   "metadata": {},
   "outputs": [
    {
     "data": {
      "text/plain": [
       "idade                   int64\n",
       "sexo                   object\n",
       "imc                   float64\n",
       "filhos                  int64\n",
       "fumante                object\n",
       "regiao                 object\n",
       "custo_medico_anual    float64\n",
       "dtype: object"
      ]
     },
     "execution_count": 9,
     "metadata": {},
     "output_type": "execute_result"
    }
   ],
   "source": [
    "# Visualizando os tipos de dados\n",
    "dataset.dtypes"
   ]
  },
  {
   "cell_type": "code",
   "execution_count": 10,
   "metadata": {},
   "outputs": [
    {
     "data": {
      "text/plain": [
       "idade                 1338\n",
       "sexo                  1338\n",
       "imc                   1325\n",
       "filhos                1338\n",
       "fumante               1338\n",
       "regiao                1338\n",
       "custo_medico_anual    1338\n",
       "dtype: int64"
      ]
     },
     "execution_count": 10,
     "metadata": {},
     "output_type": "execute_result"
    }
   ],
   "source": [
    "# Visualizando o total de linhas por coluna\n",
    "dataset.count()"
   ]
  },
  {
   "cell_type": "code",
   "execution_count": 11,
   "metadata": {
    "colab": {
     "base_uri": "https://localhost:8080/",
     "height": 34
    },
    "colab_type": "code",
    "id": "ia5e5zBoTAiL",
    "outputId": "4a62b668-034f-47d0-c891-e72ea113fb19"
   },
   "outputs": [
    {
     "data": {
      "text/plain": [
       "imc                   13\n",
       "custo_medico_anual     0\n",
       "regiao                 0\n",
       "fumante                0\n",
       "filhos                 0\n",
       "sexo                   0\n",
       "idade                  0\n",
       "dtype: int64"
      ]
     },
     "execution_count": 11,
     "metadata": {},
     "output_type": "execute_result"
    }
   ],
   "source": [
    "# Verifique se há valores ausentes\n",
    "missing_values = dataset.isnull().sum().sort_values(ascending = False)\n",
    "missing_values"
   ]
  },
  {
   "cell_type": "code",
   "execution_count": 12,
   "metadata": {},
   "outputs": [
    {
     "name": "stdout",
     "output_type": "stream",
     "text": [
      "imc    0.971599\n",
      "dtype: float64 %\n"
     ]
    }
   ],
   "source": [
    "# Checando percentual de valores missing\n",
    "missing_values = missing_values[missing_values > 0]/dataset.shape[0] \n",
    "print(f'{missing_values * 100} %')"
   ]
  },
  {
   "cell_type": "code",
   "execution_count": 13,
   "metadata": {},
   "outputs": [],
   "source": [
    "# Função para o Replace das linhas vazias\n",
    "def impute_media(df):\n",
    "    return df.fillna(df.mean())"
   ]
  },
  {
   "cell_type": "code",
   "execution_count": 14,
   "metadata": {},
   "outputs": [],
   "source": [
    "# Removendo valores missing\n",
    "dataset.imc = dataset['imc'].transform(impute_media)"
   ]
  },
  {
   "cell_type": "code",
   "execution_count": 15,
   "metadata": {},
   "outputs": [
    {
     "name": "stdout",
     "output_type": "stream",
     "text": [
      "Series([], dtype: float64) %\n"
     ]
    }
   ],
   "source": [
    "# Verifique se há valores ausentes\n",
    "missing_values = dataset.isnull().sum().sort_values(ascending = False)\n",
    "missing_values = missing_values[missing_values > 0]/dataset.shape[0] \n",
    "print(f'{missing_values *100} %')"
   ]
  },
  {
   "cell_type": "code",
   "execution_count": 16,
   "metadata": {},
   "outputs": [],
   "source": [
    "# Convertendo todas as variáveis para o tipo inteiro a fim de calcular as correlações\n",
    "from sklearn.preprocessing import LabelEncoder\n",
    "\n",
    "dataset_transformado = dataset.apply(LabelEncoder().fit_transform)"
   ]
  },
  {
   "cell_type": "code",
   "execution_count": 17,
   "metadata": {},
   "outputs": [
    {
     "data": {
      "text/plain": [
       "idade                 int64\n",
       "sexo                  int64\n",
       "imc                   int64\n",
       "filhos                int64\n",
       "fumante               int64\n",
       "regiao                int64\n",
       "custo_medico_anual    int64\n",
       "dtype: object"
      ]
     },
     "execution_count": 17,
     "metadata": {},
     "output_type": "execute_result"
    }
   ],
   "source": [
    "# Visualizando os tipos de dados\n",
    "dataset_transformado.dtypes"
   ]
  },
  {
   "cell_type": "code",
   "execution_count": 18,
   "metadata": {},
   "outputs": [
    {
     "data": {
      "text/html": [
       "<div>\n",
       "<style scoped>\n",
       "    .dataframe tbody tr th:only-of-type {\n",
       "        vertical-align: middle;\n",
       "    }\n",
       "\n",
       "    .dataframe tbody tr th {\n",
       "        vertical-align: top;\n",
       "    }\n",
       "\n",
       "    .dataframe thead th {\n",
       "        text-align: right;\n",
       "    }\n",
       "</style>\n",
       "<table border=\"1\" class=\"dataframe\">\n",
       "  <thead>\n",
       "    <tr style=\"text-align: right;\">\n",
       "      <th></th>\n",
       "      <th>idade</th>\n",
       "      <th>sexo</th>\n",
       "      <th>imc</th>\n",
       "      <th>filhos</th>\n",
       "      <th>fumante</th>\n",
       "      <th>regiao</th>\n",
       "      <th>custo_medico_anual</th>\n",
       "    </tr>\n",
       "  </thead>\n",
       "  <tbody>\n",
       "    <tr>\n",
       "      <th>0</th>\n",
       "      <td>1</td>\n",
       "      <td>0</td>\n",
       "      <td>197</td>\n",
       "      <td>0</td>\n",
       "      <td>1</td>\n",
       "      <td>2</td>\n",
       "      <td>1005</td>\n",
       "    </tr>\n",
       "    <tr>\n",
       "      <th>1</th>\n",
       "      <td>0</td>\n",
       "      <td>1</td>\n",
       "      <td>351</td>\n",
       "      <td>1</td>\n",
       "      <td>0</td>\n",
       "      <td>3</td>\n",
       "      <td>57</td>\n",
       "    </tr>\n",
       "    <tr>\n",
       "      <th>2</th>\n",
       "      <td>10</td>\n",
       "      <td>1</td>\n",
       "      <td>332</td>\n",
       "      <td>3</td>\n",
       "      <td>0</td>\n",
       "      <td>3</td>\n",
       "      <td>306</td>\n",
       "    </tr>\n",
       "    <tr>\n",
       "      <th>3</th>\n",
       "      <td>15</td>\n",
       "      <td>1</td>\n",
       "      <td>272</td>\n",
       "      <td>0</td>\n",
       "      <td>0</td>\n",
       "      <td>0</td>\n",
       "      <td>1097</td>\n",
       "    </tr>\n",
       "    <tr>\n",
       "      <th>4</th>\n",
       "      <td>14</td>\n",
       "      <td>1</td>\n",
       "      <td>223</td>\n",
       "      <td>0</td>\n",
       "      <td>0</td>\n",
       "      <td>0</td>\n",
       "      <td>254</td>\n",
       "    </tr>\n",
       "  </tbody>\n",
       "</table>\n",
       "</div>"
      ],
      "text/plain": [
       "   idade  sexo  imc  filhos  fumante  regiao  custo_medico_anual\n",
       "0      1     0  197       0        1       2                1005\n",
       "1      0     1  351       1        0       3                  57\n",
       "2     10     1  332       3        0       3                 306\n",
       "3     15     1  272       0        0       0                1097\n",
       "4     14     1  223       0        0       0                 254"
      ]
     },
     "execution_count": 18,
     "metadata": {},
     "output_type": "execute_result"
    }
   ],
   "source": [
    "dataset_transformado.head()"
   ]
  },
  {
   "cell_type": "markdown",
   "metadata": {},
   "source": [
    "## Quais variáveis tem maior correlação com o custo_medico_anual?"
   ]
  },
  {
   "cell_type": "markdown",
   "metadata": {},
   "source": [
    "Construa um heatmap para mostrar suas conclusões."
   ]
  },
  {
   "cell_type": "code",
   "execution_count": 19,
   "metadata": {
    "colab": {
     "base_uri": "https://localhost:8080/",
     "height": 695
    },
    "colab_type": "code",
    "id": "jbJDFiJ2T9h5",
    "outputId": "ad24afe0-f3cc-46b2-fb64-bbd832300d68"
   },
   "outputs": [
    {
     "data": {
      "image/png": "[encoded data removed]",
      "text/plain": [
       "<Figure size 1080x1008 with 2 Axes>"
      ]
     },
     "metadata": {},
     "output_type": "display_data"
    }
   ],
   "source": [
    "# Solução com Seaborn\n",
    "\n",
    "# Definindo propriedades do Seaborn\n",
    "sns.set(color_codes = True)\n",
    "\n",
    "# Definindo área de platagem\n",
    "plt.figure(figsize = (15, 14))\n",
    "\n",
    "# Criando o heatmap\n",
    "sns.heatmap(dataset_transformado.astype(float).corr(), \n",
    "            linewidths = 0.1, \n",
    "            square = True, \n",
    "            linecolor = 'white', \n",
    "            annot = True,\n",
    "            cmap = \"YlGnBu\")\n",
    "plt.show()"
   ]
  },
  {
   "cell_type": "markdown",
   "metadata": {},
   "source": [
    "## Entre fumantes e não fumantes, qual grupo tem maior custo_medico_anual?"
   ]
  },
  {
   "cell_type": "markdown",
   "metadata": {},
   "source": [
    "Dica: Um facetgrid do Seaborn com dois plots univariados (de uma única variável com dois valores), ajuda a visualizar a resposta."
   ]
  },
  {
   "cell_type": "code",
   "execution_count": 20,
   "metadata": {
    "colab": {
     "base_uri": "https://localhost:8080/",
     "height": 416
    },
    "colab_type": "code",
    "id": "mbSP7zVHSohb",
    "outputId": "03399c80-dd99-423a-f08e-a1c9cef445e9"
   },
   "outputs": [
    {
     "data": {
      "image/png": "[encoded data removed]",
      "text/plain": [
       "<Figure size 720x360 with 2 Axes>"
      ]
     },
     "metadata": {},
     "output_type": "display_data"
    }
   ],
   "source": [
    "# Solução com Seaborn\n",
    "grafico = sns.FacetGrid(dataset_transformado, col = \"fumante\", height = 5, sharey = False, sharex = True)\n",
    "grafico.map(sns.distplot, \"custo_medico_anual\", color = 'b');\n",
    "grafico.set_axis_labels(\"custo_medico_anual\", \"proporção\");"
   ]
  },
  {
   "cell_type": "markdown",
   "metadata": {},
   "source": [
    "## Qual faixa etária apresenta maior custo_medico_anual?"
   ]
  },
  {
   "cell_type": "markdown",
   "metadata": {},
   "source": [
    "Construa uma visualização para suportar suas conclusões."
   ]
  },
  {
   "cell_type": "code",
   "execution_count": 21,
   "metadata": {
    "colab": {
     "base_uri": "https://localhost:8080/",
     "height": 410
    },
    "colab_type": "code",
    "id": "JcuDUsfHe-m9",
    "outputId": "8a48dd21-99b3-440d-aceb-06b80ad91aea"
   },
   "outputs": [
    {
     "data": {
      "image/png": "[encoded data removed]",
      "text/plain": [
       "<Figure size 1080x504 with 1 Axes>"
      ]
     },
     "metadata": {},
     "output_type": "display_data"
    }
   ],
   "source": [
    "# Solução com Seaborn\n",
    "plt.figure(figsize = (15,7))\n",
    "plt.title(\"Distribuição da Idade\")\n",
    "ax = sns.distplot(dataset_transformado[\"idade\"], color = 'red')"
   ]
  },
  {
   "cell_type": "code",
   "execution_count": 22,
   "metadata": {},
   "outputs": [
    {
     "data": {
      "text/plain": [
       "<matplotlib.axes._subplots.AxesSubplot at 0x7f9928b342d0>"
      ]
     },
     "execution_count": 22,
     "metadata": {},
     "output_type": "execute_result"
    },
    {
     "data": {
      "image/png": "[encoded data removed]",
      "text/plain": [
       "<Figure size 432x288 with 1 Axes>"
      ]
     },
     "metadata": {},
     "output_type": "display_data"
    }
   ],
   "source": [
    "# Visualizando com Pie Chart a partir do dataframe\n",
    "dataset_transformado[\"idade\"].value_counts(bins = 3).plot(kind = 'pie', labels = ['Jovem', 'Aduto', 'Senior'])"
   ]
  },
  {
   "cell_type": "markdown",
   "metadata": {},
   "source": [
    "## A proporção de fumantes por sexo é semelhante ou precisamos balancear esses dados?"
   ]
  },
  {
   "cell_type": "markdown",
   "metadata": {},
   "source": [
    "Construa uma visualização para suportar suas conclusões."
   ]
  },
  {
   "cell_type": "code",
   "execution_count": 23,
   "metadata": {
    "colab": {
     "base_uri": "https://localhost:8080/",
     "height": 365
    },
    "colab_type": "code",
    "id": "MmSBWU1iasWZ",
    "outputId": "35a4e2ff-1534-487d-ba65-63ee6df1cc97"
   },
   "outputs": [
    {
     "data": {
      "image/png": "[encoded data removed]",
      "text/plain": [
       "<Figure size 405.725x360 with 1 Axes>"
      ]
     },
     "metadata": {},
     "output_type": "display_data"
    }
   ],
   "source": [
    "# Solução com Seaborn\n",
    "sns.catplot(x = \"fumante\", kind = \"count\", hue = 'sexo', data = dataset_transformado, palette = 'pastel');\n",
    "plt.show()"
   ]
  },
  {
   "cell_type": "markdown",
   "metadata": {},
   "source": [
    "## À medida que a idade do paciente aumenta o que acontece com o custo_medico_anual? Há diferença entre fumantes e não fumantes?"
   ]
  },
  {
   "cell_type": "markdown",
   "metadata": {},
   "source": [
    "Construa uma visualização para suportar suas conclusões. A função lmplot do Seaborn pode responder as duas perguntas com facilidade."
   ]
  },
  {
   "cell_type": "code",
   "execution_count": 24,
   "metadata": {
    "colab": {
     "base_uri": "https://localhost:8080/",
     "height": 543
    },
    "colab_type": "code",
    "id": "qzu7PZrYfbMU",
    "outputId": "67258c7e-882f-489b-9a99-583d34a38d7d"
   },
   "outputs": [
    {
     "data": {
      "image/png": "[encoded data removed]",
      "text/plain": [
       "<Figure size 560.6x504 with 1 Axes>"
      ]
     },
     "metadata": {},
     "output_type": "display_data"
    }
   ],
   "source": [
    "# Solução com Seaborn e Regressão Linear\n",
    "sns.lmplot(x = \"idade\", y = \"custo_medico_anual\", hue = \"fumante\", data = dataset, palette = dict(yes = \"r\", no = \"g\"), height = 7)\n",
    "plt.show()"
   ]
  },
  {
   "cell_type": "markdown",
   "metadata": {
    "colab_type": "text",
    "id": "iJbrgoXvjjyx"
   },
   "source": [
    "## Construção do Modelo Preditivo\n",
    "\n",
    "### Preparação dos Dados"
   ]
  },
  {
   "cell_type": "markdown",
   "metadata": {},
   "source": [
    "Para este projeto, nossa variável target é um valor numérico (custo_medico_anual) e usaremos regressão para construir o modelo preditivo. Algumas transformações nos dados serão necessárias.\n",
    "\n",
    "A função `pandas.get_dummies` converte os vetores de características categóricas em uma matriz vetorial com valores booleanos de uns e zeros. Isso será mais útil, pois nosso regressor tratará as entradas como números.\n",
    "\n",
    "Aqui está um exemplo de como funciona:\n",
    "\n",
    "$\\vec{b}=\\beta \\vec{x}$\n",
    "\n",
    "Observe como a matriz de variáveis dummies é representada para o recurso categórico de fumante:\n",
    "\n",
    "$$\\begin{pmatrix}\\text{fumante_yes}\\\\ \\text{fumante_no}\\\\ \\text{fumante_no}\\\\ \\vdots  \\end{pmatrix}=\\begin{bmatrix}\n",
    "    1 & 0 \\\\\n",
    "    0 & 1\\\\\n",
    "    0 & 1\\\\\n",
    "    \\vdots & \\vdots \\\\\n",
    "    \\end{bmatrix} \\; \n",
    "    \\begin{pmatrix}\\text{fumante_yes} \\\\  \\text{fumante_no} \\\\ \\end{pmatrix}$$"
   ]
  },
  {
   "cell_type": "code",
   "execution_count": 25,
   "metadata": {},
   "outputs": [
    {
     "data": {
      "text/html": [
       "<div>\n",
       "<style scoped>\n",
       "    .dataframe tbody tr th:only-of-type {\n",
       "        vertical-align: middle;\n",
       "    }\n",
       "\n",
       "    .dataframe tbody tr th {\n",
       "        vertical-align: top;\n",
       "    }\n",
       "\n",
       "    .dataframe thead th {\n",
       "        text-align: right;\n",
       "    }\n",
       "</style>\n",
       "<table border=\"1\" class=\"dataframe\">\n",
       "  <thead>\n",
       "    <tr style=\"text-align: right;\">\n",
       "      <th></th>\n",
       "      <th>idade</th>\n",
       "      <th>sexo</th>\n",
       "      <th>imc</th>\n",
       "      <th>filhos</th>\n",
       "      <th>fumante</th>\n",
       "      <th>regiao</th>\n",
       "      <th>custo_medico_anual</th>\n",
       "    </tr>\n",
       "  </thead>\n",
       "  <tbody>\n",
       "    <tr>\n",
       "      <th>0</th>\n",
       "      <td>19</td>\n",
       "      <td>feminino</td>\n",
       "      <td>27.900000</td>\n",
       "      <td>0</td>\n",
       "      <td>yes</td>\n",
       "      <td>sudeste</td>\n",
       "      <td>16884.92400</td>\n",
       "    </tr>\n",
       "    <tr>\n",
       "      <th>1</th>\n",
       "      <td>18</td>\n",
       "      <td>masculino</td>\n",
       "      <td>33.770000</td>\n",
       "      <td>1</td>\n",
       "      <td>no</td>\n",
       "      <td>sul</td>\n",
       "      <td>1725.55230</td>\n",
       "    </tr>\n",
       "    <tr>\n",
       "      <th>2</th>\n",
       "      <td>28</td>\n",
       "      <td>masculino</td>\n",
       "      <td>33.000000</td>\n",
       "      <td>3</td>\n",
       "      <td>no</td>\n",
       "      <td>sul</td>\n",
       "      <td>4449.46200</td>\n",
       "    </tr>\n",
       "    <tr>\n",
       "      <th>3</th>\n",
       "      <td>33</td>\n",
       "      <td>masculino</td>\n",
       "      <td>30.693019</td>\n",
       "      <td>0</td>\n",
       "      <td>no</td>\n",
       "      <td>nordeste</td>\n",
       "      <td>21984.47061</td>\n",
       "    </tr>\n",
       "    <tr>\n",
       "      <th>4</th>\n",
       "      <td>32</td>\n",
       "      <td>masculino</td>\n",
       "      <td>28.880000</td>\n",
       "      <td>0</td>\n",
       "      <td>no</td>\n",
       "      <td>nordeste</td>\n",
       "      <td>3866.85520</td>\n",
       "    </tr>\n",
       "  </tbody>\n",
       "</table>\n",
       "</div>"
      ],
      "text/plain": [
       "   idade       sexo        imc  filhos fumante    regiao  custo_medico_anual\n",
       "0     19   feminino  27.900000       0     yes   sudeste         16884.92400\n",
       "1     18  masculino  33.770000       1      no       sul          1725.55230\n",
       "2     28  masculino  33.000000       3      no       sul          4449.46200\n",
       "3     33  masculino  30.693019       0      no  nordeste         21984.47061\n",
       "4     32  masculino  28.880000       0      no  nordeste          3866.85520"
      ]
     },
     "execution_count": 25,
     "metadata": {},
     "output_type": "execute_result"
    }
   ],
   "source": [
    "# Dados após a fase de pré-processamento nos itens anteriores\n",
    "dataset.head()"
   ]
  },
  {
   "cell_type": "code",
   "execution_count": 26,
   "metadata": {
    "colab": {
     "base_uri": "https://localhost:8080/",
     "height": 204
    },
    "colab_type": "code",
    "id": "W1-QxJJjf6nj",
    "outputId": "85cc1b9f-febb-4fc8-801d-6fc25c09e37e"
   },
   "outputs": [
    {
     "data": {
      "text/html": [
       "<div>\n",
       "<style scoped>\n",
       "    .dataframe tbody tr th:only-of-type {\n",
       "        vertical-align: middle;\n",
       "    }\n",
       "\n",
       "    .dataframe tbody tr th {\n",
       "        vertical-align: top;\n",
       "    }\n",
       "\n",
       "    .dataframe thead th {\n",
       "        text-align: right;\n",
       "    }\n",
       "</style>\n",
       "<table border=\"1\" class=\"dataframe\">\n",
       "  <thead>\n",
       "    <tr style=\"text-align: right;\">\n",
       "      <th></th>\n",
       "      <th>idade</th>\n",
       "      <th>imc</th>\n",
       "      <th>filhos</th>\n",
       "      <th>custo_medico_anual</th>\n",
       "      <th>sexo_feminino</th>\n",
       "      <th>sexo_masculino</th>\n",
       "      <th>fumante_no</th>\n",
       "      <th>fumante_yes</th>\n",
       "      <th>regiao_nordeste</th>\n",
       "      <th>regiao_norte</th>\n",
       "      <th>regiao_sudeste</th>\n",
       "      <th>regiao_sul</th>\n",
       "    </tr>\n",
       "  </thead>\n",
       "  <tbody>\n",
       "    <tr>\n",
       "      <th>0</th>\n",
       "      <td>19</td>\n",
       "      <td>27.900000</td>\n",
       "      <td>0</td>\n",
       "      <td>16884.92400</td>\n",
       "      <td>1</td>\n",
       "      <td>0</td>\n",
       "      <td>0</td>\n",
       "      <td>1</td>\n",
       "      <td>0</td>\n",
       "      <td>0</td>\n",
       "      <td>1</td>\n",
       "      <td>0</td>\n",
       "    </tr>\n",
       "    <tr>\n",
       "      <th>1</th>\n",
       "      <td>18</td>\n",
       "      <td>33.770000</td>\n",
       "      <td>1</td>\n",
       "      <td>1725.55230</td>\n",
       "      <td>0</td>\n",
       "      <td>1</td>\n",
       "      <td>1</td>\n",
       "      <td>0</td>\n",
       "      <td>0</td>\n",
       "      <td>0</td>\n",
       "      <td>0</td>\n",
       "      <td>1</td>\n",
       "    </tr>\n",
       "    <tr>\n",
       "      <th>2</th>\n",
       "      <td>28</td>\n",
       "      <td>33.000000</td>\n",
       "      <td>3</td>\n",
       "      <td>4449.46200</td>\n",
       "      <td>0</td>\n",
       "      <td>1</td>\n",
       "      <td>1</td>\n",
       "      <td>0</td>\n",
       "      <td>0</td>\n",
       "      <td>0</td>\n",
       "      <td>0</td>\n",
       "      <td>1</td>\n",
       "    </tr>\n",
       "    <tr>\n",
       "      <th>3</th>\n",
       "      <td>33</td>\n",
       "      <td>30.693019</td>\n",
       "      <td>0</td>\n",
       "      <td>21984.47061</td>\n",
       "      <td>0</td>\n",
       "      <td>1</td>\n",
       "      <td>1</td>\n",
       "      <td>0</td>\n",
       "      <td>1</td>\n",
       "      <td>0</td>\n",
       "      <td>0</td>\n",
       "      <td>0</td>\n",
       "    </tr>\n",
       "    <tr>\n",
       "      <th>4</th>\n",
       "      <td>32</td>\n",
       "      <td>28.880000</td>\n",
       "      <td>0</td>\n",
       "      <td>3866.85520</td>\n",
       "      <td>0</td>\n",
       "      <td>1</td>\n",
       "      <td>1</td>\n",
       "      <td>0</td>\n",
       "      <td>1</td>\n",
       "      <td>0</td>\n",
       "      <td>0</td>\n",
       "      <td>0</td>\n",
       "    </tr>\n",
       "  </tbody>\n",
       "</table>\n",
       "</div>"
      ],
      "text/plain": [
       "   idade        imc  filhos  custo_medico_anual  sexo_feminino  \\\n",
       "0     19  27.900000       0         16884.92400              1   \n",
       "1     18  33.770000       1          1725.55230              0   \n",
       "2     28  33.000000       3          4449.46200              0   \n",
       "3     33  30.693019       0         21984.47061              0   \n",
       "4     32  28.880000       0          3866.85520              0   \n",
       "\n",
       "   sexo_masculino  fumante_no  fumante_yes  regiao_nordeste  regiao_norte  \\\n",
       "0               0           0            1                0             0   \n",
       "1               1           1            0                0             0   \n",
       "2               1           1            0                0             0   \n",
       "3               1           1            0                1             0   \n",
       "4               1           1            0                1             0   \n",
       "\n",
       "   regiao_sudeste  regiao_sul  \n",
       "0               1           0  \n",
       "1               0           1  \n",
       "2               0           1  \n",
       "3               0           0  \n",
       "4               0           0  "
      ]
     },
     "execution_count": 26,
     "metadata": {},
     "output_type": "execute_result"
    }
   ],
   "source": [
    "# Prepara as variáveis dummy (converte variáveis categóricas para representações numéricas com Label Encoding)\n",
    "dataset = pd.get_dummies(dataset)\n",
    "dataset.head()"
   ]
  },
  {
   "cell_type": "code",
   "execution_count": 27,
   "metadata": {
    "colab": {},
    "colab_type": "code",
    "id": "QScYwe2Tm9L5"
   },
   "outputs": [],
   "source": [
    "# Divide os dados em x e y\n",
    "X = dataset.drop(columns = ['custo_medico_anual'])\n",
    "y = dataset['custo_medico_anual']"
   ]
  },
  {
   "cell_type": "code",
   "execution_count": 28,
   "metadata": {
    "colab": {},
    "colab_type": "code",
    "id": "6Iq0nQT8nZDx"
   },
   "outputs": [],
   "source": [
    "# Divide os dados em treino e teste\n",
    "\n",
    "# Importa a função\n",
    "from sklearn.model_selection import train_test_split\n",
    "\n",
    "# Aplica a função com 10% dos dados para teste\n",
    "X_train, X_test, y_train, y_test = train_test_split(X, y, test_size = 0.1, random_state = 42)"
   ]
  },
  {
   "cell_type": "code",
   "execution_count": 29,
   "metadata": {},
   "outputs": [
    {
     "data": {
      "text/plain": [
       "'0.22.2'"
      ]
     },
     "execution_count": 29,
     "metadata": {},
     "output_type": "execute_result"
    }
   ],
   "source": [
    "import sklearn as sk\n",
    "sk.__version__"
   ]
  },
  {
   "cell_type": "code",
   "execution_count": 30,
   "metadata": {
    "colab": {
     "base_uri": "https://localhost:8080/",
     "height": 68
    },
    "colab_type": "code",
    "id": "bymd--pXr_Nf",
    "outputId": "226696f0-9cc0-44e3-d45b-7ff9a5ed482d"
   },
   "outputs": [
    {
     "name": "stdout",
     "output_type": "stream",
     "text": [
      "MSE nos dados de treino: 3.6915e+07, MSE nos dados de teste: 3.2604e+07\n",
      "RMSE nos dados de treino: 6075.8, RMSE nos dados de teste: 6075.8\n",
      "R2 nos dados de treino: 0.74968, R2 nos dados de teste: 0.76367\n"
     ]
    }
   ],
   "source": [
    "# Cria a primeira versão do modelo de regressão linear\n",
    "\n",
    "# Imports\n",
    "from sklearn.linear_model import LinearRegression\n",
    "from sklearn.metrics import r2_score, mean_squared_error\n",
    "\n",
    "# Cria o modelo e treina com os dados de teste\n",
    "lr = LinearRegression().fit(X_train, y_train)\n",
    "\n",
    "# Previsões nos dados de treino\n",
    "lr_train_pred = lr.predict(X_train)\n",
    "\n",
    "# Previsões nos dados de teste\n",
    "lr_test_pred = lr.predict(X_test)\n",
    "\n",
    "# Calcula as métricas\n",
    "lr_train_mse = mean_squared_error(y_train, lr_train_pred)\n",
    "lr_test_mse = mean_squared_error(y_test, lr_test_pred)\n",
    "\n",
    "# Imprime o MSE (Mean Squared Error)\n",
    "print('MSE nos dados de treino: {:.5}, MSE nos dados de teste: {:.5}'.format(lr_train_mse, lr_test_mse))\n",
    "\n",
    "# Imprime o RMSE (Root Mean Squared Error)\n",
    "print('RMSE nos dados de treino: {:.5}, RMSE nos dados de teste: {:.5}'.format(\n",
    "    np.sqrt(np.absolute(lr_train_mse)), \n",
    "    np.sqrt(np.absolute(lr_train_mse))))\n",
    "  \n",
    "# Coeficiente R2\n",
    "print('R2 nos dados de treino: {:.5}, R2 nos dados de teste: {:.5}'.format(\n",
    "    r2_score(y_train, lr_train_pred),\n",
    "    r2_score(y_test, lr_test_pred)))"
   ]
  },
  {
   "cell_type": "code",
   "execution_count": 31,
   "metadata": {
    "colab": {
     "base_uri": "https://localhost:8080/",
     "height": 68
    },
    "colab_type": "code",
    "id": "nqAaUntrvWFP",
    "outputId": "c85b8131-4597-4c18-a70f-5eadd30f4517"
   },
   "outputs": [
    {
     "name": "stdout",
     "output_type": "stream",
     "text": [
      "MSE nos dados de treino: 3.4792e+06, MSE nos dados de teste: 2.6346e+07\n",
      "RMSE nos dados de treino: 1865.2, RMSE nos dados de teste: 1865.2\n",
      "R2 nos dados de treino: 0.97641, R2 nos dados de teste: 0.80903\n"
     ]
    }
   ],
   "source": [
    "# Testando outro algoritmo (Método Ensemble)\n",
    "\n",
    "# Import\n",
    "from sklearn.ensemble import RandomForestRegressor\n",
    "\n",
    "# Cria e treina o modelo\n",
    "rfr = RandomForestRegressor(n_estimators = 50).fit(X_train, y_train)\n",
    "\n",
    "# Previsões em treino e teste\n",
    "rfr_train_pred = rfr.predict(X_train)\n",
    "rfr_test_pred = rfr.predict(X_test)\n",
    "\n",
    "# Calcula as métricas em treino e meste\n",
    "rfr_train_mse = mean_squared_error(y_train,rfr_train_pred)\n",
    "rfr_test_mse = mean_squared_error(y_test,rfr_test_pred)\n",
    "\n",
    "# Imprime o MSE (Mean Squared Error)\n",
    "print('MSE nos dados de treino: {:.5}, MSE nos dados de teste: {:.5}'.format(rfr_train_mse, rfr_test_mse))\n",
    "\n",
    "# Imprime o RMSE (Root Mean Squared Error)\n",
    "print('RMSE nos dados de treino: {:.5}, RMSE nos dados de teste: {:.5}'.format(\n",
    "    np.sqrt(np.absolute(rfr_train_mse)), \n",
    "    np.sqrt(np.absolute(rfr_train_mse))))\n",
    "    \n",
    "# Coeficiente R2\n",
    "print('R2 nos dados de treino: {:.5}, R2 nos dados de teste: {:.5}'.format(\n",
    "    r2_score(y_train, rfr_train_pred),\n",
    "    r2_score(y_test, rfr_test_pred)))"
   ]
  },
  {
   "cell_type": "markdown",
   "metadata": {
    "colab_type": "text",
    "id": "zvnbl_2KzN2C"
   },
   "source": [
    "Esta é uma previsão decente, podemos assumir que o RandomForest apresenta um melhor resultado com uma pontuação R2 de 97% nos dados de treinamento e 82% nos dados de teste (nunca vistos antes). Ele também tem o menor valor RMSE."
   ]
  },
  {
   "cell_type": "markdown",
   "metadata": {},
   "source": [
    "# Fim"
   ]
  }
 ],
 "metadata": {
  "colab": {
   "collapsed_sections": [],
   "include_colab_link": true,
   "name": "HealthCare.ipynb",
   "provenance": [],
   "version": "0.3.2"
  },
  "kernelspec": {
   "display_name": "Python 3",
   "language": "python",
   "name": "python3"
  },
  "language_info": {
   "codemirror_mode": {
    "name": "ipython",
    "version": 3
   },
   "file_extension": ".py",
   "mimetype": "text/x-python",
   "name": "python",
   "nbconvert_exporter": "python",
   "pygments_lexer": "ipython3",
   "version": "3.8.3"
  }
 },
 "nbformat": 4,
 "nbformat_minor": 1
}
