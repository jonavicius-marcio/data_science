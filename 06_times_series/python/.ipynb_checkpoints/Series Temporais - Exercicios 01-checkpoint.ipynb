{
 "cells": [
  {
   "cell_type": "markdown",
   "metadata": {
    "colab_type": "text",
    "id": "BPQyEDpP1u-T"
   },
   "source": [
    "## Exercicios sobre Time Series com Python"
   ]
  },
  {
   "cell_type": "code",
   "execution_count": 0,
   "metadata": {
    "colab": {
     "base_uri": "https://localhost:8080/",
     "height": 54
    },
    "colab_type": "code",
    "executionInfo": {
     "elapsed": 681,
     "status": "ok",
     "timestamp": 1586208693825,
     "user": {
      "displayName": "Rodrigo Santana Ferreira",
      "photoUrl": "https://lh3.googleusercontent.com/a-/AOh14Gh4OVUnkCrXudTIiz5YNwndI2zAhcS1gWXUSvoqJQ=s64",
      "userId": "14710330936720624047"
     },
     "user_tz": 180
    },
    "id": "H9uenSiwtDE0",
    "outputId": "b9147e36-65af-4dac-b07b-00dfcb29806d"
   },
   "outputs": [
    {
     "name": "stdout",
     "output_type": "stream",
     "text": [
      "Drive already mounted at /content/drive; to attempt to forcibly remount, call drive.mount(\"/content/drive\", force_remount=True).\n"
     ]
    }
   ],
   "source": [
    "# MONTE O DRIVE E CARREGUE A BASE DE DADOS\n",
    "from google.colab import drive\n",
    "drive.mount('/content/drive')"
   ]
  },
  {
   "cell_type": "markdown",
   "metadata": {
    "colab_type": "text",
    "id": "IKvQYGPyAks8"
   },
   "source": [
    "#### 01 - Para que server os parâmetros abaixo? (escreva a frente de cada parâmetro)"
   ]
  },
  {
   "cell_type": "markdown",
   "metadata": {
    "colab_type": "text",
    "id": "sQZRKwarE14u"
   },
   "source": [
    "\n",
    "\n",
    "*   **header=0** : xxx\n",
    "*   **parse_date=True** : xxx\n",
    "*   **index_col=0** : abc\n",
    "*   **squeeze=True**: \n"
   ]
  },
  {
   "cell_type": "code",
   "execution_count": 0,
   "metadata": {
    "colab": {},
    "colab_type": "code",
    "id": "Y-KWI77e1r9Q"
   },
   "outputs": [],
   "source": [
    "# LEIA A BASE DE DADOS\n",
    "from pandas import read_csv\n",
    "series = read_csv('/content/drive/My Drive/Curso Séries Temporais/champagne_sales.csv', header=0, index_col=0, parse_dates=True, squeeze=True)"
   ]
  },
  {
   "cell_type": "markdown",
   "metadata": {
    "colab_type": "text",
    "id": "ojtcsfEg8mXV"
   },
   "source": [
    "#### 02 - Leia a base de dados da forma mais simples possível, plotando um gráfico de linhas (complete o código abaixo)"
   ]
  },
  {
   "cell_type": "code",
   "execution_count": 0,
   "metadata": {
    "colab": {},
    "colab_type": "code",
    "id": "JANb_abE8jBF"
   },
   "outputs": [],
   "source": [
    "import matplotlib.pyplot as plt\n",
    "xxx.plot()"
   ]
  },
  {
   "cell_type": "markdown",
   "metadata": {
    "colab_type": "text",
    "id": "FxxIsWMM9dAX"
   },
   "source": [
    "#### 03 - Plote um histograma com o seus dados (complete o código abaixo)"
   ]
  },
  {
   "cell_type": "code",
   "execution_count": 0,
   "metadata": {
    "colab": {},
    "colab_type": "code",
    "id": "rPKj6oVJ9dLL"
   },
   "outputs": [],
   "source": [
    "xxxx.his()"
   ]
  },
  {
   "cell_type": "markdown",
   "metadata": {
    "colab_type": "text",
    "id": "fVl_fLD-ZvOB"
   },
   "source": [
    "#### 04 - Plote um gráfico de disperssão entre os seus dados e o lag t+7. O que você observou? existe alguma tendência? Complete o código abaixo (Use o método lag_plot())\n",
    "\n"
   ]
  },
  {
   "cell_type": "code",
   "execution_count": 0,
   "metadata": {
    "colab": {},
    "colab_type": "code",
    "id": "J_qv8c1Yaqoy"
   },
   "outputs": [],
   "source": [
    "from pandas.plotting import lag_plot\n",
    "xxxxxx"
   ]
  },
  {
   "cell_type": "markdown",
   "metadata": {
    "colab_type": "text",
    "id": "qTVylP5QDNwc"
   },
   "source": [
    "#### 05 - Plote um gráfico de autocorrelação usando a biblioteca Statsmodels com número de lags=60 (Complete o código abaixo)"
   ]
  },
  {
   "cell_type": "code",
   "execution_count": 0,
   "metadata": {
    "colab": {},
    "colab_type": "code",
    "id": "Q-Rg3Vpufiju"
   },
   "outputs": [],
   "source": [
    "from statsmodels.graphics.tsaplots import plot_acf\n",
    "from matplotlib import pyplot"
   ]
  },
  {
   "cell_type": "markdown",
   "metadata": {
    "colab_type": "text",
    "id": "Mr4gyxsXDs-L"
   },
   "source": [
    "#### 06 - Remodele os dados para trabalhar com trimestres e plote um gráficos de vendas por trimestre usando plotly (Complete os códigos abaixo)"
   ]
  },
  {
   "cell_type": "code",
   "execution_count": 0,
   "metadata": {
    "colab": {},
    "colab_type": "code",
    "id": "-7xI9nlAzTmR"
   },
   "outputs": [],
   "source": [
    "upsampled = series.resample(xxxx)"
   ]
  },
  {
   "cell_type": "code",
   "execution_count": 0,
   "metadata": {
    "colab": {},
    "colab_type": "code",
    "id": "VvDptUh1zTWm"
   },
   "outputs": [],
   "source": [
    "vendas_trimestre = upsampled.mean()"
   ]
  },
  {
   "cell_type": "code",
   "execution_count": 0,
   "metadata": {
    "colab": {},
    "colab_type": "code",
    "id": "XJmekj80zdDR"
   },
   "outputs": [],
   "source": [
    "print (vendas_trimestre)"
   ]
  },
  {
   "cell_type": "code",
   "execution_count": 0,
   "metadata": {
    "colab": {},
    "colab_type": "code",
    "id": "rGgPk8rTAnGi"
   },
   "outputs": [],
   "source": [
    "import plotly.offline as py\n",
    "import plotly.graph_objs as go\n",
    "\n",
    "data = [xxxx\n",
    "                   ]\n",
    "\n",
    "# Criando Layout:\n",
    "configuracoes_layout = go.Layout(xxxx)                   \n",
    "\n",
    "\n",
    "# Objeto figura:\n",
    "fig = go.Figure(data=data, layout=configuracoes_layout)\n",
    "\n",
    "# plotando o grafico:\n",
    "py.iplot(fig)"
   ]
  },
  {
   "cell_type": "markdown",
   "metadata": {
    "colab_type": "text",
    "id": "Z8EIlURYE7nb"
   },
   "source": [
    "#### 07 - Crie lags t+1, t+3 e concatene estas lags em um dataframe. Imprima o dataframe para observar como ficou os dados (Complete os códigos abaixo)"
   ]
  },
  {
   "cell_type": "code",
   "execution_count": 0,
   "metadata": {
    "colab": {},
    "colab_type": "code",
    "id": "FaGtDGeDQlPF"
   },
   "outputs": [],
   "source": [
    "# cria a variável lag1\n",
    "lag1 = xxx.shift(xxx)"
   ]
  },
  {
   "cell_type": "code",
   "execution_count": 0,
   "metadata": {
    "colab": {},
    "colab_type": "code",
    "id": "pw3f9-KkFVYN"
   },
   "outputs": [],
   "source": [
    "# cria a variável lag3\n",
    "lag3 = xxxx"
   ]
  },
  {
   "cell_type": "code",
   "execution_count": 0,
   "metadata": {
    "colab": {},
    "colab_type": "code",
    "id": "2QlEoXuVQuuz"
   },
   "outputs": [],
   "source": [
    "# Cria um dataframe chamado temp com os dados originais\n",
    "import pandas as pd\n",
    "temp = pd.DataFrame(series.values)"
   ]
  },
  {
   "cell_type": "code",
   "execution_count": 0,
   "metadata": {
    "colab": {},
    "colab_type": "code",
    "id": "A2dgktEBRibM"
   },
   "outputs": [],
   "source": [
    "# imprima a variável temp\n",
    "xxxx"
   ]
  },
  {
   "cell_type": "code",
   "execution_count": 0,
   "metadata": {
    "colab": {},
    "colab_type": "code",
    "id": "i2Kz83_E6H21"
   },
   "outputs": [],
   "source": [
    "# concatena as variáveis lag1, lag3 no dataframe temp\n",
    "from pandas import concat\n",
    "dataframe = concat([xxxx, temp], axis=1)"
   ]
  },
  {
   "cell_type": "code",
   "execution_count": 0,
   "metadata": {
    "colab": {},
    "colab_type": "code",
    "id": "ZV1zfHEd6HqF"
   },
   "outputs": [],
   "source": [
    "# cria as coluanas t, t+1, t+3\n",
    "dataframe.columns = ['t', 't+1']"
   ]
  },
  {
   "cell_type": "code",
   "execution_count": 0,
   "metadata": {
    "colab": {},
    "colab_type": "code",
    "id": "yXRQhCoF6HmQ"
   },
   "outputs": [],
   "source": [
    "# imprime o dataframe\n",
    "dataframe.head(5)"
   ]
  },
  {
   "cell_type": "markdown",
   "metadata": {
    "colab_type": "text",
    "id": "WaUAQ-rlGHVR"
   },
   "source": [
    "#### 08 - Use o método Rolling para criar objetos de janela e crie variáveis usando estatísticas (Complete os códigos abaixo)"
   ]
  },
  {
   "cell_type": "code",
   "execution_count": 0,
   "metadata": {
    "colab": {},
    "colab_type": "code",
    "id": "rKYpPUimZQYl"
   },
   "outputs": [],
   "source": [
    "# cria um dataframe a partir dos dados originais\n",
    "temp = pd.DataFrame(series.values)"
   ]
  },
  {
   "cell_type": "code",
   "execution_count": 0,
   "metadata": {
    "colab": {},
    "colab_type": "code",
    "id": "aLuNhZZ9cAFV"
   },
   "outputs": [],
   "source": [
    "# crie a variável dados_deslocados com lag = 3\n",
    "dados_deslocados = temp.shift(xxx)"
   ]
  },
  {
   "cell_type": "code",
   "execution_count": 0,
   "metadata": {
    "colab": {},
    "colab_type": "code",
    "id": "skj2-c9ttkiE"
   },
   "outputs": [],
   "source": [
    "# imprime a variável dados_deslocados\n",
    "dados_deslocados"
   ]
  },
  {
   "cell_type": "code",
   "execution_count": 0,
   "metadata": {
    "colab": {},
    "colab_type": "code",
    "id": "uL6FSF9kZGPK"
   },
   "outputs": [],
   "source": [
    "# cria a variável janela que recebe o rolling do mesmo tamanho usado para criar a variável dados_deslocados\n",
    "janela = dados_deslocados.rolling(xxxxx)"
   ]
  },
  {
   "cell_type": "code",
   "execution_count": 0,
   "metadata": {
    "colab": {},
    "colab_type": "code",
    "id": "G7qmh-rDZGLV"
   },
   "outputs": [],
   "source": [
    "# cria o dataframe com as estatísticas da janela\n",
    "dataframe = concat([xxx.min(), xx.mean(), xxx.max(), temp], axis=1)"
   ]
  },
  {
   "cell_type": "code",
   "execution_count": 0,
   "metadata": {
    "colab": {},
    "colab_type": "code",
    "id": "eyTNp98GTKjG"
   },
   "outputs": [],
   "source": [
    "# imprime o dataframe gerado\n",
    "dataframe"
   ]
  },
  {
   "cell_type": "code",
   "execution_count": 0,
   "metadata": {
    "colab": {},
    "colab_type": "code",
    "id": "sf_q219lZGHv"
   },
   "outputs": [],
   "source": [
    "# cria as colunas do dataframe\n",
    "dataframe.columns = ['min', 'mean', 'max', 't+1']"
   ]
  },
  {
   "cell_type": "code",
   "execution_count": 0,
   "metadata": {
    "colab": {},
    "colab_type": "code",
    "id": "-Ep90j8cHiQ1"
   },
   "outputs": [],
   "source": [
    "# imprime o dataframe\n",
    "dataframe.head(10)"
   ]
  },
  {
   "cell_type": "markdown",
   "metadata": {
    "colab_type": "text",
    "id": "c_6RCXhmHjVI"
   },
   "source": [
    "### **Ao terminar de fazer os exercícios assista a aula de correção para tirar suas dúvidas e conferir se tudo está correto.**\n",
    "\n",
    "Bons estudos :)"
   ]
  }
 ],
 "metadata": {
  "colab": {
   "collapsed_sections": [],
   "name": "Séries Temporais - Exercicios 01.ipynb",
   "provenance": []
  },
  "kernelspec": {
   "display_name": "Python 3 (ipykernel)",
   "language": "python",
   "name": "python3"
  },
  "language_info": {
   "codemirror_mode": {
    "name": "ipython",
    "version": 3
   },
   "file_extension": ".py",
   "mimetype": "text/x-python",
   "name": "python",
   "nbconvert_exporter": "python",
   "pygments_lexer": "ipython3",
   "version": "3.9.13"
  }
 },
 "nbformat": 4,
 "nbformat_minor": 1
}
