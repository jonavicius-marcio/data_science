{
 "cells": [
  {
   "cell_type": "markdown",
   "metadata": {
    "colab_type": "text",
    "id": "BPQyEDpP1u-T"
   },
   "source": [
    "## Exercicios sobre Time Series com Python"
   ]
  },
  {
   "cell_type": "code",
   "execution_count": 0,
   "metadata": {
    "colab": {},
    "colab_type": "code",
    "id": "H9uenSiwtDE0"
   },
   "outputs": [],
   "source": [
    "# MONTE O DRIVE E CARREGUE A BASE DE DADOS\n",
    "from google.colab import drive\n",
    "drive.mount('/content/drive')"
   ]
  },
  {
   "cell_type": "markdown",
   "metadata": {
    "colab_type": "text",
    "id": "IKvQYGPyAks8"
   },
   "source": [
    "#### 01 - Para que server os parâmetros abaixo? (escreva a frente de cada parâmetro)"
   ]
  },
  {
   "cell_type": "markdown",
   "metadata": {
    "colab_type": "text",
    "id": "sQZRKwarE14u"
   },
   "source": [
    "\n",
    "\n",
    "*   **header=0** : Definir a posição das colunas do dataset que está na primeira linha (posição 0).\n",
    "*   **parse_date=True** : Sinalizar que o dataset contém colunas do tipo date.\n",
    "*   **index_col=0** : Definir a coluna que será o índice.\n",
    "*   **squeeze=True**: Sinalizar que nos temos apenas um dado de coluna e que queremos transforma isso em uma série e não em um dataframe.\n"
   ]
  },
  {
   "cell_type": "code",
   "execution_count": 0,
   "metadata": {
    "colab": {},
    "colab_type": "code",
    "id": "Y-KWI77e1r9Q"
   },
   "outputs": [],
   "source": [
    "# LEIA A BASE DE DADOS\n",
    "from pandas import read_csv\n",
    "series = read_csv('/content/drive/My Drive/Curso Séries Temporais/champagne_sales.csv', header=0, index_col=0, parse_dates=True, squeeze=True)"
   ]
  },
  {
   "cell_type": "markdown",
   "metadata": {
    "colab_type": "text",
    "id": "ojtcsfEg8mXV"
   },
   "source": [
    "#### 02 - Leia a base de dados da forma mais simples possível, plotando um gráfico de linhas (complete o código abaixo)"
   ]
  },
  {
   "cell_type": "code",
   "execution_count": 0,
   "metadata": {
    "colab": {},
    "colab_type": "code",
    "id": "JANb_abE8jBF"
   },
   "outputs": [],
   "source": [
    "import matplotlib.pyplot as plt\n",
    "series.plot()"
   ]
  },
  {
   "cell_type": "code",
   "execution_count": 0,
   "metadata": {
    "colab": {},
    "colab_type": "code",
    "id": "WDjcmxgmJ7mT"
   },
   "outputs": [],
   "source": [
    "import matplotlib.pyplot as plt\n",
    "series.plot(figsize=(10,5), \n",
    "            linewidth=3, \n",
    "            fontsize=10,\n",
    "            title='Vendas ao longo dos anos')\n",
    "plt.xlabel('Ano', fontsize=10);"
   ]
  },
  {
   "cell_type": "markdown",
   "metadata": {
    "colab_type": "text",
    "id": "FxxIsWMM9dAX"
   },
   "source": [
    "#### 03 - Plote um histograma com o seus dados (complete o código abaixo)"
   ]
  },
  {
   "cell_type": "code",
   "execution_count": 0,
   "metadata": {
    "colab": {},
    "colab_type": "code",
    "id": "rPKj6oVJ9dLL"
   },
   "outputs": [],
   "source": [
    "series.hist()"
   ]
  },
  {
   "cell_type": "markdown",
   "metadata": {
    "colab_type": "text",
    "id": "fVl_fLD-ZvOB"
   },
   "source": [
    "#### 04 - Plote um gráfico de disperssão entre os seus dados e o lag t+7. O que você observou? existe alguma tendência? Complete o código abaixo (Use o método lag_plot())\n",
    "\n"
   ]
  },
  {
   "cell_type": "code",
   "execution_count": 0,
   "metadata": {
    "colab": {},
    "colab_type": "code",
    "id": "J_qv8c1Yaqoy"
   },
   "outputs": [],
   "source": [
    "from pandas.plotting import lag_plot"
   ]
  },
  {
   "cell_type": "code",
   "execution_count": 0,
   "metadata": {
    "colab": {},
    "colab_type": "code",
    "id": "Mz4tKURLz-Ka"
   },
   "outputs": [],
   "source": [
    "lag_plot(series, lag=7)"
   ]
  },
  {
   "cell_type": "markdown",
   "metadata": {
    "colab_type": "text",
    "id": "qTVylP5QDNwc"
   },
   "source": [
    "#### 05 - Plote um gráfico de autocorrelação usando a biblioteca Statsmodels com número de lags=60 (Complete o código abaixo)"
   ]
  },
  {
   "cell_type": "code",
   "execution_count": 0,
   "metadata": {
    "colab": {},
    "colab_type": "code",
    "id": "Q-Rg3Vpufiju"
   },
   "outputs": [],
   "source": [
    "from statsmodels.graphics.tsaplots import plot_acf\n",
    "from matplotlib import pyplot\n",
    "plot_acf(series, lags=60)\n",
    "pyplot.show()"
   ]
  },
  {
   "cell_type": "markdown",
   "metadata": {
    "colab_type": "text",
    "id": "Mr4gyxsXDs-L"
   },
   "source": [
    "#### 06 - Remodele os dados para trabalhar com trimestres e plote um gráficos de vendas por trimestre usando plotly (Complete os códigos abaixo)"
   ]
  },
  {
   "cell_type": "code",
   "execution_count": 0,
   "metadata": {
    "colab": {},
    "colab_type": "code",
    "id": "-7xI9nlAzTmR"
   },
   "outputs": [],
   "source": [
    "upsampled = series.resample('Q')"
   ]
  },
  {
   "cell_type": "code",
   "execution_count": 0,
   "metadata": {
    "colab": {},
    "colab_type": "code",
    "id": "VvDptUh1zTWm"
   },
   "outputs": [],
   "source": [
    "vendas_trimestre = upsampled.mean()"
   ]
  },
  {
   "cell_type": "code",
   "execution_count": 0,
   "metadata": {
    "colab": {},
    "colab_type": "code",
    "id": "XJmekj80zdDR"
   },
   "outputs": [],
   "source": [
    "print (vendas_trimestre)"
   ]
  },
  {
   "cell_type": "code",
   "execution_count": 0,
   "metadata": {
    "colab": {},
    "colab_type": "code",
    "id": "rGgPk8rTAnGi"
   },
   "outputs": [],
   "source": [
    "import plotly.offline as py\n",
    "import plotly.graph_objs as go\n",
    "\n",
    "data = [go.Scatter(x=vendas_trimestre.index,\n",
    "                   y=vendas_trimestre.values,\n",
    "                   marker = {'color':'#941229'})\n",
    "                   ]\n",
    "\n",
    "# Criando Layout:\n",
    "configuracoes_layout = go.Layout(title='Vendas médias por trimestre',\n",
    "                                 title_x=0.5,\n",
    "                                 yaxis={'title':'Média de vendas'},\n",
    "                                 xaxis={'title':'Periodo'})                    \n",
    "\n",
    "\n",
    "# Objeto figura:\n",
    "fig = go.Figure(data=data, layout=configuracoes_layout)\n",
    "\n",
    "# plotando o grafico:\n",
    "py.iplot(fig)"
   ]
  },
  {
   "cell_type": "markdown",
   "metadata": {
    "colab_type": "text",
    "id": "WaUAQ-rlGHVR"
   },
   "source": [
    "#### 07 - Use o método Rolling para criar objetos de janela e crie variáveis usando estatísticas (Complete os códigos abaixo)"
   ]
  },
  {
   "cell_type": "code",
   "execution_count": 0,
   "metadata": {
    "colab": {},
    "colab_type": "code",
    "id": "rKYpPUimZQYl"
   },
   "outputs": [],
   "source": [
    "# cria um dataframe a partir dos dados originais\n",
    "import pandas as pd\n",
    "temp = pd.DataFrame(series.values)"
   ]
  },
  {
   "cell_type": "code",
   "execution_count": 0,
   "metadata": {
    "colab": {},
    "colab_type": "code",
    "id": "aLuNhZZ9cAFV"
   },
   "outputs": [],
   "source": [
    "# crie a variável dados_deslocados com lag = 3\n",
    "dados_deslocados = temp.shift(3)"
   ]
  },
  {
   "cell_type": "code",
   "execution_count": 0,
   "metadata": {
    "colab": {},
    "colab_type": "code",
    "id": "skj2-c9ttkiE"
   },
   "outputs": [],
   "source": [
    "# imprime a variável dados_deslocados\n",
    "dados_deslocados"
   ]
  },
  {
   "cell_type": "code",
   "execution_count": 0,
   "metadata": {
    "colab": {},
    "colab_type": "code",
    "id": "uL6FSF9kZGPK"
   },
   "outputs": [],
   "source": [
    "# cria a variável janela que recebe o rolling do mesmo tamanho usado para criar a variável dados_deslocados\n",
    "janela = dados_deslocados.rolling(3)"
   ]
  },
  {
   "cell_type": "code",
   "execution_count": 0,
   "metadata": {
    "colab": {},
    "colab_type": "code",
    "id": "G7qmh-rDZGLV"
   },
   "outputs": [],
   "source": [
    "# cria o dataframe com as estatísticas da janela\n",
    "from pandas import concat\n",
    "dataframe = concat([janela.min(), janela.mean(), janela.max(), temp], axis=1)"
   ]
  },
  {
   "cell_type": "code",
   "execution_count": 0,
   "metadata": {
    "colab": {},
    "colab_type": "code",
    "id": "eyTNp98GTKjG"
   },
   "outputs": [],
   "source": [
    "# imprime o dataframe gerado\n",
    "dataframe"
   ]
  },
  {
   "cell_type": "code",
   "execution_count": 0,
   "metadata": {
    "colab": {},
    "colab_type": "code",
    "id": "sf_q219lZGHv"
   },
   "outputs": [],
   "source": [
    "# cria as colunas do dataframe\n",
    "dataframe.columns = ['min', 'mean', 'max', 't+1']"
   ]
  },
  {
   "cell_type": "code",
   "execution_count": 0,
   "metadata": {
    "colab": {},
    "colab_type": "code",
    "id": "-Ep90j8cHiQ1"
   },
   "outputs": [],
   "source": [
    "# imprime o dataframe\n",
    "dataframe.head(10)"
   ]
  },
  {
   "cell_type": "markdown",
   "metadata": {
    "colab_type": "text",
    "id": "c_6RCXhmHjVI"
   },
   "source": [
    "**Caso tenha alguma dúvida envie para o endereço suporte@minerandodados.com.br** ou comente abaixo da aula.\n",
    "\n",
    "Bons estudos :)"
   ]
  }
 ],
 "metadata": {
  "colab": {
   "collapsed_sections": [],
   "name": "Séries Temporais - Resolução dos Exercicios 01.ipynb",
   "provenance": []
  },
  "kernelspec": {
   "display_name": "Python 3 (ipykernel)",
   "language": "python",
   "name": "python3"
  },
  "language_info": {
   "codemirror_mode": {
    "name": "ipython",
    "version": 3
   },
   "file_extension": ".py",
   "mimetype": "text/x-python",
   "name": "python",
   "nbconvert_exporter": "python",
   "pygments_lexer": "ipython3",
   "version": "3.9.13"
  }
 },
 "nbformat": 4,
 "nbformat_minor": 1
}
