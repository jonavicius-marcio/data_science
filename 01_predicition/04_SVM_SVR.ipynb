{
 "cells": [
  {
   "attachments": {},
   "cell_type": "markdown",
   "id": "ec38059e",
   "metadata": {},
   "source": [
    "# SVR (support vector regressor) continuos target"
   ]
  },
  {
   "cell_type": "code",
   "execution_count": 1,
   "id": "bceb9b4e",
   "metadata": {},
   "outputs": [],
   "source": [
    "import numpy as np\n",
    "import matplotlib.pyplot as plt\n",
    "import pandas as pd"
   ]
  },
  {
   "cell_type": "code",
   "execution_count": 5,
   "id": "64687c23",
   "metadata": {},
   "outputs": [],
   "source": [
    "beer = pd.read_csv(\"data/beer_consumption.csv\", \n",
    "                    parse_dates = ['date'],\n",
    "                    dtype = {'average_temperature': np.float32,\n",
    "                             'minimum_temperature': np.float32,\n",
    "                             'maximum_temperature': np.float32,\n",
    "                             'rainfall_mm': np.float32,\n",
    "                             'weekend': np.int32,\n",
    "                             'beer_consumption_liters': np.float32             \n",
    "                    })"
   ]
  },
  {
   "cell_type": "code",
   "execution_count": 6,
   "id": "308f0881",
   "metadata": {},
   "outputs": [
    {
     "data": {
      "text/html": [
       "<div>\n",
       "<style scoped>\n",
       "    .dataframe tbody tr th:only-of-type {\n",
       "        vertical-align: middle;\n",
       "    }\n",
       "\n",
       "    .dataframe tbody tr th {\n",
       "        vertical-align: top;\n",
       "    }\n",
       "\n",
       "    .dataframe thead th {\n",
       "        text-align: right;\n",
       "    }\n",
       "</style>\n",
       "<table border=\"1\" class=\"dataframe\">\n",
       "  <thead>\n",
       "    <tr style=\"text-align: right;\">\n",
       "      <th></th>\n",
       "      <th>date</th>\n",
       "      <th>average_temperature</th>\n",
       "      <th>minimum_temperature</th>\n",
       "      <th>maximum_temperature</th>\n",
       "      <th>rainfall_mm</th>\n",
       "      <th>weekend</th>\n",
       "      <th>beer_consumption_liters</th>\n",
       "    </tr>\n",
       "  </thead>\n",
       "  <tbody>\n",
       "    <tr>\n",
       "      <th>0</th>\n",
       "      <td>2015-01-01</td>\n",
       "      <td>27.299999</td>\n",
       "      <td>23.9</td>\n",
       "      <td>32.500000</td>\n",
       "      <td>0.0</td>\n",
       "      <td>0</td>\n",
       "      <td>25.461000</td>\n",
       "    </tr>\n",
       "    <tr>\n",
       "      <th>1</th>\n",
       "      <td>2015-01-02</td>\n",
       "      <td>27.020000</td>\n",
       "      <td>24.5</td>\n",
       "      <td>33.500000</td>\n",
       "      <td>0.0</td>\n",
       "      <td>0</td>\n",
       "      <td>28.972000</td>\n",
       "    </tr>\n",
       "    <tr>\n",
       "      <th>2</th>\n",
       "      <td>2015-01-03</td>\n",
       "      <td>24.820000</td>\n",
       "      <td>22.4</td>\n",
       "      <td>29.900000</td>\n",
       "      <td>0.0</td>\n",
       "      <td>1</td>\n",
       "      <td>30.813999</td>\n",
       "    </tr>\n",
       "    <tr>\n",
       "      <th>3</th>\n",
       "      <td>2015-01-04</td>\n",
       "      <td>23.980000</td>\n",
       "      <td>21.5</td>\n",
       "      <td>28.600000</td>\n",
       "      <td>1.2</td>\n",
       "      <td>1</td>\n",
       "      <td>29.799000</td>\n",
       "    </tr>\n",
       "    <tr>\n",
       "      <th>4</th>\n",
       "      <td>2015-01-05</td>\n",
       "      <td>23.820000</td>\n",
       "      <td>21.0</td>\n",
       "      <td>28.299999</td>\n",
       "      <td>0.0</td>\n",
       "      <td>0</td>\n",
       "      <td>28.900000</td>\n",
       "    </tr>\n",
       "  </tbody>\n",
       "</table>\n",
       "</div>"
      ],
      "text/plain": [
       "        date  average_temperature  minimum_temperature  maximum_temperature  \\\n",
       "0 2015-01-01            27.299999                 23.9            32.500000   \n",
       "1 2015-01-02            27.020000                 24.5            33.500000   \n",
       "2 2015-01-03            24.820000                 22.4            29.900000   \n",
       "3 2015-01-04            23.980000                 21.5            28.600000   \n",
       "4 2015-01-05            23.820000                 21.0            28.299999   \n",
       "\n",
       "   rainfall_mm  weekend  beer_consumption_liters  \n",
       "0          0.0        0                25.461000  \n",
       "1          0.0        0                28.972000  \n",
       "2          0.0        1                30.813999  \n",
       "3          1.2        1                29.799000  \n",
       "4          0.0        0                28.900000  "
      ]
     },
     "execution_count": 6,
     "metadata": {},
     "output_type": "execute_result"
    }
   ],
   "source": [
    "beer.head()"
   ]
  },
  {
   "cell_type": "code",
   "execution_count": 13,
   "id": "d0551ae5",
   "metadata": {},
   "outputs": [],
   "source": [
    "X= beer.drop(columns=['date', 'beer_consumption_liters'])\n",
    "y = beer[['beer_consumption_liters']]"
   ]
  },
  {
   "cell_type": "code",
   "execution_count": 24,
   "id": "87ea97a3",
   "metadata": {},
   "outputs": [],
   "source": [
    "from sklearn.preprocessing import StandardScaler\n",
    "sc_X = StandardScaler()\n",
    "sc_y = StandardScaler()\n",
    "X = sc_X.fit_transform(X)\n",
    "y = sc_y.fit_transform(y)\n",
    "\n",
    "# Standardize features by removing the mean and scaling to unit variance.\n",
    "#  The standard score of a sample x is calculated as: z = (x - u) / s."
   ]
  },
  {
   "cell_type": "code",
   "execution_count": 25,
   "id": "e6043461",
   "metadata": {},
   "outputs": [
    {
     "name": "stderr",
     "output_type": "stream",
     "text": [
      "c:\\Users\\Marcio Rodrigues\\anaconda3\\lib\\site-packages\\sklearn\\utils\\validation.py:63: DataConversionWarning: A column-vector y was passed when a 1d array was expected. Please change the shape of y to (n_samples, ), for example using ravel().\n",
      "  return f(*args, **kwargs)\n"
     ]
    },
    {
     "data": {
      "text/plain": [
       "SVR()"
      ]
     },
     "execution_count": 25,
     "metadata": {},
     "output_type": "execute_result"
    }
   ],
   "source": [
    "from sklearn.svm import SVR\n",
    "regressor = SVR(kernel = 'rbf')\n",
    "regressor.fit(X, y)"
   ]
  },
  {
   "cell_type": "code",
   "execution_count": null,
   "id": "1194332c",
   "metadata": {},
   "outputs": [],
   "source": []
  },
  {
   "attachments": {},
   "cell_type": "markdown",
   "id": "d2a794e0",
   "metadata": {},
   "source": [
    "# Teste 2 "
   ]
  },
  {
   "cell_type": "code",
   "execution_count": null,
   "id": "665832eb",
   "metadata": {},
   "outputs": [],
   "source": [
    "# get the libraries\n",
    "import numpy as np\n",
    "import matplotlib.pyplot as plt\n",
    "import pandas as pd"
   ]
  },
  {
   "cell_type": "code",
   "execution_count": 79,
   "id": "be00d839",
   "metadata": {},
   "outputs": [
    {
     "name": "stdout",
     "output_type": "stream",
     "text": [
      "            Position  Level   Salary\n",
      "0   Business Analyst      1    45000\n",
      "1  Junior Consultant      2    50000\n",
      "2  Senior Consultant      3    60000\n",
      "3            Manager      4    80000\n",
      "4    Country Manager      5   110000\n",
      "5     Region Manager      6   150000\n",
      "6            Partner      7   200000\n",
      "7     Senior Partner      8   300000\n",
      "8            C-level      9   500000\n",
      "9                CEO     10  1000000\n"
     ]
    }
   ],
   "source": [
    "# get the dataset\n",
    "dataset = pd.read_csv('data/Position_Salaries.csv')\n",
    "# our dataset in this implementation is small, and thus we can print it all instead of viewing only the end\n",
    "print(dataset)"
   ]
  },
  {
   "cell_type": "code",
   "execution_count": 98,
   "id": "99194891",
   "metadata": {},
   "outputs": [],
   "source": [
    "# split the data into featutes and target variable seperately\n",
    "X_l = dataset.iloc[:, 1:-1].values # features set\n",
    "y_p = dataset.iloc[:, -1].values # set of study variable"
   ]
  },
  {
   "cell_type": "code",
   "execution_count": 85,
   "id": "ca69b085",
   "metadata": {},
   "outputs": [
    {
     "data": {
      "image/png": "[encoded data removed]",
      "text/plain": [
       "<Figure size 432x288 with 1 Axes>"
      ]
     },
     "metadata": {},
     "output_type": "display_data"
    }
   ],
   "source": [
    "plt.scatter(X_l, y_p, color = 'red') # plotting the training set\n",
    "plt.title('Scatter Plot') # adding a tittle to our plot\n",
    "plt.xlabel('Levels') # adds a label to the x-axis\n",
    "plt.ylabel('Salary') # adds a label to the y-axis\n",
    "plt.show() # prints"
   ]
  },
  {
   "attachments": {},
   "cell_type": "markdown",
   "id": "92b6de03",
   "metadata": {},
   "source": [
    "The plot shows a non-linear relationship between the Levels and Salary.\n",
    "\n",
    "Due to this, we cannot use the linear SVR to model this data. Therefore, to capture this relationship better, we will use the SVR with the kernel functions.\n",
    "\n",
    "More about the kernels \n",
    "https://www.geeksforgeeks.org/major-kernel-functions-in-support-vector-machine-svm/ \n"
   ]
  },
  {
   "cell_type": "code",
   "execution_count": 102,
   "id": "e907c7c7",
   "metadata": {},
   "outputs": [],
   "source": [
    "# Convert y_p from 1d to 2D\n",
    "y_p = y_p.reshape(-1,1)"
   ]
  },
  {
   "cell_type": "code",
   "execution_count": 105,
   "id": "cd9ac0cd",
   "metadata": {},
   "outputs": [],
   "source": [
    "from sklearn.preprocessing import StandardScaler\n",
    "StdS_X = StandardScaler()\n",
    "StdS_y = StandardScaler()\n",
    "X_l = StdS_X.fit_transform(X_l)\n",
    "y_p = StdS_y.fit_transform(y_p) "
   ]
  },
  {
   "cell_type": "code",
   "execution_count": 106,
   "id": "f2f24066",
   "metadata": {},
   "outputs": [],
   "source": [
    "# Convert y_p from 2D to 1D\n",
    "y_p = y_p.reshape(-1)"
   ]
  },
  {
   "cell_type": "code",
   "execution_count": 117,
   "id": "d8c26802",
   "metadata": {},
   "outputs": [
    {
     "data": {
      "text/plain": [
       "SVR()"
      ]
     },
     "execution_count": 117,
     "metadata": {},
     "output_type": "execute_result"
    }
   ],
   "source": [
    "# import the model\n",
    "from sklearn.svm import SVR\n",
    "# create the model object\n",
    "regressor = SVR(kernel = 'rbf')\n",
    "# fit the model on the data\n",
    "regressor.fit(X_l, y_p)"
   ]
  },
  {
   "attachments": {},
   "cell_type": "markdown",
   "id": "5faffd62",
   "metadata": {},
   "source": [
    "Since the model is now ready, we can use it and make predictions as shown:"
   ]
  },
  {
   "cell_type": "code",
   "execution_count": 118,
   "id": "4b617697",
   "metadata": {},
   "outputs": [
    {
     "name": "stdout",
     "output_type": "stream",
     "text": [
      "[0.01158103]\n"
     ]
    }
   ],
   "source": [
    "A=regressor.predict(StdS_X.transform([[6.5]]))\n",
    "print(A)"
   ]
  },
  {
   "cell_type": "code",
   "execution_count": 119,
   "id": "afe381ae",
   "metadata": {},
   "outputs": [
    {
     "name": "stdout",
     "output_type": "stream",
     "text": [
      "[[0.01158103]]\n"
     ]
    }
   ],
   "source": [
    "A = A.reshape(-1,1)\n",
    "print(A)"
   ]
  },
  {
   "cell_type": "markdown",
   "id": "deebdddb",
   "metadata": {},
   "source": [
    "As we can see, the model prediction values are for the scaled study variable. But, the required value for the business is the output of the unscaled data. So, we need to get back to the real scale of the study variable."
   ]
  },
  {
   "cell_type": "code",
   "execution_count": 120,
   "id": "528a5c77",
   "metadata": {},
   "outputs": [
    {
     "name": "stdout",
     "output_type": "stream",
     "text": [
      "[[252789.13921624]]\n"
     ]
    }
   ],
   "source": [
    "# Taking the inverse of the scaled value\n",
    "A_pred = StdS_y.inverse_transform(A)\n",
    "print(A_pred)"
   ]
  },
  {
   "cell_type": "code",
   "execution_count": 123,
   "id": "f9e59f5f",
   "metadata": {},
   "outputs": [
    {
     "data": {
      "image/png": "[encoded data removed]",
      "text/plain": [
       "<Figure size 432x288 with 1 Axes>"
      ]
     },
     "metadata": {},
     "output_type": "display_data"
    }
   ],
   "source": [
    "# inverse the transformation to go back to the initial scale\n",
    "plt.scatter(StdS_X.inverse_transform(X_l), StdS_y.inverse_transform(y_p), color = 'red')\n",
    "plt.plot(StdS_X.inverse_transform(X_l), StdS_y.inverse_transform(regressor.predict(X_l).reshape(-1,1)), color = 'blue')\n",
    "# add the title to the plot\n",
    "plt.title('Support Vector Regression Model')\n",
    "# label x axis\n",
    "plt.xlabel('Position')\n",
    "# label y axis\n",
    "plt.ylabel('Salary Level')\n",
    "# print the plot\n",
    "plt.show()"
   ]
  },
  {
   "cell_type": "code",
   "execution_count": null,
   "id": "59736f46",
   "metadata": {},
   "outputs": [],
   "source": []
  }
 ],
 "metadata": {
  "kernelspec": {
   "display_name": "Python 3",
   "language": "python",
   "name": "python3"
  },
  "language_info": {
   "codemirror_mode": {
    "name": "ipython",
    "version": 3
   },
   "file_extension": ".py",
   "mimetype": "text/x-python",
   "name": "python",
   "nbconvert_exporter": "python",
   "pygments_lexer": "ipython3",
   "version": "3.10.10"
  },
  "vscode": {
   "interpreter": {
    "hash": "95a09d8456e9f62f5e0ddd2ea2e57a1b292c89f635c846474cc881be9827112e"
   }
  }
 },
 "nbformat": 4,
 "nbformat_minor": 5
}
