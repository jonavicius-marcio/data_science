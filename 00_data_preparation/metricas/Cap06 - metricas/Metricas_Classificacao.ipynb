{
 "cells": [
  {
   "cell_type": "markdown",
   "metadata": {},
   "source": [
    "# Data Science Aplicada à Área de Saúde"
   ]
  },
  {
   "cell_type": "markdown",
   "metadata": {},
   "source": [
    "## Avaliação do Modelo"
   ]
  },
  {
   "cell_type": "markdown",
   "metadata": {},
   "source": [
    "Depois de executar a limpeza e processamento nos dados, a engenharia de recursos, a seleção de variáveis e, é claro, implementar um modelo e obter alguma saída em formas de probabilidade ou classe, o próximo passo é descobrir a eficácia do modelo com base em alguma métrica usando conjuntos de dados de teste. \n",
    "\n",
    "Diferentes métricas de desempenho são usadas para avaliar diferentes algoritmos de aprendizado de máquina. Focaremos agora mas métricas usadas para problemas de classificação. \n",
    "\n",
    "Podemos usar métricas de desempenho de classificação como Accuracy, AUC (Area Under The Curve), Precision, Recall, entre outras.\n",
    "\n",
    "As métricas que você escolhe para avaliar seu modelo de aprendizado de máquina são muito importantes. A escolha de métricas influencia a forma como o desempenho dos algoritmos de aprendizado de máquina é medido e comparado. "
   ]
  },
  {
   "cell_type": "markdown",
   "metadata": {},
   "source": [
    "## Métricas de Classificação"
   ]
  },
  {
   "cell_type": "markdown",
   "metadata": {},
   "source": [
    "Uma área importante da modelagem preditiva em Ciência de Dados é a Classificação. \n",
    "\n",
    "A classificação consiste em tentar prever a qual classe uma amostra específica de uma população pertence. \n",
    "\n",
    "Por exemplo, se estamos tentando prever se um determinado paciente será hospitalizado, as duas classes possíveis são hospitalizado (classe positiva) e não-hospitalizado (classe negativa). O modelo de classificação tenta prever se cada paciente será hospitalizado ou não. Em outras palavras, a classificação está simplesmente tentando prever qual balde (positivo previsto vs negativo previsto) uma amostra específica da população deve ser colocada como visto abaixo."
   ]
  },
  {
   "cell_type": "markdown",
   "metadata": {},
   "source": [
    "<img src=\"imagens/classification.png\" alt=\"Drawing\" style=\"width: 400px;\"/>"
   ]
  },
  {
   "cell_type": "markdown",
   "metadata": {},
   "source": [
    "E ao treinar o modelo preditivo de classificação, precisamos avaliar sua performance. Curiosamente, existem muitas maneiras diferentes de avaliar o desempenho. A maioria dos Cientistas de Dados que usam Python para modelagem preditiva trabalha com o pacote Python chamado Scikit-Learn. O Scikit-Learn contém muitas funções internas para analisar o desempenho dos modelos.\n",
    "\n",
    "Vamos estudar algumas dessas métricas e escreveremos nossas próprias funções do zero para entender a matemática por trás de algumas delas."
   ]
  },
  {
   "cell_type": "markdown",
   "metadata": {},
   "source": [
    "As funções abaixo pertencem ao pacote `sklearn.metrics` e permitem calcular as principais métricas de classificação:\n",
    "\n",
    "    - confusion_matrix\n",
    "    - accuracy_score\n",
    "    - recall_score\n",
    "    - precision_score\n",
    "    - f1_score\n",
    "    - roc_curve\n",
    "    - roc_auc_score"
   ]
  },
  {
   "cell_type": "markdown",
   "metadata": {},
   "source": [
    "## Compreendendo as Probabilidades Previstas Para Avaliação das Métricas"
   ]
  },
  {
   "cell_type": "markdown",
   "metadata": {},
   "source": [
    "Quando executamos o comando abaixo (após treinar um modelo de classificação), obtemos as probabilidades para cada classe (considerando nesse exemplo classificação binária):\n",
    "\n",
    "modelo.predict_proba(dataset_teste) \n",
    "\n",
    "O resultado é um array numpy de duas dimensões com os possíveis valores:\n",
    "\n",
    "[[0.6161618 0.3838382 ]\n",
    "[0.54156373 0.45843627]]\n",
    "\n",
    "Ou seja, o modelo fez a previsão de 2 instâncias. Para a primeira instância, 61% de pertencer a classe 0 e 38% de pertencer a classe 1 e para a segunda instância 54% de pertencer a classe 0 e 45% de pertencer a classe 1.\n",
    "\n",
    "Uma vez que temos as probabilidades, podemos definir um threshold (limite) para só então classificarmos o resultado como classe 0 ou classe 1. Por exemplo, ao considerarmos o threshold 0.5 podemos interpretar os 2 resultados acima como pertencentes a classe 0 pois estão acima do threshold.\n",
    "\n",
    "O threshold é a linha de corte (cutoff). Como exemplo podemos utilizar o threshold de 0.5 mas você pode ajustá-lo dependendo do que for mais importante, minimizar os falsos negativos ou falsos positivos ou em outras palavras priorizar o recall ou a precisão, como veremos mais adiante.\n",
    "\n",
    "Considere o exemplo de previsão de doenças. Um falso negativo é pior pois o paciente estaria com a doença e poderia ficar sem atendimento enquanto que um falso positivo faria com o que o paciente tomasse medicamento ou fosse internado sem necessidade, uma vez que ele não tem a doença.\n",
    "\n",
    "Para tomar as decisões corretas, precisamos compreender as métricas e como interpretá-las."
   ]
  },
  {
   "cell_type": "markdown",
   "metadata": {},
   "source": [
    "## Carregando o Arquivo com Previsões de 2 Modelos"
   ]
  },
  {
   "cell_type": "markdown",
   "metadata": {},
   "source": [
    "Preparando as Previsões de Dois Modelos Para Cálculo e Interpretação das Métricas"
   ]
  },
  {
   "cell_type": "markdown",
   "metadata": {},
   "source": [
    "Vamos carregar um conjunto de dados de amostra com os rótulos reais (y_true) e as probabilidades de previsão (y_pred) para dois modelos (modelo_RF e modelo_LR). Aqui as probabilidades são a probabilidade de serem da classe 1."
   ]
  },
  {
   "cell_type": "code",
   "execution_count": 1,
   "metadata": {},
   "outputs": [],
   "source": [
    "# Para atualizar um pacote, execute o comando abaixo no terminal ou prompt de comando:\n",
    "# pip install -U nome_pacote\n",
    "\n",
    "# Para instalar a versão exata de um pacote, execute o comando abaixo no terminal ou prompt de comando:\n",
    "# pip install nome_pacote==versão_desejada\n",
    "\n",
    "# Depois de instalar ou atualizar o pacote, reinicie o jupyter notebook."
   ]
  },
  {
   "cell_type": "code",
   "execution_count": 2,
   "metadata": {},
   "outputs": [
    {
     "data": {
      "text/plain": [
       "'1.0.1'"
      ]
     },
     "execution_count": 2,
     "metadata": {},
     "output_type": "execute_result"
    }
   ],
   "source": [
    "import pandas as pd\n",
    "pd.__version__"
   ]
  },
  {
   "cell_type": "code",
   "execution_count": 3,
   "metadata": {},
   "outputs": [
    {
     "data": {
      "text/plain": [
       "'1.18.1'"
      ]
     },
     "execution_count": 3,
     "metadata": {},
     "output_type": "execute_result"
    }
   ],
   "source": [
    "import numpy as np\n",
    "np.__version__"
   ]
  },
  {
   "cell_type": "code",
   "execution_count": 4,
   "metadata": {},
   "outputs": [
    {
     "data": {
      "text/plain": [
       "'3.2.0'"
      ]
     },
     "execution_count": 4,
     "metadata": {},
     "output_type": "execute_result"
    }
   ],
   "source": [
    "import matplotlib as m\n",
    "m.__version__"
   ]
  },
  {
   "cell_type": "code",
   "execution_count": 5,
   "metadata": {},
   "outputs": [
    {
     "data": {
      "text/html": [
       "<div>\n",
       "<style scoped>\n",
       "    .dataframe tbody tr th:only-of-type {\n",
       "        vertical-align: middle;\n",
       "    }\n",
       "\n",
       "    .dataframe tbody tr th {\n",
       "        vertical-align: top;\n",
       "    }\n",
       "\n",
       "    .dataframe thead th {\n",
       "        text-align: right;\n",
       "    }\n",
       "</style>\n",
       "<table border=\"1\" class=\"dataframe\">\n",
       "  <thead>\n",
       "    <tr style=\"text-align: right;\">\n",
       "      <th></th>\n",
       "      <th>y_true</th>\n",
       "      <th>y_pred_modelo_RF</th>\n",
       "      <th>y_pred_modelo_LR</th>\n",
       "    </tr>\n",
       "  </thead>\n",
       "  <tbody>\n",
       "    <tr>\n",
       "      <th>0</th>\n",
       "      <td>1</td>\n",
       "      <td>0.639816</td>\n",
       "      <td>0.531904</td>\n",
       "    </tr>\n",
       "    <tr>\n",
       "      <th>1</th>\n",
       "      <td>0</td>\n",
       "      <td>0.490993</td>\n",
       "      <td>0.414496</td>\n",
       "    </tr>\n",
       "    <tr>\n",
       "      <th>2</th>\n",
       "      <td>1</td>\n",
       "      <td>0.623815</td>\n",
       "      <td>0.569883</td>\n",
       "    </tr>\n",
       "    <tr>\n",
       "      <th>3</th>\n",
       "      <td>1</td>\n",
       "      <td>0.506616</td>\n",
       "      <td>0.443674</td>\n",
       "    </tr>\n",
       "    <tr>\n",
       "      <th>4</th>\n",
       "      <td>0</td>\n",
       "      <td>0.418302</td>\n",
       "      <td>0.369532</td>\n",
       "    </tr>\n",
       "  </tbody>\n",
       "</table>\n",
       "</div>"
      ],
      "text/plain": [
       "   y_true  y_pred_modelo_RF  y_pred_modelo_LR\n",
       "0       1          0.639816          0.531904\n",
       "1       0          0.490993          0.414496\n",
       "2       1          0.623815          0.569883\n",
       "3       1          0.506616          0.443674\n",
       "4       0          0.418302          0.369532"
      ]
     },
     "execution_count": 5,
     "metadata": {},
     "output_type": "execute_result"
    }
   ],
   "source": [
    "# Carregando os dados\n",
    "import pandas as pd\n",
    "previsoes = pd.read_csv('dados/previsoes.csv')\n",
    "previsoes.head()"
   ]
  },
  {
   "cell_type": "markdown",
   "metadata": {},
   "source": [
    "Na maioria dos projetos de Ciência de Dados, você definirá um limite para definir quais probabilidades de previsão são rotuladas como positivas previstas versus negativas previstas. Por enquanto, vamos supor que o limite seja 0.5. Vamos adicionar duas colunas que convertem as probabilidades em rótulos previstos."
   ]
  },
  {
   "cell_type": "code",
   "execution_count": 6,
   "metadata": {},
   "outputs": [
    {
     "data": {
      "text/html": [
       "<div>\n",
       "<style scoped>\n",
       "    .dataframe tbody tr th:only-of-type {\n",
       "        vertical-align: middle;\n",
       "    }\n",
       "\n",
       "    .dataframe tbody tr th {\n",
       "        vertical-align: top;\n",
       "    }\n",
       "\n",
       "    .dataframe thead th {\n",
       "        text-align: right;\n",
       "    }\n",
       "</style>\n",
       "<table border=\"1\" class=\"dataframe\">\n",
       "  <thead>\n",
       "    <tr style=\"text-align: right;\">\n",
       "      <th></th>\n",
       "      <th>y_true</th>\n",
       "      <th>y_pred_modelo_RF</th>\n",
       "      <th>y_pred_modelo_LR</th>\n",
       "      <th>classe_prevista_RF</th>\n",
       "      <th>classe_prevista_LR</th>\n",
       "    </tr>\n",
       "  </thead>\n",
       "  <tbody>\n",
       "    <tr>\n",
       "      <th>0</th>\n",
       "      <td>1</td>\n",
       "      <td>0.639816</td>\n",
       "      <td>0.531904</td>\n",
       "      <td>1</td>\n",
       "      <td>1</td>\n",
       "    </tr>\n",
       "    <tr>\n",
       "      <th>1</th>\n",
       "      <td>0</td>\n",
       "      <td>0.490993</td>\n",
       "      <td>0.414496</td>\n",
       "      <td>0</td>\n",
       "      <td>0</td>\n",
       "    </tr>\n",
       "    <tr>\n",
       "      <th>2</th>\n",
       "      <td>1</td>\n",
       "      <td>0.623815</td>\n",
       "      <td>0.569883</td>\n",
       "      <td>1</td>\n",
       "      <td>1</td>\n",
       "    </tr>\n",
       "    <tr>\n",
       "      <th>3</th>\n",
       "      <td>1</td>\n",
       "      <td>0.506616</td>\n",
       "      <td>0.443674</td>\n",
       "      <td>1</td>\n",
       "      <td>0</td>\n",
       "    </tr>\n",
       "    <tr>\n",
       "      <th>4</th>\n",
       "      <td>0</td>\n",
       "      <td>0.418302</td>\n",
       "      <td>0.369532</td>\n",
       "      <td>0</td>\n",
       "      <td>0</td>\n",
       "    </tr>\n",
       "  </tbody>\n",
       "</table>\n",
       "</div>"
      ],
      "text/plain": [
       "   y_true  y_pred_modelo_RF  y_pred_modelo_LR  classe_prevista_RF  \\\n",
       "0       1          0.639816          0.531904                   1   \n",
       "1       0          0.490993          0.414496                   0   \n",
       "2       1          0.623815          0.569883                   1   \n",
       "3       1          0.506616          0.443674                   1   \n",
       "4       0          0.418302          0.369532                   0   \n",
       "\n",
       "   classe_prevista_LR  \n",
       "0                   1  \n",
       "1                   0  \n",
       "2                   1  \n",
       "3                   0  \n",
       "4                   0  "
      ]
     },
     "execution_count": 6,
     "metadata": {},
     "output_type": "execute_result"
    }
   ],
   "source": [
    "# Define o limite e converte as probabilidades em previsões de classe\n",
    "limite = 0.5\n",
    "previsoes['classe_prevista_RF'] = (previsoes.y_pred_modelo_RF >= 0.5).astype('int')\n",
    "previsoes['classe_prevista_LR'] = (previsoes.y_pred_modelo_LR >= 0.5).astype('int')\n",
    "previsoes.head()"
   ]
  },
  {
   "cell_type": "markdown",
   "metadata": {},
   "source": [
    "## Matriz de Confusão (Confusion Matrix)"
   ]
  },
  {
   "cell_type": "markdown",
   "metadata": {},
   "source": [
    "A Matriz de Confusão é uma das ferramentas de análise de classificação mais intuitivas e fáceis, usada para encontrar a correção e a precisão do modelo. É empregada em tarefas de classificação em que a saída pode ser de dois ou mais tipos de classes.\n",
    "\n",
    "Antes de mergulhar no que é a matriz de confusão e o que ela transmite, digamos que estamos resolvendo um problema de classificação em que estamos prevendo se uma pessoa está com pneumonia ou não."
   ]
  },
  {
   "cell_type": "markdown",
   "metadata": {},
   "source": [
    "Vamos dar um rótulo (ou label, ou etiqueta) à nossa variável alvo:\n",
    "\n",
    "- 1: Quando uma pessoa está com pneumonia. (classe positiva)\n",
    "- 0: Quando uma pessoa NÃO está com pneumonia. (classe negativa)\n",
    "\n",
    "Bem! Agora que identificamos o problema, a Matriz de Confusão é uma tabela com duas dimensões (\"Real\" e \"Previsto\") e conjuntos de \"classes\" em ambas as dimensões. Nossas classificações reais são colunas e as previstas são linhas."
   ]
  },
  {
   "cell_type": "markdown",
   "metadata": {},
   "source": [
    "<img src=\"imagens/confusion_matrix.png\" alt=\"Drawing\" style=\"width: 400px;\"/>"
   ]
  },
  {
   "cell_type": "markdown",
   "metadata": {},
   "source": [
    "A Matriz de Confusão, por si só, não é uma medida de desempenho como tal, mas quase todas as métricas de desempenho são baseadas na Matriz de Confusão e nos números dentro dela."
   ]
  },
  {
   "cell_type": "markdown",
   "metadata": {},
   "source": [
    "- Classe Positiva = 1\n",
    "- Classe Negativa = 0"
   ]
  },
  {
   "cell_type": "markdown",
   "metadata": {},
   "source": [
    "Dado um rótulo real e um rótulo previsto, a primeira coisa que podemos fazer é dividir nossas amostras em 4 tipos:\n",
    "\n",
    "    - True Positive - real = 1, previsto = 1\n",
    "    - False Positive - real = 0, previsto = 1\n",
    "    - False Negative - real = 1, previsto = 0\n",
    "    - True Negative - real = 0, previsto = 0"
   ]
  },
  {
   "cell_type": "markdown",
   "metadata": {},
   "source": [
    "- TP - O caso em que uma pessoa está realmente com pneumonia (1) e o modelo classifica como pneumonia (1).\n",
    "\n",
    "- FP - Uma pessoa que NÃO está com pneumonia e o modelo classifica o caso como pneumonia.\n",
    "\n",
    "- FN - Uma pessoa tem pneumonia e o modelo classifica o caso como não-pneumonia.\n",
    "\n",
    "- TN - O caso em que uma pessoa NÃO está com pneumonia e o modelo classifica como não-pneumonia."
   ]
  },
  {
   "cell_type": "markdown",
   "metadata": {},
   "source": [
    "Podemos calcular cada elemento da Matriz de Confusão, conforme abaixo:"
   ]
  },
  {
   "cell_type": "code",
   "execution_count": 7,
   "metadata": {},
   "outputs": [
    {
     "name": "stdout",
     "output_type": "stream",
     "text": [
      "TP: 5047\n",
      "FN: 2832\n",
      "FP: 2360\n",
      "TN: 5519\n"
     ]
    }
   ],
   "source": [
    "# Funções para calcular os resultados de um modelo de classificação\n",
    "\n",
    "def find_TP(y_true, y_pred):\n",
    "    # conta o número de true positives (y_true = 1, y_pred = 1)\n",
    "    return sum((y_true == 1) & (y_pred == 1))\n",
    "\n",
    "def find_FN(y_true, y_pred):\n",
    "    # conta o número de false negatives (y_true = 1, y_pred = 0)\n",
    "    return sum((y_true == 1) & (y_pred == 0))\n",
    "\n",
    "def find_FP(y_true, y_pred):\n",
    "    # conta o número de false positives (y_true = 0, y_pred = 1)\n",
    "    return sum((y_true == 0) & (y_pred == 1))\n",
    "\n",
    "def find_TN(y_true, y_pred):\n",
    "    # conta o número de true negatives (y_true = 0, y_pred = 0)\n",
    "    return sum((y_true == 0) & (y_pred == 0))\n",
    "\n",
    "# Imprime\n",
    "print('TP:', find_TP(previsoes.y_true.values, previsoes.classe_prevista_RF.values))\n",
    "print('FN:', find_FN(previsoes.y_true.values, previsoes.classe_prevista_RF.values))\n",
    "print('FP:', find_FP(previsoes.y_true.values, previsoes.classe_prevista_RF.values))\n",
    "print('TN:', find_TN(previsoes.y_true.values, previsoes.classe_prevista_RF.values))"
   ]
  },
  {
   "cell_type": "markdown",
   "metadata": {},
   "source": [
    "Vamos escrever uma função que calcule todos os quatro para nós."
   ]
  },
  {
   "cell_type": "code",
   "execution_count": 8,
   "metadata": {},
   "outputs": [],
   "source": [
    "# Criando nossa própria função para a Confusion Matrix\n",
    "\n",
    "import numpy as np\n",
    "\n",
    "def find_conf_matrix_values(y_true, y_pred):\n",
    "    # Calcula TP, FN, FP, TN\n",
    "    TP = find_TP(y_true, y_pred)\n",
    "    FN = find_FN(y_true, y_pred)\n",
    "    FP = find_FP(y_true, y_pred)\n",
    "    TN = find_TN(y_true, y_pred)\n",
    "    return TP,FN,FP,TN\n",
    "\n",
    "def my_confusion_matrix(y_true, y_pred):\n",
    "    TP,FN,FP,TN = find_conf_matrix_values(y_true, y_pred)\n",
    "    return np.array([[TN,FP],[FN,TP]])"
   ]
  },
  {
   "cell_type": "code",
   "execution_count": 9,
   "metadata": {},
   "outputs": [
    {
     "data": {
      "text/plain": [
       "array([[5519, 2360],\n",
       "       [2832, 5047]])"
      ]
     },
     "execution_count": 9,
     "metadata": {},
     "output_type": "execute_result"
    }
   ],
   "source": [
    "# Executa a função\n",
    "my_confusion_matrix(previsoes.y_true.values, previsoes.classe_prevista_RF.values)"
   ]
  },
  {
   "cell_type": "markdown",
   "metadata": {},
   "source": [
    "Podemos obter a Matriz de Confusão do Scikit-Learn, que recebe como entradas as etiquetas reais e as etiquetas previstas."
   ]
  },
  {
   "cell_type": "code",
   "execution_count": 10,
   "metadata": {},
   "outputs": [
    {
     "data": {
      "text/plain": [
       "'0.22.2'"
      ]
     },
     "execution_count": 10,
     "metadata": {},
     "output_type": "execute_result"
    }
   ],
   "source": [
    "import sklearn as sk\n",
    "sk.__version__"
   ]
  },
  {
   "cell_type": "code",
   "execution_count": 11,
   "metadata": {},
   "outputs": [
    {
     "data": {
      "text/plain": [
       "array([[5519, 2360],\n",
       "       [2832, 5047]])"
      ]
     },
     "execution_count": 11,
     "metadata": {},
     "output_type": "execute_result"
    }
   ],
   "source": [
    "# Confusion Matrix no Scikit-Learn\n",
    "# https://scikit-learn.org/stable/modules/generated/sklearn.metrics.confusion_matrix.html\n",
    "\n",
    "# Importa a função\n",
    "from sklearn.metrics import confusion_matrix\n",
    "\n",
    "# Cria a Confusion Matrix\n",
    "confusion_matrix(previsoes.y_true.values, previsoes.classe_prevista_RF.values)"
   ]
  },
  {
   "cell_type": "code",
   "execution_count": 12,
   "metadata": {},
   "outputs": [
    {
     "name": "stdout",
     "output_type": "stream",
     "text": [
      "[[5047 2832]\n",
      " [2360 5519]]\n"
     ]
    }
   ],
   "source": [
    "# Ajustando o label para melhor compreensão da Confusion Matrix\n",
    "\n",
    "# Importa a função\n",
    "from sklearn.metrics import confusion_matrix\n",
    "\n",
    "# Labels\n",
    "labels = [1, 0]\n",
    "\n",
    "# Confusion Matrix com definição dos labels\n",
    "cm = confusion_matrix(previsoes.y_true.values, previsoes.classe_prevista_RF.values, labels)\n",
    "print(cm)"
   ]
  },
  {
   "cell_type": "markdown",
   "metadata": {},
   "source": [
    "Onde há 5047 verdadeiros positivos, 2360 falsos positivos, 2832 falsos negativos e 5519 verdadeiros negativos. Vamos agora construir um plot para facilitar a visualização."
   ]
  },
  {
   "cell_type": "code",
   "execution_count": 13,
   "metadata": {},
   "outputs": [
    {
     "data": {
      "text/plain": [
       "<Figure size 640x480 with 2 Axes>"
      ]
     },
     "metadata": {},
     "output_type": "display_data"
    }
   ],
   "source": [
    "# Plot da Confusion Matrix\n",
    "import warnings\n",
    "warnings.simplefilter(action='ignore', category=FutureWarning)\n",
    "warnings.filterwarnings(\"ignore\", category=FutureWarning)\n",
    "import seaborn as sns\n",
    "import numpy as np\n",
    "import matplotlib.pyplot as plt  \n",
    "\n",
    "# Labels\n",
    "labels = [1, 0]\n",
    "\n",
    "# Confusion Matrix com definição dos labels\n",
    "cm = confusion_matrix(previsoes.y_true.values, previsoes.classe_prevista_RF.values, labels)\n",
    "\n",
    "# Annotation\n",
    "annot = np.empty_like(cm).astype(str)\n",
    "\n",
    "# Heatmap\n",
    "sns.set(font_scale = 1.2)\n",
    "sns.heatmap(cm, annot = annot, fmt = '', annot_kws = {\"size\": 14})\n",
    "plt.ylabel('Label Real')\n",
    "plt.xlabel('Label Previsto')\n",
    "plt.title('Confusion Matrix')\n",
    "plt.show()"
   ]
  },
  {
   "cell_type": "code",
   "execution_count": 14,
   "metadata": {},
   "outputs": [
    {
     "name": "stdout",
     "output_type": "stream",
     "text": [
      "Requirement already satisfied: mlxtend in /Users/dmpm/opt/anaconda3/lib/python3.7/site-packages (0.17.2)\r\n",
      "Requirement already satisfied: numpy>=1.16.2 in /Users/dmpm/opt/anaconda3/lib/python3.7/site-packages (from mlxtend) (1.18.1)\r\n",
      "Requirement already satisfied: matplotlib>=3.0.0 in /Users/dmpm/opt/anaconda3/lib/python3.7/site-packages (from mlxtend) (3.2.0)\r\n",
      "Requirement already satisfied: pandas>=0.24.2 in /Users/dmpm/opt/anaconda3/lib/python3.7/site-packages (from mlxtend) (1.0.1)\r\n",
      "Requirement already satisfied: setuptools in /Users/dmpm/opt/anaconda3/lib/python3.7/site-packages (from mlxtend) (41.4.0)\r\n",
      "Requirement already satisfied: scipy>=1.2.1 in /Users/dmpm/opt/anaconda3/lib/python3.7/site-packages (from mlxtend) (1.4.1)\r\n",
      "Requirement already satisfied: scikit-learn>=0.20.3 in /Users/dmpm/opt/anaconda3/lib/python3.7/site-packages (from mlxtend) (0.22.2)\r\n",
      "Requirement already satisfied: joblib>=0.13.2 in /Users/dmpm/opt/anaconda3/lib/python3.7/site-packages (from mlxtend) (0.13.2)\r\n",
      "Requirement already satisfied: cycler>=0.10 in /Users/dmpm/opt/anaconda3/lib/python3.7/site-packages (from matplotlib>=3.0.0->mlxtend) (0.10.0)\r\n",
      "Requirement already satisfied: pyparsing!=2.0.4,!=2.1.2,!=2.1.6,>=2.0.1 in /Users/dmpm/opt/anaconda3/lib/python3.7/site-packages (from matplotlib>=3.0.0->mlxtend) (2.4.2)\r\n",
      "Requirement already satisfied: python-dateutil>=2.1 in /Users/dmpm/opt/anaconda3/lib/python3.7/site-packages (from matplotlib>=3.0.0->mlxtend) (2.8.0)\r\n",
      "Requirement already satisfied: kiwisolver>=1.0.1 in /Users/dmpm/opt/anaconda3/lib/python3.7/site-packages (from matplotlib>=3.0.0->mlxtend) (1.1.0)\r\n",
      "Requirement already satisfied: pytz>=2017.2 in /Users/dmpm/opt/anaconda3/lib/python3.7/site-packages (from pandas>=0.24.2->mlxtend) (2019.3)\r\n",
      "Requirement already satisfied: six in /Users/dmpm/opt/anaconda3/lib/python3.7/site-packages (from cycler>=0.10->matplotlib>=3.0.0->mlxtend) (1.12.0)\r\n"
     ]
    }
   ],
   "source": [
    "! pip install mlxtend"
   ]
  },
  {
   "cell_type": "code",
   "execution_count": 15,
   "metadata": {},
   "outputs": [
    {
     "data": {
      "text/plain": [
       "'0.17.2'"
      ]
     },
     "execution_count": 15,
     "metadata": {},
     "output_type": "execute_result"
    }
   ],
   "source": [
    "import mlxtend as mlx\n",
    "mlx.__version__"
   ]
  },
  {
   "cell_type": "code",
   "execution_count": 16,
   "metadata": {},
   "outputs": [
    {
     "data": {
      "image/png": "[encoded data removed]",
      "text/plain": [
       "<Figure size 432x288 with 1 Axes>"
      ]
     },
     "metadata": {
      "needs_background": "light"
     },
     "output_type": "display_data"
    }
   ],
   "source": [
    "# Plot usando Mlextend\n",
    "from mlxtend.plotting import plot_confusion_matrix\n",
    "import matplotlib.pyplot as plt\n",
    "\n",
    "# Labels\n",
    "labels = [0, 1]\n",
    "\n",
    "# Confusion Matrix com definição dos labels\n",
    "cm = confusion_matrix(previsoes.y_true.values, previsoes.classe_prevista_RF.values, labels)\n",
    "\n",
    "# Plot\n",
    "fig, ax = plot_confusion_matrix(conf_mat = cm,\n",
    "                                show_absolute = True,\n",
    "                                show_normed = True,\n",
    "                                colorbar = False)\n",
    "plt.show()"
   ]
  },
  {
   "cell_type": "code",
   "execution_count": 17,
   "metadata": {},
   "outputs": [
    {
     "data": {
      "image/png": "[encoded data removed]",
      "text/plain": [
       "<Figure size 432x288 with 1 Axes>"
      ]
     },
     "metadata": {
      "needs_background": "light"
     },
     "output_type": "display_data"
    }
   ],
   "source": [
    "# Plot com texto\n",
    "import matplotlib.pyplot as plt  \n",
    "plt.clf()\n",
    "\n",
    "# Confusion Matrix com definição dos labels\n",
    "cm = confusion_matrix(previsoes.y_true.values, previsoes.classe_prevista_RF.values)\n",
    "\n",
    "plt.imshow(cm, interpolation = 'nearest', cmap = plt.cm.Wistia)\n",
    "classNames = ['0','1']\n",
    "plt.ylabel('Label Real')\n",
    "plt.xlabel('Label Previsto')\n",
    "tick_marks = np.arange(len(classNames))\n",
    "plt.xticks(tick_marks, classNames)\n",
    "plt.yticks(tick_marks, classNames)\n",
    "s = [['TN','FP'], ['FN', 'TP']]\n",
    "\n",
    "for i in range(2):\n",
    "    for j in range(2):\n",
    "        plt.text(j, i, str(s[i][j]) + \" = \" + str(cm[i][j]))\n",
    "plt.show()"
   ]
  },
  {
   "cell_type": "markdown",
   "metadata": {},
   "source": [
    "Vamos comparar nossa função com a função do Scikit-Learn:"
   ]
  },
  {
   "cell_type": "code",
   "execution_count": 18,
   "metadata": {},
   "outputs": [],
   "source": [
    "assert  np.array_equal(my_confusion_matrix(previsoes.y_true.values, previsoes.classe_prevista_RF.values),\\\n",
    "                       confusion_matrix(previsoes.y_true.values, previsoes.classe_prevista_RF.values)), 'my_confusion_matrix() não está correta para o modelo RF'\n",
    "\n",
    "assert  np.array_equal(my_confusion_matrix(previsoes.y_true.values, previsoes.classe_prevista_RF.values),\\\n",
    "                       confusion_matrix(previsoes.y_true.values, previsoes.classe_prevista_RF.values)), 'my_confusion_matrix() não está correta para o modelo LR'"
   ]
  },
  {
   "cell_type": "markdown",
   "metadata": {},
   "source": [
    "Considerando esses quatro intervalos (TP, FP, FN, TN), podemos calcular muitas outras métricas de desempenho."
   ]
  },
  {
   "cell_type": "markdown",
   "metadata": {},
   "source": [
    "## Quando Minimizar as Taxas de FP e FN"
   ]
  },
  {
   "cell_type": "markdown",
   "metadata": {},
   "source": [
    "Sabemos que haverá algum erro associado a todos os modelos que usamos para prever a verdadeira classe da variável de destino. Isso resultará em falsos positivos e falsos negativos (isto é, o modelo classifica as coisas incorretamente em comparação com a classe real).\n",
    "\n",
    "Não existe uma regra rígida que diga o que deve ser minimizado em todas as situações. Depende apenas das necessidades da empresa e do contexto do problema que você está tentando resolver. Com base nisso, podemos querer minimizar falsos positivos ou falsos negativos."
   ]
  },
  {
   "cell_type": "markdown",
   "metadata": {},
   "source": [
    "- TP - O caso em que uma pessoa está realmente com pneumonia (1) e o modelo classifica como pneumonia (1).\n",
    "\n",
    "- FP - Uma pessoa que NÃO está com pneumonia e o modelo classifica o caso como pneumonia.\n",
    "\n",
    "- FN - Uma pessoa tem pneumonia e o modelo classifica o caso como não-pneumonia.\n",
    "\n",
    "- TN - O caso em que uma pessoa NÃO está com pneumonia e o modelo classifica como não-pneumonia."
   ]
  },
  {
   "cell_type": "markdown",
   "metadata": {},
   "source": [
    "### 1. Minimizando Falsos Negativos:"
   ]
  },
  {
   "cell_type": "markdown",
   "metadata": {},
   "source": [
    "Digamos que, em nosso exemplo de problema de detecção de pneumonia, de 100 pessoas, apenas 5 pessoas tenham pneumonia. Nesse caso, queremos classificar corretamente todos os pacientes com pneumonia.\n",
    "\n",
    "Um modelo ruim (que esteja prevendo todos como não-pneumonia) nos dará uma acurácia de 95%. Precisamos então ajustar o modelo a fim de conseguir detectar os casos de pneumonia.\n",
    "\n",
    "Mas, para capturar todos os casos de pneumonia, podemos acabar fazendo uma classificação quando a pessoa que NÃO está com pneumonia é classificada com pneumonia (um falso positivo). Isso é menos perigoso do que NÃO identificar / capturar um paciente com pneumonia, pois enviaremos os casos de pneumonia para exames e relatórios adicionais. Mas a previsão errada de um paciente com pneumonia será um grande erro, pois nenhum exame adicional será feito.\n",
    "\n",
    "Ou seja, nesses casos, o falso positivo pode causar menos danos do que o falso negativo. Devemos ajustar nosso modelo para que casos de falsos negativos sejam reduzidos ao máximo possível. A definição do limite (threshold) pode nos ajudar com isso!"
   ]
  },
  {
   "cell_type": "markdown",
   "metadata": {},
   "source": [
    "### 2. Minimizando Falsos Positivos:"
   ]
  },
  {
   "cell_type": "markdown",
   "metadata": {},
   "source": [
    "Para uma melhor compreensão dos falsos positivos, vamos usar um exemplo diferente em que o modelo classifica se um email é spam ou não.\n",
    "\n",
    "Digamos que você esteja esperando um e-mail importante, como receber uma resposta de um recrutador ou aguardar uma carta de admissão de uma universidade. Vamos atribuir um rótulo à variável de destino e dizer 1: \"O email é um spam\" e 0: \"O email não é um spam\".\n",
    "\n",
    "Suponha que o modelo classifique o e-mail importante que você está esperando desesperadamente, como spam (caso de falso positivo). Agora, nessa situação, isso é pior do que classificar um email de spam como não-spam, pois nesse caso, ainda podemos prosseguir e excluí-lo manualmente, e não é difícil se isso acontece de vez em quando. Portanto, no caso da classificação de e-mail de spam, minimizar os falsos positivos é mais importante que os falsos negativos."
   ]
  },
  {
   "cell_type": "markdown",
   "metadata": {},
   "source": [
    "## Acurácia"
   ]
  },
  {
   "cell_type": "markdown",
   "metadata": {},
   "source": [
    "A acurácia nos problemas de classificação é o número de previsões corretas feitas pelo modelo em todos os tipos de previsões feitas."
   ]
  },
  {
   "cell_type": "markdown",
   "metadata": {},
   "source": [
    "<img src=\"imagens/acuracia.png\" alt=\"Drawing\" style=\"width: 400px;\"/>"
   ]
  },
  {
   "cell_type": "markdown",
   "metadata": {},
   "source": [
    "No numerador, estão nossas previsões corretas (Verdadeiros positivos e Verdadeiros Negativos), marcadas em vermelho na figura acima, e no denominador, estão todas as previsões feitas pelo modelo (certo e errado)."
   ]
  },
  {
   "cell_type": "markdown",
   "metadata": {},
   "source": [
    "- Quando usar a acurácia?\n",
    "\n",
    "A acurácia é uma boa medida quando as classes da variável alvo estão quase equilibradas.\n",
    "\n",
    "Exemplo: 60% de imagens de frutas são maçã e 40% são laranjas. Um modelo que prevê se uma nova imagem é maçã ou laranja 97% das vezes corretamente, é uma medida muito boa neste exemplo.\n",
    "\n",
    "- Quando NÃO usar acurácia?\n",
    "\n",
    "A acurácia NUNCA deve ser usada como métrica quando as classes da variável alvo são maioria de uma classe.\n",
    "\n",
    "Exemplo: no nosso exemplo de detecção de pneumonia com 100 pessoas, apenas 5 pessoas têm pneumonia. Digamos que nosso modelo é muito ruim e prediz todos os casos como não-pneumonia. Ao fazer isso, classificou corretamente os 95 pacientes não-pneumonia e 5 pacientes com pneumonia foram classificados como não-pneumonia (nosso modelo errou 5 vezes). Agora, mesmo que o modelo seja terrível na previsão de pneumonia, a acurácia de um modelo tão ruim também é de 95%."
   ]
  },
  {
   "cell_type": "markdown",
   "metadata": {},
   "source": [
    "### Calculando a Acurácia"
   ]
  },
  {
   "cell_type": "code",
   "execution_count": 19,
   "metadata": {},
   "outputs": [
    {
     "data": {
      "text/plain": [
       "0.6705165630156111"
      ]
     },
     "execution_count": 19,
     "metadata": {},
     "output_type": "execute_result"
    }
   ],
   "source": [
    "# Acurácia do Modelo de RandomForest\n",
    "\n",
    "# Importa a função\n",
    "from sklearn.metrics import accuracy_score\n",
    "\n",
    "# Calcula a acurácia\n",
    "accuracy_score(previsoes.y_true.values, previsoes.classe_prevista_RF.values)"
   ]
  },
  {
   "cell_type": "code",
   "execution_count": 20,
   "metadata": {},
   "outputs": [
    {
     "data": {
      "text/plain": [
       "0.6158141896179719"
      ]
     },
     "execution_count": 20,
     "metadata": {},
     "output_type": "execute_result"
    }
   ],
   "source": [
    "# Acurácia do Modelo de Regressão Logística\n",
    "\n",
    "# Importa a função\n",
    "from sklearn.metrics import accuracy_score\n",
    "\n",
    "# Calcula a acurácia\n",
    "accuracy_score(previsoes.y_true.values, previsoes.classe_prevista_LR.values)"
   ]
  },
  {
   "cell_type": "markdown",
   "metadata": {},
   "source": [
    "Usando a acurácia como uma métrica de desempenho, o modelo RF é mais preciso que o modelo LR. Então, devemos parar por aqui e dizer que o modelo de RF é o melhor? Não! A acurácia nem sempre é a melhor métrica a ser usada para avaliar modelos de classificação. \n",
    "\n",
    "A acurácia é a proporção de predições corretas, sem levar em consideração o que é positivo e o que é negativo. Esta medida é altamente suscetível a desbalanceamentos do conjunto de dados e pode facilmente induzir a uma conclusão errada sobre o desempenho do sistema."
   ]
  },
  {
   "cell_type": "markdown",
   "metadata": {},
   "source": [
    "## Recall (Sensibilidade)"
   ]
  },
  {
   "cell_type": "markdown",
   "metadata": {},
   "source": [
    "Recall (também conhecida como sensibilidade) é a fração de eventos positivos que foram previstos corretamente, como mostrado abaixo:"
   ]
  },
  {
   "cell_type": "markdown",
   "metadata": {},
   "source": [
    "<img src=\"imagens/recall.png\" alt=\"Drawing\" style=\"width: 300px;\"/>"
   ]
  },
  {
   "cell_type": "markdown",
   "metadata": {},
   "source": [
    "Recall é uma medida que nos diz que proporção de pacientes que realmente tiveram pneumonia foi diagnosticada pelo modelo como tendo pneumonia. Os positivos reais (pessoas com pneumonia) são TP e FN e as pessoas diagnosticadas pelo modelo com pneumonia são TP. \n",
    "\n",
    "(Nota: FN está incluído porque a pessoa realmente teve pneumonia, embora o modelo previsse o contrário)."
   ]
  },
  {
   "cell_type": "markdown",
   "metadata": {},
   "source": [
    "Portanto, Recall é a proporção de verdadeiros positivos: a capacidade do sistema em predizer corretamente a condição para casos que realmente a têm.\n",
    "\n",
    "O Recall pode ser usado em uma situação em que os Falsos Negativos são considerados mais prejudiciais que os Falsos Positivos. Por exemplo, o modelo deve de qualquer maneira encontrar todos os pacientes doentes, mesmo que classifique alguns saudáveis como doentes (situação de Falso Positivo) no processo. Ou seja, o modelo deve ter alto Recall, pois classificar pacientes doentes como saudáveis pode ser uma tragédia."
   ]
  },
  {
   "cell_type": "code",
   "execution_count": 21,
   "metadata": {},
   "outputs": [
    {
     "data": {
      "text/plain": [
       "0.6405635232897576"
      ]
     },
     "execution_count": 21,
     "metadata": {},
     "output_type": "execute_result"
    }
   ],
   "source": [
    "# Recall do Modelo de RandomForest\n",
    "\n",
    "# Importa a função\n",
    "from sklearn.metrics import recall_score\n",
    "\n",
    "# Calcula o recall\n",
    "recall_score(previsoes.y_true.values, previsoes.classe_prevista_RF.values)"
   ]
  },
  {
   "cell_type": "code",
   "execution_count": 22,
   "metadata": {},
   "outputs": [
    {
     "data": {
      "text/plain": [
       "0.5430892245208783"
      ]
     },
     "execution_count": 22,
     "metadata": {},
     "output_type": "execute_result"
    }
   ],
   "source": [
    "# Recall do Modelo de Regressão Logística\n",
    "\n",
    "# Importa a função\n",
    "from sklearn.metrics import recall_score\n",
    "\n",
    "# Calcula o recall\n",
    "recall_score(previsoes.y_true.values, previsoes.classe_prevista_LR.values)"
   ]
  },
  {
   "cell_type": "markdown",
   "metadata": {},
   "source": [
    "Um método para aumentar o recall é aumentar o número de amostras que você define como positivo previsto, diminuindo o limite do positivo previsto. Infelizmente, isso também aumentará o número de falsos positivos. Outra métrica de desempenho chamada precisão leva isso em consideração."
   ]
  },
  {
   "cell_type": "markdown",
   "metadata": {},
   "source": [
    "## Precision"
   ]
  },
  {
   "cell_type": "markdown",
   "metadata": {},
   "source": [
    "Precisão é a fração de eventos positivos previstos que são realmente positivos, como mostrado abaixo:"
   ]
  },
  {
   "cell_type": "markdown",
   "metadata": {},
   "source": [
    "<img src=\"imagens/precision.png\" alt=\"Drawing\" style=\"width: 300px;\"/>"
   ]
  },
  {
   "cell_type": "markdown",
   "metadata": {},
   "source": [
    "A precisão é uma medida que nos diz qual a proporção de pacientes que diagnosticamos como tendo pneumonia, que realmente tinham pneumonia. Os positivos previstos (as pessoas consideradas com pneumonia) são TP e FP e as pessoas que realmente têm pneumonia são TP."
   ]
  },
  {
   "cell_type": "markdown",
   "metadata": {},
   "source": [
    "A precisão pode ser usada em uma situação em que os Falsos Positivos são considerados mais prejudiciais que os Falsos Negativos. Por exemplo, ao classificar uma ação como um bom investimento, é necessário que o modelo esteja correto, mesmo que acabe classificando bons investimentos como maus investimentos (situação de Falso Negativo) no processo. Ou seja, o modelo deve ser preciso em suas classificações, pois a partir do momento que consideramos um investimento bom quando na verdade ele não é, uma grande perda de dinheiro pode acontecer."
   ]
  },
  {
   "cell_type": "code",
   "execution_count": 23,
   "metadata": {},
   "outputs": [
    {
     "data": {
      "text/plain": [
       "0.681382476036182"
      ]
     },
     "execution_count": 23,
     "metadata": {},
     "output_type": "execute_result"
    }
   ],
   "source": [
    "# Precision do Modelo de RandomForest\n",
    "\n",
    "# Importa a função\n",
    "from sklearn.metrics import precision_score\n",
    "\n",
    "# Calcula o precision \n",
    "precision_score(previsoes.y_true.values, previsoes.classe_prevista_RF.values)"
   ]
  },
  {
   "cell_type": "code",
   "execution_count": 24,
   "metadata": {},
   "outputs": [
    {
     "data": {
      "text/plain": [
       "0.6355265112134264"
      ]
     },
     "execution_count": 24,
     "metadata": {},
     "output_type": "execute_result"
    }
   ],
   "source": [
    "# Precision do Modelo de Regressão Logística\n",
    "\n",
    "# Importa a função\n",
    "from sklearn.metrics import precision_score\n",
    "\n",
    "# Calcula o precision \n",
    "precision_score(previsoes.y_true.values, previsoes.classe_prevista_LR.values)"
   ]
  },
  {
   "cell_type": "markdown",
   "metadata": {},
   "source": [
    "Nesse caso, parece que o modelo de RF é melhor no recall e na precisão. Mas o que você faria se um modelo fosse melhor em recall e o outro fosse melhor em precisão. Um método usado por alguns Cientistas de Dados é a média harmônica entre eles, chamado de F1 Score."
   ]
  },
  {
   "cell_type": "markdown",
   "metadata": {},
   "source": [
    "## Quando Usar o Precision e Quando Usar o Recall?\n",
    "\n",
    "O recall nos fornece informações sobre o desempenho de um classificador em relação a falsos negativos (quantos perdemos), enquanto a precisão nos fornece informações sobre seu desempenho em relação a falsos positivos (quantos capturamos).\n",
    "\n",
    "Precisão é ser preciso. Portanto, mesmo que tenhamos conseguido capturar apenas um caso de pneumonia e o tenhamos capturado corretamente, somos 100% precisos.\n",
    "\n",
    "Recall se refere a capturar todos os casos que têm \"pneumonia\" com a resposta \"pneumonia\". Portanto, se simplesmente prevemos todos os casos como \"pneumonia\", temos 100% de recall.\n",
    "\n",
    "Basicamente, se quisermos nos concentrar mais na minimização de falsos negativos, gostaríamos que o nosso recall fosse o mais próximo possível de 100%, sem que a precisão fosse muito ruim e se queremos nos concentrar em minimizar os falsos positivos, nosso foco deve ser precisão o mais próximo possível de 100%."
   ]
  },
  {
   "cell_type": "markdown",
   "metadata": {},
   "source": [
    "## Especificidade"
   ]
  },
  {
   "cell_type": "markdown",
   "metadata": {},
   "source": [
    "Especificidade é uma medida que nos diz que proporção de pacientes que NÃO tiveram pneumonia foi prevista pelo modelo como não-pneumonia. Os negativos reais (as pessoas que NÃO têm pneumonia) são FP e TN e as pessoas diagnosticadas que não têm pneumonia são TN. \n",
    "\n",
    "(Nota: FP está incluído porque a pessoa realmente NÃO tem pneumonia, embora o modelo previsse o contrário)."
   ]
  },
  {
   "cell_type": "markdown",
   "metadata": {},
   "source": [
    "<img src=\"imagens/especificidade.png\" alt=\"Drawing\" style=\"width: 400px;\"/>"
   ]
  },
  {
   "cell_type": "code",
   "execution_count": 25,
   "metadata": {},
   "outputs": [
    {
     "name": "stdout",
     "output_type": "stream",
     "text": [
      "0.7004696027414646\n"
     ]
    }
   ],
   "source": [
    "# Calculando a Especificidade do Modelo de RandomForest\n",
    "\n",
    "TN, FP, FN, TP = confusion_matrix(previsoes.y_true.values, previsoes.classe_prevista_RF.values).ravel()\n",
    "\n",
    "Especificidade = TN / (TN + FP)\n",
    "\n",
    "print(Especificidade)"
   ]
  },
  {
   "cell_type": "code",
   "execution_count": 26,
   "metadata": {},
   "outputs": [
    {
     "name": "stdout",
     "output_type": "stream",
     "text": [
      "0.6885391547150653\n"
     ]
    }
   ],
   "source": [
    "# Calculando a Especificidade do Modelo de Regressão Logística\n",
    "\n",
    "TN, FP, FN, TP = confusion_matrix(previsoes.y_true.values, previsoes.classe_prevista_LR.values).ravel()\n",
    "\n",
    "Especificidade = TN / (TN + FP)\n",
    "\n",
    "print(Especificidade)"
   ]
  },
  {
   "cell_type": "markdown",
   "metadata": {},
   "source": [
    "## Sensibilidade x Especificidade"
   ]
  },
  {
   "cell_type": "markdown",
   "metadata": {},
   "source": [
    "- Sensibilidade (Sensibility): a proporção de casos positivos que foram identificados corretamente.\n",
    "\n",
    "- Especificidade (Specificity): a proporção de casos negativos que foram identificados corretamente. \n",
    "\n",
    "- Acurácia (Accuracy): a proporção de casos que foram corretamente previstos, sejam eles verdadeiro positivo ou verdadeiro negativo."
   ]
  },
  {
   "cell_type": "markdown",
   "metadata": {},
   "source": [
    "## F1 Score"
   ]
  },
  {
   "cell_type": "markdown",
   "metadata": {},
   "source": [
    "O F1 Score é a média harmônica de recall e precision, com uma pontuação mais alta para um modelo melhor. \n",
    "\n",
    "A média harmônica é uma média quando x e y são iguais. Mas quando x e y são diferentes, fica mais próximo do número menor em comparação com o número maior. O F1 Score é calculado usando a seguinte fórmula:\n",
    "\n",
    "F1 Score = 2 * (Precision * Recall) / (Precision + Recall)"
   ]
  },
  {
   "cell_type": "markdown",
   "metadata": {},
   "source": [
    "<img src=\"imagens/f1-score.png\" alt=\"Drawing\" style=\"width: 400px;\"/>"
   ]
  },
  {
   "cell_type": "markdown",
   "metadata": {},
   "source": [
    "O F1-Score é simplesmente uma maneira de observar somente 1 métrica ao invés de duas (precisão e recall) em alguma situação. É uma média harmônica entre as duas, que está muito mais próxima dos menores valores do que uma média aritmética simples. Ou seja, quando temos um F1-Score baixo, é um indicativo de que ou a precisão ou o recall está baixo."
   ]
  },
  {
   "cell_type": "code",
   "execution_count": 27,
   "metadata": {},
   "outputs": [
    {
     "data": {
      "text/plain": [
       "0.660342797330891"
      ]
     },
     "execution_count": 27,
     "metadata": {},
     "output_type": "execute_result"
    }
   ],
   "source": [
    "# F1-Score do Modelo de RandomForest\n",
    "\n",
    "# Importa a função\n",
    "from sklearn.metrics import f1_score\n",
    "\n",
    "# Calcula o F1-Score\n",
    "f1_score(previsoes.y_true.values, previsoes.classe_prevista_RF.values)"
   ]
  },
  {
   "cell_type": "code",
   "execution_count": 28,
   "metadata": {},
   "outputs": [
    {
     "data": {
      "text/plain": [
       "0.5856830002737475"
      ]
     },
     "execution_count": 28,
     "metadata": {},
     "output_type": "execute_result"
    }
   ],
   "source": [
    "# F1-Score do Modelo de Regressão Logística\n",
    "\n",
    "# Importa a função\n",
    "from sklearn.metrics import f1_score\n",
    "\n",
    "# Calcula o F1-Score\n",
    "f1_score(previsoes.y_true.values, previsoes.classe_prevista_LR.values)"
   ]
  },
  {
   "cell_type": "markdown",
   "metadata": {},
   "source": [
    "## Alterando o Limite"
   ]
  },
  {
   "cell_type": "markdown",
   "metadata": {},
   "source": [
    "Até agora, assumimos que definimos um limite de 0.5 para selecionar quais amostras são previstas como positivas. Se alterarmos esse limite, as métricas de desempenho serão alteradas. Como mostrado abaixo:"
   ]
  },
  {
   "cell_type": "code",
   "execution_count": 29,
   "metadata": {},
   "outputs": [
    {
     "name": "stdout",
     "output_type": "stream",
     "text": [
      "Scores com Limite de 0.5\n",
      "Acurácia RF: 0.671\n",
      "Recall RF: 0.641\n",
      "Precision RF: 0.681\n",
      "F1-Score RF: 0.660\n"
     ]
    }
   ],
   "source": [
    "# Métricas com Limite de 0.5\n",
    "print('Scores com Limite de 0.5')\n",
    "print('Acurácia RF: %.3f'%(accuracy_score(previsoes.y_true.values, previsoes.classe_prevista_RF.values)))\n",
    "print('Recall RF: %.3f'%(recall_score(previsoes.y_true.values, previsoes.classe_prevista_RF.values)))\n",
    "print('Precision RF: %.3f'%(precision_score(previsoes.y_true.values, previsoes.classe_prevista_RF.values)))\n",
    "print('F1-Score RF: %.3f'%(f1_score(previsoes.y_true.values, previsoes.classe_prevista_RF.values)))"
   ]
  },
  {
   "cell_type": "code",
   "execution_count": 30,
   "metadata": {},
   "outputs": [
    {
     "name": "stdout",
     "output_type": "stream",
     "text": [
      "Scores com Limite de 0.25\n",
      "Acurácia RF: 0.502\n",
      "Recall RF: 1.000\n",
      "Precision RF: 0.501\n",
      "F1-Score RF: 0.668\n"
     ]
    }
   ],
   "source": [
    "# Métricas com Limite de 0.25\n",
    "print('Scores com Limite de 0.25')\n",
    "print('Acurácia RF: %.3f'%(accuracy_score(previsoes.y_true.values, (previsoes.y_pred_modelo_RF >= 0.25).astype('int').values)))\n",
    "print('Recall RF: %.3f'%(recall_score(previsoes.y_true.values, (previsoes.y_pred_modelo_RF >= 0.25).astype('int').values)))\n",
    "print('Precision RF: %.3f'%(precision_score(previsoes.y_true.values, (previsoes.y_pred_modelo_RF >= 0.25).astype('int').values)))\n",
    "print('F1-Score RF: %.3f'%(f1_score(previsoes.y_true.values, (previsoes.y_pred_modelo_RF >= 0.25).astype('int').values)))"
   ]
  },
  {
   "cell_type": "markdown",
   "metadata": {},
   "source": [
    "Como avaliamos um modelo se não escolhemos um limite? Um método muito comum é usar a curva ROC (Receiver Operating Characteristic)."
   ]
  },
  {
   "cell_type": "markdown",
   "metadata": {},
   "source": [
    "## Curva ROC e Score AUC"
   ]
  },
  {
   "cell_type": "markdown",
   "metadata": {},
   "source": [
    "As curvas ROC são MUITO úteis para entender o equilíbrio entre a taxa de verdadeiros positivos e a taxa de falsos posiitivos. O Scikit-Learn incorporou funções para curvas ROC e para analisá-las. As entradas para essas funções (`roc_curve` e` roc_auc_score`) são os rótulos reais e as probabilidades previstas (não os rótulos previstos). \n",
    "\n",
    "Vamos começar usando `roc_curve` para fazer o gráfico ROC."
   ]
  },
  {
   "cell_type": "code",
   "execution_count": 31,
   "metadata": {},
   "outputs": [],
   "source": [
    "from sklearn.metrics import roc_curve\n",
    "\n",
    "fpr_RF, tpr_RF, thresholds_RF = roc_curve(previsoes.y_true.values, previsoes.y_pred_modelo_RF.values)\n",
    "fpr_LR, tpr_LR, thresholds_LR = roc_curve(previsoes.y_true.values, previsoes.y_pred_modelo_LR.values)"
   ]
  },
  {
   "cell_type": "markdown",
   "metadata": {},
   "source": [
    "A função `roc_curve` retorna três listas:\n",
    "\n",
    "    - thresholds = todas as probabilidades de previsão únicas em ordem decrescente\n",
    "    - fpr = a taxa de falso positivo (FP / (FP + TN)) para cada threshold\n",
    "    - tpr = a taxa de verdadeiro positivo (TP / (TP + FN)) (recall) para cada threshold"
   ]
  },
  {
   "cell_type": "code",
   "execution_count": 32,
   "metadata": {},
   "outputs": [
    {
     "data": {
      "text/plain": [
       "array([1.93052053, 0.93052053, 0.82363091, ..., 0.25654616, 0.25587275,\n",
       "       0.17142947])"
      ]
     },
     "execution_count": 32,
     "metadata": {},
     "output_type": "execute_result"
    }
   ],
   "source": [
    "thresholds_RF"
   ]
  },
  {
   "cell_type": "code",
   "execution_count": 33,
   "metadata": {},
   "outputs": [
    {
     "data": {
      "text/plain": [
       "array([0.       , 0.       , 0.       , ..., 0.9941617, 0.9941617,\n",
       "       1.       ])"
      ]
     },
     "execution_count": 33,
     "metadata": {},
     "output_type": "execute_result"
    }
   ],
   "source": [
    "fpr_RF"
   ]
  },
  {
   "cell_type": "code",
   "execution_count": 34,
   "metadata": {},
   "outputs": [
    {
     "data": {
      "text/plain": [
       "array([0.00000000e+00, 1.26919660e-04, 5.33062571e-03, ...,\n",
       "       9.99873080e-01, 1.00000000e+00, 1.00000000e+00])"
      ]
     },
     "execution_count": 34,
     "metadata": {},
     "output_type": "execute_result"
    }
   ],
   "source": [
    "tpr_RF"
   ]
  },
  {
   "cell_type": "markdown",
   "metadata": {},
   "source": [
    "Podemos traçar a curva ROC para cada modelo, como mostrado abaixo."
   ]
  },
  {
   "cell_type": "code",
   "execution_count": 35,
   "metadata": {},
   "outputs": [
    {
     "data": {
      "image/png": "[encoded data removed]",
      "text/plain": [
       "<Figure size 432x288 with 1 Axes>"
      ]
     },
     "metadata": {
      "needs_background": "light"
     },
     "output_type": "display_data"
    }
   ],
   "source": [
    "import matplotlib.pyplot as plt\n",
    "%matplotlib inline\n",
    "\n",
    "plt.plot(fpr_RF, tpr_RF, 'r-', label = 'RF')\n",
    "plt.plot(fpr_LR, tpr_LR, 'b-', label = 'LR')\n",
    "plt.plot([0,1], [0,1], 'k-', label = 'random')\n",
    "plt.plot([0,0,1,1], [0,1,1,1], 'g-', label = 'perfeito')\n",
    "plt.legend()\n",
    "plt.xlabel('Taxa de False Positive')\n",
    "plt.ylabel('Taxa de True Positive')\n",
    "plt.show()"
   ]
  },
  {
   "cell_type": "markdown",
   "metadata": {},
   "source": [
    "Existem algumas coisas que podemos observar nesta figura.\n",
    "\n",
    "- Um modelo que adivinha aleatoriamente o rótulo resultará na linha preta e você deseja ter um modelo que tenha uma curva acima dessa linha preta.\n",
    "     \n",
    "- Um ROC que está mais distante da linha preta é melhor, então RF (vermelho) parece melhor que LR (azul).\n",
    "     \n",
    "- Embora não seja visto diretamente, um limite alto resulta em um ponto no canto superior direito e um limite baixo em um ponto no canto inferior esquerdo. Isso significa que, à medida que você aumenta o limite, você obtém TPR mais alto a um custo de FPR mais alto."
   ]
  },
  {
   "cell_type": "markdown",
   "metadata": {},
   "source": [
    "Para analisar o desempenho, usaremos a métrica AUC (área abaixo da curva)."
   ]
  },
  {
   "cell_type": "code",
   "execution_count": 36,
   "metadata": {},
   "outputs": [
    {
     "name": "stdout",
     "output_type": "stream",
     "text": [
      "AUC RF:0.738\n",
      "AUC LR:0.666\n"
     ]
    }
   ],
   "source": [
    "from sklearn.metrics import roc_auc_score\n",
    "\n",
    "auc_RF = roc_auc_score(previsoes.y_true.values, previsoes.y_pred_modelo_RF.values)\n",
    "auc_LR = roc_auc_score(previsoes.y_true.values, previsoes.y_pred_modelo_LR.values)\n",
    "\n",
    "print('AUC RF:%.3f'% auc_RF)\n",
    "print('AUC LR:%.3f'% auc_LR)"
   ]
  },
  {
   "cell_type": "markdown",
   "metadata": {},
   "source": [
    "Como você pode ver, a área abaixo da curva para o modelo de RF é melhor que a LR."
   ]
  },
  {
   "cell_type": "markdown",
   "metadata": {},
   "source": [
    "Ao plotar a curva ROC, é bom adicionar a AUC à legenda, como mostrado abaixo."
   ]
  },
  {
   "cell_type": "code",
   "execution_count": 37,
   "metadata": {},
   "outputs": [
    {
     "data": {
      "image/png": "[encoded data removed]",
      "text/plain": [
       "<Figure size 432x288 with 1 Axes>"
      ]
     },
     "metadata": {
      "needs_background": "light"
     },
     "output_type": "display_data"
    }
   ],
   "source": [
    "import matplotlib.pyplot as plt\n",
    "plt.plot(fpr_RF, tpr_RF,'r-', label = 'RF AUC: %.3f'%auc_RF)\n",
    "plt.plot(fpr_LR, tpr_LR,'b-', label = 'LR AUC: %.3f'%auc_LR)\n",
    "plt.plot([0,1], [0,1], 'k-', label = 'random')\n",
    "plt.plot([0,0,1,1], [0,1,1,1], 'g-', label = 'perfeito')\n",
    "plt.legend()\n",
    "plt.xlabel('Taxa de False Positive')\n",
    "plt.ylabel('Taxa de True Positive')\n",
    "plt.show()"
   ]
  },
  {
   "cell_type": "markdown",
   "metadata": {},
   "source": [
    "O modelo RF vence em todas as métricas de desempenho e seria nossa escolha como modelo final para as previsões."
   ]
  },
  {
   "cell_type": "markdown",
   "metadata": {},
   "source": [
    "## Classification Report"
   ]
  },
  {
   "cell_type": "code",
   "execution_count": 38,
   "metadata": {},
   "outputs": [
    {
     "name": "stdout",
     "output_type": "stream",
     "text": [
      "Classification Report Para o Modelo RF\n",
      "              precision    recall  f1-score   support\n",
      "\n",
      "           0       0.66      0.70      0.68      7879\n",
      "           1       0.68      0.64      0.66      7879\n",
      "\n",
      "    accuracy                           0.67     15758\n",
      "   macro avg       0.67      0.67      0.67     15758\n",
      "weighted avg       0.67      0.67      0.67     15758\n",
      "\n"
     ]
    }
   ],
   "source": [
    "from sklearn.metrics import classification_report\n",
    "\n",
    "report = classification_report(previsoes.y_true.values, previsoes.classe_prevista_RF.values)\n",
    "print('Classification Report Para o Modelo RF')\n",
    "print(report)"
   ]
  },
  {
   "cell_type": "code",
   "execution_count": 39,
   "metadata": {},
   "outputs": [
    {
     "name": "stdout",
     "output_type": "stream",
     "text": [
      "Classification Report Para o Modelo LR\n",
      "              precision    recall  f1-score   support\n",
      "\n",
      "           0       0.60      0.69      0.64      7879\n",
      "           1       0.64      0.54      0.59      7879\n",
      "\n",
      "    accuracy                           0.62     15758\n",
      "   macro avg       0.62      0.62      0.61     15758\n",
      "weighted avg       0.62      0.62      0.61     15758\n",
      "\n"
     ]
    }
   ],
   "source": [
    "from sklearn.metrics import classification_report\n",
    "\n",
    "report = classification_report(previsoes.y_true.values, previsoes.classe_prevista_LR.values)\n",
    "print('Classification Report Para o Modelo LR')\n",
    "print(report)"
   ]
  },
  {
   "cell_type": "markdown",
   "metadata": {},
   "source": [
    "## Conclusão"
   ]
  },
  {
   "cell_type": "markdown",
   "metadata": {},
   "source": [
    "Na análise preditiva, ao decidir entre dois modelos, é importante escolher pelo menos uma métrica de desempenho. Como você pode ver aqui, há muitas que você pode escolher (acurácia, recall, precisão, f1-score, AUC, etc). \n",
    "\n",
    "Por fim, você deve usar a métrica de desempenho mais adequada ao problema de negócios em questão. Muitos Cientistas de Dados preferem usar a AUC porque ela não requer a seleção de um limite e ajuda a equilibrar a taxa de verdadeiros positivos e a taxa de falsos positivos."
   ]
  },
  {
   "cell_type": "markdown",
   "metadata": {
    "collapsed": true
   },
   "source": [
    "# Fim"
   ]
  }
 ],
 "metadata": {
  "anaconda-cloud": {},
  "kernelspec": {
   "display_name": "Python 3 (ipykernel)",
   "language": "python",
   "name": "python3"
  },
  "language_info": {
   "codemirror_mode": {
    "name": "ipython",
    "version": 3
   },
   "file_extension": ".py",
   "mimetype": "text/x-python",
   "name": "python",
   "nbconvert_exporter": "python",
   "pygments_lexer": "ipython3",
   "version": "3.9.13"
  }
 },
 "nbformat": 4,
 "nbformat_minor": 1
}
