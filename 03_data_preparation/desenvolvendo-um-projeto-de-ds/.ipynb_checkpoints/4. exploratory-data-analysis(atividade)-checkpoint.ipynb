{
 "cells": [
  {
   "cell_type": "markdown",
   "metadata": {
    "ExecuteTime": {
     "end_time": "2021-11-27T01:15:00.212084Z",
     "start_time": "2021-11-27T01:14:58.592709Z"
    }
   },
   "source": [
    "# Como Desenvolver um Projeto de Data Science\n",
    "\n",
    "## CRISP-DM\n",
    "<img src='https://miro.medium.com/v2/resize:fit:640/0*tA5OjppLK627FfFo'>"
   ]
  },
  {
   "cell_type": "markdown",
   "metadata": {},
   "source": [
    "### 1) Desenvolva um notebook com a análise exploratória das series ta netflix usando o arquivo `series_netflix_clear.csv`"
   ]
  },
  {
   "cell_type": "code",
   "execution_count": null,
   "metadata": {},
   "outputs": [],
   "source": []
  },
  {
   "cell_type": "markdown",
   "metadata": {},
   "source": [
    "### 2) Verique a qualidade dos dados de séries e implemente alguma preparação dos dados, caso seja necessário"
   ]
  },
  {
   "cell_type": "code",
   "execution_count": null,
   "metadata": {},
   "outputs": [],
   "source": []
  },
  {
   "cell_type": "markdown",
   "metadata": {},
   "source": [
    "### 3) Elabore Relatórios automáticos do seu dados e destaque os principais insights que você encontrou"
   ]
  },
  {
   "cell_type": "code",
   "execution_count": null,
   "metadata": {},
   "outputs": [],
   "source": []
  },
  {
   "cell_type": "markdown",
   "metadata": {},
   "source": [
    "### 4) Implementa análise de dados e responda as seguintes questões\n",
    "- a) Qual ano liberou mais séries?\n",
    "- b) Qual o país que contém mais séries?\n",
    "- c) Qual o principal diretor dos filmes?\n",
    "- d) Quem são os principais atores das séries?\n",
    "- e) Em quais anos tiveram o maior número de séries liberadas na plataforma?\n",
    "- f) verifique se existe correlação nos dados se séries?"
   ]
  },
  {
   "cell_type": "markdown",
   "metadata": {},
   "source": [
    "## 5. Elabora gráficos da análises exploratórias usando Matplotlib e Seaborn"
   ]
  },
  {
   "cell_type": "code",
   "execution_count": null,
   "metadata": {},
   "outputs": [],
   "source": []
  }
 ],
 "metadata": {
  "kernelspec": {
   "display_name": "Python 3 (ipykernel)",
   "language": "python",
   "name": "python3"
  },
  "language_info": {
   "codemirror_mode": {
    "name": "ipython",
    "version": 3
   },
   "file_extension": ".py",
   "mimetype": "text/x-python",
   "name": "python",
   "nbconvert_exporter": "python",
   "pygments_lexer": "ipython3",
   "version": "3.9.15"
  }
 },
 "nbformat": 4,
 "nbformat_minor": 2
}
