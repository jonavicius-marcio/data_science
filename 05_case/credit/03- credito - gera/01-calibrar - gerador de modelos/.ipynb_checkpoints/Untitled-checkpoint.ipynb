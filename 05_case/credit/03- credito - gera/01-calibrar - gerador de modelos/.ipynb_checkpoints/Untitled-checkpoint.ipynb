{
 "cells": [
  {
   "cell_type": "code",
   "execution_count": 87,
   "metadata": {},
   "outputs": [],
   "source": [
    "import pandas as pd\n",
    "import numpy as np\n",
    "import matplotlib.pyplot as plt\n",
    "import seaborn as sns\n",
    "%matplotlib inline\n",
    "#Opção \n",
    "pd.set_option('display.max_rows', 200)\n",
    "pd.set_option('display.max_columns', 500)\n",
    "pd.set_option('display.width', 1000)"
   ]
  },
  {
   "cell_type": "code",
   "execution_count": 88,
   "metadata": {},
   "outputs": [],
   "source": [
    "#Calculo do KS \n",
    "def ks(data=None,target=None, prob=None):\n",
    "    data['target0'] = 1 - data[target]\n",
    "    data['bucket'] = pd.qcut(data[prob], 10)\n",
    "    grouped = data.groupby('bucket', as_index = False)\n",
    "    kstable = pd.DataFrame()\n",
    "    kstable['min_prob'] = grouped.min()[prob]\n",
    "    kstable['max_prob'] = grouped.max()[prob]\n",
    "    kstable['events']   = grouped.sum()[target]\n",
    "    kstable['nonevents'] = grouped.sum()['target0']\n",
    "    kstable = kstable.sort_values(by=\"min_prob\", ascending=False).reset_index(drop = True)\n",
    "    kstable['event_rate'] = (kstable.events / data[target].sum()).apply('{0:.2%}'.format)\n",
    "    kstable['nonevent_rate'] = (kstable.nonevents / data['target0'].sum()).apply('{0:.2%}'.format)\n",
    "    kstable['cum_eventrate']=(kstable.events / data[target].sum()).cumsum()\n",
    "    kstable['cum_noneventrate']=(kstable.nonevents / data['target0'].sum()).cumsum()\n",
    "    kstable['KS'] = np.round(kstable['cum_eventrate']-kstable['cum_noneventrate'], 3) * 100\n",
    "\n",
    "    #Formating\n",
    "    kstable['cum_eventrate']= kstable['cum_eventrate'].apply('{0:.2%}'.format)\n",
    "    kstable['cum_noneventrate']= kstable['cum_noneventrate'].apply('{0:.2%}'.format)\n",
    "    kstable.index = range(1,11)\n",
    "    kstable.index.rename('Decile', inplace=True)\n",
    "    pd.set_option('display.max_columns', 9)\n",
    "    print(kstable)\n",
    "    \n",
    "    #Display KS\n",
    "    from colorama import Fore\n",
    "    print(Fore.RED + \"KS is \" + str(max(kstable['KS']))+\"%\"+ \" at decile \" + str((kstable.index[kstable['KS']==max(kstable['KS'])][0])))\n",
    "    return(kstable)"
   ]
  },
  {
   "cell_type": "code",
   "execution_count": 81,
   "metadata": {},
   "outputs": [],
   "source": [
    "##  create a dataframe\n",
    "df = pd.read_csv(\"Base_modelagem_3.csv\", sep=\";\")"
   ]
  },
  {
   "cell_type": "code",
   "execution_count": 82,
   "metadata": {},
   "outputs": [],
   "source": [
    "df2=pd.get_dummies(df, prefix=['col1', 'col2', 'col3','col4','col5','col6', 'col7','col8','col9'])"
   ]
  },
  {
   "cell_type": "code",
   "execution_count": 83,
   "metadata": {},
   "outputs": [],
   "source": [
    "df2=df2.rename({'col1_(-Inf,3]':'col1_a', \t'col1_(3, Inf]':'col1_b', \t'col1_Missing':'col1_c', \t'col2_(-Inf,Inf]':'col2_a', \t'col2_Missing':'col2_b', \t'col3_(-Inf,9]':'col3_a', \t'col3_(9, Inf]':'col3_b', \t'col3_Missing':'col3_c', \t'col4_(-Inf,2]':'col4_a', \t'col4_(2, Inf]':'col4_b', \t'col4_Missing':'col4_c', \t'col5_0':'col5_a', \t'col5_1':'col5_b', \t'col5_2':'col5_c', \t'col5_3':'col5_d', \t'col5_4':'col5_e', \t'col5_missing':'col5_f', \t'col6_1':'col6_a', \t'col6_2':'col6_b', \t'col6_3':'col6_c', \t'col6_4':'col6_d', \t'col6_missing':'col6_e', \t'col7_1':'col7_a', \t'col7_2':'col7_b', \t'col7_3':'col7_c', \t'col7_4':'col7_d', \t'col7_5':'col7_e', \t'col7_6':'col7_f', \t'col7_missing':'col7_g', \t'col8_(-Inf,0]':'col8_a', \t'col8_(0,1]':'col8_b', \t'col8_(1, Inf]]':'col8_c', \t'col8_Missing':'col8_d', \t'col9_(-Inf,3]':'col9_a', \t'col9_(3, Inf]]':'col9_b', \t'col9_Missing':'col9_c', }, axis='columns')\n"
   ]
  },
  {
   "cell_type": "code",
   "execution_count": 90,
   "metadata": {},
   "outputs": [],
   "source": [
    "df_z= df2.loc[:,['PAGTO','col1_a', \t'col1_b', \t'col1_c', \t'col2_a', \t'col2_b', \t'col3_a']]"
   ]
  },
  {
   "cell_type": "code",
   "execution_count": 102,
   "metadata": {},
   "outputs": [],
   "source": [
    "df_z= df2.loc[:,['PAGTO','col1_a', \t'col1_b', \t'col1_c', \t'col2_a', \t'col2_b', \t'col3_a', \t'col3_b', \t'col3_c', \t'col4_a', \t'col4_b', \t'col4_c', \t'col5_a', \t'col5_b', \t'col5_c', \t'col5_d', \t'col5_e', \t'col5_f', \t'col6_a', \t'col6_b', \t'col6_c', \t'col6_d', \t'col6_e', \t'col7_a', \t'col7_b', \t'col7_c', \t'col7_d', \t'col7_e', \t'col7_f', \t'col7_g', \t'col8_a', \t'col8_b', \t'col8_c', \t'col8_d', \t'col9_a', \t'col9_b', \t'col9_c']]"
   ]
  },
  {
   "cell_type": "code",
   "execution_count": 103,
   "metadata": {},
   "outputs": [],
   "source": [
    "df_z= df_z.sample(200000) "
   ]
  },
  {
   "cell_type": "code",
   "execution_count": 104,
   "metadata": {},
   "outputs": [],
   "source": [
    "# Tirar a primeira columa (resposta)\n",
    "colunas=df_z.columns[1:]"
   ]
  },
  {
   "cell_type": "code",
   "execution_count": 105,
   "metadata": {},
   "outputs": [
    {
     "ename": "KeyboardInterrupt",
     "evalue": "",
     "output_type": "error",
     "traceback": [
      "\u001b[1;31m---------------------------------------------------------------------------\u001b[0m",
      "\u001b[1;31mKeyboardInterrupt\u001b[0m                         Traceback (most recent call last)",
      "\u001b[1;32m<ipython-input-105-246c0de5beef>\u001b[0m in \u001b[0;36m<module>\u001b[1;34m\u001b[0m\n\u001b[0;32m      5\u001b[0m         \u001b[1;32mfor\u001b[0m \u001b[0mnumber\u001b[0m \u001b[1;32min\u001b[0m \u001b[0msubset\u001b[0m\u001b[1;33m[\u001b[0m\u001b[1;36m0\u001b[0m\u001b[1;33m:\u001b[0m\u001b[1;33m]\u001b[0m\u001b[1;33m:\u001b[0m\u001b[1;33m\u001b[0m\u001b[1;33m\u001b[0m\u001b[0m\n\u001b[0;32m      6\u001b[0m             \u001b[1;31m#gera a formula\u001b[0m\u001b[1;33m\u001b[0m\u001b[1;33m\u001b[0m\u001b[1;33m\u001b[0m\u001b[0m\n\u001b[1;32m----> 7\u001b[1;33m             \u001b[0mvare\u001b[0m \u001b[1;33m=\u001b[0m \u001b[0mvare\u001b[0m \u001b[1;33m+\u001b[0m \u001b[0mnumber\u001b[0m \u001b[1;33m+\u001b[0m \u001b[1;34m'+'\u001b[0m\u001b[1;33m\u001b[0m\u001b[1;33m\u001b[0m\u001b[0m\n\u001b[0m\u001b[0;32m      8\u001b[0m             \u001b[1;31m#tirar o último +\u001b[0m\u001b[1;33m\u001b[0m\u001b[1;33m\u001b[0m\u001b[1;33m\u001b[0m\u001b[0m\n\u001b[0;32m      9\u001b[0m             \u001b[0mformula\u001b[0m\u001b[1;33m=\u001b[0m\u001b[0mvare\u001b[0m\u001b[1;33m[\u001b[0m\u001b[1;33m:\u001b[0m\u001b[0mvare\u001b[0m\u001b[1;33m.\u001b[0m\u001b[0mrfind\u001b[0m\u001b[1;33m(\u001b[0m\u001b[1;34m'+'\u001b[0m\u001b[1;33m)\u001b[0m\u001b[1;33m]\u001b[0m\u001b[1;33m\u001b[0m\u001b[1;33m\u001b[0m\u001b[0m\n",
      "\u001b[1;31mKeyboardInterrupt\u001b[0m: "
     ]
    }
   ],
   "source": [
    "#Gera todas as combinações possíveis \n",
    "for L in range(0, len(colunas)+1):\n",
    "    for subset in itertools.combinations(colunas, L):\n",
    "        vare = \"PAGTO ~ \"\n",
    "        for number in subset[0:]:\n",
    "            #gera a formula \n",
    "            vare = vare + number + '+'\n",
    "            #tirar o último +\n",
    "            formula=vare[:vare.rfind('+')]\n",
    "        #só começar a imprimir quando tiver no minimo 7 variávies\n",
    "        if len(subset)>12: \n",
    "            print(subset)\n",
    "            print(formula)\n",
    "            print('----------------------')\n",
    "        \n",
    "\n",
    "            #gera o modelo  \n",
    "            model = smf.glm(formula =formula , data=df_z, family=sm.families.Binomial())\n",
    "            result = model.fit()\n",
    "            print(result.summary())\n",
    "            print('----------------------')\n",
    "            print('----------------------')\n",
    "\n",
    "            #scorar a base \n",
    "            #Tirar o intercepto\n",
    "            betas=result.params[1:]\n",
    "            len(betas)\n",
    "\n",
    "            #score\n",
    "            df_z['score']=df_z[colunas[0]]*0+result.params[0]\n",
    "            for i in range(0,len(betas)):\n",
    "                df_z['score']= df_z['score']+betas[i]*df_z[colunas[i]]\n",
    "\n",
    "            df_z['score_1']=round((np.exp(df_z['score']) /(1+np.exp(df_z['score'])))*1000,0)\n",
    "\n",
    "            ## Ks\n",
    "            try:\n",
    "                mydf=ks(data=df_z,target=\"PAGTO\", prob=\"score_1\")\n",
    "                print(mydf)\n",
    "            except ValueError:\n",
    "                print(\"não foi possivel calcular o KS\")\n",
    "\n",
    "            print('----------------------')\n",
    "            test=stats.ks_2samp(df_z['score_1'], df_z['PAGTO'])\n",
    "            print('KS de:')\n",
    "            print(test) \n",
    "            df_z=df_z.drop(['target0', 'score_1', 'score' ], axis=1)"
   ]
  },
  {
   "cell_type": "code",
   "execution_count": 44,
   "metadata": {},
   "outputs": [
    {
     "name": "stdout",
     "output_type": "stream",
     "text": [
      "----------------------\n",
      "col1_a\n",
      "PAGTO ~ col1_a\n",
      "----------------------\n",
      "col1_b\n",
      "PAGTO ~ col1_a+col1_b\n",
      "----------------------\n",
      "col1_c\n",
      "PAGTO ~ col1_a+col1_b+col1_c\n",
      "----------------------\n",
      "col2_a\n",
      "PAGTO ~ col1_a+col1_b+col1_c+col2_a\n",
      "----------------------\n",
      "col2_b\n",
      "PAGTO ~ col1_a+col1_b+col1_c+col2_a+col2_b\n",
      "----------------------\n",
      "col3_a\n",
      "PAGTO ~ col1_a+col1_b+col1_c+col2_a+col2_b+col3_a\n"
     ]
    }
   ],
   "source": [
    "vare = \"PAGTO ~ \"\n",
    "\n",
    "for number in colunas[0:]:\n",
    "        #gera a formula \n",
    "        vare = vare + number + '+'\n",
    "        #tirar o último +\n",
    "        formula=vare[:vare.rfind('+')]\n",
    "        print('----------------------')\n",
    "        print(number)\n",
    "        print(formula)\n",
    "        "
   ]
  },
  {
   "cell_type": "code",
   "execution_count": 36,
   "metadata": {},
   "outputs": [
    {
     "data": {
      "text/plain": [
       "'PAGTO ~ +col1_a+col1_b+col1_c+col2_a+col2_b+col3_a'"
      ]
     },
     "execution_count": 36,
     "metadata": {},
     "output_type": "execute_result"
    }
   ],
   "source": [
    "vare"
   ]
  },
  {
   "cell_type": "code",
   "execution_count": 38,
   "metadata": {},
   "outputs": [
    {
     "data": {
      "text/plain": [
       "43"
      ]
     },
     "execution_count": 38,
     "metadata": {},
     "output_type": "execute_result"
    }
   ],
   "source": []
  },
  {
   "cell_type": "code",
   "execution_count": 42,
   "metadata": {},
   "outputs": [
    {
     "data": {
      "text/plain": [
       "'PAGTO ~ col1_a+col1_b+col1_c+col2_a+col2_b+col3_a'"
      ]
     },
     "execution_count": 42,
     "metadata": {},
     "output_type": "execute_result"
    }
   ],
   "source": []
  },
  {
   "cell_type": "code",
   "execution_count": null,
   "metadata": {},
   "outputs": [],
   "source": []
  },
  {
   "cell_type": "code",
   "execution_count": 21,
   "metadata": {},
   "outputs": [
    {
     "name": "stdout",
     "output_type": "stream",
     "text": [
      "(0, 1)\n",
      "(0, 2)\n",
      "(1, 0)\n",
      "(1, 2)\n",
      "(2, 0)\n",
      "(2, 1)\n"
     ]
    }
   ],
   "source": [
    "from itertools import permutations\n",
    "\n",
    "caracteres = [0, 1, 2]\n",
    "for subset in permutations(caracteres, 2):\n",
    "    print(subset)"
   ]
  },
  {
   "cell_type": "code",
   "execution_count": 45,
   "metadata": {},
   "outputs": [
    {
     "name": "stdout",
     "output_type": "stream",
     "text": [
      "()\n",
      "(1,)\n",
      "(2,)\n",
      "(3,)\n",
      "(1, 2)\n",
      "(1, 3)\n",
      "(2, 3)\n",
      "(1, 2, 3)\n"
     ]
    }
   ],
   "source": [
    "import itertools\n",
    "\n",
    "stuff = [1, 2, 3]\n",
    "for L in range(0, len(stuff)+1):\n",
    "    for subset in itertools.combinations(stuff, L):\n",
    "        print(subset)"
   ]
  },
  {
   "cell_type": "code",
   "execution_count": null,
   "metadata": {},
   "outputs": [],
   "source": [
    "vare = \"PAGTO ~ \"\n",
    "\n",
    "for number in colunas[0:]:\n",
    "        #gera a formula \n",
    "        vare = vare + number + '+'\n",
    "        #tirar o último +\n",
    "        formula=vare[:vare.rfind('+')]\n",
    "        print('----------------------')\n",
    "        print(number)\n",
    "        print(formula)\n",
    "        "
   ]
  },
  {
   "cell_type": "code",
   "execution_count": 78,
   "metadata": {},
   "outputs": [
    {
     "data": {
      "text/plain": [
       "Index(['col1_a', 'col1_b', 'col1_c', 'col2_a', 'col2_b', 'col3_a'], dtype='object')"
      ]
     },
     "execution_count": 78,
     "metadata": {},
     "output_type": "execute_result"
    }
   ],
   "source": [
    "colunas"
   ]
  },
  {
   "cell_type": "code",
   "execution_count": 73,
   "metadata": {},
   "outputs": [
    {
     "name": "stdout",
     "output_type": "stream",
     "text": [
      "()\n",
      "('col1_a',)\n",
      "('col1_b',)\n",
      "('col1_c',)\n",
      "('col2_a',)\n",
      "('col2_b',)\n",
      "('col3_a',)\n",
      "('col1_a', 'col1_b')\n",
      "('col1_a', 'col1_c')\n",
      "('col1_a', 'col2_a')\n",
      "('col1_a', 'col2_b')\n",
      "('col1_a', 'col3_a')\n",
      "('col1_b', 'col1_c')\n",
      "('col1_b', 'col2_a')\n",
      "('col1_b', 'col2_b')\n",
      "('col1_b', 'col3_a')\n",
      "('col1_c', 'col2_a')\n",
      "('col1_c', 'col2_b')\n",
      "('col1_c', 'col3_a')\n",
      "('col2_a', 'col2_b')\n",
      "('col2_a', 'col3_a')\n",
      "('col2_b', 'col3_a')\n",
      "('col1_a', 'col1_b', 'col1_c')\n",
      "('col1_a', 'col1_b', 'col2_a')\n",
      "('col1_a', 'col1_b', 'col2_b')\n",
      "('col1_a', 'col1_b', 'col3_a')\n",
      "('col1_a', 'col1_c', 'col2_a')\n",
      "('col1_a', 'col1_c', 'col2_b')\n",
      "('col1_a', 'col1_c', 'col3_a')\n",
      "('col1_a', 'col2_a', 'col2_b')\n",
      "('col1_a', 'col2_a', 'col3_a')\n",
      "('col1_a', 'col2_b', 'col3_a')\n",
      "('col1_b', 'col1_c', 'col2_a')\n",
      "('col1_b', 'col1_c', 'col2_b')\n",
      "('col1_b', 'col1_c', 'col3_a')\n",
      "('col1_b', 'col2_a', 'col2_b')\n",
      "('col1_b', 'col2_a', 'col3_a')\n",
      "('col1_b', 'col2_b', 'col3_a')\n",
      "('col1_c', 'col2_a', 'col2_b')\n",
      "('col1_c', 'col2_a', 'col3_a')\n",
      "('col1_c', 'col2_b', 'col3_a')\n",
      "('col2_a', 'col2_b', 'col3_a')\n",
      "('col1_a', 'col1_b', 'col1_c', 'col2_a')\n",
      "('col1_a', 'col1_b', 'col1_c', 'col2_b')\n",
      "('col1_a', 'col1_b', 'col1_c', 'col3_a')\n",
      "('col1_a', 'col1_b', 'col2_a', 'col2_b')\n",
      "('col1_a', 'col1_b', 'col2_a', 'col3_a')\n",
      "('col1_a', 'col1_b', 'col2_b', 'col3_a')\n",
      "('col1_a', 'col1_c', 'col2_a', 'col2_b')\n",
      "('col1_a', 'col1_c', 'col2_a', 'col3_a')\n",
      "('col1_a', 'col1_c', 'col2_b', 'col3_a')\n",
      "('col1_a', 'col2_a', 'col2_b', 'col3_a')\n",
      "('col1_b', 'col1_c', 'col2_a', 'col2_b')\n",
      "('col1_b', 'col1_c', 'col2_a', 'col3_a')\n",
      "('col1_b', 'col1_c', 'col2_b', 'col3_a')\n",
      "('col1_b', 'col2_a', 'col2_b', 'col3_a')\n",
      "('col1_c', 'col2_a', 'col2_b', 'col3_a')\n",
      "('col1_a', 'col1_b', 'col1_c', 'col2_a', 'col2_b')\n",
      "('col1_a', 'col1_b', 'col1_c', 'col2_a', 'col3_a')\n",
      "('col1_a', 'col1_b', 'col1_c', 'col2_b', 'col3_a')\n",
      "('col1_a', 'col1_b', 'col2_a', 'col2_b', 'col3_a')\n",
      "('col1_a', 'col1_c', 'col2_a', 'col2_b', 'col3_a')\n",
      "('col1_b', 'col1_c', 'col2_a', 'col2_b', 'col3_a')\n",
      "('col1_a', 'col1_b', 'col1_c', 'col2_a', 'col2_b', 'col3_a')\n"
     ]
    }
   ],
   "source": [
    "#Gera todas as combinações possíveis \n",
    "for L in range(0, len(colunas)+1):\n",
    "    for subset in itertools.combinations(colunas, L):\n",
    "        print(subset)\n",
    "        "
   ]
  },
  {
   "cell_type": "code",
   "execution_count": 79,
   "metadata": {},
   "outputs": [
    {
     "name": "stdout",
     "output_type": "stream",
     "text": [
      "()\n",
      "PAGTO ~ col1_a+col1_b+col1_c+col2_a+col2_b+col3_a\n",
      "----------------------\n",
      "('col1_a',)\n",
      "PAGTO ~ col1_a\n",
      "----------------------\n",
      "('col1_b',)\n",
      "PAGTO ~ col1_b\n",
      "----------------------\n",
      "('col1_c',)\n",
      "PAGTO ~ col1_c\n",
      "----------------------\n",
      "('col2_a',)\n",
      "PAGTO ~ col2_a\n",
      "----------------------\n",
      "('col2_b',)\n",
      "PAGTO ~ col2_b\n",
      "----------------------\n",
      "('col3_a',)\n",
      "PAGTO ~ col3_a\n",
      "----------------------\n",
      "('col1_a', 'col1_b')\n",
      "PAGTO ~ col1_a+col1_b\n",
      "----------------------\n",
      "('col1_a', 'col1_c')\n",
      "PAGTO ~ col1_a+col1_c\n",
      "----------------------\n",
      "('col1_a', 'col2_a')\n",
      "PAGTO ~ col1_a+col2_a\n",
      "----------------------\n",
      "('col1_a', 'col2_b')\n",
      "PAGTO ~ col1_a+col2_b\n",
      "----------------------\n",
      "('col1_a', 'col3_a')\n",
      "PAGTO ~ col1_a+col3_a\n",
      "----------------------\n",
      "('col1_b', 'col1_c')\n",
      "PAGTO ~ col1_b+col1_c\n",
      "----------------------\n",
      "('col1_b', 'col2_a')\n",
      "PAGTO ~ col1_b+col2_a\n",
      "----------------------\n",
      "('col1_b', 'col2_b')\n",
      "PAGTO ~ col1_b+col2_b\n",
      "----------------------\n",
      "('col1_b', 'col3_a')\n",
      "PAGTO ~ col1_b+col3_a\n",
      "----------------------\n",
      "('col1_c', 'col2_a')\n",
      "PAGTO ~ col1_c+col2_a\n",
      "----------------------\n",
      "('col1_c', 'col2_b')\n",
      "PAGTO ~ col1_c+col2_b\n",
      "----------------------\n",
      "('col1_c', 'col3_a')\n",
      "PAGTO ~ col1_c+col3_a\n",
      "----------------------\n",
      "('col2_a', 'col2_b')\n",
      "PAGTO ~ col2_a+col2_b\n",
      "----------------------\n",
      "('col2_a', 'col3_a')\n",
      "PAGTO ~ col2_a+col3_a\n",
      "----------------------\n",
      "('col2_b', 'col3_a')\n",
      "PAGTO ~ col2_b+col3_a\n",
      "----------------------\n",
      "('col1_a', 'col1_b', 'col1_c')\n",
      "PAGTO ~ col1_a+col1_b+col1_c\n",
      "----------------------\n",
      "('col1_a', 'col1_b', 'col2_a')\n",
      "PAGTO ~ col1_a+col1_b+col2_a\n",
      "----------------------\n",
      "('col1_a', 'col1_b', 'col2_b')\n",
      "PAGTO ~ col1_a+col1_b+col2_b\n",
      "----------------------\n",
      "('col1_a', 'col1_b', 'col3_a')\n",
      "PAGTO ~ col1_a+col1_b+col3_a\n",
      "----------------------\n",
      "('col1_a', 'col1_c', 'col2_a')\n",
      "PAGTO ~ col1_a+col1_c+col2_a\n",
      "----------------------\n",
      "('col1_a', 'col1_c', 'col2_b')\n",
      "PAGTO ~ col1_a+col1_c+col2_b\n",
      "----------------------\n",
      "('col1_a', 'col1_c', 'col3_a')\n",
      "PAGTO ~ col1_a+col1_c+col3_a\n",
      "----------------------\n",
      "('col1_a', 'col2_a', 'col2_b')\n",
      "PAGTO ~ col1_a+col2_a+col2_b\n",
      "----------------------\n",
      "('col1_a', 'col2_a', 'col3_a')\n",
      "PAGTO ~ col1_a+col2_a+col3_a\n",
      "----------------------\n",
      "('col1_a', 'col2_b', 'col3_a')\n",
      "PAGTO ~ col1_a+col2_b+col3_a\n",
      "----------------------\n",
      "('col1_b', 'col1_c', 'col2_a')\n",
      "PAGTO ~ col1_b+col1_c+col2_a\n",
      "----------------------\n",
      "('col1_b', 'col1_c', 'col2_b')\n",
      "PAGTO ~ col1_b+col1_c+col2_b\n",
      "----------------------\n",
      "('col1_b', 'col1_c', 'col3_a')\n",
      "PAGTO ~ col1_b+col1_c+col3_a\n",
      "----------------------\n",
      "('col1_b', 'col2_a', 'col2_b')\n",
      "PAGTO ~ col1_b+col2_a+col2_b\n",
      "----------------------\n",
      "('col1_b', 'col2_a', 'col3_a')\n",
      "PAGTO ~ col1_b+col2_a+col3_a\n",
      "----------------------\n",
      "('col1_b', 'col2_b', 'col3_a')\n",
      "PAGTO ~ col1_b+col2_b+col3_a\n",
      "----------------------\n",
      "('col1_c', 'col2_a', 'col2_b')\n",
      "PAGTO ~ col1_c+col2_a+col2_b\n",
      "----------------------\n",
      "('col1_c', 'col2_a', 'col3_a')\n",
      "PAGTO ~ col1_c+col2_a+col3_a\n",
      "----------------------\n",
      "('col1_c', 'col2_b', 'col3_a')\n",
      "PAGTO ~ col1_c+col2_b+col3_a\n",
      "----------------------\n",
      "('col2_a', 'col2_b', 'col3_a')\n",
      "PAGTO ~ col2_a+col2_b+col3_a\n",
      "----------------------\n",
      "('col1_a', 'col1_b', 'col1_c', 'col2_a')\n",
      "PAGTO ~ col1_a+col1_b+col1_c+col2_a\n",
      "----------------------\n",
      "('col1_a', 'col1_b', 'col1_c', 'col2_b')\n",
      "PAGTO ~ col1_a+col1_b+col1_c+col2_b\n",
      "----------------------\n",
      "('col1_a', 'col1_b', 'col1_c', 'col3_a')\n",
      "PAGTO ~ col1_a+col1_b+col1_c+col3_a\n",
      "----------------------\n",
      "('col1_a', 'col1_b', 'col2_a', 'col2_b')\n",
      "PAGTO ~ col1_a+col1_b+col2_a+col2_b\n",
      "----------------------\n",
      "('col1_a', 'col1_b', 'col2_a', 'col3_a')\n",
      "PAGTO ~ col1_a+col1_b+col2_a+col3_a\n",
      "----------------------\n",
      "('col1_a', 'col1_b', 'col2_b', 'col3_a')\n",
      "PAGTO ~ col1_a+col1_b+col2_b+col3_a\n",
      "----------------------\n",
      "('col1_a', 'col1_c', 'col2_a', 'col2_b')\n",
      "PAGTO ~ col1_a+col1_c+col2_a+col2_b\n",
      "----------------------\n",
      "('col1_a', 'col1_c', 'col2_a', 'col3_a')\n",
      "PAGTO ~ col1_a+col1_c+col2_a+col3_a\n",
      "----------------------\n",
      "('col1_a', 'col1_c', 'col2_b', 'col3_a')\n",
      "PAGTO ~ col1_a+col1_c+col2_b+col3_a\n",
      "----------------------\n",
      "('col1_a', 'col2_a', 'col2_b', 'col3_a')\n",
      "PAGTO ~ col1_a+col2_a+col2_b+col3_a\n",
      "----------------------\n",
      "('col1_b', 'col1_c', 'col2_a', 'col2_b')\n",
      "PAGTO ~ col1_b+col1_c+col2_a+col2_b\n",
      "----------------------\n",
      "('col1_b', 'col1_c', 'col2_a', 'col3_a')\n",
      "PAGTO ~ col1_b+col1_c+col2_a+col3_a\n",
      "----------------------\n",
      "('col1_b', 'col1_c', 'col2_b', 'col3_a')\n",
      "PAGTO ~ col1_b+col1_c+col2_b+col3_a\n",
      "----------------------\n",
      "('col1_b', 'col2_a', 'col2_b', 'col3_a')\n",
      "PAGTO ~ col1_b+col2_a+col2_b+col3_a\n",
      "----------------------\n",
      "('col1_c', 'col2_a', 'col2_b', 'col3_a')\n",
      "PAGTO ~ col1_c+col2_a+col2_b+col3_a\n",
      "----------------------\n",
      "('col1_a', 'col1_b', 'col1_c', 'col2_a', 'col2_b')\n",
      "PAGTO ~ col1_a+col1_b+col1_c+col2_a+col2_b\n",
      "----------------------\n",
      "('col1_a', 'col1_b', 'col1_c', 'col2_a', 'col3_a')\n",
      "PAGTO ~ col1_a+col1_b+col1_c+col2_a+col3_a\n",
      "----------------------\n",
      "('col1_a', 'col1_b', 'col1_c', 'col2_b', 'col3_a')\n",
      "PAGTO ~ col1_a+col1_b+col1_c+col2_b+col3_a\n",
      "----------------------\n",
      "('col1_a', 'col1_b', 'col2_a', 'col2_b', 'col3_a')\n",
      "PAGTO ~ col1_a+col1_b+col2_a+col2_b+col3_a\n",
      "----------------------\n",
      "('col1_a', 'col1_c', 'col2_a', 'col2_b', 'col3_a')\n",
      "PAGTO ~ col1_a+col1_c+col2_a+col2_b+col3_a\n",
      "----------------------\n",
      "('col1_b', 'col1_c', 'col2_a', 'col2_b', 'col3_a')\n",
      "PAGTO ~ col1_b+col1_c+col2_a+col2_b+col3_a\n",
      "----------------------\n",
      "('col1_a', 'col1_b', 'col1_c', 'col2_a', 'col2_b', 'col3_a')\n",
      "PAGTO ~ col1_a+col1_b+col1_c+col2_a+col2_b+col3_a\n",
      "----------------------\n"
     ]
    }
   ],
   "source": [
    "#Gera todas as combinações possíveis \n",
    "for L in range(0, len(colunas)+1):\n",
    "    for subset in itertools.combinations(colunas, L):\n",
    "        vare = \"PAGTO ~ \"\n",
    "        for number in subset[0:]:\n",
    "            #gera a formula \n",
    "            vare = vare + number + '+'\n",
    "            #tirar o último +\n",
    "            formula=vare[:vare.rfind('+')]\n",
    "        print(subset)\n",
    "        print(formula)\n",
    "        print('----------------------')"
   ]
  },
  {
   "cell_type": "code",
   "execution_count": 65,
   "metadata": {},
   "outputs": [
    {
     "data": {
      "text/plain": [
       "('col1_a', 'col1_b', 'col1_c', 'col2_a', 'col2_b', 'col3_a')"
      ]
     },
     "execution_count": 65,
     "metadata": {},
     "output_type": "execute_result"
    }
   ],
   "source": [
    "subset"
   ]
  },
  {
   "cell_type": "code",
   "execution_count": null,
   "metadata": {},
   "outputs": [],
   "source": [
    "vare = \"PAGTO ~ \"\n",
    "for number in len(subset):\n",
    "        #gera a formula \n",
    "        vare = vare + number + '+'\n",
    "        #tirar o último +\n",
    "        formula=vare[:vare.rfind('+')]\n",
    "        print('----------------------')\n",
    "        print(number)\n",
    "        print(formula)"
   ]
  },
  {
   "cell_type": "code",
   "execution_count": 71,
   "metadata": {},
   "outputs": [
    {
     "name": "stdout",
     "output_type": "stream",
     "text": [
      "----------------------\n",
      "col1_a\n",
      "PAGTO ~ col1_a\n",
      "----------------------\n",
      "col1_b\n",
      "PAGTO ~ col1_a+col1_b\n",
      "----------------------\n",
      "col1_c\n",
      "PAGTO ~ col1_a+col1_b+col1_c\n",
      "----------------------\n",
      "col2_a\n",
      "PAGTO ~ col1_a+col1_b+col1_c+col2_a\n",
      "----------------------\n",
      "col2_b\n",
      "PAGTO ~ col1_a+col1_b+col1_c+col2_a+col2_b\n",
      "----------------------\n",
      "col3_a\n",
      "PAGTO ~ col1_a+col1_b+col1_c+col2_a+col2_b+col3_a\n"
     ]
    }
   ],
   "source": [
    "vare = \"PAGTO ~ \"\n",
    "for number in subset[0:]:\n",
    "        #gera a formula \n",
    "        vare = vare + number + '+'\n",
    "        #tirar o último +\n",
    "        formula=vare[:vare.rfind('+')]\n",
    "        print('----------------------')\n",
    "        print(number)\n",
    "        print(formula)"
   ]
  },
  {
   "cell_type": "code",
   "execution_count": null,
   "metadata": {},
   "outputs": [],
   "source": []
  },
  {
   "cell_type": "code",
   "execution_count": 60,
   "metadata": {},
   "outputs": [
    {
     "data": {
      "text/plain": [
       "Index(['col1_a', 'col1_b', 'col1_c', 'col2_a', 'col2_b', 'col3_a'], dtype='object')"
      ]
     },
     "execution_count": 60,
     "metadata": {},
     "output_type": "execute_result"
    }
   ],
   "source": [
    "colunas"
   ]
  },
  {
   "cell_type": "code",
   "execution_count": null,
   "metadata": {},
   "outputs": [],
   "source": []
  },
  {
   "cell_type": "code",
   "execution_count": 59,
   "metadata": {},
   "outputs": [
    {
     "name": "stdout",
     "output_type": "stream",
     "text": [
      "----------------------\n",
      "col1_a\n",
      "PAGTO ~ col1_acol1_a+col1_b+col1_c+col2_a+col2_b+col3_a+col1_a\n",
      "----------------------\n",
      "col1_b\n",
      "PAGTO ~ col1_acol1_a+col1_b+col1_c+col2_a+col2_b+col3_a+col1_a+col1_b\n",
      "----------------------\n",
      "col1_c\n",
      "PAGTO ~ col1_acol1_a+col1_b+col1_c+col2_a+col2_b+col3_a+col1_a+col1_b+col1_c\n",
      "----------------------\n",
      "col2_a\n",
      "PAGTO ~ col1_acol1_a+col1_b+col1_c+col2_a+col2_b+col3_a+col1_a+col1_b+col1_c+col2_a\n",
      "----------------------\n",
      "col2_b\n",
      "PAGTO ~ col1_acol1_a+col1_b+col1_c+col2_a+col2_b+col3_a+col1_a+col1_b+col1_c+col2_a+col2_b\n",
      "----------------------\n",
      "col3_a\n",
      "PAGTO ~ col1_acol1_a+col1_b+col1_c+col2_a+col2_b+col3_a+col1_a+col1_b+col1_c+col2_a+col2_b+col3_a\n"
     ]
    }
   ],
   "source": [
    "for number in teste[0:]:\n",
    "        #gera a formula \n",
    "        vare = vare + number + '+'\n",
    "        #tirar o último +\n",
    "        formula=vare[:vare.rfind('+')]\n",
    "        print('----------------------')\n",
    "        print(number)\n",
    "        print(formula)"
   ]
  },
  {
   "cell_type": "code",
   "execution_count": null,
   "metadata": {},
   "outputs": [],
   "source": []
  },
  {
   "cell_type": "code",
   "execution_count": null,
   "metadata": {},
   "outputs": [],
   "source": []
  }
 ],
 "metadata": {
  "kernelspec": {
   "display_name": "Python 3",
   "language": "python",
   "name": "python3"
  }
 },
 "nbformat": 4,
 "nbformat_minor": 2
}
