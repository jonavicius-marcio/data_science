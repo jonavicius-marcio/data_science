{
 "cells": [
  {
   "cell_type": "markdown",
   "metadata": {
    "colab_type": "text",
    "id": "JJCLNXceiSr4"
   },
   "source": [
    "## Visualização de dados com Plot.ly##"
   ]
  },
  {
   "cell_type": "markdown",
   "metadata": {
    "colab_type": "text",
    "id": "bdRzTDt4iSr5"
   },
   "source": [
    "`Cufflinks conecta o pandas ao plot.ly`\n",
    "\n",
    "`Instalação do Plot.ly e Cufflinks`"
   ]
  },
  {
   "cell_type": "code",
   "execution_count": 1,
   "metadata": {
    "colab": {},
    "colab_type": "code",
    "id": "bgO2Lb3kiSr6",
    "outputId": "8e93fb8e-c4b7-42b8-d9a8-d7c88ea7edb0"
   },
   "outputs": [
    {
     "name": "stdout",
     "output_type": "stream",
     "text": [
      "Collecting cufflinks\n",
      "  Downloading cufflinks-0.17.3.tar.gz (81 kB)\n",
      "     ---------------------------------------- 81.7/81.7 kB 1.5 MB/s eta 0:00:00\n",
      "  Preparing metadata (setup.py): started\n",
      "  Preparing metadata (setup.py): finished with status 'done'\n",
      "Requirement already satisfied: numpy>=1.9.2 in c:\\users\\marcio rodrigues\\anaconda3\\lib\\site-packages (from cufflinks) (1.24.4)\n",
      "Requirement already satisfied: pandas>=0.19.2 in c:\\users\\marcio rodrigues\\anaconda3\\lib\\site-packages (from cufflinks) (2.1.2)\n",
      "Requirement already satisfied: plotly>=4.1.1 in c:\\users\\marcio rodrigues\\anaconda3\\lib\\site-packages (from cufflinks) (5.9.0)\n",
      "Requirement already satisfied: six>=1.9.0 in c:\\users\\marcio rodrigues\\anaconda3\\lib\\site-packages (from cufflinks) (1.16.0)\n",
      "Collecting colorlover>=0.2.1 (from cufflinks)\n",
      "  Downloading colorlover-0.3.0-py3-none-any.whl (8.9 kB)\n",
      "Requirement already satisfied: setuptools>=34.4.1 in c:\\users\\marcio rodrigues\\anaconda3\\lib\\site-packages (from cufflinks) (63.4.1)\n",
      "Requirement already satisfied: ipython>=5.3.0 in c:\\users\\marcio rodrigues\\anaconda3\\lib\\site-packages (from cufflinks) (7.31.1)\n",
      "Requirement already satisfied: ipywidgets>=7.0.0 in c:\\users\\marcio rodrigues\\anaconda3\\lib\\site-packages (from cufflinks) (7.6.5)\n",
      "Requirement already satisfied: jedi>=0.16 in c:\\users\\marcio rodrigues\\anaconda3\\lib\\site-packages (from ipython>=5.3.0->cufflinks) (0.18.1)\n",
      "Requirement already satisfied: decorator in c:\\users\\marcio rodrigues\\anaconda3\\lib\\site-packages (from ipython>=5.3.0->cufflinks) (5.1.1)\n",
      "Requirement already satisfied: pickleshare in c:\\users\\marcio rodrigues\\anaconda3\\lib\\site-packages (from ipython>=5.3.0->cufflinks) (0.7.5)\n",
      "Requirement already satisfied: traitlets>=4.2 in c:\\users\\marcio rodrigues\\anaconda3\\lib\\site-packages (from ipython>=5.3.0->cufflinks) (5.1.1)\n",
      "Requirement already satisfied: prompt-toolkit!=3.0.0,!=3.0.1,<3.1.0,>=2.0.0 in c:\\users\\marcio rodrigues\\anaconda3\\lib\\site-packages (from ipython>=5.3.0->cufflinks) (3.0.20)\n",
      "Requirement already satisfied: pygments in c:\\users\\marcio rodrigues\\anaconda3\\lib\\site-packages (from ipython>=5.3.0->cufflinks) (2.11.2)\n",
      "Requirement already satisfied: backcall in c:\\users\\marcio rodrigues\\anaconda3\\lib\\site-packages (from ipython>=5.3.0->cufflinks) (0.2.0)\n",
      "Requirement already satisfied: matplotlib-inline in c:\\users\\marcio rodrigues\\anaconda3\\lib\\site-packages (from ipython>=5.3.0->cufflinks) (0.1.6)\n",
      "Requirement already satisfied: colorama in c:\\users\\marcio rodrigues\\anaconda3\\lib\\site-packages (from ipython>=5.3.0->cufflinks) (0.4.6)\n",
      "Requirement already satisfied: ipykernel>=4.5.1 in c:\\users\\marcio rodrigues\\anaconda3\\lib\\site-packages (from ipywidgets>=7.0.0->cufflinks) (6.15.2)\n",
      "Requirement already satisfied: ipython-genutils~=0.2.0 in c:\\users\\marcio rodrigues\\anaconda3\\lib\\site-packages (from ipywidgets>=7.0.0->cufflinks) (0.2.0)\n",
      "Requirement already satisfied: nbformat>=4.2.0 in c:\\users\\marcio rodrigues\\anaconda3\\lib\\site-packages (from ipywidgets>=7.0.0->cufflinks) (5.5.0)\n",
      "Requirement already satisfied: widgetsnbextension~=3.5.0 in c:\\users\\marcio rodrigues\\anaconda3\\lib\\site-packages (from ipywidgets>=7.0.0->cufflinks) (3.5.2)\n",
      "Requirement already satisfied: jupyterlab-widgets>=1.0.0 in c:\\users\\marcio rodrigues\\anaconda3\\lib\\site-packages (from ipywidgets>=7.0.0->cufflinks) (1.0.0)\n",
      "Requirement already satisfied: python-dateutil>=2.8.2 in c:\\users\\marcio rodrigues\\anaconda3\\lib\\site-packages (from pandas>=0.19.2->cufflinks) (2.8.2)\n",
      "Requirement already satisfied: pytz>=2020.1 in c:\\users\\marcio rodrigues\\anaconda3\\lib\\site-packages (from pandas>=0.19.2->cufflinks) (2022.1)\n",
      "Requirement already satisfied: tzdata>=2022.1 in c:\\users\\marcio rodrigues\\anaconda3\\lib\\site-packages (from pandas>=0.19.2->cufflinks) (2023.3)\n",
      "Requirement already satisfied: tenacity>=6.2.0 in c:\\users\\marcio rodrigues\\anaconda3\\lib\\site-packages (from plotly>=4.1.1->cufflinks) (8.0.1)\n",
      "Requirement already satisfied: debugpy>=1.0 in c:\\users\\marcio rodrigues\\anaconda3\\lib\\site-packages (from ipykernel>=4.5.1->ipywidgets>=7.0.0->cufflinks) (1.5.1)\n",
      "Requirement already satisfied: jupyter-client>=6.1.12 in c:\\users\\marcio rodrigues\\anaconda3\\lib\\site-packages (from ipykernel>=4.5.1->ipywidgets>=7.0.0->cufflinks) (7.3.4)\n",
      "Requirement already satisfied: nest-asyncio in c:\\users\\marcio rodrigues\\anaconda3\\lib\\site-packages (from ipykernel>=4.5.1->ipywidgets>=7.0.0->cufflinks) (1.5.5)\n",
      "Requirement already satisfied: packaging in c:\\users\\marcio rodrigues\\anaconda3\\lib\\site-packages (from ipykernel>=4.5.1->ipywidgets>=7.0.0->cufflinks) (21.3)\n",
      "Requirement already satisfied: psutil in c:\\users\\marcio rodrigues\\anaconda3\\lib\\site-packages (from ipykernel>=4.5.1->ipywidgets>=7.0.0->cufflinks) (5.9.0)\n",
      "Requirement already satisfied: pyzmq>=17 in c:\\users\\marcio rodrigues\\anaconda3\\lib\\site-packages (from ipykernel>=4.5.1->ipywidgets>=7.0.0->cufflinks) (23.2.0)\n",
      "Requirement already satisfied: tornado>=6.1 in c:\\users\\marcio rodrigues\\anaconda3\\lib\\site-packages (from ipykernel>=4.5.1->ipywidgets>=7.0.0->cufflinks) (6.1)\n",
      "Requirement already satisfied: parso<0.9.0,>=0.8.0 in c:\\users\\marcio rodrigues\\anaconda3\\lib\\site-packages (from jedi>=0.16->ipython>=5.3.0->cufflinks) (0.8.3)\n",
      "Requirement already satisfied: fastjsonschema in c:\\users\\marcio rodrigues\\anaconda3\\lib\\site-packages (from nbformat>=4.2.0->ipywidgets>=7.0.0->cufflinks) (2.16.2)\n",
      "Requirement already satisfied: jsonschema>=2.6 in c:\\users\\marcio rodrigues\\anaconda3\\lib\\site-packages (from nbformat>=4.2.0->ipywidgets>=7.0.0->cufflinks) (4.16.0)\n",
      "Requirement already satisfied: jupyter_core in c:\\users\\marcio rodrigues\\anaconda3\\lib\\site-packages (from nbformat>=4.2.0->ipywidgets>=7.0.0->cufflinks) (4.11.1)\n",
      "Requirement already satisfied: wcwidth in c:\\users\\marcio rodrigues\\anaconda3\\lib\\site-packages (from prompt-toolkit!=3.0.0,!=3.0.1,<3.1.0,>=2.0.0->ipython>=5.3.0->cufflinks) (0.2.5)\n",
      "Requirement already satisfied: notebook>=4.4.1 in c:\\users\\marcio rodrigues\\anaconda3\\lib\\site-packages (from widgetsnbextension~=3.5.0->ipywidgets>=7.0.0->cufflinks) (6.4.12)\n",
      "Requirement already satisfied: attrs>=17.4.0 in c:\\users\\marcio rodrigues\\anaconda3\\lib\\site-packages (from jsonschema>=2.6->nbformat>=4.2.0->ipywidgets>=7.0.0->cufflinks) (21.4.0)\n",
      "Requirement already satisfied: pyrsistent!=0.17.0,!=0.17.1,!=0.17.2,>=0.14.0 in c:\\users\\marcio rodrigues\\anaconda3\\lib\\site-packages (from jsonschema>=2.6->nbformat>=4.2.0->ipywidgets>=7.0.0->cufflinks) (0.18.0)\n",
      "Requirement already satisfied: entrypoints in c:\\users\\marcio rodrigues\\anaconda3\\lib\\site-packages (from jupyter-client>=6.1.12->ipykernel>=4.5.1->ipywidgets>=7.0.0->cufflinks) (0.4)\n",
      "Requirement already satisfied: pywin32>=1.0 in c:\\users\\marcio rodrigues\\anaconda3\\lib\\site-packages (from jupyter_core->nbformat>=4.2.0->ipywidgets>=7.0.0->cufflinks) (302)\n",
      "Requirement already satisfied: jinja2 in c:\\users\\marcio rodrigues\\anaconda3\\lib\\site-packages (from notebook>=4.4.1->widgetsnbextension~=3.5.0->ipywidgets>=7.0.0->cufflinks) (2.11.3)\n",
      "Requirement already satisfied: argon2-cffi in c:\\users\\marcio rodrigues\\anaconda3\\lib\\site-packages (from notebook>=4.4.1->widgetsnbextension~=3.5.0->ipywidgets>=7.0.0->cufflinks) (21.3.0)\n",
      "Requirement already satisfied: nbconvert>=5 in c:\\users\\marcio rodrigues\\anaconda3\\lib\\site-packages (from notebook>=4.4.1->widgetsnbextension~=3.5.0->ipywidgets>=7.0.0->cufflinks) (6.4.4)\n",
      "Requirement already satisfied: Send2Trash>=1.8.0 in c:\\users\\marcio rodrigues\\anaconda3\\lib\\site-packages (from notebook>=4.4.1->widgetsnbextension~=3.5.0->ipywidgets>=7.0.0->cufflinks) (1.8.0)\n",
      "Requirement already satisfied: terminado>=0.8.3 in c:\\users\\marcio rodrigues\\anaconda3\\lib\\site-packages (from notebook>=4.4.1->widgetsnbextension~=3.5.0->ipywidgets>=7.0.0->cufflinks) (0.13.1)\n",
      "Requirement already satisfied: prometheus-client in c:\\users\\marcio rodrigues\\anaconda3\\lib\\site-packages (from notebook>=4.4.1->widgetsnbextension~=3.5.0->ipywidgets>=7.0.0->cufflinks) (0.14.1)\n",
      "Requirement already satisfied: pyparsing!=3.0.5,>=2.0.2 in c:\\users\\marcio rodrigues\\anaconda3\\lib\\site-packages (from packaging->ipykernel>=4.5.1->ipywidgets>=7.0.0->cufflinks) (3.0.9)\n",
      "Requirement already satisfied: mistune<2,>=0.8.1 in c:\\users\\marcio rodrigues\\anaconda3\\lib\\site-packages (from nbconvert>=5->notebook>=4.4.1->widgetsnbextension~=3.5.0->ipywidgets>=7.0.0->cufflinks) (0.8.4)\n",
      "Requirement already satisfied: jupyterlab-pygments in c:\\users\\marcio rodrigues\\anaconda3\\lib\\site-packages (from nbconvert>=5->notebook>=4.4.1->widgetsnbextension~=3.5.0->ipywidgets>=7.0.0->cufflinks) (0.1.2)\n",
      "Requirement already satisfied: bleach in c:\\users\\marcio rodrigues\\anaconda3\\lib\\site-packages (from nbconvert>=5->notebook>=4.4.1->widgetsnbextension~=3.5.0->ipywidgets>=7.0.0->cufflinks) (4.1.0)\n",
      "Requirement already satisfied: pandocfilters>=1.4.1 in c:\\users\\marcio rodrigues\\anaconda3\\lib\\site-packages (from nbconvert>=5->notebook>=4.4.1->widgetsnbextension~=3.5.0->ipywidgets>=7.0.0->cufflinks) (1.5.0)\n",
      "Requirement already satisfied: testpath in c:\\users\\marcio rodrigues\\anaconda3\\lib\\site-packages (from nbconvert>=5->notebook>=4.4.1->widgetsnbextension~=3.5.0->ipywidgets>=7.0.0->cufflinks) (0.6.0)\n",
      "Requirement already satisfied: defusedxml in c:\\users\\marcio rodrigues\\anaconda3\\lib\\site-packages (from nbconvert>=5->notebook>=4.4.1->widgetsnbextension~=3.5.0->ipywidgets>=7.0.0->cufflinks) (0.7.1)\n",
      "Requirement already satisfied: beautifulsoup4 in c:\\users\\marcio rodrigues\\anaconda3\\lib\\site-packages (from nbconvert>=5->notebook>=4.4.1->widgetsnbextension~=3.5.0->ipywidgets>=7.0.0->cufflinks) (4.11.1)\n",
      "Requirement already satisfied: nbclient<0.6.0,>=0.5.0 in c:\\users\\marcio rodrigues\\anaconda3\\lib\\site-packages (from nbconvert>=5->notebook>=4.4.1->widgetsnbextension~=3.5.0->ipywidgets>=7.0.0->cufflinks) (0.5.13)\n",
      "Requirement already satisfied: MarkupSafe>=0.23 in c:\\users\\marcio rodrigues\\anaconda3\\lib\\site-packages (from jinja2->notebook>=4.4.1->widgetsnbextension~=3.5.0->ipywidgets>=7.0.0->cufflinks) (2.0.1)\n",
      "Requirement already satisfied: pywinpty>=1.1.0 in c:\\users\\marcio rodrigues\\anaconda3\\lib\\site-packages (from terminado>=0.8.3->notebook>=4.4.1->widgetsnbextension~=3.5.0->ipywidgets>=7.0.0->cufflinks) (2.0.2)\n",
      "Requirement already satisfied: argon2-cffi-bindings in c:\\users\\marcio rodrigues\\anaconda3\\lib\\site-packages (from argon2-cffi->notebook>=4.4.1->widgetsnbextension~=3.5.0->ipywidgets>=7.0.0->cufflinks) (21.2.0)\n",
      "Requirement already satisfied: cffi>=1.0.1 in c:\\users\\marcio rodrigues\\anaconda3\\lib\\site-packages (from argon2-cffi-bindings->argon2-cffi->notebook>=4.4.1->widgetsnbextension~=3.5.0->ipywidgets>=7.0.0->cufflinks) (1.15.1)\n",
      "Requirement already satisfied: soupsieve>1.2 in c:\\users\\marcio rodrigues\\anaconda3\\lib\\site-packages (from beautifulsoup4->nbconvert>=5->notebook>=4.4.1->widgetsnbextension~=3.5.0->ipywidgets>=7.0.0->cufflinks) (2.3.1)\n",
      "Requirement already satisfied: webencodings in c:\\users\\marcio rodrigues\\anaconda3\\lib\\site-packages (from bleach->nbconvert>=5->notebook>=4.4.1->widgetsnbextension~=3.5.0->ipywidgets>=7.0.0->cufflinks) (0.5.1)\n",
      "Requirement already satisfied: pycparser in c:\\users\\marcio rodrigues\\anaconda3\\lib\\site-packages (from cffi>=1.0.1->argon2-cffi-bindings->argon2-cffi->notebook>=4.4.1->widgetsnbextension~=3.5.0->ipywidgets>=7.0.0->cufflinks) (2.21)\n",
      "Building wheels for collected packages: cufflinks\n",
      "  Building wheel for cufflinks (setup.py): started\n",
      "  Building wheel for cufflinks (setup.py): finished with status 'done'\n",
      "  Created wheel for cufflinks: filename=cufflinks-0.17.3-py3-none-any.whl size=68718 sha256=3ed74f47fee7b150e412329ec5aa88e2fd4f1a6658fe68640f315dfe6cafa199\n",
      "  Stored in directory: c:\\users\\marcio rodrigues\\appdata\\local\\pip\\cache\\wheels\\29\\b4\\f8\\2fd2206eeeba6ccad8167e4e8894b8c4ec27bf1342037fd136\n",
      "Successfully built cufflinks\n",
      "Installing collected packages: colorlover, cufflinks\n",
      "Successfully installed colorlover-0.3.0 cufflinks-0.17.3\n"
     ]
    },
    {
     "name": "stdout",
     "output_type": "stream",
     "text": [
      "Requirement already satisfied: plotly in c:\\users\\marcio rodrigues\\anaconda3\\lib\\site-packages (5.9.0)\n",
      "Requirement already satisfied: tenacity>=6.2.0 in c:\\users\\marcio rodrigues\\anaconda3\\lib\\site-packages (from plotly) (8.0.1)\n"
     ]
    }
   ],
   "source": [
    "!pip install cufflinks\n",
    "!pip install plotly"
   ]
  },
  {
   "cell_type": "markdown",
   "metadata": {
    "colab_type": "text",
    "id": "ioHirTf4iSsA"
   },
   "source": [
    "`Importando o cufflinks e o plot.ly`"
   ]
  },
  {
   "cell_type": "code",
   "execution_count": 6,
   "metadata": {
    "colab": {},
    "colab_type": "code",
    "id": "zz9RDGmHiSsB"
   },
   "outputs": [],
   "source": [
    "import cufflinks as cf\n",
    "from plotly.offline import plot, iplot\n",
    "import pandas as pd\n",
    "import numpy as np"
   ]
  },
  {
   "cell_type": "markdown",
   "metadata": {
    "colab_type": "text",
    "id": "Qp92bfOBiSsD"
   },
   "source": [
    "**Cria um dataframe com dados aleatorios divididos em 4 colunas**"
   ]
  },
  {
   "cell_type": "code",
   "execution_count": 7,
   "metadata": {
    "colab": {},
    "colab_type": "code",
    "id": "A1TosBXSiSsE"
   },
   "outputs": [],
   "source": [
    "df = pd.DataFrame(np.random.randn(100,4), columns=['A','B','C','D'])"
   ]
  },
  {
   "cell_type": "code",
   "execution_count": 8,
   "metadata": {
    "colab": {
     "base_uri": "https://localhost:8080/",
     "height": 204
    },
    "colab_type": "code",
    "executionInfo": {
     "elapsed": 802,
     "status": "ok",
     "timestamp": 1557594629533,
     "user": {
      "displayName": "Rodrigo Santana Ferreira",
      "photoUrl": "https://lh5.googleusercontent.com/-w5AmPcUma78/AAAAAAAAAAI/AAAAAAAAAPw/2VfgXe2k7sI/s64/photo.jpg",
      "userId": "14710330936720624047"
     },
     "user_tz": 180
    },
    "id": "vlRlJY5SiSsH",
    "outputId": "9eeeedb0-14d6-4018-d7d6-e7566b9c1350"
   },
   "outputs": [
    {
     "data": {
      "text/html": [
       "<div>\n",
       "<style scoped>\n",
       "    .dataframe tbody tr th:only-of-type {\n",
       "        vertical-align: middle;\n",
       "    }\n",
       "\n",
       "    .dataframe tbody tr th {\n",
       "        vertical-align: top;\n",
       "    }\n",
       "\n",
       "    .dataframe thead th {\n",
       "        text-align: right;\n",
       "    }\n",
       "</style>\n",
       "<table border=\"1\" class=\"dataframe\">\n",
       "  <thead>\n",
       "    <tr style=\"text-align: right;\">\n",
       "      <th></th>\n",
       "      <th>A</th>\n",
       "      <th>B</th>\n",
       "      <th>C</th>\n",
       "      <th>D</th>\n",
       "    </tr>\n",
       "  </thead>\n",
       "  <tbody>\n",
       "    <tr>\n",
       "      <th>0</th>\n",
       "      <td>0.123517</td>\n",
       "      <td>-0.579893</td>\n",
       "      <td>-0.679507</td>\n",
       "      <td>-0.171979</td>\n",
       "    </tr>\n",
       "    <tr>\n",
       "      <th>1</th>\n",
       "      <td>-1.069931</td>\n",
       "      <td>-0.874568</td>\n",
       "      <td>0.715540</td>\n",
       "      <td>0.970235</td>\n",
       "    </tr>\n",
       "    <tr>\n",
       "      <th>2</th>\n",
       "      <td>1.422179</td>\n",
       "      <td>-0.958948</td>\n",
       "      <td>1.358378</td>\n",
       "      <td>0.064387</td>\n",
       "    </tr>\n",
       "    <tr>\n",
       "      <th>3</th>\n",
       "      <td>-0.183731</td>\n",
       "      <td>0.092426</td>\n",
       "      <td>-0.357151</td>\n",
       "      <td>1.233019</td>\n",
       "    </tr>\n",
       "    <tr>\n",
       "      <th>4</th>\n",
       "      <td>1.796228</td>\n",
       "      <td>0.646139</td>\n",
       "      <td>1.946941</td>\n",
       "      <td>0.516185</td>\n",
       "    </tr>\n",
       "  </tbody>\n",
       "</table>\n",
       "</div>"
      ],
      "text/plain": [
       "          A         B         C         D\n",
       "0  0.123517 -0.579893 -0.679507 -0.171979\n",
       "1 -1.069931 -0.874568  0.715540  0.970235\n",
       "2  1.422179 -0.958948  1.358378  0.064387\n",
       "3 -0.183731  0.092426 -0.357151  1.233019\n",
       "4  1.796228  0.646139  1.946941  0.516185"
      ]
     },
     "execution_count": 8,
     "metadata": {},
     "output_type": "execute_result"
    }
   ],
   "source": [
    "df.head()"
   ]
  },
  {
   "cell_type": "markdown",
   "metadata": {
    "colab_type": "text",
    "id": "sh9Y16pMiSsL"
   },
   "source": [
    "**Ao tentar usar o Cufflinks veja o resultado**"
   ]
  },
  {
   "cell_type": "code",
   "execution_count": 10,
   "metadata": {
    "colab": {},
    "colab_type": "code",
    "id": "3YnPkTQ1iSsL",
    "outputId": "7e45c77b-84ad-4bc6-e551-1a47bd8faabc"
   },
   "outputs": [
    {
     "ename": "PlotlyRequestError",
     "evalue": "Authentication credentials were not provided.",
     "output_type": "error",
     "traceback": [
      "\u001b[1;31m---------------------------------------------------------------------------\u001b[0m",
      "\u001b[1;31mPlotlyRequestError\u001b[0m                        Traceback (most recent call last)",
      "\u001b[1;32m~\\AppData\\Local\\Temp\\ipykernel_27408\\4163631973.py\u001b[0m in \u001b[0;36m<module>\u001b[1;34m\u001b[0m\n\u001b[1;32m----> 1\u001b[1;33m \u001b[0mdf\u001b[0m\u001b[1;33m.\u001b[0m\u001b[0miplot\u001b[0m\u001b[1;33m(\u001b[0m\u001b[1;33m)\u001b[0m\u001b[1;33m\u001b[0m\u001b[1;33m\u001b[0m\u001b[0m\n\u001b[0m",
      "\u001b[1;32m~\\anaconda3\\lib\\site-packages\\cufflinks\\plotlytools.py\u001b[0m in \u001b[0;36m_iplot\u001b[1;34m(self, kind, data, layout, filename, sharing, title, xTitle, yTitle, zTitle, theme, colors, colorscale, fill, width, dash, mode, interpolation, symbol, size, barmode, sortbars, bargap, bargroupgap, bins, histnorm, histfunc, orientation, boxpoints, annotations, keys, bestfit, bestfit_colors, mean, mean_colors, categories, x, y, z, text, gridcolor, zerolinecolor, margin, labels, values, secondary_y, secondary_y_title, subplots, shape, error_x, error_y, error_type, locations, lon, lat, asFrame, asDates, asFigure, asImage, dimensions, asPlot, asUrl, online, **kwargs)\u001b[0m\n\u001b[0;32m   1214\u001b[0m                 \u001b[1;32mreturn\u001b[0m \u001b[0mFigure\u001b[0m\u001b[1;33m(\u001b[0m\u001b[0mfigure\u001b[0m\u001b[1;33m)\u001b[0m\u001b[1;33m\u001b[0m\u001b[1;33m\u001b[0m\u001b[0m\n\u001b[0;32m   1215\u001b[0m         \u001b[1;32melse\u001b[0m\u001b[1;33m:\u001b[0m\u001b[1;33m\u001b[0m\u001b[1;33m\u001b[0m\u001b[0m\n\u001b[1;32m-> 1216\u001b[1;33m \t\treturn iplot(figure,validate=validate,sharing=sharing,filename=filename,\n\u001b[0m\u001b[0;32m   1217\u001b[0m                          \u001b[0monline\u001b[0m\u001b[1;33m=\u001b[0m\u001b[0monline\u001b[0m\u001b[1;33m,\u001b[0m\u001b[0masImage\u001b[0m\u001b[1;33m=\u001b[0m\u001b[0masImage\u001b[0m\u001b[1;33m,\u001b[0m\u001b[0masUrl\u001b[0m\u001b[1;33m=\u001b[0m\u001b[0masUrl\u001b[0m\u001b[1;33m,\u001b[0m\u001b[0masPlot\u001b[0m\u001b[1;33m=\u001b[0m\u001b[0masPlot\u001b[0m\u001b[1;33m,\u001b[0m\u001b[1;33m\u001b[0m\u001b[1;33m\u001b[0m\u001b[0m\n\u001b[0;32m   1218\u001b[0m \t\t\t dimensions=dimensions,display_image=kwargs.get('display_image',True))\n",
      "\u001b[1;32m~\\anaconda3\\lib\\site-packages\\cufflinks\\plotlytools.py\u001b[0m in \u001b[0;36miplot\u001b[1;34m(figure, validate, sharing, filename, online, asImage, asUrl, asPlot, dimensions, display_image, **kwargs)\u001b[0m\n\u001b[0;32m   1468\u001b[0m                 \u001b[1;32mreturn\u001b[0m \u001b[0moffline\u001b[0m\u001b[1;33m.\u001b[0m\u001b[0mpy_offline\u001b[0m\u001b[1;33m.\u001b[0m\u001b[0miplot\u001b[0m\u001b[1;33m(\u001b[0m\u001b[0mfigure\u001b[0m\u001b[1;33m,\u001b[0m \u001b[0mvalidate\u001b[0m\u001b[1;33m=\u001b[0m\u001b[0mvalidate\u001b[0m\u001b[1;33m,\u001b[0m \u001b[0mfilename\u001b[0m\u001b[1;33m=\u001b[0m\u001b[0mfilename\u001b[0m\u001b[1;33m,\u001b[0m \u001b[0mshow_link\u001b[0m\u001b[1;33m=\u001b[0m\u001b[0mshow_link\u001b[0m\u001b[1;33m,\u001b[0m \u001b[0mlink_text\u001b[0m\u001b[1;33m=\u001b[0m\u001b[0mlink_text\u001b[0m\u001b[1;33m,\u001b[0m \u001b[0mconfig\u001b[0m\u001b[1;33m=\u001b[0m\u001b[0mconfig\u001b[0m\u001b[1;33m)\u001b[0m\u001b[1;33m\u001b[0m\u001b[1;33m\u001b[0m\u001b[0m\n\u001b[0;32m   1469\u001b[0m         \u001b[1;32melse\u001b[0m\u001b[1;33m:\u001b[0m\u001b[1;33m\u001b[0m\u001b[1;33m\u001b[0m\u001b[0m\n\u001b[1;32m-> 1470\u001b[1;33m \t\treturn py.iplot(figure,validate=validate,sharing=sharing,\n\u001b[0m\u001b[0;32m   1471\u001b[0m \t\t\t\t\t\tfilename=filename)\n\u001b[0;32m   1472\u001b[0m \u001b[1;33m\u001b[0m\u001b[0m\n",
      "\u001b[1;32m~\\anaconda3\\lib\\site-packages\\chart_studio\\plotly\\plotly.py\u001b[0m in \u001b[0;36miplot\u001b[1;34m(figure_or_data, **plot_options)\u001b[0m\n\u001b[0;32m    133\u001b[0m     \u001b[1;32mif\u001b[0m \u001b[1;34m\"auto_open\"\u001b[0m \u001b[1;32mnot\u001b[0m \u001b[1;32min\u001b[0m \u001b[0mplot_options\u001b[0m\u001b[1;33m:\u001b[0m\u001b[1;33m\u001b[0m\u001b[1;33m\u001b[0m\u001b[0m\n\u001b[0;32m    134\u001b[0m         \u001b[0mplot_options\u001b[0m\u001b[1;33m[\u001b[0m\u001b[1;34m\"auto_open\"\u001b[0m\u001b[1;33m]\u001b[0m \u001b[1;33m=\u001b[0m \u001b[1;32mFalse\u001b[0m\u001b[1;33m\u001b[0m\u001b[1;33m\u001b[0m\u001b[0m\n\u001b[1;32m--> 135\u001b[1;33m     \u001b[0murl\u001b[0m \u001b[1;33m=\u001b[0m \u001b[0mplot\u001b[0m\u001b[1;33m(\u001b[0m\u001b[0mfigure_or_data\u001b[0m\u001b[1;33m,\u001b[0m \u001b[1;33m**\u001b[0m\u001b[0mplot_options\u001b[0m\u001b[1;33m)\u001b[0m\u001b[1;33m\u001b[0m\u001b[1;33m\u001b[0m\u001b[0m\n\u001b[0m\u001b[0;32m    136\u001b[0m \u001b[1;33m\u001b[0m\u001b[0m\n\u001b[0;32m    137\u001b[0m     \u001b[1;32mif\u001b[0m \u001b[0misinstance\u001b[0m\u001b[1;33m(\u001b[0m\u001b[0mfigure_or_data\u001b[0m\u001b[1;33m,\u001b[0m \u001b[0mdict\u001b[0m\u001b[1;33m)\u001b[0m\u001b[1;33m:\u001b[0m\u001b[1;33m\u001b[0m\u001b[1;33m\u001b[0m\u001b[0m\n",
      "\u001b[1;32m~\\anaconda3\\lib\\site-packages\\chart_studio\\plotly\\plotly.py\u001b[0m in \u001b[0;36mplot\u001b[1;34m(figure_or_data, validate, **plot_options)\u001b[0m\n\u001b[0;32m    274\u001b[0m             \u001b[0mgrid_filename\u001b[0m \u001b[1;33m=\u001b[0m \u001b[0mfilename\u001b[0m \u001b[1;33m+\u001b[0m \u001b[1;34m\"_grid\"\u001b[0m\u001b[1;33m\u001b[0m\u001b[1;33m\u001b[0m\u001b[0m\n\u001b[0;32m    275\u001b[0m \u001b[1;33m\u001b[0m\u001b[0m\n\u001b[1;32m--> 276\u001b[1;33m         grid_ops.upload(\n\u001b[0m\u001b[0;32m    277\u001b[0m             \u001b[0mgrid\u001b[0m\u001b[1;33m=\u001b[0m\u001b[0mgrid\u001b[0m\u001b[1;33m,\u001b[0m\u001b[1;33m\u001b[0m\u001b[1;33m\u001b[0m\u001b[0m\n\u001b[0;32m    278\u001b[0m             \u001b[0mfilename\u001b[0m\u001b[1;33m=\u001b[0m\u001b[0mgrid_filename\u001b[0m\u001b[1;33m,\u001b[0m\u001b[1;33m\u001b[0m\u001b[1;33m\u001b[0m\u001b[0m\n",
      "\u001b[1;32m~\\anaconda3\\lib\\site-packages\\chart_studio\\plotly\\plotly.py\u001b[0m in \u001b[0;36mupload\u001b[1;34m(cls, grid, filename, world_readable, auto_open, meta)\u001b[0m\n\u001b[0;32m   1085\u001b[0m                 \u001b[0mpayload\u001b[0m\u001b[1;33m[\u001b[0m\u001b[1;34m\"parent_path\"\u001b[0m\u001b[1;33m]\u001b[0m \u001b[1;33m=\u001b[0m \u001b[0mparent_path\u001b[0m\u001b[1;33m\u001b[0m\u001b[1;33m\u001b[0m\u001b[0m\n\u001b[0;32m   1086\u001b[0m \u001b[1;33m\u001b[0m\u001b[0m\n\u001b[1;32m-> 1087\u001b[1;33m         \u001b[0mfile_info\u001b[0m \u001b[1;33m=\u001b[0m \u001b[0m_create_or_overwrite_grid\u001b[0m\u001b[1;33m(\u001b[0m\u001b[0mpayload\u001b[0m\u001b[1;33m)\u001b[0m\u001b[1;33m\u001b[0m\u001b[1;33m\u001b[0m\u001b[0m\n\u001b[0m\u001b[0;32m   1088\u001b[0m \u001b[1;33m\u001b[0m\u001b[0m\n\u001b[0;32m   1089\u001b[0m         \u001b[0mcols\u001b[0m \u001b[1;33m=\u001b[0m \u001b[0mfile_info\u001b[0m\u001b[1;33m[\u001b[0m\u001b[1;34m\"cols\"\u001b[0m\u001b[1;33m]\u001b[0m\u001b[1;33m\u001b[0m\u001b[1;33m\u001b[0m\u001b[0m\n",
      "\u001b[1;32m~\\anaconda3\\lib\\site-packages\\chart_studio\\plotly\\plotly.py\u001b[0m in \u001b[0;36m_create_or_overwrite_grid\u001b[1;34m(data, max_retries)\u001b[0m\n\u001b[0;32m   1548\u001b[0m     \u001b[1;31m# Create file\u001b[0m\u001b[1;33m\u001b[0m\u001b[1;33m\u001b[0m\u001b[0m\n\u001b[0;32m   1549\u001b[0m     \u001b[1;32mtry\u001b[0m\u001b[1;33m:\u001b[0m\u001b[1;33m\u001b[0m\u001b[1;33m\u001b[0m\u001b[0m\n\u001b[1;32m-> 1550\u001b[1;33m         \u001b[0mres\u001b[0m \u001b[1;33m=\u001b[0m \u001b[0mapi_module\u001b[0m\u001b[1;33m.\u001b[0m\u001b[0mcreate\u001b[0m\u001b[1;33m(\u001b[0m\u001b[0mdata\u001b[0m\u001b[1;33m)\u001b[0m\u001b[1;33m\u001b[0m\u001b[1;33m\u001b[0m\u001b[0m\n\u001b[0m\u001b[0;32m   1551\u001b[0m     \u001b[1;32mexcept\u001b[0m \u001b[0mexceptions\u001b[0m\u001b[1;33m.\u001b[0m\u001b[0mPlotlyRequestError\u001b[0m \u001b[1;32mas\u001b[0m \u001b[0me\u001b[0m\u001b[1;33m:\u001b[0m\u001b[1;33m\u001b[0m\u001b[1;33m\u001b[0m\u001b[0m\n\u001b[0;32m   1552\u001b[0m         \u001b[1;32mif\u001b[0m \u001b[0mmax_retries\u001b[0m \u001b[1;33m>\u001b[0m \u001b[1;36m0\u001b[0m \u001b[1;32mand\u001b[0m \u001b[1;34m\"already exists\"\u001b[0m \u001b[1;32min\u001b[0m \u001b[0me\u001b[0m\u001b[1;33m.\u001b[0m\u001b[0mmessage\u001b[0m\u001b[1;33m:\u001b[0m\u001b[1;33m\u001b[0m\u001b[1;33m\u001b[0m\u001b[0m\n",
      "\u001b[1;32m~\\anaconda3\\lib\\site-packages\\chart_studio\\api\\v2\\grids.py\u001b[0m in \u001b[0;36mcreate\u001b[1;34m(body)\u001b[0m\n\u001b[0;32m     16\u001b[0m     \"\"\"\n\u001b[0;32m     17\u001b[0m     \u001b[0murl\u001b[0m \u001b[1;33m=\u001b[0m \u001b[0mbuild_url\u001b[0m\u001b[1;33m(\u001b[0m\u001b[0mRESOURCE\u001b[0m\u001b[1;33m)\u001b[0m\u001b[1;33m\u001b[0m\u001b[1;33m\u001b[0m\u001b[0m\n\u001b[1;32m---> 18\u001b[1;33m     \u001b[1;32mreturn\u001b[0m \u001b[0mrequest\u001b[0m\u001b[1;33m(\u001b[0m\u001b[1;34m\"post\"\u001b[0m\u001b[1;33m,\u001b[0m \u001b[0murl\u001b[0m\u001b[1;33m,\u001b[0m \u001b[0mjson\u001b[0m\u001b[1;33m=\u001b[0m\u001b[0mbody\u001b[0m\u001b[1;33m)\u001b[0m\u001b[1;33m\u001b[0m\u001b[1;33m\u001b[0m\u001b[0m\n\u001b[0m\u001b[0;32m     19\u001b[0m \u001b[1;33m\u001b[0m\u001b[0m\n\u001b[0;32m     20\u001b[0m \u001b[1;33m\u001b[0m\u001b[0m\n",
      "\u001b[1;32m~\\anaconda3\\lib\\site-packages\\retrying.py\u001b[0m in \u001b[0;36mwrapped_f\u001b[1;34m(*args, **kw)\u001b[0m\n\u001b[0;32m     54\u001b[0m             \u001b[1;33m@\u001b[0m\u001b[0msix\u001b[0m\u001b[1;33m.\u001b[0m\u001b[0mwraps\u001b[0m\u001b[1;33m(\u001b[0m\u001b[0mf\u001b[0m\u001b[1;33m)\u001b[0m\u001b[1;33m\u001b[0m\u001b[1;33m\u001b[0m\u001b[0m\n\u001b[0;32m     55\u001b[0m             \u001b[1;32mdef\u001b[0m \u001b[0mwrapped_f\u001b[0m\u001b[1;33m(\u001b[0m\u001b[1;33m*\u001b[0m\u001b[0margs\u001b[0m\u001b[1;33m,\u001b[0m \u001b[1;33m**\u001b[0m\u001b[0mkw\u001b[0m\u001b[1;33m)\u001b[0m\u001b[1;33m:\u001b[0m\u001b[1;33m\u001b[0m\u001b[1;33m\u001b[0m\u001b[0m\n\u001b[1;32m---> 56\u001b[1;33m                 \u001b[1;32mreturn\u001b[0m \u001b[0mRetrying\u001b[0m\u001b[1;33m(\u001b[0m\u001b[1;33m*\u001b[0m\u001b[0mdargs\u001b[0m\u001b[1;33m,\u001b[0m \u001b[1;33m**\u001b[0m\u001b[0mdkw\u001b[0m\u001b[1;33m)\u001b[0m\u001b[1;33m.\u001b[0m\u001b[0mcall\u001b[0m\u001b[1;33m(\u001b[0m\u001b[0mf\u001b[0m\u001b[1;33m,\u001b[0m \u001b[1;33m*\u001b[0m\u001b[0margs\u001b[0m\u001b[1;33m,\u001b[0m \u001b[1;33m**\u001b[0m\u001b[0mkw\u001b[0m\u001b[1;33m)\u001b[0m\u001b[1;33m\u001b[0m\u001b[1;33m\u001b[0m\u001b[0m\n\u001b[0m\u001b[0;32m     57\u001b[0m \u001b[1;33m\u001b[0m\u001b[0m\n\u001b[0;32m     58\u001b[0m             \u001b[1;32mreturn\u001b[0m \u001b[0mwrapped_f\u001b[0m\u001b[1;33m\u001b[0m\u001b[1;33m\u001b[0m\u001b[0m\n",
      "\u001b[1;32m~\\anaconda3\\lib\\site-packages\\retrying.py\u001b[0m in \u001b[0;36mcall\u001b[1;34m(self, fn, *args, **kwargs)\u001b[0m\n\u001b[0;32m    255\u001b[0m \u001b[1;33m\u001b[0m\u001b[0m\n\u001b[0;32m    256\u001b[0m             \u001b[1;32mif\u001b[0m \u001b[1;32mnot\u001b[0m \u001b[0mself\u001b[0m\u001b[1;33m.\u001b[0m\u001b[0mshould_reject\u001b[0m\u001b[1;33m(\u001b[0m\u001b[0mattempt\u001b[0m\u001b[1;33m)\u001b[0m\u001b[1;33m:\u001b[0m\u001b[1;33m\u001b[0m\u001b[1;33m\u001b[0m\u001b[0m\n\u001b[1;32m--> 257\u001b[1;33m                 \u001b[1;32mreturn\u001b[0m \u001b[0mattempt\u001b[0m\u001b[1;33m.\u001b[0m\u001b[0mget\u001b[0m\u001b[1;33m(\u001b[0m\u001b[0mself\u001b[0m\u001b[1;33m.\u001b[0m\u001b[0m_wrap_exception\u001b[0m\u001b[1;33m)\u001b[0m\u001b[1;33m\u001b[0m\u001b[1;33m\u001b[0m\u001b[0m\n\u001b[0m\u001b[0;32m    258\u001b[0m \u001b[1;33m\u001b[0m\u001b[0m\n\u001b[0;32m    259\u001b[0m             \u001b[1;32mif\u001b[0m \u001b[0mself\u001b[0m\u001b[1;33m.\u001b[0m\u001b[0m_after_attempts\u001b[0m\u001b[1;33m:\u001b[0m\u001b[1;33m\u001b[0m\u001b[1;33m\u001b[0m\u001b[0m\n",
      "\u001b[1;32m~\\anaconda3\\lib\\site-packages\\retrying.py\u001b[0m in \u001b[0;36mget\u001b[1;34m(self, wrap_exception)\u001b[0m\n\u001b[0;32m    299\u001b[0m                 \u001b[1;32mraise\u001b[0m \u001b[0mRetryError\u001b[0m\u001b[1;33m(\u001b[0m\u001b[0mself\u001b[0m\u001b[1;33m)\u001b[0m\u001b[1;33m\u001b[0m\u001b[1;33m\u001b[0m\u001b[0m\n\u001b[0;32m    300\u001b[0m             \u001b[1;32melse\u001b[0m\u001b[1;33m:\u001b[0m\u001b[1;33m\u001b[0m\u001b[1;33m\u001b[0m\u001b[0m\n\u001b[1;32m--> 301\u001b[1;33m                 \u001b[0msix\u001b[0m\u001b[1;33m.\u001b[0m\u001b[0mreraise\u001b[0m\u001b[1;33m(\u001b[0m\u001b[0mself\u001b[0m\u001b[1;33m.\u001b[0m\u001b[0mvalue\u001b[0m\u001b[1;33m[\u001b[0m\u001b[1;36m0\u001b[0m\u001b[1;33m]\u001b[0m\u001b[1;33m,\u001b[0m \u001b[0mself\u001b[0m\u001b[1;33m.\u001b[0m\u001b[0mvalue\u001b[0m\u001b[1;33m[\u001b[0m\u001b[1;36m1\u001b[0m\u001b[1;33m]\u001b[0m\u001b[1;33m,\u001b[0m \u001b[0mself\u001b[0m\u001b[1;33m.\u001b[0m\u001b[0mvalue\u001b[0m\u001b[1;33m[\u001b[0m\u001b[1;36m2\u001b[0m\u001b[1;33m]\u001b[0m\u001b[1;33m)\u001b[0m\u001b[1;33m\u001b[0m\u001b[1;33m\u001b[0m\u001b[0m\n\u001b[0m\u001b[0;32m    302\u001b[0m         \u001b[1;32melse\u001b[0m\u001b[1;33m:\u001b[0m\u001b[1;33m\u001b[0m\u001b[1;33m\u001b[0m\u001b[0m\n\u001b[0;32m    303\u001b[0m             \u001b[1;32mreturn\u001b[0m \u001b[0mself\u001b[0m\u001b[1;33m.\u001b[0m\u001b[0mvalue\u001b[0m\u001b[1;33m\u001b[0m\u001b[1;33m\u001b[0m\u001b[0m\n",
      "\u001b[1;32m~\\anaconda3\\lib\\site-packages\\six.py\u001b[0m in \u001b[0;36mreraise\u001b[1;34m(tp, value, tb)\u001b[0m\n\u001b[0;32m    717\u001b[0m             \u001b[1;32mif\u001b[0m \u001b[0mvalue\u001b[0m\u001b[1;33m.\u001b[0m\u001b[0m__traceback__\u001b[0m \u001b[1;32mis\u001b[0m \u001b[1;32mnot\u001b[0m \u001b[0mtb\u001b[0m\u001b[1;33m:\u001b[0m\u001b[1;33m\u001b[0m\u001b[1;33m\u001b[0m\u001b[0m\n\u001b[0;32m    718\u001b[0m                 \u001b[1;32mraise\u001b[0m \u001b[0mvalue\u001b[0m\u001b[1;33m.\u001b[0m\u001b[0mwith_traceback\u001b[0m\u001b[1;33m(\u001b[0m\u001b[0mtb\u001b[0m\u001b[1;33m)\u001b[0m\u001b[1;33m\u001b[0m\u001b[1;33m\u001b[0m\u001b[0m\n\u001b[1;32m--> 719\u001b[1;33m             \u001b[1;32mraise\u001b[0m \u001b[0mvalue\u001b[0m\u001b[1;33m\u001b[0m\u001b[1;33m\u001b[0m\u001b[0m\n\u001b[0m\u001b[0;32m    720\u001b[0m         \u001b[1;32mfinally\u001b[0m\u001b[1;33m:\u001b[0m\u001b[1;33m\u001b[0m\u001b[1;33m\u001b[0m\u001b[0m\n\u001b[0;32m    721\u001b[0m             \u001b[0mvalue\u001b[0m \u001b[1;33m=\u001b[0m \u001b[1;32mNone\u001b[0m\u001b[1;33m\u001b[0m\u001b[1;33m\u001b[0m\u001b[0m\n",
      "\u001b[1;32m~\\anaconda3\\lib\\site-packages\\retrying.py\u001b[0m in \u001b[0;36mcall\u001b[1;34m(self, fn, *args, **kwargs)\u001b[0m\n\u001b[0;32m    249\u001b[0m \u001b[1;33m\u001b[0m\u001b[0m\n\u001b[0;32m    250\u001b[0m             \u001b[1;32mtry\u001b[0m\u001b[1;33m:\u001b[0m\u001b[1;33m\u001b[0m\u001b[1;33m\u001b[0m\u001b[0m\n\u001b[1;32m--> 251\u001b[1;33m                 \u001b[0mattempt\u001b[0m \u001b[1;33m=\u001b[0m \u001b[0mAttempt\u001b[0m\u001b[1;33m(\u001b[0m\u001b[0mfn\u001b[0m\u001b[1;33m(\u001b[0m\u001b[1;33m*\u001b[0m\u001b[0margs\u001b[0m\u001b[1;33m,\u001b[0m \u001b[1;33m**\u001b[0m\u001b[0mkwargs\u001b[0m\u001b[1;33m)\u001b[0m\u001b[1;33m,\u001b[0m \u001b[0mattempt_number\u001b[0m\u001b[1;33m,\u001b[0m \u001b[1;32mFalse\u001b[0m\u001b[1;33m)\u001b[0m\u001b[1;33m\u001b[0m\u001b[1;33m\u001b[0m\u001b[0m\n\u001b[0m\u001b[0;32m    252\u001b[0m             \u001b[1;32mexcept\u001b[0m\u001b[1;33m:\u001b[0m\u001b[1;33m\u001b[0m\u001b[1;33m\u001b[0m\u001b[0m\n\u001b[0;32m    253\u001b[0m                 \u001b[0mtb\u001b[0m \u001b[1;33m=\u001b[0m \u001b[0msys\u001b[0m\u001b[1;33m.\u001b[0m\u001b[0mexc_info\u001b[0m\u001b[1;33m(\u001b[0m\u001b[1;33m)\u001b[0m\u001b[1;33m\u001b[0m\u001b[1;33m\u001b[0m\u001b[0m\n",
      "\u001b[1;32m~\\anaconda3\\lib\\site-packages\\chart_studio\\api\\v2\\utils.py\u001b[0m in \u001b[0;36mrequest\u001b[1;34m(method, url, **kwargs)\u001b[0m\n\u001b[0;32m    178\u001b[0m         \u001b[0mcontent\u001b[0m \u001b[1;33m=\u001b[0m \u001b[0mresponse\u001b[0m\u001b[1;33m.\u001b[0m\u001b[0mcontent\u001b[0m \u001b[1;32mif\u001b[0m \u001b[0mresponse\u001b[0m \u001b[1;32melse\u001b[0m \u001b[1;34m\"No content\"\u001b[0m\u001b[1;33m\u001b[0m\u001b[1;33m\u001b[0m\u001b[0m\n\u001b[0;32m    179\u001b[0m         \u001b[1;32mraise\u001b[0m \u001b[0mexceptions\u001b[0m\u001b[1;33m.\u001b[0m\u001b[0mPlotlyRequestError\u001b[0m\u001b[1;33m(\u001b[0m\u001b[0mmessage\u001b[0m\u001b[1;33m,\u001b[0m \u001b[0mstatus_code\u001b[0m\u001b[1;33m,\u001b[0m \u001b[0mcontent\u001b[0m\u001b[1;33m)\u001b[0m\u001b[1;33m\u001b[0m\u001b[1;33m\u001b[0m\u001b[0m\n\u001b[1;32m--> 180\u001b[1;33m     \u001b[0mvalidate_response\u001b[0m\u001b[1;33m(\u001b[0m\u001b[0mresponse\u001b[0m\u001b[1;33m)\u001b[0m\u001b[1;33m\u001b[0m\u001b[1;33m\u001b[0m\u001b[0m\n\u001b[0m\u001b[0;32m    181\u001b[0m     \u001b[1;32mreturn\u001b[0m \u001b[0mresponse\u001b[0m\u001b[1;33m\u001b[0m\u001b[1;33m\u001b[0m\u001b[0m\n",
      "\u001b[1;32m~\\anaconda3\\lib\\site-packages\\chart_studio\\api\\v2\\utils.py\u001b[0m in \u001b[0;36mvalidate_response\u001b[1;34m(response)\u001b[0m\n\u001b[0;32m     80\u001b[0m         \u001b[0mmessage\u001b[0m \u001b[1;33m=\u001b[0m \u001b[0mcontent\u001b[0m \u001b[1;32mif\u001b[0m \u001b[0mcontent\u001b[0m \u001b[1;32melse\u001b[0m \u001b[1;34m\"No Content\"\u001b[0m\u001b[1;33m\u001b[0m\u001b[1;33m\u001b[0m\u001b[0m\n\u001b[0;32m     81\u001b[0m \u001b[1;33m\u001b[0m\u001b[0m\n\u001b[1;32m---> 82\u001b[1;33m     \u001b[1;32mraise\u001b[0m \u001b[0mexceptions\u001b[0m\u001b[1;33m.\u001b[0m\u001b[0mPlotlyRequestError\u001b[0m\u001b[1;33m(\u001b[0m\u001b[0mmessage\u001b[0m\u001b[1;33m,\u001b[0m \u001b[0mstatus_code\u001b[0m\u001b[1;33m,\u001b[0m \u001b[0mcontent\u001b[0m\u001b[1;33m)\u001b[0m\u001b[1;33m\u001b[0m\u001b[1;33m\u001b[0m\u001b[0m\n\u001b[0m\u001b[0;32m     83\u001b[0m \u001b[1;33m\u001b[0m\u001b[0m\n\u001b[0;32m     84\u001b[0m \u001b[1;33m\u001b[0m\u001b[0m\n",
      "\u001b[1;31mPlotlyRequestError\u001b[0m: Authentication credentials were not provided."
     ]
    }
   ],
   "source": [
    "df.iplot()"
   ]
  },
  {
   "cell_type": "markdown",
   "metadata": {
    "colab_type": "text",
    "id": "JvLzUfwUiSsP"
   },
   "source": [
    "**É preciso habilitar o modo offline primeiramente**"
   ]
  },
  {
   "cell_type": "code",
   "execution_count": null,
   "metadata": {
    "colab": {
     "base_uri": "https://localhost:8080/",
     "height": 17,
     "output_embedded_package_id": "1zP7gGc6oTRk1XgqZdqIEM14fo8YBkVPP"
    },
    "colab_type": "code",
    "executionInfo": {
     "elapsed": 3808,
     "status": "ok",
     "timestamp": 1557594642617,
     "user": {
      "displayName": "Rodrigo Santana Ferreira",
      "photoUrl": "https://lh5.googleusercontent.com/-w5AmPcUma78/AAAAAAAAAAI/AAAAAAAAAPw/2VfgXe2k7sI/s64/photo.jpg",
      "userId": "14710330936720624047"
     },
     "user_tz": 180
    },
    "id": "p7xGZec8iSsQ",
    "outputId": "792e012a-8747-404c-db17-50540ac66d7a"
   },
   "outputs": [],
   "source": [
    "cf.go_offline()"
   ]
  },
  {
   "cell_type": "markdown",
   "metadata": {
    "colab_type": "text",
    "id": "-TbwRyqqiSsT"
   },
   "source": [
    "**Executando o iplot() novamente**"
   ]
  },
  {
   "cell_type": "markdown",
   "metadata": {
    "colab_type": "text",
    "id": "m1rebPvwiSsT"
   },
   "source": [
    "`Clique no link \"Export to plot.ly\"`"
   ]
  },
  {
   "cell_type": "code",
   "execution_count": 11,
   "metadata": {},
   "outputs": [
    {
     "data": {
      "text/html": [
       "<div>\n",
       "<style scoped>\n",
       "    .dataframe tbody tr th:only-of-type {\n",
       "        vertical-align: middle;\n",
       "    }\n",
       "\n",
       "    .dataframe tbody tr th {\n",
       "        vertical-align: top;\n",
       "    }\n",
       "\n",
       "    .dataframe thead th {\n",
       "        text-align: right;\n",
       "    }\n",
       "</style>\n",
       "<table border=\"1\" class=\"dataframe\">\n",
       "  <thead>\n",
       "    <tr style=\"text-align: right;\">\n",
       "      <th></th>\n",
       "      <th>A</th>\n",
       "      <th>B</th>\n",
       "      <th>C</th>\n",
       "      <th>D</th>\n",
       "    </tr>\n",
       "  </thead>\n",
       "  <tbody>\n",
       "    <tr>\n",
       "      <th>0</th>\n",
       "      <td>0.123517</td>\n",
       "      <td>-0.579893</td>\n",
       "      <td>-0.679507</td>\n",
       "      <td>-0.171979</td>\n",
       "    </tr>\n",
       "    <tr>\n",
       "      <th>1</th>\n",
       "      <td>-1.069931</td>\n",
       "      <td>-0.874568</td>\n",
       "      <td>0.715540</td>\n",
       "      <td>0.970235</td>\n",
       "    </tr>\n",
       "    <tr>\n",
       "      <th>2</th>\n",
       "      <td>1.422179</td>\n",
       "      <td>-0.958948</td>\n",
       "      <td>1.358378</td>\n",
       "      <td>0.064387</td>\n",
       "    </tr>\n",
       "    <tr>\n",
       "      <th>3</th>\n",
       "      <td>-0.183731</td>\n",
       "      <td>0.092426</td>\n",
       "      <td>-0.357151</td>\n",
       "      <td>1.233019</td>\n",
       "    </tr>\n",
       "    <tr>\n",
       "      <th>4</th>\n",
       "      <td>1.796228</td>\n",
       "      <td>0.646139</td>\n",
       "      <td>1.946941</td>\n",
       "      <td>0.516185</td>\n",
       "    </tr>\n",
       "  </tbody>\n",
       "</table>\n",
       "</div>"
      ],
      "text/plain": [
       "          A         B         C         D\n",
       "0  0.123517 -0.579893 -0.679507 -0.171979\n",
       "1 -1.069931 -0.874568  0.715540  0.970235\n",
       "2  1.422179 -0.958948  1.358378  0.064387\n",
       "3 -0.183731  0.092426 -0.357151  1.233019\n",
       "4  1.796228  0.646139  1.946941  0.516185"
      ]
     },
     "execution_count": 11,
     "metadata": {},
     "output_type": "execute_result"
    }
   ],
   "source": [
    "df.head()"
   ]
  },
  {
   "cell_type": "code",
   "execution_count": 12,
   "metadata": {
    "colab": {
     "base_uri": "https://localhost:8080/",
     "height": 542
    },
    "colab_type": "code",
    "executionInfo": {
     "elapsed": 2417,
     "status": "ok",
     "timestamp": 1557594649000,
     "user": {
      "displayName": "Rodrigo Santana Ferreira",
      "photoUrl": "https://lh5.googleusercontent.com/-w5AmPcUma78/AAAAAAAAAAI/AAAAAAAAAPw/2VfgXe2k7sI/s64/photo.jpg",
      "userId": "14710330936720624047"
     },
     "user_tz": 180
    },
    "id": "64kvagOOiSsU",
    "outputId": "21960021-860f-412d-d99a-6d5637e626f9"
   },
   "outputs": [
    {
     "ename": "PlotlyRequestError",
     "evalue": "Authentication credentials were not provided.",
     "output_type": "error",
     "traceback": [
      "\u001b[1;31m---------------------------------------------------------------------------\u001b[0m",
      "\u001b[1;31mPlotlyRequestError\u001b[0m                        Traceback (most recent call last)",
      "\u001b[1;32m~\\AppData\\Local\\Temp\\ipykernel_27408\\4163631973.py\u001b[0m in \u001b[0;36m<module>\u001b[1;34m\u001b[0m\n\u001b[1;32m----> 1\u001b[1;33m \u001b[0mdf\u001b[0m\u001b[1;33m.\u001b[0m\u001b[0miplot\u001b[0m\u001b[1;33m(\u001b[0m\u001b[1;33m)\u001b[0m\u001b[1;33m\u001b[0m\u001b[1;33m\u001b[0m\u001b[0m\n\u001b[0m",
      "\u001b[1;32m~\\anaconda3\\lib\\site-packages\\cufflinks\\plotlytools.py\u001b[0m in \u001b[0;36m_iplot\u001b[1;34m(self, kind, data, layout, filename, sharing, title, xTitle, yTitle, zTitle, theme, colors, colorscale, fill, width, dash, mode, interpolation, symbol, size, barmode, sortbars, bargap, bargroupgap, bins, histnorm, histfunc, orientation, boxpoints, annotations, keys, bestfit, bestfit_colors, mean, mean_colors, categories, x, y, z, text, gridcolor, zerolinecolor, margin, labels, values, secondary_y, secondary_y_title, subplots, shape, error_x, error_y, error_type, locations, lon, lat, asFrame, asDates, asFigure, asImage, dimensions, asPlot, asUrl, online, **kwargs)\u001b[0m\n\u001b[0;32m   1214\u001b[0m                 \u001b[1;32mreturn\u001b[0m \u001b[0mFigure\u001b[0m\u001b[1;33m(\u001b[0m\u001b[0mfigure\u001b[0m\u001b[1;33m)\u001b[0m\u001b[1;33m\u001b[0m\u001b[1;33m\u001b[0m\u001b[0m\n\u001b[0;32m   1215\u001b[0m         \u001b[1;32melse\u001b[0m\u001b[1;33m:\u001b[0m\u001b[1;33m\u001b[0m\u001b[1;33m\u001b[0m\u001b[0m\n\u001b[1;32m-> 1216\u001b[1;33m \t\treturn iplot(figure,validate=validate,sharing=sharing,filename=filename,\n\u001b[0m\u001b[0;32m   1217\u001b[0m                          \u001b[0monline\u001b[0m\u001b[1;33m=\u001b[0m\u001b[0monline\u001b[0m\u001b[1;33m,\u001b[0m\u001b[0masImage\u001b[0m\u001b[1;33m=\u001b[0m\u001b[0masImage\u001b[0m\u001b[1;33m,\u001b[0m\u001b[0masUrl\u001b[0m\u001b[1;33m=\u001b[0m\u001b[0masUrl\u001b[0m\u001b[1;33m,\u001b[0m\u001b[0masPlot\u001b[0m\u001b[1;33m=\u001b[0m\u001b[0masPlot\u001b[0m\u001b[1;33m,\u001b[0m\u001b[1;33m\u001b[0m\u001b[1;33m\u001b[0m\u001b[0m\n\u001b[0;32m   1218\u001b[0m \t\t\t dimensions=dimensions,display_image=kwargs.get('display_image',True))\n",
      "\u001b[1;32m~\\anaconda3\\lib\\site-packages\\cufflinks\\plotlytools.py\u001b[0m in \u001b[0;36miplot\u001b[1;34m(figure, validate, sharing, filename, online, asImage, asUrl, asPlot, dimensions, display_image, **kwargs)\u001b[0m\n\u001b[0;32m   1468\u001b[0m                 \u001b[1;32mreturn\u001b[0m \u001b[0moffline\u001b[0m\u001b[1;33m.\u001b[0m\u001b[0mpy_offline\u001b[0m\u001b[1;33m.\u001b[0m\u001b[0miplot\u001b[0m\u001b[1;33m(\u001b[0m\u001b[0mfigure\u001b[0m\u001b[1;33m,\u001b[0m \u001b[0mvalidate\u001b[0m\u001b[1;33m=\u001b[0m\u001b[0mvalidate\u001b[0m\u001b[1;33m,\u001b[0m \u001b[0mfilename\u001b[0m\u001b[1;33m=\u001b[0m\u001b[0mfilename\u001b[0m\u001b[1;33m,\u001b[0m \u001b[0mshow_link\u001b[0m\u001b[1;33m=\u001b[0m\u001b[0mshow_link\u001b[0m\u001b[1;33m,\u001b[0m \u001b[0mlink_text\u001b[0m\u001b[1;33m=\u001b[0m\u001b[0mlink_text\u001b[0m\u001b[1;33m,\u001b[0m \u001b[0mconfig\u001b[0m\u001b[1;33m=\u001b[0m\u001b[0mconfig\u001b[0m\u001b[1;33m)\u001b[0m\u001b[1;33m\u001b[0m\u001b[1;33m\u001b[0m\u001b[0m\n\u001b[0;32m   1469\u001b[0m         \u001b[1;32melse\u001b[0m\u001b[1;33m:\u001b[0m\u001b[1;33m\u001b[0m\u001b[1;33m\u001b[0m\u001b[0m\n\u001b[1;32m-> 1470\u001b[1;33m \t\treturn py.iplot(figure,validate=validate,sharing=sharing,\n\u001b[0m\u001b[0;32m   1471\u001b[0m \t\t\t\t\t\tfilename=filename)\n\u001b[0;32m   1472\u001b[0m \u001b[1;33m\u001b[0m\u001b[0m\n",
      "\u001b[1;32m~\\anaconda3\\lib\\site-packages\\chart_studio\\plotly\\plotly.py\u001b[0m in \u001b[0;36miplot\u001b[1;34m(figure_or_data, **plot_options)\u001b[0m\n\u001b[0;32m    133\u001b[0m     \u001b[1;32mif\u001b[0m \u001b[1;34m\"auto_open\"\u001b[0m \u001b[1;32mnot\u001b[0m \u001b[1;32min\u001b[0m \u001b[0mplot_options\u001b[0m\u001b[1;33m:\u001b[0m\u001b[1;33m\u001b[0m\u001b[1;33m\u001b[0m\u001b[0m\n\u001b[0;32m    134\u001b[0m         \u001b[0mplot_options\u001b[0m\u001b[1;33m[\u001b[0m\u001b[1;34m\"auto_open\"\u001b[0m\u001b[1;33m]\u001b[0m \u001b[1;33m=\u001b[0m \u001b[1;32mFalse\u001b[0m\u001b[1;33m\u001b[0m\u001b[1;33m\u001b[0m\u001b[0m\n\u001b[1;32m--> 135\u001b[1;33m     \u001b[0murl\u001b[0m \u001b[1;33m=\u001b[0m \u001b[0mplot\u001b[0m\u001b[1;33m(\u001b[0m\u001b[0mfigure_or_data\u001b[0m\u001b[1;33m,\u001b[0m \u001b[1;33m**\u001b[0m\u001b[0mplot_options\u001b[0m\u001b[1;33m)\u001b[0m\u001b[1;33m\u001b[0m\u001b[1;33m\u001b[0m\u001b[0m\n\u001b[0m\u001b[0;32m    136\u001b[0m \u001b[1;33m\u001b[0m\u001b[0m\n\u001b[0;32m    137\u001b[0m     \u001b[1;32mif\u001b[0m \u001b[0misinstance\u001b[0m\u001b[1;33m(\u001b[0m\u001b[0mfigure_or_data\u001b[0m\u001b[1;33m,\u001b[0m \u001b[0mdict\u001b[0m\u001b[1;33m)\u001b[0m\u001b[1;33m:\u001b[0m\u001b[1;33m\u001b[0m\u001b[1;33m\u001b[0m\u001b[0m\n",
      "\u001b[1;32m~\\anaconda3\\lib\\site-packages\\chart_studio\\plotly\\plotly.py\u001b[0m in \u001b[0;36mplot\u001b[1;34m(figure_or_data, validate, **plot_options)\u001b[0m\n\u001b[0;32m    274\u001b[0m             \u001b[0mgrid_filename\u001b[0m \u001b[1;33m=\u001b[0m \u001b[0mfilename\u001b[0m \u001b[1;33m+\u001b[0m \u001b[1;34m\"_grid\"\u001b[0m\u001b[1;33m\u001b[0m\u001b[1;33m\u001b[0m\u001b[0m\n\u001b[0;32m    275\u001b[0m \u001b[1;33m\u001b[0m\u001b[0m\n\u001b[1;32m--> 276\u001b[1;33m         grid_ops.upload(\n\u001b[0m\u001b[0;32m    277\u001b[0m             \u001b[0mgrid\u001b[0m\u001b[1;33m=\u001b[0m\u001b[0mgrid\u001b[0m\u001b[1;33m,\u001b[0m\u001b[1;33m\u001b[0m\u001b[1;33m\u001b[0m\u001b[0m\n\u001b[0;32m    278\u001b[0m             \u001b[0mfilename\u001b[0m\u001b[1;33m=\u001b[0m\u001b[0mgrid_filename\u001b[0m\u001b[1;33m,\u001b[0m\u001b[1;33m\u001b[0m\u001b[1;33m\u001b[0m\u001b[0m\n",
      "\u001b[1;32m~\\anaconda3\\lib\\site-packages\\chart_studio\\plotly\\plotly.py\u001b[0m in \u001b[0;36mupload\u001b[1;34m(cls, grid, filename, world_readable, auto_open, meta)\u001b[0m\n\u001b[0;32m   1085\u001b[0m                 \u001b[0mpayload\u001b[0m\u001b[1;33m[\u001b[0m\u001b[1;34m\"parent_path\"\u001b[0m\u001b[1;33m]\u001b[0m \u001b[1;33m=\u001b[0m \u001b[0mparent_path\u001b[0m\u001b[1;33m\u001b[0m\u001b[1;33m\u001b[0m\u001b[0m\n\u001b[0;32m   1086\u001b[0m \u001b[1;33m\u001b[0m\u001b[0m\n\u001b[1;32m-> 1087\u001b[1;33m         \u001b[0mfile_info\u001b[0m \u001b[1;33m=\u001b[0m \u001b[0m_create_or_overwrite_grid\u001b[0m\u001b[1;33m(\u001b[0m\u001b[0mpayload\u001b[0m\u001b[1;33m)\u001b[0m\u001b[1;33m\u001b[0m\u001b[1;33m\u001b[0m\u001b[0m\n\u001b[0m\u001b[0;32m   1088\u001b[0m \u001b[1;33m\u001b[0m\u001b[0m\n\u001b[0;32m   1089\u001b[0m         \u001b[0mcols\u001b[0m \u001b[1;33m=\u001b[0m \u001b[0mfile_info\u001b[0m\u001b[1;33m[\u001b[0m\u001b[1;34m\"cols\"\u001b[0m\u001b[1;33m]\u001b[0m\u001b[1;33m\u001b[0m\u001b[1;33m\u001b[0m\u001b[0m\n",
      "\u001b[1;32m~\\anaconda3\\lib\\site-packages\\chart_studio\\plotly\\plotly.py\u001b[0m in \u001b[0;36m_create_or_overwrite_grid\u001b[1;34m(data, max_retries)\u001b[0m\n\u001b[0;32m   1548\u001b[0m     \u001b[1;31m# Create file\u001b[0m\u001b[1;33m\u001b[0m\u001b[1;33m\u001b[0m\u001b[0m\n\u001b[0;32m   1549\u001b[0m     \u001b[1;32mtry\u001b[0m\u001b[1;33m:\u001b[0m\u001b[1;33m\u001b[0m\u001b[1;33m\u001b[0m\u001b[0m\n\u001b[1;32m-> 1550\u001b[1;33m         \u001b[0mres\u001b[0m \u001b[1;33m=\u001b[0m \u001b[0mapi_module\u001b[0m\u001b[1;33m.\u001b[0m\u001b[0mcreate\u001b[0m\u001b[1;33m(\u001b[0m\u001b[0mdata\u001b[0m\u001b[1;33m)\u001b[0m\u001b[1;33m\u001b[0m\u001b[1;33m\u001b[0m\u001b[0m\n\u001b[0m\u001b[0;32m   1551\u001b[0m     \u001b[1;32mexcept\u001b[0m \u001b[0mexceptions\u001b[0m\u001b[1;33m.\u001b[0m\u001b[0mPlotlyRequestError\u001b[0m \u001b[1;32mas\u001b[0m \u001b[0me\u001b[0m\u001b[1;33m:\u001b[0m\u001b[1;33m\u001b[0m\u001b[1;33m\u001b[0m\u001b[0m\n\u001b[0;32m   1552\u001b[0m         \u001b[1;32mif\u001b[0m \u001b[0mmax_retries\u001b[0m \u001b[1;33m>\u001b[0m \u001b[1;36m0\u001b[0m \u001b[1;32mand\u001b[0m \u001b[1;34m\"already exists\"\u001b[0m \u001b[1;32min\u001b[0m \u001b[0me\u001b[0m\u001b[1;33m.\u001b[0m\u001b[0mmessage\u001b[0m\u001b[1;33m:\u001b[0m\u001b[1;33m\u001b[0m\u001b[1;33m\u001b[0m\u001b[0m\n",
      "\u001b[1;32m~\\anaconda3\\lib\\site-packages\\chart_studio\\api\\v2\\grids.py\u001b[0m in \u001b[0;36mcreate\u001b[1;34m(body)\u001b[0m\n\u001b[0;32m     16\u001b[0m     \"\"\"\n\u001b[0;32m     17\u001b[0m     \u001b[0murl\u001b[0m \u001b[1;33m=\u001b[0m \u001b[0mbuild_url\u001b[0m\u001b[1;33m(\u001b[0m\u001b[0mRESOURCE\u001b[0m\u001b[1;33m)\u001b[0m\u001b[1;33m\u001b[0m\u001b[1;33m\u001b[0m\u001b[0m\n\u001b[1;32m---> 18\u001b[1;33m     \u001b[1;32mreturn\u001b[0m \u001b[0mrequest\u001b[0m\u001b[1;33m(\u001b[0m\u001b[1;34m\"post\"\u001b[0m\u001b[1;33m,\u001b[0m \u001b[0murl\u001b[0m\u001b[1;33m,\u001b[0m \u001b[0mjson\u001b[0m\u001b[1;33m=\u001b[0m\u001b[0mbody\u001b[0m\u001b[1;33m)\u001b[0m\u001b[1;33m\u001b[0m\u001b[1;33m\u001b[0m\u001b[0m\n\u001b[0m\u001b[0;32m     19\u001b[0m \u001b[1;33m\u001b[0m\u001b[0m\n\u001b[0;32m     20\u001b[0m \u001b[1;33m\u001b[0m\u001b[0m\n",
      "\u001b[1;32m~\\anaconda3\\lib\\site-packages\\retrying.py\u001b[0m in \u001b[0;36mwrapped_f\u001b[1;34m(*args, **kw)\u001b[0m\n\u001b[0;32m     54\u001b[0m             \u001b[1;33m@\u001b[0m\u001b[0msix\u001b[0m\u001b[1;33m.\u001b[0m\u001b[0mwraps\u001b[0m\u001b[1;33m(\u001b[0m\u001b[0mf\u001b[0m\u001b[1;33m)\u001b[0m\u001b[1;33m\u001b[0m\u001b[1;33m\u001b[0m\u001b[0m\n\u001b[0;32m     55\u001b[0m             \u001b[1;32mdef\u001b[0m \u001b[0mwrapped_f\u001b[0m\u001b[1;33m(\u001b[0m\u001b[1;33m*\u001b[0m\u001b[0margs\u001b[0m\u001b[1;33m,\u001b[0m \u001b[1;33m**\u001b[0m\u001b[0mkw\u001b[0m\u001b[1;33m)\u001b[0m\u001b[1;33m:\u001b[0m\u001b[1;33m\u001b[0m\u001b[1;33m\u001b[0m\u001b[0m\n\u001b[1;32m---> 56\u001b[1;33m                 \u001b[1;32mreturn\u001b[0m \u001b[0mRetrying\u001b[0m\u001b[1;33m(\u001b[0m\u001b[1;33m*\u001b[0m\u001b[0mdargs\u001b[0m\u001b[1;33m,\u001b[0m \u001b[1;33m**\u001b[0m\u001b[0mdkw\u001b[0m\u001b[1;33m)\u001b[0m\u001b[1;33m.\u001b[0m\u001b[0mcall\u001b[0m\u001b[1;33m(\u001b[0m\u001b[0mf\u001b[0m\u001b[1;33m,\u001b[0m \u001b[1;33m*\u001b[0m\u001b[0margs\u001b[0m\u001b[1;33m,\u001b[0m \u001b[1;33m**\u001b[0m\u001b[0mkw\u001b[0m\u001b[1;33m)\u001b[0m\u001b[1;33m\u001b[0m\u001b[1;33m\u001b[0m\u001b[0m\n\u001b[0m\u001b[0;32m     57\u001b[0m \u001b[1;33m\u001b[0m\u001b[0m\n\u001b[0;32m     58\u001b[0m             \u001b[1;32mreturn\u001b[0m \u001b[0mwrapped_f\u001b[0m\u001b[1;33m\u001b[0m\u001b[1;33m\u001b[0m\u001b[0m\n",
      "\u001b[1;32m~\\anaconda3\\lib\\site-packages\\retrying.py\u001b[0m in \u001b[0;36mcall\u001b[1;34m(self, fn, *args, **kwargs)\u001b[0m\n\u001b[0;32m    255\u001b[0m \u001b[1;33m\u001b[0m\u001b[0m\n\u001b[0;32m    256\u001b[0m             \u001b[1;32mif\u001b[0m \u001b[1;32mnot\u001b[0m \u001b[0mself\u001b[0m\u001b[1;33m.\u001b[0m\u001b[0mshould_reject\u001b[0m\u001b[1;33m(\u001b[0m\u001b[0mattempt\u001b[0m\u001b[1;33m)\u001b[0m\u001b[1;33m:\u001b[0m\u001b[1;33m\u001b[0m\u001b[1;33m\u001b[0m\u001b[0m\n\u001b[1;32m--> 257\u001b[1;33m                 \u001b[1;32mreturn\u001b[0m \u001b[0mattempt\u001b[0m\u001b[1;33m.\u001b[0m\u001b[0mget\u001b[0m\u001b[1;33m(\u001b[0m\u001b[0mself\u001b[0m\u001b[1;33m.\u001b[0m\u001b[0m_wrap_exception\u001b[0m\u001b[1;33m)\u001b[0m\u001b[1;33m\u001b[0m\u001b[1;33m\u001b[0m\u001b[0m\n\u001b[0m\u001b[0;32m    258\u001b[0m \u001b[1;33m\u001b[0m\u001b[0m\n\u001b[0;32m    259\u001b[0m             \u001b[1;32mif\u001b[0m \u001b[0mself\u001b[0m\u001b[1;33m.\u001b[0m\u001b[0m_after_attempts\u001b[0m\u001b[1;33m:\u001b[0m\u001b[1;33m\u001b[0m\u001b[1;33m\u001b[0m\u001b[0m\n",
      "\u001b[1;32m~\\anaconda3\\lib\\site-packages\\retrying.py\u001b[0m in \u001b[0;36mget\u001b[1;34m(self, wrap_exception)\u001b[0m\n\u001b[0;32m    299\u001b[0m                 \u001b[1;32mraise\u001b[0m \u001b[0mRetryError\u001b[0m\u001b[1;33m(\u001b[0m\u001b[0mself\u001b[0m\u001b[1;33m)\u001b[0m\u001b[1;33m\u001b[0m\u001b[1;33m\u001b[0m\u001b[0m\n\u001b[0;32m    300\u001b[0m             \u001b[1;32melse\u001b[0m\u001b[1;33m:\u001b[0m\u001b[1;33m\u001b[0m\u001b[1;33m\u001b[0m\u001b[0m\n\u001b[1;32m--> 301\u001b[1;33m                 \u001b[0msix\u001b[0m\u001b[1;33m.\u001b[0m\u001b[0mreraise\u001b[0m\u001b[1;33m(\u001b[0m\u001b[0mself\u001b[0m\u001b[1;33m.\u001b[0m\u001b[0mvalue\u001b[0m\u001b[1;33m[\u001b[0m\u001b[1;36m0\u001b[0m\u001b[1;33m]\u001b[0m\u001b[1;33m,\u001b[0m \u001b[0mself\u001b[0m\u001b[1;33m.\u001b[0m\u001b[0mvalue\u001b[0m\u001b[1;33m[\u001b[0m\u001b[1;36m1\u001b[0m\u001b[1;33m]\u001b[0m\u001b[1;33m,\u001b[0m \u001b[0mself\u001b[0m\u001b[1;33m.\u001b[0m\u001b[0mvalue\u001b[0m\u001b[1;33m[\u001b[0m\u001b[1;36m2\u001b[0m\u001b[1;33m]\u001b[0m\u001b[1;33m)\u001b[0m\u001b[1;33m\u001b[0m\u001b[1;33m\u001b[0m\u001b[0m\n\u001b[0m\u001b[0;32m    302\u001b[0m         \u001b[1;32melse\u001b[0m\u001b[1;33m:\u001b[0m\u001b[1;33m\u001b[0m\u001b[1;33m\u001b[0m\u001b[0m\n\u001b[0;32m    303\u001b[0m             \u001b[1;32mreturn\u001b[0m \u001b[0mself\u001b[0m\u001b[1;33m.\u001b[0m\u001b[0mvalue\u001b[0m\u001b[1;33m\u001b[0m\u001b[1;33m\u001b[0m\u001b[0m\n",
      "\u001b[1;32m~\\anaconda3\\lib\\site-packages\\six.py\u001b[0m in \u001b[0;36mreraise\u001b[1;34m(tp, value, tb)\u001b[0m\n\u001b[0;32m    717\u001b[0m             \u001b[1;32mif\u001b[0m \u001b[0mvalue\u001b[0m\u001b[1;33m.\u001b[0m\u001b[0m__traceback__\u001b[0m \u001b[1;32mis\u001b[0m \u001b[1;32mnot\u001b[0m \u001b[0mtb\u001b[0m\u001b[1;33m:\u001b[0m\u001b[1;33m\u001b[0m\u001b[1;33m\u001b[0m\u001b[0m\n\u001b[0;32m    718\u001b[0m                 \u001b[1;32mraise\u001b[0m \u001b[0mvalue\u001b[0m\u001b[1;33m.\u001b[0m\u001b[0mwith_traceback\u001b[0m\u001b[1;33m(\u001b[0m\u001b[0mtb\u001b[0m\u001b[1;33m)\u001b[0m\u001b[1;33m\u001b[0m\u001b[1;33m\u001b[0m\u001b[0m\n\u001b[1;32m--> 719\u001b[1;33m             \u001b[1;32mraise\u001b[0m \u001b[0mvalue\u001b[0m\u001b[1;33m\u001b[0m\u001b[1;33m\u001b[0m\u001b[0m\n\u001b[0m\u001b[0;32m    720\u001b[0m         \u001b[1;32mfinally\u001b[0m\u001b[1;33m:\u001b[0m\u001b[1;33m\u001b[0m\u001b[1;33m\u001b[0m\u001b[0m\n\u001b[0;32m    721\u001b[0m             \u001b[0mvalue\u001b[0m \u001b[1;33m=\u001b[0m \u001b[1;32mNone\u001b[0m\u001b[1;33m\u001b[0m\u001b[1;33m\u001b[0m\u001b[0m\n",
      "\u001b[1;32m~\\anaconda3\\lib\\site-packages\\retrying.py\u001b[0m in \u001b[0;36mcall\u001b[1;34m(self, fn, *args, **kwargs)\u001b[0m\n\u001b[0;32m    249\u001b[0m \u001b[1;33m\u001b[0m\u001b[0m\n\u001b[0;32m    250\u001b[0m             \u001b[1;32mtry\u001b[0m\u001b[1;33m:\u001b[0m\u001b[1;33m\u001b[0m\u001b[1;33m\u001b[0m\u001b[0m\n\u001b[1;32m--> 251\u001b[1;33m                 \u001b[0mattempt\u001b[0m \u001b[1;33m=\u001b[0m \u001b[0mAttempt\u001b[0m\u001b[1;33m(\u001b[0m\u001b[0mfn\u001b[0m\u001b[1;33m(\u001b[0m\u001b[1;33m*\u001b[0m\u001b[0margs\u001b[0m\u001b[1;33m,\u001b[0m \u001b[1;33m**\u001b[0m\u001b[0mkwargs\u001b[0m\u001b[1;33m)\u001b[0m\u001b[1;33m,\u001b[0m \u001b[0mattempt_number\u001b[0m\u001b[1;33m,\u001b[0m \u001b[1;32mFalse\u001b[0m\u001b[1;33m)\u001b[0m\u001b[1;33m\u001b[0m\u001b[1;33m\u001b[0m\u001b[0m\n\u001b[0m\u001b[0;32m    252\u001b[0m             \u001b[1;32mexcept\u001b[0m\u001b[1;33m:\u001b[0m\u001b[1;33m\u001b[0m\u001b[1;33m\u001b[0m\u001b[0m\n\u001b[0;32m    253\u001b[0m                 \u001b[0mtb\u001b[0m \u001b[1;33m=\u001b[0m \u001b[0msys\u001b[0m\u001b[1;33m.\u001b[0m\u001b[0mexc_info\u001b[0m\u001b[1;33m(\u001b[0m\u001b[1;33m)\u001b[0m\u001b[1;33m\u001b[0m\u001b[1;33m\u001b[0m\u001b[0m\n",
      "\u001b[1;32m~\\anaconda3\\lib\\site-packages\\chart_studio\\api\\v2\\utils.py\u001b[0m in \u001b[0;36mrequest\u001b[1;34m(method, url, **kwargs)\u001b[0m\n\u001b[0;32m    178\u001b[0m         \u001b[0mcontent\u001b[0m \u001b[1;33m=\u001b[0m \u001b[0mresponse\u001b[0m\u001b[1;33m.\u001b[0m\u001b[0mcontent\u001b[0m \u001b[1;32mif\u001b[0m \u001b[0mresponse\u001b[0m \u001b[1;32melse\u001b[0m \u001b[1;34m\"No content\"\u001b[0m\u001b[1;33m\u001b[0m\u001b[1;33m\u001b[0m\u001b[0m\n\u001b[0;32m    179\u001b[0m         \u001b[1;32mraise\u001b[0m \u001b[0mexceptions\u001b[0m\u001b[1;33m.\u001b[0m\u001b[0mPlotlyRequestError\u001b[0m\u001b[1;33m(\u001b[0m\u001b[0mmessage\u001b[0m\u001b[1;33m,\u001b[0m \u001b[0mstatus_code\u001b[0m\u001b[1;33m,\u001b[0m \u001b[0mcontent\u001b[0m\u001b[1;33m)\u001b[0m\u001b[1;33m\u001b[0m\u001b[1;33m\u001b[0m\u001b[0m\n\u001b[1;32m--> 180\u001b[1;33m     \u001b[0mvalidate_response\u001b[0m\u001b[1;33m(\u001b[0m\u001b[0mresponse\u001b[0m\u001b[1;33m)\u001b[0m\u001b[1;33m\u001b[0m\u001b[1;33m\u001b[0m\u001b[0m\n\u001b[0m\u001b[0;32m    181\u001b[0m     \u001b[1;32mreturn\u001b[0m \u001b[0mresponse\u001b[0m\u001b[1;33m\u001b[0m\u001b[1;33m\u001b[0m\u001b[0m\n",
      "\u001b[1;32m~\\anaconda3\\lib\\site-packages\\chart_studio\\api\\v2\\utils.py\u001b[0m in \u001b[0;36mvalidate_response\u001b[1;34m(response)\u001b[0m\n\u001b[0;32m     80\u001b[0m         \u001b[0mmessage\u001b[0m \u001b[1;33m=\u001b[0m \u001b[0mcontent\u001b[0m \u001b[1;32mif\u001b[0m \u001b[0mcontent\u001b[0m \u001b[1;32melse\u001b[0m \u001b[1;34m\"No Content\"\u001b[0m\u001b[1;33m\u001b[0m\u001b[1;33m\u001b[0m\u001b[0m\n\u001b[0;32m     81\u001b[0m \u001b[1;33m\u001b[0m\u001b[0m\n\u001b[1;32m---> 82\u001b[1;33m     \u001b[1;32mraise\u001b[0m \u001b[0mexceptions\u001b[0m\u001b[1;33m.\u001b[0m\u001b[0mPlotlyRequestError\u001b[0m\u001b[1;33m(\u001b[0m\u001b[0mmessage\u001b[0m\u001b[1;33m,\u001b[0m \u001b[0mstatus_code\u001b[0m\u001b[1;33m,\u001b[0m \u001b[0mcontent\u001b[0m\u001b[1;33m)\u001b[0m\u001b[1;33m\u001b[0m\u001b[1;33m\u001b[0m\u001b[0m\n\u001b[0m\u001b[0;32m     83\u001b[0m \u001b[1;33m\u001b[0m\u001b[0m\n\u001b[0;32m     84\u001b[0m \u001b[1;33m\u001b[0m\u001b[0m\n",
      "\u001b[1;31mPlotlyRequestError\u001b[0m: Authentication credentials were not provided."
     ]
    }
   ],
   "source": [
    "df.iplot()"
   ]
  },
  {
   "cell_type": "markdown",
   "metadata": {
    "colab_type": "text",
    "id": "Y00jyL5-iSsX"
   },
   "source": [
    "**Gráficos do tipo scatter**"
   ]
  },
  {
   "cell_type": "code",
   "execution_count": null,
   "metadata": {
    "colab": {
     "base_uri": "https://localhost:8080/",
     "height": 542
    },
    "colab_type": "code",
    "executionInfo": {
     "elapsed": 947,
     "status": "ok",
     "timestamp": 1557594658011,
     "user": {
      "displayName": "Rodrigo Santana Ferreira",
      "photoUrl": "https://lh5.googleusercontent.com/-w5AmPcUma78/AAAAAAAAAAI/AAAAAAAAAPw/2VfgXe2k7sI/s64/photo.jpg",
      "userId": "14710330936720624047"
     },
     "user_tz": 180
    },
    "id": "RBEOqovdiSsY",
    "outputId": "dffc96b9-236e-4966-b9ea-bc8566a24663"
   },
   "outputs": [],
   "source": [
    "df.iplot(kind='scatter', x='A',y='B', mode='markers')"
   ]
  },
  {
   "cell_type": "markdown",
   "metadata": {
    "colab_type": "text",
    "id": "3ZmcY3XoiSsb"
   },
   "source": [
    "**Gráficos de Barras**"
   ]
  },
  {
   "cell_type": "code",
   "execution_count": null,
   "metadata": {
    "colab": {
     "base_uri": "https://localhost:8080/",
     "height": 542
    },
    "colab_type": "code",
    "executionInfo": {
     "elapsed": 777,
     "status": "ok",
     "timestamp": 1557594680954,
     "user": {
      "displayName": "Rodrigo Santana Ferreira",
      "photoUrl": "https://lh5.googleusercontent.com/-w5AmPcUma78/AAAAAAAAAAI/AAAAAAAAAPw/2VfgXe2k7sI/s64/photo.jpg",
      "userId": "14710330936720624047"
     },
     "user_tz": 180
    },
    "id": "oqNVRNamiSsc",
    "outputId": "50aa4efc-5dce-4d74-dc9f-0ddcb2070100"
   },
   "outputs": [],
   "source": [
    "df.sum().iplot(kind='bar')"
   ]
  },
  {
   "cell_type": "markdown",
   "metadata": {
    "colab_type": "text",
    "id": "jglN-wzMiSsf"
   },
   "source": [
    "**Gráficos de Boxplots**"
   ]
  },
  {
   "cell_type": "markdown",
   "metadata": {
    "colab_type": "text",
    "id": "TltCl89qiSsg"
   },
   "source": [
    "`Basta clicar no item da legenda a direita para habilitar ou desabilitar o dado da coluna`"
   ]
  },
  {
   "cell_type": "code",
   "execution_count": null,
   "metadata": {
    "colab": {
     "base_uri": "https://localhost:8080/",
     "height": 542
    },
    "colab_type": "code",
    "executionInfo": {
     "elapsed": 922,
     "status": "ok",
     "timestamp": 1557594687005,
     "user": {
      "displayName": "Rodrigo Santana Ferreira",
      "photoUrl": "https://lh5.googleusercontent.com/-w5AmPcUma78/AAAAAAAAAAI/AAAAAAAAAPw/2VfgXe2k7sI/s64/photo.jpg",
      "userId": "14710330936720624047"
     },
     "user_tz": 180
    },
    "id": "vQy7HuoEiSsh",
    "outputId": "2c0dc6c8-8b28-45de-c6da-2c27818d68be"
   },
   "outputs": [],
   "source": [
    "df.iplot(kind='box')"
   ]
  },
  {
   "cell_type": "markdown",
   "metadata": {
    "colab_type": "text",
    "id": "lsF9f7NIiSsk"
   },
   "source": [
    "**Histogramas**"
   ]
  },
  {
   "cell_type": "markdown",
   "metadata": {
    "colab_type": "text",
    "id": "vCyMUllmiSsl"
   },
   "source": [
    "`Compare com os histograsm padrões do matplotlib e seaborn`"
   ]
  },
  {
   "cell_type": "code",
   "execution_count": null,
   "metadata": {
    "colab": {
     "base_uri": "https://localhost:8080/",
     "height": 542
    },
    "colab_type": "code",
    "executionInfo": {
     "elapsed": 1004,
     "status": "ok",
     "timestamp": 1557594698657,
     "user": {
      "displayName": "Rodrigo Santana Ferreira",
      "photoUrl": "https://lh5.googleusercontent.com/-w5AmPcUma78/AAAAAAAAAAI/AAAAAAAAAPw/2VfgXe2k7sI/s64/photo.jpg",
      "userId": "14710330936720624047"
     },
     "user_tz": 180
    },
    "id": "5idLd65AiSsn",
    "outputId": "4d306883-5a3a-4bd8-ac3f-50b61466b514"
   },
   "outputs": [],
   "source": [
    "df['A'].iplot(kind='hist')"
   ]
  },
  {
   "cell_type": "markdown",
   "metadata": {
    "colab_type": "text",
    "id": "qqH-MdFGiSss"
   },
   "source": [
    "`Histograma aninhado de todas as colunas (mesmo tipo de dados)`"
   ]
  },
  {
   "cell_type": "code",
   "execution_count": null,
   "metadata": {
    "colab": {},
    "colab_type": "code",
    "id": "7v66WQPAiSst",
    "outputId": "2fe1d472-4766-4202-f6f5-1d6a1710dff6"
   },
   "outputs": [],
   "source": [
    "df.iplot(kind='hist')"
   ]
  },
  {
   "cell_type": "markdown",
   "metadata": {
    "colab_type": "text",
    "id": "4lk2H5jpiSsx"
   },
   "source": [
    "**Spread plots**"
   ]
  },
  {
   "cell_type": "code",
   "execution_count": null,
   "metadata": {
    "colab": {},
    "colab_type": "code",
    "id": "vnZL1CUeiSsy",
    "outputId": "4c46a70a-2777-465f-831a-02164131035d"
   },
   "outputs": [],
   "source": [
    "df[['A','D','C','B']].iplot(kind='spread')"
   ]
  },
  {
   "cell_type": "markdown",
   "metadata": {
    "colab_type": "text",
    "id": "VJooIfe1iSs4"
   },
   "source": [
    "**Bubble Plots**"
   ]
  },
  {
   "cell_type": "code",
   "execution_count": null,
   "metadata": {
    "colab": {},
    "colab_type": "code",
    "id": "MfKAi3cwiSs5",
    "outputId": "5a0554a9-140d-4a51-8f4c-6f20fbf40f2e"
   },
   "outputs": [],
   "source": [
    "df.iplot(kind='bubble', x='A',y='B', size='C', colors='seagreen')"
   ]
  },
  {
   "cell_type": "markdown",
   "metadata": {
    "colab_type": "text",
    "id": "m0vaHtqyiSs9"
   },
   "source": [
    "**Scatter Matrix**"
   ]
  },
  {
   "cell_type": "markdown",
   "metadata": {
    "colab_type": "text",
    "id": "q_8zaoSCiSs-"
   },
   "source": [
    "- `Similar ao pairplot do Seaborn`\n",
    "-  `Se o dataframe for muito grande pode travar o seu notebook`"
   ]
  },
  {
   "cell_type": "code",
   "execution_count": null,
   "metadata": {
    "colab": {},
    "colab_type": "code",
    "id": "p_zE1p4QiSs_",
    "outputId": "bc31bde5-1acb-42de-9719-e756c08b780e"
   },
   "outputs": [],
   "source": [
    "df.scatter_matrix()"
   ]
  },
  {
   "cell_type": "markdown",
   "metadata": {
    "colab_type": "text",
    "id": "KMvW1ZaYiStG"
   },
   "source": [
    "## Visualização de dados reais ##"
   ]
  },
  {
   "cell_type": "markdown",
   "metadata": {},
   "source": [
    "**Lembre-se de habilitar o modo offline do plotly**"
   ]
  },
  {
   "cell_type": "code",
   "execution_count": null,
   "metadata": {},
   "outputs": [],
   "source": [
    "import cufflinks as cf\n",
    "cf.go_offline()"
   ]
  },
  {
   "cell_type": "markdown",
   "metadata": {},
   "source": [
    "**Importe o pandas**"
   ]
  },
  {
   "cell_type": "code",
   "execution_count": null,
   "metadata": {},
   "outputs": [],
   "source": [
    "import pandas as pd"
   ]
  },
  {
   "cell_type": "markdown",
   "metadata": {},
   "source": [
    "**Dataset de Vendas da Olist**"
   ]
  },
  {
   "cell_type": "markdown",
   "metadata": {},
   "source": [
    "- O dataset já está disponível no diretório datasets. Não é necessário download.\n",
    "- Se quiser conhecer mais sobre esse dataset, segue o link https://www.kaggle.com/olistbr/brazilian-ecommerce/version/2"
   ]
  },
  {
   "cell_type": "code",
   "execution_count": null,
   "metadata": {
    "colab": {},
    "colab_type": "code",
    "id": "RSEX7367iStH"
   },
   "outputs": [],
   "source": [
    "df = pd.read_csv('datasets/olist_classified_public_dataset.csv')"
   ]
  },
  {
   "cell_type": "markdown",
   "metadata": {},
   "source": [
    "**Visualizando a base de dados**"
   ]
  },
  {
   "cell_type": "code",
   "execution_count": null,
   "metadata": {
    "colab": {},
    "colab_type": "code",
    "id": "REH3E2a2iStJ",
    "outputId": "c883889b-756f-497e-93db-17785d23caa3"
   },
   "outputs": [],
   "source": [
    "df.head()"
   ]
  },
  {
   "cell_type": "code",
   "execution_count": null,
   "metadata": {},
   "outputs": [],
   "source": [
    "df.info()"
   ]
  },
  {
   "cell_type": "markdown",
   "metadata": {},
   "source": [
    "## Perguntas aos dados"
   ]
  },
  {
   "cell_type": "markdown",
   "metadata": {},
   "source": [
    "- Quais a distribuicao dos status dos pedidos?\n",
    "- Quais os meses do ano houve mais vendas?\n",
    "- Qual a quantidade de items de um pedido? (medio)\n",
    "- Qual a quantidade de vendedores em um pedido ? (medio)\n",
    "- O valor do frete tende aumentar com o preco do produto?\n",
    "- Qual o tempo medio de entrega?\n",
    "- Como foi as vendas por mês?\n",
    "- Quais meses superaram a meta de vendas?\n",
    "- Como foi a venda por mês se comparado ao ano de 2016?"
   ]
  },
  {
   "cell_type": "code",
   "execution_count": null,
   "metadata": {
    "colab": {},
    "colab_type": "code",
    "id": "RluLdJ_BiStQ",
    "outputId": "0964be2e-8b45-40f2-9f1a-5554d1361d13"
   },
   "outputs": [],
   "source": [
    "df.order_status.value_counts().iplot(kind='bar')"
   ]
  },
  {
   "cell_type": "markdown",
   "metadata": {},
   "source": [
    "**Transformando colunas para o formato datetime**"
   ]
  },
  {
   "cell_type": "code",
   "execution_count": null,
   "metadata": {
    "colab": {},
    "colab_type": "code",
    "id": "P58W7uRkiStY"
   },
   "outputs": [],
   "source": [
    "df.order_purchase_timestamp = pd.to_datetime(df.order_purchase_timestamp)"
   ]
  },
  {
   "cell_type": "markdown",
   "metadata": {},
   "source": [
    "**Visualizando as colunas agora em Datetime**"
   ]
  },
  {
   "cell_type": "code",
   "execution_count": null,
   "metadata": {},
   "outputs": [],
   "source": [
    "df.info()"
   ]
  },
  {
   "cell_type": "markdown",
   "metadata": {},
   "source": [
    "- Use o metodo to_periodo() com o ´M´ para obter informações no formato de meses\n",
    "- Criando a coluna order_purchase_month"
   ]
  },
  {
   "cell_type": "code",
   "execution_count": null,
   "metadata": {},
   "outputs": [],
   "source": [
    "df['order_purchase_month'] = df.order_purchase_timestamp.dt.to_period('M').astype(str)"
   ]
  },
  {
   "cell_type": "code",
   "execution_count": null,
   "metadata": {},
   "outputs": [],
   "source": [
    "df.order_purchase_month.head()"
   ]
  },
  {
   "cell_type": "markdown",
   "metadata": {},
   "source": [
    "**Visualizando a nova coluna no dataframe**"
   ]
  },
  {
   "cell_type": "code",
   "execution_count": null,
   "metadata": {},
   "outputs": [],
   "source": [
    "df.head()"
   ]
  },
  {
   "cell_type": "markdown",
   "metadata": {},
   "source": [
    "**Cria a variável `vendas_por_mes` que é a soma do valor dos produtos agrupados por mês**"
   ]
  },
  {
   "cell_type": "code",
   "execution_count": null,
   "metadata": {},
   "outputs": [],
   "source": [
    "vendas_por_mes = df.groupby(by='order_purchase_month').order_products_value.sum()"
   ]
  },
  {
   "cell_type": "code",
   "execution_count": null,
   "metadata": {},
   "outputs": [],
   "source": [
    "type(vendas_por_mes)"
   ]
  },
  {
   "cell_type": "markdown",
   "metadata": {},
   "source": [
    "**visualizando os valores de vendas por mês**"
   ]
  },
  {
   "cell_type": "code",
   "execution_count": null,
   "metadata": {},
   "outputs": [],
   "source": [
    "vendas_por_mes.head()"
   ]
  },
  {
   "cell_type": "code",
   "execution_count": null,
   "metadata": {},
   "outputs": [],
   "source": [
    "vendas_por_mes.index.item"
   ]
  },
  {
   "cell_type": "code",
   "execution_count": null,
   "metadata": {},
   "outputs": [],
   "source": [
    "vendas_por_mes.values"
   ]
  },
  {
   "cell_type": "markdown",
   "metadata": {},
   "source": [
    "**Pontos importantes a lembrar:**\n",
    "- init_notebook_mode()\n",
    "- plotly.offline.iplot()"
   ]
  },
  {
   "cell_type": "markdown",
   "metadata": {},
   "source": [
    "**Importando o plotly**"
   ]
  },
  {
   "cell_type": "code",
   "execution_count": null,
   "metadata": {},
   "outputs": [],
   "source": [
    "import plotly\n",
    "import plotly.graph_objs as go\n",
    "import plotly.offline as py"
   ]
  },
  {
   "cell_type": "code",
   "execution_count": null,
   "metadata": {},
   "outputs": [],
   "source": [
    "# habilita o modo offline\n",
    "plotly.offline.init_notebook_mode(connected=True)"
   ]
  },
  {
   "cell_type": "markdown",
   "metadata": {},
   "source": [
    "**Vendas por mês**"
   ]
  },
  {
   "cell_type": "markdown",
   "metadata": {},
   "source": [
    "- **por padrão o iplot() plota um gráfico de linha, da sentido de valor acumulado**"
   ]
  },
  {
   "cell_type": "code",
   "execution_count": null,
   "metadata": {},
   "outputs": [],
   "source": [
    "import plotly.graph_objs as go\n",
    "\n",
    "data = [go.Scatter(x=vendas_por_mes.index,\n",
    "                   y=vendas_por_mes.values)]\n",
    "\n",
    "py.iplot(data)"
   ]
  },
  {
   "cell_type": "markdown",
   "metadata": {},
   "source": [
    "**Gráfico de Barras**"
   ]
  },
  {
   "cell_type": "markdown",
   "metadata": {},
   "source": [
    "- **Customizando graficos de barras: titulos e labels dos eixos**"
   ]
  },
  {
   "cell_type": "code",
   "execution_count": null,
   "metadata": {},
   "outputs": [],
   "source": [
    "import plotly.offline as py\n",
    "import plotly.graph_objs as go\n",
    "\n",
    "data = [go.Bar(x=vendas_por_mes.index,\n",
    "               y=vendas_por_mes.values,\n",
    "               marker = {'color': 'lightblue'})]\n",
    "\n",
    "# Criando Layout\n",
    "configuracoes_layout = go.Layout(title='Vendas no Periodo',\n",
    "                                 yaxis={'title':'Valores em Vendas'},\n",
    "                                 xaxis={'title': 'Periodo'})\n",
    "\n",
    "# Objeto figura\n",
    "\n",
    "fig = go.Figure(data=data, layout=configuracoes_layout)\n",
    "\n",
    "# plotando o grafico\n",
    "py.iplot(fig)"
   ]
  },
  {
   "cell_type": "markdown",
   "metadata": {},
   "source": [
    "**Definindo ajustes em linhas e cores**"
   ]
  },
  {
   "cell_type": "markdown",
   "metadata": {},
   "source": [
    "- **Parâmetro opacity e width**"
   ]
  },
  {
   "cell_type": "code",
   "execution_count": null,
   "metadata": {},
   "outputs": [],
   "source": [
    "import plotly.offline as py\n",
    "import plotly.graph_objs as go\n",
    "\n",
    "data = [go.Bar(x=vendas_por_mes.index,\n",
    "               y=vendas_por_mes.values,\n",
    "               marker = {'color': 'lightblue',\n",
    "                         'line': {'color': '#333',\n",
    "                                  'width': 2}\n",
    "                        },\n",
    "               opacity= 0.7\n",
    "              )\n",
    "       ]\n",
    "\n",
    "# Criando Layout\n",
    "configuracoes_layout = go.Layout(title='Vendas no Periodo',\n",
    "                                 yaxis={'title':'Valores em Vendas'},\n",
    "                                 xaxis={'title':'Periodo'})\n",
    "\n",
    "# Objeto figura\n",
    "\n",
    "fig = go.Figure(data=data, layout=configuracoes_layout)\n",
    "\n",
    "# plotando o grafico\n",
    "py.iplot(fig)"
   ]
  },
  {
   "cell_type": "markdown",
   "metadata": {},
   "source": [
    "**Destacando uma barras**"
   ]
  },
  {
   "cell_type": "code",
   "execution_count": null,
   "metadata": {},
   "outputs": [],
   "source": [
    "cores = []"
   ]
  },
  {
   "cell_type": "code",
   "execution_count": null,
   "metadata": {},
   "outputs": [],
   "source": [
    "vendas_por_mes.index"
   ]
  },
  {
   "cell_type": "code",
   "execution_count": null,
   "metadata": {},
   "outputs": [],
   "source": [
    "vendas_por_mes"
   ]
  },
  {
   "cell_type": "markdown",
   "metadata": {},
   "source": [
    "**Valor de média para ser testado**"
   ]
  },
  {
   "cell_type": "code",
   "execution_count": null,
   "metadata": {},
   "outputs": [],
   "source": [
    "media = vendas_por_mes.values.mean()"
   ]
  },
  {
   "cell_type": "code",
   "execution_count": null,
   "metadata": {},
   "outputs": [],
   "source": [
    "media"
   ]
  },
  {
   "cell_type": "markdown",
   "metadata": {},
   "source": [
    "**Alimentando a lista de cores**"
   ]
  },
  {
   "cell_type": "code",
   "execution_count": null,
   "metadata": {},
   "outputs": [],
   "source": [
    "# se o valor de vendas do mês for menor que a média a lista de cor será vermelha, senão azul.\n",
    "for x in vendas_por_mes.values:\n",
    "    if x < media:\n",
    "        cores.append('red')\n",
    "    else:\n",
    "        cores.append('lightblue')"
   ]
  },
  {
   "cell_type": "markdown",
   "metadata": {},
   "source": [
    "**Visualizando a lista de cores**"
   ]
  },
  {
   "cell_type": "code",
   "execution_count": null,
   "metadata": {},
   "outputs": [],
   "source": [
    "cores"
   ]
  },
  {
   "cell_type": "markdown",
   "metadata": {},
   "source": [
    "**Gráficos de Vendas no Periodo**"
   ]
  },
  {
   "cell_type": "code",
   "execution_count": null,
   "metadata": {},
   "outputs": [],
   "source": [
    "import plotly.offline as py\n",
    "import plotly.graph_objs as go\n",
    "\n",
    "data = [go.Bar(x=vendas_por_mes.index,\n",
    "               y=vendas_por_mes.values,\n",
    "               marker = {'color': cores,  #lista de cores\n",
    "                         'line': {'color': '#333',\n",
    "                                  'width': 2}\n",
    "                        },\n",
    "               opacity= 0.7\n",
    "              )\n",
    "       ]\n",
    "\n",
    "# Criando Layout\n",
    "configuracoes_layout = go.Layout(title='Vendas no Periodo',\n",
    "                                 yaxis={'title':'Valores em Vendas'},\n",
    "                                 xaxis={'title':'Periodo'})\n",
    "\n",
    "# Objeto figura\n",
    "\n",
    "fig = go.Figure(data=data, layout=configuracoes_layout)\n",
    "\n",
    "# plotando o grafico\n",
    "py.iplot(fig, filename='Meses que nao superaram a meta de vendas')"
   ]
  },
  {
   "cell_type": "markdown",
   "metadata": {},
   "source": [
    "**Destaca a barra com o maior valor e minimiza a visao de todas as outras**"
   ]
  },
  {
   "cell_type": "code",
   "execution_count": null,
   "metadata": {},
   "outputs": [],
   "source": [
    "maximo_de_vendas = vendas_por_mes.values.max()"
   ]
  },
  {
   "cell_type": "code",
   "execution_count": null,
   "metadata": {},
   "outputs": [],
   "source": [
    "maximo_de_vendas"
   ]
  },
  {
   "cell_type": "markdown",
   "metadata": {},
   "source": [
    "**Alimenta a lista de cores**"
   ]
  },
  {
   "cell_type": "code",
   "execution_count": null,
   "metadata": {},
   "outputs": [],
   "source": [
    "cores = []\n",
    "for x,y in zip(vendas_por_mes.values, vendas_por_mes.index):\n",
    "    if x == maximo_de_vendas:\n",
    "        mes_maximo_de_vendas = y\n",
    "        cores.append('blue')\n",
    "    else:\n",
    "        cores.append('lightgray')"
   ]
  },
  {
   "cell_type": "code",
   "execution_count": null,
   "metadata": {},
   "outputs": [],
   "source": [
    "mes_maximo_de_vendas"
   ]
  },
  {
   "cell_type": "code",
   "execution_count": null,
   "metadata": {},
   "outputs": [],
   "source": [
    "cores"
   ]
  },
  {
   "cell_type": "markdown",
   "metadata": {},
   "source": [
    "**Plota o gráfico de vendas com um destaque de cor e anotação para o mês que teve mais vendas**"
   ]
  },
  {
   "cell_type": "code",
   "execution_count": null,
   "metadata": {},
   "outputs": [],
   "source": [
    "import plotly.offline as py\n",
    "import plotly.graph_objs as go\n",
    "\n",
    "data = [go.Bar(x=vendas_por_mes.index,\n",
    "               y=vendas_por_mes.values,\n",
    "               marker = {'color': cores,\n",
    "                         'line': {'color': '#333',\n",
    "                                 'width': 2}\n",
    "                        },\n",
    "               opacity= 0.7\n",
    "              )\n",
    "       ]\n",
    "\n",
    "# Criando Layout\n",
    "configuracoes_layout = go.Layout(title='Vendas no Periodo',\n",
    "                                 yaxis={'title':'Valores em Vendas'},\n",
    "                                 xaxis={'title': 'Periodo'},\n",
    "                                 # texto na barra de destaque\n",
    "                                 annotations = [{'text':'Mês destaque de vendas',\n",
    "                                                'x':mes_maximo_de_vendas,\n",
    "                                                'y':maximo_de_vendas}\n",
    "                                               ]\n",
    "                                                                                              \n",
    "                                )\n",
    "\n",
    "# Objeto figura\n",
    "\n",
    "fig = go.Figure(data=data, layout=configuracoes_layout)\n",
    "\n",
    "# plotando o grafico\n",
    "py.iplot(fig, filename='Mes destaque de vendas')"
   ]
  },
  {
   "cell_type": "markdown",
   "metadata": {},
   "source": [
    "**Visualizando duas informações no mesmo gráfico**"
   ]
  },
  {
   "cell_type": "markdown",
   "metadata": {},
   "source": [
    "- `Vamos definir alguns valores ficticios para vendas do ano anterior`"
   ]
  },
  {
   "cell_type": "code",
   "execution_count": null,
   "metadata": {},
   "outputs": [],
   "source": [
    "vendas_ano_anterior = vendas_por_mes - 10000.00"
   ]
  },
  {
   "cell_type": "markdown",
   "metadata": {},
   "source": [
    "**Gráfico de barras aninhadas**"
   ]
  },
  {
   "cell_type": "code",
   "execution_count": null,
   "metadata": {},
   "outputs": [],
   "source": [
    "import plotly.offline as py\n",
    "import plotly.graph_objs as go\n",
    "\n",
    "data = [go.Bar(x=vendas_por_mes.index,\n",
    "               y=vendas_por_mes.values,\n",
    "               marker = {'color': cores,\n",
    "                         'line': {'color': '#333',\n",
    "                                  'width': 2}\n",
    "                        },\n",
    "               opacity= 0.7,\n",
    "               name='2017'\n",
    "              ),\n",
    "# definindo outro plot de barras com valores dos meses passados\n",
    "        \n",
    "        go.Bar(x=vendas_ano_anterior.index,\n",
    "               y=vendas_ano_anterior.values,\n",
    "               name='2016',\n",
    "               marker = {'color': 'lightgreen',\n",
    "                         'line': {'color': '#333',\n",
    "                                  'width': 2}\n",
    "                        },\n",
    "               opacity= 0.7\n",
    "              )\n",
    "              \n",
    "       ]\n",
    "\n",
    "# Criando Layout\n",
    "configuracoes_layout = go.Layout(title='Vendas no Periodo',\n",
    "                                 yaxis={'title':'Valores em Vendas'},\n",
    "                                 xaxis={'title': 'Periodo'},\n",
    "                                 annotations = [{'text':'Mês destaque de vendas',\n",
    "                                                'x':mes_maximo_de_vendas,\n",
    "                                                'y':maximo_de_vendas}\n",
    "                                               ]                       \n",
    "                                \n",
    "                                )\n",
    "\n",
    "# Objeto figura\n",
    "\n",
    "fig = go.Figure(data=data, layout=configuracoes_layout)\n",
    "\n",
    "# plotando o grafico\n",
    "py.iplot(fig, filename='Vendas no periodo 2017 e 2016')"
   ]
  },
  {
   "cell_type": "markdown",
   "metadata": {},
   "source": [
    "**Vendas por categorias de produtos**\n",
    "- **Conta quantos produtos por categoria e coloca dentro da variável vendas_produto_por_categoria**"
   ]
  },
  {
   "cell_type": "code",
   "execution_count": null,
   "metadata": {},
   "outputs": [],
   "source": [
    "vendas_produto_por_categoria =  df.groupby(by='product_category_name').id.count()"
   ]
  },
  {
   "cell_type": "code",
   "execution_count": null,
   "metadata": {},
   "outputs": [],
   "source": [
    "vendas_produto_por_categoria"
   ]
  },
  {
   "cell_type": "markdown",
   "metadata": {},
   "source": [
    "**Filtra categorias com quantidade de vendas maiores que 1**"
   ]
  },
  {
   "cell_type": "code",
   "execution_count": null,
   "metadata": {},
   "outputs": [],
   "source": [
    "vendas_produto_por_categoria = vendas_produto_por_categoria.loc[vendas_produto_por_categoria.values >1]"
   ]
  },
  {
   "cell_type": "markdown",
   "metadata": {},
   "source": [
    "**Ordena valores do maior para o menor**"
   ]
  },
  {
   "cell_type": "code",
   "execution_count": null,
   "metadata": {},
   "outputs": [],
   "source": [
    "vendas_produto_por_categoria.sort_values(ascending=False,inplace=True)"
   ]
  },
  {
   "cell_type": "markdown",
   "metadata": {},
   "source": [
    "**Plota gráfico de barras verticais**"
   ]
  },
  {
   "cell_type": "code",
   "execution_count": null,
   "metadata": {},
   "outputs": [],
   "source": [
    "import plotly.offline as py\n",
    "import plotly.graph_objs as go\n",
    "\n",
    "trace0 = go.Bar(y=vendas_produto_por_categoria.values,\n",
    "                x=vendas_produto_por_categoria.index,\n",
    "                marker = {'color': '#00FF2A'},\n",
    "                orientation='v'\n",
    "              )\n",
    "\n",
    "data = [trace0]\n",
    "\n",
    "# Criando Layout\n",
    "configuracoes_layout = go.Layout(title='Vendas por categoria de Produtos',\n",
    "                   xaxis=dict(\n",
    "                         titlefont=dict(\n",
    "                                   size=40,\n",
    "                                   color='lightgrey'),\n",
    "                   tickangle=75),\n",
    "                   yaxis={'title': 'Quantidade vendida'})\n",
    "\n",
    "# Objeto figura\n",
    "\n",
    "fig = go.Figure(data=data, layout=configuracoes_layout)\n",
    "\n",
    "# plotando o grafico\n",
    "py.iplot(fig)"
   ]
  },
  {
   "cell_type": "markdown",
   "metadata": {},
   "source": [
    "**Alterando Faixa de valores dos eixos somando 10% ao valor máximo**"
   ]
  },
  {
   "cell_type": "code",
   "execution_count": null,
   "metadata": {},
   "outputs": [],
   "source": [
    "max(vendas_produto_por_categoria.values) * 1.10"
   ]
  },
  {
   "cell_type": "code",
   "execution_count": null,
   "metadata": {},
   "outputs": [],
   "source": [
    "import plotly.offline as py\n",
    "import plotly.graph_objs as go\n",
    "\n",
    "trace0 = go.Bar(y=vendas_produto_por_categoria.values,\n",
    "                x=vendas_produto_por_categoria.index,\n",
    "                marker = {'color': '#00FF2A'},\n",
    "                orientation='v'\n",
    "              )\n",
    "\n",
    "data = [trace0]\n",
    "\n",
    "# Criando Layout\n",
    "configuracoes_layout = go.Layout(title='Vendas por categoria de Produtos',\n",
    "                   xaxis=dict(\n",
    "                         titlefont=dict(\n",
    "                                   size=40,\n",
    "                                   color='lightgrey'),\n",
    "                                   tickangle=75),\n",
    "                   \n",
    "                   # valor maximo da faixa + 10%\n",
    "                   yaxis={'title': 'Quantidade vendida',\n",
    "                          'range':[0,max(vendas_produto_por_categoria.values) * 1.10]\n",
    "                         })\n",
    "\n",
    "# Objeto figura\n",
    "\n",
    "fig = go.Figure(data=data, layout=configuracoes_layout)\n",
    "                   \n",
    "# plotando o grafico\n",
    "py.iplot(fig, filename='Vendas por categoria de Produtos')"
   ]
  },
  {
   "cell_type": "markdown",
   "metadata": {},
   "source": [
    "**Valor de Frete vs Valor de Produto: Existe alguma tendencia?**"
   ]
  },
  {
   "cell_type": "code",
   "execution_count": null,
   "metadata": {},
   "outputs": [],
   "source": [
    "# Criando gráfico\n",
    "trace = go.Scatter(x = df['order_freight_value'],\n",
    "                   y = df['order_products_value'],\n",
    "                   mode = 'markers',\n",
    "                   marker = {'color':'#941229'}\n",
    "                  )\n",
    "# Armazenando gráfico em uma lista\n",
    "data = [trace]\n",
    "\n",
    "# Criando Layout\n",
    "layout = go.Layout(title='Valor de Frete x Valor de Produto',\n",
    "                   yaxis={'title':'Valor do Produto'},\n",
    "                   xaxis={'title': 'Valor do Frete'})\n",
    "\n",
    "# Criando figura que será exibida\n",
    "fig = go.Figure(data=data, layout=layout)\n",
    "\n",
    "py.iplot(fig)"
   ]
  },
  {
   "cell_type": "markdown",
   "metadata": {},
   "source": [
    "**Usando o parâmetro text na visualização (parâmetro hover)**"
   ]
  },
  {
   "cell_type": "code",
   "execution_count": null,
   "metadata": {},
   "outputs": [],
   "source": [
    "# Criando gráfico\n",
    "trace = go.Scatter(x = df['order_freight_value'],\n",
    "                   y = df['order_products_value'],\n",
    "                   mode = 'markers',\n",
    "                   # customização do texto a ser exibido no hover\n",
    "                   text = 'Status do pedido: '+ df['order_status'] +\n",
    "                           '<br>' + 'Classe: '+ df['most_voted_class']\n",
    "                   ,\n",
    "                   # exibição do hover\n",
    "                   hoverinfo='text+x+y',\n",
    "                   marker = {'color':'#941229'}\n",
    "                  )\n",
    "# Armazenando gráfico em uma lista\n",
    "data = [trace]\n",
    "\n",
    "# Criando Layout\n",
    "layout = go.Layout(title='Valor de Frete x Valor de Produto',\n",
    "                   yaxis={'title':'Valor do Produto'},\n",
    "                   xaxis={'title': 'Valor do Frete'})\n",
    "\n",
    "# Criando figura que será exibida\n",
    "fig = go.Figure(data=data, layout=layout)\n",
    "\n",
    "py.iplot(fig)"
   ]
  },
  {
   "cell_type": "markdown",
   "metadata": {},
   "source": [
    "**Customizacao dos eixos com formato em reais R$**"
   ]
  },
  {
   "cell_type": "code",
   "execution_count": null,
   "metadata": {},
   "outputs": [],
   "source": [
    "# Criando gráfico\n",
    "trace = go.Scatter(x = df['order_freight_value'],\n",
    "                   y = df['order_products_value'],\n",
    "                   mode = 'markers',\n",
    "                   # customização do texto a ser exibido no hover\n",
    "                   text = 'Status do pedido: '+ df['order_status'] +\n",
    "                           '<br>' + 'Classe: '+ df['most_voted_class']\n",
    "                   ,\n",
    "                   # exibição do hover\n",
    "                   hoverinfo='text+x+y',\n",
    "                   marker = {'color':'#941229'}\n",
    "                  )\n",
    "# Armazenando gráfico em uma lista\n",
    "data = [trace]\n",
    "\n",
    "# Criando Layout\n",
    "layout = go.Layout(title='Valor de Frete x Valor de Produto',\n",
    "\n",
    "                   # Definindo exibicao dos eixos x e y\n",
    "                   yaxis={'title':'Valor do Produto', \n",
    "                          'tickformat':'.', \n",
    "                          'tickprefix':'R$ '},\n",
    "                   xaxis={'title': 'Valor do Frete',\n",
    "                          'tickformat':'.', \n",
    "                          'tickprefix':'R$ '})\n",
    "\n",
    "# Criando figura que será exibida\n",
    "fig = go.Figure(data=data, layout=layout)\n",
    "\n",
    "py.iplot(fig)"
   ]
  },
  {
   "cell_type": "markdown",
   "metadata": {},
   "source": [
    "**Grafico de Bolhas: Valor de Frete vs Valor do Produto por numero de vendedores**"
   ]
  },
  {
   "cell_type": "code",
   "execution_count": null,
   "metadata": {},
   "outputs": [],
   "source": [
    "# Criando gráfico\n",
    "trace = go.Scatter(x = df['order_freight_value'],\n",
    "                   y = df['order_products_value'],\n",
    "                   mode = 'markers',\n",
    "                   # customização do texto a ser exibido no hover\n",
    "                   text = 'Status do pedido: '+ df['order_status'] +\n",
    "                           '<br>' + 'Classe: '+ df['most_voted_class']\n",
    "                   ,\n",
    "                   # exibição do hover\n",
    "                   hoverinfo='text+x+y',\n",
    "                   \n",
    "                   # parametro size e sizemode especifica o comportamento dos pontos\n",
    "                   marker = {'color':'#941229',\n",
    "                             'size': df['order_sellers_qty']*10,\n",
    "                             'sizemode':'area'\n",
    "                             }\n",
    "                  )\n",
    "# Armazenando gráfico em uma lista\n",
    "data = [trace]\n",
    "\n",
    "# Criando Layout\n",
    "layout = go.Layout(title='Valor de Frete x Valor de Produto',\n",
    "\n",
    "                   # Definindo exibicao dos eixos x e y\n",
    "                   yaxis={'title':'Valor do Produto', \n",
    "                          'tickformat':'.', \n",
    "                          'tickprefix':'R$ '},\n",
    "                   xaxis={'title': 'Valor do Frete',\n",
    "                          'tickformat':'.', \n",
    "                          'tickprefix':'R$ '})\n",
    "\n",
    "# Criando figura que será exibida\n",
    "fig = go.Figure(data=data, layout=layout)\n",
    "\n",
    "py.iplot(fig, filename='Valor de Frete por Valor de Produto')"
   ]
  },
  {
   "cell_type": "markdown",
   "metadata": {},
   "source": [
    "**Valor de Frete vs Valor de Produto por status de entrega**"
   ]
  },
  {
   "cell_type": "code",
   "execution_count": null,
   "metadata": {},
   "outputs": [],
   "source": [
    "df.iplot(x='order_freight_value',\n",
    "         y='order_products_value', \n",
    "         categories='most_voted_subclass',\n",
    "         title='Valor de Frete vs Valor de Produto',\n",
    "         xTitle='Valor de Frete',\n",
    "         yTitle='Valor Produto')"
   ]
  },
  {
   "cell_type": "markdown",
   "metadata": {},
   "source": [
    "**Quantidade em média de items de um pedido**"
   ]
  },
  {
   "cell_type": "code",
   "execution_count": null,
   "metadata": {},
   "outputs": [],
   "source": [
    "data = [go.Histogram(x=df.order_items_qty)]\n",
    "\n",
    "layout = go.Layout(title='Quantidade média de itens de um pedido')\n",
    "\n",
    "fig = go.Figure(data=data, layout=layout)\n",
    "\n",
    "py.iplot(fig)"
   ]
  },
  {
   "cell_type": "markdown",
   "metadata": {},
   "source": [
    "**Quantidade média de vendedores de um pedido**"
   ]
  },
  {
   "cell_type": "code",
   "execution_count": null,
   "metadata": {},
   "outputs": [],
   "source": [
    "trace1 = go.Histogram(x=df.order_items_qty,\n",
    "                     name='itens',\n",
    "                     opacity=0.75)\n",
    "\n",
    "trace2 = go.Histogram(x=df.order_sellers_qty,\n",
    "                     name='vendedores',\n",
    "                     opacity=0.75)\n",
    "\n",
    "layout = go.Layout(title='Quantidade de itens e Vendedores por pedido',\n",
    "                   barmode='overlay'\n",
    "                  )\n",
    "\n",
    "dados = [trace1, trace2]\n",
    "\n",
    "fig = go.Figure(data=dados, layout=layout)\n",
    "\n",
    "py.iplot(fig, filename='Quantidade de itens e vendedores por pedido')"
   ]
  },
  {
   "cell_type": "markdown",
   "metadata": {},
   "source": [
    "**Plotando um gráfico de pizzaa**\n",
    "- **Qual a distribuição da classificação dos pedidos pelos clientes?**"
   ]
  },
  {
   "cell_type": "code",
   "execution_count": null,
   "metadata": {},
   "outputs": [],
   "source": [
    "df.order_status.value_counts()"
   ]
  },
  {
   "cell_type": "code",
   "execution_count": null,
   "metadata": {},
   "outputs": [],
   "source": [
    "classes_mais_votadas = df.groupby(by='most_voted_class').id.count()"
   ]
  },
  {
   "cell_type": "code",
   "execution_count": null,
   "metadata": {},
   "outputs": [],
   "source": [
    "classes_mais_votadas"
   ]
  },
  {
   "cell_type": "code",
   "execution_count": null,
   "metadata": {},
   "outputs": [],
   "source": [
    "# mesmo resultado do codigo acima\n",
    "classes_mais_votadas = df.most_voted_class.value_counts()"
   ]
  },
  {
   "cell_type": "code",
   "execution_count": null,
   "metadata": {},
   "outputs": [],
   "source": [
    "# Criando gráfico\n",
    "\n",
    "trace = go.Pie(labels = classes_mais_votadas.index,\n",
    "               values = classes_mais_votadas.values\n",
    "              )\n",
    "\n",
    "# Armazenando gráfico em uma lista\n",
    "\n",
    "data = [trace]\n",
    "\n",
    "# Criando Layout\n",
    "\n",
    "layout = go.Layout(title='Classificação de Clientes sobre Pedidos')\n",
    "\n",
    "# Criando figura que será exibida\n",
    "fig = go.Figure(data=data, layout=layout)\n",
    "\n",
    "py.iplot(fig)"
   ]
  },
  {
   "cell_type": "markdown",
   "metadata": {},
   "source": [
    "**Parametro direction**"
   ]
  },
  {
   "cell_type": "code",
   "execution_count": null,
   "metadata": {},
   "outputs": [],
   "source": [
    "# Criando gráfico\n",
    "\n",
    "trace = go.Pie(labels = classes_mais_votadas.index,\n",
    "               values = classes_mais_votadas.values,\n",
    "               direction='clockwise'\n",
    "              )\n",
    "\n",
    "# Armazenando gráfico em uma lista\n",
    "\n",
    "data = [trace]\n",
    "\n",
    "# Criando Layout\n",
    "\n",
    "layout = go.Layout(title='Classificação de Clientes sobre Pedidos')\n",
    "\n",
    "# Criando figura que será exibida\n",
    "fig = go.Figure(data=data, layout=layout)\n",
    "\n",
    "py.iplot(fig)"
   ]
  },
  {
   "cell_type": "markdown",
   "metadata": {},
   "source": [
    "**Customizando gráficos de pizza**"
   ]
  },
  {
   "cell_type": "code",
   "execution_count": null,
   "metadata": {},
   "outputs": [],
   "source": [
    "# Criando gráfico\n",
    "\n",
    "cores = ['#96D38C','#FEBFB3','#E1396C']\n",
    "\n",
    "\n",
    "trace = go.Pie(labels = classes_mais_votadas.index,\n",
    "               values = classes_mais_votadas.values,\n",
    "               marker = {'colors': cores},\n",
    "               direction='clockwise'\n",
    "              )\n",
    "\n",
    "# Armazenando gráfico em uma lista\n",
    "\n",
    "data = [trace]\n",
    "\n",
    "# Criando Layout\n",
    "\n",
    "layout = go.Layout(title='Classificação de Clientes sobre Pedidos')\n",
    "\n",
    "# Criando figura que será exibida\n",
    "fig = go.Figure(data=data, layout=layout)\n",
    "\n",
    "py.iplot(fig)"
   ]
  },
  {
   "cell_type": "markdown",
   "metadata": {},
   "source": [
    "**Adicionando linha de contorno, cores**"
   ]
  },
  {
   "cell_type": "code",
   "execution_count": null,
   "metadata": {},
   "outputs": [],
   "source": [
    "# Criando gráfico\n",
    "\n",
    "cores = ['#96D38C','#FEBFB3','#E1396C']\n",
    "\n",
    "\n",
    "trace = go.Pie(labels = classes_mais_votadas.index,\n",
    "               values = classes_mais_votadas.values,\n",
    "               marker = {'colors': cores, \n",
    "                         'line' : {'color':'#000000','width':2}\n",
    "                        },\n",
    "               hoverinfo='label+percent+value',\n",
    "               direction='clockwise'\n",
    "              )\n",
    "\n",
    "# Armazenando gráfico em uma lista\n",
    "\n",
    "data = [trace]\n",
    "\n",
    "# Criando Layout\n",
    "\n",
    "layout = go.Layout(title='Classificação de Clientes sobre Pedidos')\n",
    "\n",
    "# Criando figura que será exibida\n",
    "fig = go.Figure(data=data, layout=layout)\n",
    "\n",
    "py.iplot(fig)"
   ]
  },
  {
   "cell_type": "markdown",
   "metadata": {},
   "source": [
    "**Destacando porções do gráfico**"
   ]
  },
  {
   "cell_type": "code",
   "execution_count": null,
   "metadata": {},
   "outputs": [],
   "source": [
    "# Criando gráfico\n",
    "\n",
    "cores = ['#96D38C','#FEBFB3','#E1396C']\n",
    "\n",
    "\n",
    "trace = go.Pie(labels = classes_mais_votadas.index,\n",
    "               values = classes_mais_votadas.values,\n",
    "               marker = {'colors': cores, \n",
    "                         'line' : {'color':'#000000','width':2}\n",
    "                        },\n",
    "               hoverinfo='label+percent+value',\n",
    "               pull=[0,0,0.1],\n",
    "               direction='clockwise'\n",
    "              )\n",
    "\n",
    "# Armazenando gráfico em uma lista\n",
    "\n",
    "data = [trace]\n",
    "\n",
    "# Criando Layout\n",
    "\n",
    "layout = go.Layout(title='Classificação de Clientes sobre Pedidos')\n",
    "\n",
    "# Criando figura que será exibida\n",
    "fig = go.Figure(data=data, layout=layout)\n",
    "\n",
    "py.iplot(fig)"
   ]
  },
  {
   "cell_type": "markdown",
   "metadata": {},
   "source": [
    "**Não se esqueça de habilitar o modo offline**"
   ]
  },
  {
   "cell_type": "code",
   "execution_count": null,
   "metadata": {},
   "outputs": [],
   "source": [
    "import plotly.offline as py\n",
    "import plotly.graph_objs as go"
   ]
  },
  {
   "cell_type": "markdown",
   "metadata": {},
   "source": [
    "**Definindo cores das partes do gráfico de pizza**"
   ]
  },
  {
   "cell_type": "code",
   "execution_count": null,
   "metadata": {},
   "outputs": [],
   "source": [
    "# Criando gráfico\n",
    "\n",
    "cores = ['#96D38C','#FEBFB3','#E1396C']\n",
    "\n",
    "\n",
    "trace = go.Pie(labels = classes_mais_votadas.index,\n",
    "               values = classes_mais_votadas.values,\n",
    "               marker = {'colors': cores, \n",
    "                         'line' : {'color':'#000000','width':2}\n",
    "                        },\n",
    "               hoverinfo='label+percent+value',\n",
    "               pull=[0,0,0.1]\n",
    "              )\n",
    "\n",
    "# Armazenando gráfico em uma lista\n",
    "\n",
    "data = [trace]\n",
    "\n",
    "# Criando Layout\n",
    "\n",
    "layout = go.Layout(title='Classificação de Clientes sobre Pedidos')\n",
    "\n",
    "# Criando figura que será exibida\n",
    "fig = go.Figure(data=data, layout=layout)\n",
    "\n",
    "py.iplot(fig, filename='Classificação de Clientes sobre Pedidos')"
   ]
  },
  {
   "cell_type": "markdown",
   "metadata": {},
   "source": [
    "**Exportando nosso gráfico para conta do Plotly na nuvem**"
   ]
  },
  {
   "cell_type": "markdown",
   "metadata": {},
   "source": [
    "- Criar conta no portal **plot.ly**\n",
    "- Obter credenciais da API\n",
    "- Importa método para plot **online**\n",
    "- Substitua o método iplot() pelo método **plot()**"
   ]
  },
  {
   "cell_type": "markdown",
   "metadata": {},
   "source": [
    "**Configurando credenciais**"
   ]
  },
  {
   "cell_type": "code",
   "execution_count": null,
   "metadata": {},
   "outputs": [],
   "source": [
    "import plotly\n",
    "plotly.tools.set_credentials_file(username='rodrigo.ferreira', api_key='0jXkRZA5Aibh29grrmxJ')"
   ]
  },
  {
   "cell_type": "markdown",
   "metadata": {},
   "source": [
    "**Importando método para plot online**"
   ]
  },
  {
   "cell_type": "code",
   "execution_count": null,
   "metadata": {},
   "outputs": [],
   "source": [
    "import plotly.plotly as pyo"
   ]
  },
  {
   "cell_type": "markdown",
   "metadata": {},
   "source": [
    "## Exercício ##"
   ]
  },
  {
   "cell_type": "markdown",
   "metadata": {},
   "source": [
    "- Usando os conhecimentos adquiridos aqui, crie um dashboard na nuvem do Plot e compartilhe comigo :)\n",
    "- Envie para o e-mail contato@minerandodados.com.br\n",
    "- Lembre-se: Seu Dashboard deve ser usado como seu **portfólio profissional**."
   ]
  }
 ],
 "metadata": {
  "colab": {
   "name": "Visualizacao-Plotly-01.ipynb",
   "provenance": [],
   "version": "0.3.2"
  },
  "kernelspec": {
   "display_name": "Python 3 (ipykernel)",
   "language": "python",
   "name": "python3"
  },
  "language_info": {
   "codemirror_mode": {
    "name": "ipython",
    "version": 3
   },
   "file_extension": ".py",
   "mimetype": "text/x-python",
   "name": "python",
   "nbconvert_exporter": "python",
   "pygments_lexer": "ipython3",
   "version": "3.9.13"
  }
 },
 "nbformat": 4,
 "nbformat_minor": 1
}
